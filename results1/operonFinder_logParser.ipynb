{
 "cells": [
  {
   "cell_type": "code",
   "execution_count": null,
   "metadata": {
    "collapsed": true
   },
   "outputs": [],
   "source": []
  },
  {
   "cell_type": "code",
   "execution_count": 1,
   "metadata": {
    "collapsed": true
   },
   "outputs": [],
   "source": [
    "with open('4664_files_log.txt', 'r') as f:\n",
    "    log=f.read()\n"
   ]
  },
  {
   "cell_type": "code",
   "execution_count": 4,
   "metadata": {
    "collapsed": false
   },
   "outputs": [],
   "source": [
    "#print(log)"
   ]
  },
  {
   "cell_type": "code",
   "execution_count": 5,
   "metadata": {
    "collapsed": true
   },
   "outputs": [],
   "source": [
    "import re"
   ]
  },
  {
   "cell_type": "code",
   "execution_count": 22,
   "metadata": {
    "collapsed": false
   },
   "outputs": [],
   "source": [
    "chunks=re.split(r\".*.faa\\n\", log.strip())"
   ]
  },
  {
   "cell_type": "code",
   "execution_count": 23,
   "metadata": {
    "collapsed": false
   },
   "outputs": [
    {
     "data": {
      "text/plain": [
       "4665"
      ]
     },
     "execution_count": 23,
     "metadata": {},
     "output_type": "execute_result"
    }
   ],
   "source": [
    "len(chunks)"
   ]
  },
  {
   "cell_type": "code",
   "execution_count": 30,
   "metadata": {
    "collapsed": false
   },
   "outputs": [
    {
     "data": {
      "text/plain": [
       "'128003.assembled.faa'"
      ]
     },
     "execution_count": 30,
     "metadata": {},
     "output_type": "execute_result"
    }
   ],
   "source": [
    "chunks[4664].split()[2].split(\"/\")[-1]"
   ]
  },
  {
   "cell_type": "code",
   "execution_count": null,
   "metadata": {
    "collapsed": true
   },
   "outputs": [],
   "source": []
  },
  {
   "cell_type": "code",
   "execution_count": 31,
   "metadata": {
    "collapsed": true
   },
   "outputs": [],
   "source": [
    "s=chunks[4664]"
   ]
  },
  {
   "cell_type": "code",
   "execution_count": 37,
   "metadata": {
    "collapsed": false
   },
   "outputs": [
    {
     "data": {
      "text/plain": [
       "-1"
      ]
     },
     "execution_count": 37,
     "metadata": {},
     "output_type": "execute_result"
    }
   ],
   "source": [
    "s.find('traceback')"
   ]
  },
  {
   "cell_type": "code",
   "execution_count": 41,
   "metadata": {
    "collapsed": false
   },
   "outputs": [
    {
     "name": "stdout",
     "output_type": "stream",
     "text": [
      "processed 4664 files\n",
      "found 81 errors\n"
     ]
    }
   ],
   "source": [
    "counter=0\n",
    "error_counter=0\n",
    "filenames=[]\n",
    "error_filenames=[]\n",
    "for entry in chunks:\n",
    "    \n",
    "    if entry =='':\n",
    "        continue\n",
    "    \n",
    "    input_filename=entry.split()[2].split(\"/\")[-1]\n",
    "    filenames.append(input_filename)\n",
    "    counter+=1\n",
    "    \n",
    "    if (entry.lower().find('error')!=-1 or entry.lower().find('traceback')!=-1):\n",
    "        error_counter+=1\n",
    "        error_filename=entry.split()[2].split(\"/\")[-1]\n",
    "        error_filenames.append(error_filename)\n",
    "        \n",
    "print('processed %d files' % counter)\n",
    "print('found %d errors' % error_counter)\n",
    "        \n",
    "    \n",
    "    "
   ]
  },
  {
   "cell_type": "code",
   "execution_count": 42,
   "metadata": {
    "collapsed": false
   },
   "outputs": [
    {
     "data": {
      "text/plain": [
       "['12902.assembled.faa',\n",
       " '132416.assembled.faa',\n",
       " '132423.assembled.faa',\n",
       " '132429.assembled.faa',\n",
       " '132447.assembled.faa',\n",
       " '132454.assembled.faa',\n",
       " '132964.assembled.faa',\n",
       " '132966.assembled.faa',\n",
       " '132969.assembled.faa',\n",
       " '133135.assembled.faa',\n",
       " '133139.assembled.faa',\n",
       " '133154.assembled.faa',\n",
       " '133942.assembled.faa',\n",
       " '141237.assembled.faa',\n",
       " '141238.assembled.faa',\n",
       " '14367.assembled.faa',\n",
       " '159693.assembled.faa',\n",
       " '159706.assembled.faa',\n",
       " '35102.assembled.faa',\n",
       " '59497.assembled.faa',\n",
       " '59507.assembled.faa',\n",
       " '59508.assembled.faa',\n",
       " '64539.assembled.faa',\n",
       " '65451.assembled.faa',\n",
       " '65863.assembled.faa',\n",
       " '66440.assembled.faa',\n",
       " '66722.assembled.faa',\n",
       " '67491.assembled.faa',\n",
       " '70960.assembled.faa',\n",
       " '71388.assembled.faa',\n",
       " '71389.assembled.faa',\n",
       " '71390.assembled.faa',\n",
       " '71391.assembled.faa',\n",
       " '71392.assembled.faa',\n",
       " '71393.assembled.faa',\n",
       " '71397.assembled.faa',\n",
       " '71398.assembled.faa',\n",
       " '71471.assembled.faa',\n",
       " '71472.assembled.faa',\n",
       " '71473.assembled.faa',\n",
       " '71475.assembled.faa',\n",
       " '71476.assembled.faa',\n",
       " '71518.assembled.faa',\n",
       " '72749.assembled.faa',\n",
       " '72777.assembled.faa',\n",
       " '77181.assembled.faa',\n",
       " '79181.assembled.faa',\n",
       " '80114.assembled.faa',\n",
       " '83879.assembled.faa',\n",
       " '87164.assembled.faa',\n",
       " '88966.assembled.faa',\n",
       " '89681.assembled.faa',\n",
       " '92544.assembled.faa',\n",
       " '92545.assembled.faa',\n",
       " '92546.assembled.faa',\n",
       " '92587.assembled.faa',\n",
       " '92640.assembled.faa',\n",
       " '94767.assembled.faa',\n",
       " '96465.assembled.faa',\n",
       " '96882.assembled.faa',\n",
       " '119742.assembled.faa',\n",
       " '119750.assembled.faa',\n",
       " '119758.assembled.faa',\n",
       " '119770.assembled.faa',\n",
       " '120486.assembled.faa',\n",
       " '120487.assembled.faa',\n",
       " '121102.assembled.faa',\n",
       " '121103.assembled.faa',\n",
       " '121104.assembled.faa',\n",
       " '121116.assembled.faa',\n",
       " '121299.assembled.faa',\n",
       " '121301.assembled.faa',\n",
       " '125967.assembled.faa',\n",
       " '125968.assembled.faa',\n",
       " '125969.assembled.faa',\n",
       " '125970.assembled.faa',\n",
       " '125972.assembled.faa',\n",
       " '125973.assembled.faa',\n",
       " '125974.assembled.faa',\n",
       " '125975.assembled.faa',\n",
       " '125976.assembled.faa']"
      ]
     },
     "execution_count": 42,
     "metadata": {},
     "output_type": "execute_result"
    }
   ],
   "source": [
    "error_filenames"
   ]
  },
  {
   "cell_type": "code",
   "execution_count": null,
   "metadata": {
    "collapsed": true
   },
   "outputs": [],
   "source": []
  }
 ],
 "metadata": {
  "kernelspec": {
   "display_name": "Python [conda env:python3]",
   "language": "python",
   "name": "conda-env-python3-py"
  },
  "language_info": {
   "codemirror_mode": {
    "name": "ipython",
    "version": 3
   },
   "file_extension": ".py",
   "mimetype": "text/x-python",
   "name": "python",
   "nbconvert_exporter": "python",
   "pygments_lexer": "ipython3",
   "version": "3.6.1"
  }
 },
 "nbformat": 4,
 "nbformat_minor": 1
}
