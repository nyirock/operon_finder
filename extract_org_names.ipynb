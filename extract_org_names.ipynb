{
 "cells": [
  {
   "cell_type": "code",
   "execution_count": 1,
   "metadata": {},
   "outputs": [],
   "source": [
    "from Bio import SeqIO\n",
    "\n",
    "\n",
    "import re\n",
    "records = SeqIO.parse(open(\"combined_operons.fasta\"),\"fasta\")\n",
    "\n",
    "records=list(records)\n",
    "for record in records:\n",
    "    #print(record.description)\n",
    "    #re.findall('\\[.*?\\]',s)\n",
    "    org=re.findall('\\[(.*?)\\]', record.description)\n",
    "    if org:\n",
    "        #print(record.id)\n",
    "        name=org[0]\n",
    "        name=\"_\".join(name.split(\" \"))\n",
    "        record.id=name\n",
    "        #print(record.id)\n",
    "        \n",
    "        \n",
    "with open('combined_operons_rn.fasta', \"w\") as output_handle:\n",
    "            SeqIO.write(records, output_handle, \"fasta\")"
   ]
  },
  {
   "cell_type": "code",
   "execution_count": null,
   "metadata": {},
   "outputs": [],
   "source": []
  }
 ],
 "metadata": {
  "kernelspec": {
   "display_name": "Python 2",
   "language": "python",
   "name": "python2"
  },
  "language_info": {
   "codemirror_mode": {
    "name": "ipython",
    "version": 2
   },
   "file_extension": ".py",
   "mimetype": "text/x-python",
   "name": "python",
   "nbconvert_exporter": "python",
   "pygments_lexer": "ipython2",
   "version": "2.7.6"
  }
 },
 "nbformat": 4,
 "nbformat_minor": 2
}
