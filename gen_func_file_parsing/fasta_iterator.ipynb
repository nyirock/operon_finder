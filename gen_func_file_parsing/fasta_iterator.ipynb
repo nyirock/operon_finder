{
 "cells": [
  {
   "cell_type": "code",
   "execution_count": 1,
   "metadata": {
    "collapsed": true
   },
   "outputs": [],
   "source": [
    "def batch_iterator(iterator, batch_size):\n",
    "    \"\"\"Returns lists of length batch_size.\n",
    "\n",
    "    This can be used on any iterator, for example to batch up\n",
    "    SeqRecord objects from Bio.SeqIO.parse(...), or to batch\n",
    "    Alignment objects from Bio.AlignIO.parse(...), or simply\n",
    "    lines from a file handle.\n",
    "\n",
    "    This is a generator function, and it returns lists of the\n",
    "    entries from the supplied iterator.  Each list will have\n",
    "    batch_size entries, although the final list may be shorter.\n",
    "    \"\"\"\n",
    "    entry = True  # Make sure we loop once\n",
    "    while entry:\n",
    "        batch = []\n",
    "        while len(batch) < batch_size:\n",
    "            try:\n",
    "                entry = iterator.next()\n",
    "            except StopIteration:\n",
    "                entry = None\n",
    "            if entry is None:\n",
    "                # End of file\n",
    "                break\n",
    "            batch.append(entry)\n",
    "        if batch:\n",
    "            yield batch\n",
    "\n"
   ]
  },
  {
   "cell_type": "code",
   "execution_count": 9,
   "metadata": {
    "collapsed": false
   },
   "outputs": [
    {
     "name": "stdout",
     "output_type": "stream",
     "text": [
      "Wrote 500 records to group_1.fasta\n",
      "Wrote 500 records to group_2.fasta\n",
      "Wrote 500 records to group_3.fasta\n",
      "Wrote 500 records to group_4.fasta\n",
      "Wrote 500 records to group_5.fasta\n",
      "Wrote 500 records to group_6.fasta\n",
      "Wrote 500 records to group_7.fasta\n",
      "Wrote 391 records to group_8.fasta\n",
      "CPU times: user 93 ms, sys: 7.56 ms, total: 101 ms\n",
      "Wall time: 109 ms\n"
     ]
    }
   ],
   "source": [
    "%%time\n",
    "from Bio import SeqIO\n",
    "\n",
    "record_iter = SeqIO.parse(open(\"../2517287028.genes.faa\"),\"fasta\")#m.rosea\n",
    "for i, batch in enumerate(batch_iterator(record_iter, 1000)):\n",
    "    filename = \"group_%i.fasta\" % (i + 1)\n",
    "    with open(filename, \"w\") as handle:\n",
    "        count = SeqIO.write(batch, handle, \"fasta\")\n",
    "    print(\"Wrote %i records to %s\" % (count, filename))\n",
    "\n"
   ]
  },
  {
   "cell_type": "code",
   "execution_count": null,
   "metadata": {
    "collapsed": true
   },
   "outputs": [],
   "source": []
  },
  {
   "cell_type": "code",
   "execution_count": 321,
   "metadata": {
    "collapsed": false
   },
   "outputs": [
    {
     "data": {
      "text/plain": [
       "'/tmp/tmpSqwnnp'"
      ]
     },
     "execution_count": 321,
     "metadata": {},
     "output_type": "execute_result"
    }
   ],
   "source": [
    "files[0][1].name"
   ]
  },
  {
   "cell_type": "code",
   "execution_count": null,
   "metadata": {
    "collapsed": true
   },
   "outputs": [],
   "source": []
  },
  {
   "cell_type": "code",
   "execution_count": 326,
   "metadata": {
    "collapsed": false
   },
   "outputs": [
    {
     "name": "stdout",
     "output_type": "stream",
     "text": [
      "ID: 2517401456\n",
      "Name: 2517401456\n",
      "Description: 2517401456 A3OODRAFT_0323 methane monooxygenase/ammonia monooxygenase, subunit C [Methylocystis rosea SV97T]\n",
      "Number of features: 0\n",
      "Seq('MSVTTQSAAGAMDRAQPIVELKGMWIGLAVLNGFYLVVRIYEQIYGWRAGLDSF...SSC', SingleLetterAlphabet())\n",
      "CPU times: user 4.34 ms, sys: 21 µs, total: 4.36 ms\n",
      "Wall time: 4.31 ms\n"
     ]
    }
   ],
   "source": [
    "%%time\n",
    "\n",
    "\n",
    "with open('/tmp/tmpSqwnnp') as handle:\n",
    "    #m.rosea\n",
    "    record_dict = SeqIO.index(\"example.fasta\", \"fasta\")\n",
    "    print(record_dict[\"2517401456\"])\n",
    "\n",
    "\n",
    "\n",
    "    \n",
    "    #     filename = \"group_%i.fasta\" % (i + 1)\n",
    "#     with open(filename, \"w\") as handle:\n",
    "#         count = SeqIO.write(batch, handle, \"fasta\")\n",
    "#     print(\"Wrote %i records to %s\" % (count, filename))"
   ]
  },
  {
   "cell_type": "markdown",
   "metadata": {},
   "source": [
    "# Trying temporary files\n",
    "[https://docs.python.org/3/library/tempfile.html]"
   ]
  },
  {
   "cell_type": "code",
   "execution_count": 3,
   "metadata": {
    "collapsed": false
   },
   "outputs": [
    {
     "name": "stdout",
     "output_type": "stream",
     "text": [
      "Hello world!\n"
     ]
    }
   ],
   "source": [
    "import tempfile\n",
    "\n",
    "# create a temporary file and write some data to it\n",
    "fp = tempfile.TemporaryFile()\n",
    "fp.write(b'Hello world!')\n",
    "# read data from file\n",
    "fp.seek(0)\n",
    "\n",
    "txt=fp.read()\n",
    "print(txt)\n",
    "# close the file, it will be removed\n",
    "fp.close()\n",
    "#print(txt)\n",
    "# # create a temporary file using a context manager\n",
    "# with tempfile.TemporaryFile() as fp:\n",
    "#     fp.write(b'Hello world!')\n",
    "#     fp.seek(0)\n",
    "#     fp.read()\n",
    "\n",
    "# # file is now closed and removed\n",
    "\n",
    "# # create a temporary directory using the context manager\n",
    "# with tempfile.TemporaryDirectory() as tmpdirname:\n",
    "#     print('created temporary directory', tmpdirname)\n",
    "\n",
    "# directory and contents have been removed"
   ]
  },
  {
   "cell_type": "code",
   "execution_count": null,
   "metadata": {
    "collapsed": false
   },
   "outputs": [],
   "source": [
    "import tempfile\n",
    "from Bio import SeqIO\n",
    "\n",
    "record_iter = SeqIO.parse(open(\"../76969.assembled.faa\"),\"fasta\")\n",
    "for i, batch in enumerate(batch_iterator(record_iter, 30000)):\n",
    "    \n",
    "    filename = \"group_%i.fasta\" % (i + 1)\n",
    "    print(filename)\n",
    "    filename = tempfile.TemporaryFile()\n",
    "    filename.seek(0)\n",
    "    count = SeqIO.write(batch, filename, \"fasta\")\n",
    "#     with open(filename, \"w\") as handle:\n",
    "#         count = SeqIO.write(batch, handle, \"fasta\")\n",
    "    print(\"Wrote %i records to %s\" % (count, filename))"
   ]
  },
  {
   "cell_type": "markdown",
   "metadata": {},
   "source": [
    "## Named temporary files"
   ]
  },
  {
   "cell_type": "markdown",
   "metadata": {},
   "source": [
    "[https://docs.python.org/2/library/tempfile.html]"
   ]
  },
  {
   "cell_type": "code",
   "execution_count": null,
   "metadata": {
    "collapsed": false
   },
   "outputs": [],
   "source": []
  },
  {
   "cell_type": "code",
   "execution_count": null,
   "metadata": {
    "collapsed": false
   },
   "outputs": [],
   "source": []
  },
  {
   "cell_type": "code",
   "execution_count": 303,
   "metadata": {
    "collapsed": false
   },
   "outputs": [
    {
     "data": {
      "text/plain": [
       "[(0, <closed file '<fdopen>', mode 'w+b' at 0x7fbba162bf60>),\n",
       " (1, <closed file '<fdopen>', mode 'w+b' at 0x7fbba162be40>),\n",
       " (2, <closed file '<fdopen>', mode 'w+b' at 0x7fbba0baee40>),\n",
       " (3, <closed file '<fdopen>', mode 'w+b' at 0x7fbba0baef60>)]"
      ]
     },
     "execution_count": 303,
     "metadata": {},
     "output_type": "execute_result"
    }
   ],
   "source": [
    "files"
   ]
  },
  {
   "cell_type": "code",
   "execution_count": 304,
   "metadata": {
    "collapsed": false
   },
   "outputs": [
    {
     "name": "stdout",
     "output_type": "stream",
     "text": [
      "Wrote 1000 records to /tmp/tmpSqwnnp\n",
      "Wrote 1000 records to /tmp/tmpd_zEcV\n",
      "Wrote 1000 records to /tmp/tmpNdc_YO\n",
      "Wrote 891 records to /tmp/tmpO4S3j2\n"
     ]
    }
   ],
   "source": [
    "import tempfile\n",
    "from Bio import SeqIO\n",
    "\n",
    "files=list()\n",
    "sizes={}\n",
    "#input_fasta=\"../76969.assembled.faa\"\n",
    "input_fasta=\"../2517287028.genes.faa\"#m.rosea\n",
    "record_iter = SeqIO.parse(open(input_fasta),\"fasta\")\n",
    "for i, batch in enumerate(batch_iterator(record_iter, 1000)):\n",
    "    \n",
    "    label = i\n",
    "    #f = tempfile.NamedTemporaryFile(delete=False)#exists on closing\n",
    "    f = tempfile.NamedTemporaryFile()#deleted after f.close()\n",
    "    files.append((label,f))\n",
    "    #f.seek(0)\n",
    "    count = SeqIO.write(batch, f, \"fasta\")\n",
    "    f.flush() #this solves the EOF problem\n",
    "#     with open(filename, \"w\") as handle:\n",
    "#         count = SeqIO.write(batch, handle, \"fasta\")\n",
    "    print(\"Wrote %i records to %s\" % (count, f.name))\n",
    "    sizes[f.name]=count"
   ]
  },
  {
   "cell_type": "code",
   "execution_count": 287,
   "metadata": {
    "collapsed": false
   },
   "outputs": [
    {
     "name": "stdout",
     "output_type": "stream",
     "text": [
      "0\n",
      "/tmp/tmpwib0Ns\n",
      "1\n",
      "/tmp/tmpIrHmsO\n",
      "2\n",
      "/tmp/tmpNS0g6z\n",
      "3\n",
      "/tmp/tmpnelKVM\n"
     ]
    }
   ],
   "source": [
    "for (l,f) in files:\n",
    "    print(l)\n",
    "    print(f.name)\n",
    "    f.close()"
   ]
  },
  {
   "cell_type": "code",
   "execution_count": 288,
   "metadata": {
    "collapsed": false
   },
   "outputs": [
    {
     "data": {
      "text/plain": [
       "{'/tmp/tmpIrHmsO': 1000,\n",
       " '/tmp/tmpNS0g6z': 1000,\n",
       " '/tmp/tmpnelKVM': 891,\n",
       " '/tmp/tmpwib0Ns': 1000}"
      ]
     },
     "execution_count": 288,
     "metadata": {},
     "output_type": "execute_result"
    }
   ],
   "source": [
    "sizes"
   ]
  },
  {
   "cell_type": "code",
   "execution_count": null,
   "metadata": {
    "collapsed": true
   },
   "outputs": [],
   "source": []
  },
  {
   "cell_type": "code",
   "execution_count": 30,
   "metadata": {
    "collapsed": false
   },
   "outputs": [
    {
     "ename": "NameError",
     "evalue": "name 'fna' is not defined",
     "output_type": "error",
     "traceback": [
      "\u001b[1;31m---------------------------------------------------------------------------\u001b[0m",
      "\u001b[1;31mNameError\u001b[0m                                 Traceback (most recent call last)",
      "\u001b[1;32m<ipython-input-30-2abc3b46e72d>\u001b[0m in \u001b[0;36m<module>\u001b[1;34m()\u001b[0m\n\u001b[1;32m----> 1\u001b[1;33m \u001b[0mfna\u001b[0m\u001b[1;33m\u001b[0m\u001b[0m\n\u001b[0m",
      "\u001b[1;31mNameError\u001b[0m: name 'fna' is not defined"
     ]
    }
   ],
   "source": [
    "fna"
   ]
  },
  {
   "cell_type": "markdown",
   "metadata": {},
   "source": [
    "## hmmering tempfiles"
   ]
  },
  {
   "cell_type": "code",
   "execution_count": 305,
   "metadata": {
    "collapsed": false
   },
   "outputs": [
    {
     "data": {
      "text/plain": [
       "[(0, <open file '<fdopen>', mode 'w+b' at 0x7fbba162bc90>),\n",
       " (1, <open file '<fdopen>', mode 'w+b' at 0x7fbba14111e0>),\n",
       " (2, <open file '<fdopen>', mode 'w+b' at 0x7fbba0bfbed0>),\n",
       " (3, <open file '<fdopen>', mode 'w+b' at 0x7fbb792be930>)]"
      ]
     },
     "execution_count": 305,
     "metadata": {},
     "output_type": "execute_result"
    }
   ],
   "source": [
    "files"
   ]
  },
  {
   "cell_type": "code",
   "execution_count": null,
   "metadata": {
    "collapsed": true
   },
   "outputs": [],
   "source": []
  },
  {
   "cell_type": "code",
   "execution_count": null,
   "metadata": {
    "collapsed": true
   },
   "outputs": [],
   "source": []
  },
  {
   "cell_type": "code",
   "execution_count": null,
   "metadata": {
    "collapsed": true
   },
   "outputs": [],
   "source": []
  },
  {
   "cell_type": "code",
   "execution_count": null,
   "metadata": {
    "collapsed": true
   },
   "outputs": [],
   "source": []
  },
  {
   "cell_type": "code",
   "execution_count": 63,
   "metadata": {
    "collapsed": false
   },
   "outputs": [
    {
     "name": "stdout",
     "output_type": "stream",
     "text": [
      "hmmscan --tblout group_1.fasta.tab ../amoCAB /tmp/tmp4WuJSN\n",
      "hmmscan --tblout group_2.fasta.tab ../amoCAB /tmp/tmpCBMFY1\n",
      "hmmscan --tblout group_3.fasta.tab ../amoCAB /tmp/tmp9ABMDY\n",
      "hmmscan --tblout group_4.fasta.tab ../amoCAB /tmp/tmp4g8aDl\n",
      "group_1.fasta\n",
      "/tmp/tmp4WuJSN\n",
      "('Exists after close:', False)\n",
      "group_2.fasta\n",
      "/tmp/tmpCBMFY1\n",
      "('Exists after close:', False)\n",
      "group_3.fasta\n",
      "/tmp/tmp9ABMDY\n",
      "('Exists after close:', False)\n",
      "group_4.fasta\n",
      "/tmp/tmp4g8aDl\n",
      "('Exists after close:', False)\n",
      "CPU times: user 4.65 ms, sys: 4.08 ms, total: 8.74 ms\n",
      "Wall time: 24.7 ms\n"
     ]
    }
   ],
   "source": [
    "%%time\n",
    "import os\n",
    "#hmmscan --tblout amocab_hmmscan_mros.tab  amoCAB 2517287028.genes.faa > /dev/null\n",
    "#os.system(\"makeblastdb -in \"+input_ref_0+\" -dbtype nucl -title \"+title_db+\" -out \"+outfile_db+\" -parse_seqids\")\n",
    "for (l,f) in files:\n",
    "    #print(l)\n",
    "    #print(f.name)\n",
    "    \n",
    "    #print('Exists after close:', os.path.exists(f.name))\n",
    "    command=\"hmmscan --tblout \"+l+\".tab \" + \"../amoCAB \" + f.name+\"\"\n",
    "    print(command)\n",
    "    os.system(command)\n",
    "    \n",
    "\n",
    "for (l,f) in files:\n",
    "    print(l)\n",
    "    print(f.name)\n",
    "    f.close()\n",
    "    print('Exists after close:', os.path.exists(f.name))"
   ]
  },
  {
   "cell_type": "code",
   "execution_count": null,
   "metadata": {
    "collapsed": true
   },
   "outputs": [],
   "source": []
  },
  {
   "cell_type": "code",
   "execution_count": 59,
   "metadata": {
    "collapsed": false
   },
   "outputs": [
    {
     "name": "stdout",
     "output_type": "stream",
     "text": [
      "hmmscan --cpu 8 --noali --tblout group_1.fasta.tab ../amoCAB /tmp/tmpM_ZFS9\n",
      "hmmscan --cpu 8 --noali --tblout group_2.fasta.tab ../amoCAB /tmp/tmp6sxP79\n",
      "hmmscan --cpu 8 --noali --tblout group_3.fasta.tab ../amoCAB /tmp/tmpCgusGR\n",
      "hmmscan --cpu 8 --noali --tblout group_4.fasta.tab ../amoCAB /tmp/tmpVnIz1M\n",
      "group_1.fasta\n",
      "/tmp/tmpM_ZFS9\n",
      "('Exists after close:', False)\n",
      "group_2.fasta\n",
      "/tmp/tmp6sxP79\n",
      "('Exists after close:', False)\n",
      "group_3.fasta\n",
      "/tmp/tmpCgusGR\n",
      "('Exists after close:', False)\n",
      "group_4.fasta\n",
      "/tmp/tmpVnIz1M\n",
      "('Exists after close:', False)\n",
      "CPU times: user 646 µs, sys: 8.05 ms, total: 8.7 ms\n",
      "Wall time: 12.5 s\n"
     ]
    }
   ],
   "source": [
    "%%time\n",
    "import os\n",
    "#hmmscan --tblout amocab_hmmscan_mros.tab  amoCAB 2517287028.genes.faa > /dev/null\n",
    "#os.system(\"makeblastdb -in \"+input_ref_0+\" -dbtype nucl -title \"+title_db+\" -out \"+outfile_db+\" -parse_seqids\")\n",
    "for (l,f) in files:\n",
    "    #print(l)\n",
    "    #print(f.name)\n",
    "    \n",
    "    #print('Exists after close:', os.path.exists(f.name))\n",
    "    #\n",
    "    command=\"hmmscan \"+\"--cpu 8 --noali\"+\" --tblout \"+l+\".tab \" + \"../amoCAB \" + f.name\n",
    "    print(command)\n",
    "    os.system(command)\n",
    "\n",
    "for (l,f) in files:\n",
    "    print(l)\n",
    "    print(f.name)\n",
    "    f.close()\n",
    "    #print('Exists after close:', os.path.exists(f.name))"
   ]
  },
  {
   "cell_type": "code",
   "execution_count": null,
   "metadata": {
    "collapsed": true
   },
   "outputs": [],
   "source": []
  },
  {
   "cell_type": "markdown",
   "metadata": {},
   "source": [
    "## Subprocess version"
   ]
  },
  {
   "cell_type": "code",
   "execution_count": 45,
   "metadata": {
    "collapsed": false
   },
   "outputs": [
    {
     "name": "stdout",
     "output_type": "stream",
     "text": [
      "hmmscan --cpu 8 --tblout group_1.fasta.tab ../amoCAB /tmp/tmpWxz75u\n",
      "hmmscan --cpu 8 --tblout group_2.fasta.tab ../amoCAB /tmp/tmp_a05vQ\n",
      "hmmscan --cpu 8 --tblout group_3.fasta.tab ../amoCAB /tmp/tmp0tsj4Z\n",
      "hmmscan --cpu 8 --tblout group_4.fasta.tab ../amoCAB /tmp/tmpZO5t_L\n",
      "group_1.fasta\n",
      "/tmp/tmpWxz75u\n",
      "('Exists after close:', False)\n",
      "group_2.fasta\n",
      "/tmp/tmp_a05vQ\n",
      "('Exists after close:', False)\n",
      "group_3.fasta\n",
      "/tmp/tmp0tsj4Z\n",
      "('Exists after close:', False)\n",
      "group_4.fasta\n",
      "/tmp/tmpZO5t_L\n",
      "('Exists after close:', False)\n",
      "CPU times: user 6.91 ms, sys: 4.17 ms, total: 11.1 ms\n",
      "Wall time: 18.5 ms\n"
     ]
    }
   ],
   "source": [
    "%%time\n",
    "import os\n",
    "import subprocess\n",
    "#hmmscan --tblout amocab_hmmscan_mros.tab  amoCAB 2517287028.genes.faa > /dev/null\n",
    "#os.system(\"makeblastdb -in \"+input_ref_0+\" -dbtype nucl -title \"+title_db+\" -out \"+outfile_db+\" -parse_seqids\")\n",
    "for (l,f) in files:\n",
    "    #print(l)\n",
    "    #print(f.name)\n",
    "    \n",
    "    #print('Exists after close:', os.path.exists(f.name))\n",
    "    command=\"hmmscan \"+\"--cpu 8\"+\" --tblout \"+l+\".tab \" + \"../amoCAB \" + f.name\n",
    "    print(command)\n",
    "    subprocess.Popen(command, shell=True)\n",
    "\n",
    "for (l,f) in files:\n",
    "    print(l)\n",
    "    print(f.name)\n",
    "    f.close()\n",
    "    print('Exists after close:', os.path.exists(f.name))"
   ]
  },
  {
   "cell_type": "code",
   "execution_count": null,
   "metadata": {
    "collapsed": true
   },
   "outputs": [],
   "source": []
  },
  {
   "cell_type": "code",
   "execution_count": 757,
   "metadata": {
    "collapsed": false
   },
   "outputs": [
    {
     "data": {
      "text/plain": [
       "'../2517287028.genes.faa'"
      ]
     },
     "execution_count": 757,
     "metadata": {},
     "output_type": "execute_result"
    }
   ],
   "source": [
    "filename"
   ]
  },
  {
   "cell_type": "code",
   "execution_count": null,
   "metadata": {
    "collapsed": true
   },
   "outputs": [],
   "source": []
  },
  {
   "cell_type": "markdown",
   "metadata": {},
   "source": [
    "## Subprocess verision of entire file, with no splitting"
   ]
  },
  {
   "cell_type": "code",
   "execution_count": 786,
   "metadata": {
    "collapsed": false
   },
   "outputs": [
    {
     "name": "stdout",
     "output_type": "stream",
     "text": [
      "hmmscan --cpu 8 -o /dev/null --tblout entire_mros.tab ../amoCAB ../2517287028.genes.faa\n",
      "CPU times: user 2.53 ms, sys: 429 µs, total: 2.96 ms\n",
      "Wall time: 1.48 s\n"
     ]
    }
   ],
   "source": [
    "%%time\n",
    "from Bio import SeqIO\n",
    "import os\n",
    "import subprocess\n",
    "import shlex\n",
    "\n",
    "#filename=\"../76969.assembled.faa\"\n",
    "filename=\"../2517287028.genes.faa\"#m.rosea\n",
    "#fout=entire_mg1_2.tab\n",
    "fout=\"entire_mros.tab\"\n",
    "#fh = SeqIO.parse(open(filename),\"fasta\")#m.rosea\n",
    "# with open(filename, \"r\") as handle:\n",
    "#     count = SeqIO.write(batch, handle, \"fasta\")\n",
    "# print(\"Wrote %i records to %s\" % (count, filename))\n",
    "\n",
    "\n",
    "\n",
    "\n",
    "#hmmscan --tblout amocab_hmmscan_mros.tab  amoCAB 2517287028.genes.faa > /dev/null\n",
    "#os.system(\"makeblastdb -in \"+input_ref_0+\" -dbtype nucl -title \"+title_db+\" -out \"+outfile_db+\" -parse_seqids\")\n",
    "\n",
    "    #print('Exists after close:', os.path.exists(f.name))\n",
    "# command=\"hmmscan \"+\"--cpu 8\"+\" -o /dev/null --tblout \"+\"entire_mg1\"+\".tab \" + \"../amoCAB \" + filename\n",
    "# print(command)\n",
    "# subprocess.Popen(command, shell=True)\n",
    "\n",
    "cmd=\"hmmscan --cpu 8 -o /dev/null --tblout \"+fout+\" ../amoCAB \"+filename\n",
    "print(cmd)\n",
    "p=subprocess.Popen(cmd, shell=True, stdout=subprocess.PIPE)\n",
    "# print(cmd)\n",
    "# args = shlex.split(cmd)\n",
    "#os.system(cmd)\n",
    "#os.system(cmd)\n",
    "#print(p.stdout.read())\n",
    "#output=p.stdout.read()\n",
    "#os.system(cmd)\n",
    "#command=\"parallel -j 8 hmmscan \"+\"--cpu 1\"+\" --tblout {}.tab \" + \"../amoCAB {} ::: \"+fnames\n",
    "\n",
    "#p=subprocess.Popen(args,stdout=subprocess.PIPE)\n",
    "#print(p.stdout.read())\n",
    "output=p.stdout.read()"
   ]
  },
  {
   "cell_type": "code",
   "execution_count": 787,
   "metadata": {
    "collapsed": false
   },
   "outputs": [],
   "source": [
    "with open(fout, \"r\") as handle:\n",
    "    mros_entire=handle.read()\n"
   ]
  },
  {
   "cell_type": "code",
   "execution_count": 788,
   "metadata": {
    "collapsed": false,
    "scrolled": true
   },
   "outputs": [
    {
     "name": "stdout",
     "output_type": "stream",
     "text": [
      "#                                                               --- full sequence ---- --- best 1 domain ---- --- domain number estimation ----\n",
      "# target name        accession  query name           accession    E-value  score  bias   E-value  score  bias   exp reg clu  ov env dom rep inc description of target\n",
      "#------------------- ---------- -------------------- ---------- --------- ------ ----- --------- ------ -----   --- --- --- --- --- --- --- --- ---------------------\n",
      "AmoC                 PF04896.11 2517401456           -           5.6e-120  386.8  15.8  7.2e-120  386.4  15.8   1.0   1   0   0   1   1   1   1 Ammonia monooxygenase/methane monooxygenase, subunit C\n",
      "AmoC                 PF04896.11 2517402628           -           5.8e-122  393.3  14.7    7e-122  393.0  14.7   1.0   1   0   0   1   1   1   1 Ammonia monooxygenase/methane monooxygenase, subunit C\n",
      "AMO                  PF02461.15 2517402629           -           4.8e-124  400.4  24.0  5.4e-124  400.3  24.0   1.0   1   0   0   1   1   1   1 Ammonia monooxygenase\n",
      "Monooxygenase_B      PF04744.11 2517402630           -           3.3e-170  553.6   0.0  3.7e-170  553.4   0.0   1.0   1   0   0   1   1   1   1 Monooxygenase subunit B protein\n",
      "AmoC                 PF04896.11 2517403201           -           5.8e-122  393.3  14.7    7e-122  393.0  14.7   1.0   1   0   0   1   1   1   1 Ammonia monooxygenase/methane monooxygenase, subunit C\n",
      "Monooxygenase_B      PF04744.11 2517403996           -           3.3e-170  553.6   0.0  3.7e-170  553.4   0.0   1.0   1   0   0   1   1   1   1 Monooxygenase subunit B protein\n",
      "AMO                  PF02461.15 2517403997           -           4.8e-124  400.4  24.0  5.4e-124  400.3  24.0   1.0   1   0   0   1   1   1   1 Ammonia monooxygenase\n",
      "AmoC                 PF04896.11 2517403998           -           5.8e-122  393.3  14.7    7e-122  393.0  14.7   1.0   1   0   0   1   1   1   1 Ammonia monooxygenase/methane monooxygenase, subunit C\n",
      "AmoC                 PF04896.11 2517404225           -           5.6e-111  357.3  11.5  6.6e-111  357.1  11.5   1.0   1   0   0   1   1   1   1 Ammonia monooxygenase/methane monooxygenase, subunit C\n",
      "AmoC                 PF04896.11 2517404670           -            1.7e-30   93.8   0.0   2.2e-30   93.3   0.0   1.1   1   0   0   1   1   1   1 Ammonia monooxygenase/methane monooxygenase, subunit C\n",
      "AmoC                 PF04896.11 2517404865           -            4.2e-93  298.8  17.7   5.1e-93  298.5  17.7   1.0   1   0   0   1   1   1   1 Ammonia monooxygenase/methane monooxygenase, subunit C\n",
      "Monooxygenase_B      PF04744.11 2517404866           -           7.5e-155  503.0   0.0  8.4e-155  502.9   0.0   1.0   1   0   0   1   1   1   1 Monooxygenase subunit B protein\n",
      "AMO                  PF02461.15 2517404867           -           6.5e-114  367.3  13.8  7.7e-114  367.0  13.8   1.0   1   0   0   1   1   1   1 Ammonia monooxygenase\n",
      "#\n",
      "# Program:         hmmscan\n",
      "# Version:         3.1b2 (February 2015)\n",
      "# Pipeline mode:   SCAN\n",
      "# Query file:      ../2517287028.genes.faa\n",
      "# Target file:     ../amoCAB\n",
      "# Option settings: hmmscan -o /dev/null --tblout entire_mros.tab --cpu 8 ../amoCAB ../2517287028.genes.faa \n",
      "# Current dir:     /media/andriy/5E8D984477029FC2/scripts/operon_finder/gen_func_file_parsing\n",
      "# Date:            Thu Oct  5 20:18:14 2017\n",
      "# [ok]\n",
      "\n"
     ]
    }
   ],
   "source": [
    "mros_entire=mros_entire.split('\\n')\n",
    "for i in mros_entire:\n",
    "    print(i)"
   ]
  },
  {
   "cell_type": "code",
   "execution_count": 789,
   "metadata": {
    "collapsed": false
   },
   "outputs": [
    {
     "data": {
      "text/plain": [
       "['#',\n",
       " 'target',\n",
       " 'name',\n",
       " 'accession',\n",
       " 'query',\n",
       " 'name',\n",
       " 'accession',\n",
       " 'E-value',\n",
       " 'score',\n",
       " 'bias',\n",
       " 'E-value',\n",
       " 'score',\n",
       " 'bias',\n",
       " 'exp',\n",
       " 'reg',\n",
       " 'clu',\n",
       " 'ov',\n",
       " 'env',\n",
       " 'dom',\n",
       " 'rep',\n",
       " 'inc',\n",
       " 'description',\n",
       " 'of',\n",
       " 'target']"
      ]
     },
     "execution_count": 789,
     "metadata": {},
     "output_type": "execute_result"
    }
   ],
   "source": [
    "header=mros_entire[1:2]\n",
    "header[0].split()"
   ]
  },
  {
   "cell_type": "code",
   "execution_count": 790,
   "metadata": {
    "collapsed": false
   },
   "outputs": [
    {
     "data": {
      "text/plain": [
       "24"
      ]
     },
     "execution_count": 790,
     "metadata": {},
     "output_type": "execute_result"
    }
   ],
   "source": [
    "len(header[0].split())"
   ]
  },
  {
   "cell_type": "code",
   "execution_count": 791,
   "metadata": {
    "collapsed": false
   },
   "outputs": [
    {
     "data": {
      "text/plain": [
       "['# target name        accession  query name           accession    E-value  score  bias   E-value  score  bias   exp reg clu  ov env dom rep inc description of target']"
      ]
     },
     "execution_count": 791,
     "metadata": {},
     "output_type": "execute_result"
    }
   ],
   "source": [
    "header"
   ]
  },
  {
   "cell_type": "code",
   "execution_count": 792,
   "metadata": {
    "collapsed": false
   },
   "outputs": [
    {
     "data": {
      "text/plain": [
       "['AmoC                 PF04896.11 2517401456           -           5.6e-120  386.8  15.8  7.2e-120  386.4  15.8   1.0   1   0   0   1   1   1   1 Ammonia monooxygenase/methane monooxygenase, subunit C',\n",
       " 'AmoC                 PF04896.11 2517402628           -           5.8e-122  393.3  14.7    7e-122  393.0  14.7   1.0   1   0   0   1   1   1   1 Ammonia monooxygenase/methane monooxygenase, subunit C',\n",
       " 'AMO                  PF02461.15 2517402629           -           4.8e-124  400.4  24.0  5.4e-124  400.3  24.0   1.0   1   0   0   1   1   1   1 Ammonia monooxygenase',\n",
       " 'Monooxygenase_B      PF04744.11 2517402630           -           3.3e-170  553.6   0.0  3.7e-170  553.4   0.0   1.0   1   0   0   1   1   1   1 Monooxygenase subunit B protein',\n",
       " 'AmoC                 PF04896.11 2517403201           -           5.8e-122  393.3  14.7    7e-122  393.0  14.7   1.0   1   0   0   1   1   1   1 Ammonia monooxygenase/methane monooxygenase, subunit C',\n",
       " 'Monooxygenase_B      PF04744.11 2517403996           -           3.3e-170  553.6   0.0  3.7e-170  553.4   0.0   1.0   1   0   0   1   1   1   1 Monooxygenase subunit B protein',\n",
       " 'AMO                  PF02461.15 2517403997           -           4.8e-124  400.4  24.0  5.4e-124  400.3  24.0   1.0   1   0   0   1   1   1   1 Ammonia monooxygenase',\n",
       " 'AmoC                 PF04896.11 2517403998           -           5.8e-122  393.3  14.7    7e-122  393.0  14.7   1.0   1   0   0   1   1   1   1 Ammonia monooxygenase/methane monooxygenase, subunit C',\n",
       " 'AmoC                 PF04896.11 2517404225           -           5.6e-111  357.3  11.5  6.6e-111  357.1  11.5   1.0   1   0   0   1   1   1   1 Ammonia monooxygenase/methane monooxygenase, subunit C',\n",
       " 'AmoC                 PF04896.11 2517404670           -            1.7e-30   93.8   0.0   2.2e-30   93.3   0.0   1.1   1   0   0   1   1   1   1 Ammonia monooxygenase/methane monooxygenase, subunit C',\n",
       " 'AmoC                 PF04896.11 2517404865           -            4.2e-93  298.8  17.7   5.1e-93  298.5  17.7   1.0   1   0   0   1   1   1   1 Ammonia monooxygenase/methane monooxygenase, subunit C',\n",
       " 'Monooxygenase_B      PF04744.11 2517404866           -           7.5e-155  503.0   0.0  8.4e-155  502.9   0.0   1.0   1   0   0   1   1   1   1 Monooxygenase subunit B protein',\n",
       " 'AMO                  PF02461.15 2517404867           -           6.5e-114  367.3  13.8  7.7e-114  367.0  13.8   1.0   1   0   0   1   1   1   1 Ammonia monooxygenase']"
      ]
     },
     "execution_count": 792,
     "metadata": {},
     "output_type": "execute_result"
    }
   ],
   "source": [
    "mros_entire[3:-11]"
   ]
  },
  {
   "cell_type": "code",
   "execution_count": 793,
   "metadata": {
    "collapsed": false
   },
   "outputs": [
    {
     "data": {
      "text/plain": [
       "'AmoC'"
      ]
     },
     "execution_count": 793,
     "metadata": {},
     "output_type": "execute_result"
    }
   ],
   "source": [
    "mros_entire[4].split()[0]"
   ]
  },
  {
   "cell_type": "code",
   "execution_count": null,
   "metadata": {
    "collapsed": true
   },
   "outputs": [],
   "source": []
  },
  {
   "cell_type": "code",
   "execution_count": null,
   "metadata": {
    "collapsed": true
   },
   "outputs": [],
   "source": []
  },
  {
   "cell_type": "markdown",
   "metadata": {},
   "source": [
    "# Creating a dataframe"
   ]
  },
  {
   "cell_type": "code",
   "execution_count": 794,
   "metadata": {
    "collapsed": true
   },
   "outputs": [],
   "source": [
    "#d = df[[p, p.team, p.passing_att, p.passer_rating()] for p in game.players.passing()]"
   ]
  },
  {
   "cell_type": "code",
   "execution_count": 795,
   "metadata": {
    "collapsed": false
   },
   "outputs": [],
   "source": [
    "import pandas as pd"
   ]
  },
  {
   "cell_type": "code",
   "execution_count": 796,
   "metadata": {
    "collapsed": false
   },
   "outputs": [
    {
     "ename": "SyntaxError",
     "evalue": "invalid syntax (<ipython-input-796-c2fdd2690845>, line 1)",
     "output_type": "error",
     "traceback": [
      "\u001b[1;36m  File \u001b[1;32m\"<ipython-input-796-c2fdd2690845>\"\u001b[1;36m, line \u001b[1;32m1\u001b[0m\n\u001b[1;33m    [p[5] for p=line.split() in mros_entire[3:-11]]\u001b[0m\n\u001b[1;37m               ^\u001b[0m\n\u001b[1;31mSyntaxError\u001b[0m\u001b[1;31m:\u001b[0m invalid syntax\n"
     ]
    }
   ],
   "source": [
    "[p[5] for p=line.split() in mros_entire[3:-11]]"
   ]
  },
  {
   "cell_type": "code",
   "execution_count": 797,
   "metadata": {
    "collapsed": true
   },
   "outputs": [],
   "source": [
    "#[(x[1],x[2]) for x in (x.split(\";\") for x in a.split(\"\\n\")) if x[1] != 5]"
   ]
  },
  {
   "cell_type": "code",
   "execution_count": 798,
   "metadata": {
    "collapsed": false
   },
   "outputs": [
    {
     "ename": "IndexError",
     "evalue": "string index out of range",
     "output_type": "error",
     "traceback": [
      "\u001b[1;31m---------------------------------------------------------------------------\u001b[0m",
      "\u001b[1;31mIndexError\u001b[0m                                Traceback (most recent call last)",
      "\u001b[1;32m<ipython-input-798-7224c6358ba7>\u001b[0m in \u001b[0;36m<module>\u001b[1;34m()\u001b[0m\n\u001b[1;32m----> 1\u001b[1;33m \u001b[1;33m[\u001b[0m\u001b[1;33m[\u001b[0m\u001b[0mx\u001b[0m\u001b[1;33m[\u001b[0m\u001b[1;36m0\u001b[0m\u001b[1;33m]\u001b[0m\u001b[1;33m,\u001b[0m \u001b[0mx\u001b[0m\u001b[1;33m[\u001b[0m\u001b[1;36m1\u001b[0m\u001b[1;33m]\u001b[0m\u001b[1;33m]\u001b[0m \u001b[1;32mfor\u001b[0m \u001b[0mx\u001b[0m \u001b[1;32min\u001b[0m \u001b[0mmros_entire\u001b[0m\u001b[1;33m[\u001b[0m\u001b[1;36m3\u001b[0m\u001b[1;33m:\u001b[0m\u001b[1;33m-\u001b[0m\u001b[1;36m11\u001b[0m\u001b[1;33m]\u001b[0m \u001b[1;32mfor\u001b[0m \u001b[0mx\u001b[0m \u001b[1;32min\u001b[0m \u001b[1;33m(\u001b[0m\u001b[0mx\u001b[0m\u001b[1;33m.\u001b[0m\u001b[0msplit\u001b[0m\u001b[1;33m(\u001b[0m\u001b[1;33m)\u001b[0m\u001b[1;33m)\u001b[0m\u001b[1;33m]\u001b[0m\u001b[1;33m\u001b[0m\u001b[0m\n\u001b[0m",
      "\u001b[1;31mIndexError\u001b[0m: string index out of range"
     ]
    }
   ],
   "source": [
    "[[x[0], x[1]] for x in mros_entire[3:-11] for x in (x.split())]"
   ]
  },
  {
   "cell_type": "code",
   "execution_count": null,
   "metadata": {
    "collapsed": true
   },
   "outputs": [],
   "source": []
  },
  {
   "cell_type": "code",
   "execution_count": null,
   "metadata": {
    "collapsed": true
   },
   "outputs": [],
   "source": []
  },
  {
   "cell_type": "code",
   "execution_count": 799,
   "metadata": {
    "collapsed": false
   },
   "outputs": [
    {
     "data": {
      "text/plain": [
       "[('2', '4'), ('4', '5')]"
      ]
     },
     "execution_count": 799,
     "metadata": {},
     "output_type": "execute_result"
    }
   ],
   "source": [
    "a = \"1;2;4\\n3;4;5\"\n",
    "[(x[1],x[2]) for x in (x.split(\";\") for x in a.split(\"\\n\")) if x[1] != 5]"
   ]
  },
  {
   "cell_type": "code",
   "execution_count": 800,
   "metadata": {
    "collapsed": false
   },
   "outputs": [
    {
     "data": {
      "text/html": [
       "<div>\n",
       "<table border=\"1\" class=\"dataframe\">\n",
       "  <thead>\n",
       "    <tr style=\"text-align: right;\">\n",
       "      <th></th>\n",
       "      <th>0</th>\n",
       "      <th>1</th>\n",
       "      <th>2</th>\n",
       "      <th>3</th>\n",
       "      <th>4</th>\n",
       "      <th>5</th>\n",
       "      <th>6</th>\n",
       "      <th>7</th>\n",
       "      <th>8</th>\n",
       "      <th>9</th>\n",
       "      <th>...</th>\n",
       "      <th>13</th>\n",
       "      <th>14</th>\n",
       "      <th>15</th>\n",
       "      <th>16</th>\n",
       "      <th>17</th>\n",
       "      <th>18</th>\n",
       "      <th>19</th>\n",
       "      <th>20</th>\n",
       "      <th>21</th>\n",
       "      <th>22</th>\n",
       "    </tr>\n",
       "  </thead>\n",
       "  <tbody>\n",
       "    <tr>\n",
       "      <th>0</th>\n",
       "      <td>AmoC</td>\n",
       "      <td>PF04896.11</td>\n",
       "      <td>2517401456</td>\n",
       "      <td>-</td>\n",
       "      <td>5.6e-120</td>\n",
       "      <td>386.8</td>\n",
       "      <td>15.8</td>\n",
       "      <td>7.2e-120</td>\n",
       "      <td>386.4</td>\n",
       "      <td>15.8</td>\n",
       "      <td>...</td>\n",
       "      <td>0</td>\n",
       "      <td>1</td>\n",
       "      <td>1</td>\n",
       "      <td>1</td>\n",
       "      <td>1</td>\n",
       "      <td>Ammonia</td>\n",
       "      <td>monooxygenase/methane</td>\n",
       "      <td>monooxygenase,</td>\n",
       "      <td>subunit</td>\n",
       "      <td>C</td>\n",
       "    </tr>\n",
       "    <tr>\n",
       "      <th>1</th>\n",
       "      <td>AmoC</td>\n",
       "      <td>PF04896.11</td>\n",
       "      <td>2517402628</td>\n",
       "      <td>-</td>\n",
       "      <td>5.8e-122</td>\n",
       "      <td>393.3</td>\n",
       "      <td>14.7</td>\n",
       "      <td>7e-122</td>\n",
       "      <td>393.0</td>\n",
       "      <td>14.7</td>\n",
       "      <td>...</td>\n",
       "      <td>0</td>\n",
       "      <td>1</td>\n",
       "      <td>1</td>\n",
       "      <td>1</td>\n",
       "      <td>1</td>\n",
       "      <td>Ammonia</td>\n",
       "      <td>monooxygenase/methane</td>\n",
       "      <td>monooxygenase,</td>\n",
       "      <td>subunit</td>\n",
       "      <td>C</td>\n",
       "    </tr>\n",
       "    <tr>\n",
       "      <th>2</th>\n",
       "      <td>AMO</td>\n",
       "      <td>PF02461.15</td>\n",
       "      <td>2517402629</td>\n",
       "      <td>-</td>\n",
       "      <td>4.8e-124</td>\n",
       "      <td>400.4</td>\n",
       "      <td>24.0</td>\n",
       "      <td>5.4e-124</td>\n",
       "      <td>400.3</td>\n",
       "      <td>24.0</td>\n",
       "      <td>...</td>\n",
       "      <td>0</td>\n",
       "      <td>1</td>\n",
       "      <td>1</td>\n",
       "      <td>1</td>\n",
       "      <td>1</td>\n",
       "      <td>Ammonia</td>\n",
       "      <td>monooxygenase</td>\n",
       "      <td>None</td>\n",
       "      <td>None</td>\n",
       "      <td>None</td>\n",
       "    </tr>\n",
       "    <tr>\n",
       "      <th>3</th>\n",
       "      <td>Monooxygenase_B</td>\n",
       "      <td>PF04744.11</td>\n",
       "      <td>2517402630</td>\n",
       "      <td>-</td>\n",
       "      <td>3.3e-170</td>\n",
       "      <td>553.6</td>\n",
       "      <td>0.0</td>\n",
       "      <td>3.7e-170</td>\n",
       "      <td>553.4</td>\n",
       "      <td>0.0</td>\n",
       "      <td>...</td>\n",
       "      <td>0</td>\n",
       "      <td>1</td>\n",
       "      <td>1</td>\n",
       "      <td>1</td>\n",
       "      <td>1</td>\n",
       "      <td>Monooxygenase</td>\n",
       "      <td>subunit</td>\n",
       "      <td>B</td>\n",
       "      <td>protein</td>\n",
       "      <td>None</td>\n",
       "    </tr>\n",
       "    <tr>\n",
       "      <th>4</th>\n",
       "      <td>AmoC</td>\n",
       "      <td>PF04896.11</td>\n",
       "      <td>2517403201</td>\n",
       "      <td>-</td>\n",
       "      <td>5.8e-122</td>\n",
       "      <td>393.3</td>\n",
       "      <td>14.7</td>\n",
       "      <td>7e-122</td>\n",
       "      <td>393.0</td>\n",
       "      <td>14.7</td>\n",
       "      <td>...</td>\n",
       "      <td>0</td>\n",
       "      <td>1</td>\n",
       "      <td>1</td>\n",
       "      <td>1</td>\n",
       "      <td>1</td>\n",
       "      <td>Ammonia</td>\n",
       "      <td>monooxygenase/methane</td>\n",
       "      <td>monooxygenase,</td>\n",
       "      <td>subunit</td>\n",
       "      <td>C</td>\n",
       "    </tr>\n",
       "    <tr>\n",
       "      <th>5</th>\n",
       "      <td>Monooxygenase_B</td>\n",
       "      <td>PF04744.11</td>\n",
       "      <td>2517403996</td>\n",
       "      <td>-</td>\n",
       "      <td>3.3e-170</td>\n",
       "      <td>553.6</td>\n",
       "      <td>0.0</td>\n",
       "      <td>3.7e-170</td>\n",
       "      <td>553.4</td>\n",
       "      <td>0.0</td>\n",
       "      <td>...</td>\n",
       "      <td>0</td>\n",
       "      <td>1</td>\n",
       "      <td>1</td>\n",
       "      <td>1</td>\n",
       "      <td>1</td>\n",
       "      <td>Monooxygenase</td>\n",
       "      <td>subunit</td>\n",
       "      <td>B</td>\n",
       "      <td>protein</td>\n",
       "      <td>None</td>\n",
       "    </tr>\n",
       "    <tr>\n",
       "      <th>6</th>\n",
       "      <td>AMO</td>\n",
       "      <td>PF02461.15</td>\n",
       "      <td>2517403997</td>\n",
       "      <td>-</td>\n",
       "      <td>4.8e-124</td>\n",
       "      <td>400.4</td>\n",
       "      <td>24.0</td>\n",
       "      <td>5.4e-124</td>\n",
       "      <td>400.3</td>\n",
       "      <td>24.0</td>\n",
       "      <td>...</td>\n",
       "      <td>0</td>\n",
       "      <td>1</td>\n",
       "      <td>1</td>\n",
       "      <td>1</td>\n",
       "      <td>1</td>\n",
       "      <td>Ammonia</td>\n",
       "      <td>monooxygenase</td>\n",
       "      <td>None</td>\n",
       "      <td>None</td>\n",
       "      <td>None</td>\n",
       "    </tr>\n",
       "    <tr>\n",
       "      <th>7</th>\n",
       "      <td>AmoC</td>\n",
       "      <td>PF04896.11</td>\n",
       "      <td>2517403998</td>\n",
       "      <td>-</td>\n",
       "      <td>5.8e-122</td>\n",
       "      <td>393.3</td>\n",
       "      <td>14.7</td>\n",
       "      <td>7e-122</td>\n",
       "      <td>393.0</td>\n",
       "      <td>14.7</td>\n",
       "      <td>...</td>\n",
       "      <td>0</td>\n",
       "      <td>1</td>\n",
       "      <td>1</td>\n",
       "      <td>1</td>\n",
       "      <td>1</td>\n",
       "      <td>Ammonia</td>\n",
       "      <td>monooxygenase/methane</td>\n",
       "      <td>monooxygenase,</td>\n",
       "      <td>subunit</td>\n",
       "      <td>C</td>\n",
       "    </tr>\n",
       "    <tr>\n",
       "      <th>8</th>\n",
       "      <td>AmoC</td>\n",
       "      <td>PF04896.11</td>\n",
       "      <td>2517404225</td>\n",
       "      <td>-</td>\n",
       "      <td>5.6e-111</td>\n",
       "      <td>357.3</td>\n",
       "      <td>11.5</td>\n",
       "      <td>6.6e-111</td>\n",
       "      <td>357.1</td>\n",
       "      <td>11.5</td>\n",
       "      <td>...</td>\n",
       "      <td>0</td>\n",
       "      <td>1</td>\n",
       "      <td>1</td>\n",
       "      <td>1</td>\n",
       "      <td>1</td>\n",
       "      <td>Ammonia</td>\n",
       "      <td>monooxygenase/methane</td>\n",
       "      <td>monooxygenase,</td>\n",
       "      <td>subunit</td>\n",
       "      <td>C</td>\n",
       "    </tr>\n",
       "    <tr>\n",
       "      <th>9</th>\n",
       "      <td>AmoC</td>\n",
       "      <td>PF04896.11</td>\n",
       "      <td>2517404670</td>\n",
       "      <td>-</td>\n",
       "      <td>1.7e-30</td>\n",
       "      <td>93.8</td>\n",
       "      <td>0.0</td>\n",
       "      <td>2.2e-30</td>\n",
       "      <td>93.3</td>\n",
       "      <td>0.0</td>\n",
       "      <td>...</td>\n",
       "      <td>0</td>\n",
       "      <td>1</td>\n",
       "      <td>1</td>\n",
       "      <td>1</td>\n",
       "      <td>1</td>\n",
       "      <td>Ammonia</td>\n",
       "      <td>monooxygenase/methane</td>\n",
       "      <td>monooxygenase,</td>\n",
       "      <td>subunit</td>\n",
       "      <td>C</td>\n",
       "    </tr>\n",
       "    <tr>\n",
       "      <th>10</th>\n",
       "      <td>AmoC</td>\n",
       "      <td>PF04896.11</td>\n",
       "      <td>2517404865</td>\n",
       "      <td>-</td>\n",
       "      <td>4.2e-93</td>\n",
       "      <td>298.8</td>\n",
       "      <td>17.7</td>\n",
       "      <td>5.1e-93</td>\n",
       "      <td>298.5</td>\n",
       "      <td>17.7</td>\n",
       "      <td>...</td>\n",
       "      <td>0</td>\n",
       "      <td>1</td>\n",
       "      <td>1</td>\n",
       "      <td>1</td>\n",
       "      <td>1</td>\n",
       "      <td>Ammonia</td>\n",
       "      <td>monooxygenase/methane</td>\n",
       "      <td>monooxygenase,</td>\n",
       "      <td>subunit</td>\n",
       "      <td>C</td>\n",
       "    </tr>\n",
       "    <tr>\n",
       "      <th>11</th>\n",
       "      <td>Monooxygenase_B</td>\n",
       "      <td>PF04744.11</td>\n",
       "      <td>2517404866</td>\n",
       "      <td>-</td>\n",
       "      <td>7.5e-155</td>\n",
       "      <td>503.0</td>\n",
       "      <td>0.0</td>\n",
       "      <td>8.4e-155</td>\n",
       "      <td>502.9</td>\n",
       "      <td>0.0</td>\n",
       "      <td>...</td>\n",
       "      <td>0</td>\n",
       "      <td>1</td>\n",
       "      <td>1</td>\n",
       "      <td>1</td>\n",
       "      <td>1</td>\n",
       "      <td>Monooxygenase</td>\n",
       "      <td>subunit</td>\n",
       "      <td>B</td>\n",
       "      <td>protein</td>\n",
       "      <td>None</td>\n",
       "    </tr>\n",
       "    <tr>\n",
       "      <th>12</th>\n",
       "      <td>AMO</td>\n",
       "      <td>PF02461.15</td>\n",
       "      <td>2517404867</td>\n",
       "      <td>-</td>\n",
       "      <td>6.5e-114</td>\n",
       "      <td>367.3</td>\n",
       "      <td>13.8</td>\n",
       "      <td>7.7e-114</td>\n",
       "      <td>367.0</td>\n",
       "      <td>13.8</td>\n",
       "      <td>...</td>\n",
       "      <td>0</td>\n",
       "      <td>1</td>\n",
       "      <td>1</td>\n",
       "      <td>1</td>\n",
       "      <td>1</td>\n",
       "      <td>Ammonia</td>\n",
       "      <td>monooxygenase</td>\n",
       "      <td>None</td>\n",
       "      <td>None</td>\n",
       "      <td>None</td>\n",
       "    </tr>\n",
       "  </tbody>\n",
       "</table>\n",
       "<p>13 rows × 23 columns</p>\n",
       "</div>"
      ],
      "text/plain": [
       "                 0           1           2  3         4      5     6   \\\n",
       "0              AmoC  PF04896.11  2517401456  -  5.6e-120  386.8  15.8   \n",
       "1              AmoC  PF04896.11  2517402628  -  5.8e-122  393.3  14.7   \n",
       "2               AMO  PF02461.15  2517402629  -  4.8e-124  400.4  24.0   \n",
       "3   Monooxygenase_B  PF04744.11  2517402630  -  3.3e-170  553.6   0.0   \n",
       "4              AmoC  PF04896.11  2517403201  -  5.8e-122  393.3  14.7   \n",
       "5   Monooxygenase_B  PF04744.11  2517403996  -  3.3e-170  553.6   0.0   \n",
       "6               AMO  PF02461.15  2517403997  -  4.8e-124  400.4  24.0   \n",
       "7              AmoC  PF04896.11  2517403998  -  5.8e-122  393.3  14.7   \n",
       "8              AmoC  PF04896.11  2517404225  -  5.6e-111  357.3  11.5   \n",
       "9              AmoC  PF04896.11  2517404670  -   1.7e-30   93.8   0.0   \n",
       "10             AmoC  PF04896.11  2517404865  -   4.2e-93  298.8  17.7   \n",
       "11  Monooxygenase_B  PF04744.11  2517404866  -  7.5e-155  503.0   0.0   \n",
       "12              AMO  PF02461.15  2517404867  -  6.5e-114  367.3  13.8   \n",
       "\n",
       "          7      8     9   ...  13 14 15 16 17             18  \\\n",
       "0   7.2e-120  386.4  15.8  ...   0  1  1  1  1        Ammonia   \n",
       "1     7e-122  393.0  14.7  ...   0  1  1  1  1        Ammonia   \n",
       "2   5.4e-124  400.3  24.0  ...   0  1  1  1  1        Ammonia   \n",
       "3   3.7e-170  553.4   0.0  ...   0  1  1  1  1  Monooxygenase   \n",
       "4     7e-122  393.0  14.7  ...   0  1  1  1  1        Ammonia   \n",
       "5   3.7e-170  553.4   0.0  ...   0  1  1  1  1  Monooxygenase   \n",
       "6   5.4e-124  400.3  24.0  ...   0  1  1  1  1        Ammonia   \n",
       "7     7e-122  393.0  14.7  ...   0  1  1  1  1        Ammonia   \n",
       "8   6.6e-111  357.1  11.5  ...   0  1  1  1  1        Ammonia   \n",
       "9    2.2e-30   93.3   0.0  ...   0  1  1  1  1        Ammonia   \n",
       "10   5.1e-93  298.5  17.7  ...   0  1  1  1  1        Ammonia   \n",
       "11  8.4e-155  502.9   0.0  ...   0  1  1  1  1  Monooxygenase   \n",
       "12  7.7e-114  367.0  13.8  ...   0  1  1  1  1        Ammonia   \n",
       "\n",
       "                       19              20       21    22  \n",
       "0   monooxygenase/methane  monooxygenase,  subunit     C  \n",
       "1   monooxygenase/methane  monooxygenase,  subunit     C  \n",
       "2           monooxygenase            None     None  None  \n",
       "3                 subunit               B  protein  None  \n",
       "4   monooxygenase/methane  monooxygenase,  subunit     C  \n",
       "5                 subunit               B  protein  None  \n",
       "6           monooxygenase            None     None  None  \n",
       "7   monooxygenase/methane  monooxygenase,  subunit     C  \n",
       "8   monooxygenase/methane  monooxygenase,  subunit     C  \n",
       "9   monooxygenase/methane  monooxygenase,  subunit     C  \n",
       "10  monooxygenase/methane  monooxygenase,  subunit     C  \n",
       "11                subunit               B  protein  None  \n",
       "12          monooxygenase            None     None  None  \n",
       "\n",
       "[13 rows x 23 columns]"
      ]
     },
     "execution_count": 800,
     "metadata": {},
     "output_type": "execute_result"
    }
   ],
   "source": [
    "df=pd.DataFrame([x.split() for x in mros_entire[3:-11]])\n",
    "df"
   ]
  },
  {
   "cell_type": "code",
   "execution_count": 801,
   "metadata": {
    "collapsed": false
   },
   "outputs": [],
   "source": [
    "def joinDescriptionColumns(descr_columns):\n",
    "    merged=''\n",
    "    for row in descr_columns:\n",
    "        if row != None:\n",
    "            merged+=row+' '\n",
    "    #print(descr_columns)\n",
    "    return merged.strip()"
   ]
  },
  {
   "cell_type": "code",
   "execution_count": 802,
   "metadata": {
    "collapsed": false
   },
   "outputs": [
    {
     "data": {
      "text/html": [
       "<div>\n",
       "<table border=\"1\" class=\"dataframe\">\n",
       "  <thead>\n",
       "    <tr style=\"text-align: right;\">\n",
       "      <th></th>\n",
       "      <th>0</th>\n",
       "      <th>1</th>\n",
       "      <th>2</th>\n",
       "      <th>3</th>\n",
       "      <th>4</th>\n",
       "      <th>5</th>\n",
       "      <th>6</th>\n",
       "      <th>7</th>\n",
       "      <th>8</th>\n",
       "      <th>9</th>\n",
       "      <th>10</th>\n",
       "      <th>11</th>\n",
       "      <th>12</th>\n",
       "      <th>13</th>\n",
       "      <th>14</th>\n",
       "      <th>15</th>\n",
       "      <th>16</th>\n",
       "      <th>17</th>\n",
       "      <th>18</th>\n",
       "    </tr>\n",
       "  </thead>\n",
       "  <tbody>\n",
       "    <tr>\n",
       "      <th>0</th>\n",
       "      <td>AmoC</td>\n",
       "      <td>PF04896.11</td>\n",
       "      <td>2517401456</td>\n",
       "      <td>-</td>\n",
       "      <td>5.6e-120</td>\n",
       "      <td>386.8</td>\n",
       "      <td>15.8</td>\n",
       "      <td>7.2e-120</td>\n",
       "      <td>386.4</td>\n",
       "      <td>15.8</td>\n",
       "      <td>1.0</td>\n",
       "      <td>1</td>\n",
       "      <td>0</td>\n",
       "      <td>0</td>\n",
       "      <td>1</td>\n",
       "      <td>1</td>\n",
       "      <td>1</td>\n",
       "      <td>1</td>\n",
       "      <td>Ammonia monooxygenase/methane monooxygenase, s...</td>\n",
       "    </tr>\n",
       "    <tr>\n",
       "      <th>1</th>\n",
       "      <td>AmoC</td>\n",
       "      <td>PF04896.11</td>\n",
       "      <td>2517402628</td>\n",
       "      <td>-</td>\n",
       "      <td>5.8e-122</td>\n",
       "      <td>393.3</td>\n",
       "      <td>14.7</td>\n",
       "      <td>7e-122</td>\n",
       "      <td>393.0</td>\n",
       "      <td>14.7</td>\n",
       "      <td>1.0</td>\n",
       "      <td>1</td>\n",
       "      <td>0</td>\n",
       "      <td>0</td>\n",
       "      <td>1</td>\n",
       "      <td>1</td>\n",
       "      <td>1</td>\n",
       "      <td>1</td>\n",
       "      <td>Ammonia monooxygenase/methane monooxygenase, s...</td>\n",
       "    </tr>\n",
       "    <tr>\n",
       "      <th>2</th>\n",
       "      <td>AMO</td>\n",
       "      <td>PF02461.15</td>\n",
       "      <td>2517402629</td>\n",
       "      <td>-</td>\n",
       "      <td>4.8e-124</td>\n",
       "      <td>400.4</td>\n",
       "      <td>24.0</td>\n",
       "      <td>5.4e-124</td>\n",
       "      <td>400.3</td>\n",
       "      <td>24.0</td>\n",
       "      <td>1.0</td>\n",
       "      <td>1</td>\n",
       "      <td>0</td>\n",
       "      <td>0</td>\n",
       "      <td>1</td>\n",
       "      <td>1</td>\n",
       "      <td>1</td>\n",
       "      <td>1</td>\n",
       "      <td>Ammonia monooxygenase</td>\n",
       "    </tr>\n",
       "    <tr>\n",
       "      <th>3</th>\n",
       "      <td>Monooxygenase_B</td>\n",
       "      <td>PF04744.11</td>\n",
       "      <td>2517402630</td>\n",
       "      <td>-</td>\n",
       "      <td>3.3e-170</td>\n",
       "      <td>553.6</td>\n",
       "      <td>0.0</td>\n",
       "      <td>3.7e-170</td>\n",
       "      <td>553.4</td>\n",
       "      <td>0.0</td>\n",
       "      <td>1.0</td>\n",
       "      <td>1</td>\n",
       "      <td>0</td>\n",
       "      <td>0</td>\n",
       "      <td>1</td>\n",
       "      <td>1</td>\n",
       "      <td>1</td>\n",
       "      <td>1</td>\n",
       "      <td>Monooxygenase subunit B protein</td>\n",
       "    </tr>\n",
       "    <tr>\n",
       "      <th>4</th>\n",
       "      <td>AmoC</td>\n",
       "      <td>PF04896.11</td>\n",
       "      <td>2517403201</td>\n",
       "      <td>-</td>\n",
       "      <td>5.8e-122</td>\n",
       "      <td>393.3</td>\n",
       "      <td>14.7</td>\n",
       "      <td>7e-122</td>\n",
       "      <td>393.0</td>\n",
       "      <td>14.7</td>\n",
       "      <td>1.0</td>\n",
       "      <td>1</td>\n",
       "      <td>0</td>\n",
       "      <td>0</td>\n",
       "      <td>1</td>\n",
       "      <td>1</td>\n",
       "      <td>1</td>\n",
       "      <td>1</td>\n",
       "      <td>Ammonia monooxygenase/methane monooxygenase, s...</td>\n",
       "    </tr>\n",
       "    <tr>\n",
       "      <th>5</th>\n",
       "      <td>Monooxygenase_B</td>\n",
       "      <td>PF04744.11</td>\n",
       "      <td>2517403996</td>\n",
       "      <td>-</td>\n",
       "      <td>3.3e-170</td>\n",
       "      <td>553.6</td>\n",
       "      <td>0.0</td>\n",
       "      <td>3.7e-170</td>\n",
       "      <td>553.4</td>\n",
       "      <td>0.0</td>\n",
       "      <td>1.0</td>\n",
       "      <td>1</td>\n",
       "      <td>0</td>\n",
       "      <td>0</td>\n",
       "      <td>1</td>\n",
       "      <td>1</td>\n",
       "      <td>1</td>\n",
       "      <td>1</td>\n",
       "      <td>Monooxygenase subunit B protein</td>\n",
       "    </tr>\n",
       "    <tr>\n",
       "      <th>6</th>\n",
       "      <td>AMO</td>\n",
       "      <td>PF02461.15</td>\n",
       "      <td>2517403997</td>\n",
       "      <td>-</td>\n",
       "      <td>4.8e-124</td>\n",
       "      <td>400.4</td>\n",
       "      <td>24.0</td>\n",
       "      <td>5.4e-124</td>\n",
       "      <td>400.3</td>\n",
       "      <td>24.0</td>\n",
       "      <td>1.0</td>\n",
       "      <td>1</td>\n",
       "      <td>0</td>\n",
       "      <td>0</td>\n",
       "      <td>1</td>\n",
       "      <td>1</td>\n",
       "      <td>1</td>\n",
       "      <td>1</td>\n",
       "      <td>Ammonia monooxygenase</td>\n",
       "    </tr>\n",
       "    <tr>\n",
       "      <th>7</th>\n",
       "      <td>AmoC</td>\n",
       "      <td>PF04896.11</td>\n",
       "      <td>2517403998</td>\n",
       "      <td>-</td>\n",
       "      <td>5.8e-122</td>\n",
       "      <td>393.3</td>\n",
       "      <td>14.7</td>\n",
       "      <td>7e-122</td>\n",
       "      <td>393.0</td>\n",
       "      <td>14.7</td>\n",
       "      <td>1.0</td>\n",
       "      <td>1</td>\n",
       "      <td>0</td>\n",
       "      <td>0</td>\n",
       "      <td>1</td>\n",
       "      <td>1</td>\n",
       "      <td>1</td>\n",
       "      <td>1</td>\n",
       "      <td>Ammonia monooxygenase/methane monooxygenase, s...</td>\n",
       "    </tr>\n",
       "    <tr>\n",
       "      <th>8</th>\n",
       "      <td>AmoC</td>\n",
       "      <td>PF04896.11</td>\n",
       "      <td>2517404225</td>\n",
       "      <td>-</td>\n",
       "      <td>5.6e-111</td>\n",
       "      <td>357.3</td>\n",
       "      <td>11.5</td>\n",
       "      <td>6.6e-111</td>\n",
       "      <td>357.1</td>\n",
       "      <td>11.5</td>\n",
       "      <td>1.0</td>\n",
       "      <td>1</td>\n",
       "      <td>0</td>\n",
       "      <td>0</td>\n",
       "      <td>1</td>\n",
       "      <td>1</td>\n",
       "      <td>1</td>\n",
       "      <td>1</td>\n",
       "      <td>Ammonia monooxygenase/methane monooxygenase, s...</td>\n",
       "    </tr>\n",
       "    <tr>\n",
       "      <th>9</th>\n",
       "      <td>AmoC</td>\n",
       "      <td>PF04896.11</td>\n",
       "      <td>2517404670</td>\n",
       "      <td>-</td>\n",
       "      <td>1.7e-30</td>\n",
       "      <td>93.8</td>\n",
       "      <td>0.0</td>\n",
       "      <td>2.2e-30</td>\n",
       "      <td>93.3</td>\n",
       "      <td>0.0</td>\n",
       "      <td>1.1</td>\n",
       "      <td>1</td>\n",
       "      <td>0</td>\n",
       "      <td>0</td>\n",
       "      <td>1</td>\n",
       "      <td>1</td>\n",
       "      <td>1</td>\n",
       "      <td>1</td>\n",
       "      <td>Ammonia monooxygenase/methane monooxygenase, s...</td>\n",
       "    </tr>\n",
       "    <tr>\n",
       "      <th>10</th>\n",
       "      <td>AmoC</td>\n",
       "      <td>PF04896.11</td>\n",
       "      <td>2517404865</td>\n",
       "      <td>-</td>\n",
       "      <td>4.2e-93</td>\n",
       "      <td>298.8</td>\n",
       "      <td>17.7</td>\n",
       "      <td>5.1e-93</td>\n",
       "      <td>298.5</td>\n",
       "      <td>17.7</td>\n",
       "      <td>1.0</td>\n",
       "      <td>1</td>\n",
       "      <td>0</td>\n",
       "      <td>0</td>\n",
       "      <td>1</td>\n",
       "      <td>1</td>\n",
       "      <td>1</td>\n",
       "      <td>1</td>\n",
       "      <td>Ammonia monooxygenase/methane monooxygenase, s...</td>\n",
       "    </tr>\n",
       "    <tr>\n",
       "      <th>11</th>\n",
       "      <td>Monooxygenase_B</td>\n",
       "      <td>PF04744.11</td>\n",
       "      <td>2517404866</td>\n",
       "      <td>-</td>\n",
       "      <td>7.5e-155</td>\n",
       "      <td>503.0</td>\n",
       "      <td>0.0</td>\n",
       "      <td>8.4e-155</td>\n",
       "      <td>502.9</td>\n",
       "      <td>0.0</td>\n",
       "      <td>1.0</td>\n",
       "      <td>1</td>\n",
       "      <td>0</td>\n",
       "      <td>0</td>\n",
       "      <td>1</td>\n",
       "      <td>1</td>\n",
       "      <td>1</td>\n",
       "      <td>1</td>\n",
       "      <td>Monooxygenase subunit B protein</td>\n",
       "    </tr>\n",
       "    <tr>\n",
       "      <th>12</th>\n",
       "      <td>AMO</td>\n",
       "      <td>PF02461.15</td>\n",
       "      <td>2517404867</td>\n",
       "      <td>-</td>\n",
       "      <td>6.5e-114</td>\n",
       "      <td>367.3</td>\n",
       "      <td>13.8</td>\n",
       "      <td>7.7e-114</td>\n",
       "      <td>367.0</td>\n",
       "      <td>13.8</td>\n",
       "      <td>1.0</td>\n",
       "      <td>1</td>\n",
       "      <td>0</td>\n",
       "      <td>0</td>\n",
       "      <td>1</td>\n",
       "      <td>1</td>\n",
       "      <td>1</td>\n",
       "      <td>1</td>\n",
       "      <td>Ammonia monooxygenase</td>\n",
       "    </tr>\n",
       "  </tbody>\n",
       "</table>\n",
       "</div>"
      ],
      "text/plain": [
       "                 0           1           2  3         4      5     6   \\\n",
       "0              AmoC  PF04896.11  2517401456  -  5.6e-120  386.8  15.8   \n",
       "1              AmoC  PF04896.11  2517402628  -  5.8e-122  393.3  14.7   \n",
       "2               AMO  PF02461.15  2517402629  -  4.8e-124  400.4  24.0   \n",
       "3   Monooxygenase_B  PF04744.11  2517402630  -  3.3e-170  553.6   0.0   \n",
       "4              AmoC  PF04896.11  2517403201  -  5.8e-122  393.3  14.7   \n",
       "5   Monooxygenase_B  PF04744.11  2517403996  -  3.3e-170  553.6   0.0   \n",
       "6               AMO  PF02461.15  2517403997  -  4.8e-124  400.4  24.0   \n",
       "7              AmoC  PF04896.11  2517403998  -  5.8e-122  393.3  14.7   \n",
       "8              AmoC  PF04896.11  2517404225  -  5.6e-111  357.3  11.5   \n",
       "9              AmoC  PF04896.11  2517404670  -   1.7e-30   93.8   0.0   \n",
       "10             AmoC  PF04896.11  2517404865  -   4.2e-93  298.8  17.7   \n",
       "11  Monooxygenase_B  PF04744.11  2517404866  -  7.5e-155  503.0   0.0   \n",
       "12              AMO  PF02461.15  2517404867  -  6.5e-114  367.3  13.8   \n",
       "\n",
       "          7      8     9    10 11 12 13 14 15 16 17  \\\n",
       "0   7.2e-120  386.4  15.8  1.0  1  0  0  1  1  1  1   \n",
       "1     7e-122  393.0  14.7  1.0  1  0  0  1  1  1  1   \n",
       "2   5.4e-124  400.3  24.0  1.0  1  0  0  1  1  1  1   \n",
       "3   3.7e-170  553.4   0.0  1.0  1  0  0  1  1  1  1   \n",
       "4     7e-122  393.0  14.7  1.0  1  0  0  1  1  1  1   \n",
       "5   3.7e-170  553.4   0.0  1.0  1  0  0  1  1  1  1   \n",
       "6   5.4e-124  400.3  24.0  1.0  1  0  0  1  1  1  1   \n",
       "7     7e-122  393.0  14.7  1.0  1  0  0  1  1  1  1   \n",
       "8   6.6e-111  357.1  11.5  1.0  1  0  0  1  1  1  1   \n",
       "9    2.2e-30   93.3   0.0  1.1  1  0  0  1  1  1  1   \n",
       "10   5.1e-93  298.5  17.7  1.0  1  0  0  1  1  1  1   \n",
       "11  8.4e-155  502.9   0.0  1.0  1  0  0  1  1  1  1   \n",
       "12  7.7e-114  367.0  13.8  1.0  1  0  0  1  1  1  1   \n",
       "\n",
       "                                                   18  \n",
       "0   Ammonia monooxygenase/methane monooxygenase, s...  \n",
       "1   Ammonia monooxygenase/methane monooxygenase, s...  \n",
       "2                               Ammonia monooxygenase  \n",
       "3                     Monooxygenase subunit B protein  \n",
       "4   Ammonia monooxygenase/methane monooxygenase, s...  \n",
       "5                     Monooxygenase subunit B protein  \n",
       "6                               Ammonia monooxygenase  \n",
       "7   Ammonia monooxygenase/methane monooxygenase, s...  \n",
       "8   Ammonia monooxygenase/methane monooxygenase, s...  \n",
       "9   Ammonia monooxygenase/methane monooxygenase, s...  \n",
       "10  Ammonia monooxygenase/methane monooxygenase, s...  \n",
       "11                    Monooxygenase subunit B protein  \n",
       "12                              Ammonia monooxygenase  "
      ]
     },
     "execution_count": 802,
     "metadata": {},
     "output_type": "execute_result"
    }
   ],
   "source": [
    "#df['period'] = df[['Year', 'quarter']].apply(lambda x: ''.join(x), axis=1)\n",
    "df[18]=df.loc[:,18:].apply(joinDescriptionColumns, axis=1)\n",
    "df=df.loc[:,:18]\n",
    "df"
   ]
  },
  {
   "cell_type": "code",
   "execution_count": null,
   "metadata": {
    "collapsed": true
   },
   "outputs": [],
   "source": []
  },
  {
   "cell_type": "code",
   "execution_count": null,
   "metadata": {
    "collapsed": false
   },
   "outputs": [],
   "source": []
  },
  {
   "cell_type": "code",
   "execution_count": null,
   "metadata": {
    "collapsed": true
   },
   "outputs": [],
   "source": []
  },
  {
   "cell_type": "code",
   "execution_count": null,
   "metadata": {
    "collapsed": false
   },
   "outputs": [],
   "source": []
  },
  {
   "cell_type": "code",
   "execution_count": null,
   "metadata": {
    "collapsed": true
   },
   "outputs": [],
   "source": []
  },
  {
   "cell_type": "code",
   "execution_count": null,
   "metadata": {
    "collapsed": true
   },
   "outputs": [],
   "source": []
  },
  {
   "cell_type": "code",
   "execution_count": null,
   "metadata": {
    "collapsed": false
   },
   "outputs": [],
   "source": []
  },
  {
   "cell_type": "code",
   "execution_count": null,
   "metadata": {
    "collapsed": false
   },
   "outputs": [],
   "source": []
  },
  {
   "cell_type": "code",
   "execution_count": 259,
   "metadata": {
    "collapsed": false
   },
   "outputs": [
    {
     "name": "stdout",
     "output_type": "stream",
     "text": [
      "parallel -j 8 hmmscan -o /dev/null --noali --cpu 1 --tblout >(tee -a 0.tab)  ../amoCAB {} ::: /tmp/tmpsNB_xI /tmp/tmp9XW3yx /tmp/tmpyMn37J /tmp/tmp4h4Gou \n",
      "CPU times: user 2.3 ms, sys: 331 µs, total: 2.63 ms\n",
      "Wall time: 356 ms\n"
     ]
    }
   ],
   "source": [
    "%%time\n",
    "import os\n",
    "import subprocess\n",
    "import shlex\n",
    "#hmmscan --tblout amocab_hmmscan_mros.tab  amoCAB 2517287028.genes.faa > /dev/null\n",
    "#os.system(\"makeblastdb -in \"+input_ref_0+\" -dbtype nucl -title \"+title_db+\" -out \"+outfile_db+\" -parse_seqids\")\n",
    "fnames=\"\"\n",
    "flabels=\"\"\n",
    "for (l,f) in files:\n",
    "    fnames+=f.name+\" \"\n",
    "    flabels+=l+\" \"\n",
    "#print flabels\n",
    "    #print(l)\n",
    "    #print(f.name)\n",
    "    #parallel -j $1 blastall \"-p blastn -d nt/nt -i \"{}\" -o \"{.}\".xml -e 1e-10 -m 7 -K 100 -b 200\" ::: *.fa\n",
    "    #print('Exists after close:', os.path.exists(f.name))\n",
    "#this prints nicely to stdout, and is caught by p.stdout.read()\n",
    "#cmd=\"parallel -j 8 hmmscan \"+\"-o /dev/null --noali --cpu 1\"+\" --tblout >(tee /dev/stdout)  \" + \"../amoCAB {} ::: \"+fnames\n",
    "#this prints to the file and stdout\n",
    "#0.tab should be deleted if exists\n",
    "if os.path.exists(\"0.tab\"):\n",
    "    os.remove(\"0.tab\")\n",
    "cmd=\"parallel -j 8 hmmscan \"+\"-o /dev/null --noali --cpu 1\"+\" --tblout >(tee -a 0.tab)  \" + \"../amoCAB {} ::: \"+fnames\n",
    "args = shlex.split(cmd)\n",
    "#os.system(cmd)\n",
    "p=subprocess.Popen(args,stdout=subprocess.PIPE)\n",
    "#print(p.stdout.read())\n",
    "output=p.stdout.read()\n",
    "#os.system(cmd)\n",
    "#command=\"parallel -j 8 hmmscan \"+\"--cpu 1\"+\" --tblout {}.tab \" + \"../amoCAB {} ::: \"+fnames\n",
    "print(cmd)"
   ]
  },
  {
   "cell_type": "code",
   "execution_count": null,
   "metadata": {
    "collapsed": true
   },
   "outputs": [],
   "source": []
  },
  {
   "cell_type": "code",
   "execution_count": null,
   "metadata": {
    "collapsed": true
   },
   "outputs": [],
   "source": []
  },
  {
   "cell_type": "code",
   "execution_count": null,
   "metadata": {
    "collapsed": true
   },
   "outputs": [],
   "source": []
  },
  {
   "cell_type": "markdown",
   "metadata": {},
   "source": [
    "## Trying GNU parallel"
   ]
  },
  {
   "cell_type": "code",
   "execution_count": 260,
   "metadata": {
    "collapsed": false
   },
   "outputs": [
    {
     "data": {
      "text/plain": [
       "[('group_1.fasta', <open file '<fdopen>', mode 'w+b' at 0x7fbba15f5ed0>),\n",
       " ('group_2.fasta', <open file '<fdopen>', mode 'w+b' at 0x7fbb79bbcd20>),\n",
       " ('group_3.fasta', <open file '<fdopen>', mode 'w+b' at 0x7fbba15f5f60>),\n",
       " ('group_4.fasta', <open file '<fdopen>', mode 'w+b' at 0x7fbb792be030>)]"
      ]
     },
     "execution_count": 260,
     "metadata": {},
     "output_type": "execute_result"
    }
   ],
   "source": [
    "files"
   ]
  },
  {
   "cell_type": "code",
   "execution_count": 8,
   "metadata": {
    "collapsed": false
   },
   "outputs": [],
   "source": [
    "#this works\n",
    "#parallel -j 8 hmmscan --cpu 1 --tblout {.}.tab ../amoCAB {} ::: *.fasta > /dev/null\n"
   ]
  },
  {
   "cell_type": "code",
   "execution_count": 35,
   "metadata": {
    "collapsed": false,
    "scrolled": true
   },
   "outputs": [
    {
     "name": "stdout",
     "output_type": "stream",
     "text": [
      "parallel -j 8 hmmscan --cpu 1 --tblout >(tee {#}.tab) ../amoCAB {} ::: /tmp/tmpDjX8B8 /tmp/tmp6fEZVA /tmp/tmprxg_Kg /tmp/tmpG2VDVP  > /dev/null\n",
      "CPU times: user 928 µs, sys: 122 µs, total: 1.05 ms\n",
      "Wall time: 1.63 ms\n"
     ]
    }
   ],
   "source": [
    "%%time\n",
    "import os\n",
    "#hmmscan --tblout amocab_hmmscan_mros.tab  amoCAB 2517287028.genes.faa > /dev/null\n",
    "#os.system(\"makeblastdb -in \"+input_ref_0+\" -dbtype nucl -title \"+title_db+\" -out \"+outfile_db+\" -parse_seqids\")\n",
    "fnames=\"\"\n",
    "flabels=\"\"\n",
    "for (l,f) in files:\n",
    "    fnames+=f.name+\" \"\n",
    "    flabels+=l+\" \"\n",
    "#print flabels\n",
    "    #print(l)\n",
    "    #print(f.name)\n",
    "    #parallel -j $1 blastall \"-p blastn -d nt/nt -i \"{}\" -o \"{.}\".xml -e 1e-10 -m 7 -K 100 -b 200\" ::: *.fa\n",
    "    #print('Exists after close:', os.path.exists(f.name))\n",
    "    #this does print in the output:\n",
    "    #hmmscan --cpu 8 --noali --tblout >(tee 1.tab)  ../amoCAB /tmp/tmp4WuJSN > /dev/null\n",
    "\n",
    "cmd=\"parallel -j 8 hmmscan \"+\"--cpu 1\"+\" --tblout >(tee {#}.tab) \" + \"../amoCAB {} ::: \"+fnames+\" > /dev/null\"\n",
    "os.system(cmd)\n",
    "#command=\"parallel -j 8 hmmscan \"+\"--cpu 1\"+\" --tblout {}.tab \" + \"../amoCAB {} ::: \"+fnames\n",
    "print(cmd)\n",
    "    #os.system(command)\n",
    "\n",
    "# for (l,f) in files:\n",
    "#     print(l)\n",
    "#     print(f.name)\n",
    "#     f.close()\n",
    "#     print('Exists after close:', os.path.exists(f.name))"
   ]
  },
  {
   "cell_type": "code",
   "execution_count": 200,
   "metadata": {
    "collapsed": false
   },
   "outputs": [
    {
     "data": {
      "text/plain": [
       "119"
      ]
     },
     "execution_count": 200,
     "metadata": {},
     "output_type": "execute_result"
    }
   ],
   "source": []
  },
  {
   "cell_type": "code",
   "execution_count": null,
   "metadata": {
    "collapsed": true
   },
   "outputs": [],
   "source": []
  },
  {
   "cell_type": "markdown",
   "metadata": {},
   "source": [
    "# Rewriting to use subprocess module"
   ]
  },
  {
   "cell_type": "code",
   "execution_count": null,
   "metadata": {
    "collapsed": true
   },
   "outputs": [],
   "source": [
    "# x = subprocess.Popen(['touch', 'xyz'])\n",
    "# >>> print x"
   ]
  },
  {
   "cell_type": "code",
   "execution_count": 150,
   "metadata": {
    "collapsed": false
   },
   "outputs": [
    {
     "name": "stdout",
     "output_type": "stream",
     "text": [
      "\n",
      "parallel -j 8 hmmscan  --noali --cpu 1 --tblout >0.tab  ../amoCAB {} ::: /tmp/tmp7100qP /tmp/tmpnD7HAz /tmp/tmpoKVoBZ /tmp/tmpm1kpsd  > /dev/null\n",
      "CPU times: user 1.03 ms, sys: 4.03 ms, total: 5.06 ms\n",
      "Wall time: 93.7 ms\n"
     ]
    }
   ],
   "source": [
    "%%time\n",
    "import os\n",
    "import subprocess\n",
    "#hmmscan --tblout amocab_hmmscan_mros.tab  amoCAB 2517287028.genes.faa > /dev/null\n",
    "#os.system(\"makeblastdb -in \"+input_ref_0+\" -dbtype nucl -title \"+title_db+\" -out \"+outfile_db+\" -parse_seqids\")\n",
    "fnames=\"\"\n",
    "flabels=\"\"\n",
    "for (l,f) in files:\n",
    "    fnames+=f.name+\" \"\n",
    "    flabels+=l+\" \"\n",
    "#print flabels\n",
    "    #print(l)\n",
    "    #print(f.name)\n",
    "    #parallel -j $1 blastall \"-p blastn -d nt/nt -i \"{}\" -o \"{.}\".xml -e 1e-10 -m 7 -K 100 -b 200\" ::: *.fa\n",
    "    #print('Exists after close:', os.path.exists(f.name))\n",
    "cmd=\"parallel -j 8 hmmscan \"+\" --noali --cpu 1\"+\" --tblout >0.tab  \" + \"../amoCAB {} ::: \"+fnames+\" > /dev/null\"\n",
    "p=subprocess.Popen(cmd, shell=True,stdout=subprocess.PIPE)\n",
    "print(p.stdout.read())\n",
    "#os.system(cmd)\n",
    "#command=\"parallel -j 8 hmmscan \"+\"--cpu 1\"+\" --tblout {}.tab \" + \"../amoCAB {} ::: \"+fnames\n",
    "print(cmd)"
   ]
  },
  {
   "cell_type": "markdown",
   "metadata": {},
   "source": [
    "## os.system version for output redirection"
   ]
  },
  {
   "cell_type": "code",
   "execution_count": 21,
   "metadata": {
    "collapsed": false
   },
   "outputs": [
    {
     "data": {
      "text/plain": [
       "[('group_1.fasta', <open file '<fdopen>', mode 'w+b' at 0x7fbba15f5e40>),\n",
       " ('group_2.fasta', <open file '<fdopen>', mode 'w+b' at 0x7fbbafb60150>),\n",
       " ('group_3.fasta', <open file '<fdopen>', mode 'w+b' at 0x7fbba15f5c90>),\n",
       " ('group_4.fasta', <open file '<fdopen>', mode 'w+b' at 0x7fbbafb600c0>)]"
      ]
     },
     "execution_count": 21,
     "metadata": {},
     "output_type": "execute_result"
    }
   ],
   "source": [
    "files"
   ]
  },
  {
   "cell_type": "code",
   "execution_count": 24,
   "metadata": {
    "collapsed": false
   },
   "outputs": [
    {
     "ename": "NameError",
     "evalue": "name 'fnames' is not defined",
     "output_type": "error",
     "traceback": [
      "\u001b[1;31m---------------------------------------------------------------------------\u001b[0m",
      "\u001b[1;31mNameError\u001b[0m                                 Traceback (most recent call last)",
      "\u001b[1;32m<ipython-input-24-95ada7e4bf56>\u001b[0m in \u001b[0;36m<module>\u001b[1;34m()\u001b[0m\n\u001b[1;32m----> 1\u001b[1;33m \u001b[0mfnames\u001b[0m\u001b[1;33m\u001b[0m\u001b[0m\n\u001b[0m",
      "\u001b[1;31mNameError\u001b[0m: name 'fnames' is not defined"
     ]
    }
   ],
   "source": [
    "fnames"
   ]
  },
  {
   "cell_type": "code",
   "execution_count": null,
   "metadata": {
    "collapsed": true
   },
   "outputs": [],
   "source": []
  },
  {
   "cell_type": "markdown",
   "metadata": {},
   "source": [
    "## Finally it works: --tblout >(tee >> 0.tab) to the rescue"
   ]
  },
  {
   "cell_type": "code",
   "execution_count": 306,
   "metadata": {
    "collapsed": false
   },
   "outputs": [
    {
     "data": {
      "text/plain": [
       "[(0, <open file '<fdopen>', mode 'w+b' at 0x7fbba162bc90>),\n",
       " (1, <open file '<fdopen>', mode 'w+b' at 0x7fbba14111e0>),\n",
       " (2, <open file '<fdopen>', mode 'w+b' at 0x7fbba0bfbed0>),\n",
       " (3, <open file '<fdopen>', mode 'w+b' at 0x7fbb792be930>)]"
      ]
     },
     "execution_count": 306,
     "metadata": {},
     "output_type": "execute_result"
    }
   ],
   "source": [
    "files"
   ]
  },
  {
   "cell_type": "code",
   "execution_count": null,
   "metadata": {
    "collapsed": true
   },
   "outputs": [],
   "source": []
  },
  {
   "cell_type": "code",
   "execution_count": null,
   "metadata": {
    "collapsed": true
   },
   "outputs": [],
   "source": []
  },
  {
   "cell_type": "code",
   "execution_count": 307,
   "metadata": {
    "collapsed": false
   },
   "outputs": [
    {
     "data": {
      "text/plain": [
       "{'/tmp/tmpNdc_YO': 2,\n",
       " '/tmp/tmpO4S3j2': 3,\n",
       " '/tmp/tmpSqwnnp': 0,\n",
       " '/tmp/tmpd_zEcV': 1}"
      ]
     },
     "execution_count": 307,
     "metadata": {},
     "output_type": "execute_result"
    }
   ],
   "source": [
    "files2={j.name:i for i,j in files}\n",
    "files2"
   ]
  },
  {
   "cell_type": "code",
   "execution_count": null,
   "metadata": {
    "collapsed": true
   },
   "outputs": [],
   "source": []
  },
  {
   "cell_type": "code",
   "execution_count": 308,
   "metadata": {
    "collapsed": false
   },
   "outputs": [
    {
     "name": "stdout",
     "output_type": "stream",
     "text": [
      "parallel -j 8 hmmscan -o /dev/null --noali --cpu 1 --tblout >(tee -a 0.tab)  ../amoCAB {} ::: /tmp/tmpSqwnnp /tmp/tmpd_zEcV /tmp/tmpNdc_YO /tmp/tmpO4S3j2 \n",
      "CPU times: user 0 ns, sys: 7.66 ms, total: 7.66 ms\n",
      "Wall time: 361 ms\n"
     ]
    }
   ],
   "source": [
    "%%time\n",
    "import os\n",
    "import subprocess\n",
    "import shlex\n",
    "#hmmscan --tblout amocab_hmmscan_mros.tab  amoCAB 2517287028.genes.faa > /dev/null\n",
    "#os.system(\"makeblastdb -in \"+input_ref_0+\" -dbtype nucl -title \"+title_db+\" -out \"+outfile_db+\" -parse_seqids\")\n",
    "fnames=\"\"\n",
    "flabels=\"\"\n",
    "for (l,f) in files:\n",
    "    fnames+=f.name+\" \"\n",
    "    flabels+=str(l)+\" \"\n",
    "#print flabels\n",
    "    #print(l)\n",
    "    #print(f.name)\n",
    "    #parallel -j $1 blastall \"-p blastn -d nt/nt -i \"{}\" -o \"{.}\".xml -e 1e-10 -m 7 -K 100 -b 200\" ::: *.fa\n",
    "    #print('Exists after close:', os.path.exists(f.name))\n",
    "#this prints nicely to stdout, and is caught by p.stdout.read()\n",
    "#cmd=\"parallel -j 8 hmmscan \"+\"-o /dev/null --noali --cpu 1\"+\" --tblout >(tee /dev/stdout)  \" + \"../amoCAB {} ::: \"+fnames\n",
    "#this prints to the file and stdout\n",
    "#0.tab should be deleted if exists\n",
    "if os.path.exists(\"0.tab\"):\n",
    "    os.remove(\"0.tab\")\n",
    "cmd=\"parallel -j 8 hmmscan \"+\"-o /dev/null --noali --cpu 1\"+\" --tblout >(tee -a 0.tab)  \" + \"../amoCAB {} ::: \"+fnames\n",
    "args = shlex.split(cmd)\n",
    "#os.system(cmd)\n",
    "p=subprocess.Popen(args,stdout=subprocess.PIPE)\n",
    "#print(p.stdout.read())\n",
    "output=p.stdout.read()\n",
    "#os.system(cmd)\n",
    "#command=\"parallel -j 8 hmmscan \"+\"--cpu 1\"+\" --tblout {}.tab \" + \"../amoCAB {} ::: \"+fnames\n",
    "print(cmd)"
   ]
  },
  {
   "cell_type": "code",
   "execution_count": null,
   "metadata": {
    "collapsed": false
   },
   "outputs": [],
   "source": []
  },
  {
   "cell_type": "code",
   "execution_count": 309,
   "metadata": {
    "collapsed": false
   },
   "outputs": [
    {
     "data": {
      "text/plain": [
       "4"
      ]
     },
     "execution_count": 309,
     "metadata": {},
     "output_type": "execute_result"
    }
   ],
   "source": [
    "len(files)"
   ]
  },
  {
   "cell_type": "code",
   "execution_count": null,
   "metadata": {
    "collapsed": true
   },
   "outputs": [],
   "source": []
  },
  {
   "cell_type": "code",
   "execution_count": 310,
   "metadata": {
    "collapsed": true
   },
   "outputs": [],
   "source": [
    "split_line=\"#                                                               --- full sequence ---- --- best 1 domain ---- --- domain number estimation ----\"\n",
    "chunks=output.split(split_line)"
   ]
  },
  {
   "cell_type": "code",
   "execution_count": 311,
   "metadata": {
    "collapsed": false
   },
   "outputs": [
    {
     "data": {
      "text/plain": [
       "['',\n",
       " '\\n# target name        accession  query name           accession    E-value  score  bias   E-value  score  bias   exp reg clu  ov env dom rep inc description of target\\n#------------------- ---------- -------------------- ---------- --------- ------ ----- --------- ------ -----   --- --- --- --- --- --- --- --- ---------------------\\nAmoC                 PF04896.11 2517404225           -           5.6e-111  357.3  11.5  6.6e-111  357.1  11.5   1.0   1   0   0   1   1   1   1 Ammonia monooxygenase/methane monooxygenase, subunit C\\nAmoC                 PF04896.11 2517404670           -            1.7e-30   93.8   0.0   2.2e-30   93.3   0.0   1.1   1   0   0   1   1   1   1 Ammonia monooxygenase/methane monooxygenase, subunit C\\nAmoC                 PF04896.11 2517404865           -            4.2e-93  298.8  17.7   5.1e-93  298.5  17.7   1.0   1   0   0   1   1   1   1 Ammonia monooxygenase/methane monooxygenase, subunit C\\nMonooxygenase_B      PF04744.11 2517404866           -           7.5e-155  503.0   0.0  8.4e-155  502.9   0.0   1.0   1   0   0   1   1   1   1 Monooxygenase subunit B protein\\nAMO                  PF02461.15 2517404867           -           6.5e-114  367.3  13.8  7.7e-114  367.0  13.8   1.0   1   0   0   1   1   1   1 Ammonia monooxygenase\\n#\\n# Program:         hmmscan\\n# Version:         3.1b2 (February 2015)\\n# Pipeline mode:   SCAN\\n# Query file:      /tmp/tmpO4S3j2\\n# Target file:     ../amoCAB\\n# Option settings: hmmscan -o /dev/null --tblout /dev/fd/63 --noali --cpu 1 ../amoCAB /tmp/tmpO4S3j2 \\n# Current dir:     /media/andriy/5E8D984477029FC2/scripts/operon_finder/gen_func_file_parsing\\n# Date:            Wed Oct  4 01:32:42 2017\\n# [ok]\\n',\n",
       " '\\n# target name        accession  query name           accession    E-value  score  bias   E-value  score  bias   exp reg clu  ov env dom rep inc description of target\\n#------------------- ---------- -------------------- ---------- --------- ------ ----- --------- ------ -----   --- --- --- --- --- --- --- --- ---------------------\\nAmoC                 PF04896.11 2517401456           -           5.6e-120  386.8  15.8  7.2e-120  386.4  15.8   1.0   1   0   0   1   1   1   1 Ammonia monooxygenase/methane monooxygenase, subunit C\\n#\\n# Program:         hmmscan\\n# Version:         3.1b2 (February 2015)\\n# Pipeline mode:   SCAN\\n# Query file:      /tmp/tmpSqwnnp\\n# Target file:     ../amoCAB\\n# Option settings: hmmscan -o /dev/null --tblout /dev/fd/63 --noali --cpu 1 ../amoCAB /tmp/tmpSqwnnp \\n# Current dir:     /media/andriy/5E8D984477029FC2/scripts/operon_finder/gen_func_file_parsing\\n# Date:            Wed Oct  4 01:32:42 2017\\n# [ok]\\n',\n",
       " '\\n# target name        accession  query name           accession    E-value  score  bias   E-value  score  bias   exp reg clu  ov env dom rep inc description of target\\n#------------------- ---------- -------------------- ---------- --------- ------ ----- --------- ------ -----   --- --- --- --- --- --- --- --- ---------------------\\nAmoC                 PF04896.11 2517402628           -           5.8e-122  393.3  14.7    7e-122  393.0  14.7   1.0   1   0   0   1   1   1   1 Ammonia monooxygenase/methane monooxygenase, subunit C\\nAMO                  PF02461.15 2517402629           -           4.8e-124  400.4  24.0  5.4e-124  400.3  24.0   1.0   1   0   0   1   1   1   1 Ammonia monooxygenase\\nMonooxygenase_B      PF04744.11 2517402630           -           3.3e-170  553.6   0.0  3.7e-170  553.4   0.0   1.0   1   0   0   1   1   1   1 Monooxygenase subunit B protein\\n#\\n# Program:         hmmscan\\n# Version:         3.1b2 (February 2015)\\n# Pipeline mode:   SCAN\\n# Query file:      /tmp/tmpd_zEcV\\n# Target file:     ../amoCAB\\n# Option settings: hmmscan -o /dev/null --tblout /dev/fd/63 --noali --cpu 1 ../amoCAB /tmp/tmpd_zEcV \\n# Current dir:     /media/andriy/5E8D984477029FC2/scripts/operon_finder/gen_func_file_parsing\\n# Date:            Wed Oct  4 01:32:42 2017\\n# [ok]\\n',\n",
       " '\\n# target name        accession  query name           accession    E-value  score  bias   E-value  score  bias   exp reg clu  ov env dom rep inc description of target\\n#------------------- ---------- -------------------- ---------- --------- ------ ----- --------- ------ -----   --- --- --- --- --- --- --- --- ---------------------\\nAmoC                 PF04896.11 2517403201           -           5.8e-122  393.3  14.7    7e-122  393.0  14.7   1.0   1   0   0   1   1   1   1 Ammonia monooxygenase/methane monooxygenase, subunit C\\nMonooxygenase_B      PF04744.11 2517403996           -           3.3e-170  553.6   0.0  3.7e-170  553.4   0.0   1.0   1   0   0   1   1   1   1 Monooxygenase subunit B protein\\nAMO                  PF02461.15 2517403997           -           4.8e-124  400.4  24.0  5.4e-124  400.3  24.0   1.0   1   0   0   1   1   1   1 Ammonia monooxygenase\\nAmoC                 PF04896.11 2517403998           -           5.8e-122  393.3  14.7    7e-122  393.0  14.7   1.0   1   0   0   1   1   1   1 Ammonia monooxygenase/methane monooxygenase, subunit C\\n#\\n# Program:         hmmscan\\n# Version:         3.1b2 (February 2015)\\n# Pipeline mode:   SCAN\\n# Query file:      /tmp/tmpNdc_YO\\n# Target file:     ../amoCAB\\n# Option settings: hmmscan -o /dev/null --tblout /dev/fd/63 --noali --cpu 1 ../amoCAB /tmp/tmpNdc_YO \\n# Current dir:     /media/andriy/5E8D984477029FC2/scripts/operon_finder/gen_func_file_parsing\\n# Date:            Wed Oct  4 01:32:42 2017\\n# [ok]\\n']"
      ]
     },
     "execution_count": 311,
     "metadata": {},
     "output_type": "execute_result"
    }
   ],
   "source": [
    "chunks"
   ]
  },
  {
   "cell_type": "code",
   "execution_count": 300,
   "metadata": {
    "collapsed": false
   },
   "outputs": [
    {
     "ename": "IndexError",
     "evalue": "list index out of range",
     "output_type": "error",
     "traceback": [
      "\u001b[1;31m---------------------------------------------------------------------------\u001b[0m",
      "\u001b[1;31mIndexError\u001b[0m                                Traceback (most recent call last)",
      "\u001b[1;32m<ipython-input-300-b9fca51a9a25>\u001b[0m in \u001b[0;36m<module>\u001b[1;34m()\u001b[0m\n\u001b[1;32m----> 1\u001b[1;33m \u001b[0mchunks\u001b[0m\u001b[1;33m[\u001b[0m\u001b[1;36m2\u001b[0m\u001b[1;33m]\u001b[0m\u001b[1;33m\u001b[0m\u001b[0m\n\u001b[0m",
      "\u001b[1;31mIndexError\u001b[0m: list index out of range"
     ]
    }
   ],
   "source": [
    "chunks[2]"
   ]
  },
  {
   "cell_type": "code",
   "execution_count": 111,
   "metadata": {
    "collapsed": false
   },
   "outputs": [
    {
     "data": {
      "text/plain": [
       "[]"
      ]
     },
     "execution_count": 111,
     "metadata": {},
     "output_type": "execute_result"
    }
   ],
   "source": [
    "import re\n",
    "re.findall('# Query file:\\s*(.*)', chunks[0])"
   ]
  },
  {
   "cell_type": "code",
   "execution_count": 108,
   "metadata": {
    "collapsed": false
   },
   "outputs": [
    {
     "data": {
      "text/plain": [
       "['',\n",
       " '\\n# target name        accession  query name           accession    E-value  score  bias   E-value  score  bias   exp reg clu  ov env dom rep inc description of target\\n#------------------- ---------- -------------------- ---------- --------- ------ ----- --------- ------ -----   --- --- --- --- --- --- --- --- ---------------------\\nAmoC                 PF04896.11 2517404225           -           5.6e-111  357.3  11.5  6.6e-111  357.1  11.5   1.0   1   0   0   1   1   1   1 Ammonia monooxygenase/methane monooxygenase, subunit C\\nAmoC                 PF04896.11 2517404670           -            1.7e-30   93.8   0.0   2.2e-30   93.3   0.0   1.1   1   0   0   1   1   1   1 Ammonia monooxygenase/methane monooxygenase, subunit C\\nAmoC                 PF04896.11 2517404865           -            4.2e-93  298.8  17.7   5.1e-93  298.5  17.7   1.0   1   0   0   1   1   1   1 Ammonia monooxygenase/methane monooxygenase, subunit C\\nMonooxygenase_B      PF04744.11 2517404866           -           7.5e-155  503.0   0.0  8.4e-155  502.9   0.0   1.0   1   0   0   1   1   1   1 Monooxygenase subunit B protein\\nAMO                  PF02461.15 2517404867           -           6.5e-114  367.3  13.8  7.7e-114  367.0  13.8   1.0   1   0   0   1   1   1   1 Ammonia monooxygenase\\n#\\n# Program:         hmmscan\\n# Version:         3.1b2 (February 2015)\\n# Pipeline mode:   SCAN\\n# Query file:      /tmp/tmp4h4Gou\\n# Target file:     ../amoCAB\\n# Option settings: hmmscan -o /dev/null --tblout /dev/fd/63 --noali --cpu 1 ../amoCAB /tmp/tmp4h4Gou \\n# Current dir:     /media/andriy/5E8D984477029FC2/scripts/operon_finder/gen_func_file_parsing\\n# Date:            Tue Oct  3 22:33:56 2017\\n# [ok]\\n',\n",
       " '\\n# target name        accession  query name           accession    E-value  score  bias   E-value  score  bias   exp reg clu  ov env dom rep inc description of target\\n#------------------- ---------- -------------------- ---------- --------- ------ ----- --------- ------ -----   --- --- --- --- --- --- --- --- ---------------------\\nAmoC                 PF04896.11 2517401456           -           5.6e-120  386.8  15.8  7.2e-120  386.4  15.8   1.0   1   0   0   1   1   1   1 Ammonia monooxygenase/methane monooxygenase, subunit C\\n#\\n# Program:         hmmscan\\n# Version:         3.1b2 (February 2015)\\n# Pipeline mode:   SCAN\\n# Query file:      /tmp/tmpsNB_xI\\n# Target file:     ../amoCAB\\n# Option settings: hmmscan -o /dev/null --tblout /dev/fd/63 --noali --cpu 1 ../amoCAB /tmp/tmpsNB_xI \\n# Current dir:     /media/andriy/5E8D984477029FC2/scripts/operon_finder/gen_func_file_parsing\\n# Date:            Tue Oct  3 22:33:56 2017\\n# [ok]\\n',\n",
       " '\\n# target name        accession  query name           accession    E-value  score  bias   E-value  score  bias   exp reg clu  ov env dom rep inc description of target\\n#------------------- ---------- -------------------- ---------- --------- ------ ----- --------- ------ -----   --- --- --- --- --- --- --- --- ---------------------\\nAmoC                 PF04896.11 2517403201           -           5.8e-122  393.3  14.7    7e-122  393.0  14.7   1.0   1   0   0   1   1   1   1 Ammonia monooxygenase/methane monooxygenase, subunit C\\nMonooxygenase_B      PF04744.11 2517403996           -           3.3e-170  553.6   0.0  3.7e-170  553.4   0.0   1.0   1   0   0   1   1   1   1 Monooxygenase subunit B protein\\nAMO                  PF02461.15 2517403997           -           4.8e-124  400.4  24.0  5.4e-124  400.3  24.0   1.0   1   0   0   1   1   1   1 Ammonia monooxygenase\\nAmoC                 PF04896.11 2517403998           -           5.8e-122  393.3  14.7    7e-122  393.0  14.7   1.0   1   0   0   1   1   1   1 Ammonia monooxygenase/methane monooxygenase, subunit C\\n#\\n# Program:         hmmscan\\n# Version:         3.1b2 (February 2015)\\n# Pipeline mode:   SCAN\\n# Query file:      /tmp/tmpyMn37J\\n# Target file:     ../amoCAB\\n# Option settings: hmmscan -o /dev/null --tblout /dev/fd/63 --noali --cpu 1 ../amoCAB /tmp/tmpyMn37J \\n# Current dir:     /media/andriy/5E8D984477029FC2/scripts/operon_finder/gen_func_file_parsing\\n# Date:            Tue Oct  3 22:33:56 2017\\n# [ok]\\n',\n",
       " '\\n# target name        accession  query name           accession    E-value  score  bias   E-value  score  bias   exp reg clu  ov env dom rep inc description of target\\n#------------------- ---------- -------------------- ---------- --------- ------ ----- --------- ------ -----   --- --- --- --- --- --- --- --- ---------------------\\nAmoC                 PF04896.11 2517402628           -           5.8e-122  393.3  14.7    7e-122  393.0  14.7   1.0   1   0   0   1   1   1   1 Ammonia monooxygenase/methane monooxygenase, subunit C\\nAMO                  PF02461.15 2517402629           -           4.8e-124  400.4  24.0  5.4e-124  400.3  24.0   1.0   1   0   0   1   1   1   1 Ammonia monooxygenase\\nMonooxygenase_B      PF04744.11 2517402630           -           3.3e-170  553.6   0.0  3.7e-170  553.4   0.0   1.0   1   0   0   1   1   1   1 Monooxygenase subunit B protein\\n#\\n# Program:         hmmscan\\n# Version:         3.1b2 (February 2015)\\n# Pipeline mode:   SCAN\\n# Query file:      /tmp/tmp9XW3yx\\n# Target file:     ../amoCAB\\n# Option settings: hmmscan -o /dev/null --tblout /dev/fd/63 --noali --cpu 1 ../amoCAB /tmp/tmp9XW3yx \\n# Current dir:     /media/andriy/5E8D984477029FC2/scripts/operon_finder/gen_func_file_parsing\\n# Date:            Tue Oct  3 22:33:56 2017\\n# [ok]\\n']"
      ]
     },
     "execution_count": 108,
     "metadata": {},
     "output_type": "execute_result"
    }
   ],
   "source": [
    "chunks"
   ]
  },
  {
   "cell_type": "code",
   "execution_count": null,
   "metadata": {
    "collapsed": true
   },
   "outputs": [],
   "source": []
  },
  {
   "cell_type": "code",
   "execution_count": 92,
   "metadata": {
    "collapsed": false
   },
   "outputs": [
    {
     "data": {
      "text/plain": [
       "['#                                                               --- full sequence ---- --- best 1 domain ---- --- domain number estimation ----',\n",
       " '# target name        accession  query name           accession    E-value  score  bias   E-value  score  bias   exp reg clu  ov env dom rep inc description of target',\n",
       " '#------------------- ---------- -------------------- ---------- --------- ------ ----- --------- ------ -----   --- --- --- --- --- --- --- --- ---------------------',\n",
       " 'AmoC                 PF04896.11 2517401456           -           5.6e-120  386.8  15.8  7.2e-120  386.4  15.8   1.0   1   0   0   1   1   1   1 Ammonia monooxygenase/methane monooxygenase, subunit C',\n",
       " 'AmoC                 PF04896.11 2517402628           -           5.8e-122  393.3  14.7    7e-122  393.0  14.7   1.0   1   0   0   1   1   1   1 Ammonia monooxygenase/methane monooxygenase, subunit C',\n",
       " 'AMO                  PF02461.15 2517402629           -           4.8e-124  400.4  24.0  5.4e-124  400.3  24.0   1.0   1   0   0   1   1   1   1 Ammonia monooxygenase',\n",
       " 'Monooxygenase_B      PF04744.11 2517402630           -           3.3e-170  553.6   0.0  3.7e-170  553.4   0.0   1.0   1   0   0   1   1   1   1 Monooxygenase subunit B protein',\n",
       " 'AmoC                 PF04896.11 2517403201           -           5.8e-122  393.3  14.7    7e-122  393.0  14.7   1.0   1   0   0   1   1   1   1 Ammonia monooxygenase/methane monooxygenase, subunit C',\n",
       " 'Monooxygenase_B      PF04744.11 2517403996           -           3.3e-170  553.6   0.0  3.7e-170  553.4   0.0   1.0   1   0   0   1   1   1   1 Monooxygenase subunit B protein',\n",
       " 'AMO                  PF02461.15 2517403997           -           4.8e-124  400.4  24.0  5.4e-124  400.3  24.0   1.0   1   0   0   1   1   1   1 Ammonia monooxygenase',\n",
       " 'AmoC                 PF04896.11 2517403998           -           5.8e-122  393.3  14.7    7e-122  393.0  14.7   1.0   1   0   0   1   1   1   1 Ammonia monooxygenase/methane monooxygenase, subunit C',\n",
       " 'AmoC                 PF04896.11 2517404225           -           5.6e-111  357.3  11.5  6.6e-111  357.1  11.5   1.0   1   0   0   1   1   1   1 Ammonia monooxygenase/methane monooxygenase, subunit C',\n",
       " 'AmoC                 PF04896.11 2517404670           -            1.7e-30   93.8   0.0   2.2e-30   93.3   0.0   1.1   1   0   0   1   1   1   1 Ammonia monooxygenase/methane monooxygenase, subunit C',\n",
       " 'AmoC                 PF04896.11 2517404865           -            4.2e-93  298.8  17.7   5.1e-93  298.5  17.7   1.0   1   0   0   1   1   1   1 Ammonia monooxygenase/methane monooxygenase, subunit C',\n",
       " 'Monooxygenase_B      PF04744.11 2517404866           -           7.5e-155  503.0   0.0  8.4e-155  502.9   0.0   1.0   1   0   0   1   1   1   1 Monooxygenase subunit B protein',\n",
       " 'AMO                  PF02461.15 2517404867           -           6.5e-114  367.3  13.8  7.7e-114  367.0  13.8   1.0   1   0   0   1   1   1   1 Ammonia monooxygenase',\n",
       " '#',\n",
       " '# Program:         hmmscan',\n",
       " '# Version:         3.1b2 (February 2015)',\n",
       " '# Pipeline mode:   SCAN',\n",
       " '# Query file:      ../2517287028.genes.faa',\n",
       " '# Target file:     ../amoCAB',\n",
       " '# Option settings: hmmscan -o /dev/null --tblout entire_mros.tab --cpu 8 ../amoCAB ../2517287028.genes.faa ',\n",
       " '# Current dir:     /media/andriy/5E8D984477029FC2/scripts/operon_finder/gen_func_file_parsing',\n",
       " '# Date:            Tue Oct  3 22:22:48 2017',\n",
       " '# [ok]',\n",
       " '']"
      ]
     },
     "execution_count": 92,
     "metadata": {},
     "output_type": "execute_result"
    }
   ],
   "source": [
    "mros_entire"
   ]
  },
  {
   "cell_type": "code",
   "execution_count": 94,
   "metadata": {
    "collapsed": false,
    "scrolled": true
   },
   "outputs": [
    {
     "name": "stdout",
     "output_type": "stream",
     "text": [
      "\n",
      "\n",
      "# target name        accession  query name           accession    E-value  score  bias   E-value  score  bias   exp reg clu  ov env dom rep inc description of target\n",
      "#------------------- ---------- -------------------- ---------- --------- ------ ----- --------- ------ -----   --- --- --- --- --- --- --- --- ---------------------\n",
      "AmoC                 PF04896.11 2517404225           -           5.6e-111  357.3  11.5  6.6e-111  357.1  11.5   1.0   1   0   0   1   1   1   1 Ammonia monooxygenase/methane monooxygenase, subunit C\n",
      "AmoC                 PF04896.11 2517404670           -            1.7e-30   93.8   0.0   2.2e-30   93.3   0.0   1.1   1   0   0   1   1   1   1 Ammonia monooxygenase/methane monooxygenase, subunit C\n",
      "AmoC                 PF04896.11 2517404865           -            4.2e-93  298.8  17.7   5.1e-93  298.5  17.7   1.0   1   0   0   1   1   1   1 Ammonia monooxygenase/methane monooxygenase, subunit C\n",
      "Monooxygenase_B      PF04744.11 2517404866           -           7.5e-155  503.0   0.0  8.4e-155  502.9   0.0   1.0   1   0   0   1   1   1   1 Monooxygenase subunit B protein\n",
      "AMO                  PF02461.15 2517404867           -           6.5e-114  367.3  13.8  7.7e-114  367.0  13.8   1.0   1   0   0   1   1   1   1 Ammonia monooxygenase\n",
      "#\n",
      "# Program:         hmmscan\n",
      "# Version:         3.1b2 (February 2015)\n",
      "# Pipeline mode:   SCAN\n",
      "# Query file:      /tmp/tmp4h4Gou\n",
      "# Target file:     ../amoCAB\n",
      "# Option settings: hmmscan -o /dev/null --tblout /dev/fd/63 --noali --cpu 1 ../amoCAB /tmp/tmp4h4Gou \n",
      "# Current dir:     /media/andriy/5E8D984477029FC2/scripts/operon_finder/gen_func_file_parsing\n",
      "# Date:            Tue Oct  3 22:33:56 2017\n",
      "# [ok]\n",
      "\n",
      "\n",
      "# target name        accession  query name           accession    E-value  score  bias   E-value  score  bias   exp reg clu  ov env dom rep inc description of target\n",
      "#------------------- ---------- -------------------- ---------- --------- ------ ----- --------- ------ -----   --- --- --- --- --- --- --- --- ---------------------\n",
      "AmoC                 PF04896.11 2517401456           -           5.6e-120  386.8  15.8  7.2e-120  386.4  15.8   1.0   1   0   0   1   1   1   1 Ammonia monooxygenase/methane monooxygenase, subunit C\n",
      "#\n",
      "# Program:         hmmscan\n",
      "# Version:         3.1b2 (February 2015)\n",
      "# Pipeline mode:   SCAN\n",
      "# Query file:      /tmp/tmpsNB_xI\n",
      "# Target file:     ../amoCAB\n",
      "# Option settings: hmmscan -o /dev/null --tblout /dev/fd/63 --noali --cpu 1 ../amoCAB /tmp/tmpsNB_xI \n",
      "# Current dir:     /media/andriy/5E8D984477029FC2/scripts/operon_finder/gen_func_file_parsing\n",
      "# Date:            Tue Oct  3 22:33:56 2017\n",
      "# [ok]\n",
      "\n",
      "\n",
      "# target name        accession  query name           accession    E-value  score  bias   E-value  score  bias   exp reg clu  ov env dom rep inc description of target\n",
      "#------------------- ---------- -------------------- ---------- --------- ------ ----- --------- ------ -----   --- --- --- --- --- --- --- --- ---------------------\n",
      "AmoC                 PF04896.11 2517403201           -           5.8e-122  393.3  14.7    7e-122  393.0  14.7   1.0   1   0   0   1   1   1   1 Ammonia monooxygenase/methane monooxygenase, subunit C\n",
      "Monooxygenase_B      PF04744.11 2517403996           -           3.3e-170  553.6   0.0  3.7e-170  553.4   0.0   1.0   1   0   0   1   1   1   1 Monooxygenase subunit B protein\n",
      "AMO                  PF02461.15 2517403997           -           4.8e-124  400.4  24.0  5.4e-124  400.3  24.0   1.0   1   0   0   1   1   1   1 Ammonia monooxygenase\n",
      "AmoC                 PF04896.11 2517403998           -           5.8e-122  393.3  14.7    7e-122  393.0  14.7   1.0   1   0   0   1   1   1   1 Ammonia monooxygenase/methane monooxygenase, subunit C\n",
      "#\n",
      "# Program:         hmmscan\n",
      "# Version:         3.1b2 (February 2015)\n",
      "# Pipeline mode:   SCAN\n",
      "# Query file:      /tmp/tmpyMn37J\n",
      "# Target file:     ../amoCAB\n",
      "# Option settings: hmmscan -o /dev/null --tblout /dev/fd/63 --noali --cpu 1 ../amoCAB /tmp/tmpyMn37J \n",
      "# Current dir:     /media/andriy/5E8D984477029FC2/scripts/operon_finder/gen_func_file_parsing\n",
      "# Date:            Tue Oct  3 22:33:56 2017\n",
      "# [ok]\n",
      "\n",
      "\n",
      "# target name        accession  query name           accession    E-value  score  bias   E-value  score  bias   exp reg clu  ov env dom rep inc description of target\n",
      "#------------------- ---------- -------------------- ---------- --------- ------ ----- --------- ------ -----   --- --- --- --- --- --- --- --- ---------------------\n",
      "AmoC                 PF04896.11 2517402628           -           5.8e-122  393.3  14.7    7e-122  393.0  14.7   1.0   1   0   0   1   1   1   1 Ammonia monooxygenase/methane monooxygenase, subunit C\n",
      "AMO                  PF02461.15 2517402629           -           4.8e-124  400.4  24.0  5.4e-124  400.3  24.0   1.0   1   0   0   1   1   1   1 Ammonia monooxygenase\n",
      "Monooxygenase_B      PF04744.11 2517402630           -           3.3e-170  553.6   0.0  3.7e-170  553.4   0.0   1.0   1   0   0   1   1   1   1 Monooxygenase subunit B protein\n",
      "#\n",
      "# Program:         hmmscan\n",
      "# Version:         3.1b2 (February 2015)\n",
      "# Pipeline mode:   SCAN\n",
      "# Query file:      /tmp/tmp9XW3yx\n",
      "# Target file:     ../amoCAB\n",
      "# Option settings: hmmscan -o /dev/null --tblout /dev/fd/63 --noali --cpu 1 ../amoCAB /tmp/tmp9XW3yx \n",
      "# Current dir:     /media/andriy/5E8D984477029FC2/scripts/operon_finder/gen_func_file_parsing\n",
      "# Date:            Tue Oct  3 22:33:56 2017\n",
      "# [ok]\n",
      "\n"
     ]
    }
   ],
   "source": [
    "for chunk in chunks:\n",
    "    print(chunk)"
   ]
  },
  {
   "cell_type": "code",
   "execution_count": null,
   "metadata": {
    "collapsed": true
   },
   "outputs": [],
   "source": []
  },
  {
   "cell_type": "code",
   "execution_count": null,
   "metadata": {
    "collapsed": true
   },
   "outputs": [],
   "source": [
    "# df=pd.DataFrame([x.split() for x in mros_entire[3:-11]])\n",
    "\n",
    "# #df['period'] = df[['Year', 'quarter']].apply(lambda x: ''.join(x), axis=1)\n",
    "# df[18]=df.loc[:,18:].apply(joinDescriptionColumns, axis=1)\n",
    "# df=df.loc[:,:18]\n",
    "# df"
   ]
  },
  {
   "cell_type": "code",
   "execution_count": 434,
   "metadata": {
    "collapsed": false
   },
   "outputs": [],
   "source": [
    "total=[]\n",
    "df_scramb=pd.DataFrame()\n",
    "for chunk in chunks:\n",
    "    if chunk != '':\n",
    "        #print((chunk))\n",
    "        data=chunk.split('\\n')[3:-11]\n",
    "        #print(data)\n",
    "        d=pd.DataFrame([x.split() for x in data])\n",
    "        \n",
    "        query=re.findall('# Query file:\\s*(.*)', chunk)[0]\n",
    "        label=files2[query]\n",
    "        #print(query)\n",
    "        #d['query file']=query\n",
    "        #df.insert(loc=idx, column='A', value=new_col)\n",
    "        d.insert(loc=0, column='query file', value=query)\n",
    "        d.insert(loc=1, column='label', value=label)\n",
    "        #d['label']=files2[query]\n",
    "        df_scramb=df_scramb.append(d)\n",
    "        #total+=chunk.split(\"\\n\")[3:-11]\n",
    "df_scramb.set_index(['query file', 'label'], inplace=True)\n",
    "\n",
    "#df_scramb[18]\n",
    "\n",
    "df_scramb.iloc[:,18]=df_scramb.iloc[:,18:].apply(joinDescriptionColumns, axis=1)\n",
    "df_scramb=df_scramb.iloc[:,:19]\n",
    "df_scramb.reset_index(inplace=True)\n",
    "df_scramb.sort_values(by='label', inplace=True)"
   ]
  },
  {
   "cell_type": "code",
   "execution_count": 435,
   "metadata": {
    "collapsed": false
   },
   "outputs": [
    {
     "data": {
      "text/html": [
       "<div>\n",
       "<table border=\"1\" class=\"dataframe\">\n",
       "  <thead>\n",
       "    <tr style=\"text-align: right;\">\n",
       "      <th></th>\n",
       "      <th>0</th>\n",
       "      <th>1</th>\n",
       "      <th>2</th>\n",
       "      <th>3</th>\n",
       "      <th>4</th>\n",
       "      <th>5</th>\n",
       "      <th>6</th>\n",
       "      <th>7</th>\n",
       "      <th>8</th>\n",
       "      <th>9</th>\n",
       "      <th>10</th>\n",
       "      <th>11</th>\n",
       "      <th>12</th>\n",
       "      <th>13</th>\n",
       "      <th>14</th>\n",
       "      <th>15</th>\n",
       "      <th>16</th>\n",
       "      <th>17</th>\n",
       "      <th>18</th>\n",
       "    </tr>\n",
       "  </thead>\n",
       "  <tbody>\n",
       "    <tr>\n",
       "      <th>0</th>\n",
       "      <td>AmoC</td>\n",
       "      <td>PF04896.11</td>\n",
       "      <td>2517401456</td>\n",
       "      <td>-</td>\n",
       "      <td>5.6e-120</td>\n",
       "      <td>386.8</td>\n",
       "      <td>15.8</td>\n",
       "      <td>7.2e-120</td>\n",
       "      <td>386.4</td>\n",
       "      <td>15.8</td>\n",
       "      <td>1.0</td>\n",
       "      <td>1</td>\n",
       "      <td>0</td>\n",
       "      <td>0</td>\n",
       "      <td>1</td>\n",
       "      <td>1</td>\n",
       "      <td>1</td>\n",
       "      <td>1</td>\n",
       "      <td>Ammonia monooxygenase/methane monooxygenase, s...</td>\n",
       "    </tr>\n",
       "    <tr>\n",
       "      <th>1</th>\n",
       "      <td>AmoC</td>\n",
       "      <td>PF04896.11</td>\n",
       "      <td>2517402628</td>\n",
       "      <td>-</td>\n",
       "      <td>5.8e-122</td>\n",
       "      <td>393.3</td>\n",
       "      <td>14.7</td>\n",
       "      <td>7e-122</td>\n",
       "      <td>393.0</td>\n",
       "      <td>14.7</td>\n",
       "      <td>1.0</td>\n",
       "      <td>1</td>\n",
       "      <td>0</td>\n",
       "      <td>0</td>\n",
       "      <td>1</td>\n",
       "      <td>1</td>\n",
       "      <td>1</td>\n",
       "      <td>1</td>\n",
       "      <td>Ammonia monooxygenase/methane monooxygenase, s...</td>\n",
       "    </tr>\n",
       "    <tr>\n",
       "      <th>2</th>\n",
       "      <td>AMO</td>\n",
       "      <td>PF02461.15</td>\n",
       "      <td>2517402629</td>\n",
       "      <td>-</td>\n",
       "      <td>4.8e-124</td>\n",
       "      <td>400.4</td>\n",
       "      <td>24.0</td>\n",
       "      <td>5.4e-124</td>\n",
       "      <td>400.3</td>\n",
       "      <td>24.0</td>\n",
       "      <td>1.0</td>\n",
       "      <td>1</td>\n",
       "      <td>0</td>\n",
       "      <td>0</td>\n",
       "      <td>1</td>\n",
       "      <td>1</td>\n",
       "      <td>1</td>\n",
       "      <td>1</td>\n",
       "      <td>Ammonia monooxygenase</td>\n",
       "    </tr>\n",
       "    <tr>\n",
       "      <th>3</th>\n",
       "      <td>Monooxygenase_B</td>\n",
       "      <td>PF04744.11</td>\n",
       "      <td>2517402630</td>\n",
       "      <td>-</td>\n",
       "      <td>3.3e-170</td>\n",
       "      <td>553.6</td>\n",
       "      <td>0.0</td>\n",
       "      <td>3.7e-170</td>\n",
       "      <td>553.4</td>\n",
       "      <td>0.0</td>\n",
       "      <td>1.0</td>\n",
       "      <td>1</td>\n",
       "      <td>0</td>\n",
       "      <td>0</td>\n",
       "      <td>1</td>\n",
       "      <td>1</td>\n",
       "      <td>1</td>\n",
       "      <td>1</td>\n",
       "      <td>Monooxygenase subunit B protein</td>\n",
       "    </tr>\n",
       "    <tr>\n",
       "      <th>4</th>\n",
       "      <td>AmoC</td>\n",
       "      <td>PF04896.11</td>\n",
       "      <td>2517403201</td>\n",
       "      <td>-</td>\n",
       "      <td>5.8e-122</td>\n",
       "      <td>393.3</td>\n",
       "      <td>14.7</td>\n",
       "      <td>7e-122</td>\n",
       "      <td>393.0</td>\n",
       "      <td>14.7</td>\n",
       "      <td>1.0</td>\n",
       "      <td>1</td>\n",
       "      <td>0</td>\n",
       "      <td>0</td>\n",
       "      <td>1</td>\n",
       "      <td>1</td>\n",
       "      <td>1</td>\n",
       "      <td>1</td>\n",
       "      <td>Ammonia monooxygenase/methane monooxygenase, s...</td>\n",
       "    </tr>\n",
       "    <tr>\n",
       "      <th>5</th>\n",
       "      <td>Monooxygenase_B</td>\n",
       "      <td>PF04744.11</td>\n",
       "      <td>2517403996</td>\n",
       "      <td>-</td>\n",
       "      <td>3.3e-170</td>\n",
       "      <td>553.6</td>\n",
       "      <td>0.0</td>\n",
       "      <td>3.7e-170</td>\n",
       "      <td>553.4</td>\n",
       "      <td>0.0</td>\n",
       "      <td>1.0</td>\n",
       "      <td>1</td>\n",
       "      <td>0</td>\n",
       "      <td>0</td>\n",
       "      <td>1</td>\n",
       "      <td>1</td>\n",
       "      <td>1</td>\n",
       "      <td>1</td>\n",
       "      <td>Monooxygenase subunit B protein</td>\n",
       "    </tr>\n",
       "    <tr>\n",
       "      <th>6</th>\n",
       "      <td>AMO</td>\n",
       "      <td>PF02461.15</td>\n",
       "      <td>2517403997</td>\n",
       "      <td>-</td>\n",
       "      <td>4.8e-124</td>\n",
       "      <td>400.4</td>\n",
       "      <td>24.0</td>\n",
       "      <td>5.4e-124</td>\n",
       "      <td>400.3</td>\n",
       "      <td>24.0</td>\n",
       "      <td>1.0</td>\n",
       "      <td>1</td>\n",
       "      <td>0</td>\n",
       "      <td>0</td>\n",
       "      <td>1</td>\n",
       "      <td>1</td>\n",
       "      <td>1</td>\n",
       "      <td>1</td>\n",
       "      <td>Ammonia monooxygenase</td>\n",
       "    </tr>\n",
       "    <tr>\n",
       "      <th>7</th>\n",
       "      <td>AmoC</td>\n",
       "      <td>PF04896.11</td>\n",
       "      <td>2517403998</td>\n",
       "      <td>-</td>\n",
       "      <td>5.8e-122</td>\n",
       "      <td>393.3</td>\n",
       "      <td>14.7</td>\n",
       "      <td>7e-122</td>\n",
       "      <td>393.0</td>\n",
       "      <td>14.7</td>\n",
       "      <td>1.0</td>\n",
       "      <td>1</td>\n",
       "      <td>0</td>\n",
       "      <td>0</td>\n",
       "      <td>1</td>\n",
       "      <td>1</td>\n",
       "      <td>1</td>\n",
       "      <td>1</td>\n",
       "      <td>Ammonia monooxygenase/methane monooxygenase, s...</td>\n",
       "    </tr>\n",
       "    <tr>\n",
       "      <th>8</th>\n",
       "      <td>AmoC</td>\n",
       "      <td>PF04896.11</td>\n",
       "      <td>2517404225</td>\n",
       "      <td>-</td>\n",
       "      <td>5.6e-111</td>\n",
       "      <td>357.3</td>\n",
       "      <td>11.5</td>\n",
       "      <td>6.6e-111</td>\n",
       "      <td>357.1</td>\n",
       "      <td>11.5</td>\n",
       "      <td>1.0</td>\n",
       "      <td>1</td>\n",
       "      <td>0</td>\n",
       "      <td>0</td>\n",
       "      <td>1</td>\n",
       "      <td>1</td>\n",
       "      <td>1</td>\n",
       "      <td>1</td>\n",
       "      <td>Ammonia monooxygenase/methane monooxygenase, s...</td>\n",
       "    </tr>\n",
       "    <tr>\n",
       "      <th>9</th>\n",
       "      <td>AmoC</td>\n",
       "      <td>PF04896.11</td>\n",
       "      <td>2517404670</td>\n",
       "      <td>-</td>\n",
       "      <td>1.7e-30</td>\n",
       "      <td>93.8</td>\n",
       "      <td>0.0</td>\n",
       "      <td>2.2e-30</td>\n",
       "      <td>93.3</td>\n",
       "      <td>0.0</td>\n",
       "      <td>1.1</td>\n",
       "      <td>1</td>\n",
       "      <td>0</td>\n",
       "      <td>0</td>\n",
       "      <td>1</td>\n",
       "      <td>1</td>\n",
       "      <td>1</td>\n",
       "      <td>1</td>\n",
       "      <td>Ammonia monooxygenase/methane monooxygenase, s...</td>\n",
       "    </tr>\n",
       "    <tr>\n",
       "      <th>10</th>\n",
       "      <td>AmoC</td>\n",
       "      <td>PF04896.11</td>\n",
       "      <td>2517404865</td>\n",
       "      <td>-</td>\n",
       "      <td>4.2e-93</td>\n",
       "      <td>298.8</td>\n",
       "      <td>17.7</td>\n",
       "      <td>5.1e-93</td>\n",
       "      <td>298.5</td>\n",
       "      <td>17.7</td>\n",
       "      <td>1.0</td>\n",
       "      <td>1</td>\n",
       "      <td>0</td>\n",
       "      <td>0</td>\n",
       "      <td>1</td>\n",
       "      <td>1</td>\n",
       "      <td>1</td>\n",
       "      <td>1</td>\n",
       "      <td>Ammonia monooxygenase/methane monooxygenase, s...</td>\n",
       "    </tr>\n",
       "    <tr>\n",
       "      <th>11</th>\n",
       "      <td>Monooxygenase_B</td>\n",
       "      <td>PF04744.11</td>\n",
       "      <td>2517404866</td>\n",
       "      <td>-</td>\n",
       "      <td>7.5e-155</td>\n",
       "      <td>503.0</td>\n",
       "      <td>0.0</td>\n",
       "      <td>8.4e-155</td>\n",
       "      <td>502.9</td>\n",
       "      <td>0.0</td>\n",
       "      <td>1.0</td>\n",
       "      <td>1</td>\n",
       "      <td>0</td>\n",
       "      <td>0</td>\n",
       "      <td>1</td>\n",
       "      <td>1</td>\n",
       "      <td>1</td>\n",
       "      <td>1</td>\n",
       "      <td>Monooxygenase subunit B protein</td>\n",
       "    </tr>\n",
       "    <tr>\n",
       "      <th>12</th>\n",
       "      <td>AMO</td>\n",
       "      <td>PF02461.15</td>\n",
       "      <td>2517404867</td>\n",
       "      <td>-</td>\n",
       "      <td>6.5e-114</td>\n",
       "      <td>367.3</td>\n",
       "      <td>13.8</td>\n",
       "      <td>7.7e-114</td>\n",
       "      <td>367.0</td>\n",
       "      <td>13.8</td>\n",
       "      <td>1.0</td>\n",
       "      <td>1</td>\n",
       "      <td>0</td>\n",
       "      <td>0</td>\n",
       "      <td>1</td>\n",
       "      <td>1</td>\n",
       "      <td>1</td>\n",
       "      <td>1</td>\n",
       "      <td>Ammonia monooxygenase</td>\n",
       "    </tr>\n",
       "  </tbody>\n",
       "</table>\n",
       "</div>"
      ],
      "text/plain": [
       "                 0           1           2  3         4      5     6   \\\n",
       "0              AmoC  PF04896.11  2517401456  -  5.6e-120  386.8  15.8   \n",
       "1              AmoC  PF04896.11  2517402628  -  5.8e-122  393.3  14.7   \n",
       "2               AMO  PF02461.15  2517402629  -  4.8e-124  400.4  24.0   \n",
       "3   Monooxygenase_B  PF04744.11  2517402630  -  3.3e-170  553.6   0.0   \n",
       "4              AmoC  PF04896.11  2517403201  -  5.8e-122  393.3  14.7   \n",
       "5   Monooxygenase_B  PF04744.11  2517403996  -  3.3e-170  553.6   0.0   \n",
       "6               AMO  PF02461.15  2517403997  -  4.8e-124  400.4  24.0   \n",
       "7              AmoC  PF04896.11  2517403998  -  5.8e-122  393.3  14.7   \n",
       "8              AmoC  PF04896.11  2517404225  -  5.6e-111  357.3  11.5   \n",
       "9              AmoC  PF04896.11  2517404670  -   1.7e-30   93.8   0.0   \n",
       "10             AmoC  PF04896.11  2517404865  -   4.2e-93  298.8  17.7   \n",
       "11  Monooxygenase_B  PF04744.11  2517404866  -  7.5e-155  503.0   0.0   \n",
       "12              AMO  PF02461.15  2517404867  -  6.5e-114  367.3  13.8   \n",
       "\n",
       "          7      8     9    10 11 12 13 14 15 16 17  \\\n",
       "0   7.2e-120  386.4  15.8  1.0  1  0  0  1  1  1  1   \n",
       "1     7e-122  393.0  14.7  1.0  1  0  0  1  1  1  1   \n",
       "2   5.4e-124  400.3  24.0  1.0  1  0  0  1  1  1  1   \n",
       "3   3.7e-170  553.4   0.0  1.0  1  0  0  1  1  1  1   \n",
       "4     7e-122  393.0  14.7  1.0  1  0  0  1  1  1  1   \n",
       "5   3.7e-170  553.4   0.0  1.0  1  0  0  1  1  1  1   \n",
       "6   5.4e-124  400.3  24.0  1.0  1  0  0  1  1  1  1   \n",
       "7     7e-122  393.0  14.7  1.0  1  0  0  1  1  1  1   \n",
       "8   6.6e-111  357.1  11.5  1.0  1  0  0  1  1  1  1   \n",
       "9    2.2e-30   93.3   0.0  1.1  1  0  0  1  1  1  1   \n",
       "10   5.1e-93  298.5  17.7  1.0  1  0  0  1  1  1  1   \n",
       "11  8.4e-155  502.9   0.0  1.0  1  0  0  1  1  1  1   \n",
       "12  7.7e-114  367.0  13.8  1.0  1  0  0  1  1  1  1   \n",
       "\n",
       "                                                   18  \n",
       "0   Ammonia monooxygenase/methane monooxygenase, s...  \n",
       "1   Ammonia monooxygenase/methane monooxygenase, s...  \n",
       "2                               Ammonia monooxygenase  \n",
       "3                     Monooxygenase subunit B protein  \n",
       "4   Ammonia monooxygenase/methane monooxygenase, s...  \n",
       "5                     Monooxygenase subunit B protein  \n",
       "6                               Ammonia monooxygenase  \n",
       "7   Ammonia monooxygenase/methane monooxygenase, s...  \n",
       "8   Ammonia monooxygenase/methane monooxygenase, s...  \n",
       "9   Ammonia monooxygenase/methane monooxygenase, s...  \n",
       "10  Ammonia monooxygenase/methane monooxygenase, s...  \n",
       "11                    Monooxygenase subunit B protein  \n",
       "12                              Ammonia monooxygenase  "
      ]
     },
     "execution_count": 435,
     "metadata": {},
     "output_type": "execute_result"
    }
   ],
   "source": [
    "df2=df_scramb.iloc[:,2:]\n",
    "df2.reset_index(inplace=True, drop=True)\n",
    "df2"
   ]
  },
  {
   "cell_type": "code",
   "execution_count": 441,
   "metadata": {
    "collapsed": false
   },
   "outputs": [
    {
     "data": {
      "text/html": [
       "<div>\n",
       "<table border=\"1\" class=\"dataframe\">\n",
       "  <thead>\n",
       "    <tr style=\"text-align: right;\">\n",
       "      <th></th>\n",
       "      <th>2</th>\n",
       "      <th>2_x</th>\n",
       "      <th>0_x</th>\n",
       "      <th>1_x</th>\n",
       "      <th>2_x</th>\n",
       "      <th>3_x</th>\n",
       "      <th>4</th>\n",
       "      <th>5</th>\n",
       "      <th>6</th>\n",
       "      <th>7</th>\n",
       "      <th>...</th>\n",
       "      <th>1_y</th>\n",
       "      <th>2_y</th>\n",
       "      <th>3_y</th>\n",
       "      <th>0</th>\n",
       "      <th>1</th>\n",
       "      <th>2_y</th>\n",
       "      <th>3</th>\n",
       "      <th>diff</th>\n",
       "      <th>diff1</th>\n",
       "      <th>diff2</th>\n",
       "    </tr>\n",
       "  </thead>\n",
       "  <tbody>\n",
       "    <tr>\n",
       "      <th>0</th>\n",
       "      <td>0</td>\n",
       "      <td>0</td>\n",
       "      <td>0</td>\n",
       "      <td>0</td>\n",
       "      <td>0</td>\n",
       "      <td>0</td>\n",
       "      <td>0</td>\n",
       "      <td>0</td>\n",
       "      <td>0</td>\n",
       "      <td>0</td>\n",
       "      <td>...</td>\n",
       "      <td>0</td>\n",
       "      <td>0</td>\n",
       "      <td>0</td>\n",
       "      <td>0</td>\n",
       "      <td>0</td>\n",
       "      <td>0</td>\n",
       "      <td>0</td>\n",
       "      <td>0</td>\n",
       "      <td>320</td>\n",
       "      <td>1155</td>\n",
       "    </tr>\n",
       "    <tr>\n",
       "      <th>1</th>\n",
       "      <td>0</td>\n",
       "      <td>0</td>\n",
       "      <td>0</td>\n",
       "      <td>0</td>\n",
       "      <td>0</td>\n",
       "      <td>0</td>\n",
       "      <td>0</td>\n",
       "      <td>0</td>\n",
       "      <td>0</td>\n",
       "      <td>0</td>\n",
       "      <td>...</td>\n",
       "      <td>0</td>\n",
       "      <td>0</td>\n",
       "      <td>0</td>\n",
       "      <td>0</td>\n",
       "      <td>0</td>\n",
       "      <td>0</td>\n",
       "      <td>0</td>\n",
       "      <td>0</td>\n",
       "      <td>1155</td>\n",
       "      <td>1</td>\n",
       "    </tr>\n",
       "    <tr>\n",
       "      <th>2</th>\n",
       "      <td>2517402629</td>\n",
       "      <td>2517402629</td>\n",
       "      <td>AMO</td>\n",
       "      <td>PF02461.15</td>\n",
       "      <td>2517402629</td>\n",
       "      <td>-</td>\n",
       "      <td>4.8e-124</td>\n",
       "      <td>400.4</td>\n",
       "      <td>24.0</td>\n",
       "      <td>5.4e-124</td>\n",
       "      <td>...</td>\n",
       "      <td>1476</td>\n",
       "      <td>2517402629 A3OODRAFT_1496 methane monooxygenas...</td>\n",
       "      <td>&lt;bound method Seq.tostring of Seq('MSQSKSGGAVG...</td>\n",
       "      <td>2517402629</td>\n",
       "      <td>1476</td>\n",
       "      <td>2517402629 A3OODRAFT_1496 methane monooxygenas...</td>\n",
       "      <td>&lt;bound method Seq.tostring of Seq('MSQSKSGGAVG...</td>\n",
       "      <td>1</td>\n",
       "      <td>1</td>\n",
       "      <td>1</td>\n",
       "    </tr>\n",
       "    <tr>\n",
       "      <th>3</th>\n",
       "      <td>0</td>\n",
       "      <td>0</td>\n",
       "      <td>0</td>\n",
       "      <td>0</td>\n",
       "      <td>0</td>\n",
       "      <td>0</td>\n",
       "      <td>0</td>\n",
       "      <td>0</td>\n",
       "      <td>0</td>\n",
       "      <td>0</td>\n",
       "      <td>...</td>\n",
       "      <td>0</td>\n",
       "      <td>0</td>\n",
       "      <td>0</td>\n",
       "      <td>0</td>\n",
       "      <td>0</td>\n",
       "      <td>0</td>\n",
       "      <td>0</td>\n",
       "      <td>0</td>\n",
       "      <td>1</td>\n",
       "      <td>566</td>\n",
       "    </tr>\n",
       "    <tr>\n",
       "      <th>4</th>\n",
       "      <td>0</td>\n",
       "      <td>0</td>\n",
       "      <td>0</td>\n",
       "      <td>0</td>\n",
       "      <td>0</td>\n",
       "      <td>0</td>\n",
       "      <td>0</td>\n",
       "      <td>0</td>\n",
       "      <td>0</td>\n",
       "      <td>0</td>\n",
       "      <td>...</td>\n",
       "      <td>0</td>\n",
       "      <td>0</td>\n",
       "      <td>0</td>\n",
       "      <td>0</td>\n",
       "      <td>0</td>\n",
       "      <td>0</td>\n",
       "      <td>0</td>\n",
       "      <td>0</td>\n",
       "      <td>566</td>\n",
       "      <td>773</td>\n",
       "    </tr>\n",
       "    <tr>\n",
       "      <th>5</th>\n",
       "      <td>0</td>\n",
       "      <td>0</td>\n",
       "      <td>0</td>\n",
       "      <td>0</td>\n",
       "      <td>0</td>\n",
       "      <td>0</td>\n",
       "      <td>0</td>\n",
       "      <td>0</td>\n",
       "      <td>0</td>\n",
       "      <td>0</td>\n",
       "      <td>...</td>\n",
       "      <td>0</td>\n",
       "      <td>0</td>\n",
       "      <td>0</td>\n",
       "      <td>0</td>\n",
       "      <td>0</td>\n",
       "      <td>0</td>\n",
       "      <td>0</td>\n",
       "      <td>0</td>\n",
       "      <td>773</td>\n",
       "      <td>1</td>\n",
       "    </tr>\n",
       "    <tr>\n",
       "      <th>6</th>\n",
       "      <td>2517403997</td>\n",
       "      <td>2517403997</td>\n",
       "      <td>AMO</td>\n",
       "      <td>PF02461.15</td>\n",
       "      <td>2517403997</td>\n",
       "      <td>-</td>\n",
       "      <td>4.8e-124</td>\n",
       "      <td>400.4</td>\n",
       "      <td>24.0</td>\n",
       "      <td>5.4e-124</td>\n",
       "      <td>...</td>\n",
       "      <td>2817</td>\n",
       "      <td>2517403997 A3OODRAFT_2864 methane monooxygenas...</td>\n",
       "      <td>&lt;bound method Seq.tostring of Seq('MSQSKSGGAVG...</td>\n",
       "      <td>2517403997</td>\n",
       "      <td>2817</td>\n",
       "      <td>2517403997 A3OODRAFT_2864 methane monooxygenas...</td>\n",
       "      <td>&lt;bound method Seq.tostring of Seq('MSQSKSGGAVG...</td>\n",
       "      <td>1</td>\n",
       "      <td>1</td>\n",
       "      <td>1</td>\n",
       "    </tr>\n",
       "    <tr>\n",
       "      <th>7</th>\n",
       "      <td>0</td>\n",
       "      <td>0</td>\n",
       "      <td>0</td>\n",
       "      <td>0</td>\n",
       "      <td>0</td>\n",
       "      <td>0</td>\n",
       "      <td>0</td>\n",
       "      <td>0</td>\n",
       "      <td>0</td>\n",
       "      <td>0</td>\n",
       "      <td>...</td>\n",
       "      <td>0</td>\n",
       "      <td>0</td>\n",
       "      <td>0</td>\n",
       "      <td>0</td>\n",
       "      <td>0</td>\n",
       "      <td>0</td>\n",
       "      <td>0</td>\n",
       "      <td>0</td>\n",
       "      <td>1</td>\n",
       "      <td>224</td>\n",
       "    </tr>\n",
       "    <tr>\n",
       "      <th>8</th>\n",
       "      <td>0</td>\n",
       "      <td>0</td>\n",
       "      <td>0</td>\n",
       "      <td>0</td>\n",
       "      <td>0</td>\n",
       "      <td>0</td>\n",
       "      <td>0</td>\n",
       "      <td>0</td>\n",
       "      <td>0</td>\n",
       "      <td>0</td>\n",
       "      <td>...</td>\n",
       "      <td>0</td>\n",
       "      <td>0</td>\n",
       "      <td>0</td>\n",
       "      <td>0</td>\n",
       "      <td>0</td>\n",
       "      <td>0</td>\n",
       "      <td>0</td>\n",
       "      <td>0</td>\n",
       "      <td>224</td>\n",
       "      <td>440</td>\n",
       "    </tr>\n",
       "    <tr>\n",
       "      <th>9</th>\n",
       "      <td>0</td>\n",
       "      <td>0</td>\n",
       "      <td>0</td>\n",
       "      <td>0</td>\n",
       "      <td>0</td>\n",
       "      <td>0</td>\n",
       "      <td>0</td>\n",
       "      <td>0</td>\n",
       "      <td>0</td>\n",
       "      <td>0</td>\n",
       "      <td>...</td>\n",
       "      <td>0</td>\n",
       "      <td>0</td>\n",
       "      <td>0</td>\n",
       "      <td>0</td>\n",
       "      <td>0</td>\n",
       "      <td>0</td>\n",
       "      <td>0</td>\n",
       "      <td>0</td>\n",
       "      <td>440</td>\n",
       "      <td>192</td>\n",
       "    </tr>\n",
       "    <tr>\n",
       "      <th>10</th>\n",
       "      <td>0</td>\n",
       "      <td>0</td>\n",
       "      <td>0</td>\n",
       "      <td>0</td>\n",
       "      <td>0</td>\n",
       "      <td>0</td>\n",
       "      <td>0</td>\n",
       "      <td>0</td>\n",
       "      <td>0</td>\n",
       "      <td>0</td>\n",
       "      <td>...</td>\n",
       "      <td>0</td>\n",
       "      <td>0</td>\n",
       "      <td>0</td>\n",
       "      <td>0</td>\n",
       "      <td>0</td>\n",
       "      <td>0</td>\n",
       "      <td>0</td>\n",
       "      <td>0</td>\n",
       "      <td>192</td>\n",
       "      <td>1</td>\n",
       "    </tr>\n",
       "    <tr>\n",
       "      <th>11</th>\n",
       "      <td>2517404866</td>\n",
       "      <td>2517404866</td>\n",
       "      <td>Monooxygenase_B</td>\n",
       "      <td>PF04744.11</td>\n",
       "      <td>2517404866</td>\n",
       "      <td>-</td>\n",
       "      <td>7.5e-155</td>\n",
       "      <td>503.0</td>\n",
       "      <td>0.0</td>\n",
       "      <td>8.4e-155</td>\n",
       "      <td>...</td>\n",
       "      <td>3675</td>\n",
       "      <td>2517404866 A3OODRAFT_3734 methane monooxygenas...</td>\n",
       "      <td>&lt;bound method Seq.tostring of Seq('MKKSLKSLFSA...</td>\n",
       "      <td>2517404866</td>\n",
       "      <td>3675</td>\n",
       "      <td>2517404866 A3OODRAFT_3734 methane monooxygenas...</td>\n",
       "      <td>&lt;bound method Seq.tostring of Seq('MKKSLKSLFSA...</td>\n",
       "      <td>1</td>\n",
       "      <td>1</td>\n",
       "      <td>1</td>\n",
       "    </tr>\n",
       "    <tr>\n",
       "      <th>12</th>\n",
       "      <td>0</td>\n",
       "      <td>0</td>\n",
       "      <td>0</td>\n",
       "      <td>0</td>\n",
       "      <td>0</td>\n",
       "      <td>0</td>\n",
       "      <td>0</td>\n",
       "      <td>0</td>\n",
       "      <td>0</td>\n",
       "      <td>0</td>\n",
       "      <td>...</td>\n",
       "      <td>0</td>\n",
       "      <td>0</td>\n",
       "      <td>0</td>\n",
       "      <td>0</td>\n",
       "      <td>0</td>\n",
       "      <td>0</td>\n",
       "      <td>0</td>\n",
       "      <td>0</td>\n",
       "      <td>1</td>\n",
       "      <td>3676</td>\n",
       "    </tr>\n",
       "  </tbody>\n",
       "</table>\n",
       "<p>13 rows × 32 columns</p>\n",
       "</div>"
      ],
      "text/plain": [
       "             2         2_x              0_x         1_x         2_x 3_x  \\\n",
       "0            0           0                0           0           0   0   \n",
       "1            0           0                0           0           0   0   \n",
       "2   2517402629  2517402629              AMO  PF02461.15  2517402629   -   \n",
       "3            0           0                0           0           0   0   \n",
       "4            0           0                0           0           0   0   \n",
       "5            0           0                0           0           0   0   \n",
       "6   2517403997  2517403997              AMO  PF02461.15  2517403997   -   \n",
       "7            0           0                0           0           0   0   \n",
       "8            0           0                0           0           0   0   \n",
       "9            0           0                0           0           0   0   \n",
       "10           0           0                0           0           0   0   \n",
       "11  2517404866  2517404866  Monooxygenase_B  PF04744.11  2517404866   -   \n",
       "12           0           0                0           0           0   0   \n",
       "\n",
       "           4      5     6         7  ...    1_y  \\\n",
       "0          0      0     0         0  ...      0   \n",
       "1          0      0     0         0  ...      0   \n",
       "2   4.8e-124  400.4  24.0  5.4e-124  ...   1476   \n",
       "3          0      0     0         0  ...      0   \n",
       "4          0      0     0         0  ...      0   \n",
       "5          0      0     0         0  ...      0   \n",
       "6   4.8e-124  400.4  24.0  5.4e-124  ...   2817   \n",
       "7          0      0     0         0  ...      0   \n",
       "8          0      0     0         0  ...      0   \n",
       "9          0      0     0         0  ...      0   \n",
       "10         0      0     0         0  ...      0   \n",
       "11  7.5e-155  503.0   0.0  8.4e-155  ...   3675   \n",
       "12         0      0     0         0  ...      0   \n",
       "\n",
       "                                                  2_y  \\\n",
       "0                                                   0   \n",
       "1                                                   0   \n",
       "2   2517402629 A3OODRAFT_1496 methane monooxygenas...   \n",
       "3                                                   0   \n",
       "4                                                   0   \n",
       "5                                                   0   \n",
       "6   2517403997 A3OODRAFT_2864 methane monooxygenas...   \n",
       "7                                                   0   \n",
       "8                                                   0   \n",
       "9                                                   0   \n",
       "10                                                  0   \n",
       "11  2517404866 A3OODRAFT_3734 methane monooxygenas...   \n",
       "12                                                  0   \n",
       "\n",
       "                                                  3_y           0     1  \\\n",
       "0                                                   0           0     0   \n",
       "1                                                   0           0     0   \n",
       "2   <bound method Seq.tostring of Seq('MSQSKSGGAVG...  2517402629  1476   \n",
       "3                                                   0           0     0   \n",
       "4                                                   0           0     0   \n",
       "5                                                   0           0     0   \n",
       "6   <bound method Seq.tostring of Seq('MSQSKSGGAVG...  2517403997  2817   \n",
       "7                                                   0           0     0   \n",
       "8                                                   0           0     0   \n",
       "9                                                   0           0     0   \n",
       "10                                                  0           0     0   \n",
       "11  <bound method Seq.tostring of Seq('MKKSLKSLFSA...  2517404866  3675   \n",
       "12                                                  0           0     0   \n",
       "\n",
       "                                                  2_y  \\\n",
       "0                                                   0   \n",
       "1                                                   0   \n",
       "2   2517402629 A3OODRAFT_1496 methane monooxygenas...   \n",
       "3                                                   0   \n",
       "4                                                   0   \n",
       "5                                                   0   \n",
       "6   2517403997 A3OODRAFT_2864 methane monooxygenas...   \n",
       "7                                                   0   \n",
       "8                                                   0   \n",
       "9                                                   0   \n",
       "10                                                  0   \n",
       "11  2517404866 A3OODRAFT_3734 methane monooxygenas...   \n",
       "12                                                  0   \n",
       "\n",
       "                                                    3 diff diff1 diff2  \n",
       "0                                                   0    0   320  1155  \n",
       "1                                                   0    0  1155     1  \n",
       "2   <bound method Seq.tostring of Seq('MSQSKSGGAVG...    1     1     1  \n",
       "3                                                   0    0     1   566  \n",
       "4                                                   0    0   566   773  \n",
       "5                                                   0    0   773     1  \n",
       "6   <bound method Seq.tostring of Seq('MSQSKSGGAVG...    1     1     1  \n",
       "7                                                   0    0     1   224  \n",
       "8                                                   0    0   224   440  \n",
       "9                                                   0    0   440   192  \n",
       "10                                                  0    0   192     1  \n",
       "11  <bound method Seq.tostring of Seq('MKKSLKSLFSA...    1     1     1  \n",
       "12                                                  0    0     1  3676  \n",
       "\n",
       "[13 rows x 32 columns]"
      ]
     },
     "execution_count": 441,
     "metadata": {},
     "output_type": "execute_result"
    }
   ],
   "source": [
    "df"
   ]
  },
  {
   "cell_type": "code",
   "execution_count": 439,
   "metadata": {
    "collapsed": false
   },
   "outputs": [
    {
     "data": {
      "text/plain": [
       "'Ammonia monooxygenase/methane monooxygenase, subunit C'"
      ]
     },
     "execution_count": 439,
     "metadata": {},
     "output_type": "execute_result"
    }
   ],
   "source": [
    "df2[18][0]"
   ]
  },
  {
   "cell_type": "code",
   "execution_count": 803,
   "metadata": {
    "collapsed": false
   },
   "outputs": [
    {
     "data": {
      "text/html": [
       "<div>\n",
       "<table border=\"1\" class=\"dataframe\">\n",
       "  <thead>\n",
       "    <tr style=\"text-align: right;\">\n",
       "      <th></th>\n",
       "      <th>0</th>\n",
       "      <th>1</th>\n",
       "      <th>2</th>\n",
       "      <th>3</th>\n",
       "      <th>4</th>\n",
       "      <th>5</th>\n",
       "      <th>6</th>\n",
       "      <th>7</th>\n",
       "      <th>8</th>\n",
       "      <th>9</th>\n",
       "      <th>10</th>\n",
       "      <th>11</th>\n",
       "      <th>12</th>\n",
       "      <th>13</th>\n",
       "      <th>14</th>\n",
       "      <th>15</th>\n",
       "      <th>16</th>\n",
       "      <th>17</th>\n",
       "      <th>18</th>\n",
       "    </tr>\n",
       "  </thead>\n",
       "  <tbody>\n",
       "    <tr>\n",
       "      <th>0</th>\n",
       "      <td>True</td>\n",
       "      <td>True</td>\n",
       "      <td>True</td>\n",
       "      <td>True</td>\n",
       "      <td>True</td>\n",
       "      <td>True</td>\n",
       "      <td>True</td>\n",
       "      <td>True</td>\n",
       "      <td>True</td>\n",
       "      <td>True</td>\n",
       "      <td>True</td>\n",
       "      <td>True</td>\n",
       "      <td>True</td>\n",
       "      <td>True</td>\n",
       "      <td>True</td>\n",
       "      <td>True</td>\n",
       "      <td>True</td>\n",
       "      <td>True</td>\n",
       "      <td>True</td>\n",
       "    </tr>\n",
       "    <tr>\n",
       "      <th>1</th>\n",
       "      <td>True</td>\n",
       "      <td>True</td>\n",
       "      <td>True</td>\n",
       "      <td>True</td>\n",
       "      <td>True</td>\n",
       "      <td>True</td>\n",
       "      <td>True</td>\n",
       "      <td>True</td>\n",
       "      <td>True</td>\n",
       "      <td>True</td>\n",
       "      <td>True</td>\n",
       "      <td>True</td>\n",
       "      <td>True</td>\n",
       "      <td>True</td>\n",
       "      <td>True</td>\n",
       "      <td>True</td>\n",
       "      <td>True</td>\n",
       "      <td>True</td>\n",
       "      <td>True</td>\n",
       "    </tr>\n",
       "    <tr>\n",
       "      <th>2</th>\n",
       "      <td>True</td>\n",
       "      <td>True</td>\n",
       "      <td>True</td>\n",
       "      <td>True</td>\n",
       "      <td>True</td>\n",
       "      <td>True</td>\n",
       "      <td>True</td>\n",
       "      <td>True</td>\n",
       "      <td>True</td>\n",
       "      <td>True</td>\n",
       "      <td>True</td>\n",
       "      <td>True</td>\n",
       "      <td>True</td>\n",
       "      <td>True</td>\n",
       "      <td>True</td>\n",
       "      <td>True</td>\n",
       "      <td>True</td>\n",
       "      <td>True</td>\n",
       "      <td>True</td>\n",
       "    </tr>\n",
       "    <tr>\n",
       "      <th>3</th>\n",
       "      <td>True</td>\n",
       "      <td>True</td>\n",
       "      <td>True</td>\n",
       "      <td>True</td>\n",
       "      <td>True</td>\n",
       "      <td>True</td>\n",
       "      <td>True</td>\n",
       "      <td>True</td>\n",
       "      <td>True</td>\n",
       "      <td>True</td>\n",
       "      <td>True</td>\n",
       "      <td>True</td>\n",
       "      <td>True</td>\n",
       "      <td>True</td>\n",
       "      <td>True</td>\n",
       "      <td>True</td>\n",
       "      <td>True</td>\n",
       "      <td>True</td>\n",
       "      <td>True</td>\n",
       "    </tr>\n",
       "    <tr>\n",
       "      <th>4</th>\n",
       "      <td>True</td>\n",
       "      <td>True</td>\n",
       "      <td>True</td>\n",
       "      <td>True</td>\n",
       "      <td>True</td>\n",
       "      <td>True</td>\n",
       "      <td>True</td>\n",
       "      <td>True</td>\n",
       "      <td>True</td>\n",
       "      <td>True</td>\n",
       "      <td>True</td>\n",
       "      <td>True</td>\n",
       "      <td>True</td>\n",
       "      <td>True</td>\n",
       "      <td>True</td>\n",
       "      <td>True</td>\n",
       "      <td>True</td>\n",
       "      <td>True</td>\n",
       "      <td>True</td>\n",
       "    </tr>\n",
       "    <tr>\n",
       "      <th>5</th>\n",
       "      <td>True</td>\n",
       "      <td>True</td>\n",
       "      <td>True</td>\n",
       "      <td>True</td>\n",
       "      <td>True</td>\n",
       "      <td>True</td>\n",
       "      <td>True</td>\n",
       "      <td>True</td>\n",
       "      <td>True</td>\n",
       "      <td>True</td>\n",
       "      <td>True</td>\n",
       "      <td>True</td>\n",
       "      <td>True</td>\n",
       "      <td>True</td>\n",
       "      <td>True</td>\n",
       "      <td>True</td>\n",
       "      <td>True</td>\n",
       "      <td>True</td>\n",
       "      <td>True</td>\n",
       "    </tr>\n",
       "    <tr>\n",
       "      <th>6</th>\n",
       "      <td>True</td>\n",
       "      <td>True</td>\n",
       "      <td>True</td>\n",
       "      <td>True</td>\n",
       "      <td>True</td>\n",
       "      <td>True</td>\n",
       "      <td>True</td>\n",
       "      <td>True</td>\n",
       "      <td>True</td>\n",
       "      <td>True</td>\n",
       "      <td>True</td>\n",
       "      <td>True</td>\n",
       "      <td>True</td>\n",
       "      <td>True</td>\n",
       "      <td>True</td>\n",
       "      <td>True</td>\n",
       "      <td>True</td>\n",
       "      <td>True</td>\n",
       "      <td>True</td>\n",
       "    </tr>\n",
       "    <tr>\n",
       "      <th>7</th>\n",
       "      <td>True</td>\n",
       "      <td>True</td>\n",
       "      <td>True</td>\n",
       "      <td>True</td>\n",
       "      <td>True</td>\n",
       "      <td>True</td>\n",
       "      <td>True</td>\n",
       "      <td>True</td>\n",
       "      <td>True</td>\n",
       "      <td>True</td>\n",
       "      <td>True</td>\n",
       "      <td>True</td>\n",
       "      <td>True</td>\n",
       "      <td>True</td>\n",
       "      <td>True</td>\n",
       "      <td>True</td>\n",
       "      <td>True</td>\n",
       "      <td>True</td>\n",
       "      <td>True</td>\n",
       "    </tr>\n",
       "    <tr>\n",
       "      <th>8</th>\n",
       "      <td>True</td>\n",
       "      <td>True</td>\n",
       "      <td>True</td>\n",
       "      <td>True</td>\n",
       "      <td>True</td>\n",
       "      <td>True</td>\n",
       "      <td>True</td>\n",
       "      <td>True</td>\n",
       "      <td>True</td>\n",
       "      <td>True</td>\n",
       "      <td>True</td>\n",
       "      <td>True</td>\n",
       "      <td>True</td>\n",
       "      <td>True</td>\n",
       "      <td>True</td>\n",
       "      <td>True</td>\n",
       "      <td>True</td>\n",
       "      <td>True</td>\n",
       "      <td>True</td>\n",
       "    </tr>\n",
       "    <tr>\n",
       "      <th>9</th>\n",
       "      <td>True</td>\n",
       "      <td>True</td>\n",
       "      <td>True</td>\n",
       "      <td>True</td>\n",
       "      <td>True</td>\n",
       "      <td>True</td>\n",
       "      <td>True</td>\n",
       "      <td>True</td>\n",
       "      <td>True</td>\n",
       "      <td>True</td>\n",
       "      <td>True</td>\n",
       "      <td>True</td>\n",
       "      <td>True</td>\n",
       "      <td>True</td>\n",
       "      <td>True</td>\n",
       "      <td>True</td>\n",
       "      <td>True</td>\n",
       "      <td>True</td>\n",
       "      <td>True</td>\n",
       "    </tr>\n",
       "    <tr>\n",
       "      <th>10</th>\n",
       "      <td>True</td>\n",
       "      <td>True</td>\n",
       "      <td>True</td>\n",
       "      <td>True</td>\n",
       "      <td>True</td>\n",
       "      <td>True</td>\n",
       "      <td>True</td>\n",
       "      <td>True</td>\n",
       "      <td>True</td>\n",
       "      <td>True</td>\n",
       "      <td>True</td>\n",
       "      <td>True</td>\n",
       "      <td>True</td>\n",
       "      <td>True</td>\n",
       "      <td>True</td>\n",
       "      <td>True</td>\n",
       "      <td>True</td>\n",
       "      <td>True</td>\n",
       "      <td>True</td>\n",
       "    </tr>\n",
       "    <tr>\n",
       "      <th>11</th>\n",
       "      <td>True</td>\n",
       "      <td>True</td>\n",
       "      <td>True</td>\n",
       "      <td>True</td>\n",
       "      <td>True</td>\n",
       "      <td>True</td>\n",
       "      <td>True</td>\n",
       "      <td>True</td>\n",
       "      <td>True</td>\n",
       "      <td>True</td>\n",
       "      <td>True</td>\n",
       "      <td>True</td>\n",
       "      <td>True</td>\n",
       "      <td>True</td>\n",
       "      <td>True</td>\n",
       "      <td>True</td>\n",
       "      <td>True</td>\n",
       "      <td>True</td>\n",
       "      <td>True</td>\n",
       "    </tr>\n",
       "    <tr>\n",
       "      <th>12</th>\n",
       "      <td>True</td>\n",
       "      <td>True</td>\n",
       "      <td>True</td>\n",
       "      <td>True</td>\n",
       "      <td>True</td>\n",
       "      <td>True</td>\n",
       "      <td>True</td>\n",
       "      <td>True</td>\n",
       "      <td>True</td>\n",
       "      <td>True</td>\n",
       "      <td>True</td>\n",
       "      <td>True</td>\n",
       "      <td>True</td>\n",
       "      <td>True</td>\n",
       "      <td>True</td>\n",
       "      <td>True</td>\n",
       "      <td>True</td>\n",
       "      <td>True</td>\n",
       "      <td>True</td>\n",
       "    </tr>\n",
       "  </tbody>\n",
       "</table>\n",
       "</div>"
      ],
      "text/plain": [
       "      0     1     2     3     4     5     6     7     8     9     10    11  \\\n",
       "0   True  True  True  True  True  True  True  True  True  True  True  True   \n",
       "1   True  True  True  True  True  True  True  True  True  True  True  True   \n",
       "2   True  True  True  True  True  True  True  True  True  True  True  True   \n",
       "3   True  True  True  True  True  True  True  True  True  True  True  True   \n",
       "4   True  True  True  True  True  True  True  True  True  True  True  True   \n",
       "5   True  True  True  True  True  True  True  True  True  True  True  True   \n",
       "6   True  True  True  True  True  True  True  True  True  True  True  True   \n",
       "7   True  True  True  True  True  True  True  True  True  True  True  True   \n",
       "8   True  True  True  True  True  True  True  True  True  True  True  True   \n",
       "9   True  True  True  True  True  True  True  True  True  True  True  True   \n",
       "10  True  True  True  True  True  True  True  True  True  True  True  True   \n",
       "11  True  True  True  True  True  True  True  True  True  True  True  True   \n",
       "12  True  True  True  True  True  True  True  True  True  True  True  True   \n",
       "\n",
       "      12    13    14    15    16    17    18  \n",
       "0   True  True  True  True  True  True  True  \n",
       "1   True  True  True  True  True  True  True  \n",
       "2   True  True  True  True  True  True  True  \n",
       "3   True  True  True  True  True  True  True  \n",
       "4   True  True  True  True  True  True  True  \n",
       "5   True  True  True  True  True  True  True  \n",
       "6   True  True  True  True  True  True  True  \n",
       "7   True  True  True  True  True  True  True  \n",
       "8   True  True  True  True  True  True  True  \n",
       "9   True  True  True  True  True  True  True  \n",
       "10  True  True  True  True  True  True  True  \n",
       "11  True  True  True  True  True  True  True  \n",
       "12  True  True  True  True  True  True  True  "
      ]
     },
     "execution_count": 803,
     "metadata": {},
     "output_type": "execute_result"
    }
   ],
   "source": [
    "df==df2"
   ]
  },
  {
   "cell_type": "code",
   "execution_count": 317,
   "metadata": {
    "collapsed": false
   },
   "outputs": [
    {
     "data": {
      "text/html": [
       "<div>\n",
       "<table border=\"1\" class=\"dataframe\">\n",
       "  <thead>\n",
       "    <tr style=\"text-align: right;\">\n",
       "      <th></th>\n",
       "      <th>query file</th>\n",
       "      <th>label</th>\n",
       "      <th>0</th>\n",
       "      <th>1</th>\n",
       "      <th>2</th>\n",
       "      <th>3</th>\n",
       "      <th>4</th>\n",
       "      <th>5</th>\n",
       "      <th>6</th>\n",
       "      <th>7</th>\n",
       "      <th>...</th>\n",
       "      <th>9</th>\n",
       "      <th>10</th>\n",
       "      <th>11</th>\n",
       "      <th>12</th>\n",
       "      <th>13</th>\n",
       "      <th>14</th>\n",
       "      <th>15</th>\n",
       "      <th>16</th>\n",
       "      <th>17</th>\n",
       "      <th>18</th>\n",
       "    </tr>\n",
       "  </thead>\n",
       "  <tbody>\n",
       "    <tr>\n",
       "      <th>5</th>\n",
       "      <td>/tmp/tmpSqwnnp</td>\n",
       "      <td>0</td>\n",
       "      <td>AmoC</td>\n",
       "      <td>PF04896.11</td>\n",
       "      <td>2517401456</td>\n",
       "      <td>-</td>\n",
       "      <td>5.6e-120</td>\n",
       "      <td>386.8</td>\n",
       "      <td>15.8</td>\n",
       "      <td>7.2e-120</td>\n",
       "      <td>...</td>\n",
       "      <td>15.8</td>\n",
       "      <td>1.0</td>\n",
       "      <td>1</td>\n",
       "      <td>0</td>\n",
       "      <td>0</td>\n",
       "      <td>1</td>\n",
       "      <td>1</td>\n",
       "      <td>1</td>\n",
       "      <td>1</td>\n",
       "      <td>Ammonia monooxygenase/methane monooxygenase, s...</td>\n",
       "    </tr>\n",
       "    <tr>\n",
       "      <th>6</th>\n",
       "      <td>/tmp/tmpd_zEcV</td>\n",
       "      <td>1</td>\n",
       "      <td>AmoC</td>\n",
       "      <td>PF04896.11</td>\n",
       "      <td>2517402628</td>\n",
       "      <td>-</td>\n",
       "      <td>5.8e-122</td>\n",
       "      <td>393.3</td>\n",
       "      <td>14.7</td>\n",
       "      <td>7e-122</td>\n",
       "      <td>...</td>\n",
       "      <td>14.7</td>\n",
       "      <td>1.0</td>\n",
       "      <td>1</td>\n",
       "      <td>0</td>\n",
       "      <td>0</td>\n",
       "      <td>1</td>\n",
       "      <td>1</td>\n",
       "      <td>1</td>\n",
       "      <td>1</td>\n",
       "      <td>Ammonia monooxygenase/methane monooxygenase, s...</td>\n",
       "    </tr>\n",
       "    <tr>\n",
       "      <th>7</th>\n",
       "      <td>/tmp/tmpd_zEcV</td>\n",
       "      <td>1</td>\n",
       "      <td>AMO</td>\n",
       "      <td>PF02461.15</td>\n",
       "      <td>2517402629</td>\n",
       "      <td>-</td>\n",
       "      <td>4.8e-124</td>\n",
       "      <td>400.4</td>\n",
       "      <td>24.0</td>\n",
       "      <td>5.4e-124</td>\n",
       "      <td>...</td>\n",
       "      <td>24.0</td>\n",
       "      <td>1.0</td>\n",
       "      <td>1</td>\n",
       "      <td>0</td>\n",
       "      <td>0</td>\n",
       "      <td>1</td>\n",
       "      <td>1</td>\n",
       "      <td>1</td>\n",
       "      <td>1</td>\n",
       "      <td>Ammonia monooxygenase</td>\n",
       "    </tr>\n",
       "    <tr>\n",
       "      <th>8</th>\n",
       "      <td>/tmp/tmpd_zEcV</td>\n",
       "      <td>1</td>\n",
       "      <td>Monooxygenase_B</td>\n",
       "      <td>PF04744.11</td>\n",
       "      <td>2517402630</td>\n",
       "      <td>-</td>\n",
       "      <td>3.3e-170</td>\n",
       "      <td>553.6</td>\n",
       "      <td>0.0</td>\n",
       "      <td>3.7e-170</td>\n",
       "      <td>...</td>\n",
       "      <td>0.0</td>\n",
       "      <td>1.0</td>\n",
       "      <td>1</td>\n",
       "      <td>0</td>\n",
       "      <td>0</td>\n",
       "      <td>1</td>\n",
       "      <td>1</td>\n",
       "      <td>1</td>\n",
       "      <td>1</td>\n",
       "      <td>Monooxygenase subunit B protein</td>\n",
       "    </tr>\n",
       "    <tr>\n",
       "      <th>9</th>\n",
       "      <td>/tmp/tmpNdc_YO</td>\n",
       "      <td>2</td>\n",
       "      <td>AmoC</td>\n",
       "      <td>PF04896.11</td>\n",
       "      <td>2517403201</td>\n",
       "      <td>-</td>\n",
       "      <td>5.8e-122</td>\n",
       "      <td>393.3</td>\n",
       "      <td>14.7</td>\n",
       "      <td>7e-122</td>\n",
       "      <td>...</td>\n",
       "      <td>14.7</td>\n",
       "      <td>1.0</td>\n",
       "      <td>1</td>\n",
       "      <td>0</td>\n",
       "      <td>0</td>\n",
       "      <td>1</td>\n",
       "      <td>1</td>\n",
       "      <td>1</td>\n",
       "      <td>1</td>\n",
       "      <td>Ammonia monooxygenase/methane monooxygenase, s...</td>\n",
       "    </tr>\n",
       "    <tr>\n",
       "      <th>10</th>\n",
       "      <td>/tmp/tmpNdc_YO</td>\n",
       "      <td>2</td>\n",
       "      <td>Monooxygenase_B</td>\n",
       "      <td>PF04744.11</td>\n",
       "      <td>2517403996</td>\n",
       "      <td>-</td>\n",
       "      <td>3.3e-170</td>\n",
       "      <td>553.6</td>\n",
       "      <td>0.0</td>\n",
       "      <td>3.7e-170</td>\n",
       "      <td>...</td>\n",
       "      <td>0.0</td>\n",
       "      <td>1.0</td>\n",
       "      <td>1</td>\n",
       "      <td>0</td>\n",
       "      <td>0</td>\n",
       "      <td>1</td>\n",
       "      <td>1</td>\n",
       "      <td>1</td>\n",
       "      <td>1</td>\n",
       "      <td>Monooxygenase subunit B protein</td>\n",
       "    </tr>\n",
       "    <tr>\n",
       "      <th>11</th>\n",
       "      <td>/tmp/tmpNdc_YO</td>\n",
       "      <td>2</td>\n",
       "      <td>AMO</td>\n",
       "      <td>PF02461.15</td>\n",
       "      <td>2517403997</td>\n",
       "      <td>-</td>\n",
       "      <td>4.8e-124</td>\n",
       "      <td>400.4</td>\n",
       "      <td>24.0</td>\n",
       "      <td>5.4e-124</td>\n",
       "      <td>...</td>\n",
       "      <td>24.0</td>\n",
       "      <td>1.0</td>\n",
       "      <td>1</td>\n",
       "      <td>0</td>\n",
       "      <td>0</td>\n",
       "      <td>1</td>\n",
       "      <td>1</td>\n",
       "      <td>1</td>\n",
       "      <td>1</td>\n",
       "      <td>Ammonia monooxygenase</td>\n",
       "    </tr>\n",
       "    <tr>\n",
       "      <th>12</th>\n",
       "      <td>/tmp/tmpNdc_YO</td>\n",
       "      <td>2</td>\n",
       "      <td>AmoC</td>\n",
       "      <td>PF04896.11</td>\n",
       "      <td>2517403998</td>\n",
       "      <td>-</td>\n",
       "      <td>5.8e-122</td>\n",
       "      <td>393.3</td>\n",
       "      <td>14.7</td>\n",
       "      <td>7e-122</td>\n",
       "      <td>...</td>\n",
       "      <td>14.7</td>\n",
       "      <td>1.0</td>\n",
       "      <td>1</td>\n",
       "      <td>0</td>\n",
       "      <td>0</td>\n",
       "      <td>1</td>\n",
       "      <td>1</td>\n",
       "      <td>1</td>\n",
       "      <td>1</td>\n",
       "      <td>Ammonia monooxygenase/methane monooxygenase, s...</td>\n",
       "    </tr>\n",
       "    <tr>\n",
       "      <th>0</th>\n",
       "      <td>/tmp/tmpO4S3j2</td>\n",
       "      <td>3</td>\n",
       "      <td>AmoC</td>\n",
       "      <td>PF04896.11</td>\n",
       "      <td>2517404225</td>\n",
       "      <td>-</td>\n",
       "      <td>5.6e-111</td>\n",
       "      <td>357.3</td>\n",
       "      <td>11.5</td>\n",
       "      <td>6.6e-111</td>\n",
       "      <td>...</td>\n",
       "      <td>11.5</td>\n",
       "      <td>1.0</td>\n",
       "      <td>1</td>\n",
       "      <td>0</td>\n",
       "      <td>0</td>\n",
       "      <td>1</td>\n",
       "      <td>1</td>\n",
       "      <td>1</td>\n",
       "      <td>1</td>\n",
       "      <td>Ammonia monooxygenase/methane monooxygenase, s...</td>\n",
       "    </tr>\n",
       "    <tr>\n",
       "      <th>1</th>\n",
       "      <td>/tmp/tmpO4S3j2</td>\n",
       "      <td>3</td>\n",
       "      <td>AmoC</td>\n",
       "      <td>PF04896.11</td>\n",
       "      <td>2517404670</td>\n",
       "      <td>-</td>\n",
       "      <td>1.7e-30</td>\n",
       "      <td>93.8</td>\n",
       "      <td>0.0</td>\n",
       "      <td>2.2e-30</td>\n",
       "      <td>...</td>\n",
       "      <td>0.0</td>\n",
       "      <td>1.1</td>\n",
       "      <td>1</td>\n",
       "      <td>0</td>\n",
       "      <td>0</td>\n",
       "      <td>1</td>\n",
       "      <td>1</td>\n",
       "      <td>1</td>\n",
       "      <td>1</td>\n",
       "      <td>Ammonia monooxygenase/methane monooxygenase, s...</td>\n",
       "    </tr>\n",
       "    <tr>\n",
       "      <th>2</th>\n",
       "      <td>/tmp/tmpO4S3j2</td>\n",
       "      <td>3</td>\n",
       "      <td>AmoC</td>\n",
       "      <td>PF04896.11</td>\n",
       "      <td>2517404865</td>\n",
       "      <td>-</td>\n",
       "      <td>4.2e-93</td>\n",
       "      <td>298.8</td>\n",
       "      <td>17.7</td>\n",
       "      <td>5.1e-93</td>\n",
       "      <td>...</td>\n",
       "      <td>17.7</td>\n",
       "      <td>1.0</td>\n",
       "      <td>1</td>\n",
       "      <td>0</td>\n",
       "      <td>0</td>\n",
       "      <td>1</td>\n",
       "      <td>1</td>\n",
       "      <td>1</td>\n",
       "      <td>1</td>\n",
       "      <td>Ammonia monooxygenase/methane monooxygenase, s...</td>\n",
       "    </tr>\n",
       "    <tr>\n",
       "      <th>3</th>\n",
       "      <td>/tmp/tmpO4S3j2</td>\n",
       "      <td>3</td>\n",
       "      <td>Monooxygenase_B</td>\n",
       "      <td>PF04744.11</td>\n",
       "      <td>2517404866</td>\n",
       "      <td>-</td>\n",
       "      <td>7.5e-155</td>\n",
       "      <td>503.0</td>\n",
       "      <td>0.0</td>\n",
       "      <td>8.4e-155</td>\n",
       "      <td>...</td>\n",
       "      <td>0.0</td>\n",
       "      <td>1.0</td>\n",
       "      <td>1</td>\n",
       "      <td>0</td>\n",
       "      <td>0</td>\n",
       "      <td>1</td>\n",
       "      <td>1</td>\n",
       "      <td>1</td>\n",
       "      <td>1</td>\n",
       "      <td>Monooxygenase subunit B protein</td>\n",
       "    </tr>\n",
       "    <tr>\n",
       "      <th>4</th>\n",
       "      <td>/tmp/tmpO4S3j2</td>\n",
       "      <td>3</td>\n",
       "      <td>AMO</td>\n",
       "      <td>PF02461.15</td>\n",
       "      <td>2517404867</td>\n",
       "      <td>-</td>\n",
       "      <td>6.5e-114</td>\n",
       "      <td>367.3</td>\n",
       "      <td>13.8</td>\n",
       "      <td>7.7e-114</td>\n",
       "      <td>...</td>\n",
       "      <td>13.8</td>\n",
       "      <td>1.0</td>\n",
       "      <td>1</td>\n",
       "      <td>0</td>\n",
       "      <td>0</td>\n",
       "      <td>1</td>\n",
       "      <td>1</td>\n",
       "      <td>1</td>\n",
       "      <td>1</td>\n",
       "      <td>Ammonia monooxygenase</td>\n",
       "    </tr>\n",
       "  </tbody>\n",
       "</table>\n",
       "<p>13 rows × 21 columns</p>\n",
       "</div>"
      ],
      "text/plain": [
       "        query file  label                0           1           2  3  \\\n",
       "5   /tmp/tmpSqwnnp      0             AmoC  PF04896.11  2517401456  -   \n",
       "6   /tmp/tmpd_zEcV      1             AmoC  PF04896.11  2517402628  -   \n",
       "7   /tmp/tmpd_zEcV      1              AMO  PF02461.15  2517402629  -   \n",
       "8   /tmp/tmpd_zEcV      1  Monooxygenase_B  PF04744.11  2517402630  -   \n",
       "9   /tmp/tmpNdc_YO      2             AmoC  PF04896.11  2517403201  -   \n",
       "10  /tmp/tmpNdc_YO      2  Monooxygenase_B  PF04744.11  2517403996  -   \n",
       "11  /tmp/tmpNdc_YO      2              AMO  PF02461.15  2517403997  -   \n",
       "12  /tmp/tmpNdc_YO      2             AmoC  PF04896.11  2517403998  -   \n",
       "0   /tmp/tmpO4S3j2      3             AmoC  PF04896.11  2517404225  -   \n",
       "1   /tmp/tmpO4S3j2      3             AmoC  PF04896.11  2517404670  -   \n",
       "2   /tmp/tmpO4S3j2      3             AmoC  PF04896.11  2517404865  -   \n",
       "3   /tmp/tmpO4S3j2      3  Monooxygenase_B  PF04744.11  2517404866  -   \n",
       "4   /tmp/tmpO4S3j2      3              AMO  PF02461.15  2517404867  -   \n",
       "\n",
       "           4      5     6         7  \\\n",
       "5   5.6e-120  386.8  15.8  7.2e-120   \n",
       "6   5.8e-122  393.3  14.7    7e-122   \n",
       "7   4.8e-124  400.4  24.0  5.4e-124   \n",
       "8   3.3e-170  553.6   0.0  3.7e-170   \n",
       "9   5.8e-122  393.3  14.7    7e-122   \n",
       "10  3.3e-170  553.6   0.0  3.7e-170   \n",
       "11  4.8e-124  400.4  24.0  5.4e-124   \n",
       "12  5.8e-122  393.3  14.7    7e-122   \n",
       "0   5.6e-111  357.3  11.5  6.6e-111   \n",
       "1    1.7e-30   93.8   0.0   2.2e-30   \n",
       "2    4.2e-93  298.8  17.7   5.1e-93   \n",
       "3   7.5e-155  503.0   0.0  8.4e-155   \n",
       "4   6.5e-114  367.3  13.8  7.7e-114   \n",
       "\n",
       "                          ...                             9   10 11 12 13 14  \\\n",
       "5                         ...                          15.8  1.0  1  0  0  1   \n",
       "6                         ...                          14.7  1.0  1  0  0  1   \n",
       "7                         ...                          24.0  1.0  1  0  0  1   \n",
       "8                         ...                           0.0  1.0  1  0  0  1   \n",
       "9                         ...                          14.7  1.0  1  0  0  1   \n",
       "10                        ...                           0.0  1.0  1  0  0  1   \n",
       "11                        ...                          24.0  1.0  1  0  0  1   \n",
       "12                        ...                          14.7  1.0  1  0  0  1   \n",
       "0                         ...                          11.5  1.0  1  0  0  1   \n",
       "1                         ...                           0.0  1.1  1  0  0  1   \n",
       "2                         ...                          17.7  1.0  1  0  0  1   \n",
       "3                         ...                           0.0  1.0  1  0  0  1   \n",
       "4                         ...                          13.8  1.0  1  0  0  1   \n",
       "\n",
       "   15 16 17                                                 18  \n",
       "5   1  1  1  Ammonia monooxygenase/methane monooxygenase, s...  \n",
       "6   1  1  1  Ammonia monooxygenase/methane monooxygenase, s...  \n",
       "7   1  1  1                              Ammonia monooxygenase  \n",
       "8   1  1  1                    Monooxygenase subunit B protein  \n",
       "9   1  1  1  Ammonia monooxygenase/methane monooxygenase, s...  \n",
       "10  1  1  1                    Monooxygenase subunit B protein  \n",
       "11  1  1  1                              Ammonia monooxygenase  \n",
       "12  1  1  1  Ammonia monooxygenase/methane monooxygenase, s...  \n",
       "0   1  1  1  Ammonia monooxygenase/methane monooxygenase, s...  \n",
       "1   1  1  1  Ammonia monooxygenase/methane monooxygenase, s...  \n",
       "2   1  1  1  Ammonia monooxygenase/methane monooxygenase, s...  \n",
       "3   1  1  1                    Monooxygenase subunit B protein  \n",
       "4   1  1  1                              Ammonia monooxygenase  \n",
       "\n",
       "[13 rows x 21 columns]"
      ]
     },
     "execution_count": 317,
     "metadata": {},
     "output_type": "execute_result"
    }
   ],
   "source": [
    "df_scramb"
   ]
  },
  {
   "cell_type": "code",
   "execution_count": 249,
   "metadata": {
    "collapsed": false
   },
   "outputs": [],
   "source": [
    "# def sizes(s):\n",
    "#     s['size_kb'] = locale.format(\"%.1f\", s['size'] / 1024.0, grouping=True) + ' KB'\n",
    "#     s['size_mb'] = locale.format(\"%.1f\", s['size'] / 1024.0 ** 2, grouping=True) + ' MB'\n",
    "#     s['size_gb'] = locale.format(\"%.1f\", s['size'] / 1024.0 ** 3, grouping=True) + ' GB'\n",
    "#     return s\n",
    "\n",
    "# df_test = df_test.append(rows_list)\n",
    "# df_test = df_test.apply(sizes, axis=1)"
   ]
  },
  {
   "cell_type": "code",
   "execution_count": 285,
   "metadata": {
    "collapsed": false
   },
   "outputs": [
    {
     "data": {
      "text/plain": [
       "'group_4.fasta'"
      ]
     },
     "execution_count": 285,
     "metadata": {},
     "output_type": "execute_result"
    }
   ],
   "source": [
    "files2['/tmp/tmp4h4Gou']"
   ]
  },
  {
   "cell_type": "code",
   "execution_count": null,
   "metadata": {
    "collapsed": true
   },
   "outputs": [],
   "source": []
  },
  {
   "cell_type": "code",
   "execution_count": null,
   "metadata": {
    "collapsed": true
   },
   "outputs": [],
   "source": []
  },
  {
   "cell_type": "markdown",
   "metadata": {},
   "source": [
    "# Putting it all together"
   ]
  },
  {
   "cell_type": "markdown",
   "metadata": {},
   "source": [
    "## Adding sequence and position - entire version"
   ]
  },
  {
   "cell_type": "code",
   "execution_count": null,
   "metadata": {
    "collapsed": true
   },
   "outputs": [],
   "source": []
  },
  {
   "cell_type": "code",
   "execution_count": 804,
   "metadata": {
    "collapsed": false
   },
   "outputs": [
    {
     "data": {
      "text/plain": [
       "'../2517287028.genes.faa'"
      ]
     },
     "execution_count": 804,
     "metadata": {},
     "output_type": "execute_result"
    }
   ],
   "source": [
    "filename"
   ]
  },
  {
   "cell_type": "code",
   "execution_count": null,
   "metadata": {
    "collapsed": true
   },
   "outputs": [],
   "source": []
  },
  {
   "cell_type": "code",
   "execution_count": 805,
   "metadata": {
    "collapsed": false
   },
   "outputs": [],
   "source": [
    "names=df[2].tolist()"
   ]
  },
  {
   "cell_type": "code",
   "execution_count": 806,
   "metadata": {
    "collapsed": false
   },
   "outputs": [],
   "source": [
    "def extractFeatures(ids):\n",
    "    features=[]\n",
    "    pos=0\n",
    "    for record in SeqIO.parse(filename,\"fasta\"):\n",
    "        pos+=1\n",
    "        if record.name in ids:\n",
    "            features.append({'qid':record.name, 'position':pos, 'descr':record.description, 'seq':str(record.seq)})\n",
    "    return pd.DataFrame(features)\n",
    "        "
   ]
  },
  {
   "cell_type": "code",
   "execution_count": 814,
   "metadata": {
    "collapsed": false
   },
   "outputs": [
    {
     "data": {
      "text/html": [
       "<div>\n",
       "<table border=\"1\" class=\"dataframe\">\n",
       "  <thead>\n",
       "    <tr style=\"text-align: right;\">\n",
       "      <th></th>\n",
       "      <th>0</th>\n",
       "      <th>1</th>\n",
       "      <th>2</th>\n",
       "      <th>3</th>\n",
       "      <th>4</th>\n",
       "      <th>5</th>\n",
       "      <th>6</th>\n",
       "      <th>7</th>\n",
       "      <th>8</th>\n",
       "      <th>9</th>\n",
       "      <th>...</th>\n",
       "      <th>qid_x</th>\n",
       "      <th>seq_x</th>\n",
       "      <th>descr_y</th>\n",
       "      <th>position_y</th>\n",
       "      <th>qid_y</th>\n",
       "      <th>seq_y</th>\n",
       "      <th>descr</th>\n",
       "      <th>position</th>\n",
       "      <th>qid</th>\n",
       "      <th>seq</th>\n",
       "    </tr>\n",
       "  </thead>\n",
       "  <tbody>\n",
       "    <tr>\n",
       "      <th>0</th>\n",
       "      <td>AmoC</td>\n",
       "      <td>PF04896.11</td>\n",
       "      <td>2517401456</td>\n",
       "      <td>-</td>\n",
       "      <td>5.6e-120</td>\n",
       "      <td>386.8</td>\n",
       "      <td>15.8</td>\n",
       "      <td>7.2e-120</td>\n",
       "      <td>386.4</td>\n",
       "      <td>15.8</td>\n",
       "      <td>...</td>\n",
       "      <td>2517401456</td>\n",
       "      <td>MSVTTQSAAGAMDRAQPIVELKGMWIGLAVLNGFYLVVRIYEQIYG...</td>\n",
       "      <td>2517401456 A3OODRAFT_0323 methane monooxygenas...</td>\n",
       "      <td>320</td>\n",
       "      <td>2517401456</td>\n",
       "      <td>MSVTTQSAAGAMDRAQPIVELKGMWIGLAVLNGFYLVVRIYEQIYG...</td>\n",
       "      <td>2517401456 A3OODRAFT_0323 methane monooxygenas...</td>\n",
       "      <td>320</td>\n",
       "      <td>2517401456</td>\n",
       "      <td>MSVTTQSAAGAMDRAQPIVELKGMWIGLAVLNGFYLVVRIYEQIYG...</td>\n",
       "    </tr>\n",
       "    <tr>\n",
       "      <th>1</th>\n",
       "      <td>AmoC</td>\n",
       "      <td>PF04896.11</td>\n",
       "      <td>2517402628</td>\n",
       "      <td>-</td>\n",
       "      <td>5.8e-122</td>\n",
       "      <td>393.3</td>\n",
       "      <td>14.7</td>\n",
       "      <td>7e-122</td>\n",
       "      <td>393.0</td>\n",
       "      <td>14.7</td>\n",
       "      <td>...</td>\n",
       "      <td>2517402628</td>\n",
       "      <td>MSSTTDTAARAAAGTEAVVDLKGMWIGLAVLNGFYLVVRIYEQVFG...</td>\n",
       "      <td>2517402628 A3OODRAFT_1495 methane monooxygenas...</td>\n",
       "      <td>1475</td>\n",
       "      <td>2517402628</td>\n",
       "      <td>MSSTTDTAARAAAGTEAVVDLKGMWIGLAVLNGFYLVVRIYEQVFG...</td>\n",
       "      <td>2517402628 A3OODRAFT_1495 methane monooxygenas...</td>\n",
       "      <td>1475</td>\n",
       "      <td>2517402628</td>\n",
       "      <td>MSSTTDTAARAAAGTEAVVDLKGMWIGLAVLNGFYLVVRIYEQVFG...</td>\n",
       "    </tr>\n",
       "    <tr>\n",
       "      <th>2</th>\n",
       "      <td>AMO</td>\n",
       "      <td>PF02461.15</td>\n",
       "      <td>2517402629</td>\n",
       "      <td>-</td>\n",
       "      <td>4.8e-124</td>\n",
       "      <td>400.4</td>\n",
       "      <td>24.0</td>\n",
       "      <td>5.4e-124</td>\n",
       "      <td>400.3</td>\n",
       "      <td>24.0</td>\n",
       "      <td>...</td>\n",
       "      <td>2517402629</td>\n",
       "      <td>MSQSKSGGAVGPFNSVAEAAGCVQTVDWMLLVLLFFAVLGGYHVHF...</td>\n",
       "      <td>2517402629 A3OODRAFT_1496 methane monooxygenas...</td>\n",
       "      <td>1476</td>\n",
       "      <td>2517402629</td>\n",
       "      <td>MSQSKSGGAVGPFNSVAEAAGCVQTVDWMLLVLLFFAVLGGYHVHF...</td>\n",
       "      <td>2517402629 A3OODRAFT_1496 methane monooxygenas...</td>\n",
       "      <td>1476</td>\n",
       "      <td>2517402629</td>\n",
       "      <td>MSQSKSGGAVGPFNSVAEAAGCVQTVDWMLLVLLFFAVLGGYHVHF...</td>\n",
       "    </tr>\n",
       "    <tr>\n",
       "      <th>3</th>\n",
       "      <td>Monooxygenase_B</td>\n",
       "      <td>PF04744.11</td>\n",
       "      <td>2517402630</td>\n",
       "      <td>-</td>\n",
       "      <td>3.3e-170</td>\n",
       "      <td>553.6</td>\n",
       "      <td>0.0</td>\n",
       "      <td>3.7e-170</td>\n",
       "      <td>553.4</td>\n",
       "      <td>0.0</td>\n",
       "      <td>...</td>\n",
       "      <td>2517402630</td>\n",
       "      <td>MKKFVKLAAIGAAAAVAATLGAVAPASAHGEKSQQAFLRMRTLNWY...</td>\n",
       "      <td>2517402630 A3OODRAFT_1497 methane monooxygenas...</td>\n",
       "      <td>1477</td>\n",
       "      <td>2517402630</td>\n",
       "      <td>MKKFVKLAAIGAAAAVAATLGAVAPASAHGEKSQQAFLRMRTLNWY...</td>\n",
       "      <td>2517402630 A3OODRAFT_1497 methane monooxygenas...</td>\n",
       "      <td>1477</td>\n",
       "      <td>2517402630</td>\n",
       "      <td>MKKFVKLAAIGAAAAVAATLGAVAPASAHGEKSQQAFLRMRTLNWY...</td>\n",
       "    </tr>\n",
       "    <tr>\n",
       "      <th>4</th>\n",
       "      <td>AmoC</td>\n",
       "      <td>PF04896.11</td>\n",
       "      <td>2517403201</td>\n",
       "      <td>-</td>\n",
       "      <td>5.8e-122</td>\n",
       "      <td>393.3</td>\n",
       "      <td>14.7</td>\n",
       "      <td>7e-122</td>\n",
       "      <td>393.0</td>\n",
       "      <td>14.7</td>\n",
       "      <td>...</td>\n",
       "      <td>2517403201</td>\n",
       "      <td>MSSTTDTAARAAAGTEAVVDLKGMWIGLAVLNGFYLVVRIYEQVFG...</td>\n",
       "      <td>2517403201 A3OODRAFT_2068 methane monooxygenas...</td>\n",
       "      <td>2043</td>\n",
       "      <td>2517403201</td>\n",
       "      <td>MSSTTDTAARAAAGTEAVVDLKGMWIGLAVLNGFYLVVRIYEQVFG...</td>\n",
       "      <td>2517403201 A3OODRAFT_2068 methane monooxygenas...</td>\n",
       "      <td>2043</td>\n",
       "      <td>2517403201</td>\n",
       "      <td>MSSTTDTAARAAAGTEAVVDLKGMWIGLAVLNGFYLVVRIYEQVFG...</td>\n",
       "    </tr>\n",
       "    <tr>\n",
       "      <th>5</th>\n",
       "      <td>Monooxygenase_B</td>\n",
       "      <td>PF04744.11</td>\n",
       "      <td>2517403996</td>\n",
       "      <td>-</td>\n",
       "      <td>3.3e-170</td>\n",
       "      <td>553.6</td>\n",
       "      <td>0.0</td>\n",
       "      <td>3.7e-170</td>\n",
       "      <td>553.4</td>\n",
       "      <td>0.0</td>\n",
       "      <td>...</td>\n",
       "      <td>2517403996</td>\n",
       "      <td>MKKFVKLAAIGAAAAVAATLGAVAPASAHGEKSQQAFLRMRTLNWY...</td>\n",
       "      <td>2517403996 A3OODRAFT_2863 methane monooxygenas...</td>\n",
       "      <td>2816</td>\n",
       "      <td>2517403996</td>\n",
       "      <td>MKKFVKLAAIGAAAAVAATLGAVAPASAHGEKSQQAFLRMRTLNWY...</td>\n",
       "      <td>2517403996 A3OODRAFT_2863 methane monooxygenas...</td>\n",
       "      <td>2816</td>\n",
       "      <td>2517403996</td>\n",
       "      <td>MKKFVKLAAIGAAAAVAATLGAVAPASAHGEKSQQAFLRMRTLNWY...</td>\n",
       "    </tr>\n",
       "    <tr>\n",
       "      <th>6</th>\n",
       "      <td>AMO</td>\n",
       "      <td>PF02461.15</td>\n",
       "      <td>2517403997</td>\n",
       "      <td>-</td>\n",
       "      <td>4.8e-124</td>\n",
       "      <td>400.4</td>\n",
       "      <td>24.0</td>\n",
       "      <td>5.4e-124</td>\n",
       "      <td>400.3</td>\n",
       "      <td>24.0</td>\n",
       "      <td>...</td>\n",
       "      <td>2517403997</td>\n",
       "      <td>MSQSKSGGAVGPFNSVAEAAGCVQTVDWMLLVLLFFAVLGGYHVHF...</td>\n",
       "      <td>2517403997 A3OODRAFT_2864 methane monooxygenas...</td>\n",
       "      <td>2817</td>\n",
       "      <td>2517403997</td>\n",
       "      <td>MSQSKSGGAVGPFNSVAEAAGCVQTVDWMLLVLLFFAVLGGYHVHF...</td>\n",
       "      <td>2517403997 A3OODRAFT_2864 methane monooxygenas...</td>\n",
       "      <td>2817</td>\n",
       "      <td>2517403997</td>\n",
       "      <td>MSQSKSGGAVGPFNSVAEAAGCVQTVDWMLLVLLFFAVLGGYHVHF...</td>\n",
       "    </tr>\n",
       "    <tr>\n",
       "      <th>7</th>\n",
       "      <td>AmoC</td>\n",
       "      <td>PF04896.11</td>\n",
       "      <td>2517403998</td>\n",
       "      <td>-</td>\n",
       "      <td>5.8e-122</td>\n",
       "      <td>393.3</td>\n",
       "      <td>14.7</td>\n",
       "      <td>7e-122</td>\n",
       "      <td>393.0</td>\n",
       "      <td>14.7</td>\n",
       "      <td>...</td>\n",
       "      <td>2517403998</td>\n",
       "      <td>MSSTTDTAARAAAGTEAVVDLKGMWIGLAVLNGFYLVVRIYEQVFG...</td>\n",
       "      <td>2517403998 A3OODRAFT_2865 methane monooxygenas...</td>\n",
       "      <td>2818</td>\n",
       "      <td>2517403998</td>\n",
       "      <td>MSSTTDTAARAAAGTEAVVDLKGMWIGLAVLNGFYLVVRIYEQVFG...</td>\n",
       "      <td>2517403998 A3OODRAFT_2865 methane monooxygenas...</td>\n",
       "      <td>2818</td>\n",
       "      <td>2517403998</td>\n",
       "      <td>MSSTTDTAARAAAGTEAVVDLKGMWIGLAVLNGFYLVVRIYEQVFG...</td>\n",
       "    </tr>\n",
       "    <tr>\n",
       "      <th>8</th>\n",
       "      <td>AmoC</td>\n",
       "      <td>PF04896.11</td>\n",
       "      <td>2517404225</td>\n",
       "      <td>-</td>\n",
       "      <td>5.6e-111</td>\n",
       "      <td>357.3</td>\n",
       "      <td>11.5</td>\n",
       "      <td>6.6e-111</td>\n",
       "      <td>357.1</td>\n",
       "      <td>11.5</td>\n",
       "      <td>...</td>\n",
       "      <td>2517404225</td>\n",
       "      <td>MSMTKTEARSAARSAERIIDTRPVLIGVPALMLFVAILRLYEQLFA...</td>\n",
       "      <td>2517404225 A3OODRAFT_3092 Ammonia monooxygenas...</td>\n",
       "      <td>3042</td>\n",
       "      <td>2517404225</td>\n",
       "      <td>MSMTKTEARSAARSAERIIDTRPVLIGVPALMLFVAILRLYEQLFA...</td>\n",
       "      <td>2517404225 A3OODRAFT_3092 Ammonia monooxygenas...</td>\n",
       "      <td>3042</td>\n",
       "      <td>2517404225</td>\n",
       "      <td>MSMTKTEARSAARSAERIIDTRPVLIGVPALMLFVAILRLYEQLFA...</td>\n",
       "    </tr>\n",
       "    <tr>\n",
       "      <th>9</th>\n",
       "      <td>AmoC</td>\n",
       "      <td>PF04896.11</td>\n",
       "      <td>2517404670</td>\n",
       "      <td>-</td>\n",
       "      <td>1.7e-30</td>\n",
       "      <td>93.8</td>\n",
       "      <td>0.0</td>\n",
       "      <td>2.2e-30</td>\n",
       "      <td>93.3</td>\n",
       "      <td>0.0</td>\n",
       "      <td>...</td>\n",
       "      <td>2517404670</td>\n",
       "      <td>MSETTQSAVGAIERAEPIVDLRGMWIGLAVLNGFYLVVRIYEQVFG...</td>\n",
       "      <td>2517404670 A3OODRAFT_3537 Ammonia monooxygenas...</td>\n",
       "      <td>3482</td>\n",
       "      <td>2517404670</td>\n",
       "      <td>MSETTQSAVGAIERAEPIVDLRGMWIGLAVLNGFYLVVRIYEQVFG...</td>\n",
       "      <td>2517404670 A3OODRAFT_3537 Ammonia monooxygenas...</td>\n",
       "      <td>3482</td>\n",
       "      <td>2517404670</td>\n",
       "      <td>MSETTQSAVGAIERAEPIVDLRGMWIGLAVLNGFYLVVRIYEQVFG...</td>\n",
       "    </tr>\n",
       "    <tr>\n",
       "      <th>10</th>\n",
       "      <td>AmoC</td>\n",
       "      <td>PF04896.11</td>\n",
       "      <td>2517404865</td>\n",
       "      <td>-</td>\n",
       "      <td>4.2e-93</td>\n",
       "      <td>298.8</td>\n",
       "      <td>17.7</td>\n",
       "      <td>5.1e-93</td>\n",
       "      <td>298.5</td>\n",
       "      <td>17.7</td>\n",
       "      <td>...</td>\n",
       "      <td>2517404865</td>\n",
       "      <td>MSTTAQTISQSTPQAPFNLPWYLRDLPKYLLTFGVMTVIYVGFRMY...</td>\n",
       "      <td>2517404865 A3OODRAFT_3733 methane monooxygenas...</td>\n",
       "      <td>3674</td>\n",
       "      <td>2517404865</td>\n",
       "      <td>MSTTAQTISQSTPQAPFNLPWYLRDLPKYLLTFGVMTVIYVGFRMY...</td>\n",
       "      <td>2517404865 A3OODRAFT_3733 methane monooxygenas...</td>\n",
       "      <td>3674</td>\n",
       "      <td>2517404865</td>\n",
       "      <td>MSTTAQTISQSTPQAPFNLPWYLRDLPKYLLTFGVMTVIYVGFRMY...</td>\n",
       "    </tr>\n",
       "    <tr>\n",
       "      <th>11</th>\n",
       "      <td>Monooxygenase_B</td>\n",
       "      <td>PF04744.11</td>\n",
       "      <td>2517404866</td>\n",
       "      <td>-</td>\n",
       "      <td>7.5e-155</td>\n",
       "      <td>503.0</td>\n",
       "      <td>0.0</td>\n",
       "      <td>8.4e-155</td>\n",
       "      <td>502.9</td>\n",
       "      <td>0.0</td>\n",
       "      <td>...</td>\n",
       "      <td>2517404866</td>\n",
       "      <td>MKKSLKSLFSAVYLGLCAGALAPEAALAHGEKALEPFVRMRTIQWY...</td>\n",
       "      <td>2517404866 A3OODRAFT_3734 methane monooxygenas...</td>\n",
       "      <td>3675</td>\n",
       "      <td>2517404866</td>\n",
       "      <td>MKKSLKSLFSAVYLGLCAGALAPEAALAHGEKALEPFVRMRTIQWY...</td>\n",
       "      <td>2517404866 A3OODRAFT_3734 methane monooxygenas...</td>\n",
       "      <td>3675</td>\n",
       "      <td>2517404866</td>\n",
       "      <td>MKKSLKSLFSAVYLGLCAGALAPEAALAHGEKALEPFVRMRTIQWY...</td>\n",
       "    </tr>\n",
       "    <tr>\n",
       "      <th>12</th>\n",
       "      <td>AMO</td>\n",
       "      <td>PF02461.15</td>\n",
       "      <td>2517404867</td>\n",
       "      <td>-</td>\n",
       "      <td>6.5e-114</td>\n",
       "      <td>367.3</td>\n",
       "      <td>13.8</td>\n",
       "      <td>7.7e-114</td>\n",
       "      <td>367.0</td>\n",
       "      <td>13.8</td>\n",
       "      <td>...</td>\n",
       "      <td>2517404867</td>\n",
       "      <td>MTGKSLDIPARPYTGEKSRLSRAYDYLILVLALFLFIGSFHLHVAL...</td>\n",
       "      <td>2517404867 A3OODRAFT_3735 Ammonia monooxygenas...</td>\n",
       "      <td>3676</td>\n",
       "      <td>2517404867</td>\n",
       "      <td>MTGKSLDIPARPYTGEKSRLSRAYDYLILVLALFLFIGSFHLHVAL...</td>\n",
       "      <td>2517404867 A3OODRAFT_3735 Ammonia monooxygenas...</td>\n",
       "      <td>3676</td>\n",
       "      <td>2517404867</td>\n",
       "      <td>MTGKSLDIPARPYTGEKSRLSRAYDYLILVLALFLFIGSFHLHVAL...</td>\n",
       "    </tr>\n",
       "  </tbody>\n",
       "</table>\n",
       "<p>13 rows × 39 columns</p>\n",
       "</div>"
      ],
      "text/plain": [
       "                  0           1           2  3         4      5     6  \\\n",
       "0              AmoC  PF04896.11  2517401456  -  5.6e-120  386.8  15.8   \n",
       "1              AmoC  PF04896.11  2517402628  -  5.8e-122  393.3  14.7   \n",
       "2               AMO  PF02461.15  2517402629  -  4.8e-124  400.4  24.0   \n",
       "3   Monooxygenase_B  PF04744.11  2517402630  -  3.3e-170  553.6   0.0   \n",
       "4              AmoC  PF04896.11  2517403201  -  5.8e-122  393.3  14.7   \n",
       "5   Monooxygenase_B  PF04744.11  2517403996  -  3.3e-170  553.6   0.0   \n",
       "6               AMO  PF02461.15  2517403997  -  4.8e-124  400.4  24.0   \n",
       "7              AmoC  PF04896.11  2517403998  -  5.8e-122  393.3  14.7   \n",
       "8              AmoC  PF04896.11  2517404225  -  5.6e-111  357.3  11.5   \n",
       "9              AmoC  PF04896.11  2517404670  -   1.7e-30   93.8   0.0   \n",
       "10             AmoC  PF04896.11  2517404865  -   4.2e-93  298.8  17.7   \n",
       "11  Monooxygenase_B  PF04744.11  2517404866  -  7.5e-155  503.0   0.0   \n",
       "12              AMO  PF02461.15  2517404867  -  6.5e-114  367.3  13.8   \n",
       "\n",
       "           7      8     9                        ...                          \\\n",
       "0   7.2e-120  386.4  15.8                        ...                           \n",
       "1     7e-122  393.0  14.7                        ...                           \n",
       "2   5.4e-124  400.3  24.0                        ...                           \n",
       "3   3.7e-170  553.4   0.0                        ...                           \n",
       "4     7e-122  393.0  14.7                        ...                           \n",
       "5   3.7e-170  553.4   0.0                        ...                           \n",
       "6   5.4e-124  400.3  24.0                        ...                           \n",
       "7     7e-122  393.0  14.7                        ...                           \n",
       "8   6.6e-111  357.1  11.5                        ...                           \n",
       "9    2.2e-30   93.3   0.0                        ...                           \n",
       "10   5.1e-93  298.5  17.7                        ...                           \n",
       "11  8.4e-155  502.9   0.0                        ...                           \n",
       "12  7.7e-114  367.0  13.8                        ...                           \n",
       "\n",
       "         qid_x                                              seq_x  \\\n",
       "0   2517401456  MSVTTQSAAGAMDRAQPIVELKGMWIGLAVLNGFYLVVRIYEQIYG...   \n",
       "1   2517402628  MSSTTDTAARAAAGTEAVVDLKGMWIGLAVLNGFYLVVRIYEQVFG...   \n",
       "2   2517402629  MSQSKSGGAVGPFNSVAEAAGCVQTVDWMLLVLLFFAVLGGYHVHF...   \n",
       "3   2517402630  MKKFVKLAAIGAAAAVAATLGAVAPASAHGEKSQQAFLRMRTLNWY...   \n",
       "4   2517403201  MSSTTDTAARAAAGTEAVVDLKGMWIGLAVLNGFYLVVRIYEQVFG...   \n",
       "5   2517403996  MKKFVKLAAIGAAAAVAATLGAVAPASAHGEKSQQAFLRMRTLNWY...   \n",
       "6   2517403997  MSQSKSGGAVGPFNSVAEAAGCVQTVDWMLLVLLFFAVLGGYHVHF...   \n",
       "7   2517403998  MSSTTDTAARAAAGTEAVVDLKGMWIGLAVLNGFYLVVRIYEQVFG...   \n",
       "8   2517404225  MSMTKTEARSAARSAERIIDTRPVLIGVPALMLFVAILRLYEQLFA...   \n",
       "9   2517404670  MSETTQSAVGAIERAEPIVDLRGMWIGLAVLNGFYLVVRIYEQVFG...   \n",
       "10  2517404865  MSTTAQTISQSTPQAPFNLPWYLRDLPKYLLTFGVMTVIYVGFRMY...   \n",
       "11  2517404866  MKKSLKSLFSAVYLGLCAGALAPEAALAHGEKALEPFVRMRTIQWY...   \n",
       "12  2517404867  MTGKSLDIPARPYTGEKSRLSRAYDYLILVLALFLFIGSFHLHVAL...   \n",
       "\n",
       "                                              descr_y position_y       qid_y  \\\n",
       "0   2517401456 A3OODRAFT_0323 methane monooxygenas...        320  2517401456   \n",
       "1   2517402628 A3OODRAFT_1495 methane monooxygenas...       1475  2517402628   \n",
       "2   2517402629 A3OODRAFT_1496 methane monooxygenas...       1476  2517402629   \n",
       "3   2517402630 A3OODRAFT_1497 methane monooxygenas...       1477  2517402630   \n",
       "4   2517403201 A3OODRAFT_2068 methane monooxygenas...       2043  2517403201   \n",
       "5   2517403996 A3OODRAFT_2863 methane monooxygenas...       2816  2517403996   \n",
       "6   2517403997 A3OODRAFT_2864 methane monooxygenas...       2817  2517403997   \n",
       "7   2517403998 A3OODRAFT_2865 methane monooxygenas...       2818  2517403998   \n",
       "8   2517404225 A3OODRAFT_3092 Ammonia monooxygenas...       3042  2517404225   \n",
       "9   2517404670 A3OODRAFT_3537 Ammonia monooxygenas...       3482  2517404670   \n",
       "10  2517404865 A3OODRAFT_3733 methane monooxygenas...       3674  2517404865   \n",
       "11  2517404866 A3OODRAFT_3734 methane monooxygenas...       3675  2517404866   \n",
       "12  2517404867 A3OODRAFT_3735 Ammonia monooxygenas...       3676  2517404867   \n",
       "\n",
       "                                                seq_y  \\\n",
       "0   MSVTTQSAAGAMDRAQPIVELKGMWIGLAVLNGFYLVVRIYEQIYG...   \n",
       "1   MSSTTDTAARAAAGTEAVVDLKGMWIGLAVLNGFYLVVRIYEQVFG...   \n",
       "2   MSQSKSGGAVGPFNSVAEAAGCVQTVDWMLLVLLFFAVLGGYHVHF...   \n",
       "3   MKKFVKLAAIGAAAAVAATLGAVAPASAHGEKSQQAFLRMRTLNWY...   \n",
       "4   MSSTTDTAARAAAGTEAVVDLKGMWIGLAVLNGFYLVVRIYEQVFG...   \n",
       "5   MKKFVKLAAIGAAAAVAATLGAVAPASAHGEKSQQAFLRMRTLNWY...   \n",
       "6   MSQSKSGGAVGPFNSVAEAAGCVQTVDWMLLVLLFFAVLGGYHVHF...   \n",
       "7   MSSTTDTAARAAAGTEAVVDLKGMWIGLAVLNGFYLVVRIYEQVFG...   \n",
       "8   MSMTKTEARSAARSAERIIDTRPVLIGVPALMLFVAILRLYEQLFA...   \n",
       "9   MSETTQSAVGAIERAEPIVDLRGMWIGLAVLNGFYLVVRIYEQVFG...   \n",
       "10  MSTTAQTISQSTPQAPFNLPWYLRDLPKYLLTFGVMTVIYVGFRMY...   \n",
       "11  MKKSLKSLFSAVYLGLCAGALAPEAALAHGEKALEPFVRMRTIQWY...   \n",
       "12  MTGKSLDIPARPYTGEKSRLSRAYDYLILVLALFLFIGSFHLHVAL...   \n",
       "\n",
       "                                                descr position         qid  \\\n",
       "0   2517401456 A3OODRAFT_0323 methane monooxygenas...      320  2517401456   \n",
       "1   2517402628 A3OODRAFT_1495 methane monooxygenas...     1475  2517402628   \n",
       "2   2517402629 A3OODRAFT_1496 methane monooxygenas...     1476  2517402629   \n",
       "3   2517402630 A3OODRAFT_1497 methane monooxygenas...     1477  2517402630   \n",
       "4   2517403201 A3OODRAFT_2068 methane monooxygenas...     2043  2517403201   \n",
       "5   2517403996 A3OODRAFT_2863 methane monooxygenas...     2816  2517403996   \n",
       "6   2517403997 A3OODRAFT_2864 methane monooxygenas...     2817  2517403997   \n",
       "7   2517403998 A3OODRAFT_2865 methane monooxygenas...     2818  2517403998   \n",
       "8   2517404225 A3OODRAFT_3092 Ammonia monooxygenas...     3042  2517404225   \n",
       "9   2517404670 A3OODRAFT_3537 Ammonia monooxygenas...     3482  2517404670   \n",
       "10  2517404865 A3OODRAFT_3733 methane monooxygenas...     3674  2517404865   \n",
       "11  2517404866 A3OODRAFT_3734 methane monooxygenas...     3675  2517404866   \n",
       "12  2517404867 A3OODRAFT_3735 Ammonia monooxygenas...     3676  2517404867   \n",
       "\n",
       "                                                  seq  \n",
       "0   MSVTTQSAAGAMDRAQPIVELKGMWIGLAVLNGFYLVVRIYEQIYG...  \n",
       "1   MSSTTDTAARAAAGTEAVVDLKGMWIGLAVLNGFYLVVRIYEQVFG...  \n",
       "2   MSQSKSGGAVGPFNSVAEAAGCVQTVDWMLLVLLFFAVLGGYHVHF...  \n",
       "3   MKKFVKLAAIGAAAAVAATLGAVAPASAHGEKSQQAFLRMRTLNWY...  \n",
       "4   MSSTTDTAARAAAGTEAVVDLKGMWIGLAVLNGFYLVVRIYEQVFG...  \n",
       "5   MKKFVKLAAIGAAAAVAATLGAVAPASAHGEKSQQAFLRMRTLNWY...  \n",
       "6   MSQSKSGGAVGPFNSVAEAAGCVQTVDWMLLVLLFFAVLGGYHVHF...  \n",
       "7   MSSTTDTAARAAAGTEAVVDLKGMWIGLAVLNGFYLVVRIYEQVFG...  \n",
       "8   MSMTKTEARSAARSAERIIDTRPVLIGVPALMLFVAILRLYEQLFA...  \n",
       "9   MSETTQSAVGAIERAEPIVDLRGMWIGLAVLNGFYLVVRIYEQVFG...  \n",
       "10  MSTTAQTISQSTPQAPFNLPWYLRDLPKYLLTFGVMTVIYVGFRMY...  \n",
       "11  MKKSLKSLFSAVYLGLCAGALAPEAALAHGEKALEPFVRMRTIQWY...  \n",
       "12  MTGKSLDIPARPYTGEKSRLSRAYDYLILVLALFLFIGSFHLHVAL...  \n",
       "\n",
       "[13 rows x 39 columns]"
      ]
     },
     "execution_count": 814,
     "metadata": {},
     "output_type": "execute_result"
    }
   ],
   "source": [
    "df=df.merge(extractFeatures(names), left_on=2, right_on='qid', suffixes=('',''))\n",
    "df"
   ]
  },
  {
   "cell_type": "code",
   "execution_count": 818,
   "metadata": {
    "collapsed": false
   },
   "outputs": [
    {
     "data": {
      "text/plain": [
       "[320, 1475, 1476, 1477, 2043, 2816, 2817, 2818, 3042, 3482, 3674, 3675, 3676]"
      ]
     },
     "execution_count": 818,
     "metadata": {},
     "output_type": "execute_result"
    }
   ],
   "source": [
    "l"
   ]
  },
  {
   "cell_type": "markdown",
   "metadata": {},
   "source": [
    "## Counting, identifying and annotating operons"
   ]
  },
  {
   "cell_type": "code",
   "execution_count": 819,
   "metadata": {
    "collapsed": false
   },
   "outputs": [
    {
     "data": {
      "text/html": [
       "<div>\n",
       "<table border=\"1\" class=\"dataframe\">\n",
       "  <thead>\n",
       "    <tr style=\"text-align: right;\">\n",
       "      <th></th>\n",
       "      <th>0</th>\n",
       "      <th>1</th>\n",
       "      <th>2</th>\n",
       "      <th>3</th>\n",
       "      <th>4</th>\n",
       "      <th>5</th>\n",
       "      <th>6</th>\n",
       "      <th>7</th>\n",
       "      <th>8</th>\n",
       "      <th>9</th>\n",
       "      <th>...</th>\n",
       "      <th>descr</th>\n",
       "      <th>position</th>\n",
       "      <th>qid</th>\n",
       "      <th>seq</th>\n",
       "      <th>diff1</th>\n",
       "      <th>diff2</th>\n",
       "      <th>is_operon</th>\n",
       "      <th>rel_coordinates</th>\n",
       "      <th>operon_count</th>\n",
       "      <th>type</th>\n",
       "    </tr>\n",
       "  </thead>\n",
       "  <tbody>\n",
       "    <tr>\n",
       "      <th>0</th>\n",
       "      <td>AmoC</td>\n",
       "      <td>PF04896.11</td>\n",
       "      <td>2517401456</td>\n",
       "      <td>-</td>\n",
       "      <td>5.6e-120</td>\n",
       "      <td>386.8</td>\n",
       "      <td>15.8</td>\n",
       "      <td>7.2e-120</td>\n",
       "      <td>386.4</td>\n",
       "      <td>15.8</td>\n",
       "      <td>...</td>\n",
       "      <td>2517401456 A3OODRAFT_0323 methane monooxygenas...</td>\n",
       "      <td>320</td>\n",
       "      <td>2517401456</td>\n",
       "      <td>MSVTTQSAAGAMDRAQPIVELKGMWIGLAVLNGFYLVVRIYEQIYG...</td>\n",
       "      <td>320</td>\n",
       "      <td>1155</td>\n",
       "      <td>False</td>\n",
       "      <td>0</td>\n",
       "      <td>False</td>\n",
       "      <td>C</td>\n",
       "    </tr>\n",
       "    <tr>\n",
       "      <th>1</th>\n",
       "      <td>AmoC</td>\n",
       "      <td>PF04896.11</td>\n",
       "      <td>2517402628</td>\n",
       "      <td>-</td>\n",
       "      <td>5.8e-122</td>\n",
       "      <td>393.3</td>\n",
       "      <td>14.7</td>\n",
       "      <td>7e-122</td>\n",
       "      <td>393.0</td>\n",
       "      <td>14.7</td>\n",
       "      <td>...</td>\n",
       "      <td>2517402628 A3OODRAFT_1495 methane monooxygenas...</td>\n",
       "      <td>1475</td>\n",
       "      <td>2517402628</td>\n",
       "      <td>MSSTTDTAARAAAGTEAVVDLKGMWIGLAVLNGFYLVVRIYEQVFG...</td>\n",
       "      <td>1155</td>\n",
       "      <td>1</td>\n",
       "      <td>True</td>\n",
       "      <td>1</td>\n",
       "      <td>1</td>\n",
       "      <td>C</td>\n",
       "    </tr>\n",
       "    <tr>\n",
       "      <th>2</th>\n",
       "      <td>AMO</td>\n",
       "      <td>PF02461.15</td>\n",
       "      <td>2517402629</td>\n",
       "      <td>-</td>\n",
       "      <td>4.8e-124</td>\n",
       "      <td>400.4</td>\n",
       "      <td>24.0</td>\n",
       "      <td>5.4e-124</td>\n",
       "      <td>400.3</td>\n",
       "      <td>24.0</td>\n",
       "      <td>...</td>\n",
       "      <td>2517402629 A3OODRAFT_1496 methane monooxygenas...</td>\n",
       "      <td>1476</td>\n",
       "      <td>2517402629</td>\n",
       "      <td>MSQSKSGGAVGPFNSVAEAAGCVQTVDWMLLVLLFFAVLGGYHVHF...</td>\n",
       "      <td>1</td>\n",
       "      <td>1</td>\n",
       "      <td>True</td>\n",
       "      <td>1</td>\n",
       "      <td>1</td>\n",
       "      <td>A</td>\n",
       "    </tr>\n",
       "    <tr>\n",
       "      <th>3</th>\n",
       "      <td>Monooxygenase_B</td>\n",
       "      <td>PF04744.11</td>\n",
       "      <td>2517402630</td>\n",
       "      <td>-</td>\n",
       "      <td>3.3e-170</td>\n",
       "      <td>553.6</td>\n",
       "      <td>0.0</td>\n",
       "      <td>3.7e-170</td>\n",
       "      <td>553.4</td>\n",
       "      <td>0.0</td>\n",
       "      <td>...</td>\n",
       "      <td>2517402630 A3OODRAFT_1497 methane monooxygenas...</td>\n",
       "      <td>1477</td>\n",
       "      <td>2517402630</td>\n",
       "      <td>MKKFVKLAAIGAAAAVAATLGAVAPASAHGEKSQQAFLRMRTLNWY...</td>\n",
       "      <td>1</td>\n",
       "      <td>566</td>\n",
       "      <td>True</td>\n",
       "      <td>1</td>\n",
       "      <td>1</td>\n",
       "      <td>B</td>\n",
       "    </tr>\n",
       "    <tr>\n",
       "      <th>4</th>\n",
       "      <td>AmoC</td>\n",
       "      <td>PF04896.11</td>\n",
       "      <td>2517403201</td>\n",
       "      <td>-</td>\n",
       "      <td>5.8e-122</td>\n",
       "      <td>393.3</td>\n",
       "      <td>14.7</td>\n",
       "      <td>7e-122</td>\n",
       "      <td>393.0</td>\n",
       "      <td>14.7</td>\n",
       "      <td>...</td>\n",
       "      <td>2517403201 A3OODRAFT_2068 methane monooxygenas...</td>\n",
       "      <td>2043</td>\n",
       "      <td>2517403201</td>\n",
       "      <td>MSSTTDTAARAAAGTEAVVDLKGMWIGLAVLNGFYLVVRIYEQVFG...</td>\n",
       "      <td>566</td>\n",
       "      <td>773</td>\n",
       "      <td>False</td>\n",
       "      <td>0</td>\n",
       "      <td>False</td>\n",
       "      <td>C</td>\n",
       "    </tr>\n",
       "    <tr>\n",
       "      <th>5</th>\n",
       "      <td>Monooxygenase_B</td>\n",
       "      <td>PF04744.11</td>\n",
       "      <td>2517403996</td>\n",
       "      <td>-</td>\n",
       "      <td>3.3e-170</td>\n",
       "      <td>553.6</td>\n",
       "      <td>0.0</td>\n",
       "      <td>3.7e-170</td>\n",
       "      <td>553.4</td>\n",
       "      <td>0.0</td>\n",
       "      <td>...</td>\n",
       "      <td>2517403996 A3OODRAFT_2863 methane monooxygenas...</td>\n",
       "      <td>2816</td>\n",
       "      <td>2517403996</td>\n",
       "      <td>MKKFVKLAAIGAAAAVAATLGAVAPASAHGEKSQQAFLRMRTLNWY...</td>\n",
       "      <td>773</td>\n",
       "      <td>1</td>\n",
       "      <td>True</td>\n",
       "      <td>1</td>\n",
       "      <td>2</td>\n",
       "      <td>B</td>\n",
       "    </tr>\n",
       "    <tr>\n",
       "      <th>6</th>\n",
       "      <td>AMO</td>\n",
       "      <td>PF02461.15</td>\n",
       "      <td>2517403997</td>\n",
       "      <td>-</td>\n",
       "      <td>4.8e-124</td>\n",
       "      <td>400.4</td>\n",
       "      <td>24.0</td>\n",
       "      <td>5.4e-124</td>\n",
       "      <td>400.3</td>\n",
       "      <td>24.0</td>\n",
       "      <td>...</td>\n",
       "      <td>2517403997 A3OODRAFT_2864 methane monooxygenas...</td>\n",
       "      <td>2817</td>\n",
       "      <td>2517403997</td>\n",
       "      <td>MSQSKSGGAVGPFNSVAEAAGCVQTVDWMLLVLLFFAVLGGYHVHF...</td>\n",
       "      <td>1</td>\n",
       "      <td>1</td>\n",
       "      <td>True</td>\n",
       "      <td>1</td>\n",
       "      <td>2</td>\n",
       "      <td>A</td>\n",
       "    </tr>\n",
       "    <tr>\n",
       "      <th>7</th>\n",
       "      <td>AmoC</td>\n",
       "      <td>PF04896.11</td>\n",
       "      <td>2517403998</td>\n",
       "      <td>-</td>\n",
       "      <td>5.8e-122</td>\n",
       "      <td>393.3</td>\n",
       "      <td>14.7</td>\n",
       "      <td>7e-122</td>\n",
       "      <td>393.0</td>\n",
       "      <td>14.7</td>\n",
       "      <td>...</td>\n",
       "      <td>2517403998 A3OODRAFT_2865 methane monooxygenas...</td>\n",
       "      <td>2818</td>\n",
       "      <td>2517403998</td>\n",
       "      <td>MSSTTDTAARAAAGTEAVVDLKGMWIGLAVLNGFYLVVRIYEQVFG...</td>\n",
       "      <td>1</td>\n",
       "      <td>224</td>\n",
       "      <td>True</td>\n",
       "      <td>1</td>\n",
       "      <td>2</td>\n",
       "      <td>C</td>\n",
       "    </tr>\n",
       "    <tr>\n",
       "      <th>8</th>\n",
       "      <td>AmoC</td>\n",
       "      <td>PF04896.11</td>\n",
       "      <td>2517404225</td>\n",
       "      <td>-</td>\n",
       "      <td>5.6e-111</td>\n",
       "      <td>357.3</td>\n",
       "      <td>11.5</td>\n",
       "      <td>6.6e-111</td>\n",
       "      <td>357.1</td>\n",
       "      <td>11.5</td>\n",
       "      <td>...</td>\n",
       "      <td>2517404225 A3OODRAFT_3092 Ammonia monooxygenas...</td>\n",
       "      <td>3042</td>\n",
       "      <td>2517404225</td>\n",
       "      <td>MSMTKTEARSAARSAERIIDTRPVLIGVPALMLFVAILRLYEQLFA...</td>\n",
       "      <td>224</td>\n",
       "      <td>440</td>\n",
       "      <td>False</td>\n",
       "      <td>0</td>\n",
       "      <td>False</td>\n",
       "      <td>C</td>\n",
       "    </tr>\n",
       "    <tr>\n",
       "      <th>9</th>\n",
       "      <td>AmoC</td>\n",
       "      <td>PF04896.11</td>\n",
       "      <td>2517404670</td>\n",
       "      <td>-</td>\n",
       "      <td>1.7e-30</td>\n",
       "      <td>93.8</td>\n",
       "      <td>0.0</td>\n",
       "      <td>2.2e-30</td>\n",
       "      <td>93.3</td>\n",
       "      <td>0.0</td>\n",
       "      <td>...</td>\n",
       "      <td>2517404670 A3OODRAFT_3537 Ammonia monooxygenas...</td>\n",
       "      <td>3482</td>\n",
       "      <td>2517404670</td>\n",
       "      <td>MSETTQSAVGAIERAEPIVDLRGMWIGLAVLNGFYLVVRIYEQVFG...</td>\n",
       "      <td>440</td>\n",
       "      <td>192</td>\n",
       "      <td>False</td>\n",
       "      <td>0</td>\n",
       "      <td>False</td>\n",
       "      <td>C</td>\n",
       "    </tr>\n",
       "    <tr>\n",
       "      <th>10</th>\n",
       "      <td>AmoC</td>\n",
       "      <td>PF04896.11</td>\n",
       "      <td>2517404865</td>\n",
       "      <td>-</td>\n",
       "      <td>4.2e-93</td>\n",
       "      <td>298.8</td>\n",
       "      <td>17.7</td>\n",
       "      <td>5.1e-93</td>\n",
       "      <td>298.5</td>\n",
       "      <td>17.7</td>\n",
       "      <td>...</td>\n",
       "      <td>2517404865 A3OODRAFT_3733 methane monooxygenas...</td>\n",
       "      <td>3674</td>\n",
       "      <td>2517404865</td>\n",
       "      <td>MSTTAQTISQSTPQAPFNLPWYLRDLPKYLLTFGVMTVIYVGFRMY...</td>\n",
       "      <td>192</td>\n",
       "      <td>1</td>\n",
       "      <td>True</td>\n",
       "      <td>1</td>\n",
       "      <td>3</td>\n",
       "      <td>C</td>\n",
       "    </tr>\n",
       "    <tr>\n",
       "      <th>11</th>\n",
       "      <td>Monooxygenase_B</td>\n",
       "      <td>PF04744.11</td>\n",
       "      <td>2517404866</td>\n",
       "      <td>-</td>\n",
       "      <td>7.5e-155</td>\n",
       "      <td>503.0</td>\n",
       "      <td>0.0</td>\n",
       "      <td>8.4e-155</td>\n",
       "      <td>502.9</td>\n",
       "      <td>0.0</td>\n",
       "      <td>...</td>\n",
       "      <td>2517404866 A3OODRAFT_3734 methane monooxygenas...</td>\n",
       "      <td>3675</td>\n",
       "      <td>2517404866</td>\n",
       "      <td>MKKSLKSLFSAVYLGLCAGALAPEAALAHGEKALEPFVRMRTIQWY...</td>\n",
       "      <td>1</td>\n",
       "      <td>1</td>\n",
       "      <td>True</td>\n",
       "      <td>1</td>\n",
       "      <td>3</td>\n",
       "      <td>B</td>\n",
       "    </tr>\n",
       "    <tr>\n",
       "      <th>12</th>\n",
       "      <td>AMO</td>\n",
       "      <td>PF02461.15</td>\n",
       "      <td>2517404867</td>\n",
       "      <td>-</td>\n",
       "      <td>6.5e-114</td>\n",
       "      <td>367.3</td>\n",
       "      <td>13.8</td>\n",
       "      <td>7.7e-114</td>\n",
       "      <td>367.0</td>\n",
       "      <td>13.8</td>\n",
       "      <td>...</td>\n",
       "      <td>2517404867 A3OODRAFT_3735 Ammonia monooxygenas...</td>\n",
       "      <td>3676</td>\n",
       "      <td>2517404867</td>\n",
       "      <td>MTGKSLDIPARPYTGEKSRLSRAYDYLILVLALFLFIGSFHLHVAL...</td>\n",
       "      <td>1</td>\n",
       "      <td>3676</td>\n",
       "      <td>True</td>\n",
       "      <td>1</td>\n",
       "      <td>3</td>\n",
       "      <td>A</td>\n",
       "    </tr>\n",
       "  </tbody>\n",
       "</table>\n",
       "<p>13 rows × 45 columns</p>\n",
       "</div>"
      ],
      "text/plain": [
       "                  0           1           2  3         4      5     6  \\\n",
       "0              AmoC  PF04896.11  2517401456  -  5.6e-120  386.8  15.8   \n",
       "1              AmoC  PF04896.11  2517402628  -  5.8e-122  393.3  14.7   \n",
       "2               AMO  PF02461.15  2517402629  -  4.8e-124  400.4  24.0   \n",
       "3   Monooxygenase_B  PF04744.11  2517402630  -  3.3e-170  553.6   0.0   \n",
       "4              AmoC  PF04896.11  2517403201  -  5.8e-122  393.3  14.7   \n",
       "5   Monooxygenase_B  PF04744.11  2517403996  -  3.3e-170  553.6   0.0   \n",
       "6               AMO  PF02461.15  2517403997  -  4.8e-124  400.4  24.0   \n",
       "7              AmoC  PF04896.11  2517403998  -  5.8e-122  393.3  14.7   \n",
       "8              AmoC  PF04896.11  2517404225  -  5.6e-111  357.3  11.5   \n",
       "9              AmoC  PF04896.11  2517404670  -   1.7e-30   93.8   0.0   \n",
       "10             AmoC  PF04896.11  2517404865  -   4.2e-93  298.8  17.7   \n",
       "11  Monooxygenase_B  PF04744.11  2517404866  -  7.5e-155  503.0   0.0   \n",
       "12              AMO  PF02461.15  2517404867  -  6.5e-114  367.3  13.8   \n",
       "\n",
       "           7      8     9 ...   \\\n",
       "0   7.2e-120  386.4  15.8 ...    \n",
       "1     7e-122  393.0  14.7 ...    \n",
       "2   5.4e-124  400.3  24.0 ...    \n",
       "3   3.7e-170  553.4   0.0 ...    \n",
       "4     7e-122  393.0  14.7 ...    \n",
       "5   3.7e-170  553.4   0.0 ...    \n",
       "6   5.4e-124  400.3  24.0 ...    \n",
       "7     7e-122  393.0  14.7 ...    \n",
       "8   6.6e-111  357.1  11.5 ...    \n",
       "9    2.2e-30   93.3   0.0 ...    \n",
       "10   5.1e-93  298.5  17.7 ...    \n",
       "11  8.4e-155  502.9   0.0 ...    \n",
       "12  7.7e-114  367.0  13.8 ...    \n",
       "\n",
       "                                                descr position         qid  \\\n",
       "0   2517401456 A3OODRAFT_0323 methane monooxygenas...      320  2517401456   \n",
       "1   2517402628 A3OODRAFT_1495 methane monooxygenas...     1475  2517402628   \n",
       "2   2517402629 A3OODRAFT_1496 methane monooxygenas...     1476  2517402629   \n",
       "3   2517402630 A3OODRAFT_1497 methane monooxygenas...     1477  2517402630   \n",
       "4   2517403201 A3OODRAFT_2068 methane monooxygenas...     2043  2517403201   \n",
       "5   2517403996 A3OODRAFT_2863 methane monooxygenas...     2816  2517403996   \n",
       "6   2517403997 A3OODRAFT_2864 methane monooxygenas...     2817  2517403997   \n",
       "7   2517403998 A3OODRAFT_2865 methane monooxygenas...     2818  2517403998   \n",
       "8   2517404225 A3OODRAFT_3092 Ammonia monooxygenas...     3042  2517404225   \n",
       "9   2517404670 A3OODRAFT_3537 Ammonia monooxygenas...     3482  2517404670   \n",
       "10  2517404865 A3OODRAFT_3733 methane monooxygenas...     3674  2517404865   \n",
       "11  2517404866 A3OODRAFT_3734 methane monooxygenas...     3675  2517404866   \n",
       "12  2517404867 A3OODRAFT_3735 Ammonia monooxygenas...     3676  2517404867   \n",
       "\n",
       "                                                  seq diff1 diff2 is_operon  \\\n",
       "0   MSVTTQSAAGAMDRAQPIVELKGMWIGLAVLNGFYLVVRIYEQIYG...   320  1155     False   \n",
       "1   MSSTTDTAARAAAGTEAVVDLKGMWIGLAVLNGFYLVVRIYEQVFG...  1155     1      True   \n",
       "2   MSQSKSGGAVGPFNSVAEAAGCVQTVDWMLLVLLFFAVLGGYHVHF...     1     1      True   \n",
       "3   MKKFVKLAAIGAAAAVAATLGAVAPASAHGEKSQQAFLRMRTLNWY...     1   566      True   \n",
       "4   MSSTTDTAARAAAGTEAVVDLKGMWIGLAVLNGFYLVVRIYEQVFG...   566   773     False   \n",
       "5   MKKFVKLAAIGAAAAVAATLGAVAPASAHGEKSQQAFLRMRTLNWY...   773     1      True   \n",
       "6   MSQSKSGGAVGPFNSVAEAAGCVQTVDWMLLVLLFFAVLGGYHVHF...     1     1      True   \n",
       "7   MSSTTDTAARAAAGTEAVVDLKGMWIGLAVLNGFYLVVRIYEQVFG...     1   224      True   \n",
       "8   MSMTKTEARSAARSAERIIDTRPVLIGVPALMLFVAILRLYEQLFA...   224   440     False   \n",
       "9   MSETTQSAVGAIERAEPIVDLRGMWIGLAVLNGFYLVVRIYEQVFG...   440   192     False   \n",
       "10  MSTTAQTISQSTPQAPFNLPWYLRDLPKYLLTFGVMTVIYVGFRMY...   192     1      True   \n",
       "11  MKKSLKSLFSAVYLGLCAGALAPEAALAHGEKALEPFVRMRTIQWY...     1     1      True   \n",
       "12  MTGKSLDIPARPYTGEKSRLSRAYDYLILVLALFLFIGSFHLHVAL...     1  3676      True   \n",
       "\n",
       "   rel_coordinates operon_count type  \n",
       "0                0        False    C  \n",
       "1                1            1    C  \n",
       "2                1            1    A  \n",
       "3                1            1    B  \n",
       "4                0        False    C  \n",
       "5                1            2    B  \n",
       "6                1            2    A  \n",
       "7                1            2    C  \n",
       "8                0        False    C  \n",
       "9                0        False    C  \n",
       "10               1            3    C  \n",
       "11               1            3    B  \n",
       "12               1            3    A  \n",
       "\n",
       "[13 rows x 45 columns]"
      ]
     },
     "execution_count": 819,
     "metadata": {},
     "output_type": "execute_result"
    }
   ],
   "source": [
    "max_distance=2\n",
    "\n",
    "model2type={'AmoC': 'C', 'AMO': 'A', 'Monooxygenase_B': 'B'}\n",
    "\n",
    "def is_operon(x):\n",
    "    return x['diff1'] or x['diff2']\n",
    "\n",
    "def rel_coordinates(x):\n",
    "    if ((x['diff1'] < max_distance) or (x['diff2']) <max_distance):\n",
    "        return min(x['diff1'],x['diff2'])\n",
    "    else:\n",
    "        return 0\n",
    "\n",
    "l=df['position'].tolist()\n",
    "\n",
    "df['diff1']=abs((np.array(l)-np.array([0] + l[:-1])))#shift to left\n",
    "df['diff2']=abs(np.array(l)-np.array(l[1:]+[0]))#shift to right\n",
    "#df[(df['diff1'] <= 2) | (df['diff2'] <= 2)]\n",
    "\n",
    "df['is_operon']=df[['diff1', 'diff2']].apply(lambda x: x < max_distance).apply(is_operon, axis=1)\n",
    "\n",
    "df['rel_coordinates']=df[['diff1', 'diff2']].apply(rel_coordinates, axis=1)\n",
    "\n",
    "df['operon_count']=operonCount(df['is_operon'].tolist())\n",
    "df['type']=df[0].apply(lambda x: model2type[x])\n",
    "df"
   ]
  },
  {
   "cell_type": "code",
   "execution_count": null,
   "metadata": {
    "collapsed": true
   },
   "outputs": [],
   "source": []
  },
  {
   "cell_type": "code",
   "execution_count": null,
   "metadata": {
    "collapsed": false
   },
   "outputs": [],
   "source": []
  },
  {
   "cell_type": "code",
   "execution_count": null,
   "metadata": {
    "collapsed": false
   },
   "outputs": [],
   "source": [
    "\n",
    "\n",
    "    "
   ]
  },
  {
   "cell_type": "code",
   "execution_count": null,
   "metadata": {
    "collapsed": false
   },
   "outputs": [],
   "source": []
  },
  {
   "cell_type": "code",
   "execution_count": 820,
   "metadata": {
    "collapsed": true
   },
   "outputs": [],
   "source": [
    "import numpy as np"
   ]
  },
  {
   "cell_type": "code",
   "execution_count": null,
   "metadata": {
    "collapsed": false
   },
   "outputs": [],
   "source": []
  },
  {
   "cell_type": "code",
   "execution_count": null,
   "metadata": {
    "collapsed": false
   },
   "outputs": [],
   "source": []
  },
  {
   "cell_type": "code",
   "execution_count": null,
   "metadata": {
    "collapsed": true
   },
   "outputs": [],
   "source": []
  },
  {
   "cell_type": "code",
   "execution_count": null,
   "metadata": {
    "collapsed": true
   },
   "outputs": [],
   "source": []
  },
  {
   "cell_type": "code",
   "execution_count": null,
   "metadata": {
    "collapsed": true
   },
   "outputs": [],
   "source": []
  },
  {
   "cell_type": "code",
   "execution_count": null,
   "metadata": {
    "collapsed": true
   },
   "outputs": [],
   "source": []
  },
  {
   "cell_type": "code",
   "execution_count": null,
   "metadata": {
    "collapsed": false
   },
   "outputs": [],
   "source": []
  },
  {
   "cell_type": "code",
   "execution_count": null,
   "metadata": {
    "collapsed": true
   },
   "outputs": [],
   "source": []
  },
  {
   "cell_type": "code",
   "execution_count": 821,
   "metadata": {
    "collapsed": false
   },
   "outputs": [
    {
     "data": {
      "text/plain": [
       "[False,\n",
       " True,\n",
       " True,\n",
       " True,\n",
       " False,\n",
       " True,\n",
       " True,\n",
       " True,\n",
       " False,\n",
       " False,\n",
       " True,\n",
       " True,\n",
       " True]"
      ]
     },
     "execution_count": 821,
     "metadata": {},
     "output_type": "execute_result"
    }
   ],
   "source": [
    "df['is_operon'].tolist()\n",
    "        "
   ]
  },
  {
   "cell_type": "code",
   "execution_count": 822,
   "metadata": {
    "collapsed": true
   },
   "outputs": [],
   "source": [
    "def operonCount(lst):\n",
    "    opCnt=0\n",
    "    state=False\n",
    "    for i in xrange(len(lst)):\n",
    "        if lst[i]:\n",
    "            newState=True\n",
    "            if (state==False) and (newState==True):\n",
    "                opCnt+=1\n",
    "            lst[i]=opCnt\n",
    "            state=newState\n",
    "        else:\n",
    "            state=False\n",
    "    return lst\n",
    "            "
   ]
  },
  {
   "cell_type": "code",
   "execution_count": null,
   "metadata": {
    "collapsed": false
   },
   "outputs": [],
   "source": []
  },
  {
   "cell_type": "code",
   "execution_count": 824,
   "metadata": {
    "collapsed": false
   },
   "outputs": [
    {
     "data": {
      "text/plain": [
       "[0, 1, 1, 1, 0, 2, 2, 2, 0, 0, 3, 3, 3]"
      ]
     },
     "execution_count": 824,
     "metadata": {},
     "output_type": "execute_result"
    }
   ],
   "source": [
    "opCnt"
   ]
  },
  {
   "cell_type": "code",
   "execution_count": null,
   "metadata": {
    "collapsed": false
   },
   "outputs": [],
   "source": []
  },
  {
   "cell_type": "code",
   "execution_count": 825,
   "metadata": {
    "collapsed": false
   },
   "outputs": [
    {
     "data": {
      "text/html": [
       "<div>\n",
       "<table border=\"1\" class=\"dataframe\">\n",
       "  <thead>\n",
       "    <tr style=\"text-align: right;\">\n",
       "      <th></th>\n",
       "      <th>0</th>\n",
       "      <th>1</th>\n",
       "      <th>2</th>\n",
       "      <th>3</th>\n",
       "      <th>4</th>\n",
       "      <th>5</th>\n",
       "      <th>6</th>\n",
       "      <th>7</th>\n",
       "      <th>8</th>\n",
       "      <th>9</th>\n",
       "      <th>...</th>\n",
       "      <th>descr</th>\n",
       "      <th>position</th>\n",
       "      <th>qid</th>\n",
       "      <th>seq</th>\n",
       "      <th>diff1</th>\n",
       "      <th>diff2</th>\n",
       "      <th>is_operon</th>\n",
       "      <th>rel_coordinates</th>\n",
       "      <th>operon_count</th>\n",
       "      <th>type</th>\n",
       "    </tr>\n",
       "  </thead>\n",
       "  <tbody>\n",
       "    <tr>\n",
       "      <th>0</th>\n",
       "      <td>AmoC</td>\n",
       "      <td>PF04896.11</td>\n",
       "      <td>2517401456</td>\n",
       "      <td>-</td>\n",
       "      <td>5.6e-120</td>\n",
       "      <td>386.8</td>\n",
       "      <td>15.8</td>\n",
       "      <td>7.2e-120</td>\n",
       "      <td>386.4</td>\n",
       "      <td>15.8</td>\n",
       "      <td>...</td>\n",
       "      <td>2517401456 A3OODRAFT_0323 methane monooxygenas...</td>\n",
       "      <td>320</td>\n",
       "      <td>2517401456</td>\n",
       "      <td>MSVTTQSAAGAMDRAQPIVELKGMWIGLAVLNGFYLVVRIYEQIYG...</td>\n",
       "      <td>320</td>\n",
       "      <td>1155</td>\n",
       "      <td>False</td>\n",
       "      <td>0</td>\n",
       "      <td>False</td>\n",
       "      <td>C</td>\n",
       "    </tr>\n",
       "    <tr>\n",
       "      <th>1</th>\n",
       "      <td>AmoC</td>\n",
       "      <td>PF04896.11</td>\n",
       "      <td>2517402628</td>\n",
       "      <td>-</td>\n",
       "      <td>5.8e-122</td>\n",
       "      <td>393.3</td>\n",
       "      <td>14.7</td>\n",
       "      <td>7e-122</td>\n",
       "      <td>393.0</td>\n",
       "      <td>14.7</td>\n",
       "      <td>...</td>\n",
       "      <td>2517402628 A3OODRAFT_1495 methane monooxygenas...</td>\n",
       "      <td>1475</td>\n",
       "      <td>2517402628</td>\n",
       "      <td>MSSTTDTAARAAAGTEAVVDLKGMWIGLAVLNGFYLVVRIYEQVFG...</td>\n",
       "      <td>1155</td>\n",
       "      <td>1</td>\n",
       "      <td>True</td>\n",
       "      <td>1</td>\n",
       "      <td>1</td>\n",
       "      <td>C</td>\n",
       "    </tr>\n",
       "    <tr>\n",
       "      <th>2</th>\n",
       "      <td>AMO</td>\n",
       "      <td>PF02461.15</td>\n",
       "      <td>2517402629</td>\n",
       "      <td>-</td>\n",
       "      <td>4.8e-124</td>\n",
       "      <td>400.4</td>\n",
       "      <td>24.0</td>\n",
       "      <td>5.4e-124</td>\n",
       "      <td>400.3</td>\n",
       "      <td>24.0</td>\n",
       "      <td>...</td>\n",
       "      <td>2517402629 A3OODRAFT_1496 methane monooxygenas...</td>\n",
       "      <td>1476</td>\n",
       "      <td>2517402629</td>\n",
       "      <td>MSQSKSGGAVGPFNSVAEAAGCVQTVDWMLLVLLFFAVLGGYHVHF...</td>\n",
       "      <td>1</td>\n",
       "      <td>1</td>\n",
       "      <td>True</td>\n",
       "      <td>1</td>\n",
       "      <td>1</td>\n",
       "      <td>A</td>\n",
       "    </tr>\n",
       "    <tr>\n",
       "      <th>3</th>\n",
       "      <td>Monooxygenase_B</td>\n",
       "      <td>PF04744.11</td>\n",
       "      <td>2517402630</td>\n",
       "      <td>-</td>\n",
       "      <td>3.3e-170</td>\n",
       "      <td>553.6</td>\n",
       "      <td>0.0</td>\n",
       "      <td>3.7e-170</td>\n",
       "      <td>553.4</td>\n",
       "      <td>0.0</td>\n",
       "      <td>...</td>\n",
       "      <td>2517402630 A3OODRAFT_1497 methane monooxygenas...</td>\n",
       "      <td>1477</td>\n",
       "      <td>2517402630</td>\n",
       "      <td>MKKFVKLAAIGAAAAVAATLGAVAPASAHGEKSQQAFLRMRTLNWY...</td>\n",
       "      <td>1</td>\n",
       "      <td>566</td>\n",
       "      <td>True</td>\n",
       "      <td>1</td>\n",
       "      <td>1</td>\n",
       "      <td>B</td>\n",
       "    </tr>\n",
       "    <tr>\n",
       "      <th>4</th>\n",
       "      <td>AmoC</td>\n",
       "      <td>PF04896.11</td>\n",
       "      <td>2517403201</td>\n",
       "      <td>-</td>\n",
       "      <td>5.8e-122</td>\n",
       "      <td>393.3</td>\n",
       "      <td>14.7</td>\n",
       "      <td>7e-122</td>\n",
       "      <td>393.0</td>\n",
       "      <td>14.7</td>\n",
       "      <td>...</td>\n",
       "      <td>2517403201 A3OODRAFT_2068 methane monooxygenas...</td>\n",
       "      <td>2043</td>\n",
       "      <td>2517403201</td>\n",
       "      <td>MSSTTDTAARAAAGTEAVVDLKGMWIGLAVLNGFYLVVRIYEQVFG...</td>\n",
       "      <td>566</td>\n",
       "      <td>773</td>\n",
       "      <td>False</td>\n",
       "      <td>0</td>\n",
       "      <td>False</td>\n",
       "      <td>C</td>\n",
       "    </tr>\n",
       "  </tbody>\n",
       "</table>\n",
       "<p>5 rows × 45 columns</p>\n",
       "</div>"
      ],
      "text/plain": [
       "                 0           1           2  3         4      5     6  \\\n",
       "0             AmoC  PF04896.11  2517401456  -  5.6e-120  386.8  15.8   \n",
       "1             AmoC  PF04896.11  2517402628  -  5.8e-122  393.3  14.7   \n",
       "2              AMO  PF02461.15  2517402629  -  4.8e-124  400.4  24.0   \n",
       "3  Monooxygenase_B  PF04744.11  2517402630  -  3.3e-170  553.6   0.0   \n",
       "4             AmoC  PF04896.11  2517403201  -  5.8e-122  393.3  14.7   \n",
       "\n",
       "          7      8     9 ...   \\\n",
       "0  7.2e-120  386.4  15.8 ...    \n",
       "1    7e-122  393.0  14.7 ...    \n",
       "2  5.4e-124  400.3  24.0 ...    \n",
       "3  3.7e-170  553.4   0.0 ...    \n",
       "4    7e-122  393.0  14.7 ...    \n",
       "\n",
       "                                               descr position         qid  \\\n",
       "0  2517401456 A3OODRAFT_0323 methane monooxygenas...      320  2517401456   \n",
       "1  2517402628 A3OODRAFT_1495 methane monooxygenas...     1475  2517402628   \n",
       "2  2517402629 A3OODRAFT_1496 methane monooxygenas...     1476  2517402629   \n",
       "3  2517402630 A3OODRAFT_1497 methane monooxygenas...     1477  2517402630   \n",
       "4  2517403201 A3OODRAFT_2068 methane monooxygenas...     2043  2517403201   \n",
       "\n",
       "                                                 seq diff1 diff2 is_operon  \\\n",
       "0  MSVTTQSAAGAMDRAQPIVELKGMWIGLAVLNGFYLVVRIYEQIYG...   320  1155     False   \n",
       "1  MSSTTDTAARAAAGTEAVVDLKGMWIGLAVLNGFYLVVRIYEQVFG...  1155     1      True   \n",
       "2  MSQSKSGGAVGPFNSVAEAAGCVQTVDWMLLVLLFFAVLGGYHVHF...     1     1      True   \n",
       "3  MKKFVKLAAIGAAAAVAATLGAVAPASAHGEKSQQAFLRMRTLNWY...     1   566      True   \n",
       "4  MSSTTDTAARAAAGTEAVVDLKGMWIGLAVLNGFYLVVRIYEQVFG...   566   773     False   \n",
       "\n",
       "  rel_coordinates operon_count type  \n",
       "0               0        False    C  \n",
       "1               1            1    C  \n",
       "2               1            1    A  \n",
       "3               1            1    B  \n",
       "4               0        False    C  \n",
       "\n",
       "[5 rows x 45 columns]"
      ]
     },
     "execution_count": 825,
     "metadata": {},
     "output_type": "execute_result"
    }
   ],
   "source": [
    "df.head()"
   ]
  },
  {
   "cell_type": "code",
   "execution_count": null,
   "metadata": {
    "collapsed": true
   },
   "outputs": [],
   "source": []
  },
  {
   "cell_type": "code",
   "execution_count": null,
   "metadata": {
    "collapsed": true
   },
   "outputs": [],
   "source": []
  },
  {
   "cell_type": "code",
   "execution_count": null,
   "metadata": {
    "collapsed": true
   },
   "outputs": [],
   "source": []
  },
  {
   "cell_type": "code",
   "execution_count": null,
   "metadata": {
    "collapsed": true
   },
   "outputs": [],
   "source": []
  },
  {
   "cell_type": "code",
   "execution_count": null,
   "metadata": {
    "collapsed": true
   },
   "outputs": [],
   "source": []
  },
  {
   "cell_type": "code",
   "execution_count": 826,
   "metadata": {
    "collapsed": false
   },
   "outputs": [
    {
     "data": {
      "text/plain": [
       "Index([                 2,             u'0_x',             u'1_x',\n",
       "                   u'2_x',             u'3_x',                  4,\n",
       "                        5,                  6,                  7,\n",
       "                        8,                  9,                 10,\n",
       "                       11,                 12,                 13,\n",
       "                       14,                 15,                 16,\n",
       "                       17,                 18,             u'0_y',\n",
       "                   u'1_y',             u'2_y',             u'3_y',\n",
       "                 u'diff1',           u'diff2',       u'is_operon',\n",
       "          u'operon_count', u'rel_coordinates',            u'type',\n",
       "                        2,             u'0_x',             u'1_x',\n",
       "                   u'2_x',             u'3_x',                  4,\n",
       "                        5,                  6,                  7,\n",
       "                        8,                  9,                 10,\n",
       "                       11,                 12,                 13,\n",
       "                       14,                 15,                 16,\n",
       "                       17,                 18,             u'0_y',\n",
       "                   u'1_y',             u'2_y',             u'3_y',\n",
       "                 u'diff1',           u'diff2',       u'is_operon',\n",
       "          u'operon_count', u'rel_coordinates',            u'type',\n",
       "                        2,             u'0_x',             u'1_x',\n",
       "                   u'2_x',             u'3_x',                  4,\n",
       "                        5,                  6,                  7,\n",
       "                        8,                  9,                 10,\n",
       "                       11,                 12,                 13,\n",
       "                       14,                 15,                 16,\n",
       "                       17,                 18,             u'0_y',\n",
       "                   u'1_y',             u'2_y',             u'3_y',\n",
       "                 u'diff1',           u'diff2',       u'is_operon',\n",
       "          u'operon_count', u'rel_coordinates',            u'type'],\n",
       "      dtype='object')"
      ]
     },
     "execution_count": 826,
     "metadata": {},
     "output_type": "execute_result"
    }
   ],
   "source": [
    "operons[1]"
   ]
  },
  {
   "cell_type": "code",
   "execution_count": null,
   "metadata": {
    "collapsed": true
   },
   "outputs": [],
   "source": []
  },
  {
   "cell_type": "code",
   "execution_count": 683,
   "metadata": {
    "collapsed": true
   },
   "outputs": [],
   "source": [
    "# df = df.stack().to_frame().T\n",
    "# df.columns = ['{}_{}'.format(*c) for c in df.columns]"
   ]
  },
  {
   "cell_type": "code",
   "execution_count": 865,
   "metadata": {
    "collapsed": false
   },
   "outputs": [],
   "source": [
    "operons=list()\n",
    "output=pd.DataFrame()\n",
    "for count,frame in df.groupby('operon_count'):\n",
    "    if count > 0:\n",
    "        #print(\"***********\"+str(count)+\"*****************************\")\n",
    "        #print(frame)\n",
    "        #print('===========================================================')\n",
    "        #frame.columns = ['{}_{}'.format(*c) for c in df.columns]\n",
    "        frame=frame.stack().to_frame().T\n",
    "        operons.append(frame.copy())\n",
    "        frame.columns=frame.columns.droplevel(0)\n",
    "        output=output.append(frame, ignore_index=True)"
   ]
  },
  {
   "cell_type": "code",
   "execution_count": 866,
   "metadata": {
    "collapsed": false
   },
   "outputs": [],
   "source": [
    "def concatValues(row):\n",
    "    concatVal=''\n",
    "    for i in range(output['type'].iloc[1].size):\n",
    "        concatVal+=str(row.iloc[i])\n",
    "    return concatVal"
   ]
  },
  {
   "cell_type": "code",
   "execution_count": null,
   "metadata": {
    "collapsed": true
   },
   "outputs": [],
   "source": []
  },
  {
   "cell_type": "code",
   "execution_count": 883,
   "metadata": {
    "collapsed": true
   },
   "outputs": [],
   "source": [
    "def concatSeparatedValues(row, sep=\"|\"):\n",
    "    concatVal=''\n",
    "    for i in range(output['type'].iloc[1].size):\n",
    "        concatVal+=str(row.iloc[i])+sep\n",
    "    concatVal=concatVal[:-1]\n",
    "    return concatVal"
   ]
  },
  {
   "cell_type": "code",
   "execution_count": null,
   "metadata": {
    "collapsed": true
   },
   "outputs": [],
   "source": []
  },
  {
   "cell_type": "code",
   "execution_count": 884,
   "metadata": {
    "collapsed": false
   },
   "outputs": [
    {
     "data": {
      "text/plain": [
       "0    CAB\n",
       "1    BAC\n",
       "2    CBA\n",
       "dtype: object"
      ]
     },
     "execution_count": 884,
     "metadata": {},
     "output_type": "execute_result"
    }
   ],
   "source": [
    "output['type'].apply(lambda x: x.iloc[0]+x.iloc[1]+x.iloc[2] ,axis=1)"
   ]
  },
  {
   "cell_type": "code",
   "execution_count": 869,
   "metadata": {
    "collapsed": false
   },
   "outputs": [
    {
     "data": {
      "text/html": [
       "<div>\n",
       "<table border=\"1\" class=\"dataframe\">\n",
       "  <thead>\n",
       "    <tr style=\"text-align: right;\">\n",
       "      <th></th>\n",
       "      <th>type</th>\n",
       "      <th>type</th>\n",
       "      <th>type</th>\n",
       "    </tr>\n",
       "  </thead>\n",
       "  <tbody>\n",
       "    <tr>\n",
       "      <th>0</th>\n",
       "      <td>C</td>\n",
       "      <td>A</td>\n",
       "      <td>B</td>\n",
       "    </tr>\n",
       "    <tr>\n",
       "      <th>1</th>\n",
       "      <td>B</td>\n",
       "      <td>A</td>\n",
       "      <td>C</td>\n",
       "    </tr>\n",
       "    <tr>\n",
       "      <th>2</th>\n",
       "      <td>C</td>\n",
       "      <td>B</td>\n",
       "      <td>A</td>\n",
       "    </tr>\n",
       "  </tbody>\n",
       "</table>\n",
       "</div>"
      ],
      "text/plain": [
       "  type type type\n",
       "0    C    A    B\n",
       "1    B    A    C\n",
       "2    C    B    A"
      ]
     },
     "execution_count": 869,
     "metadata": {},
     "output_type": "execute_result"
    }
   ],
   "source": [
    "output['type']"
   ]
  },
  {
   "cell_type": "code",
   "execution_count": 870,
   "metadata": {
    "collapsed": false
   },
   "outputs": [
    {
     "data": {
      "text/plain": [
       "3"
      ]
     },
     "execution_count": 870,
     "metadata": {},
     "output_type": "execute_result"
    }
   ],
   "source": [
    "output['type'].iloc[1].size"
   ]
  },
  {
   "cell_type": "code",
   "execution_count": 871,
   "metadata": {
    "collapsed": false
   },
   "outputs": [
    {
     "data": {
      "text/plain": [
       "0    CAB\n",
       "1    BAC\n",
       "2    CBA\n",
       "dtype: object"
      ]
     },
     "execution_count": 871,
     "metadata": {},
     "output_type": "execute_result"
    }
   ],
   "source": [
    "output['type'].apply(concatValues,axis=1)\n"
   ]
  },
  {
   "cell_type": "code",
   "execution_count": 872,
   "metadata": {
    "collapsed": false
   },
   "outputs": [
    {
     "data": {
      "text/html": [
       "<div>\n",
       "<table border=\"1\" class=\"dataframe\">\n",
       "  <thead>\n",
       "    <tr style=\"text-align: right;\">\n",
       "      <th></th>\n",
       "      <th>0</th>\n",
       "      <th>1</th>\n",
       "      <th>2</th>\n",
       "      <th>3</th>\n",
       "      <th>4</th>\n",
       "      <th>5</th>\n",
       "      <th>6</th>\n",
       "      <th>7</th>\n",
       "      <th>8</th>\n",
       "      <th>9</th>\n",
       "      <th>...</th>\n",
       "      <th>descr</th>\n",
       "      <th>position</th>\n",
       "      <th>qid</th>\n",
       "      <th>seq</th>\n",
       "      <th>diff1</th>\n",
       "      <th>diff2</th>\n",
       "      <th>is_operon</th>\n",
       "      <th>rel_coordinates</th>\n",
       "      <th>operon_count</th>\n",
       "      <th>type</th>\n",
       "    </tr>\n",
       "  </thead>\n",
       "  <tbody>\n",
       "    <tr>\n",
       "      <th>0</th>\n",
       "      <td>AmoC</td>\n",
       "      <td>PF04896.11</td>\n",
       "      <td>2517402628</td>\n",
       "      <td>-</td>\n",
       "      <td>5.8e-122</td>\n",
       "      <td>393.3</td>\n",
       "      <td>14.7</td>\n",
       "      <td>7e-122</td>\n",
       "      <td>393.0</td>\n",
       "      <td>14.7</td>\n",
       "      <td>...</td>\n",
       "      <td>2517402630 A3OODRAFT_1497 methane monooxygenas...</td>\n",
       "      <td>1477</td>\n",
       "      <td>2517402630</td>\n",
       "      <td>MKKFVKLAAIGAAAAVAATLGAVAPASAHGEKSQQAFLRMRTLNWY...</td>\n",
       "      <td>1</td>\n",
       "      <td>566</td>\n",
       "      <td>True</td>\n",
       "      <td>1</td>\n",
       "      <td>1</td>\n",
       "      <td>B</td>\n",
       "    </tr>\n",
       "    <tr>\n",
       "      <th>1</th>\n",
       "      <td>Monooxygenase_B</td>\n",
       "      <td>PF04744.11</td>\n",
       "      <td>2517403996</td>\n",
       "      <td>-</td>\n",
       "      <td>3.3e-170</td>\n",
       "      <td>553.6</td>\n",
       "      <td>0.0</td>\n",
       "      <td>3.7e-170</td>\n",
       "      <td>553.4</td>\n",
       "      <td>0.0</td>\n",
       "      <td>...</td>\n",
       "      <td>2517403998 A3OODRAFT_2865 methane monooxygenas...</td>\n",
       "      <td>2818</td>\n",
       "      <td>2517403998</td>\n",
       "      <td>MSSTTDTAARAAAGTEAVVDLKGMWIGLAVLNGFYLVVRIYEQVFG...</td>\n",
       "      <td>1</td>\n",
       "      <td>224</td>\n",
       "      <td>True</td>\n",
       "      <td>1</td>\n",
       "      <td>2</td>\n",
       "      <td>C</td>\n",
       "    </tr>\n",
       "    <tr>\n",
       "      <th>2</th>\n",
       "      <td>AmoC</td>\n",
       "      <td>PF04896.11</td>\n",
       "      <td>2517404865</td>\n",
       "      <td>-</td>\n",
       "      <td>4.2e-93</td>\n",
       "      <td>298.8</td>\n",
       "      <td>17.7</td>\n",
       "      <td>5.1e-93</td>\n",
       "      <td>298.5</td>\n",
       "      <td>17.7</td>\n",
       "      <td>...</td>\n",
       "      <td>2517404867 A3OODRAFT_3735 Ammonia monooxygenas...</td>\n",
       "      <td>3676</td>\n",
       "      <td>2517404867</td>\n",
       "      <td>MTGKSLDIPARPYTGEKSRLSRAYDYLILVLALFLFIGSFHLHVAL...</td>\n",
       "      <td>1</td>\n",
       "      <td>3676</td>\n",
       "      <td>True</td>\n",
       "      <td>1</td>\n",
       "      <td>3</td>\n",
       "      <td>A</td>\n",
       "    </tr>\n",
       "  </tbody>\n",
       "</table>\n",
       "<p>3 rows × 135 columns</p>\n",
       "</div>"
      ],
      "text/plain": [
       "                 0           1           2  3         4      5     6  \\\n",
       "0             AmoC  PF04896.11  2517402628  -  5.8e-122  393.3  14.7   \n",
       "1  Monooxygenase_B  PF04744.11  2517403996  -  3.3e-170  553.6   0.0   \n",
       "2             AmoC  PF04896.11  2517404865  -   4.2e-93  298.8  17.7   \n",
       "\n",
       "          7      8     9 ...   \\\n",
       "0    7e-122  393.0  14.7 ...    \n",
       "1  3.7e-170  553.4   0.0 ...    \n",
       "2   5.1e-93  298.5  17.7 ...    \n",
       "\n",
       "                                               descr position         qid  \\\n",
       "0  2517402630 A3OODRAFT_1497 methane monooxygenas...     1477  2517402630   \n",
       "1  2517403998 A3OODRAFT_2865 methane monooxygenas...     2818  2517403998   \n",
       "2  2517404867 A3OODRAFT_3735 Ammonia monooxygenas...     3676  2517404867   \n",
       "\n",
       "                                                 seq diff1 diff2 is_operon  \\\n",
       "0  MKKFVKLAAIGAAAAVAATLGAVAPASAHGEKSQQAFLRMRTLNWY...     1   566      True   \n",
       "1  MSSTTDTAARAAAGTEAVVDLKGMWIGLAVLNGFYLVVRIYEQVFG...     1   224      True   \n",
       "2  MTGKSLDIPARPYTGEKSRLSRAYDYLILVLALFLFIGSFHLHVAL...     1  3676      True   \n",
       "\n",
       "  rel_coordinates operon_count type  \n",
       "0               1            1    B  \n",
       "1               1            2    C  \n",
       "2               1            3    A  \n",
       "\n",
       "[3 rows x 135 columns]"
      ]
     },
     "execution_count": 872,
     "metadata": {},
     "output_type": "execute_result"
    }
   ],
   "source": [
    "output"
   ]
  },
  {
   "cell_type": "code",
   "execution_count": null,
   "metadata": {
    "collapsed": true
   },
   "outputs": [],
   "source": []
  },
  {
   "cell_type": "code",
   "execution_count": null,
   "metadata": {
    "collapsed": true
   },
   "outputs": [],
   "source": []
  },
  {
   "cell_type": "code",
   "execution_count": 873,
   "metadata": {
    "collapsed": false
   },
   "outputs": [
    {
     "data": {
      "text/html": [
       "<div>\n",
       "<table border=\"1\" class=\"dataframe\">\n",
       "  <thead>\n",
       "    <tr style=\"text-align: right;\">\n",
       "      <th></th>\n",
       "      <th>descr</th>\n",
       "      <th>descr</th>\n",
       "      <th>descr</th>\n",
       "    </tr>\n",
       "  </thead>\n",
       "  <tbody>\n",
       "    <tr>\n",
       "      <th>0</th>\n",
       "      <td>2517402628 A3OODRAFT_1495 methane monooxygenas...</td>\n",
       "      <td>2517402629 A3OODRAFT_1496 methane monooxygenas...</td>\n",
       "      <td>2517402630 A3OODRAFT_1497 methane monooxygenas...</td>\n",
       "    </tr>\n",
       "    <tr>\n",
       "      <th>1</th>\n",
       "      <td>2517403996 A3OODRAFT_2863 methane monooxygenas...</td>\n",
       "      <td>2517403997 A3OODRAFT_2864 methane monooxygenas...</td>\n",
       "      <td>2517403998 A3OODRAFT_2865 methane monooxygenas...</td>\n",
       "    </tr>\n",
       "    <tr>\n",
       "      <th>2</th>\n",
       "      <td>2517404865 A3OODRAFT_3733 methane monooxygenas...</td>\n",
       "      <td>2517404866 A3OODRAFT_3734 methane monooxygenas...</td>\n",
       "      <td>2517404867 A3OODRAFT_3735 Ammonia monooxygenas...</td>\n",
       "    </tr>\n",
       "  </tbody>\n",
       "</table>\n",
       "</div>"
      ],
      "text/plain": [
       "                                               descr  \\\n",
       "0  2517402628 A3OODRAFT_1495 methane monooxygenas...   \n",
       "1  2517403996 A3OODRAFT_2863 methane monooxygenas...   \n",
       "2  2517404865 A3OODRAFT_3733 methane monooxygenas...   \n",
       "\n",
       "                                               descr  \\\n",
       "0  2517402629 A3OODRAFT_1496 methane monooxygenas...   \n",
       "1  2517403997 A3OODRAFT_2864 methane monooxygenas...   \n",
       "2  2517404866 A3OODRAFT_3734 methane monooxygenas...   \n",
       "\n",
       "                                               descr  \n",
       "0  2517402630 A3OODRAFT_1497 methane monooxygenas...  \n",
       "1  2517403998 A3OODRAFT_2865 methane monooxygenas...  \n",
       "2  2517404867 A3OODRAFT_3735 Ammonia monooxygenas...  "
      ]
     },
     "execution_count": 873,
     "metadata": {},
     "output_type": "execute_result"
    }
   ],
   "source": [
    "output['descr']"
   ]
  },
  {
   "cell_type": "code",
   "execution_count": null,
   "metadata": {
    "collapsed": true
   },
   "outputs": [],
   "source": []
  },
  {
   "cell_type": "code",
   "execution_count": 874,
   "metadata": {
    "collapsed": false
   },
   "outputs": [
    {
     "data": {
      "text/plain": [
       "MultiIndex(levels=[[1, 2, 3], [0, 1, 2, 3, 4, 5, 6, 7, 8, 9, 10, 11, 12, 13, 14, 15, 16, 17, 18, u'descr', u'descr_x', u'descr_y', u'diff1', u'diff2', u'is_operon', u'operon_count', u'position', u'position_x', u'position_y', u'qid', u'qid_x', u'qid_y', u'rel_coordinates', u'seq', u'seq_x', u'seq_y', u'type']],\n",
       "           labels=[[0, 0, 0, 0, 0, 0, 0, 0, 0, 0, 0, 0, 0, 0, 0, 0, 0, 0, 0, 0, 0, 0, 0, 0, 0, 0, 0, 0, 0, 0, 0, 0, 0, 0, 0, 0, 0, 0, 0, 0, 0, 0, 0, 0, 0, 1, 1, 1, 1, 1, 1, 1, 1, 1, 1, 1, 1, 1, 1, 1, 1, 1, 1, 1, 1, 1, 1, 1, 1, 1, 1, 1, 1, 1, 1, 1, 1, 1, 1, 1, 1, 1, 1, 1, 1, 1, 1, 1, 1, 1, 2, 2, 2, 2, 2, 2, 2, 2, 2, 2, 2, 2, 2, 2, 2, 2, 2, 2, 2, 2, 2, 2, 2, 2, 2, 2, 2, 2, 2, 2, 2, 2, 2, 2, 2, 2, 2, 2, 2, 2, 2, 2, 2, 2, 2], [0, 1, 2, 3, 4, 5, 6, 7, 8, 9, 10, 11, 12, 13, 14, 15, 16, 17, 18, 20, 27, 30, 34, 21, 28, 31, 35, 20, 27, 30, 34, 21, 28, 31, 35, 19, 26, 29, 33, 22, 23, 24, 32, 25, 36, 0, 1, 2, 3, 4, 5, 6, 7, 8, 9, 10, 11, 12, 13, 14, 15, 16, 17, 18, 20, 27, 30, 34, 21, 28, 31, 35, 20, 27, 30, 34, 21, 28, 31, 35, 19, 26, 29, 33, 22, 23, 24, 32, 25, 36, 0, 1, 2, 3, 4, 5, 6, 7, 8, 9, 10, 11, 12, 13, 14, 15, 16, 17, 18, 20, 27, 30, 34, 21, 28, 31, 35, 20, 27, 30, 34, 21, 28, 31, 35, 19, 26, 29, 33, 22, 23, 24, 32, 25, 36]])"
      ]
     },
     "execution_count": 874,
     "metadata": {},
     "output_type": "execute_result"
    }
   ],
   "source": [
    "operons[0].columns"
   ]
  },
  {
   "cell_type": "code",
   "execution_count": 878,
   "metadata": {
    "collapsed": true
   },
   "outputs": [],
   "source": [
    "output['operon_type']=output['type'].apply(concatValues, axis=1)\n",
    "output['rel_distance']=output['rel_coordinates'].apply(concatValues, axis=1)\n",
    "output['concat_ids']=output[2].apply(concatSeparatedValues, axis=1)\n",
    "output['concat_descr']=output['descr'].apply(concatSeparatedValues, axis=1)\n",
    "output['concat_sequences']=output['seq'].apply(concatValues, axis=1)"
   ]
  },
  {
   "cell_type": "code",
   "execution_count": null,
   "metadata": {
    "collapsed": true
   },
   "outputs": [],
   "source": []
  },
  {
   "cell_type": "code",
   "execution_count": 879,
   "metadata": {
    "collapsed": false
   },
   "outputs": [
    {
     "data": {
      "text/html": [
       "<div>\n",
       "<table border=\"1\" class=\"dataframe\">\n",
       "  <thead>\n",
       "    <tr style=\"text-align: right;\">\n",
       "      <th></th>\n",
       "      <th>0</th>\n",
       "      <th>1</th>\n",
       "      <th>2</th>\n",
       "      <th>3</th>\n",
       "      <th>4</th>\n",
       "      <th>5</th>\n",
       "      <th>6</th>\n",
       "      <th>7</th>\n",
       "      <th>8</th>\n",
       "      <th>9</th>\n",
       "      <th>...</th>\n",
       "      <th>is_operon</th>\n",
       "      <th>rel_coordinates</th>\n",
       "      <th>operon_count</th>\n",
       "      <th>type</th>\n",
       "      <th>operon_type</th>\n",
       "      <th>rel_distance</th>\n",
       "      <th>concat_ids</th>\n",
       "      <th>concat_descr</th>\n",
       "      <th>concat_operon</th>\n",
       "      <th>concat_sequences</th>\n",
       "    </tr>\n",
       "  </thead>\n",
       "  <tbody>\n",
       "    <tr>\n",
       "      <th>0</th>\n",
       "      <td>AmoC</td>\n",
       "      <td>PF04896.11</td>\n",
       "      <td>2517402628</td>\n",
       "      <td>-</td>\n",
       "      <td>5.8e-122</td>\n",
       "      <td>393.3</td>\n",
       "      <td>14.7</td>\n",
       "      <td>7e-122</td>\n",
       "      <td>393.0</td>\n",
       "      <td>14.7</td>\n",
       "      <td>...</td>\n",
       "      <td>True</td>\n",
       "      <td>1</td>\n",
       "      <td>1</td>\n",
       "      <td>B</td>\n",
       "      <td>CAB</td>\n",
       "      <td>111</td>\n",
       "      <td>2517402628|2517402629|2517402630</td>\n",
       "      <td>2517402628 A3OODRAFT_1495 methane monooxygenas...</td>\n",
       "      <td>MSSTTDTAARAAAGTEAVVDLKGMWIGLAVLNGFYLVVRIYEQVFG...</td>\n",
       "      <td>MSSTTDTAARAAAGTEAVVDLKGMWIGLAVLNGFYLVVRIYEQVFG...</td>\n",
       "    </tr>\n",
       "    <tr>\n",
       "      <th>1</th>\n",
       "      <td>Monooxygenase_B</td>\n",
       "      <td>PF04744.11</td>\n",
       "      <td>2517403996</td>\n",
       "      <td>-</td>\n",
       "      <td>3.3e-170</td>\n",
       "      <td>553.6</td>\n",
       "      <td>0.0</td>\n",
       "      <td>3.7e-170</td>\n",
       "      <td>553.4</td>\n",
       "      <td>0.0</td>\n",
       "      <td>...</td>\n",
       "      <td>True</td>\n",
       "      <td>1</td>\n",
       "      <td>2</td>\n",
       "      <td>C</td>\n",
       "      <td>BAC</td>\n",
       "      <td>111</td>\n",
       "      <td>2517403996|2517403997|2517403998</td>\n",
       "      <td>2517403996 A3OODRAFT_2863 methane monooxygenas...</td>\n",
       "      <td>MKKFVKLAAIGAAAAVAATLGAVAPASAHGEKSQQAFLRMRTLNWY...</td>\n",
       "      <td>MKKFVKLAAIGAAAAVAATLGAVAPASAHGEKSQQAFLRMRTLNWY...</td>\n",
       "    </tr>\n",
       "    <tr>\n",
       "      <th>2</th>\n",
       "      <td>AmoC</td>\n",
       "      <td>PF04896.11</td>\n",
       "      <td>2517404865</td>\n",
       "      <td>-</td>\n",
       "      <td>4.2e-93</td>\n",
       "      <td>298.8</td>\n",
       "      <td>17.7</td>\n",
       "      <td>5.1e-93</td>\n",
       "      <td>298.5</td>\n",
       "      <td>17.7</td>\n",
       "      <td>...</td>\n",
       "      <td>True</td>\n",
       "      <td>1</td>\n",
       "      <td>3</td>\n",
       "      <td>A</td>\n",
       "      <td>CBA</td>\n",
       "      <td>111</td>\n",
       "      <td>2517404865|2517404866|2517404867</td>\n",
       "      <td>2517404865 A3OODRAFT_3733 methane monooxygenas...</td>\n",
       "      <td>MSTTAQTISQSTPQAPFNLPWYLRDLPKYLLTFGVMTVIYVGFRMY...</td>\n",
       "      <td>MSTTAQTISQSTPQAPFNLPWYLRDLPKYLLTFGVMTVIYVGFRMY...</td>\n",
       "    </tr>\n",
       "  </tbody>\n",
       "</table>\n",
       "<p>3 rows × 141 columns</p>\n",
       "</div>"
      ],
      "text/plain": [
       "                 0           1           2  3         4      5     6  \\\n",
       "0             AmoC  PF04896.11  2517402628  -  5.8e-122  393.3  14.7   \n",
       "1  Monooxygenase_B  PF04744.11  2517403996  -  3.3e-170  553.6   0.0   \n",
       "2             AmoC  PF04896.11  2517404865  -   4.2e-93  298.8  17.7   \n",
       "\n",
       "          7      8     9                        ...                          \\\n",
       "0    7e-122  393.0  14.7                        ...                           \n",
       "1  3.7e-170  553.4   0.0                        ...                           \n",
       "2   5.1e-93  298.5  17.7                        ...                           \n",
       "\n",
       "  is_operon rel_coordinates operon_count type operon_type rel_distance  \\\n",
       "0      True               1            1    B         CAB          111   \n",
       "1      True               1            2    C         BAC          111   \n",
       "2      True               1            3    A         CBA          111   \n",
       "\n",
       "                         concat_ids  \\\n",
       "0  2517402628|2517402629|2517402630   \n",
       "1  2517403996|2517403997|2517403998   \n",
       "2  2517404865|2517404866|2517404867   \n",
       "\n",
       "                                        concat_descr  \\\n",
       "0  2517402628 A3OODRAFT_1495 methane monooxygenas...   \n",
       "1  2517403996 A3OODRAFT_2863 methane monooxygenas...   \n",
       "2  2517404865 A3OODRAFT_3733 methane monooxygenas...   \n",
       "\n",
       "                                       concat_operon  \\\n",
       "0  MSSTTDTAARAAAGTEAVVDLKGMWIGLAVLNGFYLVVRIYEQVFG...   \n",
       "1  MKKFVKLAAIGAAAAVAATLGAVAPASAHGEKSQQAFLRMRTLNWY...   \n",
       "2  MSTTAQTISQSTPQAPFNLPWYLRDLPKYLLTFGVMTVIYVGFRMY...   \n",
       "\n",
       "                                    concat_sequences  \n",
       "0  MSSTTDTAARAAAGTEAVVDLKGMWIGLAVLNGFYLVVRIYEQVFG...  \n",
       "1  MKKFVKLAAIGAAAAVAATLGAVAPASAHGEKSQQAFLRMRTLNWY...  \n",
       "2  MSTTAQTISQSTPQAPFNLPWYLRDLPKYLLTFGVMTVIYVGFRMY...  \n",
       "\n",
       "[3 rows x 141 columns]"
      ]
     },
     "execution_count": 879,
     "metadata": {},
     "output_type": "execute_result"
    }
   ],
   "source": [
    "output"
   ]
  },
  {
   "cell_type": "code",
   "execution_count": null,
   "metadata": {
    "collapsed": true
   },
   "outputs": [],
   "source": []
  },
  {
   "cell_type": "code",
   "execution_count": null,
   "metadata": {
    "collapsed": false
   },
   "outputs": [],
   "source": []
  },
  {
   "cell_type": "markdown",
   "metadata": {},
   "source": [
    "## Exporting values"
   ]
  },
  {
   "cell_type": "code",
   "execution_count": 880,
   "metadata": {
    "collapsed": false
   },
   "outputs": [],
   "source": [
    "export_columns=['operon_type', 'rel_distance', 'concat_ids', 'concat_descr', 'concat_sequences']"
   ]
  },
  {
   "cell_type": "code",
   "execution_count": 900,
   "metadata": {
    "collapsed": false
   },
   "outputs": [],
   "source": [
    "outfile1 = \"out.csv\"\n",
    "outfile2 = \"out.fasta\"\n",
    "output[export_columns].to_csv(outfile1, sep='\\t', header=True)"
   ]
  },
  {
   "cell_type": "code",
   "execution_count": 901,
   "metadata": {
    "collapsed": false
   },
   "outputs": [],
   "source": [
    "from Bio.Seq import Seq\n",
    "from Bio.SeqRecord import SeqRecord\n",
    "from Bio.Alphabet import IUPAC"
   ]
  },
  {
   "cell_type": "code",
   "execution_count": 907,
   "metadata": {
    "collapsed": false
   },
   "outputs": [],
   "source": [
    "\n",
    "\n",
    "ids = output['concat_ids'].tolist()\n",
    "sequences=output['concat_sequences'].tolist()\n",
    "descriptions=output['concat_descr'].tolist()\n",
    "types=output['operon_type'].tolist()\n",
    "#if len(ids)==len(sequences):\n",
    "records=list()\n",
    "for i in range(len(ids)):\n",
    "    record=SeqRecord(Seq(sequences[i], IUPAC.protein), id=ids[i],name=types[i] , description=types[i]+\" \"+descriptions[i])\n",
    "    records.append(record)\n",
    "with open(outfile2, \"w\") as output_handle:\n",
    "    SeqIO.write(records, output_handle, \"fasta\")\n"
   ]
  },
  {
   "cell_type": "code",
   "execution_count": 908,
   "metadata": {
    "collapsed": false
   },
   "outputs": [
    {
     "data": {
      "text/plain": [
       "[SeqRecord(seq=Seq('MSSTTDTAARAAAGTEAVVDLKGMWIGLAVLNGFYLVVRIYEQVFGWRAGLDSF...DMP', IUPACProtein()), id='2517402628|2517402629|2517402630', name='CAB', description='CAB 2517402628 A3OODRAFT_1495 methane monooxygenase/ammonia monooxygenase, subunit C [Methylocystis rosea SV97T]|2517402629 A3OODRAFT_1496 methane monooxygenase/ammonia monooxygenase, subunit A [Methylocystis rosea SV97T]|2517402630 A3OODRAFT_1497 methane monooxygenase/ammonia monooxygenase, subunit B [Methylocystis rosea SV97T]', dbxrefs=[]),\n",
       " SeqRecord(seq=Seq('MKKFVKLAAIGAAAAVAATLGAVAPASAHGEKSQQAFLRMRTLNWYDVQWSKTT...LTE', IUPACProtein()), id='2517403996|2517403997|2517403998', name='BAC', description='BAC 2517403996 A3OODRAFT_2863 methane monooxygenase/ammonia monooxygenase, subunit B [Methylocystis rosea SV97T]|2517403997 A3OODRAFT_2864 methane monooxygenase/ammonia monooxygenase, subunit A [Methylocystis rosea SV97T]|2517403998 A3OODRAFT_2865 methane monooxygenase/ammonia monooxygenase, subunit C [Methylocystis rosea SV97T]', dbxrefs=[]),\n",
       " SeqRecord(seq=Seq('MSTTAQTISQSTPQAPFNLPWYLRDLPKYLLTFGVMTVIYVGFRMYQGAYAIST...KNI', IUPACProtein()), id='2517404865|2517404866|2517404867', name='CBA', description='CBA 2517404865 A3OODRAFT_3733 methane monooxygenase/ammonia monooxygenase, subunit C [Methylocystis rosea SV97T]|2517404866 A3OODRAFT_3734 methane monooxygenase/ammonia monooxygenase, subunit B [Methylocystis rosea SV97T]|2517404867 A3OODRAFT_3735 Ammonia monooxygenase. [Methylocystis rosea SV97T]', dbxrefs=[])]"
      ]
     },
     "execution_count": 908,
     "metadata": {},
     "output_type": "execute_result"
    }
   ],
   "source": [
    "records"
   ]
  },
  {
   "cell_type": "code",
   "execution_count": 887,
   "metadata": {
    "collapsed": false
   },
   "outputs": [],
   "source": [
    "my_rna = Seq(\"GUCAUGGCCAUUGUAAUGGGCCGCUGAAAGGGUGCCCGAUAGUUG\")"
   ]
  },
  {
   "cell_type": "code",
   "execution_count": 897,
   "metadata": {
    "collapsed": false
   },
   "outputs": [
    {
     "data": {
      "text/plain": [
       "140443830384016"
      ]
     },
     "execution_count": 897,
     "metadata": {},
     "output_type": "execute_result"
    }
   ],
   "source": [
    "\n",
    "record = SeqRecord(Seq(\"MKQHKAMIVALIVICITAVVAALVTRKDLCEVHIRTGQTEVAVF\",\n",
    "                       IUPAC.protein),\n",
    "                   id=\"YP_025292.1\", name=\"HokC\",\n",
    "                   description=\"toxic membrane protein, small\")"
   ]
  },
  {
   "cell_type": "code",
   "execution_count": 891,
   "metadata": {
    "collapsed": true
   },
   "outputs": [],
   "source": [
    "my_rna.id='haha'"
   ]
  },
  {
   "cell_type": "code",
   "execution_count": 893,
   "metadata": {
    "collapsed": false
   },
   "outputs": [
    {
     "data": {
      "text/plain": [
       "'haha'"
      ]
     },
     "execution_count": 893,
     "metadata": {},
     "output_type": "execute_result"
    }
   ],
   "source": [
    "my_rna.id"
   ]
  },
  {
   "cell_type": "code",
   "execution_count": 895,
   "metadata": {
    "collapsed": false
   },
   "outputs": [],
   "source": [
    "my_rna.des='hehe'"
   ]
  },
  {
   "cell_type": "code",
   "execution_count": 896,
   "metadata": {
    "collapsed": false
   },
   "outputs": [
    {
     "data": {
      "text/plain": [
       "'hehe'"
      ]
     },
     "execution_count": 896,
     "metadata": {},
     "output_type": "execute_result"
    }
   ],
   "source": [
    "my_rna.des"
   ]
  },
  {
   "cell_type": "code",
   "execution_count": null,
   "metadata": {
    "collapsed": true
   },
   "outputs": [],
   "source": []
  },
  {
   "cell_type": "code",
   "execution_count": 710,
   "metadata": {
    "collapsed": false
   },
   "outputs": [],
   "source": [
    "# for record in SeqIO.parse(filename,\"fasta\"):\n",
    "#     print(record.description)"
   ]
  },
  {
   "cell_type": "code",
   "execution_count": null,
   "metadata": {
    "collapsed": true
   },
   "outputs": [],
   "source": []
  },
  {
   "cell_type": "code",
   "execution_count": 695,
   "metadata": {
    "collapsed": false
   },
   "outputs": [
    {
     "ename": "SyntaxError",
     "evalue": "invalid syntax (<ipython-input-695-c917f59625ee>, line 2)",
     "output_type": "error",
     "traceback": [
      "\u001b[1;36m  File \u001b[1;32m\"<ipython-input-695-c917f59625ee>\"\u001b[1;36m, line \u001b[1;32m2\u001b[0m\n\u001b[1;33m    s['loc']=\u001b[0m\n\u001b[1;37m             ^\u001b[0m\n\u001b[1;31mSyntaxError\u001b[0m\u001b[1;31m:\u001b[0m invalid syntax\n"
     ]
    }
   ],
   "source": [
    "def locationAndSequence(s):\n",
    "    s['loc']="
   ]
  },
  {
   "cell_type": "code",
   "execution_count": null,
   "metadata": {
    "collapsed": true
   },
   "outputs": [],
   "source": []
  },
  {
   "cell_type": "code",
   "execution_count": null,
   "metadata": {
    "collapsed": true
   },
   "outputs": [],
   "source": []
  },
  {
   "cell_type": "code",
   "execution_count": null,
   "metadata": {
    "collapsed": true
   },
   "outputs": [],
   "source": []
  },
  {
   "cell_type": "code",
   "execution_count": null,
   "metadata": {
    "collapsed": true
   },
   "outputs": [],
   "source": []
  },
  {
   "cell_type": "code",
   "execution_count": 696,
   "metadata": {
    "collapsed": false
   },
   "outputs": [],
   "source": [
    "# for i in chunks:\n",
    "#     print(i)"
   ]
  },
  {
   "cell_type": "code",
   "execution_count": 697,
   "metadata": {
    "collapsed": false
   },
   "outputs": [],
   "source": [
    "pipe = subprocess.Popen(cmd, shell=True, stdout=subprocess.PIPE, stderr=subprocess.PIPE)"
   ]
  },
  {
   "cell_type": "code",
   "execution_count": 698,
   "metadata": {
    "collapsed": false
   },
   "outputs": [
    {
     "data": {
      "text/plain": [
       "('', '/bin/sh: 1: Syntax error: \"(\" unexpected\\n')"
      ]
     },
     "execution_count": 698,
     "metadata": {},
     "output_type": "execute_result"
    }
   ],
   "source": [
    "pipe.communicate()"
   ]
  },
  {
   "cell_type": "code",
   "execution_count": 699,
   "metadata": {
    "collapsed": false
   },
   "outputs": [],
   "source": [
    "#process = subprocess.Popen(['ls','-l'], stdout=subprocess.PIPE)\n",
    "#print(process.stdout.read())"
   ]
  },
  {
   "cell_type": "code",
   "execution_count": null,
   "metadata": {
    "collapsed": true
   },
   "outputs": [],
   "source": []
  },
  {
   "cell_type": "code",
   "execution_count": null,
   "metadata": {
    "collapsed": true
   },
   "outputs": [],
   "source": []
  },
  {
   "cell_type": "code",
   "execution_count": 700,
   "metadata": {
    "collapsed": false
   },
   "outputs": [
    {
     "ename": "TypeError",
     "evalue": "unsupported operand type(s) for +: 'int' and 'str'",
     "output_type": "error",
     "traceback": [
      "\u001b[1;31m---------------------------------------------------------------------------\u001b[0m",
      "\u001b[1;31mTypeError\u001b[0m                                 Traceback (most recent call last)",
      "\u001b[1;32m<ipython-input-700-decd5419919d>\u001b[0m in \u001b[0;36m<module>\u001b[1;34m()\u001b[0m\n\u001b[1;32m----> 1\u001b[1;33m \u001b[0mget_ipython\u001b[0m\u001b[1;33m(\u001b[0m\u001b[1;33m)\u001b[0m\u001b[1;33m.\u001b[0m\u001b[0mrun_cell_magic\u001b[0m\u001b[1;33m(\u001b[0m\u001b[1;34mu'time'\u001b[0m\u001b[1;33m,\u001b[0m \u001b[1;34mu''\u001b[0m\u001b[1;33m,\u001b[0m \u001b[1;34mu'import os\\n#hmmscan --tblout amocab_hmmscan_mros.tab  amoCAB 2517287028.genes.faa > /dev/null\\n#os.system(\"makeblastdb -in \"+input_ref_0+\" -dbtype nucl -title \"+title_db+\" -out \"+outfile_db+\" -parse_seqids\")\\nfnames=\"\"\\nflabels=\"\"\\nfor (l,f) in files:\\n    fnames+=f.name+\" \"\\n    flabels+=l+\" \"\\n#print flabels\\n    #print(l)\\n    #print(f.name)\\n    #parallel -j $1 blastall \"-p blastn -d nt/nt -i \"{}\" -o \"{.}\".xml -e 1e-10 -m 7 -K 100 -b 200\" ::: *.fa\\n    #print(\\'Exists after close:\\', os.path.exists(f.name))\\ncmd=\"parallel -j 8 hmmscan \"+\"--cpu 1\"+\" --tblout {#}.tab \" + \"../amoCAB {} ::: \"+fnames+\" > /dev/null\"\\n\\n#command=\"parallel -j 8 hmmscan \"+\"--cpu 1\"+\" --tblout {}.tab \" + \"../amoCAB {} ::: \"+fnames\\nprint(cmd)'\u001b[0m\u001b[1;33m)\u001b[0m\u001b[1;33m\u001b[0m\u001b[0m\n\u001b[0m",
      "\u001b[1;32m/usr/local/lib/python2.7/dist-packages/IPython/core/interactiveshell.pyc\u001b[0m in \u001b[0;36mrun_cell_magic\u001b[1;34m(self, magic_name, line, cell)\u001b[0m\n\u001b[0;32m   2291\u001b[0m             \u001b[0mmagic_arg_s\u001b[0m \u001b[1;33m=\u001b[0m \u001b[0mself\u001b[0m\u001b[1;33m.\u001b[0m\u001b[0mvar_expand\u001b[0m\u001b[1;33m(\u001b[0m\u001b[0mline\u001b[0m\u001b[1;33m,\u001b[0m \u001b[0mstack_depth\u001b[0m\u001b[1;33m)\u001b[0m\u001b[1;33m\u001b[0m\u001b[0m\n\u001b[0;32m   2292\u001b[0m             \u001b[1;32mwith\u001b[0m \u001b[0mself\u001b[0m\u001b[1;33m.\u001b[0m\u001b[0mbuiltin_trap\u001b[0m\u001b[1;33m:\u001b[0m\u001b[1;33m\u001b[0m\u001b[0m\n\u001b[1;32m-> 2293\u001b[1;33m                 \u001b[0mresult\u001b[0m \u001b[1;33m=\u001b[0m \u001b[0mfn\u001b[0m\u001b[1;33m(\u001b[0m\u001b[0mmagic_arg_s\u001b[0m\u001b[1;33m,\u001b[0m \u001b[0mcell\u001b[0m\u001b[1;33m)\u001b[0m\u001b[1;33m\u001b[0m\u001b[0m\n\u001b[0m\u001b[0;32m   2294\u001b[0m             \u001b[1;32mreturn\u001b[0m \u001b[0mresult\u001b[0m\u001b[1;33m\u001b[0m\u001b[0m\n\u001b[0;32m   2295\u001b[0m \u001b[1;33m\u001b[0m\u001b[0m\n",
      "\u001b[1;32m<decorator-gen-60>\u001b[0m in \u001b[0;36mtime\u001b[1;34m(self, line, cell, local_ns)\u001b[0m\n",
      "\u001b[1;32m/usr/local/lib/python2.7/dist-packages/IPython/core/magic.pyc\u001b[0m in \u001b[0;36m<lambda>\u001b[1;34m(f, *a, **k)\u001b[0m\n\u001b[0;32m    191\u001b[0m     \u001b[1;31m# but it's overkill for just that one bit of state.\u001b[0m\u001b[1;33m\u001b[0m\u001b[1;33m\u001b[0m\u001b[0m\n\u001b[0;32m    192\u001b[0m     \u001b[1;32mdef\u001b[0m \u001b[0mmagic_deco\u001b[0m\u001b[1;33m(\u001b[0m\u001b[0marg\u001b[0m\u001b[1;33m)\u001b[0m\u001b[1;33m:\u001b[0m\u001b[1;33m\u001b[0m\u001b[0m\n\u001b[1;32m--> 193\u001b[1;33m         \u001b[0mcall\u001b[0m \u001b[1;33m=\u001b[0m \u001b[1;32mlambda\u001b[0m \u001b[0mf\u001b[0m\u001b[1;33m,\u001b[0m \u001b[1;33m*\u001b[0m\u001b[0ma\u001b[0m\u001b[1;33m,\u001b[0m \u001b[1;33m**\u001b[0m\u001b[0mk\u001b[0m\u001b[1;33m:\u001b[0m \u001b[0mf\u001b[0m\u001b[1;33m(\u001b[0m\u001b[1;33m*\u001b[0m\u001b[0ma\u001b[0m\u001b[1;33m,\u001b[0m \u001b[1;33m**\u001b[0m\u001b[0mk\u001b[0m\u001b[1;33m)\u001b[0m\u001b[1;33m\u001b[0m\u001b[0m\n\u001b[0m\u001b[0;32m    194\u001b[0m \u001b[1;33m\u001b[0m\u001b[0m\n\u001b[0;32m    195\u001b[0m         \u001b[1;32mif\u001b[0m \u001b[0mcallable\u001b[0m\u001b[1;33m(\u001b[0m\u001b[0marg\u001b[0m\u001b[1;33m)\u001b[0m\u001b[1;33m:\u001b[0m\u001b[1;33m\u001b[0m\u001b[0m\n",
      "\u001b[1;32m/usr/local/lib/python2.7/dist-packages/IPython/core/magics/execution.pyc\u001b[0m in \u001b[0;36mtime\u001b[1;34m(self, line, cell, local_ns)\u001b[0m\n\u001b[0;32m   1165\u001b[0m         \u001b[1;32melse\u001b[0m\u001b[1;33m:\u001b[0m\u001b[1;33m\u001b[0m\u001b[0m\n\u001b[0;32m   1166\u001b[0m             \u001b[0mst\u001b[0m \u001b[1;33m=\u001b[0m \u001b[0mclock2\u001b[0m\u001b[1;33m(\u001b[0m\u001b[1;33m)\u001b[0m\u001b[1;33m\u001b[0m\u001b[0m\n\u001b[1;32m-> 1167\u001b[1;33m             \u001b[1;32mexec\u001b[0m\u001b[1;33m(\u001b[0m\u001b[0mcode\u001b[0m\u001b[1;33m,\u001b[0m \u001b[0mglob\u001b[0m\u001b[1;33m,\u001b[0m \u001b[0mlocal_ns\u001b[0m\u001b[1;33m)\u001b[0m\u001b[1;33m\u001b[0m\u001b[0m\n\u001b[0m\u001b[0;32m   1168\u001b[0m             \u001b[0mend\u001b[0m \u001b[1;33m=\u001b[0m \u001b[0mclock2\u001b[0m\u001b[1;33m(\u001b[0m\u001b[1;33m)\u001b[0m\u001b[1;33m\u001b[0m\u001b[0m\n\u001b[0;32m   1169\u001b[0m             \u001b[0mout\u001b[0m \u001b[1;33m=\u001b[0m \u001b[0mNone\u001b[0m\u001b[1;33m\u001b[0m\u001b[0m\n",
      "\u001b[1;32m<timed exec>\u001b[0m in \u001b[0;36m<module>\u001b[1;34m()\u001b[0m\n",
      "\u001b[1;31mTypeError\u001b[0m: unsupported operand type(s) for +: 'int' and 'str'"
     ]
    }
   ],
   "source": [
    "%%time\n",
    "import os\n",
    "#hmmscan --tblout amocab_hmmscan_mros.tab  amoCAB 2517287028.genes.faa > /dev/null\n",
    "#os.system(\"makeblastdb -in \"+input_ref_0+\" -dbtype nucl -title \"+title_db+\" -out \"+outfile_db+\" -parse_seqids\")\n",
    "fnames=\"\"\n",
    "flabels=\"\"\n",
    "for (l,f) in files:\n",
    "    fnames+=f.name+\" \"\n",
    "    flabels+=l+\" \"\n",
    "#print flabels\n",
    "    #print(l)\n",
    "    #print(f.name)\n",
    "    #parallel -j $1 blastall \"-p blastn -d nt/nt -i \"{}\" -o \"{.}\".xml -e 1e-10 -m 7 -K 100 -b 200\" ::: *.fa\n",
    "    #print('Exists after close:', os.path.exists(f.name))\n",
    "cmd=\"parallel -j 8 hmmscan \"+\"--cpu 1\"+\" --tblout {#}.tab \" + \"../amoCAB {} ::: \"+fnames+\" > /dev/null\"\n",
    "\n",
    "#command=\"parallel -j 8 hmmscan \"+\"--cpu 1\"+\" --tblout {}.tab \" + \"../amoCAB {} ::: \"+fnames\n",
    "print(cmd)"
   ]
  },
  {
   "cell_type": "code",
   "execution_count": null,
   "metadata": {
    "collapsed": true
   },
   "outputs": [],
   "source": []
  },
  {
   "cell_type": "code",
   "execution_count": 701,
   "metadata": {
    "collapsed": false
   },
   "outputs": [
    {
     "data": {
      "text/plain": [
       "2"
      ]
     },
     "execution_count": 701,
     "metadata": {},
     "output_type": "execute_result"
    }
   ],
   "source": [
    "c"
   ]
  },
  {
   "cell_type": "code",
   "execution_count": 702,
   "metadata": {
    "collapsed": false
   },
   "outputs": [
    {
     "name": "stdout",
     "output_type": "stream",
     "text": [
      "parallel -j 8 hmmscan --cpu 1 --tblout {#}.tab ../amoCAB {} ::: /tmp/tmpSqwnnp  > /dev/null\n"
     ]
    }
   ],
   "source": [
    "cmd=\"parallel -j 8 hmmscan \"+\"--cpu 1\"+\" --tblout {#}.tab \" + \"../amoCAB {} ::: \"+fnames+\" > /dev/null\"\n",
    "#flabels\n",
    "print(cmd)"
   ]
  },
  {
   "cell_type": "code",
   "execution_count": null,
   "metadata": {
    "collapsed": false
   },
   "outputs": [],
   "source": []
  },
  {
   "cell_type": "code",
   "execution_count": 703,
   "metadata": {
    "collapsed": false
   },
   "outputs": [
    {
     "data": {
      "text/plain": [
       "'../2517287028.genes.faa'"
      ]
     },
     "execution_count": 703,
     "metadata": {},
     "output_type": "execute_result"
    }
   ],
   "source": [
    "filename"
   ]
  },
  {
   "cell_type": "code",
   "execution_count": 704,
   "metadata": {
    "collapsed": false
   },
   "outputs": [
    {
     "ename": "SyntaxError",
     "evalue": "invalid syntax (<ipython-input-704-02dd9a23c7c6>, line 1)",
     "output_type": "error",
     "traceback": [
      "\u001b[1;36m  File \u001b[1;32m\"<ipython-input-704-02dd9a23c7c6>\"\u001b[1;36m, line \u001b[1;32m1\u001b[0m\n\u001b[1;33m    tmp(/tmprOkRVb.close())\u001b[0m\n\u001b[1;37m        ^\u001b[0m\n\u001b[1;31mSyntaxError\u001b[0m\u001b[1;31m:\u001b[0m invalid syntax\n"
     ]
    }
   ],
   "source": [
    "/tmp/tmprOkRVb.close()"
   ]
  },
  {
   "cell_type": "code",
   "execution_count": 705,
   "metadata": {
    "collapsed": false
   },
   "outputs": [
    {
     "ename": "AttributeError",
     "evalue": "'str' object has no attribute 'name'",
     "output_type": "error",
     "traceback": [
      "\u001b[1;31m---------------------------------------------------------------------------\u001b[0m",
      "\u001b[1;31mAttributeError\u001b[0m                            Traceback (most recent call last)",
      "\u001b[1;32m<ipython-input-705-b5159f940945>\u001b[0m in \u001b[0;36m<module>\u001b[1;34m()\u001b[0m\n\u001b[1;32m----> 1\u001b[1;33m \u001b[0mfilename\u001b[0m\u001b[1;33m.\u001b[0m\u001b[0mname\u001b[0m\u001b[1;33m\u001b[0m\u001b[0m\n\u001b[0m",
      "\u001b[1;31mAttributeError\u001b[0m: 'str' object has no attribute 'name'"
     ]
    }
   ],
   "source": [
    "filename.name"
   ]
  },
  {
   "cell_type": "code",
   "execution_count": 706,
   "metadata": {
    "collapsed": false
   },
   "outputs": [
    {
     "ename": "AttributeError",
     "evalue": "'str' object has no attribute 'seek'",
     "output_type": "error",
     "traceback": [
      "\u001b[1;31m---------------------------------------------------------------------------\u001b[0m",
      "\u001b[1;31mAttributeError\u001b[0m                            Traceback (most recent call last)",
      "\u001b[1;32m<ipython-input-706-78e952b4a357>\u001b[0m in \u001b[0;36m<module>\u001b[1;34m()\u001b[0m\n\u001b[1;32m----> 1\u001b[1;33m \u001b[0mtxt\u001b[0m\u001b[1;33m=\u001b[0m\u001b[0mfilename\u001b[0m\u001b[1;33m.\u001b[0m\u001b[0mseek\u001b[0m\u001b[1;33m(\u001b[0m\u001b[1;36m0\u001b[0m\u001b[1;33m)\u001b[0m\u001b[1;33m\u001b[0m\u001b[0m\n\u001b[0m\u001b[0;32m      2\u001b[0m \u001b[0mtxt\u001b[0m\u001b[1;33m=\u001b[0m\u001b[0mfilename\u001b[0m\u001b[1;33m.\u001b[0m\u001b[0mread\u001b[0m\u001b[1;33m(\u001b[0m\u001b[1;33m)\u001b[0m\u001b[1;33m\u001b[0m\u001b[0m\n\u001b[0;32m      3\u001b[0m \u001b[1;31m#txt\u001b[0m\u001b[1;33m\u001b[0m\u001b[1;33m\u001b[0m\u001b[0m\n",
      "\u001b[1;31mAttributeError\u001b[0m: 'str' object has no attribute 'seek'"
     ]
    }
   ],
   "source": [
    "txt=filename.seek(0)\n",
    "txt=filename.read()\n",
    "#txt"
   ]
  },
  {
   "cell_type": "code",
   "execution_count": 707,
   "metadata": {
    "collapsed": false
   },
   "outputs": [
    {
     "data": {
      "text/plain": [
       "'../2517287028.genes.faa'"
      ]
     },
     "execution_count": 707,
     "metadata": {},
     "output_type": "execute_result"
    }
   ],
   "source": [
    "filename"
   ]
  },
  {
   "cell_type": "code",
   "execution_count": 708,
   "metadata": {
    "collapsed": false
   },
   "outputs": [
    {
     "ename": "NameError",
     "evalue": "name 'txt2' is not defined",
     "output_type": "error",
     "traceback": [
      "\u001b[1;31m---------------------------------------------------------------------------\u001b[0m",
      "\u001b[1;31mNameError\u001b[0m                                 Traceback (most recent call last)",
      "\u001b[1;32m<ipython-input-708-802c5d423ef4>\u001b[0m in \u001b[0;36m<module>\u001b[1;34m()\u001b[0m\n\u001b[1;32m----> 1\u001b[1;33m \u001b[0mtxt2\u001b[0m\u001b[1;33m\u001b[0m\u001b[0m\n\u001b[0m",
      "\u001b[1;31mNameError\u001b[0m: name 'txt2' is not defined"
     ]
    }
   ],
   "source": [
    "txt2"
   ]
  },
  {
   "cell_type": "code",
   "execution_count": 709,
   "metadata": {
    "collapsed": true
   },
   "outputs": [],
   "source": [
    "#Coool"
   ]
  },
  {
   "cell_type": "code",
   "execution_count": 26,
   "metadata": {
    "collapsed": true
   },
   "outputs": [],
   "source": [
    "txt2=filename.read()"
   ]
  },
  {
   "cell_type": "markdown",
   "metadata": {},
   "source": [
    "## In-memory files\n",
    "[https://stackoverflow.com/questions/23028071/open-a-file-in-memory]"
   ]
  },
  {
   "cell_type": "code",
   "execution_count": 11,
   "metadata": {
    "collapsed": false
   },
   "outputs": [
    {
     "name": "stdout",
     "output_type": "stream",
     "text": [
      "First line.\n",
      "Second line.\n",
      "\n"
     ]
    }
   ],
   "source": [
    "#import io##for python3\n",
    "import StringIO\n",
    "\n",
    "output = StringIO.StringIO()\n",
    "output.write('First line.\\n')\n",
    "print >>output, 'Second line.'\n",
    "\n",
    "# Retrieve file contents -- this will be\n",
    "# 'First line.\\nSecond line.\\n'\n",
    "contents = output.getvalue()\n",
    "print(contents)\n",
    "# Close object and discard memory buffer --\n",
    "# .getvalue() will now raise an exception.\n",
    "output.close()\n"
   ]
  },
  {
   "cell_type": "markdown",
   "metadata": {},
   "source": [
    "## Redoing generator with an in-memory implementation"
   ]
  },
  {
   "cell_type": "code",
   "execution_count": 15,
   "metadata": {
    "collapsed": true
   },
   "outputs": [],
   "source": [
    "import StringIO"
   ]
  },
  {
   "cell_type": "code",
   "execution_count": 21,
   "metadata": {
    "collapsed": false
   },
   "outputs": [
    {
     "name": "stdout",
     "output_type": "stream",
     "text": [
      "Wrote 3891 records to <StringIO.StringIO instance at 0x7f5bc2c582d8>\n",
      "CPU times: user 58.6 ms, sys: 128 µs, total: 58.7 ms\n",
      "Wall time: 58.7 ms\n"
     ]
    }
   ],
   "source": [
    "%%time\n",
    "from Bio import SeqIO\n",
    "import StringIO\n",
    "#output = io.StringIO()\n",
    "record_iter = SeqIO.parse(open(\"../2517287028.genes.faa\"),\"fasta\")\n",
    "for i, batch in enumerate(batch_iterator(record_iter, 50000)):\n",
    "    filename = \"group_%i.fastq\" % (i + 1)\n",
    "    filename = StringIO.StringIO()\n",
    "    \n",
    "    count = SeqIO.write(batch, filename, \"fasta\")\n",
    "    print(\"Wrote %i records to %s\" % (count, filename))"
   ]
  },
  {
   "cell_type": "code",
   "execution_count": 24,
   "metadata": {
    "collapsed": false
   },
   "outputs": [
    {
     "data": {
      "text/plain": [
       "['__doc__',\n",
       " '__init__',\n",
       " '__iter__',\n",
       " '__module__',\n",
       " 'buf',\n",
       " 'buflist',\n",
       " 'close',\n",
       " 'closed',\n",
       " 'flush',\n",
       " 'getvalue',\n",
       " 'isatty',\n",
       " 'len',\n",
       " 'next',\n",
       " 'pos',\n",
       " 'read',\n",
       " 'readline',\n",
       " 'readlines',\n",
       " 'seek',\n",
       " 'softspace',\n",
       " 'tell',\n",
       " 'truncate',\n",
       " 'write',\n",
       " 'writelines']"
      ]
     },
     "execution_count": 24,
     "metadata": {},
     "output_type": "execute_result"
    }
   ],
   "source": [
    "dir(filename)"
   ]
  },
  {
   "cell_type": "markdown",
   "metadata": {},
   "source": [
    "## memory map\n",
    "[https://docs.python.org/2/library/mmap.html]"
   ]
  },
  {
   "cell_type": "code",
   "execution_count": null,
   "metadata": {
    "collapsed": true
   },
   "outputs": [],
   "source": [
    "import mmap\n",
    "from Bio import SeqIO\n",
    "#import StringIO\n",
    "\n",
    "record_iter = SeqIO.parse(open(\"../76969.assembled.faa\"),\"fasta\")\n",
    "for i, batch in enumerate(batch_iterator(record_iter, 50000)):\n",
    "    filename = \"group_%i.fastq\" % (i + 1)\n",
    "    with open(filename, \"w\") as handle:\n",
    "        count = SeqIO.write(batch, handle, \"fasta\")\n",
    "    print(\"Wrote %i records to %s\" % (count, filename))"
   ]
  },
  {
   "cell_type": "code",
   "execution_count": null,
   "metadata": {
    "collapsed": true
   },
   "outputs": [],
   "source": []
  }
 ],
 "metadata": {
  "anaconda-cloud": {},
  "kernelspec": {
   "display_name": "Python 2",
   "language": "python",
   "name": "python2"
  },
  "language_info": {
   "codemirror_mode": {
    "name": "ipython",
    "version": 2
   },
   "file_extension": ".py",
   "mimetype": "text/x-python",
   "name": "python",
   "nbconvert_exporter": "python",
   "pygments_lexer": "ipython2",
   "version": "2.7.6"
  }
 },
 "nbformat": 4,
 "nbformat_minor": 0
}
