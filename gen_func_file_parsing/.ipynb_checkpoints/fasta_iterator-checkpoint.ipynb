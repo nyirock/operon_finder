{
 "cells": [
  {
   "cell_type": "code",
   "execution_count": 4,
   "metadata": {
    "collapsed": true
   },
   "outputs": [],
   "source": [
    "def batch_iterator(iterator, batch_size):\n",
    "    \"\"\"Returns lists of length batch_size.\n",
    "\n",
    "    This can be used on any iterator, for example to batch up\n",
    "    SeqRecord objects from Bio.SeqIO.parse(...), or to batch\n",
    "    Alignment objects from Bio.AlignIO.parse(...), or simply\n",
    "    lines from a file handle.\n",
    "\n",
    "    This is a generator function, and it returns lists of the\n",
    "    entries from the supplied iterator.  Each list will have\n",
    "    batch_size entries, although the final list may be shorter.\n",
    "    \"\"\"\n",
    "    entry = True  # Make sure we loop once\n",
    "    while entry:\n",
    "        batch = []\n",
    "        while len(batch) < batch_size:\n",
    "            try:\n",
    "                entry = iterator.next()\n",
    "            except StopIteration:\n",
    "                entry = None\n",
    "            if entry is None:\n",
    "                # End of file\n",
    "                break\n",
    "            batch.append(entry)\n",
    "        if batch:\n",
    "            yield batch\n",
    "\n"
   ]
  },
  {
   "cell_type": "code",
   "execution_count": 7,
   "metadata": {
    "collapsed": false
   },
   "outputs": [
    {
     "name": "stdout",
     "output_type": "stream",
     "text": [
      "Wrote 50000 records to group_1.fastq\n",
      "Wrote 50000 records to group_2.fastq\n",
      "Wrote 50000 records to group_3.fastq\n",
      "Wrote 50000 records to group_4.fastq\n",
      "Wrote 50000 records to group_5.fastq\n",
      "Wrote 50000 records to group_6.fastq\n",
      "Wrote 50000 records to group_7.fastq\n",
      "Wrote 50000 records to group_8.fastq\n",
      "Wrote 50000 records to group_9.fastq\n",
      "Wrote 50000 records to group_10.fastq\n",
      "Wrote 50000 records to group_11.fastq\n",
      "Wrote 50000 records to group_12.fastq\n",
      "Wrote 50000 records to group_13.fastq\n",
      "Wrote 50000 records to group_14.fastq\n",
      "Wrote 50000 records to group_15.fastq\n",
      "Wrote 50000 records to group_16.fastq\n",
      "Wrote 50000 records to group_17.fastq\n",
      "Wrote 50000 records to group_18.fastq\n",
      "Wrote 50000 records to group_19.fastq\n",
      "Wrote 50000 records to group_20.fastq\n",
      "Wrote 50000 records to group_21.fastq\n",
      "Wrote 50000 records to group_22.fastq\n",
      "Wrote 50000 records to group_23.fastq\n",
      "Wrote 50000 records to group_24.fastq\n",
      "Wrote 50000 records to group_25.fastq\n",
      "Wrote 50000 records to group_26.fastq\n",
      "Wrote 50000 records to group_27.fastq\n",
      "Wrote 50000 records to group_28.fastq\n",
      "Wrote 50000 records to group_29.fastq\n",
      "Wrote 50000 records to group_30.fastq\n",
      "Wrote 50000 records to group_31.fastq\n",
      "Wrote 50000 records to group_32.fastq\n",
      "Wrote 50000 records to group_33.fastq\n",
      "Wrote 50000 records to group_34.fastq\n",
      "Wrote 50000 records to group_35.fastq\n",
      "Wrote 50000 records to group_36.fastq\n",
      "Wrote 50000 records to group_37.fastq\n",
      "Wrote 50000 records to group_38.fastq\n",
      "Wrote 50000 records to group_39.fastq\n",
      "Wrote 50000 records to group_40.fastq\n",
      "Wrote 50000 records to group_41.fastq\n",
      "Wrote 50000 records to group_42.fastq\n",
      "Wrote 50000 records to group_43.fastq\n",
      "Wrote 50000 records to group_44.fastq\n",
      "Wrote 50000 records to group_45.fastq\n",
      "Wrote 50000 records to group_46.fastq\n",
      "Wrote 50000 records to group_47.fastq\n",
      "Wrote 50000 records to group_48.fastq\n",
      "Wrote 50000 records to group_49.fastq\n",
      "Wrote 50000 records to group_50.fastq\n",
      "Wrote 50000 records to group_51.fastq\n",
      "Wrote 50000 records to group_52.fastq\n",
      "Wrote 50000 records to group_53.fastq\n",
      "Wrote 50000 records to group_54.fastq\n",
      "Wrote 50000 records to group_55.fastq\n",
      "Wrote 50000 records to group_56.fastq\n",
      "Wrote 50000 records to group_57.fastq\n",
      "Wrote 50000 records to group_58.fastq\n",
      "Wrote 50000 records to group_59.fastq\n",
      "Wrote 50000 records to group_60.fastq\n",
      "Wrote 50000 records to group_61.fastq\n",
      "Wrote 50000 records to group_62.fastq\n",
      "Wrote 50000 records to group_63.fastq\n",
      "Wrote 50000 records to group_64.fastq\n",
      "Wrote 50000 records to group_65.fastq\n",
      "Wrote 50000 records to group_66.fastq\n",
      "Wrote 50000 records to group_67.fastq\n",
      "Wrote 50000 records to group_68.fastq\n",
      "Wrote 50000 records to group_69.fastq\n",
      "Wrote 50000 records to group_70.fastq\n",
      "Wrote 50000 records to group_71.fastq\n",
      "Wrote 8275 records to group_72.fastq\n",
      "CPU times: user 1min 3s, sys: 1.11 s, total: 1min 4s\n",
      "Wall time: 1min 7s\n"
     ]
    }
   ],
   "source": [
    "%%time\n",
    "from Bio import SeqIO\n",
    "\n",
    "record_iter = SeqIO.parse(open(\"../76969.assembled.faa\"),\"fasta\")\n",
    "for i, batch in enumerate(batch_iterator(record_iter, 50000)):\n",
    "    filename = \"group_%i.fasta\" % (i + 1)\n",
    "    with open(filename, \"w\") as handle:\n",
    "        count = SeqIO.write(batch, handle, \"fasta\")\n",
    "    print(\"Wrote %i records to %s\" % (count, filename))\n",
    "\n"
   ]
  },
  {
   "cell_type": "code",
   "execution_count": null,
   "metadata": {
    "collapsed": true
   },
   "outputs": [],
   "source": []
  },
  {
   "cell_type": "markdown",
   "metadata": {},
   "source": [
    "## In-memory files\n",
    "[https://stackoverflow.com/questions/23028071/open-a-file-in-memory]"
   ]
  },
  {
   "cell_type": "code",
   "execution_count": 11,
   "metadata": {
    "collapsed": false
   },
   "outputs": [
    {
     "name": "stdout",
     "output_type": "stream",
     "text": [
      "First line.\n",
      "Second line.\n",
      "\n"
     ]
    }
   ],
   "source": [
    "#import io##for python3\n",
    "import StringIO\n",
    "\n",
    "output = StringIO.StringIO()\n",
    "output.write('First line.\\n')\n",
    "print >>output, 'Second line.'\n",
    "\n",
    "# Retrieve file contents -- this will be\n",
    "# 'First line.\\nSecond line.\\n'\n",
    "contents = output.getvalue()\n",
    "print(contents)\n",
    "# Close object and discard memory buffer --\n",
    "# .getvalue() will now raise an exception.\n",
    "output.close()\n"
   ]
  },
  {
   "cell_type": "markdown",
   "metadata": {},
   "source": [
    "## Redoing generator with an in-memory implementation"
   ]
  },
  {
   "cell_type": "code",
   "execution_count": 15,
   "metadata": {
    "collapsed": true
   },
   "outputs": [],
   "source": [
    "import StringIO"
   ]
  },
  {
   "cell_type": "code",
   "execution_count": 16,
   "metadata": {
    "collapsed": false
   },
   "outputs": [
    {
     "ename": "TypeError",
     "evalue": "coercing to Unicode: need string or buffer, instance found",
     "output_type": "error",
     "traceback": [
      "\u001b[1;31m---------------------------------------------------------------------------\u001b[0m",
      "\u001b[1;31mTypeError\u001b[0m                                 Traceback (most recent call last)",
      "\u001b[1;32m<ipython-input-16-5567e78994d1>\u001b[0m in \u001b[0;36m<module>\u001b[1;34m()\u001b[0m\n\u001b[1;32m----> 1\u001b[1;33m \u001b[0mget_ipython\u001b[0m\u001b[1;33m(\u001b[0m\u001b[1;33m)\u001b[0m\u001b[1;33m.\u001b[0m\u001b[0mrun_cell_magic\u001b[0m\u001b[1;33m(\u001b[0m\u001b[1;34mu'time'\u001b[0m\u001b[1;33m,\u001b[0m \u001b[1;34mu''\u001b[0m\u001b[1;33m,\u001b[0m \u001b[1;34mu'from Bio import SeqIO\\nimport StringIO\\n#output = io.StringIO()\\nrecord_iter = SeqIO.parse(open(\"../76969.assembled.faa\"),\"fasta\")\\nfor i, batch in enumerate(batch_iterator(record_iter, 50000)):\\n    filename = \"group_%i.fastq\" % (i + 1)\\n    filename = StringIO.StringIO()\\n    with open(filename, \"w\") as handle:\\n        count = SeqIO.write(batch, handle, \"fasta\")\\n    print(\"Wrote %i records to %s\" % (count, filename))'\u001b[0m\u001b[1;33m)\u001b[0m\u001b[1;33m\u001b[0m\u001b[0m\n\u001b[0m",
      "\u001b[1;32m/usr/local/lib/python2.7/dist-packages/IPython/core/interactiveshell.pyc\u001b[0m in \u001b[0;36mrun_cell_magic\u001b[1;34m(self, magic_name, line, cell)\u001b[0m\n\u001b[0;32m   2291\u001b[0m             \u001b[0mmagic_arg_s\u001b[0m \u001b[1;33m=\u001b[0m \u001b[0mself\u001b[0m\u001b[1;33m.\u001b[0m\u001b[0mvar_expand\u001b[0m\u001b[1;33m(\u001b[0m\u001b[0mline\u001b[0m\u001b[1;33m,\u001b[0m \u001b[0mstack_depth\u001b[0m\u001b[1;33m)\u001b[0m\u001b[1;33m\u001b[0m\u001b[0m\n\u001b[0;32m   2292\u001b[0m             \u001b[1;32mwith\u001b[0m \u001b[0mself\u001b[0m\u001b[1;33m.\u001b[0m\u001b[0mbuiltin_trap\u001b[0m\u001b[1;33m:\u001b[0m\u001b[1;33m\u001b[0m\u001b[0m\n\u001b[1;32m-> 2293\u001b[1;33m                 \u001b[0mresult\u001b[0m \u001b[1;33m=\u001b[0m \u001b[0mfn\u001b[0m\u001b[1;33m(\u001b[0m\u001b[0mmagic_arg_s\u001b[0m\u001b[1;33m,\u001b[0m \u001b[0mcell\u001b[0m\u001b[1;33m)\u001b[0m\u001b[1;33m\u001b[0m\u001b[0m\n\u001b[0m\u001b[0;32m   2294\u001b[0m             \u001b[1;32mreturn\u001b[0m \u001b[0mresult\u001b[0m\u001b[1;33m\u001b[0m\u001b[0m\n\u001b[0;32m   2295\u001b[0m \u001b[1;33m\u001b[0m\u001b[0m\n",
      "\u001b[1;32m<decorator-gen-60>\u001b[0m in \u001b[0;36mtime\u001b[1;34m(self, line, cell, local_ns)\u001b[0m\n",
      "\u001b[1;32m/usr/local/lib/python2.7/dist-packages/IPython/core/magic.pyc\u001b[0m in \u001b[0;36m<lambda>\u001b[1;34m(f, *a, **k)\u001b[0m\n\u001b[0;32m    191\u001b[0m     \u001b[1;31m# but it's overkill for just that one bit of state.\u001b[0m\u001b[1;33m\u001b[0m\u001b[1;33m\u001b[0m\u001b[0m\n\u001b[0;32m    192\u001b[0m     \u001b[1;32mdef\u001b[0m \u001b[0mmagic_deco\u001b[0m\u001b[1;33m(\u001b[0m\u001b[0marg\u001b[0m\u001b[1;33m)\u001b[0m\u001b[1;33m:\u001b[0m\u001b[1;33m\u001b[0m\u001b[0m\n\u001b[1;32m--> 193\u001b[1;33m         \u001b[0mcall\u001b[0m \u001b[1;33m=\u001b[0m \u001b[1;32mlambda\u001b[0m \u001b[0mf\u001b[0m\u001b[1;33m,\u001b[0m \u001b[1;33m*\u001b[0m\u001b[0ma\u001b[0m\u001b[1;33m,\u001b[0m \u001b[1;33m**\u001b[0m\u001b[0mk\u001b[0m\u001b[1;33m:\u001b[0m \u001b[0mf\u001b[0m\u001b[1;33m(\u001b[0m\u001b[1;33m*\u001b[0m\u001b[0ma\u001b[0m\u001b[1;33m,\u001b[0m \u001b[1;33m**\u001b[0m\u001b[0mk\u001b[0m\u001b[1;33m)\u001b[0m\u001b[1;33m\u001b[0m\u001b[0m\n\u001b[0m\u001b[0;32m    194\u001b[0m \u001b[1;33m\u001b[0m\u001b[0m\n\u001b[0;32m    195\u001b[0m         \u001b[1;32mif\u001b[0m \u001b[0mcallable\u001b[0m\u001b[1;33m(\u001b[0m\u001b[0marg\u001b[0m\u001b[1;33m)\u001b[0m\u001b[1;33m:\u001b[0m\u001b[1;33m\u001b[0m\u001b[0m\n",
      "\u001b[1;32m/usr/local/lib/python2.7/dist-packages/IPython/core/magics/execution.pyc\u001b[0m in \u001b[0;36mtime\u001b[1;34m(self, line, cell, local_ns)\u001b[0m\n\u001b[0;32m   1165\u001b[0m         \u001b[1;32melse\u001b[0m\u001b[1;33m:\u001b[0m\u001b[1;33m\u001b[0m\u001b[0m\n\u001b[0;32m   1166\u001b[0m             \u001b[0mst\u001b[0m \u001b[1;33m=\u001b[0m \u001b[0mclock2\u001b[0m\u001b[1;33m(\u001b[0m\u001b[1;33m)\u001b[0m\u001b[1;33m\u001b[0m\u001b[0m\n\u001b[1;32m-> 1167\u001b[1;33m             \u001b[1;32mexec\u001b[0m\u001b[1;33m(\u001b[0m\u001b[0mcode\u001b[0m\u001b[1;33m,\u001b[0m \u001b[0mglob\u001b[0m\u001b[1;33m,\u001b[0m \u001b[0mlocal_ns\u001b[0m\u001b[1;33m)\u001b[0m\u001b[1;33m\u001b[0m\u001b[0m\n\u001b[0m\u001b[0;32m   1168\u001b[0m             \u001b[0mend\u001b[0m \u001b[1;33m=\u001b[0m \u001b[0mclock2\u001b[0m\u001b[1;33m(\u001b[0m\u001b[1;33m)\u001b[0m\u001b[1;33m\u001b[0m\u001b[0m\n\u001b[0;32m   1169\u001b[0m             \u001b[0mout\u001b[0m \u001b[1;33m=\u001b[0m \u001b[0mNone\u001b[0m\u001b[1;33m\u001b[0m\u001b[0m\n",
      "\u001b[1;32m<timed exec>\u001b[0m in \u001b[0;36m<module>\u001b[1;34m()\u001b[0m\n",
      "\u001b[1;31mTypeError\u001b[0m: coercing to Unicode: need string or buffer, instance found"
     ]
    }
   ],
   "source": [
    "%%time\n",
    "from Bio import SeqIO\n",
    "import StringIO\n",
    "#output = io.StringIO()\n",
    "record_iter = SeqIO.parse(open(\"../76969.assembled.faa\"),\"fasta\")\n",
    "for i, batch in enumerate(batch_iterator(record_iter, 50000)):\n",
    "    filename = \"group_%i.fastq\" % (i + 1)\n",
    "    filename = StringIO.StringIO()\n",
    "    with open(filename, \"w\") as handle:\n",
    "        count = SeqIO.write(batch, handle, \"fasta\")\n",
    "    print(\"Wrote %i records to %s\" % (count, filename))"
   ]
  },
  {
   "cell_type": "code",
   "execution_count": null,
   "metadata": {
    "collapsed": true
   },
   "outputs": [],
   "source": []
  },
  {
   "cell_type": "markdown",
   "metadata": {},
   "source": [
    "## memory map\n",
    "[https://docs.python.org/2/library/mmap.html]"
   ]
  },
  {
   "cell_type": "code",
   "execution_count": null,
   "metadata": {
    "collapsed": true
   },
   "outputs": [],
   "source": [
    "import mmap\n",
    "from Bio import SeqIO\n",
    "#import StringIO\n",
    "\n",
    "record_iter = SeqIO.parse(open(\"../76969.assembled.faa\"),\"fasta\")\n",
    "for i, batch in enumerate(batch_iterator(record_iter, 50000)):\n",
    "    filename = \"group_%i.fastq\" % (i + 1)\n",
    "    with open(filename, \"w\") as handle:\n",
    "        count = SeqIO.write(batch, handle, \"fasta\")\n",
    "    print(\"Wrote %i records to %s\" % (count, filename))"
   ]
  },
  {
   "cell_type": "code",
   "execution_count": null,
   "metadata": {
    "collapsed": true
   },
   "outputs": [],
   "source": []
  }
 ],
 "metadata": {
  "kernelspec": {
   "display_name": "Python 2",
   "language": "python",
   "name": "python2"
  },
  "language_info": {
   "codemirror_mode": {
    "name": "ipython",
    "version": 2
   },
   "file_extension": ".py",
   "mimetype": "text/x-python",
   "name": "python",
   "nbconvert_exporter": "python",
   "pygments_lexer": "ipython2",
   "version": "2.7.6"
  }
 },
 "nbformat": 4,
 "nbformat_minor": 0
}
