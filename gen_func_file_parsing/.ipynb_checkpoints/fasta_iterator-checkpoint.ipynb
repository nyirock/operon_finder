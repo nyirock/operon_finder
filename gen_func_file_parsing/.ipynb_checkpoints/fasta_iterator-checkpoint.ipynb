{
 "cells": [
  {
   "cell_type": "code",
   "execution_count": 1,
   "metadata": {
    "collapsed": true
   },
   "outputs": [],
   "source": [
    "def batch_iterator(iterator, batch_size):\n",
    "    \"\"\"Returns lists of length batch_size.\n",
    "\n",
    "    This can be used on any iterator, for example to batch up\n",
    "    SeqRecord objects from Bio.SeqIO.parse(...), or to batch\n",
    "    Alignment objects from Bio.AlignIO.parse(...), or simply\n",
    "    lines from a file handle.\n",
    "\n",
    "    This is a generator function, and it returns lists of the\n",
    "    entries from the supplied iterator.  Each list will have\n",
    "    batch_size entries, although the final list may be shorter.\n",
    "    \"\"\"\n",
    "    entry = True  # Make sure we loop once\n",
    "    while entry:\n",
    "        batch = []\n",
    "        while len(batch) < batch_size:\n",
    "            try:\n",
    "                entry = iterator.next()\n",
    "            except StopIteration:\n",
    "                entry = None\n",
    "            if entry is None:\n",
    "                # End of file\n",
    "                break\n",
    "            batch.append(entry)\n",
    "        if batch:\n",
    "            yield batch\n",
    "\n"
   ]
  },
  {
   "cell_type": "code",
   "execution_count": 9,
   "metadata": {
    "collapsed": false
   },
   "outputs": [
    {
     "name": "stdout",
     "output_type": "stream",
     "text": [
      "Wrote 500 records to group_1.fasta\n",
      "Wrote 500 records to group_2.fasta\n",
      "Wrote 500 records to group_3.fasta\n",
      "Wrote 500 records to group_4.fasta\n",
      "Wrote 500 records to group_5.fasta\n",
      "Wrote 500 records to group_6.fasta\n",
      "Wrote 500 records to group_7.fasta\n",
      "Wrote 391 records to group_8.fasta\n",
      "CPU times: user 93 ms, sys: 7.56 ms, total: 101 ms\n",
      "Wall time: 109 ms\n"
     ]
    }
   ],
   "source": [
    "%%time\n",
    "from Bio import SeqIO\n",
    "\n",
    "record_iter = SeqIO.parse(open(\"../2517287028.genes.faa\"),\"fasta\")#m.rosea\n",
    "for i, batch in enumerate(batch_iterator(record_iter, 1000)):\n",
    "    filename = \"group_%i.fasta\" % (i + 1)\n",
    "    with open(filename, \"w\") as handle:\n",
    "        count = SeqIO.write(batch, handle, \"fasta\")\n",
    "    print(\"Wrote %i records to %s\" % (count, filename))\n",
    "\n"
   ]
  },
  {
   "cell_type": "code",
   "execution_count": null,
   "metadata": {
    "collapsed": true
   },
   "outputs": [],
   "source": []
  },
  {
   "cell_type": "code",
   "execution_count": 321,
   "metadata": {
    "collapsed": false
   },
   "outputs": [
    {
     "data": {
      "text/plain": [
       "'/tmp/tmpSqwnnp'"
      ]
     },
     "execution_count": 321,
     "metadata": {},
     "output_type": "execute_result"
    }
   ],
   "source": [
    "files[0][1].name"
   ]
  },
  {
   "cell_type": "code",
   "execution_count": null,
   "metadata": {
    "collapsed": true
   },
   "outputs": [],
   "source": []
  },
  {
   "cell_type": "code",
   "execution_count": 326,
   "metadata": {
    "collapsed": false
   },
   "outputs": [
    {
     "name": "stdout",
     "output_type": "stream",
     "text": [
      "ID: 2517401456\n",
      "Name: 2517401456\n",
      "Description: 2517401456 A3OODRAFT_0323 methane monooxygenase/ammonia monooxygenase, subunit C [Methylocystis rosea SV97T]\n",
      "Number of features: 0\n",
      "Seq('MSVTTQSAAGAMDRAQPIVELKGMWIGLAVLNGFYLVVRIYEQIYGWRAGLDSF...SSC', SingleLetterAlphabet())\n",
      "CPU times: user 4.34 ms, sys: 21 µs, total: 4.36 ms\n",
      "Wall time: 4.31 ms\n"
     ]
    }
   ],
   "source": [
    "%%time\n",
    "\n",
    "\n",
    "with open('/tmp/tmpSqwnnp') as handle:\n",
    "    #m.rosea\n",
    "    record_dict = SeqIO.index(\"example.fasta\", \"fasta\")\n",
    "    print(record_dict[\"2517401456\"])\n",
    "\n",
    "\n",
    "\n",
    "    \n",
    "    #     filename = \"group_%i.fasta\" % (i + 1)\n",
    "#     with open(filename, \"w\") as handle:\n",
    "#         count = SeqIO.write(batch, handle, \"fasta\")\n",
    "#     print(\"Wrote %i records to %s\" % (count, filename))"
   ]
  },
  {
   "cell_type": "markdown",
   "metadata": {},
   "source": [
    "# Trying temporary files\n",
    "[https://docs.python.org/3/library/tempfile.html]"
   ]
  },
  {
   "cell_type": "code",
   "execution_count": 3,
   "metadata": {
    "collapsed": false
   },
   "outputs": [
    {
     "name": "stdout",
     "output_type": "stream",
     "text": [
      "Hello world!\n"
     ]
    }
   ],
   "source": [
    "import tempfile\n",
    "\n",
    "# create a temporary file and write some data to it\n",
    "fp = tempfile.TemporaryFile()\n",
    "fp.write(b'Hello world!')\n",
    "# read data from file\n",
    "fp.seek(0)\n",
    "\n",
    "txt=fp.read()\n",
    "print(txt)\n",
    "# close the file, it will be removed\n",
    "fp.close()\n",
    "#print(txt)\n",
    "# # create a temporary file using a context manager\n",
    "# with tempfile.TemporaryFile() as fp:\n",
    "#     fp.write(b'Hello world!')\n",
    "#     fp.seek(0)\n",
    "#     fp.read()\n",
    "\n",
    "# # file is now closed and removed\n",
    "\n",
    "# # create a temporary directory using the context manager\n",
    "# with tempfile.TemporaryDirectory() as tmpdirname:\n",
    "#     print('created temporary directory', tmpdirname)\n",
    "\n",
    "# directory and contents have been removed"
   ]
  },
  {
   "cell_type": "code",
   "execution_count": null,
   "metadata": {
    "collapsed": false
   },
   "outputs": [],
   "source": [
    "import tempfile\n",
    "from Bio import SeqIO\n",
    "\n",
    "record_iter = SeqIO.parse(open(\"../76969.assembled.faa\"),\"fasta\")\n",
    "for i, batch in enumerate(batch_iterator(record_iter, 30000)):\n",
    "    \n",
    "    filename = \"group_%i.fasta\" % (i + 1)\n",
    "    print(filename)\n",
    "    filename = tempfile.TemporaryFile()\n",
    "    filename.seek(0)\n",
    "    count = SeqIO.write(batch, filename, \"fasta\")\n",
    "#     with open(filename, \"w\") as handle:\n",
    "#         count = SeqIO.write(batch, handle, \"fasta\")\n",
    "    print(\"Wrote %i records to %s\" % (count, filename))"
   ]
  },
  {
   "cell_type": "markdown",
   "metadata": {},
   "source": [
    "## Named temporary files"
   ]
  },
  {
   "cell_type": "markdown",
   "metadata": {},
   "source": [
    "[https://docs.python.org/2/library/tempfile.html]"
   ]
  },
  {
   "cell_type": "code",
   "execution_count": 178,
   "metadata": {
    "collapsed": false
   },
   "outputs": [
    {
     "data": {
      "text/plain": [
       "'../76969.assembled.faa'"
      ]
     },
     "execution_count": 178,
     "metadata": {},
     "output_type": "execute_result"
    }
   ],
   "source": [
    "filename"
   ]
  },
  {
   "cell_type": "code",
   "execution_count": 180,
   "metadata": {
    "collapsed": false
   },
   "outputs": [
    {
     "data": {
      "text/plain": [
       "'76969.assembled.faa'"
      ]
     },
     "execution_count": 180,
     "metadata": {},
     "output_type": "execute_result"
    }
   ],
   "source": [
    "os.path.basename(filename)"
   ]
  },
  {
   "cell_type": "code",
   "execution_count": 303,
   "metadata": {
    "collapsed": false
   },
   "outputs": [
    {
     "data": {
      "text/plain": [
       "[(0, <closed file '<fdopen>', mode 'w+b' at 0x7fbba162bf60>),\n",
       " (1, <closed file '<fdopen>', mode 'w+b' at 0x7fbba162be40>),\n",
       " (2, <closed file '<fdopen>', mode 'w+b' at 0x7fbba0baee40>),\n",
       " (3, <closed file '<fdopen>', mode 'w+b' at 0x7fbba0baef60>)]"
      ]
     },
     "execution_count": 303,
     "metadata": {},
     "output_type": "execute_result"
    }
   ],
   "source": [
    "files"
   ]
  },
  {
   "cell_type": "code",
   "execution_count": 2,
   "metadata": {
    "collapsed": false
   },
   "outputs": [],
   "source": [
    "import tempfile\n",
    "from Bio import SeqIO\n",
    "\n",
    "files=list()\n",
    "sizes={}\n",
    "input_fasta=\"../76969.assembled.faa\"\n",
    "#input_fasta=\"../2517287028.genes.faa\"#m.rosea\n",
    "record_iter = SeqIO.parse(open(input_fasta),\"fasta\")\n",
    "for i, batch in enumerate(batch_iterator(record_iter, 30000)):\n",
    "    \n",
    "    label = i\n",
    "    #f = tempfile.NamedTemporaryFile(delete=False)#exists on closing\n",
    "    f = tempfile.NamedTemporaryFile()#deleted after f.close()\n",
    "    files.append((label,f))\n",
    "    #f.seek(0)\n",
    "    count = SeqIO.write(batch, f, \"fasta\")\n",
    "    f.flush() #this solves the EOF problem\n",
    "#     with open(filename, \"w\") as handle:\n",
    "#         count = SeqIO.write(batch, handle, \"fasta\")\n",
    "    #print(\"Wrote %i records to %s\" % (count, f.name))\n",
    "    sizes[f.name]=count"
   ]
  },
  {
   "cell_type": "code",
   "execution_count": 925,
   "metadata": {
    "collapsed": false
   },
   "outputs": [],
   "source": [
    "for (l,f) in files:\n",
    "    #print(l)\n",
    "    #print(f.name)\n",
    "    f.close()"
   ]
  },
  {
   "cell_type": "code",
   "execution_count": 288,
   "metadata": {
    "collapsed": false
   },
   "outputs": [
    {
     "data": {
      "text/plain": [
       "{'/tmp/tmpIrHmsO': 1000,\n",
       " '/tmp/tmpNS0g6z': 1000,\n",
       " '/tmp/tmpnelKVM': 891,\n",
       " '/tmp/tmpwib0Ns': 1000}"
      ]
     },
     "execution_count": 288,
     "metadata": {},
     "output_type": "execute_result"
    }
   ],
   "source": [
    "sizes"
   ]
  },
  {
   "cell_type": "code",
   "execution_count": null,
   "metadata": {
    "collapsed": true
   },
   "outputs": [],
   "source": []
  },
  {
   "cell_type": "code",
   "execution_count": 30,
   "metadata": {
    "collapsed": false
   },
   "outputs": [
    {
     "ename": "NameError",
     "evalue": "name 'fna' is not defined",
     "output_type": "error",
     "traceback": [
      "\u001b[1;31m---------------------------------------------------------------------------\u001b[0m",
      "\u001b[1;31mNameError\u001b[0m                                 Traceback (most recent call last)",
      "\u001b[1;32m<ipython-input-30-2abc3b46e72d>\u001b[0m in \u001b[0;36m<module>\u001b[1;34m()\u001b[0m\n\u001b[1;32m----> 1\u001b[1;33m \u001b[0mfna\u001b[0m\u001b[1;33m\u001b[0m\u001b[0m\n\u001b[0m",
      "\u001b[1;31mNameError\u001b[0m: name 'fna' is not defined"
     ]
    }
   ],
   "source": [
    "fna"
   ]
  },
  {
   "cell_type": "markdown",
   "metadata": {},
   "source": [
    "## hmmering tempfiles"
   ]
  },
  {
   "cell_type": "code",
   "execution_count": 3,
   "metadata": {
    "collapsed": false
   },
   "outputs": [
    {
     "ename": "NameError",
     "evalue": "name 'files' is not defined",
     "output_type": "error",
     "traceback": [
      "\u001b[1;31m---------------------------------------------------------------------------\u001b[0m",
      "\u001b[1;31mNameError\u001b[0m                                 Traceback (most recent call last)",
      "\u001b[1;32m<ipython-input-3-4ea7a5097726>\u001b[0m in \u001b[0;36m<module>\u001b[1;34m()\u001b[0m\n\u001b[1;32m----> 1\u001b[1;33m \u001b[0mfiles\u001b[0m\u001b[1;33m\u001b[0m\u001b[0m\n\u001b[0m",
      "\u001b[1;31mNameError\u001b[0m: name 'files' is not defined"
     ]
    }
   ],
   "source": [
    "files"
   ]
  },
  {
   "cell_type": "code",
   "execution_count": null,
   "metadata": {
    "collapsed": true
   },
   "outputs": [],
   "source": []
  },
  {
   "cell_type": "code",
   "execution_count": null,
   "metadata": {
    "collapsed": true
   },
   "outputs": [],
   "source": []
  },
  {
   "cell_type": "code",
   "execution_count": null,
   "metadata": {
    "collapsed": true
   },
   "outputs": [],
   "source": []
  },
  {
   "cell_type": "code",
   "execution_count": null,
   "metadata": {
    "collapsed": true
   },
   "outputs": [],
   "source": []
  },
  {
   "cell_type": "code",
   "execution_count": 63,
   "metadata": {
    "collapsed": false
   },
   "outputs": [
    {
     "name": "stdout",
     "output_type": "stream",
     "text": [
      "hmmscan --tblout group_1.fasta.tab ../amoCAB /tmp/tmp4WuJSN\n",
      "hmmscan --tblout group_2.fasta.tab ../amoCAB /tmp/tmpCBMFY1\n",
      "hmmscan --tblout group_3.fasta.tab ../amoCAB /tmp/tmp9ABMDY\n",
      "hmmscan --tblout group_4.fasta.tab ../amoCAB /tmp/tmp4g8aDl\n",
      "group_1.fasta\n",
      "/tmp/tmp4WuJSN\n",
      "('Exists after close:', False)\n",
      "group_2.fasta\n",
      "/tmp/tmpCBMFY1\n",
      "('Exists after close:', False)\n",
      "group_3.fasta\n",
      "/tmp/tmp9ABMDY\n",
      "('Exists after close:', False)\n",
      "group_4.fasta\n",
      "/tmp/tmp4g8aDl\n",
      "('Exists after close:', False)\n",
      "CPU times: user 4.65 ms, sys: 4.08 ms, total: 8.74 ms\n",
      "Wall time: 24.7 ms\n"
     ]
    }
   ],
   "source": [
    "%%time\n",
    "import os\n",
    "#hmmscan --tblout amocab_hmmscan_mros.tab  amoCAB 2517287028.genes.faa > /dev/null\n",
    "#os.system(\"makeblastdb -in \"+input_ref_0+\" -dbtype nucl -title \"+title_db+\" -out \"+outfile_db+\" -parse_seqids\")\n",
    "for (l,f) in files:\n",
    "    #print(l)\n",
    "    #print(f.name)\n",
    "    \n",
    "    #print('Exists after close:', os.path.exists(f.name))\n",
    "    command=\"hmmscan --tblout \"+l+\".tab \" + \"../amoCAB \" + f.name+\"\"\n",
    "    print(command)\n",
    "    os.system(command)\n",
    "    \n",
    "\n",
    "for (l,f) in files:\n",
    "    print(l)\n",
    "    print(f.name)\n",
    "    f.close()\n",
    "    print('Exists after close:', os.path.exists(f.name))"
   ]
  },
  {
   "cell_type": "code",
   "execution_count": null,
   "metadata": {
    "collapsed": true
   },
   "outputs": [],
   "source": []
  },
  {
   "cell_type": "code",
   "execution_count": 59,
   "metadata": {
    "collapsed": false
   },
   "outputs": [
    {
     "name": "stdout",
     "output_type": "stream",
     "text": [
      "hmmscan --cpu 8 --noali --tblout group_1.fasta.tab ../amoCAB /tmp/tmpM_ZFS9\n",
      "hmmscan --cpu 8 --noali --tblout group_2.fasta.tab ../amoCAB /tmp/tmp6sxP79\n",
      "hmmscan --cpu 8 --noali --tblout group_3.fasta.tab ../amoCAB /tmp/tmpCgusGR\n",
      "hmmscan --cpu 8 --noali --tblout group_4.fasta.tab ../amoCAB /tmp/tmpVnIz1M\n",
      "group_1.fasta\n",
      "/tmp/tmpM_ZFS9\n",
      "('Exists after close:', False)\n",
      "group_2.fasta\n",
      "/tmp/tmp6sxP79\n",
      "('Exists after close:', False)\n",
      "group_3.fasta\n",
      "/tmp/tmpCgusGR\n",
      "('Exists after close:', False)\n",
      "group_4.fasta\n",
      "/tmp/tmpVnIz1M\n",
      "('Exists after close:', False)\n",
      "CPU times: user 646 µs, sys: 8.05 ms, total: 8.7 ms\n",
      "Wall time: 12.5 s\n"
     ]
    }
   ],
   "source": [
    "%%time\n",
    "import os\n",
    "#hmmscan --tblout amocab_hmmscan_mros.tab  amoCAB 2517287028.genes.faa > /dev/null\n",
    "#os.system(\"makeblastdb -in \"+input_ref_0+\" -dbtype nucl -title \"+title_db+\" -out \"+outfile_db+\" -parse_seqids\")\n",
    "for (l,f) in files:\n",
    "    #print(l)\n",
    "    #print(f.name)\n",
    "    \n",
    "    #print('Exists after close:', os.path.exists(f.name))\n",
    "    #\n",
    "    command=\"hmmscan \"+\"--cpu 8 --noali\"+\" --tblout \"+l+\".tab \" + \"../amoCAB \" + f.name\n",
    "    print(command)\n",
    "    os.system(command)\n",
    "\n",
    "for (l,f) in files:\n",
    "    print(l)\n",
    "    print(f.name)\n",
    "    f.close()\n",
    "    #print('Exists after close:', os.path.exists(f.name))"
   ]
  },
  {
   "cell_type": "code",
   "execution_count": null,
   "metadata": {
    "collapsed": true
   },
   "outputs": [],
   "source": []
  },
  {
   "cell_type": "markdown",
   "metadata": {},
   "source": [
    "## Subprocess version"
   ]
  },
  {
   "cell_type": "code",
   "execution_count": 45,
   "metadata": {
    "collapsed": false
   },
   "outputs": [
    {
     "name": "stdout",
     "output_type": "stream",
     "text": [
      "hmmscan --cpu 8 --tblout group_1.fasta.tab ../amoCAB /tmp/tmpWxz75u\n",
      "hmmscan --cpu 8 --tblout group_2.fasta.tab ../amoCAB /tmp/tmp_a05vQ\n",
      "hmmscan --cpu 8 --tblout group_3.fasta.tab ../amoCAB /tmp/tmp0tsj4Z\n",
      "hmmscan --cpu 8 --tblout group_4.fasta.tab ../amoCAB /tmp/tmpZO5t_L\n",
      "group_1.fasta\n",
      "/tmp/tmpWxz75u\n",
      "('Exists after close:', False)\n",
      "group_2.fasta\n",
      "/tmp/tmp_a05vQ\n",
      "('Exists after close:', False)\n",
      "group_3.fasta\n",
      "/tmp/tmp0tsj4Z\n",
      "('Exists after close:', False)\n",
      "group_4.fasta\n",
      "/tmp/tmpZO5t_L\n",
      "('Exists after close:', False)\n",
      "CPU times: user 6.91 ms, sys: 4.17 ms, total: 11.1 ms\n",
      "Wall time: 18.5 ms\n"
     ]
    }
   ],
   "source": [
    "%%time\n",
    "import os\n",
    "import subprocess\n",
    "#hmmscan --tblout amocab_hmmscan_mros.tab  amoCAB 2517287028.genes.faa > /dev/null\n",
    "#os.system(\"makeblastdb -in \"+input_ref_0+\" -dbtype nucl -title \"+title_db+\" -out \"+outfile_db+\" -parse_seqids\")\n",
    "for (l,f) in files:\n",
    "    #print(l)\n",
    "    #print(f.name)\n",
    "    \n",
    "    #print('Exists after close:', os.path.exists(f.name))\n",
    "    command=\"hmmscan \"+\"--cpu 8\"+\" --tblout \"+l+\".tab \" + \"../amoCAB \" + f.name\n",
    "    print(command)\n",
    "    subprocess.Popen(command, shell=True)\n",
    "\n",
    "for (l,f) in files:\n",
    "    print(l)\n",
    "    print(f.name)\n",
    "    f.close()\n",
    "    print('Exists after close:', os.path.exists(f.name))"
   ]
  },
  {
   "cell_type": "code",
   "execution_count": null,
   "metadata": {
    "collapsed": true
   },
   "outputs": [],
   "source": []
  },
  {
   "cell_type": "code",
   "execution_count": 757,
   "metadata": {
    "collapsed": false
   },
   "outputs": [
    {
     "data": {
      "text/plain": [
       "'../2517287028.genes.faa'"
      ]
     },
     "execution_count": 757,
     "metadata": {},
     "output_type": "execute_result"
    }
   ],
   "source": [
    "filename"
   ]
  },
  {
   "cell_type": "code",
   "execution_count": null,
   "metadata": {
    "collapsed": true
   },
   "outputs": [],
   "source": []
  },
  {
   "cell_type": "markdown",
   "metadata": {},
   "source": [
    "## Subprocess verision of entire file, with no splitting"
   ]
  },
  {
   "cell_type": "code",
   "execution_count": 786,
   "metadata": {
    "collapsed": false
   },
   "outputs": [
    {
     "name": "stdout",
     "output_type": "stream",
     "text": [
      "hmmscan --cpu 8 -o /dev/null --tblout entire_mros.tab ../amoCAB ../2517287028.genes.faa\n",
      "CPU times: user 2.53 ms, sys: 429 µs, total: 2.96 ms\n",
      "Wall time: 1.48 s\n"
     ]
    }
   ],
   "source": [
    "%%time\n",
    "from Bio import SeqIO\n",
    "import os\n",
    "import subprocess\n",
    "import shlex\n",
    "\n",
    "#filename=\"../76969.assembled.faa\"\n",
    "filename=\"../2517287028.genes.faa\"#m.rosea\n",
    "#fout=entire_mg1_2.tab\n",
    "fout=\"entire_mros.tab\"\n",
    "#fh = SeqIO.parse(open(filename),\"fasta\")#m.rosea\n",
    "# with open(filename, \"r\") as handle:\n",
    "#     count = SeqIO.write(batch, handle, \"fasta\")\n",
    "# print(\"Wrote %i records to %s\" % (count, filename))\n",
    "\n",
    "\n",
    "\n",
    "\n",
    "#hmmscan --tblout amocab_hmmscan_mros.tab  amoCAB 2517287028.genes.faa > /dev/null\n",
    "#os.system(\"makeblastdb -in \"+input_ref_0+\" -dbtype nucl -title \"+title_db+\" -out \"+outfile_db+\" -parse_seqids\")\n",
    "\n",
    "    #print('Exists after close:', os.path.exists(f.name))\n",
    "# command=\"hmmscan \"+\"--cpu 8\"+\" -o /dev/null --tblout \"+\"entire_mg1\"+\".tab \" + \"../amoCAB \" + filename\n",
    "# print(command)\n",
    "# subprocess.Popen(command, shell=True)\n",
    "\n",
    "cmd=\"hmmscan --cpu 8 -o /dev/null --tblout \"+fout+\" ../amoCAB \"+filename\n",
    "print(cmd)\n",
    "p=subprocess.Popen(cmd, shell=True, stdout=subprocess.PIPE)\n",
    "# print(cmd)\n",
    "# args = shlex.split(cmd)\n",
    "#os.system(cmd)\n",
    "#os.system(cmd)\n",
    "#print(p.stdout.read())\n",
    "#output=p.stdout.read()\n",
    "#os.system(cmd)\n",
    "#command=\"parallel -j 8 hmmscan \"+\"--cpu 1\"+\" --tblout {}.tab \" + \"../amoCAB {} ::: \"+fnames\n",
    "\n",
    "#p=subprocess.Popen(args,stdout=subprocess.PIPE)\n",
    "#print(p.stdout.read())\n",
    "output=p.stdout.read()"
   ]
  },
  {
   "cell_type": "code",
   "execution_count": 787,
   "metadata": {
    "collapsed": false
   },
   "outputs": [],
   "source": [
    "with open(fout, \"r\") as handle:\n",
    "    mros_entire=handle.read()\n"
   ]
  },
  {
   "cell_type": "code",
   "execution_count": 788,
   "metadata": {
    "collapsed": false,
    "scrolled": true
   },
   "outputs": [
    {
     "name": "stdout",
     "output_type": "stream",
     "text": [
      "#                                                               --- full sequence ---- --- best 1 domain ---- --- domain number estimation ----\n",
      "# target name        accession  query name           accession    E-value  score  bias   E-value  score  bias   exp reg clu  ov env dom rep inc description of target\n",
      "#------------------- ---------- -------------------- ---------- --------- ------ ----- --------- ------ -----   --- --- --- --- --- --- --- --- ---------------------\n",
      "AmoC                 PF04896.11 2517401456           -           5.6e-120  386.8  15.8  7.2e-120  386.4  15.8   1.0   1   0   0   1   1   1   1 Ammonia monooxygenase/methane monooxygenase, subunit C\n",
      "AmoC                 PF04896.11 2517402628           -           5.8e-122  393.3  14.7    7e-122  393.0  14.7   1.0   1   0   0   1   1   1   1 Ammonia monooxygenase/methane monooxygenase, subunit C\n",
      "AMO                  PF02461.15 2517402629           -           4.8e-124  400.4  24.0  5.4e-124  400.3  24.0   1.0   1   0   0   1   1   1   1 Ammonia monooxygenase\n",
      "Monooxygenase_B      PF04744.11 2517402630           -           3.3e-170  553.6   0.0  3.7e-170  553.4   0.0   1.0   1   0   0   1   1   1   1 Monooxygenase subunit B protein\n",
      "AmoC                 PF04896.11 2517403201           -           5.8e-122  393.3  14.7    7e-122  393.0  14.7   1.0   1   0   0   1   1   1   1 Ammonia monooxygenase/methane monooxygenase, subunit C\n",
      "Monooxygenase_B      PF04744.11 2517403996           -           3.3e-170  553.6   0.0  3.7e-170  553.4   0.0   1.0   1   0   0   1   1   1   1 Monooxygenase subunit B protein\n",
      "AMO                  PF02461.15 2517403997           -           4.8e-124  400.4  24.0  5.4e-124  400.3  24.0   1.0   1   0   0   1   1   1   1 Ammonia monooxygenase\n",
      "AmoC                 PF04896.11 2517403998           -           5.8e-122  393.3  14.7    7e-122  393.0  14.7   1.0   1   0   0   1   1   1   1 Ammonia monooxygenase/methane monooxygenase, subunit C\n",
      "AmoC                 PF04896.11 2517404225           -           5.6e-111  357.3  11.5  6.6e-111  357.1  11.5   1.0   1   0   0   1   1   1   1 Ammonia monooxygenase/methane monooxygenase, subunit C\n",
      "AmoC                 PF04896.11 2517404670           -            1.7e-30   93.8   0.0   2.2e-30   93.3   0.0   1.1   1   0   0   1   1   1   1 Ammonia monooxygenase/methane monooxygenase, subunit C\n",
      "AmoC                 PF04896.11 2517404865           -            4.2e-93  298.8  17.7   5.1e-93  298.5  17.7   1.0   1   0   0   1   1   1   1 Ammonia monooxygenase/methane monooxygenase, subunit C\n",
      "Monooxygenase_B      PF04744.11 2517404866           -           7.5e-155  503.0   0.0  8.4e-155  502.9   0.0   1.0   1   0   0   1   1   1   1 Monooxygenase subunit B protein\n",
      "AMO                  PF02461.15 2517404867           -           6.5e-114  367.3  13.8  7.7e-114  367.0  13.8   1.0   1   0   0   1   1   1   1 Ammonia monooxygenase\n",
      "#\n",
      "# Program:         hmmscan\n",
      "# Version:         3.1b2 (February 2015)\n",
      "# Pipeline mode:   SCAN\n",
      "# Query file:      ../2517287028.genes.faa\n",
      "# Target file:     ../amoCAB\n",
      "# Option settings: hmmscan -o /dev/null --tblout entire_mros.tab --cpu 8 ../amoCAB ../2517287028.genes.faa \n",
      "# Current dir:     /media/andriy/5E8D984477029FC2/scripts/operon_finder/gen_func_file_parsing\n",
      "# Date:            Thu Oct  5 20:18:14 2017\n",
      "# [ok]\n",
      "\n"
     ]
    }
   ],
   "source": [
    "mros_entire=mros_entire.split('\\n')\n",
    "for i in mros_entire:\n",
    "    print(i)"
   ]
  },
  {
   "cell_type": "code",
   "execution_count": 789,
   "metadata": {
    "collapsed": false
   },
   "outputs": [
    {
     "data": {
      "text/plain": [
       "['#',\n",
       " 'target',\n",
       " 'name',\n",
       " 'accession',\n",
       " 'query',\n",
       " 'name',\n",
       " 'accession',\n",
       " 'E-value',\n",
       " 'score',\n",
       " 'bias',\n",
       " 'E-value',\n",
       " 'score',\n",
       " 'bias',\n",
       " 'exp',\n",
       " 'reg',\n",
       " 'clu',\n",
       " 'ov',\n",
       " 'env',\n",
       " 'dom',\n",
       " 'rep',\n",
       " 'inc',\n",
       " 'description',\n",
       " 'of',\n",
       " 'target']"
      ]
     },
     "execution_count": 789,
     "metadata": {},
     "output_type": "execute_result"
    }
   ],
   "source": [
    "header=mros_entire[1:2]\n",
    "header[0].split()"
   ]
  },
  {
   "cell_type": "code",
   "execution_count": 790,
   "metadata": {
    "collapsed": false
   },
   "outputs": [
    {
     "data": {
      "text/plain": [
       "24"
      ]
     },
     "execution_count": 790,
     "metadata": {},
     "output_type": "execute_result"
    }
   ],
   "source": [
    "len(header[0].split())"
   ]
  },
  {
   "cell_type": "code",
   "execution_count": 791,
   "metadata": {
    "collapsed": false
   },
   "outputs": [
    {
     "data": {
      "text/plain": [
       "['# target name        accession  query name           accession    E-value  score  bias   E-value  score  bias   exp reg clu  ov env dom rep inc description of target']"
      ]
     },
     "execution_count": 791,
     "metadata": {},
     "output_type": "execute_result"
    }
   ],
   "source": [
    "header"
   ]
  },
  {
   "cell_type": "code",
   "execution_count": 792,
   "metadata": {
    "collapsed": false
   },
   "outputs": [
    {
     "data": {
      "text/plain": [
       "['AmoC                 PF04896.11 2517401456           -           5.6e-120  386.8  15.8  7.2e-120  386.4  15.8   1.0   1   0   0   1   1   1   1 Ammonia monooxygenase/methane monooxygenase, subunit C',\n",
       " 'AmoC                 PF04896.11 2517402628           -           5.8e-122  393.3  14.7    7e-122  393.0  14.7   1.0   1   0   0   1   1   1   1 Ammonia monooxygenase/methane monooxygenase, subunit C',\n",
       " 'AMO                  PF02461.15 2517402629           -           4.8e-124  400.4  24.0  5.4e-124  400.3  24.0   1.0   1   0   0   1   1   1   1 Ammonia monooxygenase',\n",
       " 'Monooxygenase_B      PF04744.11 2517402630           -           3.3e-170  553.6   0.0  3.7e-170  553.4   0.0   1.0   1   0   0   1   1   1   1 Monooxygenase subunit B protein',\n",
       " 'AmoC                 PF04896.11 2517403201           -           5.8e-122  393.3  14.7    7e-122  393.0  14.7   1.0   1   0   0   1   1   1   1 Ammonia monooxygenase/methane monooxygenase, subunit C',\n",
       " 'Monooxygenase_B      PF04744.11 2517403996           -           3.3e-170  553.6   0.0  3.7e-170  553.4   0.0   1.0   1   0   0   1   1   1   1 Monooxygenase subunit B protein',\n",
       " 'AMO                  PF02461.15 2517403997           -           4.8e-124  400.4  24.0  5.4e-124  400.3  24.0   1.0   1   0   0   1   1   1   1 Ammonia monooxygenase',\n",
       " 'AmoC                 PF04896.11 2517403998           -           5.8e-122  393.3  14.7    7e-122  393.0  14.7   1.0   1   0   0   1   1   1   1 Ammonia monooxygenase/methane monooxygenase, subunit C',\n",
       " 'AmoC                 PF04896.11 2517404225           -           5.6e-111  357.3  11.5  6.6e-111  357.1  11.5   1.0   1   0   0   1   1   1   1 Ammonia monooxygenase/methane monooxygenase, subunit C',\n",
       " 'AmoC                 PF04896.11 2517404670           -            1.7e-30   93.8   0.0   2.2e-30   93.3   0.0   1.1   1   0   0   1   1   1   1 Ammonia monooxygenase/methane monooxygenase, subunit C',\n",
       " 'AmoC                 PF04896.11 2517404865           -            4.2e-93  298.8  17.7   5.1e-93  298.5  17.7   1.0   1   0   0   1   1   1   1 Ammonia monooxygenase/methane monooxygenase, subunit C',\n",
       " 'Monooxygenase_B      PF04744.11 2517404866           -           7.5e-155  503.0   0.0  8.4e-155  502.9   0.0   1.0   1   0   0   1   1   1   1 Monooxygenase subunit B protein',\n",
       " 'AMO                  PF02461.15 2517404867           -           6.5e-114  367.3  13.8  7.7e-114  367.0  13.8   1.0   1   0   0   1   1   1   1 Ammonia monooxygenase']"
      ]
     },
     "execution_count": 792,
     "metadata": {},
     "output_type": "execute_result"
    }
   ],
   "source": [
    "mros_entire[3:-11]"
   ]
  },
  {
   "cell_type": "code",
   "execution_count": 793,
   "metadata": {
    "collapsed": false
   },
   "outputs": [
    {
     "data": {
      "text/plain": [
       "'AmoC'"
      ]
     },
     "execution_count": 793,
     "metadata": {},
     "output_type": "execute_result"
    }
   ],
   "source": [
    "mros_entire[4].split()[0]"
   ]
  },
  {
   "cell_type": "code",
   "execution_count": null,
   "metadata": {
    "collapsed": true
   },
   "outputs": [],
   "source": []
  },
  {
   "cell_type": "code",
   "execution_count": null,
   "metadata": {
    "collapsed": true
   },
   "outputs": [],
   "source": []
  },
  {
   "cell_type": "markdown",
   "metadata": {},
   "source": [
    "# Creating a dataframe"
   ]
  },
  {
   "cell_type": "code",
   "execution_count": 794,
   "metadata": {
    "collapsed": true
   },
   "outputs": [],
   "source": [
    "#d = df[[p, p.team, p.passing_att, p.passer_rating()] for p in game.players.passing()]"
   ]
  },
  {
   "cell_type": "code",
   "execution_count": 795,
   "metadata": {
    "collapsed": false
   },
   "outputs": [],
   "source": [
    "import pandas as pd"
   ]
  },
  {
   "cell_type": "code",
   "execution_count": 796,
   "metadata": {
    "collapsed": false
   },
   "outputs": [
    {
     "ename": "SyntaxError",
     "evalue": "invalid syntax (<ipython-input-796-c2fdd2690845>, line 1)",
     "output_type": "error",
     "traceback": [
      "\u001b[1;36m  File \u001b[1;32m\"<ipython-input-796-c2fdd2690845>\"\u001b[1;36m, line \u001b[1;32m1\u001b[0m\n\u001b[1;33m    [p[5] for p=line.split() in mros_entire[3:-11]]\u001b[0m\n\u001b[1;37m               ^\u001b[0m\n\u001b[1;31mSyntaxError\u001b[0m\u001b[1;31m:\u001b[0m invalid syntax\n"
     ]
    }
   ],
   "source": [
    "[p[5] for p=line.split() in mros_entire[3:-11]]"
   ]
  },
  {
   "cell_type": "code",
   "execution_count": 797,
   "metadata": {
    "collapsed": true
   },
   "outputs": [],
   "source": [
    "#[(x[1],x[2]) for x in (x.split(\";\") for x in a.split(\"\\n\")) if x[1] != 5]"
   ]
  },
  {
   "cell_type": "code",
   "execution_count": 798,
   "metadata": {
    "collapsed": false
   },
   "outputs": [
    {
     "ename": "IndexError",
     "evalue": "string index out of range",
     "output_type": "error",
     "traceback": [
      "\u001b[1;31m---------------------------------------------------------------------------\u001b[0m",
      "\u001b[1;31mIndexError\u001b[0m                                Traceback (most recent call last)",
      "\u001b[1;32m<ipython-input-798-7224c6358ba7>\u001b[0m in \u001b[0;36m<module>\u001b[1;34m()\u001b[0m\n\u001b[1;32m----> 1\u001b[1;33m \u001b[1;33m[\u001b[0m\u001b[1;33m[\u001b[0m\u001b[0mx\u001b[0m\u001b[1;33m[\u001b[0m\u001b[1;36m0\u001b[0m\u001b[1;33m]\u001b[0m\u001b[1;33m,\u001b[0m \u001b[0mx\u001b[0m\u001b[1;33m[\u001b[0m\u001b[1;36m1\u001b[0m\u001b[1;33m]\u001b[0m\u001b[1;33m]\u001b[0m \u001b[1;32mfor\u001b[0m \u001b[0mx\u001b[0m \u001b[1;32min\u001b[0m \u001b[0mmros_entire\u001b[0m\u001b[1;33m[\u001b[0m\u001b[1;36m3\u001b[0m\u001b[1;33m:\u001b[0m\u001b[1;33m-\u001b[0m\u001b[1;36m11\u001b[0m\u001b[1;33m]\u001b[0m \u001b[1;32mfor\u001b[0m \u001b[0mx\u001b[0m \u001b[1;32min\u001b[0m \u001b[1;33m(\u001b[0m\u001b[0mx\u001b[0m\u001b[1;33m.\u001b[0m\u001b[0msplit\u001b[0m\u001b[1;33m(\u001b[0m\u001b[1;33m)\u001b[0m\u001b[1;33m)\u001b[0m\u001b[1;33m]\u001b[0m\u001b[1;33m\u001b[0m\u001b[0m\n\u001b[0m",
      "\u001b[1;31mIndexError\u001b[0m: string index out of range"
     ]
    }
   ],
   "source": [
    "[[x[0], x[1]] for x in mros_entire[3:-11] for x in (x.split())]"
   ]
  },
  {
   "cell_type": "code",
   "execution_count": null,
   "metadata": {
    "collapsed": true
   },
   "outputs": [],
   "source": []
  },
  {
   "cell_type": "code",
   "execution_count": null,
   "metadata": {
    "collapsed": true
   },
   "outputs": [],
   "source": []
  },
  {
   "cell_type": "code",
   "execution_count": 799,
   "metadata": {
    "collapsed": false
   },
   "outputs": [
    {
     "data": {
      "text/plain": [
       "[('2', '4'), ('4', '5')]"
      ]
     },
     "execution_count": 799,
     "metadata": {},
     "output_type": "execute_result"
    }
   ],
   "source": [
    "a = \"1;2;4\\n3;4;5\"\n",
    "[(x[1],x[2]) for x in (x.split(\";\") for x in a.split(\"\\n\")) if x[1] != 5]"
   ]
  },
  {
   "cell_type": "code",
   "execution_count": 800,
   "metadata": {
    "collapsed": false
   },
   "outputs": [
    {
     "data": {
      "text/html": [
       "<div>\n",
       "<table border=\"1\" class=\"dataframe\">\n",
       "  <thead>\n",
       "    <tr style=\"text-align: right;\">\n",
       "      <th></th>\n",
       "      <th>0</th>\n",
       "      <th>1</th>\n",
       "      <th>2</th>\n",
       "      <th>3</th>\n",
       "      <th>4</th>\n",
       "      <th>5</th>\n",
       "      <th>6</th>\n",
       "      <th>7</th>\n",
       "      <th>8</th>\n",
       "      <th>9</th>\n",
       "      <th>...</th>\n",
       "      <th>13</th>\n",
       "      <th>14</th>\n",
       "      <th>15</th>\n",
       "      <th>16</th>\n",
       "      <th>17</th>\n",
       "      <th>18</th>\n",
       "      <th>19</th>\n",
       "      <th>20</th>\n",
       "      <th>21</th>\n",
       "      <th>22</th>\n",
       "    </tr>\n",
       "  </thead>\n",
       "  <tbody>\n",
       "    <tr>\n",
       "      <th>0</th>\n",
       "      <td>AmoC</td>\n",
       "      <td>PF04896.11</td>\n",
       "      <td>2517401456</td>\n",
       "      <td>-</td>\n",
       "      <td>5.6e-120</td>\n",
       "      <td>386.8</td>\n",
       "      <td>15.8</td>\n",
       "      <td>7.2e-120</td>\n",
       "      <td>386.4</td>\n",
       "      <td>15.8</td>\n",
       "      <td>...</td>\n",
       "      <td>0</td>\n",
       "      <td>1</td>\n",
       "      <td>1</td>\n",
       "      <td>1</td>\n",
       "      <td>1</td>\n",
       "      <td>Ammonia</td>\n",
       "      <td>monooxygenase/methane</td>\n",
       "      <td>monooxygenase,</td>\n",
       "      <td>subunit</td>\n",
       "      <td>C</td>\n",
       "    </tr>\n",
       "    <tr>\n",
       "      <th>1</th>\n",
       "      <td>AmoC</td>\n",
       "      <td>PF04896.11</td>\n",
       "      <td>2517402628</td>\n",
       "      <td>-</td>\n",
       "      <td>5.8e-122</td>\n",
       "      <td>393.3</td>\n",
       "      <td>14.7</td>\n",
       "      <td>7e-122</td>\n",
       "      <td>393.0</td>\n",
       "      <td>14.7</td>\n",
       "      <td>...</td>\n",
       "      <td>0</td>\n",
       "      <td>1</td>\n",
       "      <td>1</td>\n",
       "      <td>1</td>\n",
       "      <td>1</td>\n",
       "      <td>Ammonia</td>\n",
       "      <td>monooxygenase/methane</td>\n",
       "      <td>monooxygenase,</td>\n",
       "      <td>subunit</td>\n",
       "      <td>C</td>\n",
       "    </tr>\n",
       "    <tr>\n",
       "      <th>2</th>\n",
       "      <td>AMO</td>\n",
       "      <td>PF02461.15</td>\n",
       "      <td>2517402629</td>\n",
       "      <td>-</td>\n",
       "      <td>4.8e-124</td>\n",
       "      <td>400.4</td>\n",
       "      <td>24.0</td>\n",
       "      <td>5.4e-124</td>\n",
       "      <td>400.3</td>\n",
       "      <td>24.0</td>\n",
       "      <td>...</td>\n",
       "      <td>0</td>\n",
       "      <td>1</td>\n",
       "      <td>1</td>\n",
       "      <td>1</td>\n",
       "      <td>1</td>\n",
       "      <td>Ammonia</td>\n",
       "      <td>monooxygenase</td>\n",
       "      <td>None</td>\n",
       "      <td>None</td>\n",
       "      <td>None</td>\n",
       "    </tr>\n",
       "    <tr>\n",
       "      <th>3</th>\n",
       "      <td>Monooxygenase_B</td>\n",
       "      <td>PF04744.11</td>\n",
       "      <td>2517402630</td>\n",
       "      <td>-</td>\n",
       "      <td>3.3e-170</td>\n",
       "      <td>553.6</td>\n",
       "      <td>0.0</td>\n",
       "      <td>3.7e-170</td>\n",
       "      <td>553.4</td>\n",
       "      <td>0.0</td>\n",
       "      <td>...</td>\n",
       "      <td>0</td>\n",
       "      <td>1</td>\n",
       "      <td>1</td>\n",
       "      <td>1</td>\n",
       "      <td>1</td>\n",
       "      <td>Monooxygenase</td>\n",
       "      <td>subunit</td>\n",
       "      <td>B</td>\n",
       "      <td>protein</td>\n",
       "      <td>None</td>\n",
       "    </tr>\n",
       "    <tr>\n",
       "      <th>4</th>\n",
       "      <td>AmoC</td>\n",
       "      <td>PF04896.11</td>\n",
       "      <td>2517403201</td>\n",
       "      <td>-</td>\n",
       "      <td>5.8e-122</td>\n",
       "      <td>393.3</td>\n",
       "      <td>14.7</td>\n",
       "      <td>7e-122</td>\n",
       "      <td>393.0</td>\n",
       "      <td>14.7</td>\n",
       "      <td>...</td>\n",
       "      <td>0</td>\n",
       "      <td>1</td>\n",
       "      <td>1</td>\n",
       "      <td>1</td>\n",
       "      <td>1</td>\n",
       "      <td>Ammonia</td>\n",
       "      <td>monooxygenase/methane</td>\n",
       "      <td>monooxygenase,</td>\n",
       "      <td>subunit</td>\n",
       "      <td>C</td>\n",
       "    </tr>\n",
       "    <tr>\n",
       "      <th>5</th>\n",
       "      <td>Monooxygenase_B</td>\n",
       "      <td>PF04744.11</td>\n",
       "      <td>2517403996</td>\n",
       "      <td>-</td>\n",
       "      <td>3.3e-170</td>\n",
       "      <td>553.6</td>\n",
       "      <td>0.0</td>\n",
       "      <td>3.7e-170</td>\n",
       "      <td>553.4</td>\n",
       "      <td>0.0</td>\n",
       "      <td>...</td>\n",
       "      <td>0</td>\n",
       "      <td>1</td>\n",
       "      <td>1</td>\n",
       "      <td>1</td>\n",
       "      <td>1</td>\n",
       "      <td>Monooxygenase</td>\n",
       "      <td>subunit</td>\n",
       "      <td>B</td>\n",
       "      <td>protein</td>\n",
       "      <td>None</td>\n",
       "    </tr>\n",
       "    <tr>\n",
       "      <th>6</th>\n",
       "      <td>AMO</td>\n",
       "      <td>PF02461.15</td>\n",
       "      <td>2517403997</td>\n",
       "      <td>-</td>\n",
       "      <td>4.8e-124</td>\n",
       "      <td>400.4</td>\n",
       "      <td>24.0</td>\n",
       "      <td>5.4e-124</td>\n",
       "      <td>400.3</td>\n",
       "      <td>24.0</td>\n",
       "      <td>...</td>\n",
       "      <td>0</td>\n",
       "      <td>1</td>\n",
       "      <td>1</td>\n",
       "      <td>1</td>\n",
       "      <td>1</td>\n",
       "      <td>Ammonia</td>\n",
       "      <td>monooxygenase</td>\n",
       "      <td>None</td>\n",
       "      <td>None</td>\n",
       "      <td>None</td>\n",
       "    </tr>\n",
       "    <tr>\n",
       "      <th>7</th>\n",
       "      <td>AmoC</td>\n",
       "      <td>PF04896.11</td>\n",
       "      <td>2517403998</td>\n",
       "      <td>-</td>\n",
       "      <td>5.8e-122</td>\n",
       "      <td>393.3</td>\n",
       "      <td>14.7</td>\n",
       "      <td>7e-122</td>\n",
       "      <td>393.0</td>\n",
       "      <td>14.7</td>\n",
       "      <td>...</td>\n",
       "      <td>0</td>\n",
       "      <td>1</td>\n",
       "      <td>1</td>\n",
       "      <td>1</td>\n",
       "      <td>1</td>\n",
       "      <td>Ammonia</td>\n",
       "      <td>monooxygenase/methane</td>\n",
       "      <td>monooxygenase,</td>\n",
       "      <td>subunit</td>\n",
       "      <td>C</td>\n",
       "    </tr>\n",
       "    <tr>\n",
       "      <th>8</th>\n",
       "      <td>AmoC</td>\n",
       "      <td>PF04896.11</td>\n",
       "      <td>2517404225</td>\n",
       "      <td>-</td>\n",
       "      <td>5.6e-111</td>\n",
       "      <td>357.3</td>\n",
       "      <td>11.5</td>\n",
       "      <td>6.6e-111</td>\n",
       "      <td>357.1</td>\n",
       "      <td>11.5</td>\n",
       "      <td>...</td>\n",
       "      <td>0</td>\n",
       "      <td>1</td>\n",
       "      <td>1</td>\n",
       "      <td>1</td>\n",
       "      <td>1</td>\n",
       "      <td>Ammonia</td>\n",
       "      <td>monooxygenase/methane</td>\n",
       "      <td>monooxygenase,</td>\n",
       "      <td>subunit</td>\n",
       "      <td>C</td>\n",
       "    </tr>\n",
       "    <tr>\n",
       "      <th>9</th>\n",
       "      <td>AmoC</td>\n",
       "      <td>PF04896.11</td>\n",
       "      <td>2517404670</td>\n",
       "      <td>-</td>\n",
       "      <td>1.7e-30</td>\n",
       "      <td>93.8</td>\n",
       "      <td>0.0</td>\n",
       "      <td>2.2e-30</td>\n",
       "      <td>93.3</td>\n",
       "      <td>0.0</td>\n",
       "      <td>...</td>\n",
       "      <td>0</td>\n",
       "      <td>1</td>\n",
       "      <td>1</td>\n",
       "      <td>1</td>\n",
       "      <td>1</td>\n",
       "      <td>Ammonia</td>\n",
       "      <td>monooxygenase/methane</td>\n",
       "      <td>monooxygenase,</td>\n",
       "      <td>subunit</td>\n",
       "      <td>C</td>\n",
       "    </tr>\n",
       "    <tr>\n",
       "      <th>10</th>\n",
       "      <td>AmoC</td>\n",
       "      <td>PF04896.11</td>\n",
       "      <td>2517404865</td>\n",
       "      <td>-</td>\n",
       "      <td>4.2e-93</td>\n",
       "      <td>298.8</td>\n",
       "      <td>17.7</td>\n",
       "      <td>5.1e-93</td>\n",
       "      <td>298.5</td>\n",
       "      <td>17.7</td>\n",
       "      <td>...</td>\n",
       "      <td>0</td>\n",
       "      <td>1</td>\n",
       "      <td>1</td>\n",
       "      <td>1</td>\n",
       "      <td>1</td>\n",
       "      <td>Ammonia</td>\n",
       "      <td>monooxygenase/methane</td>\n",
       "      <td>monooxygenase,</td>\n",
       "      <td>subunit</td>\n",
       "      <td>C</td>\n",
       "    </tr>\n",
       "    <tr>\n",
       "      <th>11</th>\n",
       "      <td>Monooxygenase_B</td>\n",
       "      <td>PF04744.11</td>\n",
       "      <td>2517404866</td>\n",
       "      <td>-</td>\n",
       "      <td>7.5e-155</td>\n",
       "      <td>503.0</td>\n",
       "      <td>0.0</td>\n",
       "      <td>8.4e-155</td>\n",
       "      <td>502.9</td>\n",
       "      <td>0.0</td>\n",
       "      <td>...</td>\n",
       "      <td>0</td>\n",
       "      <td>1</td>\n",
       "      <td>1</td>\n",
       "      <td>1</td>\n",
       "      <td>1</td>\n",
       "      <td>Monooxygenase</td>\n",
       "      <td>subunit</td>\n",
       "      <td>B</td>\n",
       "      <td>protein</td>\n",
       "      <td>None</td>\n",
       "    </tr>\n",
       "    <tr>\n",
       "      <th>12</th>\n",
       "      <td>AMO</td>\n",
       "      <td>PF02461.15</td>\n",
       "      <td>2517404867</td>\n",
       "      <td>-</td>\n",
       "      <td>6.5e-114</td>\n",
       "      <td>367.3</td>\n",
       "      <td>13.8</td>\n",
       "      <td>7.7e-114</td>\n",
       "      <td>367.0</td>\n",
       "      <td>13.8</td>\n",
       "      <td>...</td>\n",
       "      <td>0</td>\n",
       "      <td>1</td>\n",
       "      <td>1</td>\n",
       "      <td>1</td>\n",
       "      <td>1</td>\n",
       "      <td>Ammonia</td>\n",
       "      <td>monooxygenase</td>\n",
       "      <td>None</td>\n",
       "      <td>None</td>\n",
       "      <td>None</td>\n",
       "    </tr>\n",
       "  </tbody>\n",
       "</table>\n",
       "<p>13 rows × 23 columns</p>\n",
       "</div>"
      ],
      "text/plain": [
       "                 0           1           2  3         4      5     6   \\\n",
       "0              AmoC  PF04896.11  2517401456  -  5.6e-120  386.8  15.8   \n",
       "1              AmoC  PF04896.11  2517402628  -  5.8e-122  393.3  14.7   \n",
       "2               AMO  PF02461.15  2517402629  -  4.8e-124  400.4  24.0   \n",
       "3   Monooxygenase_B  PF04744.11  2517402630  -  3.3e-170  553.6   0.0   \n",
       "4              AmoC  PF04896.11  2517403201  -  5.8e-122  393.3  14.7   \n",
       "5   Monooxygenase_B  PF04744.11  2517403996  -  3.3e-170  553.6   0.0   \n",
       "6               AMO  PF02461.15  2517403997  -  4.8e-124  400.4  24.0   \n",
       "7              AmoC  PF04896.11  2517403998  -  5.8e-122  393.3  14.7   \n",
       "8              AmoC  PF04896.11  2517404225  -  5.6e-111  357.3  11.5   \n",
       "9              AmoC  PF04896.11  2517404670  -   1.7e-30   93.8   0.0   \n",
       "10             AmoC  PF04896.11  2517404865  -   4.2e-93  298.8  17.7   \n",
       "11  Monooxygenase_B  PF04744.11  2517404866  -  7.5e-155  503.0   0.0   \n",
       "12              AMO  PF02461.15  2517404867  -  6.5e-114  367.3  13.8   \n",
       "\n",
       "          7      8     9   ...  13 14 15 16 17             18  \\\n",
       "0   7.2e-120  386.4  15.8  ...   0  1  1  1  1        Ammonia   \n",
       "1     7e-122  393.0  14.7  ...   0  1  1  1  1        Ammonia   \n",
       "2   5.4e-124  400.3  24.0  ...   0  1  1  1  1        Ammonia   \n",
       "3   3.7e-170  553.4   0.0  ...   0  1  1  1  1  Monooxygenase   \n",
       "4     7e-122  393.0  14.7  ...   0  1  1  1  1        Ammonia   \n",
       "5   3.7e-170  553.4   0.0  ...   0  1  1  1  1  Monooxygenase   \n",
       "6   5.4e-124  400.3  24.0  ...   0  1  1  1  1        Ammonia   \n",
       "7     7e-122  393.0  14.7  ...   0  1  1  1  1        Ammonia   \n",
       "8   6.6e-111  357.1  11.5  ...   0  1  1  1  1        Ammonia   \n",
       "9    2.2e-30   93.3   0.0  ...   0  1  1  1  1        Ammonia   \n",
       "10   5.1e-93  298.5  17.7  ...   0  1  1  1  1        Ammonia   \n",
       "11  8.4e-155  502.9   0.0  ...   0  1  1  1  1  Monooxygenase   \n",
       "12  7.7e-114  367.0  13.8  ...   0  1  1  1  1        Ammonia   \n",
       "\n",
       "                       19              20       21    22  \n",
       "0   monooxygenase/methane  monooxygenase,  subunit     C  \n",
       "1   monooxygenase/methane  monooxygenase,  subunit     C  \n",
       "2           monooxygenase            None     None  None  \n",
       "3                 subunit               B  protein  None  \n",
       "4   monooxygenase/methane  monooxygenase,  subunit     C  \n",
       "5                 subunit               B  protein  None  \n",
       "6           monooxygenase            None     None  None  \n",
       "7   monooxygenase/methane  monooxygenase,  subunit     C  \n",
       "8   monooxygenase/methane  monooxygenase,  subunit     C  \n",
       "9   monooxygenase/methane  monooxygenase,  subunit     C  \n",
       "10  monooxygenase/methane  monooxygenase,  subunit     C  \n",
       "11                subunit               B  protein  None  \n",
       "12          monooxygenase            None     None  None  \n",
       "\n",
       "[13 rows x 23 columns]"
      ]
     },
     "execution_count": 800,
     "metadata": {},
     "output_type": "execute_result"
    }
   ],
   "source": [
    "df=pd.DataFrame([x.split() for x in mros_entire[3:-11]])\n",
    "df"
   ]
  },
  {
   "cell_type": "code",
   "execution_count": 943,
   "metadata": {
    "collapsed": false
   },
   "outputs": [],
   "source": [
    "def joinDescriptionColumns(descr_columns):\n",
    "    merged=''\n",
    "    for row in descr_columns:\n",
    "        if (row != None):\n",
    "            merged+=row+' '\n",
    "    #print(descr_columns)\n",
    "    return merged.strip()"
   ]
  },
  {
   "cell_type": "code",
   "execution_count": 944,
   "metadata": {
    "collapsed": false
   },
   "outputs": [
    {
     "ename": "TypeError",
     "evalue": "cannot do slice indexing on <class 'pandas.indexes.base.Index'> with these indexers [18] of <type 'int'>",
     "output_type": "error",
     "traceback": [
      "\u001b[1;31m---------------------------------------------------------------------------\u001b[0m",
      "\u001b[1;31mTypeError\u001b[0m                                 Traceback (most recent call last)",
      "\u001b[1;32m<ipython-input-944-8a5fd32da48b>\u001b[0m in \u001b[0;36m<module>\u001b[1;34m()\u001b[0m\n\u001b[0;32m      1\u001b[0m \u001b[1;31m#df['period'] = df[['Year', 'quarter']].apply(lambda x: ''.join(x), axis=1)\u001b[0m\u001b[1;33m\u001b[0m\u001b[1;33m\u001b[0m\u001b[0m\n\u001b[1;32m----> 2\u001b[1;33m \u001b[0mdf\u001b[0m\u001b[1;33m[\u001b[0m\u001b[1;36m18\u001b[0m\u001b[1;33m]\u001b[0m\u001b[1;33m=\u001b[0m\u001b[0mdf\u001b[0m\u001b[1;33m.\u001b[0m\u001b[0mloc\u001b[0m\u001b[1;33m[\u001b[0m\u001b[1;33m:\u001b[0m\u001b[1;33m,\u001b[0m\u001b[1;36m18\u001b[0m\u001b[1;33m:\u001b[0m\u001b[1;33m]\u001b[0m\u001b[1;33m.\u001b[0m\u001b[0mapply\u001b[0m\u001b[1;33m(\u001b[0m\u001b[0mjoinDescriptionColumns\u001b[0m\u001b[1;33m,\u001b[0m \u001b[0maxis\u001b[0m\u001b[1;33m=\u001b[0m\u001b[1;36m1\u001b[0m\u001b[1;33m)\u001b[0m\u001b[1;33m\u001b[0m\u001b[0m\n\u001b[0m\u001b[0;32m      3\u001b[0m \u001b[0mdf\u001b[0m\u001b[1;33m=\u001b[0m\u001b[0mdf\u001b[0m\u001b[1;33m.\u001b[0m\u001b[0mloc\u001b[0m\u001b[1;33m[\u001b[0m\u001b[1;33m:\u001b[0m\u001b[1;33m,\u001b[0m\u001b[1;33m:\u001b[0m\u001b[1;36m18\u001b[0m\u001b[1;33m]\u001b[0m\u001b[1;33m\u001b[0m\u001b[0m\n\u001b[0;32m      4\u001b[0m \u001b[0mdf\u001b[0m\u001b[1;33m\u001b[0m\u001b[0m\n",
      "\u001b[1;32m/usr/local/lib/python2.7/dist-packages/pandas/core/indexing.pyc\u001b[0m in \u001b[0;36m__getitem__\u001b[1;34m(self, key)\u001b[0m\n\u001b[0;32m   1282\u001b[0m     \u001b[1;32mdef\u001b[0m \u001b[0m__getitem__\u001b[0m\u001b[1;33m(\u001b[0m\u001b[0mself\u001b[0m\u001b[1;33m,\u001b[0m \u001b[0mkey\u001b[0m\u001b[1;33m)\u001b[0m\u001b[1;33m:\u001b[0m\u001b[1;33m\u001b[0m\u001b[0m\n\u001b[0;32m   1283\u001b[0m         \u001b[1;32mif\u001b[0m \u001b[0mtype\u001b[0m\u001b[1;33m(\u001b[0m\u001b[0mkey\u001b[0m\u001b[1;33m)\u001b[0m \u001b[1;32mis\u001b[0m \u001b[0mtuple\u001b[0m\u001b[1;33m:\u001b[0m\u001b[1;33m\u001b[0m\u001b[0m\n\u001b[1;32m-> 1284\u001b[1;33m             \u001b[1;32mreturn\u001b[0m \u001b[0mself\u001b[0m\u001b[1;33m.\u001b[0m\u001b[0m_getitem_tuple\u001b[0m\u001b[1;33m(\u001b[0m\u001b[0mkey\u001b[0m\u001b[1;33m)\u001b[0m\u001b[1;33m\u001b[0m\u001b[0m\n\u001b[0m\u001b[0;32m   1285\u001b[0m         \u001b[1;32melse\u001b[0m\u001b[1;33m:\u001b[0m\u001b[1;33m\u001b[0m\u001b[0m\n\u001b[0;32m   1286\u001b[0m             \u001b[1;32mreturn\u001b[0m \u001b[0mself\u001b[0m\u001b[1;33m.\u001b[0m\u001b[0m_getitem_axis\u001b[0m\u001b[1;33m(\u001b[0m\u001b[0mkey\u001b[0m\u001b[1;33m,\u001b[0m \u001b[0maxis\u001b[0m\u001b[1;33m=\u001b[0m\u001b[1;36m0\u001b[0m\u001b[1;33m)\u001b[0m\u001b[1;33m\u001b[0m\u001b[0m\n",
      "\u001b[1;32m/usr/local/lib/python2.7/dist-packages/pandas/core/indexing.pyc\u001b[0m in \u001b[0;36m_getitem_tuple\u001b[1;34m(self, tup)\u001b[0m\n\u001b[0;32m    798\u001b[0m                 \u001b[1;32mcontinue\u001b[0m\u001b[1;33m\u001b[0m\u001b[0m\n\u001b[0;32m    799\u001b[0m \u001b[1;33m\u001b[0m\u001b[0m\n\u001b[1;32m--> 800\u001b[1;33m             \u001b[0mretval\u001b[0m \u001b[1;33m=\u001b[0m \u001b[0mgetattr\u001b[0m\u001b[1;33m(\u001b[0m\u001b[0mretval\u001b[0m\u001b[1;33m,\u001b[0m \u001b[0mself\u001b[0m\u001b[1;33m.\u001b[0m\u001b[0mname\u001b[0m\u001b[1;33m)\u001b[0m\u001b[1;33m.\u001b[0m\u001b[0m_getitem_axis\u001b[0m\u001b[1;33m(\u001b[0m\u001b[0mkey\u001b[0m\u001b[1;33m,\u001b[0m \u001b[0maxis\u001b[0m\u001b[1;33m=\u001b[0m\u001b[0mi\u001b[0m\u001b[1;33m)\u001b[0m\u001b[1;33m\u001b[0m\u001b[0m\n\u001b[0m\u001b[0;32m    801\u001b[0m \u001b[1;33m\u001b[0m\u001b[0m\n\u001b[0;32m    802\u001b[0m         \u001b[1;32mreturn\u001b[0m \u001b[0mretval\u001b[0m\u001b[1;33m\u001b[0m\u001b[0m\n",
      "\u001b[1;32m/usr/local/lib/python2.7/dist-packages/pandas/core/indexing.pyc\u001b[0m in \u001b[0;36m_getitem_axis\u001b[1;34m(self, key, axis)\u001b[0m\n\u001b[0;32m   1398\u001b[0m         \u001b[1;32mif\u001b[0m \u001b[0misinstance\u001b[0m\u001b[1;33m(\u001b[0m\u001b[0mkey\u001b[0m\u001b[1;33m,\u001b[0m \u001b[0mslice\u001b[0m\u001b[1;33m)\u001b[0m\u001b[1;33m:\u001b[0m\u001b[1;33m\u001b[0m\u001b[0m\n\u001b[0;32m   1399\u001b[0m             \u001b[0mself\u001b[0m\u001b[1;33m.\u001b[0m\u001b[0m_has_valid_type\u001b[0m\u001b[1;33m(\u001b[0m\u001b[0mkey\u001b[0m\u001b[1;33m,\u001b[0m \u001b[0maxis\u001b[0m\u001b[1;33m)\u001b[0m\u001b[1;33m\u001b[0m\u001b[0m\n\u001b[1;32m-> 1400\u001b[1;33m             \u001b[1;32mreturn\u001b[0m \u001b[0mself\u001b[0m\u001b[1;33m.\u001b[0m\u001b[0m_get_slice_axis\u001b[0m\u001b[1;33m(\u001b[0m\u001b[0mkey\u001b[0m\u001b[1;33m,\u001b[0m \u001b[0maxis\u001b[0m\u001b[1;33m=\u001b[0m\u001b[0maxis\u001b[0m\u001b[1;33m)\u001b[0m\u001b[1;33m\u001b[0m\u001b[0m\n\u001b[0m\u001b[0;32m   1401\u001b[0m         \u001b[1;32melif\u001b[0m \u001b[0mis_bool_indexer\u001b[0m\u001b[1;33m(\u001b[0m\u001b[0mkey\u001b[0m\u001b[1;33m)\u001b[0m\u001b[1;33m:\u001b[0m\u001b[1;33m\u001b[0m\u001b[0m\n\u001b[0;32m   1402\u001b[0m             \u001b[1;32mreturn\u001b[0m \u001b[0mself\u001b[0m\u001b[1;33m.\u001b[0m\u001b[0m_getbool_axis\u001b[0m\u001b[1;33m(\u001b[0m\u001b[0mkey\u001b[0m\u001b[1;33m,\u001b[0m \u001b[0maxis\u001b[0m\u001b[1;33m=\u001b[0m\u001b[0maxis\u001b[0m\u001b[1;33m)\u001b[0m\u001b[1;33m\u001b[0m\u001b[0m\n",
      "\u001b[1;32m/usr/local/lib/python2.7/dist-packages/pandas/core/indexing.pyc\u001b[0m in \u001b[0;36m_get_slice_axis\u001b[1;34m(self, slice_obj, axis)\u001b[0m\n\u001b[0;32m   1306\u001b[0m         \u001b[0mlabels\u001b[0m \u001b[1;33m=\u001b[0m \u001b[0mobj\u001b[0m\u001b[1;33m.\u001b[0m\u001b[0m_get_axis\u001b[0m\u001b[1;33m(\u001b[0m\u001b[0maxis\u001b[0m\u001b[1;33m)\u001b[0m\u001b[1;33m\u001b[0m\u001b[0m\n\u001b[0;32m   1307\u001b[0m         indexer = labels.slice_indexer(slice_obj.start, slice_obj.stop,\n\u001b[1;32m-> 1308\u001b[1;33m                                        slice_obj.step, kind=self.name)\n\u001b[0m\u001b[0;32m   1309\u001b[0m \u001b[1;33m\u001b[0m\u001b[0m\n\u001b[0;32m   1310\u001b[0m         \u001b[1;32mif\u001b[0m \u001b[0misinstance\u001b[0m\u001b[1;33m(\u001b[0m\u001b[0mindexer\u001b[0m\u001b[1;33m,\u001b[0m \u001b[0mslice\u001b[0m\u001b[1;33m)\u001b[0m\u001b[1;33m:\u001b[0m\u001b[1;33m\u001b[0m\u001b[0m\n",
      "\u001b[1;32m/usr/local/lib/python2.7/dist-packages/pandas/indexes/base.pyc\u001b[0m in \u001b[0;36mslice_indexer\u001b[1;34m(self, start, end, step, kind)\u001b[0m\n\u001b[0;32m   2698\u001b[0m         \"\"\"\n\u001b[0;32m   2699\u001b[0m         start_slice, end_slice = self.slice_locs(start, end, step=step,\n\u001b[1;32m-> 2700\u001b[1;33m                                                  kind=kind)\n\u001b[0m\u001b[0;32m   2701\u001b[0m \u001b[1;33m\u001b[0m\u001b[0m\n\u001b[0;32m   2702\u001b[0m         \u001b[1;31m# return a slice\u001b[0m\u001b[1;33m\u001b[0m\u001b[1;33m\u001b[0m\u001b[0m\n",
      "\u001b[1;32m/usr/local/lib/python2.7/dist-packages/pandas/indexes/base.pyc\u001b[0m in \u001b[0;36mslice_locs\u001b[1;34m(self, start, end, step, kind)\u001b[0m\n\u001b[0;32m   2877\u001b[0m         \u001b[0mstart_slice\u001b[0m \u001b[1;33m=\u001b[0m \u001b[0mNone\u001b[0m\u001b[1;33m\u001b[0m\u001b[0m\n\u001b[0;32m   2878\u001b[0m         \u001b[1;32mif\u001b[0m \u001b[0mstart\u001b[0m \u001b[1;32mis\u001b[0m \u001b[1;32mnot\u001b[0m \u001b[0mNone\u001b[0m\u001b[1;33m:\u001b[0m\u001b[1;33m\u001b[0m\u001b[0m\n\u001b[1;32m-> 2879\u001b[1;33m             \u001b[0mstart_slice\u001b[0m \u001b[1;33m=\u001b[0m \u001b[0mself\u001b[0m\u001b[1;33m.\u001b[0m\u001b[0mget_slice_bound\u001b[0m\u001b[1;33m(\u001b[0m\u001b[0mstart\u001b[0m\u001b[1;33m,\u001b[0m \u001b[1;34m'left'\u001b[0m\u001b[1;33m,\u001b[0m \u001b[0mkind\u001b[0m\u001b[1;33m)\u001b[0m\u001b[1;33m\u001b[0m\u001b[0m\n\u001b[0m\u001b[0;32m   2880\u001b[0m         \u001b[1;32mif\u001b[0m \u001b[0mstart_slice\u001b[0m \u001b[1;32mis\u001b[0m \u001b[0mNone\u001b[0m\u001b[1;33m:\u001b[0m\u001b[1;33m\u001b[0m\u001b[0m\n\u001b[0;32m   2881\u001b[0m             \u001b[0mstart_slice\u001b[0m \u001b[1;33m=\u001b[0m \u001b[1;36m0\u001b[0m\u001b[1;33m\u001b[0m\u001b[0m\n",
      "\u001b[1;32m/usr/local/lib/python2.7/dist-packages/pandas/indexes/base.pyc\u001b[0m in \u001b[0;36mget_slice_bound\u001b[1;34m(self, label, side, kind)\u001b[0m\n\u001b[0;32m   2816\u001b[0m         \u001b[1;31m# For datetime indices label may be a string that has to be converted\u001b[0m\u001b[1;33m\u001b[0m\u001b[1;33m\u001b[0m\u001b[0m\n\u001b[0;32m   2817\u001b[0m         \u001b[1;31m# to datetime boundary according to its resolution.\u001b[0m\u001b[1;33m\u001b[0m\u001b[1;33m\u001b[0m\u001b[0m\n\u001b[1;32m-> 2818\u001b[1;33m         \u001b[0mlabel\u001b[0m \u001b[1;33m=\u001b[0m \u001b[0mself\u001b[0m\u001b[1;33m.\u001b[0m\u001b[0m_maybe_cast_slice_bound\u001b[0m\u001b[1;33m(\u001b[0m\u001b[0mlabel\u001b[0m\u001b[1;33m,\u001b[0m \u001b[0mside\u001b[0m\u001b[1;33m,\u001b[0m \u001b[0mkind\u001b[0m\u001b[1;33m)\u001b[0m\u001b[1;33m\u001b[0m\u001b[0m\n\u001b[0m\u001b[0;32m   2819\u001b[0m \u001b[1;33m\u001b[0m\u001b[0m\n\u001b[0;32m   2820\u001b[0m         \u001b[1;31m# we need to look up the label\u001b[0m\u001b[1;33m\u001b[0m\u001b[1;33m\u001b[0m\u001b[0m\n",
      "\u001b[1;32m/usr/local/lib/python2.7/dist-packages/pandas/indexes/base.pyc\u001b[0m in \u001b[0;36m_maybe_cast_slice_bound\u001b[1;34m(self, label, side, kind)\u001b[0m\n\u001b[0;32m   2774\u001b[0m         \u001b[1;31m# this is rejected (generally .loc gets you here)\u001b[0m\u001b[1;33m\u001b[0m\u001b[1;33m\u001b[0m\u001b[0m\n\u001b[0;32m   2775\u001b[0m         \u001b[1;32melif\u001b[0m \u001b[0mis_integer\u001b[0m\u001b[1;33m(\u001b[0m\u001b[0mlabel\u001b[0m\u001b[1;33m)\u001b[0m\u001b[1;33m:\u001b[0m\u001b[1;33m\u001b[0m\u001b[0m\n\u001b[1;32m-> 2776\u001b[1;33m             \u001b[0mself\u001b[0m\u001b[1;33m.\u001b[0m\u001b[0m_invalid_indexer\u001b[0m\u001b[1;33m(\u001b[0m\u001b[1;34m'slice'\u001b[0m\u001b[1;33m,\u001b[0m \u001b[0mlabel\u001b[0m\u001b[1;33m)\u001b[0m\u001b[1;33m\u001b[0m\u001b[0m\n\u001b[0m\u001b[0;32m   2777\u001b[0m \u001b[1;33m\u001b[0m\u001b[0m\n\u001b[0;32m   2778\u001b[0m         \u001b[1;32mreturn\u001b[0m \u001b[0mlabel\u001b[0m\u001b[1;33m\u001b[0m\u001b[0m\n",
      "\u001b[1;32m/usr/local/lib/python2.7/dist-packages/pandas/indexes/base.pyc\u001b[0m in \u001b[0;36m_invalid_indexer\u001b[1;34m(self, form, key)\u001b[0m\n\u001b[0;32m   1115\u001b[0m                         \"indexers [{key}] of {kind}\".format(\n\u001b[0;32m   1116\u001b[0m                             \u001b[0mform\u001b[0m\u001b[1;33m=\u001b[0m\u001b[0mform\u001b[0m\u001b[1;33m,\u001b[0m \u001b[0mklass\u001b[0m\u001b[1;33m=\u001b[0m\u001b[0mtype\u001b[0m\u001b[1;33m(\u001b[0m\u001b[0mself\u001b[0m\u001b[1;33m)\u001b[0m\u001b[1;33m,\u001b[0m \u001b[0mkey\u001b[0m\u001b[1;33m=\u001b[0m\u001b[0mkey\u001b[0m\u001b[1;33m,\u001b[0m\u001b[1;33m\u001b[0m\u001b[0m\n\u001b[1;32m-> 1117\u001b[1;33m                             kind=type(key)))\n\u001b[0m\u001b[0;32m   1118\u001b[0m \u001b[1;33m\u001b[0m\u001b[0m\n\u001b[0;32m   1119\u001b[0m     \u001b[1;32mdef\u001b[0m \u001b[0mget_duplicates\u001b[0m\u001b[1;33m(\u001b[0m\u001b[0mself\u001b[0m\u001b[1;33m)\u001b[0m\u001b[1;33m:\u001b[0m\u001b[1;33m\u001b[0m\u001b[0m\n",
      "\u001b[1;31mTypeError\u001b[0m: cannot do slice indexing on <class 'pandas.indexes.base.Index'> with these indexers [18] of <type 'int'>"
     ]
    }
   ],
   "source": [
    "#df['period'] = df[['Year', 'quarter']].apply(lambda x: ''.join(x), axis=1)\n",
    "df[18]=df.loc[:,18:].apply(joinDescriptionColumns, axis=1)\n",
    "df=df.loc[:,:18]\n",
    "df"
   ]
  },
  {
   "cell_type": "code",
   "execution_count": null,
   "metadata": {
    "collapsed": true
   },
   "outputs": [],
   "source": []
  },
  {
   "cell_type": "code",
   "execution_count": null,
   "metadata": {
    "collapsed": false
   },
   "outputs": [],
   "source": []
  },
  {
   "cell_type": "code",
   "execution_count": null,
   "metadata": {
    "collapsed": true
   },
   "outputs": [],
   "source": []
  },
  {
   "cell_type": "code",
   "execution_count": null,
   "metadata": {
    "collapsed": false
   },
   "outputs": [],
   "source": []
  },
  {
   "cell_type": "code",
   "execution_count": null,
   "metadata": {
    "collapsed": true
   },
   "outputs": [],
   "source": []
  },
  {
   "cell_type": "code",
   "execution_count": null,
   "metadata": {
    "collapsed": true
   },
   "outputs": [],
   "source": []
  },
  {
   "cell_type": "code",
   "execution_count": null,
   "metadata": {
    "collapsed": false
   },
   "outputs": [],
   "source": []
  },
  {
   "cell_type": "code",
   "execution_count": null,
   "metadata": {
    "collapsed": false
   },
   "outputs": [],
   "source": []
  },
  {
   "cell_type": "code",
   "execution_count": 259,
   "metadata": {
    "collapsed": false
   },
   "outputs": [
    {
     "name": "stdout",
     "output_type": "stream",
     "text": [
      "parallel -j 8 hmmscan -o /dev/null --noali --cpu 1 --tblout >(tee -a 0.tab)  ../amoCAB {} ::: /tmp/tmpsNB_xI /tmp/tmp9XW3yx /tmp/tmpyMn37J /tmp/tmp4h4Gou \n",
      "CPU times: user 2.3 ms, sys: 331 µs, total: 2.63 ms\n",
      "Wall time: 356 ms\n"
     ]
    }
   ],
   "source": [
    "%%time\n",
    "import os\n",
    "import subprocess\n",
    "import shlex\n",
    "#hmmscan --tblout amocab_hmmscan_mros.tab  amoCAB 2517287028.genes.faa > /dev/null\n",
    "#os.system(\"makeblastdb -in \"+input_ref_0+\" -dbtype nucl -title \"+title_db+\" -out \"+outfile_db+\" -parse_seqids\")\n",
    "fnames=\"\"\n",
    "flabels=\"\"\n",
    "for (l,f) in files:\n",
    "    fnames+=f.name+\" \"\n",
    "    flabels+=l+\" \"\n",
    "#print flabels\n",
    "    #print(l)\n",
    "    #print(f.name)\n",
    "    #parallel -j $1 blastall \"-p blastn -d nt/nt -i \"{}\" -o \"{.}\".xml -e 1e-10 -m 7 -K 100 -b 200\" ::: *.fa\n",
    "    #print('Exists after close:', os.path.exists(f.name))\n",
    "#this prints nicely to stdout, and is caught by p.stdout.read()\n",
    "#cmd=\"parallel -j 8 hmmscan \"+\"-o /dev/null --noali --cpu 1\"+\" --tblout >(tee /dev/stdout)  \" + \"../amoCAB {} ::: \"+fnames\n",
    "#this prints to the file and stdout\n",
    "#0.tab should be deleted if exists\n",
    "if os.path.exists(\"0.tab\"):\n",
    "    os.remove(\"0.tab\")\n",
    "cmd=\"parallel -j 8 hmmscan \"+\"-o /dev/null --noali --cpu 1\"+\" --tblout >(tee -a 0.tab)  \" + \"../amoCAB {} ::: \"+fnames\n",
    "args = shlex.split(cmd)\n",
    "#os.system(cmd)\n",
    "p=subprocess.Popen(args,stdout=subprocess.PIPE)\n",
    "#print(p.stdout.read())\n",
    "output=p.stdout.read()\n",
    "#os.system(cmd)\n",
    "#command=\"parallel -j 8 hmmscan \"+\"--cpu 1\"+\" --tblout {}.tab \" + \"../amoCAB {} ::: \"+fnames\n",
    "print(cmd)"
   ]
  },
  {
   "cell_type": "code",
   "execution_count": null,
   "metadata": {
    "collapsed": true
   },
   "outputs": [],
   "source": []
  },
  {
   "cell_type": "code",
   "execution_count": null,
   "metadata": {
    "collapsed": true
   },
   "outputs": [],
   "source": []
  },
  {
   "cell_type": "code",
   "execution_count": null,
   "metadata": {
    "collapsed": true
   },
   "outputs": [],
   "source": []
  },
  {
   "cell_type": "markdown",
   "metadata": {},
   "source": [
    "## Trying GNU parallel"
   ]
  },
  {
   "cell_type": "code",
   "execution_count": 260,
   "metadata": {
    "collapsed": false
   },
   "outputs": [
    {
     "data": {
      "text/plain": [
       "[('group_1.fasta', <open file '<fdopen>', mode 'w+b' at 0x7fbba15f5ed0>),\n",
       " ('group_2.fasta', <open file '<fdopen>', mode 'w+b' at 0x7fbb79bbcd20>),\n",
       " ('group_3.fasta', <open file '<fdopen>', mode 'w+b' at 0x7fbba15f5f60>),\n",
       " ('group_4.fasta', <open file '<fdopen>', mode 'w+b' at 0x7fbb792be030>)]"
      ]
     },
     "execution_count": 260,
     "metadata": {},
     "output_type": "execute_result"
    }
   ],
   "source": [
    "files"
   ]
  },
  {
   "cell_type": "code",
   "execution_count": 8,
   "metadata": {
    "collapsed": false
   },
   "outputs": [],
   "source": [
    "#this works\n",
    "#parallel -j 8 hmmscan --cpu 1 --tblout {.}.tab ../amoCAB {} ::: *.fasta > /dev/null\n"
   ]
  },
  {
   "cell_type": "code",
   "execution_count": 35,
   "metadata": {
    "collapsed": false,
    "scrolled": true
   },
   "outputs": [
    {
     "name": "stdout",
     "output_type": "stream",
     "text": [
      "parallel -j 8 hmmscan --cpu 1 --tblout >(tee {#}.tab) ../amoCAB {} ::: /tmp/tmpDjX8B8 /tmp/tmp6fEZVA /tmp/tmprxg_Kg /tmp/tmpG2VDVP  > /dev/null\n",
      "CPU times: user 928 µs, sys: 122 µs, total: 1.05 ms\n",
      "Wall time: 1.63 ms\n"
     ]
    }
   ],
   "source": [
    "%%time\n",
    "import os\n",
    "#hmmscan --tblout amocab_hmmscan_mros.tab  amoCAB 2517287028.genes.faa > /dev/null\n",
    "#os.system(\"makeblastdb -in \"+input_ref_0+\" -dbtype nucl -title \"+title_db+\" -out \"+outfile_db+\" -parse_seqids\")\n",
    "fnames=\"\"\n",
    "flabels=\"\"\n",
    "for (l,f) in files:\n",
    "    fnames+=f.name+\" \"\n",
    "    flabels+=l+\" \"\n",
    "#print flabels\n",
    "    #print(l)\n",
    "    #print(f.name)\n",
    "    #parallel -j $1 blastall \"-p blastn -d nt/nt -i \"{}\" -o \"{.}\".xml -e 1e-10 -m 7 -K 100 -b 200\" ::: *.fa\n",
    "    #print('Exists after close:', os.path.exists(f.name))\n",
    "    #this does print in the output:\n",
    "    #hmmscan --cpu 8 --noali --tblout >(tee 1.tab)  ../amoCAB /tmp/tmp4WuJSN > /dev/null\n",
    "\n",
    "cmd=\"parallel -j 8 hmmscan \"+\"--cpu 1\"+\" --tblout >(tee {#}.tab) \" + \"../amoCAB {} ::: \"+fnames+\" > /dev/null\"\n",
    "os.system(cmd)\n",
    "#command=\"parallel -j 8 hmmscan \"+\"--cpu 1\"+\" --tblout {}.tab \" + \"../amoCAB {} ::: \"+fnames\n",
    "print(cmd)\n",
    "    #os.system(command)\n",
    "\n",
    "# for (l,f) in files:\n",
    "#     print(l)\n",
    "#     print(f.name)\n",
    "#     f.close()\n",
    "#     print('Exists after close:', os.path.exists(f.name))"
   ]
  },
  {
   "cell_type": "code",
   "execution_count": 200,
   "metadata": {
    "collapsed": false
   },
   "outputs": [
    {
     "data": {
      "text/plain": [
       "119"
      ]
     },
     "execution_count": 200,
     "metadata": {},
     "output_type": "execute_result"
    }
   ],
   "source": []
  },
  {
   "cell_type": "code",
   "execution_count": null,
   "metadata": {
    "collapsed": true
   },
   "outputs": [],
   "source": []
  },
  {
   "cell_type": "markdown",
   "metadata": {},
   "source": [
    "# Rewriting to use subprocess module"
   ]
  },
  {
   "cell_type": "code",
   "execution_count": null,
   "metadata": {
    "collapsed": true
   },
   "outputs": [],
   "source": [
    "# x = subprocess.Popen(['touch', 'xyz'])\n",
    "# >>> print x"
   ]
  },
  {
   "cell_type": "code",
   "execution_count": 150,
   "metadata": {
    "collapsed": false
   },
   "outputs": [
    {
     "name": "stdout",
     "output_type": "stream",
     "text": [
      "\n",
      "parallel -j 8 hmmscan  --noali --cpu 1 --tblout >0.tab  ../amoCAB {} ::: /tmp/tmp7100qP /tmp/tmpnD7HAz /tmp/tmpoKVoBZ /tmp/tmpm1kpsd  > /dev/null\n",
      "CPU times: user 1.03 ms, sys: 4.03 ms, total: 5.06 ms\n",
      "Wall time: 93.7 ms\n"
     ]
    }
   ],
   "source": [
    "%%time\n",
    "import os\n",
    "import subprocess\n",
    "#hmmscan --tblout amocab_hmmscan_mros.tab  amoCAB 2517287028.genes.faa > /dev/null\n",
    "#os.system(\"makeblastdb -in \"+input_ref_0+\" -dbtype nucl -title \"+title_db+\" -out \"+outfile_db+\" -parse_seqids\")\n",
    "fnames=\"\"\n",
    "flabels=\"\"\n",
    "for (l,f) in files:\n",
    "    fnames+=f.name+\" \"\n",
    "    flabels+=l+\" \"\n",
    "#print flabels\n",
    "    #print(l)\n",
    "    #print(f.name)\n",
    "    #parallel -j $1 blastall \"-p blastn -d nt/nt -i \"{}\" -o \"{.}\".xml -e 1e-10 -m 7 -K 100 -b 200\" ::: *.fa\n",
    "    #print('Exists after close:', os.path.exists(f.name))\n",
    "cmd=\"parallel -j 8 hmmscan \"+\" --noali --cpu 1\"+\" --tblout >0.tab  \" + \"../amoCAB {} ::: \"+fnames+\" > /dev/null\"\n",
    "p=subprocess.Popen(cmd, shell=True,stdout=subprocess.PIPE)\n",
    "print(p.stdout.read())\n",
    "#os.system(cmd)\n",
    "#command=\"parallel -j 8 hmmscan \"+\"--cpu 1\"+\" --tblout {}.tab \" + \"../amoCAB {} ::: \"+fnames\n",
    "print(cmd)"
   ]
  },
  {
   "cell_type": "markdown",
   "metadata": {},
   "source": [
    "## os.system version for output redirection"
   ]
  },
  {
   "cell_type": "code",
   "execution_count": 21,
   "metadata": {
    "collapsed": false
   },
   "outputs": [
    {
     "data": {
      "text/plain": [
       "[('group_1.fasta', <open file '<fdopen>', mode 'w+b' at 0x7fbba15f5e40>),\n",
       " ('group_2.fasta', <open file '<fdopen>', mode 'w+b' at 0x7fbbafb60150>),\n",
       " ('group_3.fasta', <open file '<fdopen>', mode 'w+b' at 0x7fbba15f5c90>),\n",
       " ('group_4.fasta', <open file '<fdopen>', mode 'w+b' at 0x7fbbafb600c0>)]"
      ]
     },
     "execution_count": 21,
     "metadata": {},
     "output_type": "execute_result"
    }
   ],
   "source": [
    "files"
   ]
  },
  {
   "cell_type": "code",
   "execution_count": 24,
   "metadata": {
    "collapsed": false
   },
   "outputs": [
    {
     "ename": "NameError",
     "evalue": "name 'fnames' is not defined",
     "output_type": "error",
     "traceback": [
      "\u001b[1;31m---------------------------------------------------------------------------\u001b[0m",
      "\u001b[1;31mNameError\u001b[0m                                 Traceback (most recent call last)",
      "\u001b[1;32m<ipython-input-24-95ada7e4bf56>\u001b[0m in \u001b[0;36m<module>\u001b[1;34m()\u001b[0m\n\u001b[1;32m----> 1\u001b[1;33m \u001b[0mfnames\u001b[0m\u001b[1;33m\u001b[0m\u001b[0m\n\u001b[0m",
      "\u001b[1;31mNameError\u001b[0m: name 'fnames' is not defined"
     ]
    }
   ],
   "source": [
    "fnames"
   ]
  },
  {
   "cell_type": "code",
   "execution_count": null,
   "metadata": {
    "collapsed": true
   },
   "outputs": [],
   "source": []
  },
  {
   "cell_type": "markdown",
   "metadata": {},
   "source": [
    "## Finally it works: --tblout >(tee >> 0.tab) to the rescue"
   ]
  },
  {
   "cell_type": "code",
   "execution_count": 3,
   "metadata": {
    "collapsed": false
   },
   "outputs": [
    {
     "data": {
      "text/plain": [
       "[(0, <open file '<fdopen>', mode 'w+b' at 0x7f8d1b658810>),\n",
       " (1, <open file '<fdopen>', mode 'w+b' at 0x7f8d3d4420c0>),\n",
       " (2, <open file '<fdopen>', mode 'w+b' at 0x7f8d1b6588a0>),\n",
       " (3, <open file '<fdopen>', mode 'w+b' at 0x7f8d3d442150>),\n",
       " (4, <open file '<fdopen>', mode 'w+b' at 0x7f8d1b658930>),\n",
       " (5, <open file '<fdopen>', mode 'w+b' at 0x7f8d3d4421e0>),\n",
       " (6, <open file '<fdopen>', mode 'w+b' at 0x7f8d1b6589c0>),\n",
       " (7, <open file '<fdopen>', mode 'w+b' at 0x7f8d3d442270>),\n",
       " (8, <open file '<fdopen>', mode 'w+b' at 0x7f8d1b658a50>),\n",
       " (9, <open file '<fdopen>', mode 'w+b' at 0x7f8d3d442300>),\n",
       " (10, <open file '<fdopen>', mode 'w+b' at 0x7f8d1b658ae0>),\n",
       " (11, <open file '<fdopen>', mode 'w+b' at 0x7f8d3d442390>),\n",
       " (12, <open file '<fdopen>', mode 'w+b' at 0x7f8d1b658b70>),\n",
       " (13, <open file '<fdopen>', mode 'w+b' at 0x7f8d3d442420>),\n",
       " (14, <open file '<fdopen>', mode 'w+b' at 0x7f8d1b658c00>),\n",
       " (15, <open file '<fdopen>', mode 'w+b' at 0x7f8d3d4424b0>),\n",
       " (16, <open file '<fdopen>', mode 'w+b' at 0x7f8d1b658c90>),\n",
       " (17, <open file '<fdopen>', mode 'w+b' at 0x7f8d3d442540>),\n",
       " (18, <open file '<fdopen>', mode 'w+b' at 0x7f8d1b658d20>),\n",
       " (19, <open file '<fdopen>', mode 'w+b' at 0x7f8d3d4425d0>),\n",
       " (20, <open file '<fdopen>', mode 'w+b' at 0x7f8d1b658db0>),\n",
       " (21, <open file '<fdopen>', mode 'w+b' at 0x7f8d3d442660>),\n",
       " (22, <open file '<fdopen>', mode 'w+b' at 0x7f8d1b658e40>),\n",
       " (23, <open file '<fdopen>', mode 'w+b' at 0x7f8d3d4426f0>),\n",
       " (24, <open file '<fdopen>', mode 'w+b' at 0x7f8d1b658ed0>),\n",
       " (25, <open file '<fdopen>', mode 'w+b' at 0x7f8d3d442780>),\n",
       " (26, <open file '<fdopen>', mode 'w+b' at 0x7f8d1b658f60>),\n",
       " (27, <open file '<fdopen>', mode 'w+b' at 0x7f8d3d442810>),\n",
       " (28, <open file '<fdopen>', mode 'w+b' at 0x7f8d17af5030>),\n",
       " (29, <open file '<fdopen>', mode 'w+b' at 0x7f8d3d4428a0>),\n",
       " (30, <open file '<fdopen>', mode 'w+b' at 0x7f8d17af50c0>),\n",
       " (31, <open file '<fdopen>', mode 'w+b' at 0x7f8d3d442930>),\n",
       " (32, <open file '<fdopen>', mode 'w+b' at 0x7f8d17af5150>),\n",
       " (33, <open file '<fdopen>', mode 'w+b' at 0x7f8d3d4429c0>),\n",
       " (34, <open file '<fdopen>', mode 'w+b' at 0x7f8d17af51e0>),\n",
       " (35, <open file '<fdopen>', mode 'w+b' at 0x7f8d3d442a50>),\n",
       " (36, <open file '<fdopen>', mode 'w+b' at 0x7f8d17af5270>),\n",
       " (37, <open file '<fdopen>', mode 'w+b' at 0x7f8d3d442ae0>),\n",
       " (38, <open file '<fdopen>', mode 'w+b' at 0x7f8d1ba1d780>),\n",
       " (39, <open file '<fdopen>', mode 'w+b' at 0x7f8d3d442b70>),\n",
       " (40, <open file '<fdopen>', mode 'w+b' at 0x7f8d1ba1d810>),\n",
       " (41, <open file '<fdopen>', mode 'w+b' at 0x7f8d3d442c00>),\n",
       " (42, <open file '<fdopen>', mode 'w+b' at 0x7f8d1ba1d8a0>),\n",
       " (43, <open file '<fdopen>', mode 'w+b' at 0x7f8d3d442c90>),\n",
       " (44, <open file '<fdopen>', mode 'w+b' at 0x7f8d1ba1d930>),\n",
       " (45, <open file '<fdopen>', mode 'w+b' at 0x7f8d3d442d20>),\n",
       " (46, <open file '<fdopen>', mode 'w+b' at 0x7f8d1ba1d9c0>),\n",
       " (47, <open file '<fdopen>', mode 'w+b' at 0x7f8d3d442db0>),\n",
       " (48, <open file '<fdopen>', mode 'w+b' at 0x7f8d1ba1da50>),\n",
       " (49, <open file '<fdopen>', mode 'w+b' at 0x7f8d3d442e40>),\n",
       " (50, <open file '<fdopen>', mode 'w+b' at 0x7f8d1ba1dae0>),\n",
       " (51, <open file '<fdopen>', mode 'w+b' at 0x7f8d3d442ed0>),\n",
       " (52, <open file '<fdopen>', mode 'w+b' at 0x7f8d1ba1db70>),\n",
       " (53, <open file '<fdopen>', mode 'w+b' at 0x7f8d3d442f60>),\n",
       " (54, <open file '<fdopen>', mode 'w+b' at 0x7f8d1ba1dc00>),\n",
       " (55, <open file '<fdopen>', mode 'w+b' at 0x7f8d1b658030>),\n",
       " (56, <open file '<fdopen>', mode 'w+b' at 0x7f8d1ba1dc90>),\n",
       " (57, <open file '<fdopen>', mode 'w+b' at 0x7f8d1b6580c0>),\n",
       " (58, <open file '<fdopen>', mode 'w+b' at 0x7f8d1ba1dd20>),\n",
       " (59, <open file '<fdopen>', mode 'w+b' at 0x7f8d1b658150>),\n",
       " (60, <open file '<fdopen>', mode 'w+b' at 0x7f8d1ba1ddb0>),\n",
       " (61, <open file '<fdopen>', mode 'w+b' at 0x7f8d1b6581e0>),\n",
       " (62, <open file '<fdopen>', mode 'w+b' at 0x7f8d1ba1de40>),\n",
       " (63, <open file '<fdopen>', mode 'w+b' at 0x7f8d1b658270>),\n",
       " (64, <open file '<fdopen>', mode 'w+b' at 0x7f8d1ba1ded0>),\n",
       " (65, <open file '<fdopen>', mode 'w+b' at 0x7f8d1b658300>),\n",
       " (66, <open file '<fdopen>', mode 'w+b' at 0x7f8d1ba1df60>),\n",
       " (67, <open file '<fdopen>', mode 'w+b' at 0x7f8d1b658390>),\n",
       " (68, <open file '<fdopen>', mode 'w+b' at 0x7f8d17e09030>),\n",
       " (69, <open file '<fdopen>', mode 'w+b' at 0x7f8d1b658420>),\n",
       " (70, <open file '<fdopen>', mode 'w+b' at 0x7f8d17e090c0>),\n",
       " (71, <open file '<fdopen>', mode 'w+b' at 0x7f8d1b6584b0>),\n",
       " (72, <open file '<fdopen>', mode 'w+b' at 0x7f8d17e09150>),\n",
       " (73, <open file '<fdopen>', mode 'w+b' at 0x7f8d1b658540>),\n",
       " (74, <open file '<fdopen>', mode 'w+b' at 0x7f8d17e091e0>),\n",
       " (75, <open file '<fdopen>', mode 'w+b' at 0x7f8d1b6585d0>),\n",
       " (76, <open file '<fdopen>', mode 'w+b' at 0x7f8d17e09270>),\n",
       " (77, <open file '<fdopen>', mode 'w+b' at 0x7f8d1b658660>),\n",
       " (78, <open file '<fdopen>', mode 'w+b' at 0x7f8d17e09300>),\n",
       " (79, <open file '<fdopen>', mode 'w+b' at 0x7f8d1b6586f0>),\n",
       " (80, <open file '<fdopen>', mode 'w+b' at 0x7f8d17e09390>),\n",
       " (81, <open file '<fdopen>', mode 'w+b' at 0x7f8d1b658780>),\n",
       " (82, <open file '<fdopen>', mode 'w+b' at 0x7f8d17e09420>),\n",
       " (83, <open file '<fdopen>', mode 'w+b' at 0x7f8d17af5300>),\n",
       " (84, <open file '<fdopen>', mode 'w+b' at 0x7f8d17e094b0>),\n",
       " (85, <open file '<fdopen>', mode 'w+b' at 0x7f8d17af5390>),\n",
       " (86, <open file '<fdopen>', mode 'w+b' at 0x7f8d17e09540>),\n",
       " (87, <open file '<fdopen>', mode 'w+b' at 0x7f8d17af5420>),\n",
       " (88, <open file '<fdopen>', mode 'w+b' at 0x7f8d17e095d0>),\n",
       " (89, <open file '<fdopen>', mode 'w+b' at 0x7f8d17af54b0>),\n",
       " (90, <open file '<fdopen>', mode 'w+b' at 0x7f8d17e09660>),\n",
       " (91, <open file '<fdopen>', mode 'w+b' at 0x7f8d17af5540>),\n",
       " (92, <open file '<fdopen>', mode 'w+b' at 0x7f8d17e096f0>),\n",
       " (93, <open file '<fdopen>', mode 'w+b' at 0x7f8d17af55d0>),\n",
       " (94, <open file '<fdopen>', mode 'w+b' at 0x7f8d1814a030>),\n",
       " (95, <open file '<fdopen>', mode 'w+b' at 0x7f8d17af5660>),\n",
       " (96, <open file '<fdopen>', mode 'w+b' at 0x7f8d1814a0c0>),\n",
       " (97, <open file '<fdopen>', mode 'w+b' at 0x7f8d17af56f0>),\n",
       " (98, <open file '<fdopen>', mode 'w+b' at 0x7f8d1814a150>),\n",
       " (99, <open file '<fdopen>', mode 'w+b' at 0x7f8d17af5780>),\n",
       " (100, <open file '<fdopen>', mode 'w+b' at 0x7f8d1814a1e0>),\n",
       " (101, <open file '<fdopen>', mode 'w+b' at 0x7f8d17af5810>),\n",
       " (102, <open file '<fdopen>', mode 'w+b' at 0x7f8d1814a270>),\n",
       " (103, <open file '<fdopen>', mode 'w+b' at 0x7f8d17af58a0>),\n",
       " (104, <open file '<fdopen>', mode 'w+b' at 0x7f8d241fdc90>),\n",
       " (105, <open file '<fdopen>', mode 'w+b' at 0x7f8d17af5930>),\n",
       " (106, <open file '<fdopen>', mode 'w+b' at 0x7f8d241fdd20>),\n",
       " (107, <open file '<fdopen>', mode 'w+b' at 0x7f8d17af59c0>),\n",
       " (108, <open file '<fdopen>', mode 'w+b' at 0x7f8d241fddb0>),\n",
       " (109, <open file '<fdopen>', mode 'w+b' at 0x7f8d17af5a50>),\n",
       " (110, <open file '<fdopen>', mode 'w+b' at 0x7f8d241fde40>),\n",
       " (111, <open file '<fdopen>', mode 'w+b' at 0x7f8d17af5ae0>),\n",
       " (112, <open file '<fdopen>', mode 'w+b' at 0x7f8d241fded0>),\n",
       " (113, <open file '<fdopen>', mode 'w+b' at 0x7f8d17af5b70>),\n",
       " (114, <open file '<fdopen>', mode 'w+b' at 0x7f8d241fdf60>),\n",
       " (115, <open file '<fdopen>', mode 'w+b' at 0x7f8d17af5c00>),\n",
       " (116, <open file '<fdopen>', mode 'w+b' at 0x7f8d18793030>),\n",
       " (117, <open file '<fdopen>', mode 'w+b' at 0x7f8d17af5c90>),\n",
       " (118, <open file '<fdopen>', mode 'w+b' at 0x7f8d3d466270>)]"
      ]
     },
     "execution_count": 3,
     "metadata": {},
     "output_type": "execute_result"
    }
   ],
   "source": [
    "files"
   ]
  },
  {
   "cell_type": "code",
   "execution_count": null,
   "metadata": {
    "collapsed": true
   },
   "outputs": [],
   "source": []
  },
  {
   "cell_type": "code",
   "execution_count": null,
   "metadata": {
    "collapsed": true
   },
   "outputs": [],
   "source": []
  },
  {
   "cell_type": "code",
   "execution_count": 4,
   "metadata": {
    "collapsed": false
   },
   "outputs": [
    {
     "data": {
      "text/plain": [
       "{'/tmp/tmp0ZAHXn': 16,\n",
       " '/tmp/tmp1T_1kT': 43,\n",
       " '/tmp/tmp2gzyVJ': 105,\n",
       " '/tmp/tmp2xZkzz': 114,\n",
       " '/tmp/tmp34tlwv': 53,\n",
       " '/tmp/tmp3jweug': 60,\n",
       " '/tmp/tmp3mChYx': 3,\n",
       " '/tmp/tmp3sJkHz': 107,\n",
       " '/tmp/tmp4y3QMs': 110,\n",
       " '/tmp/tmp52_CQW': 56,\n",
       " '/tmp/tmp5K21bU': 9,\n",
       " '/tmp/tmp5MVWUU': 83,\n",
       " '/tmp/tmp5b4_gN': 69,\n",
       " '/tmp/tmp88DNcS': 4,\n",
       " '/tmp/tmp9X9zXx': 51,\n",
       " '/tmp/tmp9y2d9e': 1,\n",
       " '/tmp/tmpAlhLDk': 97,\n",
       " '/tmp/tmpAntgTo': 75,\n",
       " '/tmp/tmpBB23no': 106,\n",
       " '/tmp/tmpBsJzzo': 115,\n",
       " '/tmp/tmpC6ckkW': 13,\n",
       " '/tmp/tmpCQA4mt': 29,\n",
       " '/tmp/tmpC_BpSX': 65,\n",
       " '/tmp/tmpD2h1fw': 55,\n",
       " '/tmp/tmpDQeTx5': 108,\n",
       " '/tmp/tmpDwl7X9': 39,\n",
       " '/tmp/tmpDykJND': 42,\n",
       " '/tmp/tmpEvjA3K': 88,\n",
       " '/tmp/tmpG0ZMug': 103,\n",
       " '/tmp/tmpG_Sjb4': 57,\n",
       " '/tmp/tmpGl1Utv': 90,\n",
       " '/tmp/tmpGlfQO4': 95,\n",
       " '/tmp/tmpGnIsYu': 7,\n",
       " '/tmp/tmpJ9Rj6d': 78,\n",
       " '/tmp/tmpJEX77_': 102,\n",
       " '/tmp/tmpKGmF_2': 62,\n",
       " '/tmp/tmpKp8Qu2': 35,\n",
       " '/tmp/tmpKyUnB9': 84,\n",
       " '/tmp/tmpLG5RVl': 116,\n",
       " '/tmp/tmpLsXmH3': 18,\n",
       " '/tmp/tmpMYGkLN': 0,\n",
       " '/tmp/tmpMi44wG': 113,\n",
       " '/tmp/tmpMus9AZ': 85,\n",
       " '/tmp/tmpN5R2_S': 59,\n",
       " '/tmp/tmpNQaC7H': 66,\n",
       " '/tmp/tmpNUcikD': 49,\n",
       " '/tmp/tmpPTqslL': 22,\n",
       " '/tmp/tmpPUV9qb': 48,\n",
       " '/tmp/tmpPnGsDr': 50,\n",
       " '/tmp/tmpQQ1vRZ': 11,\n",
       " '/tmp/tmpQbGjYb': 93,\n",
       " '/tmp/tmpR2c9Ak': 32,\n",
       " '/tmp/tmpROJKzH': 2,\n",
       " '/tmp/tmpRi_DEb': 74,\n",
       " '/tmp/tmpSbL8lw': 38,\n",
       " '/tmp/tmpT6IlxY': 47,\n",
       " '/tmp/tmpTWxvFH': 101,\n",
       " '/tmp/tmpU_RJ_I': 77,\n",
       " '/tmp/tmpUar698': 100,\n",
       " '/tmp/tmpUfiq4o': 10,\n",
       " '/tmp/tmpV8RUqD': 63,\n",
       " '/tmp/tmpWgfamA': 76,\n",
       " '/tmp/tmpWrS7kI': 112,\n",
       " '/tmp/tmpXofAb4': 52,\n",
       " '/tmp/tmpYQaRj8': 96,\n",
       " '/tmp/tmpZ34H06': 14,\n",
       " '/tmp/tmpZNFOik': 15,\n",
       " '/tmp/tmpZaiwzH': 37,\n",
       " '/tmp/tmp_SNaSv': 12,\n",
       " '/tmp/tmpaM6m14': 40,\n",
       " '/tmp/tmpaZSct0': 109,\n",
       " '/tmp/tmpbFI3sv': 41,\n",
       " '/tmp/tmpbNPbKC': 80,\n",
       " '/tmp/tmpbiGtyb': 45,\n",
       " '/tmp/tmpdMFME6': 87,\n",
       " '/tmp/tmpdweOY2': 54,\n",
       " '/tmp/tmpe5pz6d': 98,\n",
       " '/tmp/tmpeE7ayk': 30,\n",
       " '/tmp/tmpeXT72P': 24,\n",
       " '/tmp/tmpepZdJy': 71,\n",
       " '/tmp/tmpez0rbM': 104,\n",
       " '/tmp/tmpfhAS3c': 20,\n",
       " '/tmp/tmpgGBTi3': 21,\n",
       " '/tmp/tmpgbEFqX': 67,\n",
       " '/tmp/tmpi0yI4x': 117,\n",
       " '/tmp/tmpip_CNC': 28,\n",
       " '/tmp/tmpizPGHO': 94,\n",
       " '/tmp/tmpjgcUjh': 36,\n",
       " '/tmp/tmpjk3eIT': 89,\n",
       " '/tmp/tmpmaGeB8': 5,\n",
       " '/tmp/tmpmamX6n': 58,\n",
       " '/tmp/tmpnBvzgy': 72,\n",
       " '/tmp/tmpnLBTrK': 44,\n",
       " '/tmp/tmpnXIJZC': 61,\n",
       " '/tmp/tmpnfRQ8G': 33,\n",
       " '/tmp/tmpnlw1le': 23,\n",
       " '/tmp/tmppMrHQY': 99,\n",
       " '/tmp/tmppnpPgS': 86,\n",
       " '/tmp/tmpq1vnyh': 91,\n",
       " '/tmp/tmpqNuILg': 111,\n",
       " '/tmp/tmpqlB2K0': 118,\n",
       " '/tmp/tmpqtCKAd': 6,\n",
       " '/tmp/tmpqzd73v': 82,\n",
       " '/tmp/tmprJRPXl': 26,\n",
       " '/tmp/tmprNzBH1': 73,\n",
       " '/tmp/tmprfDyaY': 79,\n",
       " '/tmp/tmpsARlcr': 25,\n",
       " '/tmp/tmpsnc_Ma': 19,\n",
       " '/tmp/tmptcY2W3': 34,\n",
       " '/tmp/tmpuOU40H': 17,\n",
       " '/tmp/tmpugFD_E': 68,\n",
       " '/tmp/tmpvgO_uP': 27,\n",
       " '/tmp/tmpwl3BsG': 64,\n",
       " '/tmp/tmpxKMHdi': 70,\n",
       " '/tmp/tmpy7GEze': 8,\n",
       " '/tmp/tmpyJIrTm': 31,\n",
       " '/tmp/tmpydbnhP': 92,\n",
       " '/tmp/tmpyyXaB7': 46,\n",
       " '/tmp/tmpzdcoL9': 81}"
      ]
     },
     "execution_count": 4,
     "metadata": {},
     "output_type": "execute_result"
    }
   ],
   "source": [
    "files2={j.name:i for i,j in files}\n",
    "files2"
   ]
  },
  {
   "cell_type": "code",
   "execution_count": null,
   "metadata": {
    "collapsed": true
   },
   "outputs": [],
   "source": []
  },
  {
   "cell_type": "code",
   "execution_count": 5,
   "metadata": {
    "collapsed": false
   },
   "outputs": [
    {
     "name": "stdout",
     "output_type": "stream",
     "text": [
      "parallel -j 8 hmmscan -o /dev/null --noali --cpu 1 --tblout >(tee -a 0.tab)  ../amoCAB {} ::: /tmp/tmpMYGkLN /tmp/tmp9y2d9e /tmp/tmpROJKzH /tmp/tmp3mChYx /tmp/tmp88DNcS /tmp/tmpmaGeB8 /tmp/tmpqtCKAd /tmp/tmpGnIsYu /tmp/tmpy7GEze /tmp/tmp5K21bU /tmp/tmpUfiq4o /tmp/tmpQQ1vRZ /tmp/tmp_SNaSv /tmp/tmpC6ckkW /tmp/tmpZ34H06 /tmp/tmpZNFOik /tmp/tmp0ZAHXn /tmp/tmpuOU40H /tmp/tmpLsXmH3 /tmp/tmpsnc_Ma /tmp/tmpfhAS3c /tmp/tmpgGBTi3 /tmp/tmpPTqslL /tmp/tmpnlw1le /tmp/tmpeXT72P /tmp/tmpsARlcr /tmp/tmprJRPXl /tmp/tmpvgO_uP /tmp/tmpip_CNC /tmp/tmpCQA4mt /tmp/tmpeE7ayk /tmp/tmpyJIrTm /tmp/tmpR2c9Ak /tmp/tmpnfRQ8G /tmp/tmptcY2W3 /tmp/tmpKp8Qu2 /tmp/tmpjgcUjh /tmp/tmpZaiwzH /tmp/tmpSbL8lw /tmp/tmpDwl7X9 /tmp/tmpaM6m14 /tmp/tmpbFI3sv /tmp/tmpDykJND /tmp/tmp1T_1kT /tmp/tmpnLBTrK /tmp/tmpbiGtyb /tmp/tmpyyXaB7 /tmp/tmpT6IlxY /tmp/tmpPUV9qb /tmp/tmpNUcikD /tmp/tmpPnGsDr /tmp/tmp9X9zXx /tmp/tmpXofAb4 /tmp/tmp34tlwv /tmp/tmpdweOY2 /tmp/tmpD2h1fw /tmp/tmp52_CQW /tmp/tmpG_Sjb4 /tmp/tmpmamX6n /tmp/tmpN5R2_S /tmp/tmp3jweug /tmp/tmpnXIJZC /tmp/tmpKGmF_2 /tmp/tmpV8RUqD /tmp/tmpwl3BsG /tmp/tmpC_BpSX /tmp/tmpNQaC7H /tmp/tmpgbEFqX /tmp/tmpugFD_E /tmp/tmp5b4_gN /tmp/tmpxKMHdi /tmp/tmpepZdJy /tmp/tmpnBvzgy /tmp/tmprNzBH1 /tmp/tmpRi_DEb /tmp/tmpAntgTo /tmp/tmpWgfamA /tmp/tmpU_RJ_I /tmp/tmpJ9Rj6d /tmp/tmprfDyaY /tmp/tmpbNPbKC /tmp/tmpzdcoL9 /tmp/tmpqzd73v /tmp/tmp5MVWUU /tmp/tmpKyUnB9 /tmp/tmpMus9AZ /tmp/tmppnpPgS /tmp/tmpdMFME6 /tmp/tmpEvjA3K /tmp/tmpjk3eIT /tmp/tmpGl1Utv /tmp/tmpq1vnyh /tmp/tmpydbnhP /tmp/tmpQbGjYb /tmp/tmpizPGHO /tmp/tmpGlfQO4 /tmp/tmpYQaRj8 /tmp/tmpAlhLDk /tmp/tmpe5pz6d /tmp/tmppMrHQY /tmp/tmpUar698 /tmp/tmpTWxvFH /tmp/tmpJEX77_ /tmp/tmpG0ZMug /tmp/tmpez0rbM /tmp/tmp2gzyVJ /tmp/tmpBB23no /tmp/tmp3sJkHz /tmp/tmpDQeTx5 /tmp/tmpaZSct0 /tmp/tmp4y3QMs /tmp/tmpqNuILg /tmp/tmpWrS7kI /tmp/tmpMi44wG /tmp/tmp2xZkzz /tmp/tmpBsJzzo /tmp/tmpLG5RVl /tmp/tmpi0yI4x /tmp/tmpqlB2K0 \n",
      "CPU times: user 7.55 ms, sys: 4.05 ms, total: 11.6 ms\n",
      "Wall time: 2min 56s\n"
     ]
    }
   ],
   "source": [
    "%%time\n",
    "import os\n",
    "import subprocess\n",
    "import shlex\n",
    "#hmmscan --tblout amocab_hmmscan_mros.tab  amoCAB 2517287028.genes.faa > /dev/null\n",
    "#os.system(\"makeblastdb -in \"+input_ref_0+\" -dbtype nucl -title \"+title_db+\" -out \"+outfile_db+\" -parse_seqids\")\n",
    "fnames=\"\"\n",
    "flabels=\"\"\n",
    "for (l,f) in files:\n",
    "    fnames+=f.name+\" \"\n",
    "    flabels+=str(l)+\" \"\n",
    "#print flabels\n",
    "    #print(l)\n",
    "    #print(f.name)\n",
    "    #parallel -j $1 blastall \"-p blastn -d nt/nt -i \"{}\" -o \"{.}\".xml -e 1e-10 -m 7 -K 100 -b 200\" ::: *.fa\n",
    "    #print('Exists after close:', os.path.exists(f.name))\n",
    "#this prints nicely to stdout, and is caught by p.stdout.read()\n",
    "#cmd=\"parallel -j 8 hmmscan \"+\"-o /dev/null --noali --cpu 1\"+\" --tblout >(tee /dev/stdout)  \" + \"../amoCAB {} ::: \"+fnames\n",
    "#this prints to the file and stdout\n",
    "#0.tab should be deleted if exists\n",
    "if os.path.exists(\"0.tab\"):\n",
    "    os.remove(\"0.tab\")\n",
    "cmd=\"parallel -j 8 hmmscan \"+\"-o /dev/null --noali --cpu 1\"+\" --tblout >(tee -a 0.tab)  \" + \"../amoCAB {} ::: \"+fnames\n",
    "args = shlex.split(cmd)\n",
    "#os.system(cmd)\n",
    "p=subprocess.Popen(args,stdout=subprocess.PIPE)\n",
    "#print(p.stdout.read())\n",
    "output=p.stdout.read()\n",
    "#os.system(cmd)\n",
    "#command=\"parallel -j 8 hmmscan \"+\"--cpu 1\"+\" --tblout {}.tab \" + \"../amoCAB {} ::: \"+fnames\n",
    "print(cmd)"
   ]
  },
  {
   "cell_type": "code",
   "execution_count": null,
   "metadata": {
    "collapsed": false
   },
   "outputs": [],
   "source": []
  },
  {
   "cell_type": "code",
   "execution_count": 6,
   "metadata": {
    "collapsed": false
   },
   "outputs": [
    {
     "data": {
      "text/plain": [
       "119"
      ]
     },
     "execution_count": 6,
     "metadata": {},
     "output_type": "execute_result"
    }
   ],
   "source": [
    "len(files)"
   ]
  },
  {
   "cell_type": "code",
   "execution_count": null,
   "metadata": {
    "collapsed": true
   },
   "outputs": [],
   "source": []
  },
  {
   "cell_type": "code",
   "execution_count": 7,
   "metadata": {
    "collapsed": false
   },
   "outputs": [],
   "source": [
    "split_line=\"#                                                               --- full sequence ---- --- best 1 domain ---- --- domain number estimation ----\"\n",
    "split_line=\"#                                                                --- full sequence ---- --- best 1 domain ---- --- domain number estimation ----\"\n",
    "chunks=output.split(split_line)"
   ]
  },
  {
   "cell_type": "code",
   "execution_count": null,
   "metadata": {
    "collapsed": true
   },
   "outputs": [],
   "source": []
  },
  {
   "cell_type": "code",
   "execution_count": null,
   "metadata": {
    "collapsed": true
   },
   "outputs": [],
   "source": []
  },
  {
   "cell_type": "code",
   "execution_count": 8,
   "metadata": {
    "collapsed": false
   },
   "outputs": [],
   "source": [
    "#imporved split with regex\n",
    "import re\n",
    "\n",
    "chunks=re.split(r\"#\\s+--- full sequence ---- --- best 1 domain ---- --- domain number estimation ----\", output)\n"
   ]
  },
  {
   "cell_type": "code",
   "execution_count": 1043,
   "metadata": {
    "collapsed": false
   },
   "outputs": [],
   "source": [
    "#output"
   ]
  },
  {
   "cell_type": "code",
   "execution_count": 1044,
   "metadata": {
    "collapsed": false
   },
   "outputs": [],
   "source": [
    "#chunks"
   ]
  },
  {
   "cell_type": "code",
   "execution_count": 9,
   "metadata": {
    "collapsed": false
   },
   "outputs": [
    {
     "data": {
      "text/plain": [
       "'\\n# target name        accession  query name            accession    E-value  score  bias   E-value  score  bias   exp reg clu  ov env dom rep inc description of target\\n#------------------- ----------  -------------------- ---------- --------- ------ ----- --------- ------ -----   --- --- --- --- --- --- --- --- ---------------------\\nMonooxygenase_B      PF04744.11 Ga0073928_1000028111 -             0.0021    4.6   6.9   0.00044    6.8   3.1   1.6   2   0   0   2   2   2   1 Monooxygenase subunit B protein\\n#\\n# Program:         hmmscan\\n# Version:         3.1b2 (February 2015)\\n# Pipeline mode:   SCAN\\n# Query file:      /tmp/tmp9y2d9e\\n# Target file:     ../amoCAB\\n# Option settings: hmmscan -o /dev/null --tblout /dev/fd/63 --noali --cpu 1 ../amoCAB /tmp/tmp9y2d9e \\n# Current dir:     /media/andriy/5E8D984477029FC2/scripts/operon_finder/gen_func_file_parsing\\n# Date:            Sat Oct  7 18:47:55 2017\\n# [ok]\\n'"
      ]
     },
     "execution_count": 9,
     "metadata": {},
     "output_type": "execute_result"
    }
   ],
   "source": [
    "chunks[2]"
   ]
  },
  {
   "cell_type": "code",
   "execution_count": 13,
   "metadata": {
    "collapsed": false
   },
   "outputs": [
    {
     "data": {
      "text/plain": [
       "[]"
      ]
     },
     "execution_count": 13,
     "metadata": {},
     "output_type": "execute_result"
    }
   ],
   "source": [
    "import re\n",
    "re.findall('# Query file:\\s*(.*)', chunks[0])"
   ]
  },
  {
   "cell_type": "code",
   "execution_count": 14,
   "metadata": {
    "collapsed": false
   },
   "outputs": [],
   "source": [
    "#chunks"
   ]
  },
  {
   "cell_type": "code",
   "execution_count": null,
   "metadata": {
    "collapsed": true
   },
   "outputs": [],
   "source": []
  },
  {
   "cell_type": "code",
   "execution_count": 15,
   "metadata": {
    "collapsed": false
   },
   "outputs": [],
   "source": [
    "#mros_entire"
   ]
  },
  {
   "cell_type": "code",
   "execution_count": null,
   "metadata": {
    "collapsed": true
   },
   "outputs": [],
   "source": []
  },
  {
   "cell_type": "code",
   "execution_count": 1,
   "metadata": {
    "collapsed": false
   },
   "outputs": [],
   "source": [
    "# for i in chunk.split('\\n'):\n",
    "#     print('+'+i)"
   ]
  },
  {
   "cell_type": "code",
   "execution_count": null,
   "metadata": {
    "collapsed": true
   },
   "outputs": [],
   "source": [
    "'#                                                                --- full sequence ---- --- best 1 domain ---- --- domain number estimation ----'"
   ]
  },
  {
   "cell_type": "code",
   "execution_count": null,
   "metadata": {
    "collapsed": true
   },
   "outputs": [],
   "source": []
  },
  {
   "cell_type": "code",
   "execution_count": 2,
   "metadata": {
    "collapsed": false,
    "scrolled": false
   },
   "outputs": [],
   "source": [
    "# for chunk in chunks:\n",
    "#     print('<')\n",
    "#     print(chunk)\n",
    "#     print(len(chunk))\n",
    "#     print('>')"
   ]
  },
  {
   "cell_type": "code",
   "execution_count": 10,
   "metadata": {
    "collapsed": false
   },
   "outputs": [
    {
     "data": {
      "text/plain": [
       "{'/tmp/tmp0ZAHXn': 16,\n",
       " '/tmp/tmp1T_1kT': 43,\n",
       " '/tmp/tmp2gzyVJ': 105,\n",
       " '/tmp/tmp2xZkzz': 114,\n",
       " '/tmp/tmp34tlwv': 53,\n",
       " '/tmp/tmp3jweug': 60,\n",
       " '/tmp/tmp3mChYx': 3,\n",
       " '/tmp/tmp3sJkHz': 107,\n",
       " '/tmp/tmp4y3QMs': 110,\n",
       " '/tmp/tmp52_CQW': 56,\n",
       " '/tmp/tmp5K21bU': 9,\n",
       " '/tmp/tmp5MVWUU': 83,\n",
       " '/tmp/tmp5b4_gN': 69,\n",
       " '/tmp/tmp88DNcS': 4,\n",
       " '/tmp/tmp9X9zXx': 51,\n",
       " '/tmp/tmp9y2d9e': 1,\n",
       " '/tmp/tmpAlhLDk': 97,\n",
       " '/tmp/tmpAntgTo': 75,\n",
       " '/tmp/tmpBB23no': 106,\n",
       " '/tmp/tmpBsJzzo': 115,\n",
       " '/tmp/tmpC6ckkW': 13,\n",
       " '/tmp/tmpCQA4mt': 29,\n",
       " '/tmp/tmpC_BpSX': 65,\n",
       " '/tmp/tmpD2h1fw': 55,\n",
       " '/tmp/tmpDQeTx5': 108,\n",
       " '/tmp/tmpDwl7X9': 39,\n",
       " '/tmp/tmpDykJND': 42,\n",
       " '/tmp/tmpEvjA3K': 88,\n",
       " '/tmp/tmpG0ZMug': 103,\n",
       " '/tmp/tmpG_Sjb4': 57,\n",
       " '/tmp/tmpGl1Utv': 90,\n",
       " '/tmp/tmpGlfQO4': 95,\n",
       " '/tmp/tmpGnIsYu': 7,\n",
       " '/tmp/tmpJ9Rj6d': 78,\n",
       " '/tmp/tmpJEX77_': 102,\n",
       " '/tmp/tmpKGmF_2': 62,\n",
       " '/tmp/tmpKp8Qu2': 35,\n",
       " '/tmp/tmpKyUnB9': 84,\n",
       " '/tmp/tmpLG5RVl': 116,\n",
       " '/tmp/tmpLsXmH3': 18,\n",
       " '/tmp/tmpMYGkLN': 0,\n",
       " '/tmp/tmpMi44wG': 113,\n",
       " '/tmp/tmpMus9AZ': 85,\n",
       " '/tmp/tmpN5R2_S': 59,\n",
       " '/tmp/tmpNQaC7H': 66,\n",
       " '/tmp/tmpNUcikD': 49,\n",
       " '/tmp/tmpPTqslL': 22,\n",
       " '/tmp/tmpPUV9qb': 48,\n",
       " '/tmp/tmpPnGsDr': 50,\n",
       " '/tmp/tmpQQ1vRZ': 11,\n",
       " '/tmp/tmpQbGjYb': 93,\n",
       " '/tmp/tmpR2c9Ak': 32,\n",
       " '/tmp/tmpROJKzH': 2,\n",
       " '/tmp/tmpRi_DEb': 74,\n",
       " '/tmp/tmpSbL8lw': 38,\n",
       " '/tmp/tmpT6IlxY': 47,\n",
       " '/tmp/tmpTWxvFH': 101,\n",
       " '/tmp/tmpU_RJ_I': 77,\n",
       " '/tmp/tmpUar698': 100,\n",
       " '/tmp/tmpUfiq4o': 10,\n",
       " '/tmp/tmpV8RUqD': 63,\n",
       " '/tmp/tmpWgfamA': 76,\n",
       " '/tmp/tmpWrS7kI': 112,\n",
       " '/tmp/tmpXofAb4': 52,\n",
       " '/tmp/tmpYQaRj8': 96,\n",
       " '/tmp/tmpZ34H06': 14,\n",
       " '/tmp/tmpZNFOik': 15,\n",
       " '/tmp/tmpZaiwzH': 37,\n",
       " '/tmp/tmp_SNaSv': 12,\n",
       " '/tmp/tmpaM6m14': 40,\n",
       " '/tmp/tmpaZSct0': 109,\n",
       " '/tmp/tmpbFI3sv': 41,\n",
       " '/tmp/tmpbNPbKC': 80,\n",
       " '/tmp/tmpbiGtyb': 45,\n",
       " '/tmp/tmpdMFME6': 87,\n",
       " '/tmp/tmpdweOY2': 54,\n",
       " '/tmp/tmpe5pz6d': 98,\n",
       " '/tmp/tmpeE7ayk': 30,\n",
       " '/tmp/tmpeXT72P': 24,\n",
       " '/tmp/tmpepZdJy': 71,\n",
       " '/tmp/tmpez0rbM': 104,\n",
       " '/tmp/tmpfhAS3c': 20,\n",
       " '/tmp/tmpgGBTi3': 21,\n",
       " '/tmp/tmpgbEFqX': 67,\n",
       " '/tmp/tmpi0yI4x': 117,\n",
       " '/tmp/tmpip_CNC': 28,\n",
       " '/tmp/tmpizPGHO': 94,\n",
       " '/tmp/tmpjgcUjh': 36,\n",
       " '/tmp/tmpjk3eIT': 89,\n",
       " '/tmp/tmpmaGeB8': 5,\n",
       " '/tmp/tmpmamX6n': 58,\n",
       " '/tmp/tmpnBvzgy': 72,\n",
       " '/tmp/tmpnLBTrK': 44,\n",
       " '/tmp/tmpnXIJZC': 61,\n",
       " '/tmp/tmpnfRQ8G': 33,\n",
       " '/tmp/tmpnlw1le': 23,\n",
       " '/tmp/tmppMrHQY': 99,\n",
       " '/tmp/tmppnpPgS': 86,\n",
       " '/tmp/tmpq1vnyh': 91,\n",
       " '/tmp/tmpqNuILg': 111,\n",
       " '/tmp/tmpqlB2K0': 118,\n",
       " '/tmp/tmpqtCKAd': 6,\n",
       " '/tmp/tmpqzd73v': 82,\n",
       " '/tmp/tmprJRPXl': 26,\n",
       " '/tmp/tmprNzBH1': 73,\n",
       " '/tmp/tmprfDyaY': 79,\n",
       " '/tmp/tmpsARlcr': 25,\n",
       " '/tmp/tmpsnc_Ma': 19,\n",
       " '/tmp/tmptcY2W3': 34,\n",
       " '/tmp/tmpuOU40H': 17,\n",
       " '/tmp/tmpugFD_E': 68,\n",
       " '/tmp/tmpvgO_uP': 27,\n",
       " '/tmp/tmpwl3BsG': 64,\n",
       " '/tmp/tmpxKMHdi': 70,\n",
       " '/tmp/tmpy7GEze': 8,\n",
       " '/tmp/tmpyJIrTm': 31,\n",
       " '/tmp/tmpydbnhP': 92,\n",
       " '/tmp/tmpyyXaB7': 46,\n",
       " '/tmp/tmpzdcoL9': 81}"
      ]
     },
     "execution_count": 10,
     "metadata": {},
     "output_type": "execute_result"
    }
   ],
   "source": [
    "files2"
   ]
  },
  {
   "cell_type": "code",
   "execution_count": null,
   "metadata": {
    "collapsed": true
   },
   "outputs": [],
   "source": [
    "# df=pd.DataFrame([x.split() for x in mros_entire[3:-11]])\n",
    "\n",
    "# #df['period'] = df[['Year', 'quarter']].apply(lambda x: ''.join(x), axis=1)\n",
    "# df[18]=df.loc[:,18:].apply(joinDescriptionColumns, axis=1)\n",
    "# df=df.loc[:,:18]\n",
    "# df"
   ]
  },
  {
   "cell_type": "code",
   "execution_count": 987,
   "metadata": {
    "collapsed": false
   },
   "outputs": [],
   "source": [
    "#o=output.split('\\n')\n",
    "#o"
   ]
  },
  {
   "cell_type": "code",
   "execution_count": 983,
   "metadata": {
    "collapsed": false
   },
   "outputs": [],
   "source": [
    "#df_scramb"
   ]
  },
  {
   "cell_type": "code",
   "execution_count": null,
   "metadata": {
    "collapsed": true
   },
   "outputs": [],
   "source": []
  },
  {
   "cell_type": "code",
   "execution_count": null,
   "metadata": {
    "collapsed": true
   },
   "outputs": [],
   "source": []
  },
  {
   "cell_type": "code",
   "execution_count": 11,
   "metadata": {
    "collapsed": false
   },
   "outputs": [],
   "source": [
    "def joinDescriptionColumns(descr_columns):\n",
    "    merged=''\n",
    "    for row in descr_columns.dropna():\n",
    "        if (row != None):\n",
    "            #print(merged)\n",
    "            merged+=row+' '\n",
    "    #print(descr_columns)\n",
    "    return merged.strip()"
   ]
  },
  {
   "cell_type": "code",
   "execution_count": 12,
   "metadata": {
    "collapsed": true
   },
   "outputs": [],
   "source": [
    "import pandas as pd"
   ]
  },
  {
   "cell_type": "code",
   "execution_count": 183,
   "metadata": {
    "collapsed": false
   },
   "outputs": [],
   "source": [
    "total=[]\n",
    "df_scramb=pd.DataFrame()\n",
    "test_cnt=0\n",
    "for chunk in chunks:\n",
    "    if chunk != '':\n",
    "        #print((chunk))\n",
    "\n",
    "        data=chunk.split('\\n')[3:-11]\n",
    "#         if test_cnt <2:\n",
    "#             print(data)\n",
    "        test_cnt+=1\n",
    "        #print(data)\n",
    "        if data:\n",
    "            d=pd.DataFrame([x.split() for x in data])\n",
    "        else:\n",
    "            continue\n",
    "        \n",
    "        query=re.findall('# Query file:\\s*(.*)', chunk)[0]\n",
    "        label=files2[query]\n",
    "        #print(query)\n",
    "        #d['query file']=query\n",
    "        #df.insert(loc=idx, column='A', value=new_col)\n",
    "        d.insert(loc=0, column='query file', value=query)\n",
    "        d.insert(loc=1, column='label', value=label)\n",
    "        #d['label']=files2[query]\n",
    "        df_scramb=df_scramb.append(d)\n",
    "        #total+=chunk.split(\"\\n\")[3:-11]\n",
    "df_scramb.set_index(['query file', 'label'], inplace=True)\n",
    "\n",
    "#df_scramb[18]\n",
    "\n",
    "df_scramb.iloc[:,18]=df_scramb.iloc[:,18:].apply(joinDescriptionColumns, axis=1)\n",
    "df_scramb=df_scramb.iloc[:,:19]\n",
    "\n",
    "df_scramb.sort_values(by='label', inplace=True)#this seems unnecessary since later we are sorting by position\n",
    "df_scramb.reset_index(inplace=True)"
   ]
  },
  {
   "cell_type": "code",
   "execution_count": 184,
   "metadata": {
    "collapsed": false
   },
   "outputs": [
    {
     "data": {
      "text/html": [
       "<div>\n",
       "<table border=\"1\" class=\"dataframe\">\n",
       "  <thead>\n",
       "    <tr style=\"text-align: right;\">\n",
       "      <th></th>\n",
       "      <th>query file</th>\n",
       "      <th>label</th>\n",
       "      <th>0</th>\n",
       "      <th>1</th>\n",
       "      <th>2</th>\n",
       "      <th>3</th>\n",
       "      <th>4</th>\n",
       "      <th>5</th>\n",
       "      <th>6</th>\n",
       "      <th>7</th>\n",
       "      <th>...</th>\n",
       "      <th>9</th>\n",
       "      <th>10</th>\n",
       "      <th>11</th>\n",
       "      <th>12</th>\n",
       "      <th>13</th>\n",
       "      <th>14</th>\n",
       "      <th>15</th>\n",
       "      <th>16</th>\n",
       "      <th>17</th>\n",
       "      <th>18</th>\n",
       "    </tr>\n",
       "  </thead>\n",
       "  <tbody>\n",
       "    <tr>\n",
       "      <th>0</th>\n",
       "      <td>/tmp/tmpMYGkLN</td>\n",
       "      <td>0</td>\n",
       "      <td>Monooxygenase_B</td>\n",
       "      <td>PF04744.11</td>\n",
       "      <td>Ga0073928_1000008053</td>\n",
       "      <td>-</td>\n",
       "      <td>1.3e-05</td>\n",
       "      <td>11.8</td>\n",
       "      <td>0.0</td>\n",
       "      <td>1.6e-05</td>\n",
       "      <td>...</td>\n",
       "      <td>0.0</td>\n",
       "      <td>1.0</td>\n",
       "      <td>1</td>\n",
       "      <td>0</td>\n",
       "      <td>0</td>\n",
       "      <td>1</td>\n",
       "      <td>1</td>\n",
       "      <td>1</td>\n",
       "      <td>1</td>\n",
       "      <td>Monooxygenase subunit B protein</td>\n",
       "    </tr>\n",
       "    <tr>\n",
       "      <th>1</th>\n",
       "      <td>/tmp/tmp9y2d9e</td>\n",
       "      <td>1</td>\n",
       "      <td>Monooxygenase_B</td>\n",
       "      <td>PF04744.11</td>\n",
       "      <td>Ga0073928_1000028111</td>\n",
       "      <td>-</td>\n",
       "      <td>0.0021</td>\n",
       "      <td>4.6</td>\n",
       "      <td>6.9</td>\n",
       "      <td>0.00044</td>\n",
       "      <td>...</td>\n",
       "      <td>3.1</td>\n",
       "      <td>1.6</td>\n",
       "      <td>2</td>\n",
       "      <td>0</td>\n",
       "      <td>0</td>\n",
       "      <td>2</td>\n",
       "      <td>2</td>\n",
       "      <td>2</td>\n",
       "      <td>1</td>\n",
       "      <td>Monooxygenase subunit B protein</td>\n",
       "    </tr>\n",
       "    <tr>\n",
       "      <th>2</th>\n",
       "      <td>/tmp/tmpROJKzH</td>\n",
       "      <td>2</td>\n",
       "      <td>AmoC</td>\n",
       "      <td>PF04896.11</td>\n",
       "      <td>Ga0073928_1000040165</td>\n",
       "      <td>-</td>\n",
       "      <td>1.8e-05</td>\n",
       "      <td>11.8</td>\n",
       "      <td>0.5</td>\n",
       "      <td>2.9e-05</td>\n",
       "      <td>...</td>\n",
       "      <td>0.5</td>\n",
       "      <td>1.3</td>\n",
       "      <td>1</td>\n",
       "      <td>0</td>\n",
       "      <td>0</td>\n",
       "      <td>1</td>\n",
       "      <td>1</td>\n",
       "      <td>1</td>\n",
       "      <td>1</td>\n",
       "      <td>Ammonia monooxygenase/methane monooxygenase, s...</td>\n",
       "    </tr>\n",
       "    <tr>\n",
       "      <th>3</th>\n",
       "      <td>/tmp/tmpROJKzH</td>\n",
       "      <td>2</td>\n",
       "      <td>AmoC</td>\n",
       "      <td>PF04896.11</td>\n",
       "      <td>Ga0073928_100004499</td>\n",
       "      <td>-</td>\n",
       "      <td>4.3e-06</td>\n",
       "      <td>13.8</td>\n",
       "      <td>0.2</td>\n",
       "      <td>4.6e-06</td>\n",
       "      <td>...</td>\n",
       "      <td>0.2</td>\n",
       "      <td>1.0</td>\n",
       "      <td>1</td>\n",
       "      <td>0</td>\n",
       "      <td>0</td>\n",
       "      <td>1</td>\n",
       "      <td>1</td>\n",
       "      <td>1</td>\n",
       "      <td>1</td>\n",
       "      <td>Ammonia monooxygenase/methane monooxygenase, s...</td>\n",
       "    </tr>\n",
       "    <tr>\n",
       "      <th>4</th>\n",
       "      <td>/tmp/tmpROJKzH</td>\n",
       "      <td>2</td>\n",
       "      <td>Monooxygenase_B</td>\n",
       "      <td>PF04744.11</td>\n",
       "      <td>Ga0073928_1000054854</td>\n",
       "      <td>-</td>\n",
       "      <td>9.1e-99</td>\n",
       "      <td>318.4</td>\n",
       "      <td>0.6</td>\n",
       "      <td>1.1e-98</td>\n",
       "      <td>...</td>\n",
       "      <td>0.6</td>\n",
       "      <td>1.0</td>\n",
       "      <td>1</td>\n",
       "      <td>0</td>\n",
       "      <td>0</td>\n",
       "      <td>1</td>\n",
       "      <td>1</td>\n",
       "      <td>1</td>\n",
       "      <td>1</td>\n",
       "      <td>Monooxygenase subunit B protein</td>\n",
       "    </tr>\n",
       "  </tbody>\n",
       "</table>\n",
       "<p>5 rows × 21 columns</p>\n",
       "</div>"
      ],
      "text/plain": [
       "       query file  label                0           1                     2  \\\n",
       "0  /tmp/tmpMYGkLN      0  Monooxygenase_B  PF04744.11  Ga0073928_1000008053   \n",
       "1  /tmp/tmp9y2d9e      1  Monooxygenase_B  PF04744.11  Ga0073928_1000028111   \n",
       "2  /tmp/tmpROJKzH      2             AmoC  PF04896.11  Ga0073928_1000040165   \n",
       "3  /tmp/tmpROJKzH      2             AmoC  PF04896.11   Ga0073928_100004499   \n",
       "4  /tmp/tmpROJKzH      2  Monooxygenase_B  PF04744.11  Ga0073928_1000054854   \n",
       "\n",
       "   3        4      5    6        7  \\\n",
       "0  -  1.3e-05   11.8  0.0  1.6e-05   \n",
       "1  -   0.0021    4.6  6.9  0.00044   \n",
       "2  -  1.8e-05   11.8  0.5  2.9e-05   \n",
       "3  -  4.3e-06   13.8  0.2  4.6e-06   \n",
       "4  -  9.1e-99  318.4  0.6  1.1e-98   \n",
       "\n",
       "                         ...                            9   10 11 12 13 14 15  \\\n",
       "0                        ...                          0.0  1.0  1  0  0  1  1   \n",
       "1                        ...                          3.1  1.6  2  0  0  2  2   \n",
       "2                        ...                          0.5  1.3  1  0  0  1  1   \n",
       "3                        ...                          0.2  1.0  1  0  0  1  1   \n",
       "4                        ...                          0.6  1.0  1  0  0  1  1   \n",
       "\n",
       "  16 17                                                 18  \n",
       "0  1  1                    Monooxygenase subunit B protein  \n",
       "1  2  1                    Monooxygenase subunit B protein  \n",
       "2  1  1  Ammonia monooxygenase/methane monooxygenase, s...  \n",
       "3  1  1  Ammonia monooxygenase/methane monooxygenase, s...  \n",
       "4  1  1                    Monooxygenase subunit B protein  \n",
       "\n",
       "[5 rows x 21 columns]"
      ]
     },
     "execution_count": 184,
     "metadata": {},
     "output_type": "execute_result"
    }
   ],
   "source": [
    "df_scramb.head()"
   ]
  },
  {
   "cell_type": "code",
   "execution_count": null,
   "metadata": {
    "collapsed": true
   },
   "outputs": [],
   "source": []
  },
  {
   "cell_type": "code",
   "execution_count": 1006,
   "metadata": {
    "collapsed": true
   },
   "outputs": [],
   "source": [
    "fragment=\"\"\"# target name        accession  query name           accession    E-value  score  bias   E-value  score  bias   exp reg clu  ov env dom rep inc description of target\n",
    "#------------------- ---------- -------------------- ---------- --------- ------ ----- --------- ------ -----   --- --- --- --- --- --- --- --- ---------------------\n",
    "Monooxygenase_B      PF04744.11 Ga0073928_1000008053 -            1.3e-05   11.8   0.0   1.6e-05   11.5   0.0   1.0   1   0   0   1   1   1   1 Monooxygenase subunit B protein\n",
    "#\n",
    "# Program:         hmmscan\n",
    "# Version:         3.1b2 (February 2015)\n",
    "# Pipeline mode:   SCAN\n",
    "# Query file:      /tmp/tmpkdKejz\n",
    "# Target file:     ../amoCAB\n",
    "# Option settings: hmmscan -o /dev/null --tblout /dev/fd/61 --noali --cpu 1 ../amoCAB /tmp/tmpkdKejz \n",
    "# Current dir:     /media/andriy/5E8D984477029FC2/scripts/operon_finder/gen_func_file_parsing\n",
    "# Date:            Thu Oct  5 22:29:52 2017\n",
    "# [ok]\n",
    "\n",
    "\"\"\""
   ]
  },
  {
   "cell_type": "code",
   "execution_count": null,
   "metadata": {
    "collapsed": false
   },
   "outputs": [],
   "source": []
  },
  {
   "cell_type": "code",
   "execution_count": null,
   "metadata": {
    "collapsed": true
   },
   "outputs": [],
   "source": []
  },
  {
   "cell_type": "code",
   "execution_count": null,
   "metadata": {
    "collapsed": true
   },
   "outputs": [],
   "source": []
  },
  {
   "cell_type": "code",
   "execution_count": null,
   "metadata": {
    "collapsed": true
   },
   "outputs": [],
   "source": []
  },
  {
   "cell_type": "code",
   "execution_count": 1089,
   "metadata": {
    "collapsed": false
   },
   "outputs": [],
   "source": [
    "#df_scramb"
   ]
  },
  {
   "cell_type": "code",
   "execution_count": 22,
   "metadata": {
    "collapsed": false
   },
   "outputs": [],
   "source": [
    "#df"
   ]
  },
  {
   "cell_type": "code",
   "execution_count": 24,
   "metadata": {
    "collapsed": false
   },
   "outputs": [],
   "source": [
    "#df2[18][0]"
   ]
  },
  {
   "cell_type": "code",
   "execution_count": 803,
   "metadata": {
    "collapsed": false
   },
   "outputs": [
    {
     "data": {
      "text/html": [
       "<div>\n",
       "<table border=\"1\" class=\"dataframe\">\n",
       "  <thead>\n",
       "    <tr style=\"text-align: right;\">\n",
       "      <th></th>\n",
       "      <th>0</th>\n",
       "      <th>1</th>\n",
       "      <th>2</th>\n",
       "      <th>3</th>\n",
       "      <th>4</th>\n",
       "      <th>5</th>\n",
       "      <th>6</th>\n",
       "      <th>7</th>\n",
       "      <th>8</th>\n",
       "      <th>9</th>\n",
       "      <th>10</th>\n",
       "      <th>11</th>\n",
       "      <th>12</th>\n",
       "      <th>13</th>\n",
       "      <th>14</th>\n",
       "      <th>15</th>\n",
       "      <th>16</th>\n",
       "      <th>17</th>\n",
       "      <th>18</th>\n",
       "    </tr>\n",
       "  </thead>\n",
       "  <tbody>\n",
       "    <tr>\n",
       "      <th>0</th>\n",
       "      <td>True</td>\n",
       "      <td>True</td>\n",
       "      <td>True</td>\n",
       "      <td>True</td>\n",
       "      <td>True</td>\n",
       "      <td>True</td>\n",
       "      <td>True</td>\n",
       "      <td>True</td>\n",
       "      <td>True</td>\n",
       "      <td>True</td>\n",
       "      <td>True</td>\n",
       "      <td>True</td>\n",
       "      <td>True</td>\n",
       "      <td>True</td>\n",
       "      <td>True</td>\n",
       "      <td>True</td>\n",
       "      <td>True</td>\n",
       "      <td>True</td>\n",
       "      <td>True</td>\n",
       "    </tr>\n",
       "    <tr>\n",
       "      <th>1</th>\n",
       "      <td>True</td>\n",
       "      <td>True</td>\n",
       "      <td>True</td>\n",
       "      <td>True</td>\n",
       "      <td>True</td>\n",
       "      <td>True</td>\n",
       "      <td>True</td>\n",
       "      <td>True</td>\n",
       "      <td>True</td>\n",
       "      <td>True</td>\n",
       "      <td>True</td>\n",
       "      <td>True</td>\n",
       "      <td>True</td>\n",
       "      <td>True</td>\n",
       "      <td>True</td>\n",
       "      <td>True</td>\n",
       "      <td>True</td>\n",
       "      <td>True</td>\n",
       "      <td>True</td>\n",
       "    </tr>\n",
       "    <tr>\n",
       "      <th>2</th>\n",
       "      <td>True</td>\n",
       "      <td>True</td>\n",
       "      <td>True</td>\n",
       "      <td>True</td>\n",
       "      <td>True</td>\n",
       "      <td>True</td>\n",
       "      <td>True</td>\n",
       "      <td>True</td>\n",
       "      <td>True</td>\n",
       "      <td>True</td>\n",
       "      <td>True</td>\n",
       "      <td>True</td>\n",
       "      <td>True</td>\n",
       "      <td>True</td>\n",
       "      <td>True</td>\n",
       "      <td>True</td>\n",
       "      <td>True</td>\n",
       "      <td>True</td>\n",
       "      <td>True</td>\n",
       "    </tr>\n",
       "    <tr>\n",
       "      <th>3</th>\n",
       "      <td>True</td>\n",
       "      <td>True</td>\n",
       "      <td>True</td>\n",
       "      <td>True</td>\n",
       "      <td>True</td>\n",
       "      <td>True</td>\n",
       "      <td>True</td>\n",
       "      <td>True</td>\n",
       "      <td>True</td>\n",
       "      <td>True</td>\n",
       "      <td>True</td>\n",
       "      <td>True</td>\n",
       "      <td>True</td>\n",
       "      <td>True</td>\n",
       "      <td>True</td>\n",
       "      <td>True</td>\n",
       "      <td>True</td>\n",
       "      <td>True</td>\n",
       "      <td>True</td>\n",
       "    </tr>\n",
       "    <tr>\n",
       "      <th>4</th>\n",
       "      <td>True</td>\n",
       "      <td>True</td>\n",
       "      <td>True</td>\n",
       "      <td>True</td>\n",
       "      <td>True</td>\n",
       "      <td>True</td>\n",
       "      <td>True</td>\n",
       "      <td>True</td>\n",
       "      <td>True</td>\n",
       "      <td>True</td>\n",
       "      <td>True</td>\n",
       "      <td>True</td>\n",
       "      <td>True</td>\n",
       "      <td>True</td>\n",
       "      <td>True</td>\n",
       "      <td>True</td>\n",
       "      <td>True</td>\n",
       "      <td>True</td>\n",
       "      <td>True</td>\n",
       "    </tr>\n",
       "    <tr>\n",
       "      <th>5</th>\n",
       "      <td>True</td>\n",
       "      <td>True</td>\n",
       "      <td>True</td>\n",
       "      <td>True</td>\n",
       "      <td>True</td>\n",
       "      <td>True</td>\n",
       "      <td>True</td>\n",
       "      <td>True</td>\n",
       "      <td>True</td>\n",
       "      <td>True</td>\n",
       "      <td>True</td>\n",
       "      <td>True</td>\n",
       "      <td>True</td>\n",
       "      <td>True</td>\n",
       "      <td>True</td>\n",
       "      <td>True</td>\n",
       "      <td>True</td>\n",
       "      <td>True</td>\n",
       "      <td>True</td>\n",
       "    </tr>\n",
       "    <tr>\n",
       "      <th>6</th>\n",
       "      <td>True</td>\n",
       "      <td>True</td>\n",
       "      <td>True</td>\n",
       "      <td>True</td>\n",
       "      <td>True</td>\n",
       "      <td>True</td>\n",
       "      <td>True</td>\n",
       "      <td>True</td>\n",
       "      <td>True</td>\n",
       "      <td>True</td>\n",
       "      <td>True</td>\n",
       "      <td>True</td>\n",
       "      <td>True</td>\n",
       "      <td>True</td>\n",
       "      <td>True</td>\n",
       "      <td>True</td>\n",
       "      <td>True</td>\n",
       "      <td>True</td>\n",
       "      <td>True</td>\n",
       "    </tr>\n",
       "    <tr>\n",
       "      <th>7</th>\n",
       "      <td>True</td>\n",
       "      <td>True</td>\n",
       "      <td>True</td>\n",
       "      <td>True</td>\n",
       "      <td>True</td>\n",
       "      <td>True</td>\n",
       "      <td>True</td>\n",
       "      <td>True</td>\n",
       "      <td>True</td>\n",
       "      <td>True</td>\n",
       "      <td>True</td>\n",
       "      <td>True</td>\n",
       "      <td>True</td>\n",
       "      <td>True</td>\n",
       "      <td>True</td>\n",
       "      <td>True</td>\n",
       "      <td>True</td>\n",
       "      <td>True</td>\n",
       "      <td>True</td>\n",
       "    </tr>\n",
       "    <tr>\n",
       "      <th>8</th>\n",
       "      <td>True</td>\n",
       "      <td>True</td>\n",
       "      <td>True</td>\n",
       "      <td>True</td>\n",
       "      <td>True</td>\n",
       "      <td>True</td>\n",
       "      <td>True</td>\n",
       "      <td>True</td>\n",
       "      <td>True</td>\n",
       "      <td>True</td>\n",
       "      <td>True</td>\n",
       "      <td>True</td>\n",
       "      <td>True</td>\n",
       "      <td>True</td>\n",
       "      <td>True</td>\n",
       "      <td>True</td>\n",
       "      <td>True</td>\n",
       "      <td>True</td>\n",
       "      <td>True</td>\n",
       "    </tr>\n",
       "    <tr>\n",
       "      <th>9</th>\n",
       "      <td>True</td>\n",
       "      <td>True</td>\n",
       "      <td>True</td>\n",
       "      <td>True</td>\n",
       "      <td>True</td>\n",
       "      <td>True</td>\n",
       "      <td>True</td>\n",
       "      <td>True</td>\n",
       "      <td>True</td>\n",
       "      <td>True</td>\n",
       "      <td>True</td>\n",
       "      <td>True</td>\n",
       "      <td>True</td>\n",
       "      <td>True</td>\n",
       "      <td>True</td>\n",
       "      <td>True</td>\n",
       "      <td>True</td>\n",
       "      <td>True</td>\n",
       "      <td>True</td>\n",
       "    </tr>\n",
       "    <tr>\n",
       "      <th>10</th>\n",
       "      <td>True</td>\n",
       "      <td>True</td>\n",
       "      <td>True</td>\n",
       "      <td>True</td>\n",
       "      <td>True</td>\n",
       "      <td>True</td>\n",
       "      <td>True</td>\n",
       "      <td>True</td>\n",
       "      <td>True</td>\n",
       "      <td>True</td>\n",
       "      <td>True</td>\n",
       "      <td>True</td>\n",
       "      <td>True</td>\n",
       "      <td>True</td>\n",
       "      <td>True</td>\n",
       "      <td>True</td>\n",
       "      <td>True</td>\n",
       "      <td>True</td>\n",
       "      <td>True</td>\n",
       "    </tr>\n",
       "    <tr>\n",
       "      <th>11</th>\n",
       "      <td>True</td>\n",
       "      <td>True</td>\n",
       "      <td>True</td>\n",
       "      <td>True</td>\n",
       "      <td>True</td>\n",
       "      <td>True</td>\n",
       "      <td>True</td>\n",
       "      <td>True</td>\n",
       "      <td>True</td>\n",
       "      <td>True</td>\n",
       "      <td>True</td>\n",
       "      <td>True</td>\n",
       "      <td>True</td>\n",
       "      <td>True</td>\n",
       "      <td>True</td>\n",
       "      <td>True</td>\n",
       "      <td>True</td>\n",
       "      <td>True</td>\n",
       "      <td>True</td>\n",
       "    </tr>\n",
       "    <tr>\n",
       "      <th>12</th>\n",
       "      <td>True</td>\n",
       "      <td>True</td>\n",
       "      <td>True</td>\n",
       "      <td>True</td>\n",
       "      <td>True</td>\n",
       "      <td>True</td>\n",
       "      <td>True</td>\n",
       "      <td>True</td>\n",
       "      <td>True</td>\n",
       "      <td>True</td>\n",
       "      <td>True</td>\n",
       "      <td>True</td>\n",
       "      <td>True</td>\n",
       "      <td>True</td>\n",
       "      <td>True</td>\n",
       "      <td>True</td>\n",
       "      <td>True</td>\n",
       "      <td>True</td>\n",
       "      <td>True</td>\n",
       "    </tr>\n",
       "  </tbody>\n",
       "</table>\n",
       "</div>"
      ],
      "text/plain": [
       "      0     1     2     3     4     5     6     7     8     9     10    11  \\\n",
       "0   True  True  True  True  True  True  True  True  True  True  True  True   \n",
       "1   True  True  True  True  True  True  True  True  True  True  True  True   \n",
       "2   True  True  True  True  True  True  True  True  True  True  True  True   \n",
       "3   True  True  True  True  True  True  True  True  True  True  True  True   \n",
       "4   True  True  True  True  True  True  True  True  True  True  True  True   \n",
       "5   True  True  True  True  True  True  True  True  True  True  True  True   \n",
       "6   True  True  True  True  True  True  True  True  True  True  True  True   \n",
       "7   True  True  True  True  True  True  True  True  True  True  True  True   \n",
       "8   True  True  True  True  True  True  True  True  True  True  True  True   \n",
       "9   True  True  True  True  True  True  True  True  True  True  True  True   \n",
       "10  True  True  True  True  True  True  True  True  True  True  True  True   \n",
       "11  True  True  True  True  True  True  True  True  True  True  True  True   \n",
       "12  True  True  True  True  True  True  True  True  True  True  True  True   \n",
       "\n",
       "      12    13    14    15    16    17    18  \n",
       "0   True  True  True  True  True  True  True  \n",
       "1   True  True  True  True  True  True  True  \n",
       "2   True  True  True  True  True  True  True  \n",
       "3   True  True  True  True  True  True  True  \n",
       "4   True  True  True  True  True  True  True  \n",
       "5   True  True  True  True  True  True  True  \n",
       "6   True  True  True  True  True  True  True  \n",
       "7   True  True  True  True  True  True  True  \n",
       "8   True  True  True  True  True  True  True  \n",
       "9   True  True  True  True  True  True  True  \n",
       "10  True  True  True  True  True  True  True  \n",
       "11  True  True  True  True  True  True  True  \n",
       "12  True  True  True  True  True  True  True  "
      ]
     },
     "execution_count": 803,
     "metadata": {},
     "output_type": "execute_result"
    }
   ],
   "source": [
    "df==df2"
   ]
  },
  {
   "cell_type": "code",
   "execution_count": 14,
   "metadata": {
    "collapsed": false
   },
   "outputs": [
    {
     "data": {
      "text/html": [
       "<div>\n",
       "<table border=\"1\" class=\"dataframe\">\n",
       "  <thead>\n",
       "    <tr style=\"text-align: right;\">\n",
       "      <th></th>\n",
       "      <th>query file</th>\n",
       "      <th>label</th>\n",
       "      <th>0</th>\n",
       "      <th>1</th>\n",
       "      <th>2</th>\n",
       "      <th>3</th>\n",
       "      <th>4</th>\n",
       "      <th>5</th>\n",
       "      <th>6</th>\n",
       "      <th>7</th>\n",
       "      <th>...</th>\n",
       "      <th>9</th>\n",
       "      <th>10</th>\n",
       "      <th>11</th>\n",
       "      <th>12</th>\n",
       "      <th>13</th>\n",
       "      <th>14</th>\n",
       "      <th>15</th>\n",
       "      <th>16</th>\n",
       "      <th>17</th>\n",
       "      <th>18</th>\n",
       "    </tr>\n",
       "  </thead>\n",
       "  <tbody>\n",
       "    <tr>\n",
       "      <th>0</th>\n",
       "      <td>/tmp/tmpMYGkLN</td>\n",
       "      <td>0</td>\n",
       "      <td>Monooxygenase_B</td>\n",
       "      <td>PF04744.11</td>\n",
       "      <td>Ga0073928_1000008053</td>\n",
       "      <td>-</td>\n",
       "      <td>1.3e-05</td>\n",
       "      <td>11.8</td>\n",
       "      <td>0.0</td>\n",
       "      <td>1.6e-05</td>\n",
       "      <td>...</td>\n",
       "      <td>0.0</td>\n",
       "      <td>1.0</td>\n",
       "      <td>1</td>\n",
       "      <td>0</td>\n",
       "      <td>0</td>\n",
       "      <td>1</td>\n",
       "      <td>1</td>\n",
       "      <td>1</td>\n",
       "      <td>1</td>\n",
       "      <td>Monooxygenase subunit B protein</td>\n",
       "    </tr>\n",
       "    <tr>\n",
       "      <th>1</th>\n",
       "      <td>/tmp/tmp9y2d9e</td>\n",
       "      <td>1</td>\n",
       "      <td>Monooxygenase_B</td>\n",
       "      <td>PF04744.11</td>\n",
       "      <td>Ga0073928_1000028111</td>\n",
       "      <td>-</td>\n",
       "      <td>0.0021</td>\n",
       "      <td>4.6</td>\n",
       "      <td>6.9</td>\n",
       "      <td>0.00044</td>\n",
       "      <td>...</td>\n",
       "      <td>3.1</td>\n",
       "      <td>1.6</td>\n",
       "      <td>2</td>\n",
       "      <td>0</td>\n",
       "      <td>0</td>\n",
       "      <td>2</td>\n",
       "      <td>2</td>\n",
       "      <td>2</td>\n",
       "      <td>1</td>\n",
       "      <td>Monooxygenase subunit B protein</td>\n",
       "    </tr>\n",
       "    <tr>\n",
       "      <th>2</th>\n",
       "      <td>/tmp/tmpROJKzH</td>\n",
       "      <td>2</td>\n",
       "      <td>AmoC</td>\n",
       "      <td>PF04896.11</td>\n",
       "      <td>Ga0073928_1000040165</td>\n",
       "      <td>-</td>\n",
       "      <td>1.8e-05</td>\n",
       "      <td>11.8</td>\n",
       "      <td>0.5</td>\n",
       "      <td>2.9e-05</td>\n",
       "      <td>...</td>\n",
       "      <td>0.5</td>\n",
       "      <td>1.3</td>\n",
       "      <td>1</td>\n",
       "      <td>0</td>\n",
       "      <td>0</td>\n",
       "      <td>1</td>\n",
       "      <td>1</td>\n",
       "      <td>1</td>\n",
       "      <td>1</td>\n",
       "      <td>Ammonia monooxygenase/methane monooxygenase, s...</td>\n",
       "    </tr>\n",
       "    <tr>\n",
       "      <th>3</th>\n",
       "      <td>/tmp/tmpROJKzH</td>\n",
       "      <td>2</td>\n",
       "      <td>AmoC</td>\n",
       "      <td>PF04896.11</td>\n",
       "      <td>Ga0073928_100004499</td>\n",
       "      <td>-</td>\n",
       "      <td>4.3e-06</td>\n",
       "      <td>13.8</td>\n",
       "      <td>0.2</td>\n",
       "      <td>4.6e-06</td>\n",
       "      <td>...</td>\n",
       "      <td>0.2</td>\n",
       "      <td>1.0</td>\n",
       "      <td>1</td>\n",
       "      <td>0</td>\n",
       "      <td>0</td>\n",
       "      <td>1</td>\n",
       "      <td>1</td>\n",
       "      <td>1</td>\n",
       "      <td>1</td>\n",
       "      <td>Ammonia monooxygenase/methane monooxygenase, s...</td>\n",
       "    </tr>\n",
       "    <tr>\n",
       "      <th>4</th>\n",
       "      <td>/tmp/tmpROJKzH</td>\n",
       "      <td>2</td>\n",
       "      <td>Monooxygenase_B</td>\n",
       "      <td>PF04744.11</td>\n",
       "      <td>Ga0073928_1000054854</td>\n",
       "      <td>-</td>\n",
       "      <td>9.1e-99</td>\n",
       "      <td>318.4</td>\n",
       "      <td>0.6</td>\n",
       "      <td>1.1e-98</td>\n",
       "      <td>...</td>\n",
       "      <td>0.6</td>\n",
       "      <td>1.0</td>\n",
       "      <td>1</td>\n",
       "      <td>0</td>\n",
       "      <td>0</td>\n",
       "      <td>1</td>\n",
       "      <td>1</td>\n",
       "      <td>1</td>\n",
       "      <td>1</td>\n",
       "      <td>Monooxygenase subunit B protein</td>\n",
       "    </tr>\n",
       "  </tbody>\n",
       "</table>\n",
       "<p>5 rows × 21 columns</p>\n",
       "</div>"
      ],
      "text/plain": [
       "       query file  label                0           1                     2  \\\n",
       "0  /tmp/tmpMYGkLN      0  Monooxygenase_B  PF04744.11  Ga0073928_1000008053   \n",
       "1  /tmp/tmp9y2d9e      1  Monooxygenase_B  PF04744.11  Ga0073928_1000028111   \n",
       "2  /tmp/tmpROJKzH      2             AmoC  PF04896.11  Ga0073928_1000040165   \n",
       "3  /tmp/tmpROJKzH      2             AmoC  PF04896.11   Ga0073928_100004499   \n",
       "4  /tmp/tmpROJKzH      2  Monooxygenase_B  PF04744.11  Ga0073928_1000054854   \n",
       "\n",
       "   3        4      5    6        7  \\\n",
       "0  -  1.3e-05   11.8  0.0  1.6e-05   \n",
       "1  -   0.0021    4.6  6.9  0.00044   \n",
       "2  -  1.8e-05   11.8  0.5  2.9e-05   \n",
       "3  -  4.3e-06   13.8  0.2  4.6e-06   \n",
       "4  -  9.1e-99  318.4  0.6  1.1e-98   \n",
       "\n",
       "                         ...                            9   10 11 12 13 14 15  \\\n",
       "0                        ...                          0.0  1.0  1  0  0  1  1   \n",
       "1                        ...                          3.1  1.6  2  0  0  2  2   \n",
       "2                        ...                          0.5  1.3  1  0  0  1  1   \n",
       "3                        ...                          0.2  1.0  1  0  0  1  1   \n",
       "4                        ...                          0.6  1.0  1  0  0  1  1   \n",
       "\n",
       "  16 17                                                 18  \n",
       "0  1  1                    Monooxygenase subunit B protein  \n",
       "1  2  1                    Monooxygenase subunit B protein  \n",
       "2  1  1  Ammonia monooxygenase/methane monooxygenase, s...  \n",
       "3  1  1  Ammonia monooxygenase/methane monooxygenase, s...  \n",
       "4  1  1                    Monooxygenase subunit B protein  \n",
       "\n",
       "[5 rows x 21 columns]"
      ]
     },
     "execution_count": 14,
     "metadata": {},
     "output_type": "execute_result"
    }
   ],
   "source": [
    "df_scramb.head()"
   ]
  },
  {
   "cell_type": "code",
   "execution_count": 249,
   "metadata": {
    "collapsed": false
   },
   "outputs": [],
   "source": [
    "# def sizes(s):\n",
    "#     s['size_kb'] = locale.format(\"%.1f\", s['size'] / 1024.0, grouping=True) + ' KB'\n",
    "#     s['size_mb'] = locale.format(\"%.1f\", s['size'] / 1024.0 ** 2, grouping=True) + ' MB'\n",
    "#     s['size_gb'] = locale.format(\"%.1f\", s['size'] / 1024.0 ** 3, grouping=True) + ' GB'\n",
    "#     return s\n",
    "\n",
    "# df_test = df_test.append(rows_list)\n",
    "# df_test = df_test.apply(sizes, axis=1)"
   ]
  },
  {
   "cell_type": "code",
   "execution_count": 285,
   "metadata": {
    "collapsed": false
   },
   "outputs": [
    {
     "data": {
      "text/plain": [
       "'group_4.fasta'"
      ]
     },
     "execution_count": 285,
     "metadata": {},
     "output_type": "execute_result"
    }
   ],
   "source": [
    "files2['/tmp/tmp4h4Gou']"
   ]
  },
  {
   "cell_type": "code",
   "execution_count": null,
   "metadata": {
    "collapsed": true
   },
   "outputs": [],
   "source": []
  },
  {
   "cell_type": "code",
   "execution_count": null,
   "metadata": {
    "collapsed": true
   },
   "outputs": [],
   "source": []
  },
  {
   "cell_type": "markdown",
   "metadata": {},
   "source": [
    "# Putting it all together"
   ]
  },
  {
   "cell_type": "markdown",
   "metadata": {},
   "source": [
    "## Split file version - needs a fix"
   ]
  },
  {
   "cell_type": "code",
   "execution_count": null,
   "metadata": {
    "collapsed": true
   },
   "outputs": [],
   "source": []
  },
  {
   "cell_type": "code",
   "execution_count": 27,
   "metadata": {
    "collapsed": false
   },
   "outputs": [
    {
     "ename": "NameError",
     "evalue": "name 'filename' is not defined",
     "output_type": "error",
     "traceback": [
      "\u001b[1;31m---------------------------------------------------------------------------\u001b[0m",
      "\u001b[1;31mNameError\u001b[0m                                 Traceback (most recent call last)",
      "\u001b[1;32m<ipython-input-27-d7862759f93e>\u001b[0m in \u001b[0;36m<module>\u001b[1;34m()\u001b[0m\n\u001b[1;32m----> 1\u001b[1;33m \u001b[0mfilename\u001b[0m\u001b[1;33m\u001b[0m\u001b[0m\n\u001b[0m",
      "\u001b[1;31mNameError\u001b[0m: name 'filename' is not defined"
     ]
    }
   ],
   "source": [
    "filename"
   ]
  },
  {
   "cell_type": "code",
   "execution_count": 1091,
   "metadata": {
    "collapsed": false
   },
   "outputs": [],
   "source": [
    "#df_scramb"
   ]
  },
  {
   "cell_type": "code",
   "execution_count": null,
   "metadata": {
    "collapsed": true
   },
   "outputs": [],
   "source": []
  },
  {
   "cell_type": "markdown",
   "metadata": {},
   "source": [
    "### A rookie fix with scanning the entire mg1 instead of combining chunks"
   ]
  },
  {
   "cell_type": "code",
   "execution_count": 15,
   "metadata": {
    "collapsed": true
   },
   "outputs": [],
   "source": [
    "filename='../76969.assembled.faa'"
   ]
  },
  {
   "cell_type": "code",
   "execution_count": null,
   "metadata": {
    "collapsed": true
   },
   "outputs": [],
   "source": []
  },
  {
   "cell_type": "code",
   "execution_count": 16,
   "metadata": {
    "collapsed": false
   },
   "outputs": [],
   "source": [
    "\n",
    "\n",
    "#names"
   ]
  },
  {
   "cell_type": "code",
   "execution_count": null,
   "metadata": {
    "collapsed": true
   },
   "outputs": [],
   "source": []
  },
  {
   "cell_type": "code",
   "execution_count": 17,
   "metadata": {
    "collapsed": false
   },
   "outputs": [],
   "source": [
    "def extractFeatures(ids):\n",
    "    features=[]\n",
    "    pos=0\n",
    "    for record in SeqIO.parse(filename,\"fasta\"):\n",
    "        pos+=1\n",
    "        if record.name in ids:\n",
    "            features.append({'qid':record.id, 'position':pos, 'descr':record.description, 'seq':str(record.seq)})\n",
    "    return pd.DataFrame(features)\n",
    "\n",
    "def extractFeatures2(ids):#putting in a seq object instead of string\n",
    "    features=[]\n",
    "    pos=0\n",
    "    for record in SeqIO.parse(filename,\"fasta\"):\n",
    "        pos+=1\n",
    "        if record.name in ids:\n",
    "            features.append({'qid':record.id, 'position':pos, 'descr':record.description, 'seq':record})\n",
    "    return pd.DataFrame(features)\n",
    "\n",
    "def is_operon(x):\n",
    "    return x['diff1'] or x['diff2']\n",
    "\n",
    "def rel_coordinates(x):\n",
    "    if ((x['diff1'] < max_distance) or (x['diff2']) <max_distance):\n",
    "        return min(x['diff1'],x['diff2'])\n",
    "    else:\n",
    "        return 0\n",
    "\n",
    "#this function combines adjacent operons(fragments) into one\n",
    "def operonCount(lst):\n",
    "    opCnt=0\n",
    "    state=False\n",
    "    for i in xrange(len(lst)):\n",
    "        if lst[i]:\n",
    "            newState=True\n",
    "            if (state==False) and (newState==True):\n",
    "                opCnt+=1\n",
    "            lst[i]=opCnt\n",
    "            state=newState\n",
    "        else:\n",
    "            state=False\n",
    "    return lst\n",
    "\n",
    "#this function splits adjacent operons, based on distance\n",
    "#for the operons of large size it will artificially break it into pieces\n",
    "\n",
    "def operonCount2(lst, pos):\n",
    "    opCnt=0\n",
    "    state=False\n",
    "    position=0\n",
    "    \n",
    "    for i in xrange(len(lst)):\n",
    "        if lst[i]:\n",
    "            newState=True\n",
    "            #position=pos[i]\n",
    "            if (state==False) and (newState==True):\n",
    "                position=pos[i]\n",
    "                opCnt+=1\n",
    "            if (pos[i]>position+max_distance+min_operon_size+5):#!!! needs a fix so large operons won't be affected\n",
    "                opCnt+=1\n",
    "    \n",
    "            lst[i]=opCnt\n",
    "            state=newState\n",
    "        else:\n",
    "            state=False\n",
    "    return lst"
   ]
  },
  {
   "cell_type": "code",
   "execution_count": null,
   "metadata": {
    "collapsed": true
   },
   "outputs": [],
   "source": []
  },
  {
   "cell_type": "code",
   "execution_count": 18,
   "metadata": {
    "collapsed": false
   },
   "outputs": [
    {
     "data": {
      "text/html": [
       "<div>\n",
       "<table border=\"1\" class=\"dataframe\">\n",
       "  <thead>\n",
       "    <tr style=\"text-align: right;\">\n",
       "      <th></th>\n",
       "      <th>query file</th>\n",
       "      <th>label</th>\n",
       "      <th>0</th>\n",
       "      <th>1</th>\n",
       "      <th>2</th>\n",
       "      <th>3</th>\n",
       "      <th>4</th>\n",
       "      <th>5</th>\n",
       "      <th>6</th>\n",
       "      <th>7</th>\n",
       "      <th>...</th>\n",
       "      <th>13</th>\n",
       "      <th>14</th>\n",
       "      <th>15</th>\n",
       "      <th>16</th>\n",
       "      <th>17</th>\n",
       "      <th>18</th>\n",
       "      <th>descr</th>\n",
       "      <th>position</th>\n",
       "      <th>qid</th>\n",
       "      <th>seq</th>\n",
       "    </tr>\n",
       "  </thead>\n",
       "  <tbody>\n",
       "    <tr>\n",
       "      <th>0</th>\n",
       "      <td>/tmp/tmpMYGkLN</td>\n",
       "      <td>0</td>\n",
       "      <td>Monooxygenase_B</td>\n",
       "      <td>PF04744.11</td>\n",
       "      <td>Ga0073928_1000008053</td>\n",
       "      <td>-</td>\n",
       "      <td>1.3e-05</td>\n",
       "      <td>11.8</td>\n",
       "      <td>0.0</td>\n",
       "      <td>1.6e-05</td>\n",
       "      <td>...</td>\n",
       "      <td>0</td>\n",
       "      <td>1</td>\n",
       "      <td>1</td>\n",
       "      <td>1</td>\n",
       "      <td>1</td>\n",
       "      <td>Monooxygenase subunit B protein</td>\n",
       "      <td>Ga0073928_1000008053</td>\n",
       "      <td>25186</td>\n",
       "      <td>Ga0073928_1000008053</td>\n",
       "      <td>(M, R, N, W, L, P, P, V, L, I, L, L, I, A, G, ...</td>\n",
       "    </tr>\n",
       "    <tr>\n",
       "      <th>1</th>\n",
       "      <td>/tmp/tmp9y2d9e</td>\n",
       "      <td>1</td>\n",
       "      <td>Monooxygenase_B</td>\n",
       "      <td>PF04744.11</td>\n",
       "      <td>Ga0073928_1000028111</td>\n",
       "      <td>-</td>\n",
       "      <td>0.0021</td>\n",
       "      <td>4.6</td>\n",
       "      <td>6.9</td>\n",
       "      <td>0.00044</td>\n",
       "      <td>...</td>\n",
       "      <td>0</td>\n",
       "      <td>2</td>\n",
       "      <td>2</td>\n",
       "      <td>2</td>\n",
       "      <td>1</td>\n",
       "      <td>Monooxygenase subunit B protein</td>\n",
       "      <td>Ga0073928_1000028111</td>\n",
       "      <td>54949</td>\n",
       "      <td>Ga0073928_1000028111</td>\n",
       "      <td>(M, T, A, T, N, G, P, A, L, T, V, W, F, A, L, ...</td>\n",
       "    </tr>\n",
       "    <tr>\n",
       "      <th>2</th>\n",
       "      <td>/tmp/tmpROJKzH</td>\n",
       "      <td>2</td>\n",
       "      <td>AmoC</td>\n",
       "      <td>PF04896.11</td>\n",
       "      <td>Ga0073928_1000040165</td>\n",
       "      <td>-</td>\n",
       "      <td>1.8e-05</td>\n",
       "      <td>11.8</td>\n",
       "      <td>0.5</td>\n",
       "      <td>2.9e-05</td>\n",
       "      <td>...</td>\n",
       "      <td>0</td>\n",
       "      <td>1</td>\n",
       "      <td>1</td>\n",
       "      <td>1</td>\n",
       "      <td>1</td>\n",
       "      <td>Ammonia monooxygenase/methane monooxygenase, s...</td>\n",
       "      <td>Ga0073928_1000040165</td>\n",
       "      <td>67923</td>\n",
       "      <td>Ga0073928_1000040165</td>\n",
       "      <td>(L, R, P, L, T, L, S, R, L, L, T, H, C, A, I, ...</td>\n",
       "    </tr>\n",
       "    <tr>\n",
       "      <th>3</th>\n",
       "      <td>/tmp/tmpROJKzH</td>\n",
       "      <td>2</td>\n",
       "      <td>AmoC</td>\n",
       "      <td>PF04896.11</td>\n",
       "      <td>Ga0073928_100004499</td>\n",
       "      <td>-</td>\n",
       "      <td>4.3e-06</td>\n",
       "      <td>13.8</td>\n",
       "      <td>0.2</td>\n",
       "      <td>4.6e-06</td>\n",
       "      <td>...</td>\n",
       "      <td>0</td>\n",
       "      <td>1</td>\n",
       "      <td>1</td>\n",
       "      <td>1</td>\n",
       "      <td>1</td>\n",
       "      <td>Ammonia monooxygenase/methane monooxygenase, s...</td>\n",
       "      <td>Ga0073928_100004499</td>\n",
       "      <td>72299</td>\n",
       "      <td>Ga0073928_100004499</td>\n",
       "      <td>(M, E, Q, R, R, S, L, L, A, V, G, F, L, A, V, ...</td>\n",
       "    </tr>\n",
       "    <tr>\n",
       "      <th>4</th>\n",
       "      <td>/tmp/tmpROJKzH</td>\n",
       "      <td>2</td>\n",
       "      <td>Monooxygenase_B</td>\n",
       "      <td>PF04744.11</td>\n",
       "      <td>Ga0073928_1000054854</td>\n",
       "      <td>-</td>\n",
       "      <td>9.1e-99</td>\n",
       "      <td>318.4</td>\n",
       "      <td>0.6</td>\n",
       "      <td>1.1e-98</td>\n",
       "      <td>...</td>\n",
       "      <td>0</td>\n",
       "      <td>1</td>\n",
       "      <td>1</td>\n",
       "      <td>1</td>\n",
       "      <td>1</td>\n",
       "      <td>Monooxygenase subunit B protein</td>\n",
       "      <td>Ga0073928_1000054854</td>\n",
       "      <td>80785</td>\n",
       "      <td>Ga0073928_1000054854</td>\n",
       "      <td>(M, R, I, R, F, P, V, L, S, A, A, L, L, I, L, ...</td>\n",
       "    </tr>\n",
       "    <tr>\n",
       "      <th>5</th>\n",
       "      <td>/tmp/tmpROJKzH</td>\n",
       "      <td>2</td>\n",
       "      <td>AMO</td>\n",
       "      <td>PF02461.15</td>\n",
       "      <td>Ga0073928_1000054856</td>\n",
       "      <td>-</td>\n",
       "      <td>1.2e-66</td>\n",
       "      <td>212.6</td>\n",
       "      <td>23.8</td>\n",
       "      <td>1.4e-66</td>\n",
       "      <td>...</td>\n",
       "      <td>0</td>\n",
       "      <td>1</td>\n",
       "      <td>1</td>\n",
       "      <td>1</td>\n",
       "      <td>1</td>\n",
       "      <td>Ammonia monooxygenase</td>\n",
       "      <td>Ga0073928_1000054856</td>\n",
       "      <td>80787</td>\n",
       "      <td>Ga0073928_1000054856</td>\n",
       "      <td>(M, A, T, A, P, S, I, A, A, A, A, A, A, E, R, ...</td>\n",
       "    </tr>\n",
       "    <tr>\n",
       "      <th>6</th>\n",
       "      <td>/tmp/tmpROJKzH</td>\n",
       "      <td>2</td>\n",
       "      <td>AmoC</td>\n",
       "      <td>PF04896.11</td>\n",
       "      <td>Ga0073928_1000054857</td>\n",
       "      <td>-</td>\n",
       "      <td>1.4e-55</td>\n",
       "      <td>175.9</td>\n",
       "      <td>16.2</td>\n",
       "      <td>1.6e-55</td>\n",
       "      <td>...</td>\n",
       "      <td>0</td>\n",
       "      <td>1</td>\n",
       "      <td>1</td>\n",
       "      <td>1</td>\n",
       "      <td>1</td>\n",
       "      <td>Ammonia monooxygenase/methane monooxygenase, s...</td>\n",
       "      <td>Ga0073928_1000054857</td>\n",
       "      <td>80788</td>\n",
       "      <td>Ga0073928_1000054857</td>\n",
       "      <td>(M, R, S, M, E, E, V, A, A, G, R, P, P, T, G, ...</td>\n",
       "    </tr>\n",
       "    <tr>\n",
       "      <th>7</th>\n",
       "      <td>/tmp/tmpROJKzH</td>\n",
       "      <td>2</td>\n",
       "      <td>AmoC</td>\n",
       "      <td>PF04896.11</td>\n",
       "      <td>Ga0073928_1000062722</td>\n",
       "      <td>-</td>\n",
       "      <td>1.5e-06</td>\n",
       "      <td>15.3</td>\n",
       "      <td>1.6</td>\n",
       "      <td>3e-06</td>\n",
       "      <td>...</td>\n",
       "      <td>0</td>\n",
       "      <td>1</td>\n",
       "      <td>1</td>\n",
       "      <td>1</td>\n",
       "      <td>1</td>\n",
       "      <td>Ammonia monooxygenase/methane monooxygenase, s...</td>\n",
       "      <td>Ga0073928_1000062722</td>\n",
       "      <td>87047</td>\n",
       "      <td>Ga0073928_1000062722</td>\n",
       "      <td>(M, T, T, V, D, V, M, N, L, F, V, S, A, V, L, ...</td>\n",
       "    </tr>\n",
       "    <tr>\n",
       "      <th>8</th>\n",
       "      <td>/tmp/tmp3mChYx</td>\n",
       "      <td>3</td>\n",
       "      <td>AmoC</td>\n",
       "      <td>PF04896.11</td>\n",
       "      <td>Ga0073928_1000073153</td>\n",
       "      <td>-</td>\n",
       "      <td>3.6e-07</td>\n",
       "      <td>17.3</td>\n",
       "      <td>0.8</td>\n",
       "      <td>3.6e-07</td>\n",
       "      <td>...</td>\n",
       "      <td>0</td>\n",
       "      <td>2</td>\n",
       "      <td>2</td>\n",
       "      <td>2</td>\n",
       "      <td>1</td>\n",
       "      <td>Ammonia monooxygenase/methane monooxygenase, s...</td>\n",
       "      <td>Ga0073928_1000073153</td>\n",
       "      <td>94490</td>\n",
       "      <td>Ga0073928_1000073153</td>\n",
       "      <td>(M, P, A, P, S, R, L, S, E, I, D, V, T, R, G, ...</td>\n",
       "    </tr>\n",
       "    <tr>\n",
       "      <th>9</th>\n",
       "      <td>/tmp/tmp3mChYx</td>\n",
       "      <td>3</td>\n",
       "      <td>AmoC</td>\n",
       "      <td>PF04896.11</td>\n",
       "      <td>Ga0073928_1000110012</td>\n",
       "      <td>-</td>\n",
       "      <td>0.015</td>\n",
       "      <td>2.2</td>\n",
       "      <td>15.5</td>\n",
       "      <td>0.00011</td>\n",
       "      <td>...</td>\n",
       "      <td>0</td>\n",
       "      <td>3</td>\n",
       "      <td>3</td>\n",
       "      <td>3</td>\n",
       "      <td>0</td>\n",
       "      <td>Ammonia monooxygenase/methane monooxygenase, s...</td>\n",
       "      <td>Ga0073928_1000110012</td>\n",
       "      <td>116259</td>\n",
       "      <td>Ga0073928_1000110012</td>\n",
       "      <td>(M, S, S, A, A, S, A, P, A, A, L, E, V, S, S, ...</td>\n",
       "    </tr>\n",
       "    <tr>\n",
       "      <th>10</th>\n",
       "      <td>/tmp/tmp3mChYx</td>\n",
       "      <td>3</td>\n",
       "      <td>AmoC</td>\n",
       "      <td>PF04896.11</td>\n",
       "      <td>Ga0073928_1000113340</td>\n",
       "      <td>-</td>\n",
       "      <td>7e-06</td>\n",
       "      <td>13.1</td>\n",
       "      <td>6.3</td>\n",
       "      <td>6.5e-05</td>\n",
       "      <td>...</td>\n",
       "      <td>0</td>\n",
       "      <td>1</td>\n",
       "      <td>1</td>\n",
       "      <td>1</td>\n",
       "      <td>1</td>\n",
       "      <td>Ammonia monooxygenase/methane monooxygenase, s...</td>\n",
       "      <td>Ga0073928_1000113340</td>\n",
       "      <td>117995</td>\n",
       "      <td>Ga0073928_1000113340</td>\n",
       "      <td>(M, L, A, V, H, I, Q, L, T, I, V, A, T, F, F, ...</td>\n",
       "    </tr>\n",
       "    <tr>\n",
       "      <th>11</th>\n",
       "      <td>/tmp/tmp88DNcS</td>\n",
       "      <td>4</td>\n",
       "      <td>AmoC</td>\n",
       "      <td>PF04896.11</td>\n",
       "      <td>Ga0073928_1000165619</td>\n",
       "      <td>-</td>\n",
       "      <td>1.4e-06</td>\n",
       "      <td>15.4</td>\n",
       "      <td>0.4</td>\n",
       "      <td>1.4e-06</td>\n",
       "      <td>...</td>\n",
       "      <td>0</td>\n",
       "      <td>2</td>\n",
       "      <td>2</td>\n",
       "      <td>2</td>\n",
       "      <td>1</td>\n",
       "      <td>Ammonia monooxygenase/methane monooxygenase, s...</td>\n",
       "      <td>Ga0073928_1000165619</td>\n",
       "      <td>141868</td>\n",
       "      <td>Ga0073928_1000165619</td>\n",
       "      <td>(M, V, L, M, A, L, D, H, T, R, D, F, F, G, D, ...</td>\n",
       "    </tr>\n",
       "    <tr>\n",
       "      <th>12</th>\n",
       "      <td>/tmp/tmpmaGeB8</td>\n",
       "      <td>5</td>\n",
       "      <td>AmoC</td>\n",
       "      <td>PF04896.11</td>\n",
       "      <td>Ga0073928_1000187319</td>\n",
       "      <td>-</td>\n",
       "      <td>1.2e-05</td>\n",
       "      <td>12.3</td>\n",
       "      <td>0.1</td>\n",
       "      <td>2e-05</td>\n",
       "      <td>...</td>\n",
       "      <td>0</td>\n",
       "      <td>1</td>\n",
       "      <td>1</td>\n",
       "      <td>1</td>\n",
       "      <td>1</td>\n",
       "      <td>Ammonia monooxygenase/methane monooxygenase, s...</td>\n",
       "      <td>Ga0073928_1000187319</td>\n",
       "      <td>150445</td>\n",
       "      <td>Ga0073928_1000187319</td>\n",
       "      <td>(M, N, S, P, E, T, Q, S, D, S, S, S, Q, E, T, ...</td>\n",
       "    </tr>\n",
       "    <tr>\n",
       "      <th>13</th>\n",
       "      <td>/tmp/tmpmaGeB8</td>\n",
       "      <td>5</td>\n",
       "      <td>Monooxygenase_B</td>\n",
       "      <td>PF04744.11</td>\n",
       "      <td>Ga0073928_1000187914</td>\n",
       "      <td>-</td>\n",
       "      <td>3.4e-118</td>\n",
       "      <td>382.4</td>\n",
       "      <td>0.0</td>\n",
       "      <td>3.8e-118</td>\n",
       "      <td>...</td>\n",
       "      <td>0</td>\n",
       "      <td>1</td>\n",
       "      <td>1</td>\n",
       "      <td>1</td>\n",
       "      <td>1</td>\n",
       "      <td>Monooxygenase subunit B protein</td>\n",
       "      <td>Ga0073928_1000187914</td>\n",
       "      <td>150642</td>\n",
       "      <td>Ga0073928_1000187914</td>\n",
       "      <td>(M, A, N, W, P, L, E, I, P, S, P, A, G, L, T, ...</td>\n",
       "    </tr>\n",
       "    <tr>\n",
       "      <th>14</th>\n",
       "      <td>/tmp/tmpmaGeB8</td>\n",
       "      <td>5</td>\n",
       "      <td>Monooxygenase_B</td>\n",
       "      <td>PF04744.11</td>\n",
       "      <td>Ga0073928_1000187915</td>\n",
       "      <td>-</td>\n",
       "      <td>3.3e-15</td>\n",
       "      <td>43.4</td>\n",
       "      <td>0.0</td>\n",
       "      <td>3.6e-15</td>\n",
       "      <td>...</td>\n",
       "      <td>0</td>\n",
       "      <td>1</td>\n",
       "      <td>1</td>\n",
       "      <td>1</td>\n",
       "      <td>1</td>\n",
       "      <td>Monooxygenase subunit B protein</td>\n",
       "      <td>Ga0073928_1000187915</td>\n",
       "      <td>150643</td>\n",
       "      <td>Ga0073928_1000187915</td>\n",
       "      <td>(V, T, L, P, A, L, L, A, A, V, I, A, L, G, F, ...</td>\n",
       "    </tr>\n",
       "    <tr>\n",
       "      <th>15</th>\n",
       "      <td>/tmp/tmpmaGeB8</td>\n",
       "      <td>5</td>\n",
       "      <td>AMO</td>\n",
       "      <td>PF02461.15</td>\n",
       "      <td>Ga0073928_1000187916</td>\n",
       "      <td>-</td>\n",
       "      <td>2.2e-93</td>\n",
       "      <td>300.1</td>\n",
       "      <td>22.5</td>\n",
       "      <td>2.4e-93</td>\n",
       "      <td>...</td>\n",
       "      <td>0</td>\n",
       "      <td>1</td>\n",
       "      <td>1</td>\n",
       "      <td>1</td>\n",
       "      <td>1</td>\n",
       "      <td>Ammonia monooxygenase</td>\n",
       "      <td>Ga0073928_1000187916</td>\n",
       "      <td>150644</td>\n",
       "      <td>Ga0073928_1000187916</td>\n",
       "      <td>(M, T, A, A, R, M, A, R, S, Q, P, A, I, T, S, ...</td>\n",
       "    </tr>\n",
       "    <tr>\n",
       "      <th>16</th>\n",
       "      <td>/tmp/tmpmaGeB8</td>\n",
       "      <td>5</td>\n",
       "      <td>AmoC</td>\n",
       "      <td>PF04896.11</td>\n",
       "      <td>Ga0073928_1000187917</td>\n",
       "      <td>-</td>\n",
       "      <td>1.9e-93</td>\n",
       "      <td>299.9</td>\n",
       "      <td>15.3</td>\n",
       "      <td>2.4e-93</td>\n",
       "      <td>...</td>\n",
       "      <td>0</td>\n",
       "      <td>1</td>\n",
       "      <td>1</td>\n",
       "      <td>1</td>\n",
       "      <td>1</td>\n",
       "      <td>Ammonia monooxygenase/methane monooxygenase, s...</td>\n",
       "      <td>Ga0073928_1000187917</td>\n",
       "      <td>150645</td>\n",
       "      <td>Ga0073928_1000187917</td>\n",
       "      <td>(M, A, T, A, L, N, T, A, K, L, G, A, P, A, Q, ...</td>\n",
       "    </tr>\n",
       "    <tr>\n",
       "      <th>17</th>\n",
       "      <td>/tmp/tmpmaGeB8</td>\n",
       "      <td>5</td>\n",
       "      <td>AmoC</td>\n",
       "      <td>PF04896.11</td>\n",
       "      <td>Ga0073928_1000188722</td>\n",
       "      <td>-</td>\n",
       "      <td>3.2e-06</td>\n",
       "      <td>14.2</td>\n",
       "      <td>1.8</td>\n",
       "      <td>5.9e-06</td>\n",
       "      <td>...</td>\n",
       "      <td>0</td>\n",
       "      <td>1</td>\n",
       "      <td>1</td>\n",
       "      <td>1</td>\n",
       "      <td>1</td>\n",
       "      <td>Ammonia monooxygenase/methane monooxygenase, s...</td>\n",
       "      <td>Ga0073928_1000188722</td>\n",
       "      <td>150941</td>\n",
       "      <td>Ga0073928_1000188722</td>\n",
       "      <td>(M, N, I, V, D, F, L, N, L, L, V, A, A, V, L, ...</td>\n",
       "    </tr>\n",
       "    <tr>\n",
       "      <th>18</th>\n",
       "      <td>/tmp/tmpmaGeB8</td>\n",
       "      <td>5</td>\n",
       "      <td>AmoC</td>\n",
       "      <td>PF04896.11</td>\n",
       "      <td>Ga0073928_100023124</td>\n",
       "      <td>-</td>\n",
       "      <td>2e-54</td>\n",
       "      <td>172.1</td>\n",
       "      <td>18.2</td>\n",
       "      <td>2.4e-54</td>\n",
       "      <td>...</td>\n",
       "      <td>0</td>\n",
       "      <td>1</td>\n",
       "      <td>1</td>\n",
       "      <td>1</td>\n",
       "      <td>1</td>\n",
       "      <td>Ammonia monooxygenase/methane monooxygenase, s...</td>\n",
       "      <td>Ga0073928_100023124</td>\n",
       "      <td>165876</td>\n",
       "      <td>Ga0073928_100023124</td>\n",
       "      <td>(M, D, S, T, R, Q, A, L, G, L, E, E, G, R, Y, ...</td>\n",
       "    </tr>\n",
       "    <tr>\n",
       "      <th>19</th>\n",
       "      <td>/tmp/tmpmaGeB8</td>\n",
       "      <td>5</td>\n",
       "      <td>AMO</td>\n",
       "      <td>PF02461.15</td>\n",
       "      <td>Ga0073928_100023125</td>\n",
       "      <td>-</td>\n",
       "      <td>1.3e-65</td>\n",
       "      <td>209.2</td>\n",
       "      <td>21.2</td>\n",
       "      <td>1.5e-65</td>\n",
       "      <td>...</td>\n",
       "      <td>0</td>\n",
       "      <td>1</td>\n",
       "      <td>1</td>\n",
       "      <td>1</td>\n",
       "      <td>1</td>\n",
       "      <td>Ammonia monooxygenase</td>\n",
       "      <td>Ga0073928_100023125</td>\n",
       "      <td>165877</td>\n",
       "      <td>Ga0073928_100023125</td>\n",
       "      <td>(M, A, S, T, P, A, A, L, T, A, A, E, R, Q, H, ...</td>\n",
       "    </tr>\n",
       "    <tr>\n",
       "      <th>20</th>\n",
       "      <td>/tmp/tmpmaGeB8</td>\n",
       "      <td>5</td>\n",
       "      <td>Monooxygenase_B</td>\n",
       "      <td>PF04744.11</td>\n",
       "      <td>Ga0073928_100023127</td>\n",
       "      <td>-</td>\n",
       "      <td>1.9e-97</td>\n",
       "      <td>314.0</td>\n",
       "      <td>0.7</td>\n",
       "      <td>2.4e-97</td>\n",
       "      <td>...</td>\n",
       "      <td>0</td>\n",
       "      <td>1</td>\n",
       "      <td>1</td>\n",
       "      <td>1</td>\n",
       "      <td>1</td>\n",
       "      <td>Monooxygenase subunit B protein</td>\n",
       "      <td>Ga0073928_100023127</td>\n",
       "      <td>165879</td>\n",
       "      <td>Ga0073928_100023127</td>\n",
       "      <td>(M, R, K, W, F, V, I, S, I, P, A, I, L, L, L, ...</td>\n",
       "    </tr>\n",
       "    <tr>\n",
       "      <th>21</th>\n",
       "      <td>/tmp/tmpmaGeB8</td>\n",
       "      <td>5</td>\n",
       "      <td>AMO</td>\n",
       "      <td>PF02461.15</td>\n",
       "      <td>Ga0073928_100026867</td>\n",
       "      <td>-</td>\n",
       "      <td>3.3e-05</td>\n",
       "      <td>11.4</td>\n",
       "      <td>0.0</td>\n",
       "      <td>5.2e-05</td>\n",
       "      <td>...</td>\n",
       "      <td>0</td>\n",
       "      <td>1</td>\n",
       "      <td>1</td>\n",
       "      <td>1</td>\n",
       "      <td>1</td>\n",
       "      <td>Ammonia monooxygenase</td>\n",
       "      <td>Ga0073928_100026867</td>\n",
       "      <td>177743</td>\n",
       "      <td>Ga0073928_100026867</td>\n",
       "      <td>(M, S, S, T, I, V, Q, K, P, S, A, G, Q, P, V, ...</td>\n",
       "    </tr>\n",
       "    <tr>\n",
       "      <th>24</th>\n",
       "      <td>/tmp/tmpqtCKAd</td>\n",
       "      <td>6</td>\n",
       "      <td>AmoC</td>\n",
       "      <td>PF04896.11</td>\n",
       "      <td>Ga0073928_1000279116</td>\n",
       "      <td>-</td>\n",
       "      <td>3.4e-05</td>\n",
       "      <td>10.9</td>\n",
       "      <td>3.9</td>\n",
       "      <td>0.00014</td>\n",
       "      <td>...</td>\n",
       "      <td>0</td>\n",
       "      <td>1</td>\n",
       "      <td>1</td>\n",
       "      <td>1</td>\n",
       "      <td>1</td>\n",
       "      <td>Ammonia monooxygenase/methane monooxygenase, s...</td>\n",
       "      <td>Ga0073928_1000279116</td>\n",
       "      <td>180794</td>\n",
       "      <td>Ga0073928_1000279116</td>\n",
       "      <td>(M, T, C, I, T, V, G, I, I, W, D, I, S, W, H, ...</td>\n",
       "    </tr>\n",
       "    <tr>\n",
       "      <th>25</th>\n",
       "      <td>/tmp/tmpqtCKAd</td>\n",
       "      <td>6</td>\n",
       "      <td>Monooxygenase_B</td>\n",
       "      <td>PF04744.11</td>\n",
       "      <td>Ga0073928_1000303412</td>\n",
       "      <td>-</td>\n",
       "      <td>1.2e-05</td>\n",
       "      <td>11.9</td>\n",
       "      <td>1.3</td>\n",
       "      <td>1.2e-05</td>\n",
       "      <td>...</td>\n",
       "      <td>0</td>\n",
       "      <td>2</td>\n",
       "      <td>2</td>\n",
       "      <td>2</td>\n",
       "      <td>1</td>\n",
       "      <td>Monooxygenase subunit B protein</td>\n",
       "      <td>Ga0073928_1000303412</td>\n",
       "      <td>187576</td>\n",
       "      <td>Ga0073928_1000303412</td>\n",
       "      <td>(M, P, R, N, F, R, T, T, A, A, W, R, I, S, I, ...</td>\n",
       "    </tr>\n",
       "    <tr>\n",
       "      <th>23</th>\n",
       "      <td>/tmp/tmpqtCKAd</td>\n",
       "      <td>6</td>\n",
       "      <td>Monooxygenase_B</td>\n",
       "      <td>PF04744.11</td>\n",
       "      <td>Ga0073928_1000319323</td>\n",
       "      <td>-</td>\n",
       "      <td>1.1e-05</td>\n",
       "      <td>12.1</td>\n",
       "      <td>0.3</td>\n",
       "      <td>1.2e-05</td>\n",
       "      <td>...</td>\n",
       "      <td>0</td>\n",
       "      <td>1</td>\n",
       "      <td>1</td>\n",
       "      <td>1</td>\n",
       "      <td>1</td>\n",
       "      <td>Monooxygenase subunit B protein</td>\n",
       "      <td>Ga0073928_1000319323</td>\n",
       "      <td>191730</td>\n",
       "      <td>Ga0073928_1000319323</td>\n",
       "      <td>(M, S, D, R, D, V, T, H, S, D, L, V, E, I, A, ...</td>\n",
       "    </tr>\n",
       "    <tr>\n",
       "      <th>22</th>\n",
       "      <td>/tmp/tmpqtCKAd</td>\n",
       "      <td>6</td>\n",
       "      <td>AmoC</td>\n",
       "      <td>PF04896.11</td>\n",
       "      <td>Ga0073928_1000354625</td>\n",
       "      <td>-</td>\n",
       "      <td>0.0018</td>\n",
       "      <td>5.2</td>\n",
       "      <td>12.2</td>\n",
       "      <td>4.3e-05</td>\n",
       "      <td>...</td>\n",
       "      <td>0</td>\n",
       "      <td>2</td>\n",
       "      <td>2</td>\n",
       "      <td>2</td>\n",
       "      <td>1</td>\n",
       "      <td>Ammonia monooxygenase/methane monooxygenase, s...</td>\n",
       "      <td>Ga0073928_1000354625</td>\n",
       "      <td>200529</td>\n",
       "      <td>Ga0073928_1000354625</td>\n",
       "      <td>(M, S, S, L, P, L, S, T, H, Q, V, R, A, T, P, ...</td>\n",
       "    </tr>\n",
       "    <tr>\n",
       "      <th>26</th>\n",
       "      <td>/tmp/tmpGnIsYu</td>\n",
       "      <td>7</td>\n",
       "      <td>AmoC</td>\n",
       "      <td>PF04896.11</td>\n",
       "      <td>Ga0073928_1000424716</td>\n",
       "      <td>-</td>\n",
       "      <td>1e-06</td>\n",
       "      <td>15.8</td>\n",
       "      <td>1.7</td>\n",
       "      <td>2.1e-06</td>\n",
       "      <td>...</td>\n",
       "      <td>0</td>\n",
       "      <td>1</td>\n",
       "      <td>1</td>\n",
       "      <td>1</td>\n",
       "      <td>1</td>\n",
       "      <td>Ammonia monooxygenase/methane monooxygenase, s...</td>\n",
       "      <td>Ga0073928_1000424716</td>\n",
       "      <td>216390</td>\n",
       "      <td>Ga0073928_1000424716</td>\n",
       "      <td>(M, T, T, V, D, I, V, N, L, F, V, S, A, L, L, ...</td>\n",
       "    </tr>\n",
       "    <tr>\n",
       "      <th>27</th>\n",
       "      <td>/tmp/tmpGnIsYu</td>\n",
       "      <td>7</td>\n",
       "      <td>AmoC</td>\n",
       "      <td>PF04896.11</td>\n",
       "      <td>Ga0073928_1000426210</td>\n",
       "      <td>-</td>\n",
       "      <td>3.2e-07</td>\n",
       "      <td>17.5</td>\n",
       "      <td>2.9</td>\n",
       "      <td>7e-07</td>\n",
       "      <td>...</td>\n",
       "      <td>0</td>\n",
       "      <td>1</td>\n",
       "      <td>1</td>\n",
       "      <td>1</td>\n",
       "      <td>1</td>\n",
       "      <td>Ammonia monooxygenase/methane monooxygenase, s...</td>\n",
       "      <td>Ga0073928_1000426210</td>\n",
       "      <td>216725</td>\n",
       "      <td>Ga0073928_1000426210</td>\n",
       "      <td>(M, A, A, A, P, L, A, L, G, V, G, V, G, V, A, ...</td>\n",
       "    </tr>\n",
       "    <tr>\n",
       "      <th>28</th>\n",
       "      <td>/tmp/tmpGnIsYu</td>\n",
       "      <td>7</td>\n",
       "      <td>Monooxygenase_B</td>\n",
       "      <td>PF04744.11</td>\n",
       "      <td>Ga0073928_1000470916</td>\n",
       "      <td>-</td>\n",
       "      <td>3.3e-06</td>\n",
       "      <td>13.8</td>\n",
       "      <td>0.0</td>\n",
       "      <td>1e-05</td>\n",
       "      <td>...</td>\n",
       "      <td>1</td>\n",
       "      <td>2</td>\n",
       "      <td>2</td>\n",
       "      <td>2</td>\n",
       "      <td>1</td>\n",
       "      <td>Monooxygenase subunit B protein</td>\n",
       "      <td>Ga0073928_1000470916</td>\n",
       "      <td>226146</td>\n",
       "      <td>Ga0073928_1000470916</td>\n",
       "      <td>(M, A, G, P, R, R, L, N, L, S, C, N, A, H, G, ...</td>\n",
       "    </tr>\n",
       "    <tr>\n",
       "      <th>29</th>\n",
       "      <td>/tmp/tmpGnIsYu</td>\n",
       "      <td>7</td>\n",
       "      <td>Monooxygenase_B</td>\n",
       "      <td>PF04744.11</td>\n",
       "      <td>Ga0073928_100047775</td>\n",
       "      <td>-</td>\n",
       "      <td>1.1e-05</td>\n",
       "      <td>12.1</td>\n",
       "      <td>0.0</td>\n",
       "      <td>1.2e-05</td>\n",
       "      <td>...</td>\n",
       "      <td>0</td>\n",
       "      <td>1</td>\n",
       "      <td>1</td>\n",
       "      <td>1</td>\n",
       "      <td>1</td>\n",
       "      <td>Monooxygenase subunit B protein</td>\n",
       "      <td>Ga0073928_100047775</td>\n",
       "      <td>227425</td>\n",
       "      <td>Ga0073928_100047775</td>\n",
       "      <td>(M, R, L, G, Q, T, V, K, L, R, F, I, G, T, S, ...</td>\n",
       "    </tr>\n",
       "    <tr>\n",
       "      <th>...</th>\n",
       "      <td>...</td>\n",
       "      <td>...</td>\n",
       "      <td>...</td>\n",
       "      <td>...</td>\n",
       "      <td>...</td>\n",
       "      <td>...</td>\n",
       "      <td>...</td>\n",
       "      <td>...</td>\n",
       "      <td>...</td>\n",
       "      <td>...</td>\n",
       "      <td>...</td>\n",
       "      <td>...</td>\n",
       "      <td>...</td>\n",
       "      <td>...</td>\n",
       "      <td>...</td>\n",
       "      <td>...</td>\n",
       "      <td>...</td>\n",
       "      <td>...</td>\n",
       "      <td>...</td>\n",
       "      <td>...</td>\n",
       "      <td>...</td>\n",
       "    </tr>\n",
       "    <tr>\n",
       "      <th>361</th>\n",
       "      <td>/tmp/tmpi0yI4x</td>\n",
       "      <td>117</td>\n",
       "      <td>AmoC</td>\n",
       "      <td>PF04896.11</td>\n",
       "      <td>Ga0073928_119442401</td>\n",
       "      <td>-</td>\n",
       "      <td>3.6e-22</td>\n",
       "      <td>66.5</td>\n",
       "      <td>0.1</td>\n",
       "      <td>4e-22</td>\n",
       "      <td>...</td>\n",
       "      <td>0</td>\n",
       "      <td>1</td>\n",
       "      <td>1</td>\n",
       "      <td>1</td>\n",
       "      <td>1</td>\n",
       "      <td>Ammonia monooxygenase/methane monooxygenase, s...</td>\n",
       "      <td>Ga0073928_119442401</td>\n",
       "      <td>3535209</td>\n",
       "      <td>Ga0073928_119442401</td>\n",
       "      <td>(D, M, S, L, V, T, G, T, A, R, T, G, E, A, A, ...</td>\n",
       "    </tr>\n",
       "    <tr>\n",
       "      <th>360</th>\n",
       "      <td>/tmp/tmpi0yI4x</td>\n",
       "      <td>117</td>\n",
       "      <td>AmoC</td>\n",
       "      <td>PF04896.11</td>\n",
       "      <td>Ga0073928_119442701</td>\n",
       "      <td>-</td>\n",
       "      <td>1.9e-19</td>\n",
       "      <td>57.6</td>\n",
       "      <td>0.0</td>\n",
       "      <td>2.1e-19</td>\n",
       "      <td>...</td>\n",
       "      <td>0</td>\n",
       "      <td>1</td>\n",
       "      <td>1</td>\n",
       "      <td>1</td>\n",
       "      <td>1</td>\n",
       "      <td>Ammonia monooxygenase/methane monooxygenase, s...</td>\n",
       "      <td>Ga0073928_119442701</td>\n",
       "      <td>3535239</td>\n",
       "      <td>Ga0073928_119442701</td>\n",
       "      <td>(E, A, S, D, M, S, L, V, T, G, T, A, R, T, G, ...</td>\n",
       "    </tr>\n",
       "    <tr>\n",
       "      <th>359</th>\n",
       "      <td>/tmp/tmpi0yI4x</td>\n",
       "      <td>117</td>\n",
       "      <td>Monooxygenase_B</td>\n",
       "      <td>PF04744.11</td>\n",
       "      <td>Ga0073928_119443151</td>\n",
       "      <td>-</td>\n",
       "      <td>1.3e-37</td>\n",
       "      <td>117.1</td>\n",
       "      <td>0.1</td>\n",
       "      <td>1.5e-37</td>\n",
       "      <td>...</td>\n",
       "      <td>0</td>\n",
       "      <td>1</td>\n",
       "      <td>1</td>\n",
       "      <td>1</td>\n",
       "      <td>1</td>\n",
       "      <td>Monooxygenase subunit B protein</td>\n",
       "      <td>Ga0073928_119443151</td>\n",
       "      <td>3535288</td>\n",
       "      <td>Ga0073928_119443151</td>\n",
       "      <td>(I, P, W, G, L, T, F, T, P, S, T, A, L, A, H, ...</td>\n",
       "    </tr>\n",
       "    <tr>\n",
       "      <th>358</th>\n",
       "      <td>/tmp/tmpi0yI4x</td>\n",
       "      <td>117</td>\n",
       "      <td>AMO</td>\n",
       "      <td>PF02461.15</td>\n",
       "      <td>Ga0073928_119456791</td>\n",
       "      <td>-</td>\n",
       "      <td>6.3e-29</td>\n",
       "      <td>89.1</td>\n",
       "      <td>1.0</td>\n",
       "      <td>7.3e-29</td>\n",
       "      <td>...</td>\n",
       "      <td>0</td>\n",
       "      <td>1</td>\n",
       "      <td>1</td>\n",
       "      <td>1</td>\n",
       "      <td>1</td>\n",
       "      <td>Ammonia monooxygenase</td>\n",
       "      <td>Ga0073928_119456791</td>\n",
       "      <td>3536683</td>\n",
       "      <td>Ga0073928_119456791</td>\n",
       "      <td>(M, T, V, E, A, L, E, I, P, T, K, P, Y, T, G, ...</td>\n",
       "    </tr>\n",
       "    <tr>\n",
       "      <th>357</th>\n",
       "      <td>/tmp/tmpi0yI4x</td>\n",
       "      <td>117</td>\n",
       "      <td>AMO</td>\n",
       "      <td>PF02461.15</td>\n",
       "      <td>Ga0073928_119469301</td>\n",
       "      <td>-</td>\n",
       "      <td>3.9e-24</td>\n",
       "      <td>73.4</td>\n",
       "      <td>0.3</td>\n",
       "      <td>4.2e-24</td>\n",
       "      <td>...</td>\n",
       "      <td>0</td>\n",
       "      <td>1</td>\n",
       "      <td>1</td>\n",
       "      <td>1</td>\n",
       "      <td>1</td>\n",
       "      <td>Ammonia monooxygenase</td>\n",
       "      <td>Ga0073928_119469301</td>\n",
       "      <td>3537951</td>\n",
       "      <td>Ga0073928_119469301</td>\n",
       "      <td>(S, F, V, V, T, S, V, I, G, G, P, I, W, A, I, ...</td>\n",
       "    </tr>\n",
       "    <tr>\n",
       "      <th>356</th>\n",
       "      <td>/tmp/tmpi0yI4x</td>\n",
       "      <td>117</td>\n",
       "      <td>AmoC</td>\n",
       "      <td>PF04896.11</td>\n",
       "      <td>Ga0073928_119471621</td>\n",
       "      <td>-</td>\n",
       "      <td>2.5e-40</td>\n",
       "      <td>125.9</td>\n",
       "      <td>2.6</td>\n",
       "      <td>2.8e-40</td>\n",
       "      <td>...</td>\n",
       "      <td>0</td>\n",
       "      <td>1</td>\n",
       "      <td>1</td>\n",
       "      <td>1</td>\n",
       "      <td>1</td>\n",
       "      <td>Ammonia monooxygenase/methane monooxygenase, s...</td>\n",
       "      <td>Ga0073928_119471621</td>\n",
       "      <td>3538192</td>\n",
       "      <td>Ga0073928_119471621</td>\n",
       "      <td>(G, L, D, S, F, A, P, E, F, T, T, Y, W, M, T, ...</td>\n",
       "    </tr>\n",
       "    <tr>\n",
       "      <th>354</th>\n",
       "      <td>/tmp/tmpi0yI4x</td>\n",
       "      <td>117</td>\n",
       "      <td>AMO</td>\n",
       "      <td>PF02461.15</td>\n",
       "      <td>Ga0073928_119471871</td>\n",
       "      <td>-</td>\n",
       "      <td>1.5e-42</td>\n",
       "      <td>133.7</td>\n",
       "      <td>2.8</td>\n",
       "      <td>1.6e-42</td>\n",
       "      <td>...</td>\n",
       "      <td>0</td>\n",
       "      <td>1</td>\n",
       "      <td>1</td>\n",
       "      <td>1</td>\n",
       "      <td>1</td>\n",
       "      <td>Ammonia monooxygenase</td>\n",
       "      <td>Ga0073928_119471871</td>\n",
       "      <td>3538218</td>\n",
       "      <td>Ga0073928_119471871</td>\n",
       "      <td>(V, I, L, A, Q, F, H, Q, P, T, E, Q, Y, G, T, ...</td>\n",
       "    </tr>\n",
       "    <tr>\n",
       "      <th>374</th>\n",
       "      <td>/tmp/tmpi0yI4x</td>\n",
       "      <td>117</td>\n",
       "      <td>AmoC</td>\n",
       "      <td>PF04896.11</td>\n",
       "      <td>Ga0073928_119478191</td>\n",
       "      <td>-</td>\n",
       "      <td>4.9e-39</td>\n",
       "      <td>121.7</td>\n",
       "      <td>3.3</td>\n",
       "      <td>5.3e-39</td>\n",
       "      <td>...</td>\n",
       "      <td>0</td>\n",
       "      <td>1</td>\n",
       "      <td>1</td>\n",
       "      <td>1</td>\n",
       "      <td>1</td>\n",
       "      <td>Ammonia monooxygenase/methane monooxygenase, s...</td>\n",
       "      <td>Ga0073928_119478191</td>\n",
       "      <td>3538863</td>\n",
       "      <td>Ga0073928_119478191</td>\n",
       "      <td>(D, S, F, A, P, E, F, T, T, Y, W, M, T, I, L, ...</td>\n",
       "    </tr>\n",
       "    <tr>\n",
       "      <th>373</th>\n",
       "      <td>/tmp/tmpi0yI4x</td>\n",
       "      <td>117</td>\n",
       "      <td>AmoC</td>\n",
       "      <td>PF04896.11</td>\n",
       "      <td>Ga0073928_119483431</td>\n",
       "      <td>-</td>\n",
       "      <td>8.5e-35</td>\n",
       "      <td>107.8</td>\n",
       "      <td>6.5</td>\n",
       "      <td>9.3e-35</td>\n",
       "      <td>...</td>\n",
       "      <td>0</td>\n",
       "      <td>1</td>\n",
       "      <td>1</td>\n",
       "      <td>1</td>\n",
       "      <td>1</td>\n",
       "      <td>Ammonia monooxygenase/methane monooxygenase, s...</td>\n",
       "      <td>Ga0073928_119483431</td>\n",
       "      <td>3539379</td>\n",
       "      <td>Ga0073928_119483431</td>\n",
       "      <td>(F, A, T, H, W, M, R, L, L, Y, I, E, A, I, F, ...</td>\n",
       "    </tr>\n",
       "    <tr>\n",
       "      <th>377</th>\n",
       "      <td>/tmp/tmpqlB2K0</td>\n",
       "      <td>118</td>\n",
       "      <td>AmoC</td>\n",
       "      <td>PF04896.11</td>\n",
       "      <td>Ga0073928_119489771</td>\n",
       "      <td>-</td>\n",
       "      <td>5e-20</td>\n",
       "      <td>59.5</td>\n",
       "      <td>0.0</td>\n",
       "      <td>5.4e-20</td>\n",
       "      <td>...</td>\n",
       "      <td>0</td>\n",
       "      <td>1</td>\n",
       "      <td>1</td>\n",
       "      <td>1</td>\n",
       "      <td>1</td>\n",
       "      <td>Ammonia monooxygenase/methane monooxygenase, s...</td>\n",
       "      <td>Ga0073928_119489771</td>\n",
       "      <td>3540043</td>\n",
       "      <td>Ga0073928_119489771</td>\n",
       "      <td>(V, T, G, T, A, R, T, G, E, A, A, A, V, A, E, ...</td>\n",
       "    </tr>\n",
       "    <tr>\n",
       "      <th>378</th>\n",
       "      <td>/tmp/tmpqlB2K0</td>\n",
       "      <td>118</td>\n",
       "      <td>AmoC</td>\n",
       "      <td>PF04896.11</td>\n",
       "      <td>Ga0073928_119489791</td>\n",
       "      <td>-</td>\n",
       "      <td>5e-20</td>\n",
       "      <td>59.5</td>\n",
       "      <td>0.0</td>\n",
       "      <td>5.4e-20</td>\n",
       "      <td>...</td>\n",
       "      <td>0</td>\n",
       "      <td>1</td>\n",
       "      <td>1</td>\n",
       "      <td>1</td>\n",
       "      <td>1</td>\n",
       "      <td>Ammonia monooxygenase/methane monooxygenase, s...</td>\n",
       "      <td>Ga0073928_119489791</td>\n",
       "      <td>3540046</td>\n",
       "      <td>Ga0073928_119489791</td>\n",
       "      <td>(V, T, G, T, A, R, T, G, E, A, A, A, V, A, E, ...</td>\n",
       "    </tr>\n",
       "    <tr>\n",
       "      <th>379</th>\n",
       "      <td>/tmp/tmpqlB2K0</td>\n",
       "      <td>118</td>\n",
       "      <td>AmoC</td>\n",
       "      <td>PF04896.11</td>\n",
       "      <td>Ga0073928_119491111</td>\n",
       "      <td>-</td>\n",
       "      <td>6.2e-23</td>\n",
       "      <td>69.0</td>\n",
       "      <td>0.1</td>\n",
       "      <td>6.4e-23</td>\n",
       "      <td>...</td>\n",
       "      <td>0</td>\n",
       "      <td>1</td>\n",
       "      <td>1</td>\n",
       "      <td>1</td>\n",
       "      <td>1</td>\n",
       "      <td>Ammonia monooxygenase/methane monooxygenase, s...</td>\n",
       "      <td>Ga0073928_119491111</td>\n",
       "      <td>3540183</td>\n",
       "      <td>Ga0073928_119491111</td>\n",
       "      <td>(A, R, T, G, E, A, A, A, V, A, E, A, P, L, F, ...</td>\n",
       "    </tr>\n",
       "    <tr>\n",
       "      <th>380</th>\n",
       "      <td>/tmp/tmpqlB2K0</td>\n",
       "      <td>118</td>\n",
       "      <td>AmoC</td>\n",
       "      <td>PF04896.11</td>\n",
       "      <td>Ga0073928_119501781</td>\n",
       "      <td>-</td>\n",
       "      <td>4.9e-40</td>\n",
       "      <td>125.0</td>\n",
       "      <td>4.9</td>\n",
       "      <td>5.4e-40</td>\n",
       "      <td>...</td>\n",
       "      <td>0</td>\n",
       "      <td>1</td>\n",
       "      <td>1</td>\n",
       "      <td>1</td>\n",
       "      <td>1</td>\n",
       "      <td>Ammonia monooxygenase/methane monooxygenase, s...</td>\n",
       "      <td>Ga0073928_119501781</td>\n",
       "      <td>3541279</td>\n",
       "      <td>Ga0073928_119501781</td>\n",
       "      <td>(W, M, T, I, L, Y, I, E, E, P, V, E, L, I, S, ...</td>\n",
       "    </tr>\n",
       "    <tr>\n",
       "      <th>381</th>\n",
       "      <td>/tmp/tmpqlB2K0</td>\n",
       "      <td>118</td>\n",
       "      <td>AmoC</td>\n",
       "      <td>PF04896.11</td>\n",
       "      <td>Ga0073928_119512211</td>\n",
       "      <td>-</td>\n",
       "      <td>1.1e-47</td>\n",
       "      <td>150.0</td>\n",
       "      <td>9.5</td>\n",
       "      <td>1.2e-47</td>\n",
       "      <td>...</td>\n",
       "      <td>0</td>\n",
       "      <td>1</td>\n",
       "      <td>1</td>\n",
       "      <td>1</td>\n",
       "      <td>1</td>\n",
       "      <td>Ammonia monooxygenase/methane monooxygenase, s...</td>\n",
       "      <td>Ga0073928_119512211</td>\n",
       "      <td>3542353</td>\n",
       "      <td>Ga0073928_119512211</td>\n",
       "      <td>(D, F, T, P, S, H, I, I, E, F, Y, M, S, Y, P, ...</td>\n",
       "    </tr>\n",
       "    <tr>\n",
       "      <th>382</th>\n",
       "      <td>/tmp/tmpqlB2K0</td>\n",
       "      <td>118</td>\n",
       "      <td>AMO</td>\n",
       "      <td>PF02461.15</td>\n",
       "      <td>Ga0073928_119518011</td>\n",
       "      <td>-</td>\n",
       "      <td>2.5e-40</td>\n",
       "      <td>126.4</td>\n",
       "      <td>7.0</td>\n",
       "      <td>2.7e-40</td>\n",
       "      <td>...</td>\n",
       "      <td>0</td>\n",
       "      <td>1</td>\n",
       "      <td>1</td>\n",
       "      <td>1</td>\n",
       "      <td>1</td>\n",
       "      <td>Ammonia monooxygenase</td>\n",
       "      <td>Ga0073928_119518011</td>\n",
       "      <td>3542949</td>\n",
       "      <td>Ga0073928_119518011</td>\n",
       "      <td>(L, L, I, L, T, F, L, F, L, I, M, I, G, G, Y, ...</td>\n",
       "    </tr>\n",
       "    <tr>\n",
       "      <th>383</th>\n",
       "      <td>/tmp/tmpqlB2K0</td>\n",
       "      <td>118</td>\n",
       "      <td>Monooxygenase_B</td>\n",
       "      <td>PF04744.11</td>\n",
       "      <td>Ga0073928_119518771</td>\n",
       "      <td>-</td>\n",
       "      <td>1.4e-26</td>\n",
       "      <td>80.8</td>\n",
       "      <td>0.1</td>\n",
       "      <td>1.5e-26</td>\n",
       "      <td>...</td>\n",
       "      <td>0</td>\n",
       "      <td>1</td>\n",
       "      <td>1</td>\n",
       "      <td>1</td>\n",
       "      <td>1</td>\n",
       "      <td>Monooxygenase subunit B protein</td>\n",
       "      <td>Ga0073928_119518771</td>\n",
       "      <td>3543026</td>\n",
       "      <td>Ga0073928_119518771</td>\n",
       "      <td>(R, Q, A, G, R, L, W, A, L, G, L, A, A, G, L, ...</td>\n",
       "    </tr>\n",
       "    <tr>\n",
       "      <th>384</th>\n",
       "      <td>/tmp/tmpqlB2K0</td>\n",
       "      <td>118</td>\n",
       "      <td>AMO</td>\n",
       "      <td>PF02461.15</td>\n",
       "      <td>Ga0073928_119524091</td>\n",
       "      <td>-</td>\n",
       "      <td>5.3e-39</td>\n",
       "      <td>122.1</td>\n",
       "      <td>5.1</td>\n",
       "      <td>5.7e-39</td>\n",
       "      <td>...</td>\n",
       "      <td>0</td>\n",
       "      <td>1</td>\n",
       "      <td>1</td>\n",
       "      <td>1</td>\n",
       "      <td>1</td>\n",
       "      <td>Ammonia monooxygenase</td>\n",
       "      <td>Ga0073928_119524091</td>\n",
       "      <td>3543568</td>\n",
       "      <td>Ga0073928_119524091</td>\n",
       "      <td>(V, A, L, L, F, G, E, W, L, D, R, Y, I, S, F, ...</td>\n",
       "    </tr>\n",
       "    <tr>\n",
       "      <th>385</th>\n",
       "      <td>/tmp/tmpqlB2K0</td>\n",
       "      <td>118</td>\n",
       "      <td>AmoC</td>\n",
       "      <td>PF04896.11</td>\n",
       "      <td>Ga0073928_119532261</td>\n",
       "      <td>-</td>\n",
       "      <td>3e-42</td>\n",
       "      <td>132.2</td>\n",
       "      <td>1.7</td>\n",
       "      <td>3.2e-42</td>\n",
       "      <td>...</td>\n",
       "      <td>0</td>\n",
       "      <td>1</td>\n",
       "      <td>1</td>\n",
       "      <td>1</td>\n",
       "      <td>1</td>\n",
       "      <td>Ammonia monooxygenase/methane monooxygenase, s...</td>\n",
       "      <td>Ga0073928_119532261</td>\n",
       "      <td>3544408</td>\n",
       "      <td>Ga0073928_119532261</td>\n",
       "      <td>(I, E, E, P, V, E, L, I, S, F, L, A, L, V, G, ...</td>\n",
       "    </tr>\n",
       "    <tr>\n",
       "      <th>386</th>\n",
       "      <td>/tmp/tmpqlB2K0</td>\n",
       "      <td>118</td>\n",
       "      <td>AmoC</td>\n",
       "      <td>PF04896.11</td>\n",
       "      <td>Ga0073928_119538351</td>\n",
       "      <td>-</td>\n",
       "      <td>2.6e-25</td>\n",
       "      <td>76.8</td>\n",
       "      <td>1.4</td>\n",
       "      <td>2.8e-25</td>\n",
       "      <td>...</td>\n",
       "      <td>0</td>\n",
       "      <td>1</td>\n",
       "      <td>1</td>\n",
       "      <td>1</td>\n",
       "      <td>1</td>\n",
       "      <td>Ammonia monooxygenase/methane monooxygenase, s...</td>\n",
       "      <td>Ga0073928_119538351</td>\n",
       "      <td>3545073</td>\n",
       "      <td>Ga0073928_119538351</td>\n",
       "      <td>(I, R, D, T, D, F, T, P, S, H, I, I, E, F, Y, ...</td>\n",
       "    </tr>\n",
       "    <tr>\n",
       "      <th>395</th>\n",
       "      <td>/tmp/tmpqlB2K0</td>\n",
       "      <td>118</td>\n",
       "      <td>AmoC</td>\n",
       "      <td>PF04896.11</td>\n",
       "      <td>Ga0073928_119573671</td>\n",
       "      <td>-</td>\n",
       "      <td>6e-37</td>\n",
       "      <td>114.9</td>\n",
       "      <td>3.2</td>\n",
       "      <td>6.6e-37</td>\n",
       "      <td>...</td>\n",
       "      <td>0</td>\n",
       "      <td>1</td>\n",
       "      <td>1</td>\n",
       "      <td>1</td>\n",
       "      <td>1</td>\n",
       "      <td>Ammonia monooxygenase/methane monooxygenase, s...</td>\n",
       "      <td>Ga0073928_119573671</td>\n",
       "      <td>3548878</td>\n",
       "      <td>Ga0073928_119573671</td>\n",
       "      <td>(A, P, E, F, T, T, Y, W, M, T, I, L, Y, I, E, ...</td>\n",
       "    </tr>\n",
       "    <tr>\n",
       "      <th>387</th>\n",
       "      <td>/tmp/tmpqlB2K0</td>\n",
       "      <td>118</td>\n",
       "      <td>AmoC</td>\n",
       "      <td>PF04896.11</td>\n",
       "      <td>Ga0073928_119578921</td>\n",
       "      <td>-</td>\n",
       "      <td>7.8e-20</td>\n",
       "      <td>58.8</td>\n",
       "      <td>0.0</td>\n",
       "      <td>8.1e-20</td>\n",
       "      <td>...</td>\n",
       "      <td>0</td>\n",
       "      <td>1</td>\n",
       "      <td>1</td>\n",
       "      <td>1</td>\n",
       "      <td>1</td>\n",
       "      <td>Ammonia monooxygenase/methane monooxygenase, s...</td>\n",
       "      <td>Ga0073928_119578921</td>\n",
       "      <td>3549409</td>\n",
       "      <td>Ga0073928_119578921</td>\n",
       "      <td>(A, R, T, G, E, A, A, A, V, A, E, A, P, L, F, ...</td>\n",
       "    </tr>\n",
       "    <tr>\n",
       "      <th>396</th>\n",
       "      <td>/tmp/tmpqlB2K0</td>\n",
       "      <td>118</td>\n",
       "      <td>AmoC</td>\n",
       "      <td>PF04896.11</td>\n",
       "      <td>Ga0073928_119588171</td>\n",
       "      <td>-</td>\n",
       "      <td>5.2e-36</td>\n",
       "      <td>111.8</td>\n",
       "      <td>4.9</td>\n",
       "      <td>5.6e-36</td>\n",
       "      <td>...</td>\n",
       "      <td>0</td>\n",
       "      <td>1</td>\n",
       "      <td>1</td>\n",
       "      <td>1</td>\n",
       "      <td>1</td>\n",
       "      <td>Ammonia monooxygenase/methane monooxygenase, s...</td>\n",
       "      <td>Ga0073928_119588171</td>\n",
       "      <td>3550337</td>\n",
       "      <td>Ga0073928_119588171</td>\n",
       "      <td>(T, M, W, I, S, I, Y, T, F, A, V, Y, W, A, G, ...</td>\n",
       "    </tr>\n",
       "    <tr>\n",
       "      <th>388</th>\n",
       "      <td>/tmp/tmpqlB2K0</td>\n",
       "      <td>118</td>\n",
       "      <td>Monooxygenase_B</td>\n",
       "      <td>PF04744.11</td>\n",
       "      <td>Ga0073928_119589671</td>\n",
       "      <td>-</td>\n",
       "      <td>1.2e-26</td>\n",
       "      <td>81.1</td>\n",
       "      <td>0.1</td>\n",
       "      <td>1.3e-26</td>\n",
       "      <td>...</td>\n",
       "      <td>0</td>\n",
       "      <td>1</td>\n",
       "      <td>1</td>\n",
       "      <td>1</td>\n",
       "      <td>1</td>\n",
       "      <td>Monooxygenase subunit B protein</td>\n",
       "      <td>Ga0073928_119589671</td>\n",
       "      <td>3550476</td>\n",
       "      <td>Ga0073928_119589671</td>\n",
       "      <td>(L, W, A, L, G, L, A, A, G, L, A, L, T, M, A, ...</td>\n",
       "    </tr>\n",
       "    <tr>\n",
       "      <th>389</th>\n",
       "      <td>/tmp/tmpqlB2K0</td>\n",
       "      <td>118</td>\n",
       "      <td>AMO</td>\n",
       "      <td>PF02461.15</td>\n",
       "      <td>Ga0073928_119599571</td>\n",
       "      <td>-</td>\n",
       "      <td>5.1e-36</td>\n",
       "      <td>112.3</td>\n",
       "      <td>4.9</td>\n",
       "      <td>5.5e-36</td>\n",
       "      <td>...</td>\n",
       "      <td>0</td>\n",
       "      <td>1</td>\n",
       "      <td>1</td>\n",
       "      <td>1</td>\n",
       "      <td>1</td>\n",
       "      <td>Ammonia monooxygenase</td>\n",
       "      <td>Ga0073928_119599571</td>\n",
       "      <td>3551457</td>\n",
       "      <td>Ga0073928_119599571</td>\n",
       "      <td>(W, L, D, R, Y, I, S, F, W, G, W, T, F, Y, P, ...</td>\n",
       "    </tr>\n",
       "    <tr>\n",
       "      <th>390</th>\n",
       "      <td>/tmp/tmpqlB2K0</td>\n",
       "      <td>118</td>\n",
       "      <td>AmoC</td>\n",
       "      <td>PF04896.11</td>\n",
       "      <td>Ga0073928_119611271</td>\n",
       "      <td>-</td>\n",
       "      <td>2.8e-33</td>\n",
       "      <td>102.9</td>\n",
       "      <td>3.8</td>\n",
       "      <td>3e-33</td>\n",
       "      <td>...</td>\n",
       "      <td>0</td>\n",
       "      <td>1</td>\n",
       "      <td>1</td>\n",
       "      <td>1</td>\n",
       "      <td>1</td>\n",
       "      <td>Ammonia monooxygenase/methane monooxygenase, s...</td>\n",
       "      <td>Ga0073928_119611271</td>\n",
       "      <td>3552606</td>\n",
       "      <td>Ga0073928_119611271</td>\n",
       "      <td>(W, M, T, I, L, Y, I, E, E, P, V, E, L, I, S, ...</td>\n",
       "    </tr>\n",
       "    <tr>\n",
       "      <th>391</th>\n",
       "      <td>/tmp/tmpqlB2K0</td>\n",
       "      <td>118</td>\n",
       "      <td>Monooxygenase_B</td>\n",
       "      <td>PF04744.11</td>\n",
       "      <td>Ga0073928_119624601</td>\n",
       "      <td>-</td>\n",
       "      <td>1.2e-05</td>\n",
       "      <td>11.9</td>\n",
       "      <td>0.1</td>\n",
       "      <td>1.3e-05</td>\n",
       "      <td>...</td>\n",
       "      <td>0</td>\n",
       "      <td>1</td>\n",
       "      <td>1</td>\n",
       "      <td>1</td>\n",
       "      <td>1</td>\n",
       "      <td>Monooxygenase subunit B protein</td>\n",
       "      <td>Ga0073928_119624601</td>\n",
       "      <td>3553872</td>\n",
       "      <td>Ga0073928_119624601</td>\n",
       "      <td>(Q, D, D, D, D, E, V, I, S, S, I, N, T, T, P, ...</td>\n",
       "    </tr>\n",
       "    <tr>\n",
       "      <th>392</th>\n",
       "      <td>/tmp/tmpqlB2K0</td>\n",
       "      <td>118</td>\n",
       "      <td>AMO</td>\n",
       "      <td>PF02461.15</td>\n",
       "      <td>Ga0073928_119624971</td>\n",
       "      <td>-</td>\n",
       "      <td>1.8e-35</td>\n",
       "      <td>110.5</td>\n",
       "      <td>6.2</td>\n",
       "      <td>1.9e-35</td>\n",
       "      <td>...</td>\n",
       "      <td>0</td>\n",
       "      <td>1</td>\n",
       "      <td>1</td>\n",
       "      <td>1</td>\n",
       "      <td>1</td>\n",
       "      <td>Ammonia monooxygenase</td>\n",
       "      <td>Ga0073928_119624971</td>\n",
       "      <td>3553912</td>\n",
       "      <td>Ga0073928_119624971</td>\n",
       "      <td>(L, L, I, L, T, F, L, F, L, I, M, I, G, G, Y, ...</td>\n",
       "    </tr>\n",
       "    <tr>\n",
       "      <th>393</th>\n",
       "      <td>/tmp/tmpqlB2K0</td>\n",
       "      <td>118</td>\n",
       "      <td>AMO</td>\n",
       "      <td>PF02461.15</td>\n",
       "      <td>Ga0073928_119627031</td>\n",
       "      <td>-</td>\n",
       "      <td>2.5e-28</td>\n",
       "      <td>87.1</td>\n",
       "      <td>0.2</td>\n",
       "      <td>2.7e-28</td>\n",
       "      <td>...</td>\n",
       "      <td>0</td>\n",
       "      <td>1</td>\n",
       "      <td>1</td>\n",
       "      <td>1</td>\n",
       "      <td>1</td>\n",
       "      <td>Ammonia monooxygenase</td>\n",
       "      <td>Ga0073928_119627031</td>\n",
       "      <td>3554112</td>\n",
       "      <td>Ga0073928_119627031</td>\n",
       "      <td>(Q, Y, I, R, A, G, T, P, E, Y, L, R, L, I, E, ...</td>\n",
       "    </tr>\n",
       "    <tr>\n",
       "      <th>394</th>\n",
       "      <td>/tmp/tmpqlB2K0</td>\n",
       "      <td>118</td>\n",
       "      <td>AMO</td>\n",
       "      <td>PF02461.15</td>\n",
       "      <td>Ga0073928_119643351</td>\n",
       "      <td>-</td>\n",
       "      <td>9.1e-32</td>\n",
       "      <td>98.4</td>\n",
       "      <td>5.1</td>\n",
       "      <td>9.8e-32</td>\n",
       "      <td>...</td>\n",
       "      <td>0</td>\n",
       "      <td>1</td>\n",
       "      <td>1</td>\n",
       "      <td>1</td>\n",
       "      <td>1</td>\n",
       "      <td>Ammonia monooxygenase</td>\n",
       "      <td>Ga0073928_119643351</td>\n",
       "      <td>3555658</td>\n",
       "      <td>Ga0073928_119643351</td>\n",
       "      <td>(L, P, I, M, L, V, T, F, P, A, A, A, Q, Y, F, ...</td>\n",
       "    </tr>\n",
       "    <tr>\n",
       "      <th>376</th>\n",
       "      <td>/tmp/tmpqlB2K0</td>\n",
       "      <td>118</td>\n",
       "      <td>AmoC</td>\n",
       "      <td>PF04896.11</td>\n",
       "      <td>Ga0073928_119661171</td>\n",
       "      <td>-</td>\n",
       "      <td>1.3e-30</td>\n",
       "      <td>94.1</td>\n",
       "      <td>1.0</td>\n",
       "      <td>1.3e-30</td>\n",
       "      <td>...</td>\n",
       "      <td>0</td>\n",
       "      <td>1</td>\n",
       "      <td>1</td>\n",
       "      <td>1</td>\n",
       "      <td>1</td>\n",
       "      <td>Ammonia monooxygenase/methane monooxygenase, s...</td>\n",
       "      <td>Ga0073928_119661171</td>\n",
       "      <td>3557314</td>\n",
       "      <td>Ga0073928_119661171</td>\n",
       "      <td>(I, E, E, P, V, E, L, I, S, F, L, A, L, V, G, ...</td>\n",
       "    </tr>\n",
       "  </tbody>\n",
       "</table>\n",
       "<p>397 rows × 25 columns</p>\n",
       "</div>"
      ],
      "text/plain": [
       "         query file  label                0           1                     2  \\\n",
       "0    /tmp/tmpMYGkLN      0  Monooxygenase_B  PF04744.11  Ga0073928_1000008053   \n",
       "1    /tmp/tmp9y2d9e      1  Monooxygenase_B  PF04744.11  Ga0073928_1000028111   \n",
       "2    /tmp/tmpROJKzH      2             AmoC  PF04896.11  Ga0073928_1000040165   \n",
       "3    /tmp/tmpROJKzH      2             AmoC  PF04896.11   Ga0073928_100004499   \n",
       "4    /tmp/tmpROJKzH      2  Monooxygenase_B  PF04744.11  Ga0073928_1000054854   \n",
       "5    /tmp/tmpROJKzH      2              AMO  PF02461.15  Ga0073928_1000054856   \n",
       "6    /tmp/tmpROJKzH      2             AmoC  PF04896.11  Ga0073928_1000054857   \n",
       "7    /tmp/tmpROJKzH      2             AmoC  PF04896.11  Ga0073928_1000062722   \n",
       "8    /tmp/tmp3mChYx      3             AmoC  PF04896.11  Ga0073928_1000073153   \n",
       "9    /tmp/tmp3mChYx      3             AmoC  PF04896.11  Ga0073928_1000110012   \n",
       "10   /tmp/tmp3mChYx      3             AmoC  PF04896.11  Ga0073928_1000113340   \n",
       "11   /tmp/tmp88DNcS      4             AmoC  PF04896.11  Ga0073928_1000165619   \n",
       "12   /tmp/tmpmaGeB8      5             AmoC  PF04896.11  Ga0073928_1000187319   \n",
       "13   /tmp/tmpmaGeB8      5  Monooxygenase_B  PF04744.11  Ga0073928_1000187914   \n",
       "14   /tmp/tmpmaGeB8      5  Monooxygenase_B  PF04744.11  Ga0073928_1000187915   \n",
       "15   /tmp/tmpmaGeB8      5              AMO  PF02461.15  Ga0073928_1000187916   \n",
       "16   /tmp/tmpmaGeB8      5             AmoC  PF04896.11  Ga0073928_1000187917   \n",
       "17   /tmp/tmpmaGeB8      5             AmoC  PF04896.11  Ga0073928_1000188722   \n",
       "18   /tmp/tmpmaGeB8      5             AmoC  PF04896.11   Ga0073928_100023124   \n",
       "19   /tmp/tmpmaGeB8      5              AMO  PF02461.15   Ga0073928_100023125   \n",
       "20   /tmp/tmpmaGeB8      5  Monooxygenase_B  PF04744.11   Ga0073928_100023127   \n",
       "21   /tmp/tmpmaGeB8      5              AMO  PF02461.15   Ga0073928_100026867   \n",
       "24   /tmp/tmpqtCKAd      6             AmoC  PF04896.11  Ga0073928_1000279116   \n",
       "25   /tmp/tmpqtCKAd      6  Monooxygenase_B  PF04744.11  Ga0073928_1000303412   \n",
       "23   /tmp/tmpqtCKAd      6  Monooxygenase_B  PF04744.11  Ga0073928_1000319323   \n",
       "22   /tmp/tmpqtCKAd      6             AmoC  PF04896.11  Ga0073928_1000354625   \n",
       "26   /tmp/tmpGnIsYu      7             AmoC  PF04896.11  Ga0073928_1000424716   \n",
       "27   /tmp/tmpGnIsYu      7             AmoC  PF04896.11  Ga0073928_1000426210   \n",
       "28   /tmp/tmpGnIsYu      7  Monooxygenase_B  PF04744.11  Ga0073928_1000470916   \n",
       "29   /tmp/tmpGnIsYu      7  Monooxygenase_B  PF04744.11   Ga0073928_100047775   \n",
       "..              ...    ...              ...         ...                   ...   \n",
       "361  /tmp/tmpi0yI4x    117             AmoC  PF04896.11   Ga0073928_119442401   \n",
       "360  /tmp/tmpi0yI4x    117             AmoC  PF04896.11   Ga0073928_119442701   \n",
       "359  /tmp/tmpi0yI4x    117  Monooxygenase_B  PF04744.11   Ga0073928_119443151   \n",
       "358  /tmp/tmpi0yI4x    117              AMO  PF02461.15   Ga0073928_119456791   \n",
       "357  /tmp/tmpi0yI4x    117              AMO  PF02461.15   Ga0073928_119469301   \n",
       "356  /tmp/tmpi0yI4x    117             AmoC  PF04896.11   Ga0073928_119471621   \n",
       "354  /tmp/tmpi0yI4x    117              AMO  PF02461.15   Ga0073928_119471871   \n",
       "374  /tmp/tmpi0yI4x    117             AmoC  PF04896.11   Ga0073928_119478191   \n",
       "373  /tmp/tmpi0yI4x    117             AmoC  PF04896.11   Ga0073928_119483431   \n",
       "377  /tmp/tmpqlB2K0    118             AmoC  PF04896.11   Ga0073928_119489771   \n",
       "378  /tmp/tmpqlB2K0    118             AmoC  PF04896.11   Ga0073928_119489791   \n",
       "379  /tmp/tmpqlB2K0    118             AmoC  PF04896.11   Ga0073928_119491111   \n",
       "380  /tmp/tmpqlB2K0    118             AmoC  PF04896.11   Ga0073928_119501781   \n",
       "381  /tmp/tmpqlB2K0    118             AmoC  PF04896.11   Ga0073928_119512211   \n",
       "382  /tmp/tmpqlB2K0    118              AMO  PF02461.15   Ga0073928_119518011   \n",
       "383  /tmp/tmpqlB2K0    118  Monooxygenase_B  PF04744.11   Ga0073928_119518771   \n",
       "384  /tmp/tmpqlB2K0    118              AMO  PF02461.15   Ga0073928_119524091   \n",
       "385  /tmp/tmpqlB2K0    118             AmoC  PF04896.11   Ga0073928_119532261   \n",
       "386  /tmp/tmpqlB2K0    118             AmoC  PF04896.11   Ga0073928_119538351   \n",
       "395  /tmp/tmpqlB2K0    118             AmoC  PF04896.11   Ga0073928_119573671   \n",
       "387  /tmp/tmpqlB2K0    118             AmoC  PF04896.11   Ga0073928_119578921   \n",
       "396  /tmp/tmpqlB2K0    118             AmoC  PF04896.11   Ga0073928_119588171   \n",
       "388  /tmp/tmpqlB2K0    118  Monooxygenase_B  PF04744.11   Ga0073928_119589671   \n",
       "389  /tmp/tmpqlB2K0    118              AMO  PF02461.15   Ga0073928_119599571   \n",
       "390  /tmp/tmpqlB2K0    118             AmoC  PF04896.11   Ga0073928_119611271   \n",
       "391  /tmp/tmpqlB2K0    118  Monooxygenase_B  PF04744.11   Ga0073928_119624601   \n",
       "392  /tmp/tmpqlB2K0    118              AMO  PF02461.15   Ga0073928_119624971   \n",
       "393  /tmp/tmpqlB2K0    118              AMO  PF02461.15   Ga0073928_119627031   \n",
       "394  /tmp/tmpqlB2K0    118              AMO  PF02461.15   Ga0073928_119643351   \n",
       "376  /tmp/tmpqlB2K0    118             AmoC  PF04896.11   Ga0073928_119661171   \n",
       "\n",
       "     3         4      5     6         7  \\\n",
       "0    -   1.3e-05   11.8   0.0   1.6e-05   \n",
       "1    -    0.0021    4.6   6.9   0.00044   \n",
       "2    -   1.8e-05   11.8   0.5   2.9e-05   \n",
       "3    -   4.3e-06   13.8   0.2   4.6e-06   \n",
       "4    -   9.1e-99  318.4   0.6   1.1e-98   \n",
       "5    -   1.2e-66  212.6  23.8   1.4e-66   \n",
       "6    -   1.4e-55  175.9  16.2   1.6e-55   \n",
       "7    -   1.5e-06   15.3   1.6     3e-06   \n",
       "8    -   3.6e-07   17.3   0.8   3.6e-07   \n",
       "9    -     0.015    2.2  15.5   0.00011   \n",
       "10   -     7e-06   13.1   6.3   6.5e-05   \n",
       "11   -   1.4e-06   15.4   0.4   1.4e-06   \n",
       "12   -   1.2e-05   12.3   0.1     2e-05   \n",
       "13   -  3.4e-118  382.4   0.0  3.8e-118   \n",
       "14   -   3.3e-15   43.4   0.0   3.6e-15   \n",
       "15   -   2.2e-93  300.1  22.5   2.4e-93   \n",
       "16   -   1.9e-93  299.9  15.3   2.4e-93   \n",
       "17   -   3.2e-06   14.2   1.8   5.9e-06   \n",
       "18   -     2e-54  172.1  18.2   2.4e-54   \n",
       "19   -   1.3e-65  209.2  21.2   1.5e-65   \n",
       "20   -   1.9e-97  314.0   0.7   2.4e-97   \n",
       "21   -   3.3e-05   11.4   0.0   5.2e-05   \n",
       "24   -   3.4e-05   10.9   3.9   0.00014   \n",
       "25   -   1.2e-05   11.9   1.3   1.2e-05   \n",
       "23   -   1.1e-05   12.1   0.3   1.2e-05   \n",
       "22   -    0.0018    5.2  12.2   4.3e-05   \n",
       "26   -     1e-06   15.8   1.7   2.1e-06   \n",
       "27   -   3.2e-07   17.5   2.9     7e-07   \n",
       "28   -   3.3e-06   13.8   0.0     1e-05   \n",
       "29   -   1.1e-05   12.1   0.0   1.2e-05   \n",
       "..  ..       ...    ...   ...       ...   \n",
       "361  -   3.6e-22   66.5   0.1     4e-22   \n",
       "360  -   1.9e-19   57.6   0.0   2.1e-19   \n",
       "359  -   1.3e-37  117.1   0.1   1.5e-37   \n",
       "358  -   6.3e-29   89.1   1.0   7.3e-29   \n",
       "357  -   3.9e-24   73.4   0.3   4.2e-24   \n",
       "356  -   2.5e-40  125.9   2.6   2.8e-40   \n",
       "354  -   1.5e-42  133.7   2.8   1.6e-42   \n",
       "374  -   4.9e-39  121.7   3.3   5.3e-39   \n",
       "373  -   8.5e-35  107.8   6.5   9.3e-35   \n",
       "377  -     5e-20   59.5   0.0   5.4e-20   \n",
       "378  -     5e-20   59.5   0.0   5.4e-20   \n",
       "379  -   6.2e-23   69.0   0.1   6.4e-23   \n",
       "380  -   4.9e-40  125.0   4.9   5.4e-40   \n",
       "381  -   1.1e-47  150.0   9.5   1.2e-47   \n",
       "382  -   2.5e-40  126.4   7.0   2.7e-40   \n",
       "383  -   1.4e-26   80.8   0.1   1.5e-26   \n",
       "384  -   5.3e-39  122.1   5.1   5.7e-39   \n",
       "385  -     3e-42  132.2   1.7   3.2e-42   \n",
       "386  -   2.6e-25   76.8   1.4   2.8e-25   \n",
       "395  -     6e-37  114.9   3.2   6.6e-37   \n",
       "387  -   7.8e-20   58.8   0.0   8.1e-20   \n",
       "396  -   5.2e-36  111.8   4.9   5.6e-36   \n",
       "388  -   1.2e-26   81.1   0.1   1.3e-26   \n",
       "389  -   5.1e-36  112.3   4.9   5.5e-36   \n",
       "390  -   2.8e-33  102.9   3.8     3e-33   \n",
       "391  -   1.2e-05   11.9   0.1   1.3e-05   \n",
       "392  -   1.8e-35  110.5   6.2   1.9e-35   \n",
       "393  -   2.5e-28   87.1   0.2   2.7e-28   \n",
       "394  -   9.1e-32   98.4   5.1   9.8e-32   \n",
       "376  -   1.3e-30   94.1   1.0   1.3e-30   \n",
       "\n",
       "                           ...                         13 14 15 16 17  \\\n",
       "0                          ...                          0  1  1  1  1   \n",
       "1                          ...                          0  2  2  2  1   \n",
       "2                          ...                          0  1  1  1  1   \n",
       "3                          ...                          0  1  1  1  1   \n",
       "4                          ...                          0  1  1  1  1   \n",
       "5                          ...                          0  1  1  1  1   \n",
       "6                          ...                          0  1  1  1  1   \n",
       "7                          ...                          0  1  1  1  1   \n",
       "8                          ...                          0  2  2  2  1   \n",
       "9                          ...                          0  3  3  3  0   \n",
       "10                         ...                          0  1  1  1  1   \n",
       "11                         ...                          0  2  2  2  1   \n",
       "12                         ...                          0  1  1  1  1   \n",
       "13                         ...                          0  1  1  1  1   \n",
       "14                         ...                          0  1  1  1  1   \n",
       "15                         ...                          0  1  1  1  1   \n",
       "16                         ...                          0  1  1  1  1   \n",
       "17                         ...                          0  1  1  1  1   \n",
       "18                         ...                          0  1  1  1  1   \n",
       "19                         ...                          0  1  1  1  1   \n",
       "20                         ...                          0  1  1  1  1   \n",
       "21                         ...                          0  1  1  1  1   \n",
       "24                         ...                          0  1  1  1  1   \n",
       "25                         ...                          0  2  2  2  1   \n",
       "23                         ...                          0  1  1  1  1   \n",
       "22                         ...                          0  2  2  2  1   \n",
       "26                         ...                          0  1  1  1  1   \n",
       "27                         ...                          0  1  1  1  1   \n",
       "28                         ...                          1  2  2  2  1   \n",
       "29                         ...                          0  1  1  1  1   \n",
       "..                         ...                         .. .. .. .. ..   \n",
       "361                        ...                          0  1  1  1  1   \n",
       "360                        ...                          0  1  1  1  1   \n",
       "359                        ...                          0  1  1  1  1   \n",
       "358                        ...                          0  1  1  1  1   \n",
       "357                        ...                          0  1  1  1  1   \n",
       "356                        ...                          0  1  1  1  1   \n",
       "354                        ...                          0  1  1  1  1   \n",
       "374                        ...                          0  1  1  1  1   \n",
       "373                        ...                          0  1  1  1  1   \n",
       "377                        ...                          0  1  1  1  1   \n",
       "378                        ...                          0  1  1  1  1   \n",
       "379                        ...                          0  1  1  1  1   \n",
       "380                        ...                          0  1  1  1  1   \n",
       "381                        ...                          0  1  1  1  1   \n",
       "382                        ...                          0  1  1  1  1   \n",
       "383                        ...                          0  1  1  1  1   \n",
       "384                        ...                          0  1  1  1  1   \n",
       "385                        ...                          0  1  1  1  1   \n",
       "386                        ...                          0  1  1  1  1   \n",
       "395                        ...                          0  1  1  1  1   \n",
       "387                        ...                          0  1  1  1  1   \n",
       "396                        ...                          0  1  1  1  1   \n",
       "388                        ...                          0  1  1  1  1   \n",
       "389                        ...                          0  1  1  1  1   \n",
       "390                        ...                          0  1  1  1  1   \n",
       "391                        ...                          0  1  1  1  1   \n",
       "392                        ...                          0  1  1  1  1   \n",
       "393                        ...                          0  1  1  1  1   \n",
       "394                        ...                          0  1  1  1  1   \n",
       "376                        ...                          0  1  1  1  1   \n",
       "\n",
       "                                                    18                 descr  \\\n",
       "0                      Monooxygenase subunit B protein  Ga0073928_1000008053   \n",
       "1                      Monooxygenase subunit B protein  Ga0073928_1000028111   \n",
       "2    Ammonia monooxygenase/methane monooxygenase, s...  Ga0073928_1000040165   \n",
       "3    Ammonia monooxygenase/methane monooxygenase, s...   Ga0073928_100004499   \n",
       "4                      Monooxygenase subunit B protein  Ga0073928_1000054854   \n",
       "5                                Ammonia monooxygenase  Ga0073928_1000054856   \n",
       "6    Ammonia monooxygenase/methane monooxygenase, s...  Ga0073928_1000054857   \n",
       "7    Ammonia monooxygenase/methane monooxygenase, s...  Ga0073928_1000062722   \n",
       "8    Ammonia monooxygenase/methane monooxygenase, s...  Ga0073928_1000073153   \n",
       "9    Ammonia monooxygenase/methane monooxygenase, s...  Ga0073928_1000110012   \n",
       "10   Ammonia monooxygenase/methane monooxygenase, s...  Ga0073928_1000113340   \n",
       "11   Ammonia monooxygenase/methane monooxygenase, s...  Ga0073928_1000165619   \n",
       "12   Ammonia monooxygenase/methane monooxygenase, s...  Ga0073928_1000187319   \n",
       "13                     Monooxygenase subunit B protein  Ga0073928_1000187914   \n",
       "14                     Monooxygenase subunit B protein  Ga0073928_1000187915   \n",
       "15                               Ammonia monooxygenase  Ga0073928_1000187916   \n",
       "16   Ammonia monooxygenase/methane monooxygenase, s...  Ga0073928_1000187917   \n",
       "17   Ammonia monooxygenase/methane monooxygenase, s...  Ga0073928_1000188722   \n",
       "18   Ammonia monooxygenase/methane monooxygenase, s...   Ga0073928_100023124   \n",
       "19                               Ammonia monooxygenase   Ga0073928_100023125   \n",
       "20                     Monooxygenase subunit B protein   Ga0073928_100023127   \n",
       "21                               Ammonia monooxygenase   Ga0073928_100026867   \n",
       "24   Ammonia monooxygenase/methane monooxygenase, s...  Ga0073928_1000279116   \n",
       "25                     Monooxygenase subunit B protein  Ga0073928_1000303412   \n",
       "23                     Monooxygenase subunit B protein  Ga0073928_1000319323   \n",
       "22   Ammonia monooxygenase/methane monooxygenase, s...  Ga0073928_1000354625   \n",
       "26   Ammonia monooxygenase/methane monooxygenase, s...  Ga0073928_1000424716   \n",
       "27   Ammonia monooxygenase/methane monooxygenase, s...  Ga0073928_1000426210   \n",
       "28                     Monooxygenase subunit B protein  Ga0073928_1000470916   \n",
       "29                     Monooxygenase subunit B protein   Ga0073928_100047775   \n",
       "..                                                 ...                   ...   \n",
       "361  Ammonia monooxygenase/methane monooxygenase, s...   Ga0073928_119442401   \n",
       "360  Ammonia monooxygenase/methane monooxygenase, s...   Ga0073928_119442701   \n",
       "359                    Monooxygenase subunit B protein   Ga0073928_119443151   \n",
       "358                              Ammonia monooxygenase   Ga0073928_119456791   \n",
       "357                              Ammonia monooxygenase   Ga0073928_119469301   \n",
       "356  Ammonia monooxygenase/methane monooxygenase, s...   Ga0073928_119471621   \n",
       "354                              Ammonia monooxygenase   Ga0073928_119471871   \n",
       "374  Ammonia monooxygenase/methane monooxygenase, s...   Ga0073928_119478191   \n",
       "373  Ammonia monooxygenase/methane monooxygenase, s...   Ga0073928_119483431   \n",
       "377  Ammonia monooxygenase/methane monooxygenase, s...   Ga0073928_119489771   \n",
       "378  Ammonia monooxygenase/methane monooxygenase, s...   Ga0073928_119489791   \n",
       "379  Ammonia monooxygenase/methane monooxygenase, s...   Ga0073928_119491111   \n",
       "380  Ammonia monooxygenase/methane monooxygenase, s...   Ga0073928_119501781   \n",
       "381  Ammonia monooxygenase/methane monooxygenase, s...   Ga0073928_119512211   \n",
       "382                              Ammonia monooxygenase   Ga0073928_119518011   \n",
       "383                    Monooxygenase subunit B protein   Ga0073928_119518771   \n",
       "384                              Ammonia monooxygenase   Ga0073928_119524091   \n",
       "385  Ammonia monooxygenase/methane monooxygenase, s...   Ga0073928_119532261   \n",
       "386  Ammonia monooxygenase/methane monooxygenase, s...   Ga0073928_119538351   \n",
       "395  Ammonia monooxygenase/methane monooxygenase, s...   Ga0073928_119573671   \n",
       "387  Ammonia monooxygenase/methane monooxygenase, s...   Ga0073928_119578921   \n",
       "396  Ammonia monooxygenase/methane monooxygenase, s...   Ga0073928_119588171   \n",
       "388                    Monooxygenase subunit B protein   Ga0073928_119589671   \n",
       "389                              Ammonia monooxygenase   Ga0073928_119599571   \n",
       "390  Ammonia monooxygenase/methane monooxygenase, s...   Ga0073928_119611271   \n",
       "391                    Monooxygenase subunit B protein   Ga0073928_119624601   \n",
       "392                              Ammonia monooxygenase   Ga0073928_119624971   \n",
       "393                              Ammonia monooxygenase   Ga0073928_119627031   \n",
       "394                              Ammonia monooxygenase   Ga0073928_119643351   \n",
       "376  Ammonia monooxygenase/methane monooxygenase, s...   Ga0073928_119661171   \n",
       "\n",
       "    position                   qid  \\\n",
       "0      25186  Ga0073928_1000008053   \n",
       "1      54949  Ga0073928_1000028111   \n",
       "2      67923  Ga0073928_1000040165   \n",
       "3      72299   Ga0073928_100004499   \n",
       "4      80785  Ga0073928_1000054854   \n",
       "5      80787  Ga0073928_1000054856   \n",
       "6      80788  Ga0073928_1000054857   \n",
       "7      87047  Ga0073928_1000062722   \n",
       "8      94490  Ga0073928_1000073153   \n",
       "9     116259  Ga0073928_1000110012   \n",
       "10    117995  Ga0073928_1000113340   \n",
       "11    141868  Ga0073928_1000165619   \n",
       "12    150445  Ga0073928_1000187319   \n",
       "13    150642  Ga0073928_1000187914   \n",
       "14    150643  Ga0073928_1000187915   \n",
       "15    150644  Ga0073928_1000187916   \n",
       "16    150645  Ga0073928_1000187917   \n",
       "17    150941  Ga0073928_1000188722   \n",
       "18    165876   Ga0073928_100023124   \n",
       "19    165877   Ga0073928_100023125   \n",
       "20    165879   Ga0073928_100023127   \n",
       "21    177743   Ga0073928_100026867   \n",
       "24    180794  Ga0073928_1000279116   \n",
       "25    187576  Ga0073928_1000303412   \n",
       "23    191730  Ga0073928_1000319323   \n",
       "22    200529  Ga0073928_1000354625   \n",
       "26    216390  Ga0073928_1000424716   \n",
       "27    216725  Ga0073928_1000426210   \n",
       "28    226146  Ga0073928_1000470916   \n",
       "29    227425   Ga0073928_100047775   \n",
       "..       ...                   ...   \n",
       "361  3535209   Ga0073928_119442401   \n",
       "360  3535239   Ga0073928_119442701   \n",
       "359  3535288   Ga0073928_119443151   \n",
       "358  3536683   Ga0073928_119456791   \n",
       "357  3537951   Ga0073928_119469301   \n",
       "356  3538192   Ga0073928_119471621   \n",
       "354  3538218   Ga0073928_119471871   \n",
       "374  3538863   Ga0073928_119478191   \n",
       "373  3539379   Ga0073928_119483431   \n",
       "377  3540043   Ga0073928_119489771   \n",
       "378  3540046   Ga0073928_119489791   \n",
       "379  3540183   Ga0073928_119491111   \n",
       "380  3541279   Ga0073928_119501781   \n",
       "381  3542353   Ga0073928_119512211   \n",
       "382  3542949   Ga0073928_119518011   \n",
       "383  3543026   Ga0073928_119518771   \n",
       "384  3543568   Ga0073928_119524091   \n",
       "385  3544408   Ga0073928_119532261   \n",
       "386  3545073   Ga0073928_119538351   \n",
       "395  3548878   Ga0073928_119573671   \n",
       "387  3549409   Ga0073928_119578921   \n",
       "396  3550337   Ga0073928_119588171   \n",
       "388  3550476   Ga0073928_119589671   \n",
       "389  3551457   Ga0073928_119599571   \n",
       "390  3552606   Ga0073928_119611271   \n",
       "391  3553872   Ga0073928_119624601   \n",
       "392  3553912   Ga0073928_119624971   \n",
       "393  3554112   Ga0073928_119627031   \n",
       "394  3555658   Ga0073928_119643351   \n",
       "376  3557314   Ga0073928_119661171   \n",
       "\n",
       "                                                   seq  \n",
       "0    (M, R, N, W, L, P, P, V, L, I, L, L, I, A, G, ...  \n",
       "1    (M, T, A, T, N, G, P, A, L, T, V, W, F, A, L, ...  \n",
       "2    (L, R, P, L, T, L, S, R, L, L, T, H, C, A, I, ...  \n",
       "3    (M, E, Q, R, R, S, L, L, A, V, G, F, L, A, V, ...  \n",
       "4    (M, R, I, R, F, P, V, L, S, A, A, L, L, I, L, ...  \n",
       "5    (M, A, T, A, P, S, I, A, A, A, A, A, A, E, R, ...  \n",
       "6    (M, R, S, M, E, E, V, A, A, G, R, P, P, T, G, ...  \n",
       "7    (M, T, T, V, D, V, M, N, L, F, V, S, A, V, L, ...  \n",
       "8    (M, P, A, P, S, R, L, S, E, I, D, V, T, R, G, ...  \n",
       "9    (M, S, S, A, A, S, A, P, A, A, L, E, V, S, S, ...  \n",
       "10   (M, L, A, V, H, I, Q, L, T, I, V, A, T, F, F, ...  \n",
       "11   (M, V, L, M, A, L, D, H, T, R, D, F, F, G, D, ...  \n",
       "12   (M, N, S, P, E, T, Q, S, D, S, S, S, Q, E, T, ...  \n",
       "13   (M, A, N, W, P, L, E, I, P, S, P, A, G, L, T, ...  \n",
       "14   (V, T, L, P, A, L, L, A, A, V, I, A, L, G, F, ...  \n",
       "15   (M, T, A, A, R, M, A, R, S, Q, P, A, I, T, S, ...  \n",
       "16   (M, A, T, A, L, N, T, A, K, L, G, A, P, A, Q, ...  \n",
       "17   (M, N, I, V, D, F, L, N, L, L, V, A, A, V, L, ...  \n",
       "18   (M, D, S, T, R, Q, A, L, G, L, E, E, G, R, Y, ...  \n",
       "19   (M, A, S, T, P, A, A, L, T, A, A, E, R, Q, H, ...  \n",
       "20   (M, R, K, W, F, V, I, S, I, P, A, I, L, L, L, ...  \n",
       "21   (M, S, S, T, I, V, Q, K, P, S, A, G, Q, P, V, ...  \n",
       "24   (M, T, C, I, T, V, G, I, I, W, D, I, S, W, H, ...  \n",
       "25   (M, P, R, N, F, R, T, T, A, A, W, R, I, S, I, ...  \n",
       "23   (M, S, D, R, D, V, T, H, S, D, L, V, E, I, A, ...  \n",
       "22   (M, S, S, L, P, L, S, T, H, Q, V, R, A, T, P, ...  \n",
       "26   (M, T, T, V, D, I, V, N, L, F, V, S, A, L, L, ...  \n",
       "27   (M, A, A, A, P, L, A, L, G, V, G, V, G, V, A, ...  \n",
       "28   (M, A, G, P, R, R, L, N, L, S, C, N, A, H, G, ...  \n",
       "29   (M, R, L, G, Q, T, V, K, L, R, F, I, G, T, S, ...  \n",
       "..                                                 ...  \n",
       "361  (D, M, S, L, V, T, G, T, A, R, T, G, E, A, A, ...  \n",
       "360  (E, A, S, D, M, S, L, V, T, G, T, A, R, T, G, ...  \n",
       "359  (I, P, W, G, L, T, F, T, P, S, T, A, L, A, H, ...  \n",
       "358  (M, T, V, E, A, L, E, I, P, T, K, P, Y, T, G, ...  \n",
       "357  (S, F, V, V, T, S, V, I, G, G, P, I, W, A, I, ...  \n",
       "356  (G, L, D, S, F, A, P, E, F, T, T, Y, W, M, T, ...  \n",
       "354  (V, I, L, A, Q, F, H, Q, P, T, E, Q, Y, G, T, ...  \n",
       "374  (D, S, F, A, P, E, F, T, T, Y, W, M, T, I, L, ...  \n",
       "373  (F, A, T, H, W, M, R, L, L, Y, I, E, A, I, F, ...  \n",
       "377  (V, T, G, T, A, R, T, G, E, A, A, A, V, A, E, ...  \n",
       "378  (V, T, G, T, A, R, T, G, E, A, A, A, V, A, E, ...  \n",
       "379  (A, R, T, G, E, A, A, A, V, A, E, A, P, L, F, ...  \n",
       "380  (W, M, T, I, L, Y, I, E, E, P, V, E, L, I, S, ...  \n",
       "381  (D, F, T, P, S, H, I, I, E, F, Y, M, S, Y, P, ...  \n",
       "382  (L, L, I, L, T, F, L, F, L, I, M, I, G, G, Y, ...  \n",
       "383  (R, Q, A, G, R, L, W, A, L, G, L, A, A, G, L, ...  \n",
       "384  (V, A, L, L, F, G, E, W, L, D, R, Y, I, S, F, ...  \n",
       "385  (I, E, E, P, V, E, L, I, S, F, L, A, L, V, G, ...  \n",
       "386  (I, R, D, T, D, F, T, P, S, H, I, I, E, F, Y, ...  \n",
       "395  (A, P, E, F, T, T, Y, W, M, T, I, L, Y, I, E, ...  \n",
       "387  (A, R, T, G, E, A, A, A, V, A, E, A, P, L, F, ...  \n",
       "396  (T, M, W, I, S, I, Y, T, F, A, V, Y, W, A, G, ...  \n",
       "388  (L, W, A, L, G, L, A, A, G, L, A, L, T, M, A, ...  \n",
       "389  (W, L, D, R, Y, I, S, F, W, G, W, T, F, Y, P, ...  \n",
       "390  (W, M, T, I, L, Y, I, E, E, P, V, E, L, I, S, ...  \n",
       "391  (Q, D, D, D, D, E, V, I, S, S, I, N, T, T, P, ...  \n",
       "392  (L, L, I, L, T, F, L, F, L, I, M, I, G, G, Y, ...  \n",
       "393  (Q, Y, I, R, A, G, T, P, E, Y, L, R, L, I, E, ...  \n",
       "394  (L, P, I, M, L, V, T, F, P, A, A, A, Q, Y, F, ...  \n",
       "376  (I, E, E, P, V, E, L, I, S, F, L, A, L, V, G, ...  \n",
       "\n",
       "[397 rows x 25 columns]"
      ]
     },
     "execution_count": 18,
     "metadata": {},
     "output_type": "execute_result"
    }
   ],
   "source": [
    "names=df_scramb[2].tolist()\n",
    "df_scramb=df_scramb.merge(extractFeatures2(names), left_on=2, right_on='qid', suffixes=('',''))\n",
    "df_scramb.sort_values('position', inplace=True)\n",
    "df_scramb.head()"
   ]
  },
  {
   "cell_type": "code",
   "execution_count": 19,
   "metadata": {
    "collapsed": false
   },
   "outputs": [
    {
     "data": {
      "text/html": [
       "<div>\n",
       "<table border=\"1\" class=\"dataframe\">\n",
       "  <thead>\n",
       "    <tr style=\"text-align: right;\">\n",
       "      <th></th>\n",
       "      <th>query file</th>\n",
       "      <th>label</th>\n",
       "      <th>0</th>\n",
       "      <th>1</th>\n",
       "      <th>2</th>\n",
       "      <th>3</th>\n",
       "      <th>4</th>\n",
       "      <th>5</th>\n",
       "      <th>6</th>\n",
       "      <th>7</th>\n",
       "      <th>...</th>\n",
       "      <th>descr</th>\n",
       "      <th>position</th>\n",
       "      <th>qid</th>\n",
       "      <th>seq</th>\n",
       "      <th>diff1</th>\n",
       "      <th>diff2</th>\n",
       "      <th>is_operon</th>\n",
       "      <th>rel_coordinates</th>\n",
       "      <th>operon_count</th>\n",
       "      <th>type</th>\n",
       "    </tr>\n",
       "  </thead>\n",
       "  <tbody>\n",
       "    <tr>\n",
       "      <th>0</th>\n",
       "      <td>/tmp/tmpMYGkLN</td>\n",
       "      <td>0</td>\n",
       "      <td>Monooxygenase_B</td>\n",
       "      <td>PF04744.11</td>\n",
       "      <td>Ga0073928_1000008053</td>\n",
       "      <td>-</td>\n",
       "      <td>1.3e-05</td>\n",
       "      <td>11.8</td>\n",
       "      <td>0.0</td>\n",
       "      <td>1.6e-05</td>\n",
       "      <td>...</td>\n",
       "      <td>Ga0073928_1000008053</td>\n",
       "      <td>25186</td>\n",
       "      <td>Ga0073928_1000008053</td>\n",
       "      <td>(M, R, N, W, L, P, P, V, L, I, L, L, I, A, G, ...</td>\n",
       "      <td>25186</td>\n",
       "      <td>29763</td>\n",
       "      <td>False</td>\n",
       "      <td>0</td>\n",
       "      <td>False</td>\n",
       "      <td>B</td>\n",
       "    </tr>\n",
       "    <tr>\n",
       "      <th>1</th>\n",
       "      <td>/tmp/tmp9y2d9e</td>\n",
       "      <td>1</td>\n",
       "      <td>Monooxygenase_B</td>\n",
       "      <td>PF04744.11</td>\n",
       "      <td>Ga0073928_1000028111</td>\n",
       "      <td>-</td>\n",
       "      <td>0.0021</td>\n",
       "      <td>4.6</td>\n",
       "      <td>6.9</td>\n",
       "      <td>0.00044</td>\n",
       "      <td>...</td>\n",
       "      <td>Ga0073928_1000028111</td>\n",
       "      <td>54949</td>\n",
       "      <td>Ga0073928_1000028111</td>\n",
       "      <td>(M, T, A, T, N, G, P, A, L, T, V, W, F, A, L, ...</td>\n",
       "      <td>29763</td>\n",
       "      <td>12974</td>\n",
       "      <td>False</td>\n",
       "      <td>0</td>\n",
       "      <td>False</td>\n",
       "      <td>B</td>\n",
       "    </tr>\n",
       "    <tr>\n",
       "      <th>2</th>\n",
       "      <td>/tmp/tmpROJKzH</td>\n",
       "      <td>2</td>\n",
       "      <td>AmoC</td>\n",
       "      <td>PF04896.11</td>\n",
       "      <td>Ga0073928_1000040165</td>\n",
       "      <td>-</td>\n",
       "      <td>1.8e-05</td>\n",
       "      <td>11.8</td>\n",
       "      <td>0.5</td>\n",
       "      <td>2.9e-05</td>\n",
       "      <td>...</td>\n",
       "      <td>Ga0073928_1000040165</td>\n",
       "      <td>67923</td>\n",
       "      <td>Ga0073928_1000040165</td>\n",
       "      <td>(L, R, P, L, T, L, S, R, L, L, T, H, C, A, I, ...</td>\n",
       "      <td>12974</td>\n",
       "      <td>4376</td>\n",
       "      <td>False</td>\n",
       "      <td>0</td>\n",
       "      <td>False</td>\n",
       "      <td>C</td>\n",
       "    </tr>\n",
       "    <tr>\n",
       "      <th>3</th>\n",
       "      <td>/tmp/tmpROJKzH</td>\n",
       "      <td>2</td>\n",
       "      <td>AmoC</td>\n",
       "      <td>PF04896.11</td>\n",
       "      <td>Ga0073928_100004499</td>\n",
       "      <td>-</td>\n",
       "      <td>4.3e-06</td>\n",
       "      <td>13.8</td>\n",
       "      <td>0.2</td>\n",
       "      <td>4.6e-06</td>\n",
       "      <td>...</td>\n",
       "      <td>Ga0073928_100004499</td>\n",
       "      <td>72299</td>\n",
       "      <td>Ga0073928_100004499</td>\n",
       "      <td>(M, E, Q, R, R, S, L, L, A, V, G, F, L, A, V, ...</td>\n",
       "      <td>4376</td>\n",
       "      <td>8486</td>\n",
       "      <td>False</td>\n",
       "      <td>0</td>\n",
       "      <td>False</td>\n",
       "      <td>C</td>\n",
       "    </tr>\n",
       "    <tr>\n",
       "      <th>4</th>\n",
       "      <td>/tmp/tmpROJKzH</td>\n",
       "      <td>2</td>\n",
       "      <td>Monooxygenase_B</td>\n",
       "      <td>PF04744.11</td>\n",
       "      <td>Ga0073928_1000054854</td>\n",
       "      <td>-</td>\n",
       "      <td>9.1e-99</td>\n",
       "      <td>318.4</td>\n",
       "      <td>0.6</td>\n",
       "      <td>1.1e-98</td>\n",
       "      <td>...</td>\n",
       "      <td>Ga0073928_1000054854</td>\n",
       "      <td>80785</td>\n",
       "      <td>Ga0073928_1000054854</td>\n",
       "      <td>(M, R, I, R, F, P, V, L, S, A, A, L, L, I, L, ...</td>\n",
       "      <td>8486</td>\n",
       "      <td>2</td>\n",
       "      <td>True</td>\n",
       "      <td>2</td>\n",
       "      <td>1</td>\n",
       "      <td>B</td>\n",
       "    </tr>\n",
       "  </tbody>\n",
       "</table>\n",
       "<p>5 rows × 31 columns</p>\n",
       "</div>"
      ],
      "text/plain": [
       "       query file  label                0           1                     2  \\\n",
       "0  /tmp/tmpMYGkLN      0  Monooxygenase_B  PF04744.11  Ga0073928_1000008053   \n",
       "1  /tmp/tmp9y2d9e      1  Monooxygenase_B  PF04744.11  Ga0073928_1000028111   \n",
       "2  /tmp/tmpROJKzH      2             AmoC  PF04896.11  Ga0073928_1000040165   \n",
       "3  /tmp/tmpROJKzH      2             AmoC  PF04896.11   Ga0073928_100004499   \n",
       "4  /tmp/tmpROJKzH      2  Monooxygenase_B  PF04744.11  Ga0073928_1000054854   \n",
       "\n",
       "   3        4      5    6        7 ...                  descr position  \\\n",
       "0  -  1.3e-05   11.8  0.0  1.6e-05 ...   Ga0073928_1000008053    25186   \n",
       "1  -   0.0021    4.6  6.9  0.00044 ...   Ga0073928_1000028111    54949   \n",
       "2  -  1.8e-05   11.8  0.5  2.9e-05 ...   Ga0073928_1000040165    67923   \n",
       "3  -  4.3e-06   13.8  0.2  4.6e-06 ...    Ga0073928_100004499    72299   \n",
       "4  -  9.1e-99  318.4  0.6  1.1e-98 ...   Ga0073928_1000054854    80785   \n",
       "\n",
       "                    qid                                                seq  \\\n",
       "0  Ga0073928_1000008053  (M, R, N, W, L, P, P, V, L, I, L, L, I, A, G, ...   \n",
       "1  Ga0073928_1000028111  (M, T, A, T, N, G, P, A, L, T, V, W, F, A, L, ...   \n",
       "2  Ga0073928_1000040165  (L, R, P, L, T, L, S, R, L, L, T, H, C, A, I, ...   \n",
       "3   Ga0073928_100004499  (M, E, Q, R, R, S, L, L, A, V, G, F, L, A, V, ...   \n",
       "4  Ga0073928_1000054854  (M, R, I, R, F, P, V, L, S, A, A, L, L, I, L, ...   \n",
       "\n",
       "   diff1  diff2 is_operon rel_coordinates operon_count type  \n",
       "0  25186  29763     False               0        False    B  \n",
       "1  29763  12974     False               0        False    B  \n",
       "2  12974   4376     False               0        False    C  \n",
       "3   4376   8486     False               0        False    C  \n",
       "4   8486      2      True               2            1    B  \n",
       "\n",
       "[5 rows x 31 columns]"
      ]
     },
     "execution_count": 19,
     "metadata": {},
     "output_type": "execute_result"
    }
   ],
   "source": [
    "import numpy as np\n",
    "max_distance=3\n",
    "min_operon_size=2\n",
    "\n",
    "#df_scramb.sort_values('position')\n",
    "model2type={'AmoC': 'C', 'AMO': 'A', 'Monooxygenase_B': 'B'}\n",
    "\n",
    "\n",
    "\n",
    "l=df_scramb['position'].tolist()\n",
    "\n",
    "df_scramb['diff1']=abs((np.array(l)-np.array([0] + l[:-1])))#shift to left\n",
    "df_scramb['diff2']=abs(np.array(l)-np.array(l[1:]+[0]))#shift to right\n",
    "#df[(df['diff1'] <= 2) | (df['diff2'] <= 2)]\n",
    "\n",
    "df_scramb['is_operon']=df_scramb[['diff1', 'diff2']].apply(lambda x: x < max_distance).apply(is_operon, axis=1)\n",
    "\n",
    "df_scramb['rel_coordinates']=df_scramb[['diff1', 'diff2']].apply(rel_coordinates, axis=1)\n",
    "\n",
    "#df_scramb['operon_count']=operonCount(df_scramb['is_operon'].tolist(), df_scramb['position'].tolist())\n",
    "df_scramb['operon_count']=operonCount2(df_scramb['is_operon'].tolist(), df_scramb['position'].tolist())\n",
    "\n",
    "df_scramb['type']=df_scramb[0].apply(lambda x: model2type[x])\n",
    "df_scramb.head()"
   ]
  },
  {
   "cell_type": "code",
   "execution_count": null,
   "metadata": {
    "collapsed": true
   },
   "outputs": [],
   "source": []
  },
  {
   "cell_type": "code",
   "execution_count": 20,
   "metadata": {
    "collapsed": false
   },
   "outputs": [],
   "source": [
    "operons=list()\n",
    "output=pd.DataFrame()\n",
    "for count,frame in df_scramb.groupby('operon_count', sort=False):\n",
    "    if count > 0:\n",
    "        #print(\"***********\"+str(count)+\"*****************************\")\n",
    "        #print(frame)\n",
    "#         \n",
    "        #frame.columns = ['{}_{}'.format(*c) for c in df.columns]\n",
    "\n",
    "        #frame=frame.stack().to_frame().T\n",
    "        \n",
    "        #frame.columns=frame.columns.droplevel(0)\n",
    "        operons.append(frame.copy())\n",
    "        #output=output.append(frame, ignore_index=True)\n",
    "        #print('===========================================================')"
   ]
  },
  {
   "cell_type": "code",
   "execution_count": 21,
   "metadata": {
    "collapsed": false
   },
   "outputs": [
    {
     "data": {
      "text/html": [
       "<div>\n",
       "<table border=\"1\" class=\"dataframe\">\n",
       "  <thead>\n",
       "    <tr style=\"text-align: right;\">\n",
       "      <th></th>\n",
       "      <th>query file</th>\n",
       "      <th>label</th>\n",
       "      <th>0</th>\n",
       "      <th>1</th>\n",
       "      <th>2</th>\n",
       "      <th>3</th>\n",
       "      <th>4</th>\n",
       "      <th>5</th>\n",
       "      <th>6</th>\n",
       "      <th>7</th>\n",
       "      <th>...</th>\n",
       "      <th>descr</th>\n",
       "      <th>position</th>\n",
       "      <th>qid</th>\n",
       "      <th>seq</th>\n",
       "      <th>diff1</th>\n",
       "      <th>diff2</th>\n",
       "      <th>is_operon</th>\n",
       "      <th>rel_coordinates</th>\n",
       "      <th>operon_count</th>\n",
       "      <th>type</th>\n",
       "    </tr>\n",
       "  </thead>\n",
       "  <tbody>\n",
       "    <tr>\n",
       "      <th>0</th>\n",
       "      <td>/tmp/tmpMYGkLN</td>\n",
       "      <td>0</td>\n",
       "      <td>Monooxygenase_B</td>\n",
       "      <td>PF04744.11</td>\n",
       "      <td>Ga0073928_1000008053</td>\n",
       "      <td>-</td>\n",
       "      <td>1.3e-05</td>\n",
       "      <td>11.8</td>\n",
       "      <td>0.0</td>\n",
       "      <td>1.6e-05</td>\n",
       "      <td>...</td>\n",
       "      <td>Ga0073928_1000008053</td>\n",
       "      <td>25186</td>\n",
       "      <td>Ga0073928_1000008053</td>\n",
       "      <td>(M, R, N, W, L, P, P, V, L, I, L, L, I, A, G, ...</td>\n",
       "      <td>25186</td>\n",
       "      <td>29763</td>\n",
       "      <td>False</td>\n",
       "      <td>0</td>\n",
       "      <td>False</td>\n",
       "      <td>B</td>\n",
       "    </tr>\n",
       "    <tr>\n",
       "      <th>1</th>\n",
       "      <td>/tmp/tmp9y2d9e</td>\n",
       "      <td>1</td>\n",
       "      <td>Monooxygenase_B</td>\n",
       "      <td>PF04744.11</td>\n",
       "      <td>Ga0073928_1000028111</td>\n",
       "      <td>-</td>\n",
       "      <td>0.0021</td>\n",
       "      <td>4.6</td>\n",
       "      <td>6.9</td>\n",
       "      <td>0.00044</td>\n",
       "      <td>...</td>\n",
       "      <td>Ga0073928_1000028111</td>\n",
       "      <td>54949</td>\n",
       "      <td>Ga0073928_1000028111</td>\n",
       "      <td>(M, T, A, T, N, G, P, A, L, T, V, W, F, A, L, ...</td>\n",
       "      <td>29763</td>\n",
       "      <td>12974</td>\n",
       "      <td>False</td>\n",
       "      <td>0</td>\n",
       "      <td>False</td>\n",
       "      <td>B</td>\n",
       "    </tr>\n",
       "    <tr>\n",
       "      <th>2</th>\n",
       "      <td>/tmp/tmpROJKzH</td>\n",
       "      <td>2</td>\n",
       "      <td>AmoC</td>\n",
       "      <td>PF04896.11</td>\n",
       "      <td>Ga0073928_1000040165</td>\n",
       "      <td>-</td>\n",
       "      <td>1.8e-05</td>\n",
       "      <td>11.8</td>\n",
       "      <td>0.5</td>\n",
       "      <td>2.9e-05</td>\n",
       "      <td>...</td>\n",
       "      <td>Ga0073928_1000040165</td>\n",
       "      <td>67923</td>\n",
       "      <td>Ga0073928_1000040165</td>\n",
       "      <td>(L, R, P, L, T, L, S, R, L, L, T, H, C, A, I, ...</td>\n",
       "      <td>12974</td>\n",
       "      <td>4376</td>\n",
       "      <td>False</td>\n",
       "      <td>0</td>\n",
       "      <td>False</td>\n",
       "      <td>C</td>\n",
       "    </tr>\n",
       "    <tr>\n",
       "      <th>3</th>\n",
       "      <td>/tmp/tmpROJKzH</td>\n",
       "      <td>2</td>\n",
       "      <td>AmoC</td>\n",
       "      <td>PF04896.11</td>\n",
       "      <td>Ga0073928_100004499</td>\n",
       "      <td>-</td>\n",
       "      <td>4.3e-06</td>\n",
       "      <td>13.8</td>\n",
       "      <td>0.2</td>\n",
       "      <td>4.6e-06</td>\n",
       "      <td>...</td>\n",
       "      <td>Ga0073928_100004499</td>\n",
       "      <td>72299</td>\n",
       "      <td>Ga0073928_100004499</td>\n",
       "      <td>(M, E, Q, R, R, S, L, L, A, V, G, F, L, A, V, ...</td>\n",
       "      <td>4376</td>\n",
       "      <td>8486</td>\n",
       "      <td>False</td>\n",
       "      <td>0</td>\n",
       "      <td>False</td>\n",
       "      <td>C</td>\n",
       "    </tr>\n",
       "    <tr>\n",
       "      <th>4</th>\n",
       "      <td>/tmp/tmpROJKzH</td>\n",
       "      <td>2</td>\n",
       "      <td>Monooxygenase_B</td>\n",
       "      <td>PF04744.11</td>\n",
       "      <td>Ga0073928_1000054854</td>\n",
       "      <td>-</td>\n",
       "      <td>9.1e-99</td>\n",
       "      <td>318.4</td>\n",
       "      <td>0.6</td>\n",
       "      <td>1.1e-98</td>\n",
       "      <td>...</td>\n",
       "      <td>Ga0073928_1000054854</td>\n",
       "      <td>80785</td>\n",
       "      <td>Ga0073928_1000054854</td>\n",
       "      <td>(M, R, I, R, F, P, V, L, S, A, A, L, L, I, L, ...</td>\n",
       "      <td>8486</td>\n",
       "      <td>2</td>\n",
       "      <td>True</td>\n",
       "      <td>2</td>\n",
       "      <td>1</td>\n",
       "      <td>B</td>\n",
       "    </tr>\n",
       "    <tr>\n",
       "      <th>5</th>\n",
       "      <td>/tmp/tmpROJKzH</td>\n",
       "      <td>2</td>\n",
       "      <td>AMO</td>\n",
       "      <td>PF02461.15</td>\n",
       "      <td>Ga0073928_1000054856</td>\n",
       "      <td>-</td>\n",
       "      <td>1.2e-66</td>\n",
       "      <td>212.6</td>\n",
       "      <td>23.8</td>\n",
       "      <td>1.4e-66</td>\n",
       "      <td>...</td>\n",
       "      <td>Ga0073928_1000054856</td>\n",
       "      <td>80787</td>\n",
       "      <td>Ga0073928_1000054856</td>\n",
       "      <td>(M, A, T, A, P, S, I, A, A, A, A, A, A, E, R, ...</td>\n",
       "      <td>2</td>\n",
       "      <td>1</td>\n",
       "      <td>True</td>\n",
       "      <td>1</td>\n",
       "      <td>1</td>\n",
       "      <td>A</td>\n",
       "    </tr>\n",
       "    <tr>\n",
       "      <th>6</th>\n",
       "      <td>/tmp/tmpROJKzH</td>\n",
       "      <td>2</td>\n",
       "      <td>AmoC</td>\n",
       "      <td>PF04896.11</td>\n",
       "      <td>Ga0073928_1000054857</td>\n",
       "      <td>-</td>\n",
       "      <td>1.4e-55</td>\n",
       "      <td>175.9</td>\n",
       "      <td>16.2</td>\n",
       "      <td>1.6e-55</td>\n",
       "      <td>...</td>\n",
       "      <td>Ga0073928_1000054857</td>\n",
       "      <td>80788</td>\n",
       "      <td>Ga0073928_1000054857</td>\n",
       "      <td>(M, R, S, M, E, E, V, A, A, G, R, P, P, T, G, ...</td>\n",
       "      <td>1</td>\n",
       "      <td>6259</td>\n",
       "      <td>True</td>\n",
       "      <td>1</td>\n",
       "      <td>1</td>\n",
       "      <td>C</td>\n",
       "    </tr>\n",
       "    <tr>\n",
       "      <th>7</th>\n",
       "      <td>/tmp/tmpROJKzH</td>\n",
       "      <td>2</td>\n",
       "      <td>AmoC</td>\n",
       "      <td>PF04896.11</td>\n",
       "      <td>Ga0073928_1000062722</td>\n",
       "      <td>-</td>\n",
       "      <td>1.5e-06</td>\n",
       "      <td>15.3</td>\n",
       "      <td>1.6</td>\n",
       "      <td>3e-06</td>\n",
       "      <td>...</td>\n",
       "      <td>Ga0073928_1000062722</td>\n",
       "      <td>87047</td>\n",
       "      <td>Ga0073928_1000062722</td>\n",
       "      <td>(M, T, T, V, D, V, M, N, L, F, V, S, A, V, L, ...</td>\n",
       "      <td>6259</td>\n",
       "      <td>7443</td>\n",
       "      <td>False</td>\n",
       "      <td>0</td>\n",
       "      <td>False</td>\n",
       "      <td>C</td>\n",
       "    </tr>\n",
       "    <tr>\n",
       "      <th>8</th>\n",
       "      <td>/tmp/tmp3mChYx</td>\n",
       "      <td>3</td>\n",
       "      <td>AmoC</td>\n",
       "      <td>PF04896.11</td>\n",
       "      <td>Ga0073928_1000073153</td>\n",
       "      <td>-</td>\n",
       "      <td>3.6e-07</td>\n",
       "      <td>17.3</td>\n",
       "      <td>0.8</td>\n",
       "      <td>3.6e-07</td>\n",
       "      <td>...</td>\n",
       "      <td>Ga0073928_1000073153</td>\n",
       "      <td>94490</td>\n",
       "      <td>Ga0073928_1000073153</td>\n",
       "      <td>(M, P, A, P, S, R, L, S, E, I, D, V, T, R, G, ...</td>\n",
       "      <td>7443</td>\n",
       "      <td>21769</td>\n",
       "      <td>False</td>\n",
       "      <td>0</td>\n",
       "      <td>False</td>\n",
       "      <td>C</td>\n",
       "    </tr>\n",
       "    <tr>\n",
       "      <th>9</th>\n",
       "      <td>/tmp/tmp3mChYx</td>\n",
       "      <td>3</td>\n",
       "      <td>AmoC</td>\n",
       "      <td>PF04896.11</td>\n",
       "      <td>Ga0073928_1000110012</td>\n",
       "      <td>-</td>\n",
       "      <td>0.015</td>\n",
       "      <td>2.2</td>\n",
       "      <td>15.5</td>\n",
       "      <td>0.00011</td>\n",
       "      <td>...</td>\n",
       "      <td>Ga0073928_1000110012</td>\n",
       "      <td>116259</td>\n",
       "      <td>Ga0073928_1000110012</td>\n",
       "      <td>(M, S, S, A, A, S, A, P, A, A, L, E, V, S, S, ...</td>\n",
       "      <td>21769</td>\n",
       "      <td>1736</td>\n",
       "      <td>False</td>\n",
       "      <td>0</td>\n",
       "      <td>False</td>\n",
       "      <td>C</td>\n",
       "    </tr>\n",
       "  </tbody>\n",
       "</table>\n",
       "<p>10 rows × 31 columns</p>\n",
       "</div>"
      ],
      "text/plain": [
       "       query file  label                0           1                     2  \\\n",
       "0  /tmp/tmpMYGkLN      0  Monooxygenase_B  PF04744.11  Ga0073928_1000008053   \n",
       "1  /tmp/tmp9y2d9e      1  Monooxygenase_B  PF04744.11  Ga0073928_1000028111   \n",
       "2  /tmp/tmpROJKzH      2             AmoC  PF04896.11  Ga0073928_1000040165   \n",
       "3  /tmp/tmpROJKzH      2             AmoC  PF04896.11   Ga0073928_100004499   \n",
       "4  /tmp/tmpROJKzH      2  Monooxygenase_B  PF04744.11  Ga0073928_1000054854   \n",
       "5  /tmp/tmpROJKzH      2              AMO  PF02461.15  Ga0073928_1000054856   \n",
       "6  /tmp/tmpROJKzH      2             AmoC  PF04896.11  Ga0073928_1000054857   \n",
       "7  /tmp/tmpROJKzH      2             AmoC  PF04896.11  Ga0073928_1000062722   \n",
       "8  /tmp/tmp3mChYx      3             AmoC  PF04896.11  Ga0073928_1000073153   \n",
       "9  /tmp/tmp3mChYx      3             AmoC  PF04896.11  Ga0073928_1000110012   \n",
       "\n",
       "   3        4      5     6        7 ...                  descr position  \\\n",
       "0  -  1.3e-05   11.8   0.0  1.6e-05 ...   Ga0073928_1000008053    25186   \n",
       "1  -   0.0021    4.6   6.9  0.00044 ...   Ga0073928_1000028111    54949   \n",
       "2  -  1.8e-05   11.8   0.5  2.9e-05 ...   Ga0073928_1000040165    67923   \n",
       "3  -  4.3e-06   13.8   0.2  4.6e-06 ...    Ga0073928_100004499    72299   \n",
       "4  -  9.1e-99  318.4   0.6  1.1e-98 ...   Ga0073928_1000054854    80785   \n",
       "5  -  1.2e-66  212.6  23.8  1.4e-66 ...   Ga0073928_1000054856    80787   \n",
       "6  -  1.4e-55  175.9  16.2  1.6e-55 ...   Ga0073928_1000054857    80788   \n",
       "7  -  1.5e-06   15.3   1.6    3e-06 ...   Ga0073928_1000062722    87047   \n",
       "8  -  3.6e-07   17.3   0.8  3.6e-07 ...   Ga0073928_1000073153    94490   \n",
       "9  -    0.015    2.2  15.5  0.00011 ...   Ga0073928_1000110012   116259   \n",
       "\n",
       "                    qid                                                seq  \\\n",
       "0  Ga0073928_1000008053  (M, R, N, W, L, P, P, V, L, I, L, L, I, A, G, ...   \n",
       "1  Ga0073928_1000028111  (M, T, A, T, N, G, P, A, L, T, V, W, F, A, L, ...   \n",
       "2  Ga0073928_1000040165  (L, R, P, L, T, L, S, R, L, L, T, H, C, A, I, ...   \n",
       "3   Ga0073928_100004499  (M, E, Q, R, R, S, L, L, A, V, G, F, L, A, V, ...   \n",
       "4  Ga0073928_1000054854  (M, R, I, R, F, P, V, L, S, A, A, L, L, I, L, ...   \n",
       "5  Ga0073928_1000054856  (M, A, T, A, P, S, I, A, A, A, A, A, A, E, R, ...   \n",
       "6  Ga0073928_1000054857  (M, R, S, M, E, E, V, A, A, G, R, P, P, T, G, ...   \n",
       "7  Ga0073928_1000062722  (M, T, T, V, D, V, M, N, L, F, V, S, A, V, L, ...   \n",
       "8  Ga0073928_1000073153  (M, P, A, P, S, R, L, S, E, I, D, V, T, R, G, ...   \n",
       "9  Ga0073928_1000110012  (M, S, S, A, A, S, A, P, A, A, L, E, V, S, S, ...   \n",
       "\n",
       "   diff1  diff2 is_operon rel_coordinates operon_count type  \n",
       "0  25186  29763     False               0        False    B  \n",
       "1  29763  12974     False               0        False    B  \n",
       "2  12974   4376     False               0        False    C  \n",
       "3   4376   8486     False               0        False    C  \n",
       "4   8486      2      True               2            1    B  \n",
       "5      2      1      True               1            1    A  \n",
       "6      1   6259      True               1            1    C  \n",
       "7   6259   7443     False               0        False    C  \n",
       "8   7443  21769     False               0        False    C  \n",
       "9  21769   1736     False               0        False    C  \n",
       "\n",
       "[10 rows x 31 columns]"
      ]
     },
     "execution_count": 21,
     "metadata": {},
     "output_type": "execute_result"
    }
   ],
   "source": [
    "df_scramb.head(10)"
   ]
  },
  {
   "cell_type": "code",
   "execution_count": 24,
   "metadata": {
    "collapsed": false
   },
   "outputs": [
    {
     "data": {
      "text/html": [
       "<div>\n",
       "<table border=\"1\" class=\"dataframe\">\n",
       "  <thead>\n",
       "    <tr style=\"text-align: right;\">\n",
       "      <th></th>\n",
       "      <th>query file</th>\n",
       "      <th>label</th>\n",
       "      <th>0</th>\n",
       "      <th>1</th>\n",
       "      <th>2</th>\n",
       "      <th>3</th>\n",
       "      <th>4</th>\n",
       "      <th>5</th>\n",
       "      <th>6</th>\n",
       "      <th>7</th>\n",
       "      <th>...</th>\n",
       "      <th>descr</th>\n",
       "      <th>position</th>\n",
       "      <th>qid</th>\n",
       "      <th>seq</th>\n",
       "      <th>diff1</th>\n",
       "      <th>diff2</th>\n",
       "      <th>is_operon</th>\n",
       "      <th>rel_coordinates</th>\n",
       "      <th>operon_count</th>\n",
       "      <th>type</th>\n",
       "    </tr>\n",
       "  </thead>\n",
       "  <tbody>\n",
       "    <tr>\n",
       "      <th>18</th>\n",
       "      <td>/tmp/tmpmaGeB8</td>\n",
       "      <td>5</td>\n",
       "      <td>AmoC</td>\n",
       "      <td>PF04896.11</td>\n",
       "      <td>Ga0073928_100023124</td>\n",
       "      <td>-</td>\n",
       "      <td>2e-54</td>\n",
       "      <td>172.1</td>\n",
       "      <td>18.2</td>\n",
       "      <td>2.4e-54</td>\n",
       "      <td>...</td>\n",
       "      <td>Ga0073928_100023124</td>\n",
       "      <td>165876</td>\n",
       "      <td>Ga0073928_100023124</td>\n",
       "      <td>(M, D, S, T, R, Q, A, L, G, L, E, E, G, R, Y, ...</td>\n",
       "      <td>14935</td>\n",
       "      <td>1</td>\n",
       "      <td>True</td>\n",
       "      <td>1</td>\n",
       "      <td>3</td>\n",
       "      <td>C</td>\n",
       "    </tr>\n",
       "    <tr>\n",
       "      <th>19</th>\n",
       "      <td>/tmp/tmpmaGeB8</td>\n",
       "      <td>5</td>\n",
       "      <td>AMO</td>\n",
       "      <td>PF02461.15</td>\n",
       "      <td>Ga0073928_100023125</td>\n",
       "      <td>-</td>\n",
       "      <td>1.3e-65</td>\n",
       "      <td>209.2</td>\n",
       "      <td>21.2</td>\n",
       "      <td>1.5e-65</td>\n",
       "      <td>...</td>\n",
       "      <td>Ga0073928_100023125</td>\n",
       "      <td>165877</td>\n",
       "      <td>Ga0073928_100023125</td>\n",
       "      <td>(M, A, S, T, P, A, A, L, T, A, A, E, R, Q, H, ...</td>\n",
       "      <td>1</td>\n",
       "      <td>2</td>\n",
       "      <td>True</td>\n",
       "      <td>1</td>\n",
       "      <td>3</td>\n",
       "      <td>A</td>\n",
       "    </tr>\n",
       "    <tr>\n",
       "      <th>20</th>\n",
       "      <td>/tmp/tmpmaGeB8</td>\n",
       "      <td>5</td>\n",
       "      <td>Monooxygenase_B</td>\n",
       "      <td>PF04744.11</td>\n",
       "      <td>Ga0073928_100023127</td>\n",
       "      <td>-</td>\n",
       "      <td>1.9e-97</td>\n",
       "      <td>314.0</td>\n",
       "      <td>0.7</td>\n",
       "      <td>2.4e-97</td>\n",
       "      <td>...</td>\n",
       "      <td>Ga0073928_100023127</td>\n",
       "      <td>165879</td>\n",
       "      <td>Ga0073928_100023127</td>\n",
       "      <td>(M, R, K, W, F, V, I, S, I, P, A, I, L, L, L, ...</td>\n",
       "      <td>2</td>\n",
       "      <td>11864</td>\n",
       "      <td>True</td>\n",
       "      <td>2</td>\n",
       "      <td>3</td>\n",
       "      <td>B</td>\n",
       "    </tr>\n",
       "  </tbody>\n",
       "</table>\n",
       "<p>3 rows × 31 columns</p>\n",
       "</div>"
      ],
      "text/plain": [
       "        query file  label                0           1                    2  \\\n",
       "18  /tmp/tmpmaGeB8      5             AmoC  PF04896.11  Ga0073928_100023124   \n",
       "19  /tmp/tmpmaGeB8      5              AMO  PF02461.15  Ga0073928_100023125   \n",
       "20  /tmp/tmpmaGeB8      5  Monooxygenase_B  PF04744.11  Ga0073928_100023127   \n",
       "\n",
       "    3        4      5     6        7 ...                 descr position  \\\n",
       "18  -    2e-54  172.1  18.2  2.4e-54 ...   Ga0073928_100023124   165876   \n",
       "19  -  1.3e-65  209.2  21.2  1.5e-65 ...   Ga0073928_100023125   165877   \n",
       "20  -  1.9e-97  314.0   0.7  2.4e-97 ...   Ga0073928_100023127   165879   \n",
       "\n",
       "                    qid                                                seq  \\\n",
       "18  Ga0073928_100023124  (M, D, S, T, R, Q, A, L, G, L, E, E, G, R, Y, ...   \n",
       "19  Ga0073928_100023125  (M, A, S, T, P, A, A, L, T, A, A, E, R, Q, H, ...   \n",
       "20  Ga0073928_100023127  (M, R, K, W, F, V, I, S, I, P, A, I, L, L, L, ...   \n",
       "\n",
       "    diff1  diff2 is_operon rel_coordinates operon_count type  \n",
       "18  14935      1      True               1            3    C  \n",
       "19      1      2      True               1            3    A  \n",
       "20      2  11864      True               2            3    B  \n",
       "\n",
       "[3 rows x 31 columns]"
      ]
     },
     "execution_count": 24,
     "metadata": {},
     "output_type": "execute_result"
    }
   ],
   "source": [
    "operons[2]"
   ]
  },
  {
   "cell_type": "code",
   "execution_count": 1162,
   "metadata": {
    "collapsed": false
   },
   "outputs": [
    {
     "data": {
      "text/plain": [
       "'CABB'"
      ]
     },
     "execution_count": 1162,
     "metadata": {},
     "output_type": "execute_result"
    }
   ],
   "source": [
    "''.join(operons[1].reset_index(drop=True)['type'].sort_index(ascending=False).tolist())"
   ]
  },
  {
   "cell_type": "code",
   "execution_count": 1335,
   "metadata": {
    "collapsed": false
   },
   "outputs": [
    {
     "data": {
      "text/html": [
       "<div>\n",
       "<table border=\"1\" class=\"dataframe\">\n",
       "  <thead>\n",
       "    <tr style=\"text-align: right;\">\n",
       "      <th></th>\n",
       "      <th>query file</th>\n",
       "      <th>label</th>\n",
       "      <th>0</th>\n",
       "      <th>1</th>\n",
       "      <th>2</th>\n",
       "      <th>3</th>\n",
       "      <th>4</th>\n",
       "      <th>5</th>\n",
       "      <th>6</th>\n",
       "      <th>7</th>\n",
       "      <th>...</th>\n",
       "      <th>descr</th>\n",
       "      <th>position</th>\n",
       "      <th>qid</th>\n",
       "      <th>seq</th>\n",
       "      <th>diff1</th>\n",
       "      <th>diff2</th>\n",
       "      <th>is_operon</th>\n",
       "      <th>rel_coordinates</th>\n",
       "      <th>operon_count</th>\n",
       "      <th>type</th>\n",
       "    </tr>\n",
       "  </thead>\n",
       "  <tbody>\n",
       "    <tr>\n",
       "      <th>0</th>\n",
       "      <td>/tmp/tmplLe78K</td>\n",
       "      <td>5</td>\n",
       "      <td>Monooxygenase_B</td>\n",
       "      <td>PF04744.11</td>\n",
       "      <td>Ga0073928_1000187914</td>\n",
       "      <td>-</td>\n",
       "      <td>3.4e-118</td>\n",
       "      <td>382.4</td>\n",
       "      <td>0.0</td>\n",
       "      <td>3.8e-118</td>\n",
       "      <td>...</td>\n",
       "      <td>Ga0073928_1000187914</td>\n",
       "      <td>150642</td>\n",
       "      <td>Ga0073928_1000187914</td>\n",
       "      <td>MANWPLEIPSPAGLTFLNVGVPGPVFIRTASTVNGVSGASSMSLGL...</td>\n",
       "      <td>197</td>\n",
       "      <td>1</td>\n",
       "      <td>True</td>\n",
       "      <td>1</td>\n",
       "      <td>2</td>\n",
       "      <td>B</td>\n",
       "    </tr>\n",
       "    <tr>\n",
       "      <th>1</th>\n",
       "      <td>/tmp/tmplLe78K</td>\n",
       "      <td>5</td>\n",
       "      <td>Monooxygenase_B</td>\n",
       "      <td>PF04744.11</td>\n",
       "      <td>Ga0073928_1000187915</td>\n",
       "      <td>-</td>\n",
       "      <td>3.3e-15</td>\n",
       "      <td>43.4</td>\n",
       "      <td>0.0</td>\n",
       "      <td>3.6e-15</td>\n",
       "      <td>...</td>\n",
       "      <td>Ga0073928_1000187915</td>\n",
       "      <td>150643</td>\n",
       "      <td>Ga0073928_1000187915</td>\n",
       "      <td>VTLPALLAAVIALGFSANALAHGERAQEPSLRLSTIQWYDTKWSSD...</td>\n",
       "      <td>1</td>\n",
       "      <td>1</td>\n",
       "      <td>True</td>\n",
       "      <td>1</td>\n",
       "      <td>2</td>\n",
       "      <td>B</td>\n",
       "    </tr>\n",
       "    <tr>\n",
       "      <th>2</th>\n",
       "      <td>/tmp/tmplLe78K</td>\n",
       "      <td>5</td>\n",
       "      <td>AMO</td>\n",
       "      <td>PF02461.15</td>\n",
       "      <td>Ga0073928_1000187916</td>\n",
       "      <td>-</td>\n",
       "      <td>2.2e-93</td>\n",
       "      <td>300.1</td>\n",
       "      <td>22.5</td>\n",
       "      <td>2.4e-93</td>\n",
       "      <td>...</td>\n",
       "      <td>Ga0073928_1000187916</td>\n",
       "      <td>150644</td>\n",
       "      <td>Ga0073928_1000187916</td>\n",
       "      <td>MTAARMARSQPAITSAEDLRRAYRWFDLVVAVLLFFLFMGLYHLIT...</td>\n",
       "      <td>1</td>\n",
       "      <td>1</td>\n",
       "      <td>True</td>\n",
       "      <td>1</td>\n",
       "      <td>2</td>\n",
       "      <td>A</td>\n",
       "    </tr>\n",
       "    <tr>\n",
       "      <th>3</th>\n",
       "      <td>/tmp/tmplLe78K</td>\n",
       "      <td>5</td>\n",
       "      <td>AmoC</td>\n",
       "      <td>PF04896.11</td>\n",
       "      <td>Ga0073928_1000187917</td>\n",
       "      <td>-</td>\n",
       "      <td>1.9e-93</td>\n",
       "      <td>299.9</td>\n",
       "      <td>15.3</td>\n",
       "      <td>2.4e-93</td>\n",
       "      <td>...</td>\n",
       "      <td>Ga0073928_1000187917</td>\n",
       "      <td>150645</td>\n",
       "      <td>Ga0073928_1000187917</td>\n",
       "      <td>MATALNTAKLGAPAQAPPLAIRSDDYRWISPTLMVLVCGIVGILMI...</td>\n",
       "      <td>1</td>\n",
       "      <td>296</td>\n",
       "      <td>True</td>\n",
       "      <td>1</td>\n",
       "      <td>2</td>\n",
       "      <td>C</td>\n",
       "    </tr>\n",
       "  </tbody>\n",
       "</table>\n",
       "<p>4 rows × 31 columns</p>\n",
       "</div>"
      ],
      "text/plain": [
       "       query file  label                0           1                     2  \\\n",
       "0  /tmp/tmplLe78K      5  Monooxygenase_B  PF04744.11  Ga0073928_1000187914   \n",
       "1  /tmp/tmplLe78K      5  Monooxygenase_B  PF04744.11  Ga0073928_1000187915   \n",
       "2  /tmp/tmplLe78K      5              AMO  PF02461.15  Ga0073928_1000187916   \n",
       "3  /tmp/tmplLe78K      5             AmoC  PF04896.11  Ga0073928_1000187917   \n",
       "\n",
       "   3         4      5     6         7 ...                  descr position  \\\n",
       "0  -  3.4e-118  382.4   0.0  3.8e-118 ...   Ga0073928_1000187914   150642   \n",
       "1  -   3.3e-15   43.4   0.0   3.6e-15 ...   Ga0073928_1000187915   150643   \n",
       "2  -   2.2e-93  300.1  22.5   2.4e-93 ...   Ga0073928_1000187916   150644   \n",
       "3  -   1.9e-93  299.9  15.3   2.4e-93 ...   Ga0073928_1000187917   150645   \n",
       "\n",
       "                    qid                                                seq  \\\n",
       "0  Ga0073928_1000187914  MANWPLEIPSPAGLTFLNVGVPGPVFIRTASTVNGVSGASSMSLGL...   \n",
       "1  Ga0073928_1000187915  VTLPALLAAVIALGFSANALAHGERAQEPSLRLSTIQWYDTKWSSD...   \n",
       "2  Ga0073928_1000187916  MTAARMARSQPAITSAEDLRRAYRWFDLVVAVLLFFLFMGLYHLIT...   \n",
       "3  Ga0073928_1000187917  MATALNTAKLGAPAQAPPLAIRSDDYRWISPTLMVLVCGIVGILMI...   \n",
       "\n",
       "  diff1 diff2 is_operon rel_coordinates operon_count type  \n",
       "0   197     1      True               1            2    B  \n",
       "1     1     1      True               1            2    B  \n",
       "2     1     1      True               1            2    A  \n",
       "3     1   296      True               1            2    C  \n",
       "\n",
       "[4 rows x 31 columns]"
      ]
     },
     "execution_count": 1335,
     "metadata": {},
     "output_type": "execute_result"
    }
   ],
   "source": [
    "tmp=operons[1].reset_index(drop=True)\n",
    "tmp"
   ]
  },
  {
   "cell_type": "code",
   "execution_count": 1197,
   "metadata": {
    "collapsed": false
   },
   "outputs": [
    {
     "name": "stdout",
     "output_type": "stream",
     "text": [
      "reversed operon\n"
     ]
    }
   ],
   "source": [
    "operon_structure=''.join(tmp['type'].tolist())\n",
    "if ('BAC' or 'CAB') not in operon_structure:    \n",
    "    print('no operon')\n",
    "elif 'BAC' in operon_structure:\n",
    "    print('reversed operon')\n",
    "    tmp.sort_index(ascending=False, inplace=True)\n",
    "elif 'CAB' in operon_structure:\n",
    "    print('forward operon')"
   ]
  },
  {
   "cell_type": "code",
   "execution_count": 1249,
   "metadata": {
    "collapsed": false
   },
   "outputs": [
    {
     "name": "stdout",
     "output_type": "stream",
     "text": [
      "('C',        query file  label     0           1                     2  3        4  \\\n",
      "3  /tmp/tmplLe78K      5  AmoC  PF04896.11  Ga0073928_1000187917  -  1.9e-93   \n",
      "\n",
      "       5     6        7 ...                  descr position  \\\n",
      "3  299.9  15.3  2.4e-93 ...   Ga0073928_1000187917   150645   \n",
      "\n",
      "                    qid                                                seq  \\\n",
      "3  Ga0073928_1000187917  MATALNTAKLGAPAQAPPLAIRSDDYRWISPTLMVLVCGIVGILMI...   \n",
      "\n",
      "  diff1 diff2 is_operon rel_coordinates operon_count type  \n",
      "3     1   296      True               1            2    C  \n",
      "\n",
      "[1 rows x 31 columns])\n",
      "('A',        query file  label    0           1                     2  3        4  \\\n",
      "2  /tmp/tmplLe78K      5  AMO  PF02461.15  Ga0073928_1000187916  -  2.2e-93   \n",
      "\n",
      "       5     6        7 ...                  descr position  \\\n",
      "2  300.1  22.5  2.4e-93 ...   Ga0073928_1000187916   150644   \n",
      "\n",
      "                    qid                                                seq  \\\n",
      "2  Ga0073928_1000187916  MTAARMARSQPAITSAEDLRRAYRWFDLVVAVLLFFLFMGLYHLIT...   \n",
      "\n",
      "  diff1 diff2 is_operon rel_coordinates operon_count type  \n",
      "2     1     1      True               1            2    A  \n",
      "\n",
      "[1 rows x 31 columns])\n",
      "('B',        query file  label                0           1                     2  \\\n",
      "1  /tmp/tmplLe78K      5  Monooxygenase_B  PF04744.11  Ga0073928_1000187915   \n",
      "\n",
      "   3        4     5    6        7 ...                  descr position  \\\n",
      "1  -  3.3e-15  43.4  0.0  3.6e-15 ...   Ga0073928_1000187915   150643   \n",
      "\n",
      "                    qid                                                seq  \\\n",
      "1  Ga0073928_1000187915  VTLPALLAAVIALGFSANALAHGERAQEPSLRLSTIQWYDTKWSSD...   \n",
      "\n",
      "  diff1 diff2 is_operon rel_coordinates operon_count type  \n",
      "1     1     1      True               1            2    B  \n",
      "\n",
      "[1 rows x 31 columns])\n"
     ]
    }
   ],
   "source": [
    "for i,f in tmp.groupby('type', sort=False):\n",
    "    print(i, f.sort_values(4).head(1))"
   ]
  },
  {
   "cell_type": "code",
   "execution_count": null,
   "metadata": {
    "collapsed": true
   },
   "outputs": [],
   "source": []
  },
  {
   "cell_type": "code",
   "execution_count": 1323,
   "metadata": {
    "collapsed": true
   },
   "outputs": [],
   "source": []
  },
  {
   "cell_type": "code",
   "execution_count": 42,
   "metadata": {
    "collapsed": false
   },
   "outputs": [
    {
     "data": {
      "text/html": [
       "<div>\n",
       "<table border=\"1\" class=\"dataframe\">\n",
       "  <thead>\n",
       "    <tr style=\"text-align: right;\">\n",
       "      <th></th>\n",
       "      <th>query file</th>\n",
       "      <th>label</th>\n",
       "      <th>0</th>\n",
       "      <th>1</th>\n",
       "      <th>2</th>\n",
       "      <th>3</th>\n",
       "      <th>4</th>\n",
       "      <th>5</th>\n",
       "      <th>6</th>\n",
       "      <th>7</th>\n",
       "      <th>...</th>\n",
       "      <th>descr</th>\n",
       "      <th>position</th>\n",
       "      <th>qid</th>\n",
       "      <th>seq</th>\n",
       "      <th>diff1</th>\n",
       "      <th>diff2</th>\n",
       "      <th>is_operon</th>\n",
       "      <th>rel_coordinates</th>\n",
       "      <th>operon_count</th>\n",
       "      <th>type</th>\n",
       "    </tr>\n",
       "  </thead>\n",
       "  <tbody>\n",
       "    <tr>\n",
       "      <th>124</th>\n",
       "      <td>/tmp/tmpwMi9QV</td>\n",
       "      <td>41</td>\n",
       "      <td>AMO</td>\n",
       "      <td>PF02461.15</td>\n",
       "      <td>Ga0073928_102993971</td>\n",
       "      <td>-</td>\n",
       "      <td>8e-46</td>\n",
       "      <td>144.4</td>\n",
       "      <td>24.8</td>\n",
       "      <td>9.3e-46</td>\n",
       "      <td>...</td>\n",
       "      <td>Ga0073928_102993971</td>\n",
       "      <td>1250876</td>\n",
       "      <td>Ga0073928_102993971</td>\n",
       "      <td>(M, A, S, T, P, A, T, M, A, P, A, E, R, Q, R, ...</td>\n",
       "      <td>5757</td>\n",
       "      <td>1</td>\n",
       "      <td>True</td>\n",
       "      <td>1</td>\n",
       "      <td>13</td>\n",
       "      <td>A</td>\n",
       "    </tr>\n",
       "    <tr>\n",
       "      <th>123</th>\n",
       "      <td>/tmp/tmpwMi9QV</td>\n",
       "      <td>41</td>\n",
       "      <td>AmoC</td>\n",
       "      <td>PF04896.11</td>\n",
       "      <td>Ga0073928_102993972</td>\n",
       "      <td>-</td>\n",
       "      <td>8.4e-46</td>\n",
       "      <td>143.9</td>\n",
       "      <td>12.4</td>\n",
       "      <td>1e-45</td>\n",
       "      <td>...</td>\n",
       "      <td>Ga0073928_102993972</td>\n",
       "      <td>1250877</td>\n",
       "      <td>Ga0073928_102993972</td>\n",
       "      <td>(G, L, W, F, G, W, L, V, R, T, G, L, P, L, D, ...</td>\n",
       "      <td>1</td>\n",
       "      <td>16762</td>\n",
       "      <td>True</td>\n",
       "      <td>1</td>\n",
       "      <td>13</td>\n",
       "      <td>C</td>\n",
       "    </tr>\n",
       "  </tbody>\n",
       "</table>\n",
       "<p>2 rows × 31 columns</p>\n",
       "</div>"
      ],
      "text/plain": [
       "         query file  label     0           1                    2  3        4  \\\n",
       "124  /tmp/tmpwMi9QV     41   AMO  PF02461.15  Ga0073928_102993971  -    8e-46   \n",
       "123  /tmp/tmpwMi9QV     41  AmoC  PF04896.11  Ga0073928_102993972  -  8.4e-46   \n",
       "\n",
       "         5     6        7 ...                 descr position  \\\n",
       "124  144.4  24.8  9.3e-46 ...   Ga0073928_102993971  1250876   \n",
       "123  143.9  12.4    1e-45 ...   Ga0073928_102993972  1250877   \n",
       "\n",
       "                     qid                                                seq  \\\n",
       "124  Ga0073928_102993971  (M, A, S, T, P, A, T, M, A, P, A, E, R, Q, R, ...   \n",
       "123  Ga0073928_102993972  (G, L, W, F, G, W, L, V, R, T, G, L, P, L, D, ...   \n",
       "\n",
       "    diff1  diff2 is_operon rel_coordinates operon_count type  \n",
       "124  5757      1      True               1           13    A  \n",
       "123     1  16762      True               1           13    C  \n",
       "\n",
       "[2 rows x 31 columns]"
      ]
     },
     "execution_count": 42,
     "metadata": {},
     "output_type": "execute_result"
    }
   ],
   "source": [
    "operons[12]"
   ]
  },
  {
   "cell_type": "markdown",
   "metadata": {},
   "source": [
    "## That's how it is suggested to process operons if full_operons=True"
   ]
  },
  {
   "cell_type": "code",
   "execution_count": 33,
   "metadata": {
    "collapsed": false
   },
   "outputs": [
    {
     "data": {
      "text/plain": [
       "['MANWPLEIPSPAGLTFLNVGVPGPVFIRTASTVNGVSGASSMSLGLGHDYEYRIVLRGRIPGRYHVHPMLDVRDTGPILGPGKWVSVTGNAAAFTDPVTTLTGRRLDLARYGLGAIAGWHLVWVVVALLWLGYWLRKPLLMPRYEAVQAGDGDRLITRPDRIAAAVILAITLIVATGETVLTNIAFPVTIPLQSNQTKVPPLVAAPAAITLVPEQVTYLVPGRTVQFRLRVTNLSVKPIRFGEFTTANLRFLNRAVVKAESDYPQDLIAPAGLVVRPGEPIAPGVSEEVYIEATSSVWETDRLTALMSDPTNRIGGLFMFYAPDGERSLVEFSSPIVPTFTQPVRDAE*',\n",
       " 'VTLPALLAAVIALGFSANALAHGERAQEPSLRLSTIQWYDTKWSSDRIGVNQELTLSGAST*',\n",
       " 'MTAARMARSQPAITSAEDLRRAYRWFDLVVAVLLFFLFMGLYHLITMLTVGDWDFWSDWKDSRWWLSFTPIVEIAFPAAITFIFWSKFRLPFAATFLTLCLVIAEWINRICNMHGWAYFPLNFVWPATLIPGGLALDTVLVLTESYLFTAIIGGMLWAILFYLANWPLISHFLLPVNLNGILMSLADLQGFHYIRTGTPEYIRIINRGTLRTFGQDPIYLSVAFAGFMSMLVYMLFLGLGWIFTRTQFKWLKRL*',\n",
       " 'MATALNTAKLGAPAQAPPLAIRSDDYRWISPTLMVLVCGIVGILMIAARLYQQVYAWSAGLDATSPEFRTYWMNLLFAQFAVEGLAAASIWGYVWFSRPKDLGRVQTREELRRFGVFVALIFCYVFAVFWAASFFAEEDASWHQTVVRDTSFTPSHIILFYWAFPIYIILGITAYLYGMTRLPRFAARHSLPWIIGVAGPFMLLPVVAYNEWAHSFWILEERFAAPVHWWFMIFAWSGLGLGGLLLQVCDYLHELTTGEAQTYAAEDDPAVDPALEFEGEVG*']"
      ]
     },
     "execution_count": 33,
     "metadata": {},
     "output_type": "execute_result"
    }
   ],
   "source": [
    "#\n",
    "[str(x.seq) for x in operons[1]['seq'].values]"
   ]
  },
  {
   "cell_type": "code",
   "execution_count": 34,
   "metadata": {
    "collapsed": false
   },
   "outputs": [
    {
     "data": {
      "text/html": [
       "<div>\n",
       "<table border=\"1\" class=\"dataframe\">\n",
       "  <thead>\n",
       "    <tr style=\"text-align: right;\">\n",
       "      <th></th>\n",
       "      <th>query file</th>\n",
       "      <th>label</th>\n",
       "      <th>0</th>\n",
       "      <th>1</th>\n",
       "      <th>2</th>\n",
       "      <th>3</th>\n",
       "      <th>4</th>\n",
       "      <th>5</th>\n",
       "      <th>6</th>\n",
       "      <th>7</th>\n",
       "      <th>...</th>\n",
       "      <th>descr</th>\n",
       "      <th>position</th>\n",
       "      <th>qid</th>\n",
       "      <th>seq</th>\n",
       "      <th>diff1</th>\n",
       "      <th>diff2</th>\n",
       "      <th>is_operon</th>\n",
       "      <th>rel_coordinates</th>\n",
       "      <th>operon_count</th>\n",
       "      <th>type</th>\n",
       "    </tr>\n",
       "  </thead>\n",
       "  <tbody>\n",
       "    <tr>\n",
       "      <th>13</th>\n",
       "      <td>/tmp/tmpmaGeB8</td>\n",
       "      <td>5</td>\n",
       "      <td>Monooxygenase_B</td>\n",
       "      <td>PF04744.11</td>\n",
       "      <td>Ga0073928_1000187914</td>\n",
       "      <td>-</td>\n",
       "      <td>3.4e-118</td>\n",
       "      <td>382.4</td>\n",
       "      <td>0.0</td>\n",
       "      <td>3.8e-118</td>\n",
       "      <td>...</td>\n",
       "      <td>Ga0073928_1000187914</td>\n",
       "      <td>150642</td>\n",
       "      <td>Ga0073928_1000187914</td>\n",
       "      <td>(M, A, N, W, P, L, E, I, P, S, P, A, G, L, T, ...</td>\n",
       "      <td>197</td>\n",
       "      <td>1</td>\n",
       "      <td>True</td>\n",
       "      <td>1</td>\n",
       "      <td>2</td>\n",
       "      <td>B</td>\n",
       "    </tr>\n",
       "    <tr>\n",
       "      <th>14</th>\n",
       "      <td>/tmp/tmpmaGeB8</td>\n",
       "      <td>5</td>\n",
       "      <td>Monooxygenase_B</td>\n",
       "      <td>PF04744.11</td>\n",
       "      <td>Ga0073928_1000187915</td>\n",
       "      <td>-</td>\n",
       "      <td>3.3e-15</td>\n",
       "      <td>43.4</td>\n",
       "      <td>0.0</td>\n",
       "      <td>3.6e-15</td>\n",
       "      <td>...</td>\n",
       "      <td>Ga0073928_1000187915</td>\n",
       "      <td>150643</td>\n",
       "      <td>Ga0073928_1000187915</td>\n",
       "      <td>(V, T, L, P, A, L, L, A, A, V, I, A, L, G, F, ...</td>\n",
       "      <td>1</td>\n",
       "      <td>1</td>\n",
       "      <td>True</td>\n",
       "      <td>1</td>\n",
       "      <td>2</td>\n",
       "      <td>B</td>\n",
       "    </tr>\n",
       "    <tr>\n",
       "      <th>15</th>\n",
       "      <td>/tmp/tmpmaGeB8</td>\n",
       "      <td>5</td>\n",
       "      <td>AMO</td>\n",
       "      <td>PF02461.15</td>\n",
       "      <td>Ga0073928_1000187916</td>\n",
       "      <td>-</td>\n",
       "      <td>2.2e-93</td>\n",
       "      <td>300.1</td>\n",
       "      <td>22.5</td>\n",
       "      <td>2.4e-93</td>\n",
       "      <td>...</td>\n",
       "      <td>Ga0073928_1000187916</td>\n",
       "      <td>150644</td>\n",
       "      <td>Ga0073928_1000187916</td>\n",
       "      <td>(M, T, A, A, R, M, A, R, S, Q, P, A, I, T, S, ...</td>\n",
       "      <td>1</td>\n",
       "      <td>1</td>\n",
       "      <td>True</td>\n",
       "      <td>1</td>\n",
       "      <td>2</td>\n",
       "      <td>A</td>\n",
       "    </tr>\n",
       "    <tr>\n",
       "      <th>16</th>\n",
       "      <td>/tmp/tmpmaGeB8</td>\n",
       "      <td>5</td>\n",
       "      <td>AmoC</td>\n",
       "      <td>PF04896.11</td>\n",
       "      <td>Ga0073928_1000187917</td>\n",
       "      <td>-</td>\n",
       "      <td>1.9e-93</td>\n",
       "      <td>299.9</td>\n",
       "      <td>15.3</td>\n",
       "      <td>2.4e-93</td>\n",
       "      <td>...</td>\n",
       "      <td>Ga0073928_1000187917</td>\n",
       "      <td>150645</td>\n",
       "      <td>Ga0073928_1000187917</td>\n",
       "      <td>(M, A, T, A, L, N, T, A, K, L, G, A, P, A, Q, ...</td>\n",
       "      <td>1</td>\n",
       "      <td>296</td>\n",
       "      <td>True</td>\n",
       "      <td>1</td>\n",
       "      <td>2</td>\n",
       "      <td>C</td>\n",
       "    </tr>\n",
       "  </tbody>\n",
       "</table>\n",
       "<p>4 rows × 31 columns</p>\n",
       "</div>"
      ],
      "text/plain": [
       "        query file  label                0           1                     2  \\\n",
       "13  /tmp/tmpmaGeB8      5  Monooxygenase_B  PF04744.11  Ga0073928_1000187914   \n",
       "14  /tmp/tmpmaGeB8      5  Monooxygenase_B  PF04744.11  Ga0073928_1000187915   \n",
       "15  /tmp/tmpmaGeB8      5              AMO  PF02461.15  Ga0073928_1000187916   \n",
       "16  /tmp/tmpmaGeB8      5             AmoC  PF04896.11  Ga0073928_1000187917   \n",
       "\n",
       "    3         4      5     6         7 ...                  descr position  \\\n",
       "13  -  3.4e-118  382.4   0.0  3.8e-118 ...   Ga0073928_1000187914   150642   \n",
       "14  -   3.3e-15   43.4   0.0   3.6e-15 ...   Ga0073928_1000187915   150643   \n",
       "15  -   2.2e-93  300.1  22.5   2.4e-93 ...   Ga0073928_1000187916   150644   \n",
       "16  -   1.9e-93  299.9  15.3   2.4e-93 ...   Ga0073928_1000187917   150645   \n",
       "\n",
       "                     qid                                                seq  \\\n",
       "13  Ga0073928_1000187914  (M, A, N, W, P, L, E, I, P, S, P, A, G, L, T, ...   \n",
       "14  Ga0073928_1000187915  (V, T, L, P, A, L, L, A, A, V, I, A, L, G, F, ...   \n",
       "15  Ga0073928_1000187916  (M, T, A, A, R, M, A, R, S, Q, P, A, I, T, S, ...   \n",
       "16  Ga0073928_1000187917  (M, A, T, A, L, N, T, A, K, L, G, A, P, A, Q, ...   \n",
       "\n",
       "   diff1 diff2 is_operon rel_coordinates operon_count type  \n",
       "13   197     1      True               1            2    B  \n",
       "14     1     1      True               1            2    B  \n",
       "15     1     1      True               1            2    A  \n",
       "16     1   296      True               1            2    C  \n",
       "\n",
       "[4 rows x 31 columns]"
      ]
     },
     "execution_count": 34,
     "metadata": {},
     "output_type": "execute_result"
    }
   ],
   "source": [
    "operons[1]"
   ]
  },
  {
   "cell_type": "code",
   "execution_count": 39,
   "metadata": {
    "collapsed": false,
    "scrolled": true
   },
   "outputs": [
    {
     "data": {
      "text/plain": [
       "13    3.4e-118\n",
       "14     3.3e-15\n",
       "15     2.2e-93\n",
       "16     1.9e-93\n",
       "Name: 4, dtype: object"
      ]
     },
     "execution_count": 39,
     "metadata": {},
     "output_type": "execute_result"
    }
   ],
   "source": [
    "operons[1][4]"
   ]
  },
  {
   "cell_type": "code",
   "execution_count": 121,
   "metadata": {
    "collapsed": false
   },
   "outputs": [
    {
     "data": {
      "text/plain": [
       "SeqRecord(seq=Seq('MANWPLEIPSPAGLTFLNVGVPGPVFIRTASTVNGVSGASSMSLGLGHDYEYRI...AE*', SingleLetterAlphabet()), id='Ga0073928_1000187914', name='Ga0073928_1000187914', description='Ga0073928_1000187914', dbxrefs=[])"
      ]
     },
     "execution_count": 121,
     "metadata": {},
     "output_type": "execute_result"
    }
   ],
   "source": [
    "\n",
    "idxb=operons[1][operons[1].loc[:,'type']=='B'].sort_values(4, ascending=True).head(1).index[0]\n",
    "operons[1].loc[[idxb]]['seq'].values[0]"
   ]
  },
  {
   "cell_type": "code",
   "execution_count": null,
   "metadata": {
    "collapsed": true
   },
   "outputs": [],
   "source": []
  },
  {
   "cell_type": "code",
   "execution_count": null,
   "metadata": {
    "collapsed": true
   },
   "outputs": [],
   "source": []
  },
  {
   "cell_type": "code",
   "execution_count": 167,
   "metadata": {
    "collapsed": false
   },
   "outputs": [],
   "source": [
    "from Bio.Seq import Seq\n",
    "from Bio.SeqRecord import SeqRecord\n",
    "from Bio.Alphabet import IUPAC\n",
    "\n",
    "\n",
    "ops=list(operons)\n",
    "\n",
    "def analyzeStructure(name_string, filter_operons={'CAB':0,'ABC':0}):#fix this for the extended version\n",
    "    for key in filter_operons.keys():\n",
    "    \n",
    "        if key in name_string:\n",
    "            filter_operons[key]=1\n",
    "            return (key, 1)\n",
    "        if key[::-1] in name_string:\n",
    "            filter_operons[key]=-1\n",
    "            return (key, -1)\n",
    "    return (None, None)\n",
    "\n",
    "def concatSeparatedValues(row, sep=\" \"):\n",
    "    concatVal=''\n",
    "    for i in range(output['type'].iloc[1].size):\n",
    "        concatVal+=str(row.iloc[i])+sep\n",
    "    concatVal=concatVal[:-len(sep)]#removes last unnesessary separator\n",
    "    return concatVal.rstrip()\n",
    "\n",
    "def operonParser(op_lst, op_type=False, full_operons=False):\n",
    "    output_lst=list()#list of seq elements for fasta exporting\n",
    "    \n",
    "    if op_lst == []:\n",
    "        return 1\n",
    "    if full_operons:\n",
    "        out= pd.DataFrame(columns=['operon #','input_file','type',  'rel_distance','size', 'concat_ids','concat_eval', 'concat_descr', 'C', 'A', 'B', 'full_operon'])\n",
    "    out= pd.DataFrame(columns=['operon #','input_file','type','concat_eval','concat_ids','size',  'concat_descr', 'C', 'A', 'B'])\n",
    "    \n",
    "    for operon in op_lst:\n",
    "        \n",
    "        #print(operon)\n",
    "        operon_structure=''.join(operon['type'].tolist())\n",
    "        #print(operon_structure)\n",
    "        op_type,forward=analyzeStructure(operon_structure)\n",
    "        if op_type:\n",
    "            #converting evalue to float\n",
    "            operon[4]=operon[4].astype(float)#for correct sorting\n",
    "            #reverse operon if needed\n",
    "            #print(operon)\n",
    "            if forward == -1:\n",
    "                #''.join(operons[1].reset_index(drop=True)['type'].sort_index(ascending=False).tolist())\n",
    "                operon=operon.reset_index(drop=True).sort_index(ascending=False)#rookie way   \n",
    "            else:\n",
    "                operon=operon.reset_index(drop=True) #else clause is a bit unnecessary\n",
    "            print(type(operon))\n",
    "            cnt=int(operon['operon_count'].mean())#!!! needs an assert for integer value\n",
    "            inp_file=filename\n",
    "            \n",
    "            #ot=operon_structure #inclues extended understanding of an operon\n",
    "            ot=op_type\n",
    "            \n",
    "            \n",
    "            rd=''.join(operon.loc[:, 'rel_coordinates'].astype(str).tolist())\n",
    "            sz=len(operon.index)\n",
    "            \n",
    "            \n",
    "            idx_a=operon[operon.loc[:,'type']=='A'].sort_values(4, ascending=True).head(1).index[0]\n",
    "            idx_b=operon[operon.loc[:,'type']=='B'].sort_values(4, ascending=True).head(1).index[0]\n",
    "            idx_c=operon[operon.loc[:,'type']=='C'].sort_values(4, ascending=True).head(1).index[0]\n",
    "            \n",
    "            \n",
    "            \n",
    "            concat_eval= \";\".join([str(x) for x in operon.loc[[idx_c, idx_a, idx_b]][4].astype(str)])\n",
    "            #peron\n",
    "            \n",
    "            \n",
    "            concat_ids=\";\".join([x.id for x in operon.loc[[idx_c, idx_a, idx_b]]['seq']])\n",
    "            concat_descr=\";\".join([x.description for x in operon.loc[[idx_c, idx_a, idx_b]]['seq']])\n",
    "            #str(operons[1][operons[1]['type']=='C']['seq'].values[0].seq)\n",
    "            #takes one value from operon with the smallest e-vaue if multiple values are present\n",
    "            #str(record.seq)\n",
    "#             c_seq=str(operon[operon.loc[:,'type']=='C'].sort_values(4, ascending=True).head(1)['seq'].values[0].seq)\n",
    "#             a_seq=str(operon[operon.loc[:,'type']=='A'].sort_values(4, ascending=True).head(1)['seq'].values[0].seq)\n",
    "#             b_seq=str(operon[operon.loc[:,'type']=='B'].sort_values(4, ascending=True).head(1)['seq'].values[0].seq)\n",
    "            c_seq=str(operon.loc[idx_c]['seq'].seq)\n",
    "            a_seq=str(operon.loc[idx_a]['seq'].seq)\n",
    "            b_seq=str(operon.loc[idx_b]['seq'].seq)\n",
    "    \n",
    "            record=SeqRecord(Seq(c_seq+a_seq+b_seq, IUPAC.protein), id=concat_ids, description=concat_descr)\n",
    "#           records.append(record)\n",
    "            \n",
    "            output_lst.append(record)\n",
    "#             if full_operons:\n",
    "#                 full_op=\n",
    "            \n",
    "            \n",
    "            out=out.append(pd.Series({'operon #':cnt, \n",
    "                                  'input_file':inp_file, \n",
    "                                  'type':ot, \n",
    "                                  #'rel_distance':rd, \n",
    "                                  'size': sz,\n",
    "                                  'concat_eval': concat_eval,\n",
    "                                  'concat_ids': concat_ids,\n",
    "                                  'concat_descr': concat_descr,\n",
    "                                  'C':c_seq,\n",
    "                                  'A':a_seq,\n",
    "                                  'B':b_seq}), ignore_index=True)\n",
    "            \n",
    "            \n",
    "    return out, output_lst"
   ]
  },
  {
   "cell_type": "code",
   "execution_count": 168,
   "metadata": {
    "collapsed": false
   },
   "outputs": [
    {
     "data": {
      "text/plain": [
       "18    C\n",
       "19    A\n",
       "20    B\n",
       "Name: type, dtype: object"
      ]
     },
     "execution_count": 168,
     "metadata": {},
     "output_type": "execute_result"
    }
   ],
   "source": [
    "operons[2]['type']"
   ]
  },
  {
   "cell_type": "code",
   "execution_count": null,
   "metadata": {
    "collapsed": true
   },
   "outputs": [],
   "source": []
  },
  {
   "cell_type": "code",
   "execution_count": 172,
   "metadata": {
    "collapsed": false
   },
   "outputs": [
    {
     "name": "stdout",
     "output_type": "stream",
     "text": [
      "BAC\n",
      "BBAC\n",
      "CAB\n",
      "CBA\n",
      "BB\n",
      "BA\n",
      "BAC\n",
      "BBA\n",
      "AC\n",
      "CA\n",
      "BC\n",
      "BA\n",
      "AC\n",
      "A\n",
      "B\n",
      "CA\n",
      "BC\n",
      "C\n",
      "A\n",
      "AC\n",
      "AB\n",
      "BC\n",
      "BA\n",
      "CA\n",
      "AB\n",
      "AB\n",
      "AB\n"
     ]
    }
   ],
   "source": [
    "for op in operons:\n",
    "    print(''.join(op['type'].tolist()))"
   ]
  },
  {
   "cell_type": "code",
   "execution_count": null,
   "metadata": {
    "collapsed": true
   },
   "outputs": [],
   "source": []
  },
  {
   "cell_type": "code",
   "execution_count": 173,
   "metadata": {
    "collapsed": false
   },
   "outputs": [
    {
     "name": "stdout",
     "output_type": "stream",
     "text": [
      "<class 'pandas.core.frame.DataFrame'>\n",
      "<class 'pandas.core.frame.DataFrame'>\n",
      "<class 'pandas.core.frame.DataFrame'>\n",
      "<class 'pandas.core.frame.DataFrame'>\n",
      "<class 'pandas.core.frame.DataFrame'>\n"
     ]
    }
   ],
   "source": [
    "final_frame, output_list=operonParser(operons)"
   ]
  },
  {
   "cell_type": "code",
   "execution_count": 174,
   "metadata": {
    "collapsed": false
   },
   "outputs": [
    {
     "data": {
      "text/html": [
       "<div>\n",
       "<table border=\"1\" class=\"dataframe\">\n",
       "  <thead>\n",
       "    <tr style=\"text-align: right;\">\n",
       "      <th></th>\n",
       "      <th>operon #</th>\n",
       "      <th>input_file</th>\n",
       "      <th>type</th>\n",
       "      <th>concat_eval</th>\n",
       "      <th>concat_ids</th>\n",
       "      <th>size</th>\n",
       "      <th>concat_descr</th>\n",
       "      <th>C</th>\n",
       "      <th>A</th>\n",
       "      <th>B</th>\n",
       "    </tr>\n",
       "  </thead>\n",
       "  <tbody>\n",
       "    <tr>\n",
       "      <th>0</th>\n",
       "      <td>1.0</td>\n",
       "      <td>../76969.assembled.faa</td>\n",
       "      <td>CAB</td>\n",
       "      <td>1.4e-55;1.2e-66;9.1e-99</td>\n",
       "      <td>Ga0073928_1000054857;Ga0073928_1000054856;Ga00...</td>\n",
       "      <td>3.0</td>\n",
       "      <td>Ga0073928_1000054857;Ga0073928_1000054856;Ga00...</td>\n",
       "      <td>MRSMEEVAAGRPPTGWLVGWKTLFVGCGLLLACNLFLWVWDYNYAF...</td>\n",
       "      <td>MATAPSIAAAAAAERQRRLALRDLLNAKYQWIDRTWDAVFWITAIF...</td>\n",
       "      <td>MRIRFPVLSAALLILIASYAPRAFAHGEAADEPFLKDLTVAFYDVH...</td>\n",
       "    </tr>\n",
       "    <tr>\n",
       "      <th>1</th>\n",
       "      <td>2.0</td>\n",
       "      <td>../76969.assembled.faa</td>\n",
       "      <td>CAB</td>\n",
       "      <td>1.9e-93;2.2e-93;3.4e-118</td>\n",
       "      <td>Ga0073928_1000187917;Ga0073928_1000187916;Ga00...</td>\n",
       "      <td>4.0</td>\n",
       "      <td>Ga0073928_1000187917;Ga0073928_1000187916;Ga00...</td>\n",
       "      <td>MATALNTAKLGAPAQAPPLAIRSDDYRWISPTLMVLVCGIVGILMI...</td>\n",
       "      <td>MTAARMARSQPAITSAEDLRRAYRWFDLVVAVLLFFLFMGLYHLIT...</td>\n",
       "      <td>MANWPLEIPSPAGLTFLNVGVPGPVFIRTASTVNGVSGASSMSLGL...</td>\n",
       "    </tr>\n",
       "    <tr>\n",
       "      <th>2</th>\n",
       "      <td>3.0</td>\n",
       "      <td>../76969.assembled.faa</td>\n",
       "      <td>CAB</td>\n",
       "      <td>2e-54;1.3e-65;1.9e-97</td>\n",
       "      <td>Ga0073928_100023124;Ga0073928_100023125;Ga0073...</td>\n",
       "      <td>3.0</td>\n",
       "      <td>Ga0073928_100023124;Ga0073928_100023125;Ga0073...</td>\n",
       "      <td>MDSTRQALGLEEGRYAPTDWLGGWKTLFWSCGLLFLANLFLWVWDY...</td>\n",
       "      <td>MASTPAALTAAERQHRLELRELLNAKYVFIDRTWDAVFWITAIFVV...</td>\n",
       "      <td>MRKWFVISIPAILLLCLSVKSACAHGEAADEPFLKDLTVTFYNVHV...</td>\n",
       "    </tr>\n",
       "    <tr>\n",
       "      <th>3</th>\n",
       "      <td>4.0</td>\n",
       "      <td>../76969.assembled.faa</td>\n",
       "      <td>ABC</td>\n",
       "      <td>1.1e-95;7.4e-114;5.7e-158</td>\n",
       "      <td>Ga0073928_100107054;Ga0073928_100107056;Ga0073...</td>\n",
       "      <td>3.0</td>\n",
       "      <td>Ga0073928_100107054;Ga0073928_100107056;Ga0073...</td>\n",
       "      <td>MTATPQAISPKSAHGAFLLPWYLRDLYKYLLTFAGLTVIYVGLRLY...</td>\n",
       "      <td>MTAKALEIPPKPYTGEKARLSRAYDYLILVLALFLFIGAFHLHVAL...</td>\n",
       "      <td>MLKAMKNLLGIFCIGLCGLTLAPNGAAAHGEKALEPFIRMRTIQWY...</td>\n",
       "    </tr>\n",
       "    <tr>\n",
       "      <th>4</th>\n",
       "      <td>7.0</td>\n",
       "      <td>../76969.assembled.faa</td>\n",
       "      <td>CAB</td>\n",
       "      <td>7.7e-93;1.4e-96;1.1e-36</td>\n",
       "      <td>Ga0073928_101270863;Ga0073928_101270862;Ga0073...</td>\n",
       "      <td>3.0</td>\n",
       "      <td>Ga0073928_101270863;Ga0073928_101270862;Ga0073...</td>\n",
       "      <td>VMVVGVAGVAALTIAARIYEQIYAWKAGLDATAPEFQTYWMHMLYA...</td>\n",
       "      <td>MAAGLQARERPALETGEEQRKAYRQFDIVLVILMFFLFMGLYHIVA...</td>\n",
       "      <td>MHSKRFTPTITVRASVLSLIFAVSMVAALVPGIAVAHGERAEPPFL...</td>\n",
       "    </tr>\n",
       "  </tbody>\n",
       "</table>\n",
       "</div>"
      ],
      "text/plain": [
       "   operon #              input_file type                concat_eval  \\\n",
       "0       1.0  ../76969.assembled.faa  CAB    1.4e-55;1.2e-66;9.1e-99   \n",
       "1       2.0  ../76969.assembled.faa  CAB   1.9e-93;2.2e-93;3.4e-118   \n",
       "2       3.0  ../76969.assembled.faa  CAB      2e-54;1.3e-65;1.9e-97   \n",
       "3       4.0  ../76969.assembled.faa  ABC  1.1e-95;7.4e-114;5.7e-158   \n",
       "4       7.0  ../76969.assembled.faa  CAB    7.7e-93;1.4e-96;1.1e-36   \n",
       "\n",
       "                                          concat_ids  size  \\\n",
       "0  Ga0073928_1000054857;Ga0073928_1000054856;Ga00...   3.0   \n",
       "1  Ga0073928_1000187917;Ga0073928_1000187916;Ga00...   4.0   \n",
       "2  Ga0073928_100023124;Ga0073928_100023125;Ga0073...   3.0   \n",
       "3  Ga0073928_100107054;Ga0073928_100107056;Ga0073...   3.0   \n",
       "4  Ga0073928_101270863;Ga0073928_101270862;Ga0073...   3.0   \n",
       "\n",
       "                                        concat_descr  \\\n",
       "0  Ga0073928_1000054857;Ga0073928_1000054856;Ga00...   \n",
       "1  Ga0073928_1000187917;Ga0073928_1000187916;Ga00...   \n",
       "2  Ga0073928_100023124;Ga0073928_100023125;Ga0073...   \n",
       "3  Ga0073928_100107054;Ga0073928_100107056;Ga0073...   \n",
       "4  Ga0073928_101270863;Ga0073928_101270862;Ga0073...   \n",
       "\n",
       "                                                   C  \\\n",
       "0  MRSMEEVAAGRPPTGWLVGWKTLFVGCGLLLACNLFLWVWDYNYAF...   \n",
       "1  MATALNTAKLGAPAQAPPLAIRSDDYRWISPTLMVLVCGIVGILMI...   \n",
       "2  MDSTRQALGLEEGRYAPTDWLGGWKTLFWSCGLLFLANLFLWVWDY...   \n",
       "3  MTATPQAISPKSAHGAFLLPWYLRDLYKYLLTFAGLTVIYVGLRLY...   \n",
       "4  VMVVGVAGVAALTIAARIYEQIYAWKAGLDATAPEFQTYWMHMLYA...   \n",
       "\n",
       "                                                   A  \\\n",
       "0  MATAPSIAAAAAAERQRRLALRDLLNAKYQWIDRTWDAVFWITAIF...   \n",
       "1  MTAARMARSQPAITSAEDLRRAYRWFDLVVAVLLFFLFMGLYHLIT...   \n",
       "2  MASTPAALTAAERQHRLELRELLNAKYVFIDRTWDAVFWITAIFVV...   \n",
       "3  MTAKALEIPPKPYTGEKARLSRAYDYLILVLALFLFIGAFHLHVAL...   \n",
       "4  MAAGLQARERPALETGEEQRKAYRQFDIVLVILMFFLFMGLYHIVA...   \n",
       "\n",
       "                                                   B  \n",
       "0  MRIRFPVLSAALLILIASYAPRAFAHGEAADEPFLKDLTVAFYDVH...  \n",
       "1  MANWPLEIPSPAGLTFLNVGVPGPVFIRTASTVNGVSGASSMSLGL...  \n",
       "2  MRKWFVISIPAILLLCLSVKSACAHGEAADEPFLKDLTVTFYNVHV...  \n",
       "3  MLKAMKNLLGIFCIGLCGLTLAPNGAAAHGEKALEPFIRMRTIQWY...  \n",
       "4  MHSKRFTPTITVRASVLSLIFAVSMVAALVPGIAVAHGERAEPPFL...  "
      ]
     },
     "execution_count": 174,
     "metadata": {},
     "output_type": "execute_result"
    }
   ],
   "source": [
    "final_frame"
   ]
  },
  {
   "cell_type": "code",
   "execution_count": 175,
   "metadata": {
    "collapsed": false
   },
   "outputs": [
    {
     "data": {
      "text/plain": [
       "[SeqRecord(seq=Seq('MRSMEEVAAGRPPTGWLVGWKTLFVGCGLLLACNLFLWVWDYNYAFTAGLDSSS...LP*', IUPACProtein()), id='Ga0073928_1000054857;Ga0073928_1000054856;Ga0073928_1000054854', name='<unknown name>', description='Ga0073928_1000054857;Ga0073928_1000054856;Ga0073928_1000054854', dbxrefs=[]),\n",
       " SeqRecord(seq=Seq('MATALNTAKLGAPAQAPPLAIRSDDYRWISPTLMVLVCGIVGILMIAARLYQQV...AE*', IUPACProtein()), id='Ga0073928_1000187917;Ga0073928_1000187916;Ga0073928_1000187914', name='<unknown name>', description='Ga0073928_1000187917;Ga0073928_1000187916;Ga0073928_1000187914', dbxrefs=[]),\n",
       " SeqRecord(seq=Seq('MDSTRQALGLEEGRYAPTDWLGGWKTLFWSCGLLFLANLFLWVWDYKYAFTAGL...LP*', IUPACProtein()), id='Ga0073928_100023124;Ga0073928_100023125;Ga0073928_100023127', name='<unknown name>', description='Ga0073928_100023124;Ga0073928_100023125;Ga0073928_100023127', dbxrefs=[]),\n",
       " SeqRecord(seq=Seq('MTATPQAISPKSAHGAFLLPWYLRDLYKYLLTFAGLTVIYVGLRLYQGAFGVVA...FD*', IUPACProtein()), id='Ga0073928_100107054;Ga0073928_100107056;Ga0073928_100107055', name='<unknown name>', description='Ga0073928_100107054;Ga0073928_100107056;Ga0073928_100107055', dbxrefs=[]),\n",
       " SeqRecord(seq=Seq('VMVVGVAGVAALTIAARIYEQIYAWKAGLDATAPEFQTYWMHMLYAIFAFEAIL...YKI', IUPACProtein()), id='Ga0073928_101270863;Ga0073928_101270862;Ga0073928_101270861', name='<unknown name>', description='Ga0073928_101270863;Ga0073928_101270862;Ga0073928_101270861', dbxrefs=[])]"
      ]
     },
     "execution_count": 175,
     "metadata": {},
     "output_type": "execute_result"
    }
   ],
   "source": [
    "output_list"
   ]
  },
  {
   "cell_type": "code",
   "execution_count": null,
   "metadata": {
    "collapsed": true
   },
   "outputs": [],
   "source": []
  },
  {
   "cell_type": "code",
   "execution_count": null,
   "metadata": {
    "collapsed": true
   },
   "outputs": [],
   "source": []
  },
  {
   "cell_type": "code",
   "execution_count": null,
   "metadata": {
    "collapsed": true
   },
   "outputs": [],
   "source": []
  },
  {
   "cell_type": "code",
   "execution_count": null,
   "metadata": {
    "collapsed": true
   },
   "outputs": [],
   "source": []
  },
  {
   "cell_type": "code",
   "execution_count": 177,
   "metadata": {
    "collapsed": false
   },
   "outputs": [],
   "source": [
    "\n",
    "\n",
    "\n",
    "#export_columns=['operon_type', 'rel_distance', 'concat_ids', 'concat_descr', 'concat_sequences']\n",
    "outfile1 = \"out3.csv\"\n",
    "outfile2 = \"out3.fasta\"\n",
    "final_frame.to_csv(outfile1, sep='\\t', header=True)\n",
    "\n",
    "#if len(ids)==len(sequences):\n",
    "records=list()\n",
    "\n",
    "with open(outfile2, \"w\") as output_handle:\n",
    "    SeqIO.write(output_list, output_handle, \"fasta\")"
   ]
  },
  {
   "cell_type": "code",
   "execution_count": null,
   "metadata": {
    "collapsed": true
   },
   "outputs": [],
   "source": []
  },
  {
   "cell_type": "code",
   "execution_count": null,
   "metadata": {
    "collapsed": true
   },
   "outputs": [],
   "source": []
  },
  {
   "cell_type": "code",
   "execution_count": null,
   "metadata": {
    "collapsed": true
   },
   "outputs": [],
   "source": []
  },
  {
   "cell_type": "code",
   "execution_count": 1511,
   "metadata": {
    "collapsed": false
   },
   "outputs": [
    {
     "data": {
      "text/html": [
       "<div>\n",
       "<table border=\"1\" class=\"dataframe\">\n",
       "  <thead>\n",
       "    <tr style=\"text-align: right;\">\n",
       "      <th></th>\n",
       "      <th>query file</th>\n",
       "      <th>label</th>\n",
       "      <th>0</th>\n",
       "      <th>1</th>\n",
       "      <th>2</th>\n",
       "      <th>3</th>\n",
       "      <th>4</th>\n",
       "      <th>5</th>\n",
       "      <th>6</th>\n",
       "      <th>7</th>\n",
       "      <th>...</th>\n",
       "      <th>descr</th>\n",
       "      <th>position</th>\n",
       "      <th>qid</th>\n",
       "      <th>seq</th>\n",
       "      <th>diff1</th>\n",
       "      <th>diff2</th>\n",
       "      <th>is_operon</th>\n",
       "      <th>rel_coordinates</th>\n",
       "      <th>operon_count</th>\n",
       "      <th>type</th>\n",
       "    </tr>\n",
       "  </thead>\n",
       "  <tbody>\n",
       "    <tr>\n",
       "      <th>0</th>\n",
       "      <td>/tmp/tmplLe78K</td>\n",
       "      <td>5</td>\n",
       "      <td>AmoC</td>\n",
       "      <td>PF04896.11</td>\n",
       "      <td>Ga0073928_100023124</td>\n",
       "      <td>-</td>\n",
       "      <td>2.000000e-54</td>\n",
       "      <td>172.1</td>\n",
       "      <td>18.2</td>\n",
       "      <td>2.4e-54</td>\n",
       "      <td>...</td>\n",
       "      <td>Ga0073928_100023124</td>\n",
       "      <td>165876</td>\n",
       "      <td>Ga0073928_100023124</td>\n",
       "      <td>(M, D, S, T, R, Q, A, L, G, L, E, E, G, R, Y, ...</td>\n",
       "      <td>14935</td>\n",
       "      <td>1</td>\n",
       "      <td>True</td>\n",
       "      <td>1</td>\n",
       "      <td>3</td>\n",
       "      <td>C</td>\n",
       "    </tr>\n",
       "    <tr>\n",
       "      <th>1</th>\n",
       "      <td>/tmp/tmplLe78K</td>\n",
       "      <td>5</td>\n",
       "      <td>AMO</td>\n",
       "      <td>PF02461.15</td>\n",
       "      <td>Ga0073928_100023125</td>\n",
       "      <td>-</td>\n",
       "      <td>1.300000e-65</td>\n",
       "      <td>209.2</td>\n",
       "      <td>21.2</td>\n",
       "      <td>1.5e-65</td>\n",
       "      <td>...</td>\n",
       "      <td>Ga0073928_100023125</td>\n",
       "      <td>165877</td>\n",
       "      <td>Ga0073928_100023125</td>\n",
       "      <td>(M, A, S, T, P, A, A, L, T, A, A, E, R, Q, H, ...</td>\n",
       "      <td>1</td>\n",
       "      <td>2</td>\n",
       "      <td>True</td>\n",
       "      <td>1</td>\n",
       "      <td>3</td>\n",
       "      <td>A</td>\n",
       "    </tr>\n",
       "    <tr>\n",
       "      <th>2</th>\n",
       "      <td>/tmp/tmplLe78K</td>\n",
       "      <td>5</td>\n",
       "      <td>Monooxygenase_B</td>\n",
       "      <td>PF04744.11</td>\n",
       "      <td>Ga0073928_100023127</td>\n",
       "      <td>-</td>\n",
       "      <td>1.900000e-97</td>\n",
       "      <td>314.0</td>\n",
       "      <td>0.7</td>\n",
       "      <td>2.4e-97</td>\n",
       "      <td>...</td>\n",
       "      <td>Ga0073928_100023127</td>\n",
       "      <td>165879</td>\n",
       "      <td>Ga0073928_100023127</td>\n",
       "      <td>(M, R, K, W, F, V, I, S, I, P, A, I, L, L, L, ...</td>\n",
       "      <td>2</td>\n",
       "      <td>11864</td>\n",
       "      <td>True</td>\n",
       "      <td>2</td>\n",
       "      <td>3</td>\n",
       "      <td>B</td>\n",
       "    </tr>\n",
       "  </tbody>\n",
       "</table>\n",
       "<p>3 rows × 31 columns</p>\n",
       "</div>"
      ],
      "text/plain": [
       "       query file  label                0           1                    2  3  \\\n",
       "0  /tmp/tmplLe78K      5             AmoC  PF04896.11  Ga0073928_100023124  -   \n",
       "1  /tmp/tmplLe78K      5              AMO  PF02461.15  Ga0073928_100023125  -   \n",
       "2  /tmp/tmplLe78K      5  Monooxygenase_B  PF04744.11  Ga0073928_100023127  -   \n",
       "\n",
       "              4      5     6        7 ...                 descr position  \\\n",
       "0  2.000000e-54  172.1  18.2  2.4e-54 ...   Ga0073928_100023124   165876   \n",
       "1  1.300000e-65  209.2  21.2  1.5e-65 ...   Ga0073928_100023125   165877   \n",
       "2  1.900000e-97  314.0   0.7  2.4e-97 ...   Ga0073928_100023127   165879   \n",
       "\n",
       "                   qid                                                seq  \\\n",
       "0  Ga0073928_100023124  (M, D, S, T, R, Q, A, L, G, L, E, E, G, R, Y, ...   \n",
       "1  Ga0073928_100023125  (M, A, S, T, P, A, A, L, T, A, A, E, R, Q, H, ...   \n",
       "2  Ga0073928_100023127  (M, R, K, W, F, V, I, S, I, P, A, I, L, L, L, ...   \n",
       "\n",
       "   diff1  diff2 is_operon rel_coordinates operon_count type  \n",
       "0  14935      1      True               1            3    C  \n",
       "1      1      2      True               1            3    A  \n",
       "2      2  11864      True               2            3    B  \n",
       "\n",
       "[3 rows x 31 columns]"
      ]
     },
     "execution_count": 1511,
     "metadata": {},
     "output_type": "execute_result"
    }
   ],
   "source": [
    "operons[2]"
   ]
  },
  {
   "cell_type": "code",
   "execution_count": null,
   "metadata": {
    "collapsed": true
   },
   "outputs": [],
   "source": []
  },
  {
   "cell_type": "code",
   "execution_count": null,
   "metadata": {
    "collapsed": true
   },
   "outputs": [],
   "source": []
  },
  {
   "cell_type": "code",
   "execution_count": 1508,
   "metadata": {
    "collapsed": false
   },
   "outputs": [
    {
     "data": {
      "text/html": [
       "<div>\n",
       "<table border=\"1\" class=\"dataframe\">\n",
       "  <thead>\n",
       "    <tr style=\"text-align: right;\">\n",
       "      <th></th>\n",
       "      <th>query file</th>\n",
       "      <th>label</th>\n",
       "      <th>0</th>\n",
       "      <th>1</th>\n",
       "      <th>2</th>\n",
       "      <th>3</th>\n",
       "      <th>4</th>\n",
       "      <th>5</th>\n",
       "      <th>6</th>\n",
       "      <th>7</th>\n",
       "      <th>...</th>\n",
       "      <th>descr</th>\n",
       "      <th>position</th>\n",
       "      <th>qid</th>\n",
       "      <th>seq</th>\n",
       "      <th>diff1</th>\n",
       "      <th>diff2</th>\n",
       "      <th>is_operon</th>\n",
       "      <th>rel_coordinates</th>\n",
       "      <th>operon_count</th>\n",
       "      <th>type</th>\n",
       "    </tr>\n",
       "  </thead>\n",
       "  <tbody>\n",
       "    <tr>\n",
       "      <th>18</th>\n",
       "      <td>/tmp/tmplLe78K</td>\n",
       "      <td>5</td>\n",
       "      <td>Monooxygenase_B</td>\n",
       "      <td>PF04744.11</td>\n",
       "      <td>Ga0073928_1000187914</td>\n",
       "      <td>-</td>\n",
       "      <td>3.400000e-118</td>\n",
       "      <td>382.4</td>\n",
       "      <td>0.0</td>\n",
       "      <td>3.8e-118</td>\n",
       "      <td>...</td>\n",
       "      <td>Ga0073928_1000187914</td>\n",
       "      <td>150642</td>\n",
       "      <td>Ga0073928_1000187914</td>\n",
       "      <td>(M, A, N, W, P, L, E, I, P, S, P, A, G, L, T, ...</td>\n",
       "      <td>197</td>\n",
       "      <td>1</td>\n",
       "      <td>True</td>\n",
       "      <td>1</td>\n",
       "      <td>2</td>\n",
       "      <td>B</td>\n",
       "    </tr>\n",
       "    <tr>\n",
       "      <th>17</th>\n",
       "      <td>/tmp/tmplLe78K</td>\n",
       "      <td>5</td>\n",
       "      <td>Monooxygenase_B</td>\n",
       "      <td>PF04744.11</td>\n",
       "      <td>Ga0073928_1000187915</td>\n",
       "      <td>-</td>\n",
       "      <td>3.300000e-15</td>\n",
       "      <td>43.4</td>\n",
       "      <td>0.0</td>\n",
       "      <td>3.6e-15</td>\n",
       "      <td>...</td>\n",
       "      <td>Ga0073928_1000187915</td>\n",
       "      <td>150643</td>\n",
       "      <td>Ga0073928_1000187915</td>\n",
       "      <td>(V, T, L, P, A, L, L, A, A, V, I, A, L, G, F, ...</td>\n",
       "      <td>1</td>\n",
       "      <td>1</td>\n",
       "      <td>True</td>\n",
       "      <td>1</td>\n",
       "      <td>2</td>\n",
       "      <td>B</td>\n",
       "    </tr>\n",
       "  </tbody>\n",
       "</table>\n",
       "<p>2 rows × 31 columns</p>\n",
       "</div>"
      ],
      "text/plain": [
       "        query file  label                0           1                     2  \\\n",
       "18  /tmp/tmplLe78K      5  Monooxygenase_B  PF04744.11  Ga0073928_1000187914   \n",
       "17  /tmp/tmplLe78K      5  Monooxygenase_B  PF04744.11  Ga0073928_1000187915   \n",
       "\n",
       "    3              4      5    6         7 ...                  descr  \\\n",
       "18  -  3.400000e-118  382.4  0.0  3.8e-118 ...   Ga0073928_1000187914   \n",
       "17  -   3.300000e-15   43.4  0.0   3.6e-15 ...   Ga0073928_1000187915   \n",
       "\n",
       "   position                   qid  \\\n",
       "18   150642  Ga0073928_1000187914   \n",
       "17   150643  Ga0073928_1000187915   \n",
       "\n",
       "                                                  seq diff1 diff2 is_operon  \\\n",
       "18  (M, A, N, W, P, L, E, I, P, S, P, A, G, L, T, ...   197     1      True   \n",
       "17  (V, T, L, P, A, L, L, A, A, V, I, A, L, G, F, ...     1     1      True   \n",
       "\n",
       "   rel_coordinates operon_count type  \n",
       "18               1            2    B  \n",
       "17               1            2    B  \n",
       "\n",
       "[2 rows x 31 columns]"
      ]
     },
     "execution_count": 1508,
     "metadata": {},
     "output_type": "execute_result"
    }
   ],
   "source": [
    "#sum_sales_dept.astype(str)\n",
    "operons[1][operons[1]['type']=='B'].sort_values(4, ascending=True)"
   ]
  },
  {
   "cell_type": "code",
   "execution_count": null,
   "metadata": {
    "collapsed": true
   },
   "outputs": [],
   "source": []
  },
  {
   "cell_type": "code",
   "execution_count": null,
   "metadata": {
    "collapsed": true
   },
   "outputs": [],
   "source": []
  },
  {
   "cell_type": "code",
   "execution_count": null,
   "metadata": {
    "collapsed": true
   },
   "outputs": [],
   "source": []
  },
  {
   "cell_type": "code",
   "execution_count": null,
   "metadata": {
    "collapsed": true
   },
   "outputs": [],
   "source": []
  },
  {
   "cell_type": "code",
   "execution_count": 1405,
   "metadata": {
    "collapsed": false
   },
   "outputs": [
    {
     "data": {
      "text/plain": [
       "18    3.400000e-118\n",
       "17     3.300000e-15\n",
       "21     2.200000e-93\n",
       "16     1.900000e-93\n",
       "Name: 4, dtype: float64"
      ]
     },
     "execution_count": 1405,
     "metadata": {},
     "output_type": "execute_result"
    }
   ],
   "source": [
    "operons[1][4]"
   ]
  },
  {
   "cell_type": "code",
   "execution_count": 1244,
   "metadata": {
    "collapsed": false
   },
   "outputs": [
    {
     "data": {
      "text/html": [
       "<div>\n",
       "<table border=\"1\" class=\"dataframe\">\n",
       "  <thead>\n",
       "    <tr style=\"text-align: right;\">\n",
       "      <th></th>\n",
       "      <th>query file</th>\n",
       "      <th>label</th>\n",
       "      <th>0</th>\n",
       "      <th>1</th>\n",
       "      <th>2</th>\n",
       "      <th>3</th>\n",
       "      <th>4</th>\n",
       "      <th>5</th>\n",
       "      <th>6</th>\n",
       "      <th>7</th>\n",
       "      <th>...</th>\n",
       "      <th>descr</th>\n",
       "      <th>position</th>\n",
       "      <th>qid</th>\n",
       "      <th>seq</th>\n",
       "      <th>diff1</th>\n",
       "      <th>diff2</th>\n",
       "      <th>is_operon</th>\n",
       "      <th>rel_coordinates</th>\n",
       "      <th>operon_count</th>\n",
       "      <th>type</th>\n",
       "    </tr>\n",
       "  </thead>\n",
       "  <tbody>\n",
       "  </tbody>\n",
       "</table>\n",
       "<p>0 rows × 31 columns</p>\n",
       "</div>"
      ],
      "text/plain": [
       "Empty DataFrame\n",
       "Columns: [query file, label, 0, 1, 2, 3, 4, 5, 6, 7, 8, 9, 10, 11, 12, 13, 14, 15, 16, 17, 18, descr, position, qid, seq, diff1, diff2, is_operon, rel_coordinates, operon_count, type]\n",
       "Index: []\n",
       "\n",
       "[0 rows x 31 columns]"
      ]
     },
     "execution_count": 1244,
     "metadata": {},
     "output_type": "execute_result"
    }
   ],
   "source": [
    "i"
   ]
  },
  {
   "cell_type": "code",
   "execution_count": 1248,
   "metadata": {
    "collapsed": false
   },
   "outputs": [
    {
     "data": {
      "text/html": [
       "<div>\n",
       "<table border=\"1\" class=\"dataframe\">\n",
       "  <thead>\n",
       "    <tr style=\"text-align: right;\">\n",
       "      <th></th>\n",
       "      <th>query file</th>\n",
       "      <th>label</th>\n",
       "      <th>0</th>\n",
       "      <th>1</th>\n",
       "      <th>2</th>\n",
       "      <th>3</th>\n",
       "      <th>4</th>\n",
       "      <th>5</th>\n",
       "      <th>6</th>\n",
       "      <th>7</th>\n",
       "      <th>...</th>\n",
       "      <th>descr</th>\n",
       "      <th>position</th>\n",
       "      <th>qid</th>\n",
       "      <th>seq</th>\n",
       "      <th>diff1</th>\n",
       "      <th>diff2</th>\n",
       "      <th>is_operon</th>\n",
       "      <th>rel_coordinates</th>\n",
       "      <th>operon_count</th>\n",
       "      <th>type</th>\n",
       "    </tr>\n",
       "  </thead>\n",
       "  <tbody>\n",
       "    <tr>\n",
       "      <th>3</th>\n",
       "      <td>/tmp/tmplLe78K</td>\n",
       "      <td>5</td>\n",
       "      <td>AmoC</td>\n",
       "      <td>PF04896.11</td>\n",
       "      <td>Ga0073928_1000187917</td>\n",
       "      <td>-</td>\n",
       "      <td>1.9e-93</td>\n",
       "      <td>299.9</td>\n",
       "      <td>15.3</td>\n",
       "      <td>2.4e-93</td>\n",
       "      <td>...</td>\n",
       "      <td>Ga0073928_1000187917</td>\n",
       "      <td>150645</td>\n",
       "      <td>Ga0073928_1000187917</td>\n",
       "      <td>MATALNTAKLGAPAQAPPLAIRSDDYRWISPTLMVLVCGIVGILMI...</td>\n",
       "      <td>1</td>\n",
       "      <td>296</td>\n",
       "      <td>True</td>\n",
       "      <td>1</td>\n",
       "      <td>2</td>\n",
       "      <td>C</td>\n",
       "    </tr>\n",
       "  </tbody>\n",
       "</table>\n",
       "<p>1 rows × 31 columns</p>\n",
       "</div>"
      ],
      "text/plain": [
       "       query file  label     0           1                     2  3        4  \\\n",
       "3  /tmp/tmplLe78K      5  AmoC  PF04896.11  Ga0073928_1000187917  -  1.9e-93   \n",
       "\n",
       "       5     6        7 ...                  descr position  \\\n",
       "3  299.9  15.3  2.4e-93 ...   Ga0073928_1000187917   150645   \n",
       "\n",
       "                    qid                                                seq  \\\n",
       "3  Ga0073928_1000187917  MATALNTAKLGAPAQAPPLAIRSDDYRWISPTLMVLVCGIVGILMI...   \n",
       "\n",
       "  diff1 diff2 is_operon rel_coordinates operon_count type  \n",
       "3     1   296      True               1            2    C  \n",
       "\n",
       "[1 rows x 31 columns]"
      ]
     },
     "execution_count": 1248,
     "metadata": {},
     "output_type": "execute_result"
    }
   ],
   "source": [
    "f.sort_values(4).head(1)"
   ]
  },
  {
   "cell_type": "code",
   "execution_count": null,
   "metadata": {
    "collapsed": true
   },
   "outputs": [],
   "source": []
  },
  {
   "cell_type": "code",
   "execution_count": null,
   "metadata": {
    "collapsed": true
   },
   "outputs": [],
   "source": []
  },
  {
   "cell_type": "code",
   "execution_count": null,
   "metadata": {
    "collapsed": true
   },
   "outputs": [],
   "source": []
  },
  {
   "cell_type": "code",
   "execution_count": null,
   "metadata": {
    "collapsed": true
   },
   "outputs": [],
   "source": []
  },
  {
   "cell_type": "code",
   "execution_count": null,
   "metadata": {
    "collapsed": true
   },
   "outputs": [],
   "source": []
  },
  {
   "cell_type": "code",
   "execution_count": 919,
   "metadata": {
    "collapsed": true
   },
   "outputs": [],
   "source": [
    "output['operon_type']=output['type'].apply(concatValues, axis=1)\n",
    "output['rel_distance']=output['rel_coordinates'].apply(concatValues, axis=1)\n",
    "output['concat_ids']=output[2].apply(concatSeparatedValues, axis=1)\n",
    "output['concat_descr']=output['descr'].apply(concatSeparatedValues, axis=1)\n",
    "output['concat_sequences']=output['seq'].apply(concatValues, axis=1)"
   ]
  },
  {
   "cell_type": "code",
   "execution_count": 920,
   "metadata": {
    "collapsed": false
   },
   "outputs": [
    {
     "data": {
      "text/html": [
       "<div>\n",
       "<table border=\"1\" class=\"dataframe\">\n",
       "  <thead>\n",
       "    <tr style=\"text-align: right;\">\n",
       "      <th></th>\n",
       "      <th>query file</th>\n",
       "      <th>label</th>\n",
       "      <th>0</th>\n",
       "      <th>1</th>\n",
       "      <th>2</th>\n",
       "      <th>3</th>\n",
       "      <th>4</th>\n",
       "      <th>5</th>\n",
       "      <th>6</th>\n",
       "      <th>7</th>\n",
       "      <th>...</th>\n",
       "      <th>diff2</th>\n",
       "      <th>is_operon</th>\n",
       "      <th>rel_coordinates</th>\n",
       "      <th>operon_count</th>\n",
       "      <th>type</th>\n",
       "      <th>operon_type</th>\n",
       "      <th>rel_distance</th>\n",
       "      <th>concat_ids</th>\n",
       "      <th>concat_descr</th>\n",
       "      <th>concat_sequences</th>\n",
       "    </tr>\n",
       "  </thead>\n",
       "  <tbody>\n",
       "    <tr>\n",
       "      <th>0</th>\n",
       "      <td>/tmp/tmpd_zEcV</td>\n",
       "      <td>1</td>\n",
       "      <td>AmoC</td>\n",
       "      <td>PF04896.11</td>\n",
       "      <td>2517402628</td>\n",
       "      <td>-</td>\n",
       "      <td>5.8e-122</td>\n",
       "      <td>393.3</td>\n",
       "      <td>14.7</td>\n",
       "      <td>7e-122</td>\n",
       "      <td>...</td>\n",
       "      <td>566</td>\n",
       "      <td>True</td>\n",
       "      <td>1</td>\n",
       "      <td>1</td>\n",
       "      <td>B</td>\n",
       "      <td>CAB</td>\n",
       "      <td>111</td>\n",
       "      <td>2517402628|2517402629|2517402630</td>\n",
       "      <td>2517402628 A3OODRAFT_1495 methane monooxygenas...</td>\n",
       "      <td>MSSTTDTAARAAAGTEAVVDLKGMWIGLAVLNGFYLVVRIYEQVFG...</td>\n",
       "    </tr>\n",
       "    <tr>\n",
       "      <th>1</th>\n",
       "      <td>/tmp/tmpNdc_YO</td>\n",
       "      <td>2</td>\n",
       "      <td>Monooxygenase_B</td>\n",
       "      <td>PF04744.11</td>\n",
       "      <td>2517403996</td>\n",
       "      <td>-</td>\n",
       "      <td>3.3e-170</td>\n",
       "      <td>553.6</td>\n",
       "      <td>0.0</td>\n",
       "      <td>3.7e-170</td>\n",
       "      <td>...</td>\n",
       "      <td>224</td>\n",
       "      <td>True</td>\n",
       "      <td>1</td>\n",
       "      <td>2</td>\n",
       "      <td>C</td>\n",
       "      <td>BAC</td>\n",
       "      <td>111</td>\n",
       "      <td>2517403996|2517403997|2517403998</td>\n",
       "      <td>2517403996 A3OODRAFT_2863 methane monooxygenas...</td>\n",
       "      <td>MKKFVKLAAIGAAAAVAATLGAVAPASAHGEKSQQAFLRMRTLNWY...</td>\n",
       "    </tr>\n",
       "    <tr>\n",
       "      <th>2</th>\n",
       "      <td>/tmp/tmpO4S3j2</td>\n",
       "      <td>3</td>\n",
       "      <td>AmoC</td>\n",
       "      <td>PF04896.11</td>\n",
       "      <td>2517404865</td>\n",
       "      <td>-</td>\n",
       "      <td>4.2e-93</td>\n",
       "      <td>298.8</td>\n",
       "      <td>17.7</td>\n",
       "      <td>5.1e-93</td>\n",
       "      <td>...</td>\n",
       "      <td>3676</td>\n",
       "      <td>True</td>\n",
       "      <td>1</td>\n",
       "      <td>3</td>\n",
       "      <td>A</td>\n",
       "      <td>CBA</td>\n",
       "      <td>111</td>\n",
       "      <td>2517404865|2517404866|2517404867</td>\n",
       "      <td>2517404865 A3OODRAFT_3733 methane monooxygenas...</td>\n",
       "      <td>MSTTAQTISQSTPQAPFNLPWYLRDLPKYLLTFGVMTVIYVGFRMY...</td>\n",
       "    </tr>\n",
       "  </tbody>\n",
       "</table>\n",
       "<p>3 rows × 98 columns</p>\n",
       "</div>"
      ],
      "text/plain": [
       "       query file label                0           1           2  3         4  \\\n",
       "0  /tmp/tmpd_zEcV     1             AmoC  PF04896.11  2517402628  -  5.8e-122   \n",
       "1  /tmp/tmpNdc_YO     2  Monooxygenase_B  PF04744.11  2517403996  -  3.3e-170   \n",
       "2  /tmp/tmpO4S3j2     3             AmoC  PF04896.11  2517404865  -   4.2e-93   \n",
       "\n",
       "       5     6         7                        ...                          \\\n",
       "0  393.3  14.7    7e-122                        ...                           \n",
       "1  553.6   0.0  3.7e-170                        ...                           \n",
       "2  298.8  17.7   5.1e-93                        ...                           \n",
       "\n",
       "  diff2 is_operon rel_coordinates operon_count type operon_type rel_distance  \\\n",
       "0   566      True               1            1    B         CAB          111   \n",
       "1   224      True               1            2    C         BAC          111   \n",
       "2  3676      True               1            3    A         CBA          111   \n",
       "\n",
       "                         concat_ids  \\\n",
       "0  2517402628|2517402629|2517402630   \n",
       "1  2517403996|2517403997|2517403998   \n",
       "2  2517404865|2517404866|2517404867   \n",
       "\n",
       "                                        concat_descr  \\\n",
       "0  2517402628 A3OODRAFT_1495 methane monooxygenas...   \n",
       "1  2517403996 A3OODRAFT_2863 methane monooxygenas...   \n",
       "2  2517404865 A3OODRAFT_3733 methane monooxygenas...   \n",
       "\n",
       "                                    concat_sequences  \n",
       "0  MSSTTDTAARAAAGTEAVVDLKGMWIGLAVLNGFYLVVRIYEQVFG...  \n",
       "1  MKKFVKLAAIGAAAAVAATLGAVAPASAHGEKSQQAFLRMRTLNWY...  \n",
       "2  MSTTAQTISQSTPQAPFNLPWYLRDLPKYLLTFGVMTVIYVGFRMY...  \n",
       "\n",
       "[3 rows x 98 columns]"
      ]
     },
     "execution_count": 920,
     "metadata": {},
     "output_type": "execute_result"
    }
   ],
   "source": [
    "output"
   ]
  },
  {
   "cell_type": "code",
   "execution_count": null,
   "metadata": {
    "collapsed": true
   },
   "outputs": [],
   "source": []
  },
  {
   "cell_type": "code",
   "execution_count": null,
   "metadata": {
    "collapsed": true
   },
   "outputs": [],
   "source": []
  },
  {
   "cell_type": "code",
   "execution_count": null,
   "metadata": {
    "collapsed": true
   },
   "outputs": [],
   "source": []
  },
  {
   "cell_type": "code",
   "execution_count": null,
   "metadata": {
    "collapsed": true
   },
   "outputs": [],
   "source": []
  },
  {
   "cell_type": "code",
   "execution_count": null,
   "metadata": {
    "collapsed": false
   },
   "outputs": [],
   "source": []
  },
  {
   "cell_type": "code",
   "execution_count": null,
   "metadata": {
    "collapsed": false
   },
   "outputs": [],
   "source": []
  },
  {
   "cell_type": "code",
   "execution_count": null,
   "metadata": {
    "collapsed": false
   },
   "outputs": [],
   "source": []
  },
  {
   "cell_type": "code",
   "execution_count": null,
   "metadata": {
    "collapsed": true
   },
   "outputs": [],
   "source": []
  },
  {
   "cell_type": "code",
   "execution_count": null,
   "metadata": {
    "collapsed": true
   },
   "outputs": [],
   "source": [
    "op"
   ]
  },
  {
   "cell_type": "code",
   "execution_count": 921,
   "metadata": {
    "collapsed": true
   },
   "outputs": [],
   "source": [
    "from Bio.Seq import Seq\n",
    "from Bio.SeqRecord import SeqRecord\n",
    "from Bio.Alphabet import IUPAC\n",
    "\n",
    "\n",
    "export_columns=['operon_type', 'rel_distance', 'concat_ids', 'concat_descr', 'concat_sequences']\n",
    "outfile1 = \"out2.csv\"\n",
    "outfile2 = \"out2.fasta\"\n",
    "output[export_columns].to_csv(outfile1, sep='\\t', header=True)\n",
    "\n",
    "ids = output['concat_ids'].tolist()\n",
    "sequences=output['concat_sequences'].tolist()\n",
    "descriptions=output['concat_descr'].tolist()\n",
    "types=output['operon_type'].tolist()\n",
    "#if len(ids)==len(sequences):\n",
    "records=list()\n",
    "for i in range(len(ids)):\n",
    "    record=SeqRecord(Seq(sequences[i], IUPAC.protein), id=ids[i],name=types[i] , description=types[i]+\" \"+descriptions[i])\n",
    "    records.append(record)\n",
    "with open(outfile2, \"w\") as output_handle:\n",
    "    SeqIO.write(records, output_handle, \"fasta\")"
   ]
  },
  {
   "cell_type": "code",
   "execution_count": null,
   "metadata": {
    "collapsed": true
   },
   "outputs": [],
   "source": []
  },
  {
   "cell_type": "code",
   "execution_count": null,
   "metadata": {
    "collapsed": true
   },
   "outputs": [],
   "source": []
  },
  {
   "cell_type": "code",
   "execution_count": null,
   "metadata": {
    "collapsed": true
   },
   "outputs": [],
   "source": []
  },
  {
   "cell_type": "markdown",
   "metadata": {},
   "source": [
    "## Adding sequence and position - entire version"
   ]
  },
  {
   "cell_type": "code",
   "execution_count": null,
   "metadata": {
    "collapsed": true
   },
   "outputs": [],
   "source": []
  },
  {
   "cell_type": "code",
   "execution_count": 804,
   "metadata": {
    "collapsed": false
   },
   "outputs": [
    {
     "data": {
      "text/plain": [
       "'../2517287028.genes.faa'"
      ]
     },
     "execution_count": 804,
     "metadata": {},
     "output_type": "execute_result"
    }
   ],
   "source": [
    "filename"
   ]
  },
  {
   "cell_type": "code",
   "execution_count": null,
   "metadata": {
    "collapsed": true
   },
   "outputs": [],
   "source": []
  },
  {
   "cell_type": "code",
   "execution_count": 805,
   "metadata": {
    "collapsed": false
   },
   "outputs": [],
   "source": [
    "names=df[2].tolist()"
   ]
  },
  {
   "cell_type": "code",
   "execution_count": 806,
   "metadata": {
    "collapsed": false
   },
   "outputs": [],
   "source": [
    "def extractFeatures(ids):\n",
    "    features=[]\n",
    "    pos=0\n",
    "    for record in SeqIO.parse(filename,\"fasta\"):\n",
    "        pos+=1\n",
    "        if record.name in ids:\n",
    "            features.append({'qid':record.name, 'position':pos, 'descr':record.description, 'seq':str(record.seq)})\n",
    "    return pd.DataFrame(features)\n",
    "        "
   ]
  },
  {
   "cell_type": "code",
   "execution_count": 814,
   "metadata": {
    "collapsed": false
   },
   "outputs": [
    {
     "data": {
      "text/html": [
       "<div>\n",
       "<table border=\"1\" class=\"dataframe\">\n",
       "  <thead>\n",
       "    <tr style=\"text-align: right;\">\n",
       "      <th></th>\n",
       "      <th>0</th>\n",
       "      <th>1</th>\n",
       "      <th>2</th>\n",
       "      <th>3</th>\n",
       "      <th>4</th>\n",
       "      <th>5</th>\n",
       "      <th>6</th>\n",
       "      <th>7</th>\n",
       "      <th>8</th>\n",
       "      <th>9</th>\n",
       "      <th>...</th>\n",
       "      <th>qid_x</th>\n",
       "      <th>seq_x</th>\n",
       "      <th>descr_y</th>\n",
       "      <th>position_y</th>\n",
       "      <th>qid_y</th>\n",
       "      <th>seq_y</th>\n",
       "      <th>descr</th>\n",
       "      <th>position</th>\n",
       "      <th>qid</th>\n",
       "      <th>seq</th>\n",
       "    </tr>\n",
       "  </thead>\n",
       "  <tbody>\n",
       "    <tr>\n",
       "      <th>0</th>\n",
       "      <td>AmoC</td>\n",
       "      <td>PF04896.11</td>\n",
       "      <td>2517401456</td>\n",
       "      <td>-</td>\n",
       "      <td>5.6e-120</td>\n",
       "      <td>386.8</td>\n",
       "      <td>15.8</td>\n",
       "      <td>7.2e-120</td>\n",
       "      <td>386.4</td>\n",
       "      <td>15.8</td>\n",
       "      <td>...</td>\n",
       "      <td>2517401456</td>\n",
       "      <td>MSVTTQSAAGAMDRAQPIVELKGMWIGLAVLNGFYLVVRIYEQIYG...</td>\n",
       "      <td>2517401456 A3OODRAFT_0323 methane monooxygenas...</td>\n",
       "      <td>320</td>\n",
       "      <td>2517401456</td>\n",
       "      <td>MSVTTQSAAGAMDRAQPIVELKGMWIGLAVLNGFYLVVRIYEQIYG...</td>\n",
       "      <td>2517401456 A3OODRAFT_0323 methane monooxygenas...</td>\n",
       "      <td>320</td>\n",
       "      <td>2517401456</td>\n",
       "      <td>MSVTTQSAAGAMDRAQPIVELKGMWIGLAVLNGFYLVVRIYEQIYG...</td>\n",
       "    </tr>\n",
       "    <tr>\n",
       "      <th>1</th>\n",
       "      <td>AmoC</td>\n",
       "      <td>PF04896.11</td>\n",
       "      <td>2517402628</td>\n",
       "      <td>-</td>\n",
       "      <td>5.8e-122</td>\n",
       "      <td>393.3</td>\n",
       "      <td>14.7</td>\n",
       "      <td>7e-122</td>\n",
       "      <td>393.0</td>\n",
       "      <td>14.7</td>\n",
       "      <td>...</td>\n",
       "      <td>2517402628</td>\n",
       "      <td>MSSTTDTAARAAAGTEAVVDLKGMWIGLAVLNGFYLVVRIYEQVFG...</td>\n",
       "      <td>2517402628 A3OODRAFT_1495 methane monooxygenas...</td>\n",
       "      <td>1475</td>\n",
       "      <td>2517402628</td>\n",
       "      <td>MSSTTDTAARAAAGTEAVVDLKGMWIGLAVLNGFYLVVRIYEQVFG...</td>\n",
       "      <td>2517402628 A3OODRAFT_1495 methane monooxygenas...</td>\n",
       "      <td>1475</td>\n",
       "      <td>2517402628</td>\n",
       "      <td>MSSTTDTAARAAAGTEAVVDLKGMWIGLAVLNGFYLVVRIYEQVFG...</td>\n",
       "    </tr>\n",
       "    <tr>\n",
       "      <th>2</th>\n",
       "      <td>AMO</td>\n",
       "      <td>PF02461.15</td>\n",
       "      <td>2517402629</td>\n",
       "      <td>-</td>\n",
       "      <td>4.8e-124</td>\n",
       "      <td>400.4</td>\n",
       "      <td>24.0</td>\n",
       "      <td>5.4e-124</td>\n",
       "      <td>400.3</td>\n",
       "      <td>24.0</td>\n",
       "      <td>...</td>\n",
       "      <td>2517402629</td>\n",
       "      <td>MSQSKSGGAVGPFNSVAEAAGCVQTVDWMLLVLLFFAVLGGYHVHF...</td>\n",
       "      <td>2517402629 A3OODRAFT_1496 methane monooxygenas...</td>\n",
       "      <td>1476</td>\n",
       "      <td>2517402629</td>\n",
       "      <td>MSQSKSGGAVGPFNSVAEAAGCVQTVDWMLLVLLFFAVLGGYHVHF...</td>\n",
       "      <td>2517402629 A3OODRAFT_1496 methane monooxygenas...</td>\n",
       "      <td>1476</td>\n",
       "      <td>2517402629</td>\n",
       "      <td>MSQSKSGGAVGPFNSVAEAAGCVQTVDWMLLVLLFFAVLGGYHVHF...</td>\n",
       "    </tr>\n",
       "    <tr>\n",
       "      <th>3</th>\n",
       "      <td>Monooxygenase_B</td>\n",
       "      <td>PF04744.11</td>\n",
       "      <td>2517402630</td>\n",
       "      <td>-</td>\n",
       "      <td>3.3e-170</td>\n",
       "      <td>553.6</td>\n",
       "      <td>0.0</td>\n",
       "      <td>3.7e-170</td>\n",
       "      <td>553.4</td>\n",
       "      <td>0.0</td>\n",
       "      <td>...</td>\n",
       "      <td>2517402630</td>\n",
       "      <td>MKKFVKLAAIGAAAAVAATLGAVAPASAHGEKSQQAFLRMRTLNWY...</td>\n",
       "      <td>2517402630 A3OODRAFT_1497 methane monooxygenas...</td>\n",
       "      <td>1477</td>\n",
       "      <td>2517402630</td>\n",
       "      <td>MKKFVKLAAIGAAAAVAATLGAVAPASAHGEKSQQAFLRMRTLNWY...</td>\n",
       "      <td>2517402630 A3OODRAFT_1497 methane monooxygenas...</td>\n",
       "      <td>1477</td>\n",
       "      <td>2517402630</td>\n",
       "      <td>MKKFVKLAAIGAAAAVAATLGAVAPASAHGEKSQQAFLRMRTLNWY...</td>\n",
       "    </tr>\n",
       "    <tr>\n",
       "      <th>4</th>\n",
       "      <td>AmoC</td>\n",
       "      <td>PF04896.11</td>\n",
       "      <td>2517403201</td>\n",
       "      <td>-</td>\n",
       "      <td>5.8e-122</td>\n",
       "      <td>393.3</td>\n",
       "      <td>14.7</td>\n",
       "      <td>7e-122</td>\n",
       "      <td>393.0</td>\n",
       "      <td>14.7</td>\n",
       "      <td>...</td>\n",
       "      <td>2517403201</td>\n",
       "      <td>MSSTTDTAARAAAGTEAVVDLKGMWIGLAVLNGFYLVVRIYEQVFG...</td>\n",
       "      <td>2517403201 A3OODRAFT_2068 methane monooxygenas...</td>\n",
       "      <td>2043</td>\n",
       "      <td>2517403201</td>\n",
       "      <td>MSSTTDTAARAAAGTEAVVDLKGMWIGLAVLNGFYLVVRIYEQVFG...</td>\n",
       "      <td>2517403201 A3OODRAFT_2068 methane monooxygenas...</td>\n",
       "      <td>2043</td>\n",
       "      <td>2517403201</td>\n",
       "      <td>MSSTTDTAARAAAGTEAVVDLKGMWIGLAVLNGFYLVVRIYEQVFG...</td>\n",
       "    </tr>\n",
       "    <tr>\n",
       "      <th>5</th>\n",
       "      <td>Monooxygenase_B</td>\n",
       "      <td>PF04744.11</td>\n",
       "      <td>2517403996</td>\n",
       "      <td>-</td>\n",
       "      <td>3.3e-170</td>\n",
       "      <td>553.6</td>\n",
       "      <td>0.0</td>\n",
       "      <td>3.7e-170</td>\n",
       "      <td>553.4</td>\n",
       "      <td>0.0</td>\n",
       "      <td>...</td>\n",
       "      <td>2517403996</td>\n",
       "      <td>MKKFVKLAAIGAAAAVAATLGAVAPASAHGEKSQQAFLRMRTLNWY...</td>\n",
       "      <td>2517403996 A3OODRAFT_2863 methane monooxygenas...</td>\n",
       "      <td>2816</td>\n",
       "      <td>2517403996</td>\n",
       "      <td>MKKFVKLAAIGAAAAVAATLGAVAPASAHGEKSQQAFLRMRTLNWY...</td>\n",
       "      <td>2517403996 A3OODRAFT_2863 methane monooxygenas...</td>\n",
       "      <td>2816</td>\n",
       "      <td>2517403996</td>\n",
       "      <td>MKKFVKLAAIGAAAAVAATLGAVAPASAHGEKSQQAFLRMRTLNWY...</td>\n",
       "    </tr>\n",
       "    <tr>\n",
       "      <th>6</th>\n",
       "      <td>AMO</td>\n",
       "      <td>PF02461.15</td>\n",
       "      <td>2517403997</td>\n",
       "      <td>-</td>\n",
       "      <td>4.8e-124</td>\n",
       "      <td>400.4</td>\n",
       "      <td>24.0</td>\n",
       "      <td>5.4e-124</td>\n",
       "      <td>400.3</td>\n",
       "      <td>24.0</td>\n",
       "      <td>...</td>\n",
       "      <td>2517403997</td>\n",
       "      <td>MSQSKSGGAVGPFNSVAEAAGCVQTVDWMLLVLLFFAVLGGYHVHF...</td>\n",
       "      <td>2517403997 A3OODRAFT_2864 methane monooxygenas...</td>\n",
       "      <td>2817</td>\n",
       "      <td>2517403997</td>\n",
       "      <td>MSQSKSGGAVGPFNSVAEAAGCVQTVDWMLLVLLFFAVLGGYHVHF...</td>\n",
       "      <td>2517403997 A3OODRAFT_2864 methane monooxygenas...</td>\n",
       "      <td>2817</td>\n",
       "      <td>2517403997</td>\n",
       "      <td>MSQSKSGGAVGPFNSVAEAAGCVQTVDWMLLVLLFFAVLGGYHVHF...</td>\n",
       "    </tr>\n",
       "    <tr>\n",
       "      <th>7</th>\n",
       "      <td>AmoC</td>\n",
       "      <td>PF04896.11</td>\n",
       "      <td>2517403998</td>\n",
       "      <td>-</td>\n",
       "      <td>5.8e-122</td>\n",
       "      <td>393.3</td>\n",
       "      <td>14.7</td>\n",
       "      <td>7e-122</td>\n",
       "      <td>393.0</td>\n",
       "      <td>14.7</td>\n",
       "      <td>...</td>\n",
       "      <td>2517403998</td>\n",
       "      <td>MSSTTDTAARAAAGTEAVVDLKGMWIGLAVLNGFYLVVRIYEQVFG...</td>\n",
       "      <td>2517403998 A3OODRAFT_2865 methane monooxygenas...</td>\n",
       "      <td>2818</td>\n",
       "      <td>2517403998</td>\n",
       "      <td>MSSTTDTAARAAAGTEAVVDLKGMWIGLAVLNGFYLVVRIYEQVFG...</td>\n",
       "      <td>2517403998 A3OODRAFT_2865 methane monooxygenas...</td>\n",
       "      <td>2818</td>\n",
       "      <td>2517403998</td>\n",
       "      <td>MSSTTDTAARAAAGTEAVVDLKGMWIGLAVLNGFYLVVRIYEQVFG...</td>\n",
       "    </tr>\n",
       "    <tr>\n",
       "      <th>8</th>\n",
       "      <td>AmoC</td>\n",
       "      <td>PF04896.11</td>\n",
       "      <td>2517404225</td>\n",
       "      <td>-</td>\n",
       "      <td>5.6e-111</td>\n",
       "      <td>357.3</td>\n",
       "      <td>11.5</td>\n",
       "      <td>6.6e-111</td>\n",
       "      <td>357.1</td>\n",
       "      <td>11.5</td>\n",
       "      <td>...</td>\n",
       "      <td>2517404225</td>\n",
       "      <td>MSMTKTEARSAARSAERIIDTRPVLIGVPALMLFVAILRLYEQLFA...</td>\n",
       "      <td>2517404225 A3OODRAFT_3092 Ammonia monooxygenas...</td>\n",
       "      <td>3042</td>\n",
       "      <td>2517404225</td>\n",
       "      <td>MSMTKTEARSAARSAERIIDTRPVLIGVPALMLFVAILRLYEQLFA...</td>\n",
       "      <td>2517404225 A3OODRAFT_3092 Ammonia monooxygenas...</td>\n",
       "      <td>3042</td>\n",
       "      <td>2517404225</td>\n",
       "      <td>MSMTKTEARSAARSAERIIDTRPVLIGVPALMLFVAILRLYEQLFA...</td>\n",
       "    </tr>\n",
       "    <tr>\n",
       "      <th>9</th>\n",
       "      <td>AmoC</td>\n",
       "      <td>PF04896.11</td>\n",
       "      <td>2517404670</td>\n",
       "      <td>-</td>\n",
       "      <td>1.7e-30</td>\n",
       "      <td>93.8</td>\n",
       "      <td>0.0</td>\n",
       "      <td>2.2e-30</td>\n",
       "      <td>93.3</td>\n",
       "      <td>0.0</td>\n",
       "      <td>...</td>\n",
       "      <td>2517404670</td>\n",
       "      <td>MSETTQSAVGAIERAEPIVDLRGMWIGLAVLNGFYLVVRIYEQVFG...</td>\n",
       "      <td>2517404670 A3OODRAFT_3537 Ammonia monooxygenas...</td>\n",
       "      <td>3482</td>\n",
       "      <td>2517404670</td>\n",
       "      <td>MSETTQSAVGAIERAEPIVDLRGMWIGLAVLNGFYLVVRIYEQVFG...</td>\n",
       "      <td>2517404670 A3OODRAFT_3537 Ammonia monooxygenas...</td>\n",
       "      <td>3482</td>\n",
       "      <td>2517404670</td>\n",
       "      <td>MSETTQSAVGAIERAEPIVDLRGMWIGLAVLNGFYLVVRIYEQVFG...</td>\n",
       "    </tr>\n",
       "    <tr>\n",
       "      <th>10</th>\n",
       "      <td>AmoC</td>\n",
       "      <td>PF04896.11</td>\n",
       "      <td>2517404865</td>\n",
       "      <td>-</td>\n",
       "      <td>4.2e-93</td>\n",
       "      <td>298.8</td>\n",
       "      <td>17.7</td>\n",
       "      <td>5.1e-93</td>\n",
       "      <td>298.5</td>\n",
       "      <td>17.7</td>\n",
       "      <td>...</td>\n",
       "      <td>2517404865</td>\n",
       "      <td>MSTTAQTISQSTPQAPFNLPWYLRDLPKYLLTFGVMTVIYVGFRMY...</td>\n",
       "      <td>2517404865 A3OODRAFT_3733 methane monooxygenas...</td>\n",
       "      <td>3674</td>\n",
       "      <td>2517404865</td>\n",
       "      <td>MSTTAQTISQSTPQAPFNLPWYLRDLPKYLLTFGVMTVIYVGFRMY...</td>\n",
       "      <td>2517404865 A3OODRAFT_3733 methane monooxygenas...</td>\n",
       "      <td>3674</td>\n",
       "      <td>2517404865</td>\n",
       "      <td>MSTTAQTISQSTPQAPFNLPWYLRDLPKYLLTFGVMTVIYVGFRMY...</td>\n",
       "    </tr>\n",
       "    <tr>\n",
       "      <th>11</th>\n",
       "      <td>Monooxygenase_B</td>\n",
       "      <td>PF04744.11</td>\n",
       "      <td>2517404866</td>\n",
       "      <td>-</td>\n",
       "      <td>7.5e-155</td>\n",
       "      <td>503.0</td>\n",
       "      <td>0.0</td>\n",
       "      <td>8.4e-155</td>\n",
       "      <td>502.9</td>\n",
       "      <td>0.0</td>\n",
       "      <td>...</td>\n",
       "      <td>2517404866</td>\n",
       "      <td>MKKSLKSLFSAVYLGLCAGALAPEAALAHGEKALEPFVRMRTIQWY...</td>\n",
       "      <td>2517404866 A3OODRAFT_3734 methane monooxygenas...</td>\n",
       "      <td>3675</td>\n",
       "      <td>2517404866</td>\n",
       "      <td>MKKSLKSLFSAVYLGLCAGALAPEAALAHGEKALEPFVRMRTIQWY...</td>\n",
       "      <td>2517404866 A3OODRAFT_3734 methane monooxygenas...</td>\n",
       "      <td>3675</td>\n",
       "      <td>2517404866</td>\n",
       "      <td>MKKSLKSLFSAVYLGLCAGALAPEAALAHGEKALEPFVRMRTIQWY...</td>\n",
       "    </tr>\n",
       "    <tr>\n",
       "      <th>12</th>\n",
       "      <td>AMO</td>\n",
       "      <td>PF02461.15</td>\n",
       "      <td>2517404867</td>\n",
       "      <td>-</td>\n",
       "      <td>6.5e-114</td>\n",
       "      <td>367.3</td>\n",
       "      <td>13.8</td>\n",
       "      <td>7.7e-114</td>\n",
       "      <td>367.0</td>\n",
       "      <td>13.8</td>\n",
       "      <td>...</td>\n",
       "      <td>2517404867</td>\n",
       "      <td>MTGKSLDIPARPYTGEKSRLSRAYDYLILVLALFLFIGSFHLHVAL...</td>\n",
       "      <td>2517404867 A3OODRAFT_3735 Ammonia monooxygenas...</td>\n",
       "      <td>3676</td>\n",
       "      <td>2517404867</td>\n",
       "      <td>MTGKSLDIPARPYTGEKSRLSRAYDYLILVLALFLFIGSFHLHVAL...</td>\n",
       "      <td>2517404867 A3OODRAFT_3735 Ammonia monooxygenas...</td>\n",
       "      <td>3676</td>\n",
       "      <td>2517404867</td>\n",
       "      <td>MTGKSLDIPARPYTGEKSRLSRAYDYLILVLALFLFIGSFHLHVAL...</td>\n",
       "    </tr>\n",
       "  </tbody>\n",
       "</table>\n",
       "<p>13 rows × 39 columns</p>\n",
       "</div>"
      ],
      "text/plain": [
       "                  0           1           2  3         4      5     6  \\\n",
       "0              AmoC  PF04896.11  2517401456  -  5.6e-120  386.8  15.8   \n",
       "1              AmoC  PF04896.11  2517402628  -  5.8e-122  393.3  14.7   \n",
       "2               AMO  PF02461.15  2517402629  -  4.8e-124  400.4  24.0   \n",
       "3   Monooxygenase_B  PF04744.11  2517402630  -  3.3e-170  553.6   0.0   \n",
       "4              AmoC  PF04896.11  2517403201  -  5.8e-122  393.3  14.7   \n",
       "5   Monooxygenase_B  PF04744.11  2517403996  -  3.3e-170  553.6   0.0   \n",
       "6               AMO  PF02461.15  2517403997  -  4.8e-124  400.4  24.0   \n",
       "7              AmoC  PF04896.11  2517403998  -  5.8e-122  393.3  14.7   \n",
       "8              AmoC  PF04896.11  2517404225  -  5.6e-111  357.3  11.5   \n",
       "9              AmoC  PF04896.11  2517404670  -   1.7e-30   93.8   0.0   \n",
       "10             AmoC  PF04896.11  2517404865  -   4.2e-93  298.8  17.7   \n",
       "11  Monooxygenase_B  PF04744.11  2517404866  -  7.5e-155  503.0   0.0   \n",
       "12              AMO  PF02461.15  2517404867  -  6.5e-114  367.3  13.8   \n",
       "\n",
       "           7      8     9                        ...                          \\\n",
       "0   7.2e-120  386.4  15.8                        ...                           \n",
       "1     7e-122  393.0  14.7                        ...                           \n",
       "2   5.4e-124  400.3  24.0                        ...                           \n",
       "3   3.7e-170  553.4   0.0                        ...                           \n",
       "4     7e-122  393.0  14.7                        ...                           \n",
       "5   3.7e-170  553.4   0.0                        ...                           \n",
       "6   5.4e-124  400.3  24.0                        ...                           \n",
       "7     7e-122  393.0  14.7                        ...                           \n",
       "8   6.6e-111  357.1  11.5                        ...                           \n",
       "9    2.2e-30   93.3   0.0                        ...                           \n",
       "10   5.1e-93  298.5  17.7                        ...                           \n",
       "11  8.4e-155  502.9   0.0                        ...                           \n",
       "12  7.7e-114  367.0  13.8                        ...                           \n",
       "\n",
       "         qid_x                                              seq_x  \\\n",
       "0   2517401456  MSVTTQSAAGAMDRAQPIVELKGMWIGLAVLNGFYLVVRIYEQIYG...   \n",
       "1   2517402628  MSSTTDTAARAAAGTEAVVDLKGMWIGLAVLNGFYLVVRIYEQVFG...   \n",
       "2   2517402629  MSQSKSGGAVGPFNSVAEAAGCVQTVDWMLLVLLFFAVLGGYHVHF...   \n",
       "3   2517402630  MKKFVKLAAIGAAAAVAATLGAVAPASAHGEKSQQAFLRMRTLNWY...   \n",
       "4   2517403201  MSSTTDTAARAAAGTEAVVDLKGMWIGLAVLNGFYLVVRIYEQVFG...   \n",
       "5   2517403996  MKKFVKLAAIGAAAAVAATLGAVAPASAHGEKSQQAFLRMRTLNWY...   \n",
       "6   2517403997  MSQSKSGGAVGPFNSVAEAAGCVQTVDWMLLVLLFFAVLGGYHVHF...   \n",
       "7   2517403998  MSSTTDTAARAAAGTEAVVDLKGMWIGLAVLNGFYLVVRIYEQVFG...   \n",
       "8   2517404225  MSMTKTEARSAARSAERIIDTRPVLIGVPALMLFVAILRLYEQLFA...   \n",
       "9   2517404670  MSETTQSAVGAIERAEPIVDLRGMWIGLAVLNGFYLVVRIYEQVFG...   \n",
       "10  2517404865  MSTTAQTISQSTPQAPFNLPWYLRDLPKYLLTFGVMTVIYVGFRMY...   \n",
       "11  2517404866  MKKSLKSLFSAVYLGLCAGALAPEAALAHGEKALEPFVRMRTIQWY...   \n",
       "12  2517404867  MTGKSLDIPARPYTGEKSRLSRAYDYLILVLALFLFIGSFHLHVAL...   \n",
       "\n",
       "                                              descr_y position_y       qid_y  \\\n",
       "0   2517401456 A3OODRAFT_0323 methane monooxygenas...        320  2517401456   \n",
       "1   2517402628 A3OODRAFT_1495 methane monooxygenas...       1475  2517402628   \n",
       "2   2517402629 A3OODRAFT_1496 methane monooxygenas...       1476  2517402629   \n",
       "3   2517402630 A3OODRAFT_1497 methane monooxygenas...       1477  2517402630   \n",
       "4   2517403201 A3OODRAFT_2068 methane monooxygenas...       2043  2517403201   \n",
       "5   2517403996 A3OODRAFT_2863 methane monooxygenas...       2816  2517403996   \n",
       "6   2517403997 A3OODRAFT_2864 methane monooxygenas...       2817  2517403997   \n",
       "7   2517403998 A3OODRAFT_2865 methane monooxygenas...       2818  2517403998   \n",
       "8   2517404225 A3OODRAFT_3092 Ammonia monooxygenas...       3042  2517404225   \n",
       "9   2517404670 A3OODRAFT_3537 Ammonia monooxygenas...       3482  2517404670   \n",
       "10  2517404865 A3OODRAFT_3733 methane monooxygenas...       3674  2517404865   \n",
       "11  2517404866 A3OODRAFT_3734 methane monooxygenas...       3675  2517404866   \n",
       "12  2517404867 A3OODRAFT_3735 Ammonia monooxygenas...       3676  2517404867   \n",
       "\n",
       "                                                seq_y  \\\n",
       "0   MSVTTQSAAGAMDRAQPIVELKGMWIGLAVLNGFYLVVRIYEQIYG...   \n",
       "1   MSSTTDTAARAAAGTEAVVDLKGMWIGLAVLNGFYLVVRIYEQVFG...   \n",
       "2   MSQSKSGGAVGPFNSVAEAAGCVQTVDWMLLVLLFFAVLGGYHVHF...   \n",
       "3   MKKFVKLAAIGAAAAVAATLGAVAPASAHGEKSQQAFLRMRTLNWY...   \n",
       "4   MSSTTDTAARAAAGTEAVVDLKGMWIGLAVLNGFYLVVRIYEQVFG...   \n",
       "5   MKKFVKLAAIGAAAAVAATLGAVAPASAHGEKSQQAFLRMRTLNWY...   \n",
       "6   MSQSKSGGAVGPFNSVAEAAGCVQTVDWMLLVLLFFAVLGGYHVHF...   \n",
       "7   MSSTTDTAARAAAGTEAVVDLKGMWIGLAVLNGFYLVVRIYEQVFG...   \n",
       "8   MSMTKTEARSAARSAERIIDTRPVLIGVPALMLFVAILRLYEQLFA...   \n",
       "9   MSETTQSAVGAIERAEPIVDLRGMWIGLAVLNGFYLVVRIYEQVFG...   \n",
       "10  MSTTAQTISQSTPQAPFNLPWYLRDLPKYLLTFGVMTVIYVGFRMY...   \n",
       "11  MKKSLKSLFSAVYLGLCAGALAPEAALAHGEKALEPFVRMRTIQWY...   \n",
       "12  MTGKSLDIPARPYTGEKSRLSRAYDYLILVLALFLFIGSFHLHVAL...   \n",
       "\n",
       "                                                descr position         qid  \\\n",
       "0   2517401456 A3OODRAFT_0323 methane monooxygenas...      320  2517401456   \n",
       "1   2517402628 A3OODRAFT_1495 methane monooxygenas...     1475  2517402628   \n",
       "2   2517402629 A3OODRAFT_1496 methane monooxygenas...     1476  2517402629   \n",
       "3   2517402630 A3OODRAFT_1497 methane monooxygenas...     1477  2517402630   \n",
       "4   2517403201 A3OODRAFT_2068 methane monooxygenas...     2043  2517403201   \n",
       "5   2517403996 A3OODRAFT_2863 methane monooxygenas...     2816  2517403996   \n",
       "6   2517403997 A3OODRAFT_2864 methane monooxygenas...     2817  2517403997   \n",
       "7   2517403998 A3OODRAFT_2865 methane monooxygenas...     2818  2517403998   \n",
       "8   2517404225 A3OODRAFT_3092 Ammonia monooxygenas...     3042  2517404225   \n",
       "9   2517404670 A3OODRAFT_3537 Ammonia monooxygenas...     3482  2517404670   \n",
       "10  2517404865 A3OODRAFT_3733 methane monooxygenas...     3674  2517404865   \n",
       "11  2517404866 A3OODRAFT_3734 methane monooxygenas...     3675  2517404866   \n",
       "12  2517404867 A3OODRAFT_3735 Ammonia monooxygenas...     3676  2517404867   \n",
       "\n",
       "                                                  seq  \n",
       "0   MSVTTQSAAGAMDRAQPIVELKGMWIGLAVLNGFYLVVRIYEQIYG...  \n",
       "1   MSSTTDTAARAAAGTEAVVDLKGMWIGLAVLNGFYLVVRIYEQVFG...  \n",
       "2   MSQSKSGGAVGPFNSVAEAAGCVQTVDWMLLVLLFFAVLGGYHVHF...  \n",
       "3   MKKFVKLAAIGAAAAVAATLGAVAPASAHGEKSQQAFLRMRTLNWY...  \n",
       "4   MSSTTDTAARAAAGTEAVVDLKGMWIGLAVLNGFYLVVRIYEQVFG...  \n",
       "5   MKKFVKLAAIGAAAAVAATLGAVAPASAHGEKSQQAFLRMRTLNWY...  \n",
       "6   MSQSKSGGAVGPFNSVAEAAGCVQTVDWMLLVLLFFAVLGGYHVHF...  \n",
       "7   MSSTTDTAARAAAGTEAVVDLKGMWIGLAVLNGFYLVVRIYEQVFG...  \n",
       "8   MSMTKTEARSAARSAERIIDTRPVLIGVPALMLFVAILRLYEQLFA...  \n",
       "9   MSETTQSAVGAIERAEPIVDLRGMWIGLAVLNGFYLVVRIYEQVFG...  \n",
       "10  MSTTAQTISQSTPQAPFNLPWYLRDLPKYLLTFGVMTVIYVGFRMY...  \n",
       "11  MKKSLKSLFSAVYLGLCAGALAPEAALAHGEKALEPFVRMRTIQWY...  \n",
       "12  MTGKSLDIPARPYTGEKSRLSRAYDYLILVLALFLFIGSFHLHVAL...  \n",
       "\n",
       "[13 rows x 39 columns]"
      ]
     },
     "execution_count": 814,
     "metadata": {},
     "output_type": "execute_result"
    }
   ],
   "source": [
    "df=df.merge(extractFeatures(names), left_on=2, right_on='qid', suffixes=('',''))\n",
    "df"
   ]
  },
  {
   "cell_type": "code",
   "execution_count": 818,
   "metadata": {
    "collapsed": false
   },
   "outputs": [
    {
     "data": {
      "text/plain": [
       "[320, 1475, 1476, 1477, 2043, 2816, 2817, 2818, 3042, 3482, 3674, 3675, 3676]"
      ]
     },
     "execution_count": 818,
     "metadata": {},
     "output_type": "execute_result"
    }
   ],
   "source": [
    "l"
   ]
  },
  {
   "cell_type": "markdown",
   "metadata": {},
   "source": [
    "## Counting, identifying and annotating operons"
   ]
  },
  {
   "cell_type": "code",
   "execution_count": 819,
   "metadata": {
    "collapsed": false
   },
   "outputs": [
    {
     "data": {
      "text/html": [
       "<div>\n",
       "<table border=\"1\" class=\"dataframe\">\n",
       "  <thead>\n",
       "    <tr style=\"text-align: right;\">\n",
       "      <th></th>\n",
       "      <th>0</th>\n",
       "      <th>1</th>\n",
       "      <th>2</th>\n",
       "      <th>3</th>\n",
       "      <th>4</th>\n",
       "      <th>5</th>\n",
       "      <th>6</th>\n",
       "      <th>7</th>\n",
       "      <th>8</th>\n",
       "      <th>9</th>\n",
       "      <th>...</th>\n",
       "      <th>descr</th>\n",
       "      <th>position</th>\n",
       "      <th>qid</th>\n",
       "      <th>seq</th>\n",
       "      <th>diff1</th>\n",
       "      <th>diff2</th>\n",
       "      <th>is_operon</th>\n",
       "      <th>rel_coordinates</th>\n",
       "      <th>operon_count</th>\n",
       "      <th>type</th>\n",
       "    </tr>\n",
       "  </thead>\n",
       "  <tbody>\n",
       "    <tr>\n",
       "      <th>0</th>\n",
       "      <td>AmoC</td>\n",
       "      <td>PF04896.11</td>\n",
       "      <td>2517401456</td>\n",
       "      <td>-</td>\n",
       "      <td>5.6e-120</td>\n",
       "      <td>386.8</td>\n",
       "      <td>15.8</td>\n",
       "      <td>7.2e-120</td>\n",
       "      <td>386.4</td>\n",
       "      <td>15.8</td>\n",
       "      <td>...</td>\n",
       "      <td>2517401456 A3OODRAFT_0323 methane monooxygenas...</td>\n",
       "      <td>320</td>\n",
       "      <td>2517401456</td>\n",
       "      <td>MSVTTQSAAGAMDRAQPIVELKGMWIGLAVLNGFYLVVRIYEQIYG...</td>\n",
       "      <td>320</td>\n",
       "      <td>1155</td>\n",
       "      <td>False</td>\n",
       "      <td>0</td>\n",
       "      <td>False</td>\n",
       "      <td>C</td>\n",
       "    </tr>\n",
       "    <tr>\n",
       "      <th>1</th>\n",
       "      <td>AmoC</td>\n",
       "      <td>PF04896.11</td>\n",
       "      <td>2517402628</td>\n",
       "      <td>-</td>\n",
       "      <td>5.8e-122</td>\n",
       "      <td>393.3</td>\n",
       "      <td>14.7</td>\n",
       "      <td>7e-122</td>\n",
       "      <td>393.0</td>\n",
       "      <td>14.7</td>\n",
       "      <td>...</td>\n",
       "      <td>2517402628 A3OODRAFT_1495 methane monooxygenas...</td>\n",
       "      <td>1475</td>\n",
       "      <td>2517402628</td>\n",
       "      <td>MSSTTDTAARAAAGTEAVVDLKGMWIGLAVLNGFYLVVRIYEQVFG...</td>\n",
       "      <td>1155</td>\n",
       "      <td>1</td>\n",
       "      <td>True</td>\n",
       "      <td>1</td>\n",
       "      <td>1</td>\n",
       "      <td>C</td>\n",
       "    </tr>\n",
       "    <tr>\n",
       "      <th>2</th>\n",
       "      <td>AMO</td>\n",
       "      <td>PF02461.15</td>\n",
       "      <td>2517402629</td>\n",
       "      <td>-</td>\n",
       "      <td>4.8e-124</td>\n",
       "      <td>400.4</td>\n",
       "      <td>24.0</td>\n",
       "      <td>5.4e-124</td>\n",
       "      <td>400.3</td>\n",
       "      <td>24.0</td>\n",
       "      <td>...</td>\n",
       "      <td>2517402629 A3OODRAFT_1496 methane monooxygenas...</td>\n",
       "      <td>1476</td>\n",
       "      <td>2517402629</td>\n",
       "      <td>MSQSKSGGAVGPFNSVAEAAGCVQTVDWMLLVLLFFAVLGGYHVHF...</td>\n",
       "      <td>1</td>\n",
       "      <td>1</td>\n",
       "      <td>True</td>\n",
       "      <td>1</td>\n",
       "      <td>1</td>\n",
       "      <td>A</td>\n",
       "    </tr>\n",
       "    <tr>\n",
       "      <th>3</th>\n",
       "      <td>Monooxygenase_B</td>\n",
       "      <td>PF04744.11</td>\n",
       "      <td>2517402630</td>\n",
       "      <td>-</td>\n",
       "      <td>3.3e-170</td>\n",
       "      <td>553.6</td>\n",
       "      <td>0.0</td>\n",
       "      <td>3.7e-170</td>\n",
       "      <td>553.4</td>\n",
       "      <td>0.0</td>\n",
       "      <td>...</td>\n",
       "      <td>2517402630 A3OODRAFT_1497 methane monooxygenas...</td>\n",
       "      <td>1477</td>\n",
       "      <td>2517402630</td>\n",
       "      <td>MKKFVKLAAIGAAAAVAATLGAVAPASAHGEKSQQAFLRMRTLNWY...</td>\n",
       "      <td>1</td>\n",
       "      <td>566</td>\n",
       "      <td>True</td>\n",
       "      <td>1</td>\n",
       "      <td>1</td>\n",
       "      <td>B</td>\n",
       "    </tr>\n",
       "    <tr>\n",
       "      <th>4</th>\n",
       "      <td>AmoC</td>\n",
       "      <td>PF04896.11</td>\n",
       "      <td>2517403201</td>\n",
       "      <td>-</td>\n",
       "      <td>5.8e-122</td>\n",
       "      <td>393.3</td>\n",
       "      <td>14.7</td>\n",
       "      <td>7e-122</td>\n",
       "      <td>393.0</td>\n",
       "      <td>14.7</td>\n",
       "      <td>...</td>\n",
       "      <td>2517403201 A3OODRAFT_2068 methane monooxygenas...</td>\n",
       "      <td>2043</td>\n",
       "      <td>2517403201</td>\n",
       "      <td>MSSTTDTAARAAAGTEAVVDLKGMWIGLAVLNGFYLVVRIYEQVFG...</td>\n",
       "      <td>566</td>\n",
       "      <td>773</td>\n",
       "      <td>False</td>\n",
       "      <td>0</td>\n",
       "      <td>False</td>\n",
       "      <td>C</td>\n",
       "    </tr>\n",
       "    <tr>\n",
       "      <th>5</th>\n",
       "      <td>Monooxygenase_B</td>\n",
       "      <td>PF04744.11</td>\n",
       "      <td>2517403996</td>\n",
       "      <td>-</td>\n",
       "      <td>3.3e-170</td>\n",
       "      <td>553.6</td>\n",
       "      <td>0.0</td>\n",
       "      <td>3.7e-170</td>\n",
       "      <td>553.4</td>\n",
       "      <td>0.0</td>\n",
       "      <td>...</td>\n",
       "      <td>2517403996 A3OODRAFT_2863 methane monooxygenas...</td>\n",
       "      <td>2816</td>\n",
       "      <td>2517403996</td>\n",
       "      <td>MKKFVKLAAIGAAAAVAATLGAVAPASAHGEKSQQAFLRMRTLNWY...</td>\n",
       "      <td>773</td>\n",
       "      <td>1</td>\n",
       "      <td>True</td>\n",
       "      <td>1</td>\n",
       "      <td>2</td>\n",
       "      <td>B</td>\n",
       "    </tr>\n",
       "    <tr>\n",
       "      <th>6</th>\n",
       "      <td>AMO</td>\n",
       "      <td>PF02461.15</td>\n",
       "      <td>2517403997</td>\n",
       "      <td>-</td>\n",
       "      <td>4.8e-124</td>\n",
       "      <td>400.4</td>\n",
       "      <td>24.0</td>\n",
       "      <td>5.4e-124</td>\n",
       "      <td>400.3</td>\n",
       "      <td>24.0</td>\n",
       "      <td>...</td>\n",
       "      <td>2517403997 A3OODRAFT_2864 methane monooxygenas...</td>\n",
       "      <td>2817</td>\n",
       "      <td>2517403997</td>\n",
       "      <td>MSQSKSGGAVGPFNSVAEAAGCVQTVDWMLLVLLFFAVLGGYHVHF...</td>\n",
       "      <td>1</td>\n",
       "      <td>1</td>\n",
       "      <td>True</td>\n",
       "      <td>1</td>\n",
       "      <td>2</td>\n",
       "      <td>A</td>\n",
       "    </tr>\n",
       "    <tr>\n",
       "      <th>7</th>\n",
       "      <td>AmoC</td>\n",
       "      <td>PF04896.11</td>\n",
       "      <td>2517403998</td>\n",
       "      <td>-</td>\n",
       "      <td>5.8e-122</td>\n",
       "      <td>393.3</td>\n",
       "      <td>14.7</td>\n",
       "      <td>7e-122</td>\n",
       "      <td>393.0</td>\n",
       "      <td>14.7</td>\n",
       "      <td>...</td>\n",
       "      <td>2517403998 A3OODRAFT_2865 methane monooxygenas...</td>\n",
       "      <td>2818</td>\n",
       "      <td>2517403998</td>\n",
       "      <td>MSSTTDTAARAAAGTEAVVDLKGMWIGLAVLNGFYLVVRIYEQVFG...</td>\n",
       "      <td>1</td>\n",
       "      <td>224</td>\n",
       "      <td>True</td>\n",
       "      <td>1</td>\n",
       "      <td>2</td>\n",
       "      <td>C</td>\n",
       "    </tr>\n",
       "    <tr>\n",
       "      <th>8</th>\n",
       "      <td>AmoC</td>\n",
       "      <td>PF04896.11</td>\n",
       "      <td>2517404225</td>\n",
       "      <td>-</td>\n",
       "      <td>5.6e-111</td>\n",
       "      <td>357.3</td>\n",
       "      <td>11.5</td>\n",
       "      <td>6.6e-111</td>\n",
       "      <td>357.1</td>\n",
       "      <td>11.5</td>\n",
       "      <td>...</td>\n",
       "      <td>2517404225 A3OODRAFT_3092 Ammonia monooxygenas...</td>\n",
       "      <td>3042</td>\n",
       "      <td>2517404225</td>\n",
       "      <td>MSMTKTEARSAARSAERIIDTRPVLIGVPALMLFVAILRLYEQLFA...</td>\n",
       "      <td>224</td>\n",
       "      <td>440</td>\n",
       "      <td>False</td>\n",
       "      <td>0</td>\n",
       "      <td>False</td>\n",
       "      <td>C</td>\n",
       "    </tr>\n",
       "    <tr>\n",
       "      <th>9</th>\n",
       "      <td>AmoC</td>\n",
       "      <td>PF04896.11</td>\n",
       "      <td>2517404670</td>\n",
       "      <td>-</td>\n",
       "      <td>1.7e-30</td>\n",
       "      <td>93.8</td>\n",
       "      <td>0.0</td>\n",
       "      <td>2.2e-30</td>\n",
       "      <td>93.3</td>\n",
       "      <td>0.0</td>\n",
       "      <td>...</td>\n",
       "      <td>2517404670 A3OODRAFT_3537 Ammonia monooxygenas...</td>\n",
       "      <td>3482</td>\n",
       "      <td>2517404670</td>\n",
       "      <td>MSETTQSAVGAIERAEPIVDLRGMWIGLAVLNGFYLVVRIYEQVFG...</td>\n",
       "      <td>440</td>\n",
       "      <td>192</td>\n",
       "      <td>False</td>\n",
       "      <td>0</td>\n",
       "      <td>False</td>\n",
       "      <td>C</td>\n",
       "    </tr>\n",
       "    <tr>\n",
       "      <th>10</th>\n",
       "      <td>AmoC</td>\n",
       "      <td>PF04896.11</td>\n",
       "      <td>2517404865</td>\n",
       "      <td>-</td>\n",
       "      <td>4.2e-93</td>\n",
       "      <td>298.8</td>\n",
       "      <td>17.7</td>\n",
       "      <td>5.1e-93</td>\n",
       "      <td>298.5</td>\n",
       "      <td>17.7</td>\n",
       "      <td>...</td>\n",
       "      <td>2517404865 A3OODRAFT_3733 methane monooxygenas...</td>\n",
       "      <td>3674</td>\n",
       "      <td>2517404865</td>\n",
       "      <td>MSTTAQTISQSTPQAPFNLPWYLRDLPKYLLTFGVMTVIYVGFRMY...</td>\n",
       "      <td>192</td>\n",
       "      <td>1</td>\n",
       "      <td>True</td>\n",
       "      <td>1</td>\n",
       "      <td>3</td>\n",
       "      <td>C</td>\n",
       "    </tr>\n",
       "    <tr>\n",
       "      <th>11</th>\n",
       "      <td>Monooxygenase_B</td>\n",
       "      <td>PF04744.11</td>\n",
       "      <td>2517404866</td>\n",
       "      <td>-</td>\n",
       "      <td>7.5e-155</td>\n",
       "      <td>503.0</td>\n",
       "      <td>0.0</td>\n",
       "      <td>8.4e-155</td>\n",
       "      <td>502.9</td>\n",
       "      <td>0.0</td>\n",
       "      <td>...</td>\n",
       "      <td>2517404866 A3OODRAFT_3734 methane monooxygenas...</td>\n",
       "      <td>3675</td>\n",
       "      <td>2517404866</td>\n",
       "      <td>MKKSLKSLFSAVYLGLCAGALAPEAALAHGEKALEPFVRMRTIQWY...</td>\n",
       "      <td>1</td>\n",
       "      <td>1</td>\n",
       "      <td>True</td>\n",
       "      <td>1</td>\n",
       "      <td>3</td>\n",
       "      <td>B</td>\n",
       "    </tr>\n",
       "    <tr>\n",
       "      <th>12</th>\n",
       "      <td>AMO</td>\n",
       "      <td>PF02461.15</td>\n",
       "      <td>2517404867</td>\n",
       "      <td>-</td>\n",
       "      <td>6.5e-114</td>\n",
       "      <td>367.3</td>\n",
       "      <td>13.8</td>\n",
       "      <td>7.7e-114</td>\n",
       "      <td>367.0</td>\n",
       "      <td>13.8</td>\n",
       "      <td>...</td>\n",
       "      <td>2517404867 A3OODRAFT_3735 Ammonia monooxygenas...</td>\n",
       "      <td>3676</td>\n",
       "      <td>2517404867</td>\n",
       "      <td>MTGKSLDIPARPYTGEKSRLSRAYDYLILVLALFLFIGSFHLHVAL...</td>\n",
       "      <td>1</td>\n",
       "      <td>3676</td>\n",
       "      <td>True</td>\n",
       "      <td>1</td>\n",
       "      <td>3</td>\n",
       "      <td>A</td>\n",
       "    </tr>\n",
       "  </tbody>\n",
       "</table>\n",
       "<p>13 rows × 45 columns</p>\n",
       "</div>"
      ],
      "text/plain": [
       "                  0           1           2  3         4      5     6  \\\n",
       "0              AmoC  PF04896.11  2517401456  -  5.6e-120  386.8  15.8   \n",
       "1              AmoC  PF04896.11  2517402628  -  5.8e-122  393.3  14.7   \n",
       "2               AMO  PF02461.15  2517402629  -  4.8e-124  400.4  24.0   \n",
       "3   Monooxygenase_B  PF04744.11  2517402630  -  3.3e-170  553.6   0.0   \n",
       "4              AmoC  PF04896.11  2517403201  -  5.8e-122  393.3  14.7   \n",
       "5   Monooxygenase_B  PF04744.11  2517403996  -  3.3e-170  553.6   0.0   \n",
       "6               AMO  PF02461.15  2517403997  -  4.8e-124  400.4  24.0   \n",
       "7              AmoC  PF04896.11  2517403998  -  5.8e-122  393.3  14.7   \n",
       "8              AmoC  PF04896.11  2517404225  -  5.6e-111  357.3  11.5   \n",
       "9              AmoC  PF04896.11  2517404670  -   1.7e-30   93.8   0.0   \n",
       "10             AmoC  PF04896.11  2517404865  -   4.2e-93  298.8  17.7   \n",
       "11  Monooxygenase_B  PF04744.11  2517404866  -  7.5e-155  503.0   0.0   \n",
       "12              AMO  PF02461.15  2517404867  -  6.5e-114  367.3  13.8   \n",
       "\n",
       "           7      8     9 ...   \\\n",
       "0   7.2e-120  386.4  15.8 ...    \n",
       "1     7e-122  393.0  14.7 ...    \n",
       "2   5.4e-124  400.3  24.0 ...    \n",
       "3   3.7e-170  553.4   0.0 ...    \n",
       "4     7e-122  393.0  14.7 ...    \n",
       "5   3.7e-170  553.4   0.0 ...    \n",
       "6   5.4e-124  400.3  24.0 ...    \n",
       "7     7e-122  393.0  14.7 ...    \n",
       "8   6.6e-111  357.1  11.5 ...    \n",
       "9    2.2e-30   93.3   0.0 ...    \n",
       "10   5.1e-93  298.5  17.7 ...    \n",
       "11  8.4e-155  502.9   0.0 ...    \n",
       "12  7.7e-114  367.0  13.8 ...    \n",
       "\n",
       "                                                descr position         qid  \\\n",
       "0   2517401456 A3OODRAFT_0323 methane monooxygenas...      320  2517401456   \n",
       "1   2517402628 A3OODRAFT_1495 methane monooxygenas...     1475  2517402628   \n",
       "2   2517402629 A3OODRAFT_1496 methane monooxygenas...     1476  2517402629   \n",
       "3   2517402630 A3OODRAFT_1497 methane monooxygenas...     1477  2517402630   \n",
       "4   2517403201 A3OODRAFT_2068 methane monooxygenas...     2043  2517403201   \n",
       "5   2517403996 A3OODRAFT_2863 methane monooxygenas...     2816  2517403996   \n",
       "6   2517403997 A3OODRAFT_2864 methane monooxygenas...     2817  2517403997   \n",
       "7   2517403998 A3OODRAFT_2865 methane monooxygenas...     2818  2517403998   \n",
       "8   2517404225 A3OODRAFT_3092 Ammonia monooxygenas...     3042  2517404225   \n",
       "9   2517404670 A3OODRAFT_3537 Ammonia monooxygenas...     3482  2517404670   \n",
       "10  2517404865 A3OODRAFT_3733 methane monooxygenas...     3674  2517404865   \n",
       "11  2517404866 A3OODRAFT_3734 methane monooxygenas...     3675  2517404866   \n",
       "12  2517404867 A3OODRAFT_3735 Ammonia monooxygenas...     3676  2517404867   \n",
       "\n",
       "                                                  seq diff1 diff2 is_operon  \\\n",
       "0   MSVTTQSAAGAMDRAQPIVELKGMWIGLAVLNGFYLVVRIYEQIYG...   320  1155     False   \n",
       "1   MSSTTDTAARAAAGTEAVVDLKGMWIGLAVLNGFYLVVRIYEQVFG...  1155     1      True   \n",
       "2   MSQSKSGGAVGPFNSVAEAAGCVQTVDWMLLVLLFFAVLGGYHVHF...     1     1      True   \n",
       "3   MKKFVKLAAIGAAAAVAATLGAVAPASAHGEKSQQAFLRMRTLNWY...     1   566      True   \n",
       "4   MSSTTDTAARAAAGTEAVVDLKGMWIGLAVLNGFYLVVRIYEQVFG...   566   773     False   \n",
       "5   MKKFVKLAAIGAAAAVAATLGAVAPASAHGEKSQQAFLRMRTLNWY...   773     1      True   \n",
       "6   MSQSKSGGAVGPFNSVAEAAGCVQTVDWMLLVLLFFAVLGGYHVHF...     1     1      True   \n",
       "7   MSSTTDTAARAAAGTEAVVDLKGMWIGLAVLNGFYLVVRIYEQVFG...     1   224      True   \n",
       "8   MSMTKTEARSAARSAERIIDTRPVLIGVPALMLFVAILRLYEQLFA...   224   440     False   \n",
       "9   MSETTQSAVGAIERAEPIVDLRGMWIGLAVLNGFYLVVRIYEQVFG...   440   192     False   \n",
       "10  MSTTAQTISQSTPQAPFNLPWYLRDLPKYLLTFGVMTVIYVGFRMY...   192     1      True   \n",
       "11  MKKSLKSLFSAVYLGLCAGALAPEAALAHGEKALEPFVRMRTIQWY...     1     1      True   \n",
       "12  MTGKSLDIPARPYTGEKSRLSRAYDYLILVLALFLFIGSFHLHVAL...     1  3676      True   \n",
       "\n",
       "   rel_coordinates operon_count type  \n",
       "0                0        False    C  \n",
       "1                1            1    C  \n",
       "2                1            1    A  \n",
       "3                1            1    B  \n",
       "4                0        False    C  \n",
       "5                1            2    B  \n",
       "6                1            2    A  \n",
       "7                1            2    C  \n",
       "8                0        False    C  \n",
       "9                0        False    C  \n",
       "10               1            3    C  \n",
       "11               1            3    B  \n",
       "12               1            3    A  \n",
       "\n",
       "[13 rows x 45 columns]"
      ]
     },
     "execution_count": 819,
     "metadata": {},
     "output_type": "execute_result"
    }
   ],
   "source": [
    "max_distance=2\n",
    "\n",
    "model2type={'AmoC': 'C', 'AMO': 'A', 'Monooxygenase_B': 'B'}\n",
    "\n",
    "def is_operon(x):\n",
    "    return x['diff1'] or x['diff2']\n",
    "\n",
    "def rel_coordinates(x):\n",
    "    if ((x['diff1'] < max_distance) or (x['diff2']) <max_distance):\n",
    "        return min(x['diff1'],x['diff2'])\n",
    "    else:\n",
    "        return 0\n",
    "\n",
    "l=df['position'].tolist()\n",
    "\n",
    "df['diff1']=abs((np.array(l)-np.array([0] + l[:-1])))#shift to left\n",
    "df['diff2']=abs(np.array(l)-np.array(l[1:]+[0]))#shift to right\n",
    "#df[(df['diff1'] <= 2) | (df['diff2'] <= 2)]\n",
    "\n",
    "df['is_operon']=df[['diff1', 'diff2']].apply(lambda x: x < max_distance).apply(is_operon, axis=1)\n",
    "\n",
    "df['rel_coordinates']=df[['diff1', 'diff2']].apply(rel_coordinates, axis=1)\n",
    "\n",
    "df['operon_count']=operonCount(df['is_operon'].tolist())\n",
    "df['type']=df[0].apply(lambda x: model2type[x])\n",
    "df"
   ]
  },
  {
   "cell_type": "code",
   "execution_count": null,
   "metadata": {
    "collapsed": true
   },
   "outputs": [],
   "source": []
  },
  {
   "cell_type": "code",
   "execution_count": null,
   "metadata": {
    "collapsed": false
   },
   "outputs": [],
   "source": []
  },
  {
   "cell_type": "code",
   "execution_count": null,
   "metadata": {
    "collapsed": false
   },
   "outputs": [],
   "source": [
    "\n",
    "\n",
    "    "
   ]
  },
  {
   "cell_type": "code",
   "execution_count": null,
   "metadata": {
    "collapsed": false
   },
   "outputs": [],
   "source": []
  },
  {
   "cell_type": "code",
   "execution_count": 820,
   "metadata": {
    "collapsed": true
   },
   "outputs": [],
   "source": [
    "import numpy as np"
   ]
  },
  {
   "cell_type": "code",
   "execution_count": null,
   "metadata": {
    "collapsed": false
   },
   "outputs": [],
   "source": []
  },
  {
   "cell_type": "code",
   "execution_count": null,
   "metadata": {
    "collapsed": false
   },
   "outputs": [],
   "source": []
  },
  {
   "cell_type": "code",
   "execution_count": null,
   "metadata": {
    "collapsed": true
   },
   "outputs": [],
   "source": []
  },
  {
   "cell_type": "code",
   "execution_count": null,
   "metadata": {
    "collapsed": true
   },
   "outputs": [],
   "source": []
  },
  {
   "cell_type": "code",
   "execution_count": null,
   "metadata": {
    "collapsed": true
   },
   "outputs": [],
   "source": []
  },
  {
   "cell_type": "code",
   "execution_count": null,
   "metadata": {
    "collapsed": true
   },
   "outputs": [],
   "source": []
  },
  {
   "cell_type": "code",
   "execution_count": null,
   "metadata": {
    "collapsed": false
   },
   "outputs": [],
   "source": []
  },
  {
   "cell_type": "code",
   "execution_count": null,
   "metadata": {
    "collapsed": true
   },
   "outputs": [],
   "source": []
  },
  {
   "cell_type": "code",
   "execution_count": 821,
   "metadata": {
    "collapsed": false
   },
   "outputs": [
    {
     "data": {
      "text/plain": [
       "[False,\n",
       " True,\n",
       " True,\n",
       " True,\n",
       " False,\n",
       " True,\n",
       " True,\n",
       " True,\n",
       " False,\n",
       " False,\n",
       " True,\n",
       " True,\n",
       " True]"
      ]
     },
     "execution_count": 821,
     "metadata": {},
     "output_type": "execute_result"
    }
   ],
   "source": [
    "df['is_operon'].tolist()\n",
    "        "
   ]
  },
  {
   "cell_type": "code",
   "execution_count": 822,
   "metadata": {
    "collapsed": true
   },
   "outputs": [],
   "source": [
    "def operonCount(lst):\n",
    "    opCnt=0\n",
    "    state=False\n",
    "    for i in xrange(len(lst)):\n",
    "        if lst[i]:\n",
    "            newState=True\n",
    "            if (state==False) and (newState==True):\n",
    "                opCnt+=1\n",
    "            lst[i]=opCnt\n",
    "            state=newState\n",
    "        else:\n",
    "            state=False\n",
    "    return lst\n",
    "            "
   ]
  },
  {
   "cell_type": "code",
   "execution_count": null,
   "metadata": {
    "collapsed": false
   },
   "outputs": [],
   "source": []
  },
  {
   "cell_type": "code",
   "execution_count": 824,
   "metadata": {
    "collapsed": false
   },
   "outputs": [
    {
     "data": {
      "text/plain": [
       "[0, 1, 1, 1, 0, 2, 2, 2, 0, 0, 3, 3, 3]"
      ]
     },
     "execution_count": 824,
     "metadata": {},
     "output_type": "execute_result"
    }
   ],
   "source": [
    "opCnt"
   ]
  },
  {
   "cell_type": "code",
   "execution_count": null,
   "metadata": {
    "collapsed": false
   },
   "outputs": [],
   "source": []
  },
  {
   "cell_type": "code",
   "execution_count": 825,
   "metadata": {
    "collapsed": false
   },
   "outputs": [
    {
     "data": {
      "text/html": [
       "<div>\n",
       "<table border=\"1\" class=\"dataframe\">\n",
       "  <thead>\n",
       "    <tr style=\"text-align: right;\">\n",
       "      <th></th>\n",
       "      <th>0</th>\n",
       "      <th>1</th>\n",
       "      <th>2</th>\n",
       "      <th>3</th>\n",
       "      <th>4</th>\n",
       "      <th>5</th>\n",
       "      <th>6</th>\n",
       "      <th>7</th>\n",
       "      <th>8</th>\n",
       "      <th>9</th>\n",
       "      <th>...</th>\n",
       "      <th>descr</th>\n",
       "      <th>position</th>\n",
       "      <th>qid</th>\n",
       "      <th>seq</th>\n",
       "      <th>diff1</th>\n",
       "      <th>diff2</th>\n",
       "      <th>is_operon</th>\n",
       "      <th>rel_coordinates</th>\n",
       "      <th>operon_count</th>\n",
       "      <th>type</th>\n",
       "    </tr>\n",
       "  </thead>\n",
       "  <tbody>\n",
       "    <tr>\n",
       "      <th>0</th>\n",
       "      <td>AmoC</td>\n",
       "      <td>PF04896.11</td>\n",
       "      <td>2517401456</td>\n",
       "      <td>-</td>\n",
       "      <td>5.6e-120</td>\n",
       "      <td>386.8</td>\n",
       "      <td>15.8</td>\n",
       "      <td>7.2e-120</td>\n",
       "      <td>386.4</td>\n",
       "      <td>15.8</td>\n",
       "      <td>...</td>\n",
       "      <td>2517401456 A3OODRAFT_0323 methane monooxygenas...</td>\n",
       "      <td>320</td>\n",
       "      <td>2517401456</td>\n",
       "      <td>MSVTTQSAAGAMDRAQPIVELKGMWIGLAVLNGFYLVVRIYEQIYG...</td>\n",
       "      <td>320</td>\n",
       "      <td>1155</td>\n",
       "      <td>False</td>\n",
       "      <td>0</td>\n",
       "      <td>False</td>\n",
       "      <td>C</td>\n",
       "    </tr>\n",
       "    <tr>\n",
       "      <th>1</th>\n",
       "      <td>AmoC</td>\n",
       "      <td>PF04896.11</td>\n",
       "      <td>2517402628</td>\n",
       "      <td>-</td>\n",
       "      <td>5.8e-122</td>\n",
       "      <td>393.3</td>\n",
       "      <td>14.7</td>\n",
       "      <td>7e-122</td>\n",
       "      <td>393.0</td>\n",
       "      <td>14.7</td>\n",
       "      <td>...</td>\n",
       "      <td>2517402628 A3OODRAFT_1495 methane monooxygenas...</td>\n",
       "      <td>1475</td>\n",
       "      <td>2517402628</td>\n",
       "      <td>MSSTTDTAARAAAGTEAVVDLKGMWIGLAVLNGFYLVVRIYEQVFG...</td>\n",
       "      <td>1155</td>\n",
       "      <td>1</td>\n",
       "      <td>True</td>\n",
       "      <td>1</td>\n",
       "      <td>1</td>\n",
       "      <td>C</td>\n",
       "    </tr>\n",
       "    <tr>\n",
       "      <th>2</th>\n",
       "      <td>AMO</td>\n",
       "      <td>PF02461.15</td>\n",
       "      <td>2517402629</td>\n",
       "      <td>-</td>\n",
       "      <td>4.8e-124</td>\n",
       "      <td>400.4</td>\n",
       "      <td>24.0</td>\n",
       "      <td>5.4e-124</td>\n",
       "      <td>400.3</td>\n",
       "      <td>24.0</td>\n",
       "      <td>...</td>\n",
       "      <td>2517402629 A3OODRAFT_1496 methane monooxygenas...</td>\n",
       "      <td>1476</td>\n",
       "      <td>2517402629</td>\n",
       "      <td>MSQSKSGGAVGPFNSVAEAAGCVQTVDWMLLVLLFFAVLGGYHVHF...</td>\n",
       "      <td>1</td>\n",
       "      <td>1</td>\n",
       "      <td>True</td>\n",
       "      <td>1</td>\n",
       "      <td>1</td>\n",
       "      <td>A</td>\n",
       "    </tr>\n",
       "    <tr>\n",
       "      <th>3</th>\n",
       "      <td>Monooxygenase_B</td>\n",
       "      <td>PF04744.11</td>\n",
       "      <td>2517402630</td>\n",
       "      <td>-</td>\n",
       "      <td>3.3e-170</td>\n",
       "      <td>553.6</td>\n",
       "      <td>0.0</td>\n",
       "      <td>3.7e-170</td>\n",
       "      <td>553.4</td>\n",
       "      <td>0.0</td>\n",
       "      <td>...</td>\n",
       "      <td>2517402630 A3OODRAFT_1497 methane monooxygenas...</td>\n",
       "      <td>1477</td>\n",
       "      <td>2517402630</td>\n",
       "      <td>MKKFVKLAAIGAAAAVAATLGAVAPASAHGEKSQQAFLRMRTLNWY...</td>\n",
       "      <td>1</td>\n",
       "      <td>566</td>\n",
       "      <td>True</td>\n",
       "      <td>1</td>\n",
       "      <td>1</td>\n",
       "      <td>B</td>\n",
       "    </tr>\n",
       "    <tr>\n",
       "      <th>4</th>\n",
       "      <td>AmoC</td>\n",
       "      <td>PF04896.11</td>\n",
       "      <td>2517403201</td>\n",
       "      <td>-</td>\n",
       "      <td>5.8e-122</td>\n",
       "      <td>393.3</td>\n",
       "      <td>14.7</td>\n",
       "      <td>7e-122</td>\n",
       "      <td>393.0</td>\n",
       "      <td>14.7</td>\n",
       "      <td>...</td>\n",
       "      <td>2517403201 A3OODRAFT_2068 methane monooxygenas...</td>\n",
       "      <td>2043</td>\n",
       "      <td>2517403201</td>\n",
       "      <td>MSSTTDTAARAAAGTEAVVDLKGMWIGLAVLNGFYLVVRIYEQVFG...</td>\n",
       "      <td>566</td>\n",
       "      <td>773</td>\n",
       "      <td>False</td>\n",
       "      <td>0</td>\n",
       "      <td>False</td>\n",
       "      <td>C</td>\n",
       "    </tr>\n",
       "  </tbody>\n",
       "</table>\n",
       "<p>5 rows × 45 columns</p>\n",
       "</div>"
      ],
      "text/plain": [
       "                 0           1           2  3         4      5     6  \\\n",
       "0             AmoC  PF04896.11  2517401456  -  5.6e-120  386.8  15.8   \n",
       "1             AmoC  PF04896.11  2517402628  -  5.8e-122  393.3  14.7   \n",
       "2              AMO  PF02461.15  2517402629  -  4.8e-124  400.4  24.0   \n",
       "3  Monooxygenase_B  PF04744.11  2517402630  -  3.3e-170  553.6   0.0   \n",
       "4             AmoC  PF04896.11  2517403201  -  5.8e-122  393.3  14.7   \n",
       "\n",
       "          7      8     9 ...   \\\n",
       "0  7.2e-120  386.4  15.8 ...    \n",
       "1    7e-122  393.0  14.7 ...    \n",
       "2  5.4e-124  400.3  24.0 ...    \n",
       "3  3.7e-170  553.4   0.0 ...    \n",
       "4    7e-122  393.0  14.7 ...    \n",
       "\n",
       "                                               descr position         qid  \\\n",
       "0  2517401456 A3OODRAFT_0323 methane monooxygenas...      320  2517401456   \n",
       "1  2517402628 A3OODRAFT_1495 methane monooxygenas...     1475  2517402628   \n",
       "2  2517402629 A3OODRAFT_1496 methane monooxygenas...     1476  2517402629   \n",
       "3  2517402630 A3OODRAFT_1497 methane monooxygenas...     1477  2517402630   \n",
       "4  2517403201 A3OODRAFT_2068 methane monooxygenas...     2043  2517403201   \n",
       "\n",
       "                                                 seq diff1 diff2 is_operon  \\\n",
       "0  MSVTTQSAAGAMDRAQPIVELKGMWIGLAVLNGFYLVVRIYEQIYG...   320  1155     False   \n",
       "1  MSSTTDTAARAAAGTEAVVDLKGMWIGLAVLNGFYLVVRIYEQVFG...  1155     1      True   \n",
       "2  MSQSKSGGAVGPFNSVAEAAGCVQTVDWMLLVLLFFAVLGGYHVHF...     1     1      True   \n",
       "3  MKKFVKLAAIGAAAAVAATLGAVAPASAHGEKSQQAFLRMRTLNWY...     1   566      True   \n",
       "4  MSSTTDTAARAAAGTEAVVDLKGMWIGLAVLNGFYLVVRIYEQVFG...   566   773     False   \n",
       "\n",
       "  rel_coordinates operon_count type  \n",
       "0               0        False    C  \n",
       "1               1            1    C  \n",
       "2               1            1    A  \n",
       "3               1            1    B  \n",
       "4               0        False    C  \n",
       "\n",
       "[5 rows x 45 columns]"
      ]
     },
     "execution_count": 825,
     "metadata": {},
     "output_type": "execute_result"
    }
   ],
   "source": [
    "df.head()"
   ]
  },
  {
   "cell_type": "code",
   "execution_count": null,
   "metadata": {
    "collapsed": true
   },
   "outputs": [],
   "source": []
  },
  {
   "cell_type": "code",
   "execution_count": null,
   "metadata": {
    "collapsed": true
   },
   "outputs": [],
   "source": []
  },
  {
   "cell_type": "code",
   "execution_count": null,
   "metadata": {
    "collapsed": true
   },
   "outputs": [],
   "source": []
  },
  {
   "cell_type": "code",
   "execution_count": null,
   "metadata": {
    "collapsed": true
   },
   "outputs": [],
   "source": []
  },
  {
   "cell_type": "code",
   "execution_count": null,
   "metadata": {
    "collapsed": true
   },
   "outputs": [],
   "source": []
  },
  {
   "cell_type": "code",
   "execution_count": 826,
   "metadata": {
    "collapsed": false
   },
   "outputs": [
    {
     "data": {
      "text/plain": [
       "Index([                 2,             u'0_x',             u'1_x',\n",
       "                   u'2_x',             u'3_x',                  4,\n",
       "                        5,                  6,                  7,\n",
       "                        8,                  9,                 10,\n",
       "                       11,                 12,                 13,\n",
       "                       14,                 15,                 16,\n",
       "                       17,                 18,             u'0_y',\n",
       "                   u'1_y',             u'2_y',             u'3_y',\n",
       "                 u'diff1',           u'diff2',       u'is_operon',\n",
       "          u'operon_count', u'rel_coordinates',            u'type',\n",
       "                        2,             u'0_x',             u'1_x',\n",
       "                   u'2_x',             u'3_x',                  4,\n",
       "                        5,                  6,                  7,\n",
       "                        8,                  9,                 10,\n",
       "                       11,                 12,                 13,\n",
       "                       14,                 15,                 16,\n",
       "                       17,                 18,             u'0_y',\n",
       "                   u'1_y',             u'2_y',             u'3_y',\n",
       "                 u'diff1',           u'diff2',       u'is_operon',\n",
       "          u'operon_count', u'rel_coordinates',            u'type',\n",
       "                        2,             u'0_x',             u'1_x',\n",
       "                   u'2_x',             u'3_x',                  4,\n",
       "                        5,                  6,                  7,\n",
       "                        8,                  9,                 10,\n",
       "                       11,                 12,                 13,\n",
       "                       14,                 15,                 16,\n",
       "                       17,                 18,             u'0_y',\n",
       "                   u'1_y',             u'2_y',             u'3_y',\n",
       "                 u'diff1',           u'diff2',       u'is_operon',\n",
       "          u'operon_count', u'rel_coordinates',            u'type'],\n",
       "      dtype='object')"
      ]
     },
     "execution_count": 826,
     "metadata": {},
     "output_type": "execute_result"
    }
   ],
   "source": [
    "operons[1]"
   ]
  },
  {
   "cell_type": "code",
   "execution_count": null,
   "metadata": {
    "collapsed": true
   },
   "outputs": [],
   "source": []
  },
  {
   "cell_type": "code",
   "execution_count": 683,
   "metadata": {
    "collapsed": true
   },
   "outputs": [],
   "source": [
    "# df = df.stack().to_frame().T\n",
    "# df.columns = ['{}_{}'.format(*c) for c in df.columns]"
   ]
  },
  {
   "cell_type": "code",
   "execution_count": 865,
   "metadata": {
    "collapsed": false
   },
   "outputs": [],
   "source": [
    "operons=list()\n",
    "output=pd.DataFrame()\n",
    "for count,frame in df.groupby('operon_count'):\n",
    "    if count > 0:\n",
    "        #print(\"***********\"+str(count)+\"*****************************\")\n",
    "        #print(frame)\n",
    "        #print('===========================================================')\n",
    "        #frame.columns = ['{}_{}'.format(*c) for c in df.columns]\n",
    "        frame=frame.stack().to_frame().T\n",
    "        operons.append(frame.copy())\n",
    "        frame.columns=frame.columns.droplevel(0)\n",
    "        output=output.append(frame, ignore_index=True)\n"
   ]
  },
  {
   "cell_type": "code",
   "execution_count": 866,
   "metadata": {
    "collapsed": false
   },
   "outputs": [],
   "source": [
    "def concatValues(row):\n",
    "    concatVal=''\n",
    "    for i in range(output['type'].iloc[1].size):\n",
    "        concatVal+=str(row.iloc[i])\n",
    "    return concatVal"
   ]
  },
  {
   "cell_type": "code",
   "execution_count": null,
   "metadata": {
    "collapsed": true
   },
   "outputs": [],
   "source": []
  },
  {
   "cell_type": "code",
   "execution_count": 883,
   "metadata": {
    "collapsed": true
   },
   "outputs": [],
   "source": [
    "def concatSeparatedValues(row, sep=\"|\"):\n",
    "    concatVal=''\n",
    "    for i in range(output['type'].iloc[1].size):\n",
    "        concatVal+=str(row.iloc[i])+sep\n",
    "    concatVal=concatVal[:-1]\n",
    "    return concatVal"
   ]
  },
  {
   "cell_type": "code",
   "execution_count": null,
   "metadata": {
    "collapsed": true
   },
   "outputs": [],
   "source": []
  },
  {
   "cell_type": "code",
   "execution_count": 884,
   "metadata": {
    "collapsed": false
   },
   "outputs": [
    {
     "data": {
      "text/plain": [
       "0    CAB\n",
       "1    BAC\n",
       "2    CBA\n",
       "dtype: object"
      ]
     },
     "execution_count": 884,
     "metadata": {},
     "output_type": "execute_result"
    }
   ],
   "source": [
    "output['type'].apply(lambda x: x.iloc[0]+x.iloc[1]+x.iloc[2] ,axis=1)"
   ]
  },
  {
   "cell_type": "code",
   "execution_count": 869,
   "metadata": {
    "collapsed": false
   },
   "outputs": [
    {
     "data": {
      "text/html": [
       "<div>\n",
       "<table border=\"1\" class=\"dataframe\">\n",
       "  <thead>\n",
       "    <tr style=\"text-align: right;\">\n",
       "      <th></th>\n",
       "      <th>type</th>\n",
       "      <th>type</th>\n",
       "      <th>type</th>\n",
       "    </tr>\n",
       "  </thead>\n",
       "  <tbody>\n",
       "    <tr>\n",
       "      <th>0</th>\n",
       "      <td>C</td>\n",
       "      <td>A</td>\n",
       "      <td>B</td>\n",
       "    </tr>\n",
       "    <tr>\n",
       "      <th>1</th>\n",
       "      <td>B</td>\n",
       "      <td>A</td>\n",
       "      <td>C</td>\n",
       "    </tr>\n",
       "    <tr>\n",
       "      <th>2</th>\n",
       "      <td>C</td>\n",
       "      <td>B</td>\n",
       "      <td>A</td>\n",
       "    </tr>\n",
       "  </tbody>\n",
       "</table>\n",
       "</div>"
      ],
      "text/plain": [
       "  type type type\n",
       "0    C    A    B\n",
       "1    B    A    C\n",
       "2    C    B    A"
      ]
     },
     "execution_count": 869,
     "metadata": {},
     "output_type": "execute_result"
    }
   ],
   "source": [
    "output['type']"
   ]
  },
  {
   "cell_type": "code",
   "execution_count": 870,
   "metadata": {
    "collapsed": false
   },
   "outputs": [
    {
     "data": {
      "text/plain": [
       "3"
      ]
     },
     "execution_count": 870,
     "metadata": {},
     "output_type": "execute_result"
    }
   ],
   "source": [
    "output['type'].iloc[1].size"
   ]
  },
  {
   "cell_type": "code",
   "execution_count": 871,
   "metadata": {
    "collapsed": false
   },
   "outputs": [
    {
     "data": {
      "text/plain": [
       "0    CAB\n",
       "1    BAC\n",
       "2    CBA\n",
       "dtype: object"
      ]
     },
     "execution_count": 871,
     "metadata": {},
     "output_type": "execute_result"
    }
   ],
   "source": [
    "output['type'].apply(concatValues,axis=1)\n"
   ]
  },
  {
   "cell_type": "code",
   "execution_count": 872,
   "metadata": {
    "collapsed": false
   },
   "outputs": [
    {
     "data": {
      "text/html": [
       "<div>\n",
       "<table border=\"1\" class=\"dataframe\">\n",
       "  <thead>\n",
       "    <tr style=\"text-align: right;\">\n",
       "      <th></th>\n",
       "      <th>0</th>\n",
       "      <th>1</th>\n",
       "      <th>2</th>\n",
       "      <th>3</th>\n",
       "      <th>4</th>\n",
       "      <th>5</th>\n",
       "      <th>6</th>\n",
       "      <th>7</th>\n",
       "      <th>8</th>\n",
       "      <th>9</th>\n",
       "      <th>...</th>\n",
       "      <th>descr</th>\n",
       "      <th>position</th>\n",
       "      <th>qid</th>\n",
       "      <th>seq</th>\n",
       "      <th>diff1</th>\n",
       "      <th>diff2</th>\n",
       "      <th>is_operon</th>\n",
       "      <th>rel_coordinates</th>\n",
       "      <th>operon_count</th>\n",
       "      <th>type</th>\n",
       "    </tr>\n",
       "  </thead>\n",
       "  <tbody>\n",
       "    <tr>\n",
       "      <th>0</th>\n",
       "      <td>AmoC</td>\n",
       "      <td>PF04896.11</td>\n",
       "      <td>2517402628</td>\n",
       "      <td>-</td>\n",
       "      <td>5.8e-122</td>\n",
       "      <td>393.3</td>\n",
       "      <td>14.7</td>\n",
       "      <td>7e-122</td>\n",
       "      <td>393.0</td>\n",
       "      <td>14.7</td>\n",
       "      <td>...</td>\n",
       "      <td>2517402630 A3OODRAFT_1497 methane monooxygenas...</td>\n",
       "      <td>1477</td>\n",
       "      <td>2517402630</td>\n",
       "      <td>MKKFVKLAAIGAAAAVAATLGAVAPASAHGEKSQQAFLRMRTLNWY...</td>\n",
       "      <td>1</td>\n",
       "      <td>566</td>\n",
       "      <td>True</td>\n",
       "      <td>1</td>\n",
       "      <td>1</td>\n",
       "      <td>B</td>\n",
       "    </tr>\n",
       "    <tr>\n",
       "      <th>1</th>\n",
       "      <td>Monooxygenase_B</td>\n",
       "      <td>PF04744.11</td>\n",
       "      <td>2517403996</td>\n",
       "      <td>-</td>\n",
       "      <td>3.3e-170</td>\n",
       "      <td>553.6</td>\n",
       "      <td>0.0</td>\n",
       "      <td>3.7e-170</td>\n",
       "      <td>553.4</td>\n",
       "      <td>0.0</td>\n",
       "      <td>...</td>\n",
       "      <td>2517403998 A3OODRAFT_2865 methane monooxygenas...</td>\n",
       "      <td>2818</td>\n",
       "      <td>2517403998</td>\n",
       "      <td>MSSTTDTAARAAAGTEAVVDLKGMWIGLAVLNGFYLVVRIYEQVFG...</td>\n",
       "      <td>1</td>\n",
       "      <td>224</td>\n",
       "      <td>True</td>\n",
       "      <td>1</td>\n",
       "      <td>2</td>\n",
       "      <td>C</td>\n",
       "    </tr>\n",
       "    <tr>\n",
       "      <th>2</th>\n",
       "      <td>AmoC</td>\n",
       "      <td>PF04896.11</td>\n",
       "      <td>2517404865</td>\n",
       "      <td>-</td>\n",
       "      <td>4.2e-93</td>\n",
       "      <td>298.8</td>\n",
       "      <td>17.7</td>\n",
       "      <td>5.1e-93</td>\n",
       "      <td>298.5</td>\n",
       "      <td>17.7</td>\n",
       "      <td>...</td>\n",
       "      <td>2517404867 A3OODRAFT_3735 Ammonia monooxygenas...</td>\n",
       "      <td>3676</td>\n",
       "      <td>2517404867</td>\n",
       "      <td>MTGKSLDIPARPYTGEKSRLSRAYDYLILVLALFLFIGSFHLHVAL...</td>\n",
       "      <td>1</td>\n",
       "      <td>3676</td>\n",
       "      <td>True</td>\n",
       "      <td>1</td>\n",
       "      <td>3</td>\n",
       "      <td>A</td>\n",
       "    </tr>\n",
       "  </tbody>\n",
       "</table>\n",
       "<p>3 rows × 135 columns</p>\n",
       "</div>"
      ],
      "text/plain": [
       "                 0           1           2  3         4      5     6  \\\n",
       "0             AmoC  PF04896.11  2517402628  -  5.8e-122  393.3  14.7   \n",
       "1  Monooxygenase_B  PF04744.11  2517403996  -  3.3e-170  553.6   0.0   \n",
       "2             AmoC  PF04896.11  2517404865  -   4.2e-93  298.8  17.7   \n",
       "\n",
       "          7      8     9 ...   \\\n",
       "0    7e-122  393.0  14.7 ...    \n",
       "1  3.7e-170  553.4   0.0 ...    \n",
       "2   5.1e-93  298.5  17.7 ...    \n",
       "\n",
       "                                               descr position         qid  \\\n",
       "0  2517402630 A3OODRAFT_1497 methane monooxygenas...     1477  2517402630   \n",
       "1  2517403998 A3OODRAFT_2865 methane monooxygenas...     2818  2517403998   \n",
       "2  2517404867 A3OODRAFT_3735 Ammonia monooxygenas...     3676  2517404867   \n",
       "\n",
       "                                                 seq diff1 diff2 is_operon  \\\n",
       "0  MKKFVKLAAIGAAAAVAATLGAVAPASAHGEKSQQAFLRMRTLNWY...     1   566      True   \n",
       "1  MSSTTDTAARAAAGTEAVVDLKGMWIGLAVLNGFYLVVRIYEQVFG...     1   224      True   \n",
       "2  MTGKSLDIPARPYTGEKSRLSRAYDYLILVLALFLFIGSFHLHVAL...     1  3676      True   \n",
       "\n",
       "  rel_coordinates operon_count type  \n",
       "0               1            1    B  \n",
       "1               1            2    C  \n",
       "2               1            3    A  \n",
       "\n",
       "[3 rows x 135 columns]"
      ]
     },
     "execution_count": 872,
     "metadata": {},
     "output_type": "execute_result"
    }
   ],
   "source": [
    "output"
   ]
  },
  {
   "cell_type": "code",
   "execution_count": null,
   "metadata": {
    "collapsed": true
   },
   "outputs": [],
   "source": []
  },
  {
   "cell_type": "code",
   "execution_count": null,
   "metadata": {
    "collapsed": true
   },
   "outputs": [],
   "source": []
  },
  {
   "cell_type": "code",
   "execution_count": 873,
   "metadata": {
    "collapsed": false
   },
   "outputs": [
    {
     "data": {
      "text/html": [
       "<div>\n",
       "<table border=\"1\" class=\"dataframe\">\n",
       "  <thead>\n",
       "    <tr style=\"text-align: right;\">\n",
       "      <th></th>\n",
       "      <th>descr</th>\n",
       "      <th>descr</th>\n",
       "      <th>descr</th>\n",
       "    </tr>\n",
       "  </thead>\n",
       "  <tbody>\n",
       "    <tr>\n",
       "      <th>0</th>\n",
       "      <td>2517402628 A3OODRAFT_1495 methane monooxygenas...</td>\n",
       "      <td>2517402629 A3OODRAFT_1496 methane monooxygenas...</td>\n",
       "      <td>2517402630 A3OODRAFT_1497 methane monooxygenas...</td>\n",
       "    </tr>\n",
       "    <tr>\n",
       "      <th>1</th>\n",
       "      <td>2517403996 A3OODRAFT_2863 methane monooxygenas...</td>\n",
       "      <td>2517403997 A3OODRAFT_2864 methane monooxygenas...</td>\n",
       "      <td>2517403998 A3OODRAFT_2865 methane monooxygenas...</td>\n",
       "    </tr>\n",
       "    <tr>\n",
       "      <th>2</th>\n",
       "      <td>2517404865 A3OODRAFT_3733 methane monooxygenas...</td>\n",
       "      <td>2517404866 A3OODRAFT_3734 methane monooxygenas...</td>\n",
       "      <td>2517404867 A3OODRAFT_3735 Ammonia monooxygenas...</td>\n",
       "    </tr>\n",
       "  </tbody>\n",
       "</table>\n",
       "</div>"
      ],
      "text/plain": [
       "                                               descr  \\\n",
       "0  2517402628 A3OODRAFT_1495 methane monooxygenas...   \n",
       "1  2517403996 A3OODRAFT_2863 methane monooxygenas...   \n",
       "2  2517404865 A3OODRAFT_3733 methane monooxygenas...   \n",
       "\n",
       "                                               descr  \\\n",
       "0  2517402629 A3OODRAFT_1496 methane monooxygenas...   \n",
       "1  2517403997 A3OODRAFT_2864 methane monooxygenas...   \n",
       "2  2517404866 A3OODRAFT_3734 methane monooxygenas...   \n",
       "\n",
       "                                               descr  \n",
       "0  2517402630 A3OODRAFT_1497 methane monooxygenas...  \n",
       "1  2517403998 A3OODRAFT_2865 methane monooxygenas...  \n",
       "2  2517404867 A3OODRAFT_3735 Ammonia monooxygenas...  "
      ]
     },
     "execution_count": 873,
     "metadata": {},
     "output_type": "execute_result"
    }
   ],
   "source": [
    "output['descr']"
   ]
  },
  {
   "cell_type": "code",
   "execution_count": null,
   "metadata": {
    "collapsed": true
   },
   "outputs": [],
   "source": []
  },
  {
   "cell_type": "code",
   "execution_count": 874,
   "metadata": {
    "collapsed": false
   },
   "outputs": [
    {
     "data": {
      "text/plain": [
       "MultiIndex(levels=[[1, 2, 3], [0, 1, 2, 3, 4, 5, 6, 7, 8, 9, 10, 11, 12, 13, 14, 15, 16, 17, 18, u'descr', u'descr_x', u'descr_y', u'diff1', u'diff2', u'is_operon', u'operon_count', u'position', u'position_x', u'position_y', u'qid', u'qid_x', u'qid_y', u'rel_coordinates', u'seq', u'seq_x', u'seq_y', u'type']],\n",
       "           labels=[[0, 0, 0, 0, 0, 0, 0, 0, 0, 0, 0, 0, 0, 0, 0, 0, 0, 0, 0, 0, 0, 0, 0, 0, 0, 0, 0, 0, 0, 0, 0, 0, 0, 0, 0, 0, 0, 0, 0, 0, 0, 0, 0, 0, 0, 1, 1, 1, 1, 1, 1, 1, 1, 1, 1, 1, 1, 1, 1, 1, 1, 1, 1, 1, 1, 1, 1, 1, 1, 1, 1, 1, 1, 1, 1, 1, 1, 1, 1, 1, 1, 1, 1, 1, 1, 1, 1, 1, 1, 1, 2, 2, 2, 2, 2, 2, 2, 2, 2, 2, 2, 2, 2, 2, 2, 2, 2, 2, 2, 2, 2, 2, 2, 2, 2, 2, 2, 2, 2, 2, 2, 2, 2, 2, 2, 2, 2, 2, 2, 2, 2, 2, 2, 2, 2], [0, 1, 2, 3, 4, 5, 6, 7, 8, 9, 10, 11, 12, 13, 14, 15, 16, 17, 18, 20, 27, 30, 34, 21, 28, 31, 35, 20, 27, 30, 34, 21, 28, 31, 35, 19, 26, 29, 33, 22, 23, 24, 32, 25, 36, 0, 1, 2, 3, 4, 5, 6, 7, 8, 9, 10, 11, 12, 13, 14, 15, 16, 17, 18, 20, 27, 30, 34, 21, 28, 31, 35, 20, 27, 30, 34, 21, 28, 31, 35, 19, 26, 29, 33, 22, 23, 24, 32, 25, 36, 0, 1, 2, 3, 4, 5, 6, 7, 8, 9, 10, 11, 12, 13, 14, 15, 16, 17, 18, 20, 27, 30, 34, 21, 28, 31, 35, 20, 27, 30, 34, 21, 28, 31, 35, 19, 26, 29, 33, 22, 23, 24, 32, 25, 36]])"
      ]
     },
     "execution_count": 874,
     "metadata": {},
     "output_type": "execute_result"
    }
   ],
   "source": [
    "operons[0].columns"
   ]
  },
  {
   "cell_type": "code",
   "execution_count": 878,
   "metadata": {
    "collapsed": true
   },
   "outputs": [],
   "source": [
    "output['operon_type']=output['type'].apply(concatValues, axis=1)\n",
    "output['rel_distance']=output['rel_coordinates'].apply(concatValues, axis=1)\n",
    "output['concat_ids']=output[2].apply(concatSeparatedValues, axis=1)\n",
    "output['concat_descr']=output['descr'].apply(concatSeparatedValues, axis=1)\n",
    "output['concat_sequences']=output['seq'].apply(concatValues, axis=1)"
   ]
  },
  {
   "cell_type": "code",
   "execution_count": null,
   "metadata": {
    "collapsed": true
   },
   "outputs": [],
   "source": []
  },
  {
   "cell_type": "code",
   "execution_count": 879,
   "metadata": {
    "collapsed": false
   },
   "outputs": [
    {
     "data": {
      "text/html": [
       "<div>\n",
       "<table border=\"1\" class=\"dataframe\">\n",
       "  <thead>\n",
       "    <tr style=\"text-align: right;\">\n",
       "      <th></th>\n",
       "      <th>0</th>\n",
       "      <th>1</th>\n",
       "      <th>2</th>\n",
       "      <th>3</th>\n",
       "      <th>4</th>\n",
       "      <th>5</th>\n",
       "      <th>6</th>\n",
       "      <th>7</th>\n",
       "      <th>8</th>\n",
       "      <th>9</th>\n",
       "      <th>...</th>\n",
       "      <th>is_operon</th>\n",
       "      <th>rel_coordinates</th>\n",
       "      <th>operon_count</th>\n",
       "      <th>type</th>\n",
       "      <th>operon_type</th>\n",
       "      <th>rel_distance</th>\n",
       "      <th>concat_ids</th>\n",
       "      <th>concat_descr</th>\n",
       "      <th>concat_operon</th>\n",
       "      <th>concat_sequences</th>\n",
       "    </tr>\n",
       "  </thead>\n",
       "  <tbody>\n",
       "    <tr>\n",
       "      <th>0</th>\n",
       "      <td>AmoC</td>\n",
       "      <td>PF04896.11</td>\n",
       "      <td>2517402628</td>\n",
       "      <td>-</td>\n",
       "      <td>5.8e-122</td>\n",
       "      <td>393.3</td>\n",
       "      <td>14.7</td>\n",
       "      <td>7e-122</td>\n",
       "      <td>393.0</td>\n",
       "      <td>14.7</td>\n",
       "      <td>...</td>\n",
       "      <td>True</td>\n",
       "      <td>1</td>\n",
       "      <td>1</td>\n",
       "      <td>B</td>\n",
       "      <td>CAB</td>\n",
       "      <td>111</td>\n",
       "      <td>2517402628|2517402629|2517402630</td>\n",
       "      <td>2517402628 A3OODRAFT_1495 methane monooxygenas...</td>\n",
       "      <td>MSSTTDTAARAAAGTEAVVDLKGMWIGLAVLNGFYLVVRIYEQVFG...</td>\n",
       "      <td>MSSTTDTAARAAAGTEAVVDLKGMWIGLAVLNGFYLVVRIYEQVFG...</td>\n",
       "    </tr>\n",
       "    <tr>\n",
       "      <th>1</th>\n",
       "      <td>Monooxygenase_B</td>\n",
       "      <td>PF04744.11</td>\n",
       "      <td>2517403996</td>\n",
       "      <td>-</td>\n",
       "      <td>3.3e-170</td>\n",
       "      <td>553.6</td>\n",
       "      <td>0.0</td>\n",
       "      <td>3.7e-170</td>\n",
       "      <td>553.4</td>\n",
       "      <td>0.0</td>\n",
       "      <td>...</td>\n",
       "      <td>True</td>\n",
       "      <td>1</td>\n",
       "      <td>2</td>\n",
       "      <td>C</td>\n",
       "      <td>BAC</td>\n",
       "      <td>111</td>\n",
       "      <td>2517403996|2517403997|2517403998</td>\n",
       "      <td>2517403996 A3OODRAFT_2863 methane monooxygenas...</td>\n",
       "      <td>MKKFVKLAAIGAAAAVAATLGAVAPASAHGEKSQQAFLRMRTLNWY...</td>\n",
       "      <td>MKKFVKLAAIGAAAAVAATLGAVAPASAHGEKSQQAFLRMRTLNWY...</td>\n",
       "    </tr>\n",
       "    <tr>\n",
       "      <th>2</th>\n",
       "      <td>AmoC</td>\n",
       "      <td>PF04896.11</td>\n",
       "      <td>2517404865</td>\n",
       "      <td>-</td>\n",
       "      <td>4.2e-93</td>\n",
       "      <td>298.8</td>\n",
       "      <td>17.7</td>\n",
       "      <td>5.1e-93</td>\n",
       "      <td>298.5</td>\n",
       "      <td>17.7</td>\n",
       "      <td>...</td>\n",
       "      <td>True</td>\n",
       "      <td>1</td>\n",
       "      <td>3</td>\n",
       "      <td>A</td>\n",
       "      <td>CBA</td>\n",
       "      <td>111</td>\n",
       "      <td>2517404865|2517404866|2517404867</td>\n",
       "      <td>2517404865 A3OODRAFT_3733 methane monooxygenas...</td>\n",
       "      <td>MSTTAQTISQSTPQAPFNLPWYLRDLPKYLLTFGVMTVIYVGFRMY...</td>\n",
       "      <td>MSTTAQTISQSTPQAPFNLPWYLRDLPKYLLTFGVMTVIYVGFRMY...</td>\n",
       "    </tr>\n",
       "  </tbody>\n",
       "</table>\n",
       "<p>3 rows × 141 columns</p>\n",
       "</div>"
      ],
      "text/plain": [
       "                 0           1           2  3         4      5     6  \\\n",
       "0             AmoC  PF04896.11  2517402628  -  5.8e-122  393.3  14.7   \n",
       "1  Monooxygenase_B  PF04744.11  2517403996  -  3.3e-170  553.6   0.0   \n",
       "2             AmoC  PF04896.11  2517404865  -   4.2e-93  298.8  17.7   \n",
       "\n",
       "          7      8     9                        ...                          \\\n",
       "0    7e-122  393.0  14.7                        ...                           \n",
       "1  3.7e-170  553.4   0.0                        ...                           \n",
       "2   5.1e-93  298.5  17.7                        ...                           \n",
       "\n",
       "  is_operon rel_coordinates operon_count type operon_type rel_distance  \\\n",
       "0      True               1            1    B         CAB          111   \n",
       "1      True               1            2    C         BAC          111   \n",
       "2      True               1            3    A         CBA          111   \n",
       "\n",
       "                         concat_ids  \\\n",
       "0  2517402628|2517402629|2517402630   \n",
       "1  2517403996|2517403997|2517403998   \n",
       "2  2517404865|2517404866|2517404867   \n",
       "\n",
       "                                        concat_descr  \\\n",
       "0  2517402628 A3OODRAFT_1495 methane monooxygenas...   \n",
       "1  2517403996 A3OODRAFT_2863 methane monooxygenas...   \n",
       "2  2517404865 A3OODRAFT_3733 methane monooxygenas...   \n",
       "\n",
       "                                       concat_operon  \\\n",
       "0  MSSTTDTAARAAAGTEAVVDLKGMWIGLAVLNGFYLVVRIYEQVFG...   \n",
       "1  MKKFVKLAAIGAAAAVAATLGAVAPASAHGEKSQQAFLRMRTLNWY...   \n",
       "2  MSTTAQTISQSTPQAPFNLPWYLRDLPKYLLTFGVMTVIYVGFRMY...   \n",
       "\n",
       "                                    concat_sequences  \n",
       "0  MSSTTDTAARAAAGTEAVVDLKGMWIGLAVLNGFYLVVRIYEQVFG...  \n",
       "1  MKKFVKLAAIGAAAAVAATLGAVAPASAHGEKSQQAFLRMRTLNWY...  \n",
       "2  MSTTAQTISQSTPQAPFNLPWYLRDLPKYLLTFGVMTVIYVGFRMY...  \n",
       "\n",
       "[3 rows x 141 columns]"
      ]
     },
     "execution_count": 879,
     "metadata": {},
     "output_type": "execute_result"
    }
   ],
   "source": [
    "output"
   ]
  },
  {
   "cell_type": "code",
   "execution_count": null,
   "metadata": {
    "collapsed": true
   },
   "outputs": [],
   "source": []
  },
  {
   "cell_type": "code",
   "execution_count": null,
   "metadata": {
    "collapsed": false
   },
   "outputs": [],
   "source": []
  },
  {
   "cell_type": "markdown",
   "metadata": {},
   "source": [
    "## Exporting values"
   ]
  },
  {
   "cell_type": "code",
   "execution_count": 880,
   "metadata": {
    "collapsed": false
   },
   "outputs": [],
   "source": [
    "from Bio.Seq import Seq\n",
    "from Bio.SeqRecord import SeqRecord\n",
    "from Bio.Alphabet import IUPAC\n",
    "\n",
    "\n",
    "export_columns=['operon_type', 'rel_distance', 'concat_ids', 'concat_descr', 'concat_sequences']\n",
    "outfile1 = \"out.csv\"\n",
    "outfile2 = \"out.fasta\"\n",
    "output[export_columns].to_csv(outfile1, sep='\\t', header=True)"
   ]
  },
  {
   "cell_type": "code",
   "execution_count": 900,
   "metadata": {
    "collapsed": false
   },
   "outputs": [],
   "source": []
  },
  {
   "cell_type": "code",
   "execution_count": 901,
   "metadata": {
    "collapsed": false
   },
   "outputs": [],
   "source": []
  },
  {
   "cell_type": "code",
   "execution_count": 907,
   "metadata": {
    "collapsed": false
   },
   "outputs": [],
   "source": [
    "\n",
    "\n",
    "ids = output['concat_ids'].tolist()\n",
    "sequences=output['concat_sequences'].tolist()\n",
    "descriptions=output['concat_descr'].tolist()\n",
    "types=output['operon_type'].tolist()\n",
    "#if len(ids)==len(sequences):\n",
    "records=list()\n",
    "for i in range(len(ids)):\n",
    "    record=SeqRecord(Seq(sequences[i], IUPAC.protein), id=ids[i],name=types[i] , description=types[i]+\" \"+descriptions[i])\n",
    "    records.append(record)\n",
    "with open(outfile2, \"w\") as output_handle:\n",
    "    SeqIO.write(records, output_handle, \"fasta\")\n"
   ]
  },
  {
   "cell_type": "code",
   "execution_count": 908,
   "metadata": {
    "collapsed": false,
    "scrolled": false
   },
   "outputs": [
    {
     "data": {
      "text/plain": [
       "[SeqRecord(seq=Seq('MSSTTDTAARAAAGTEAVVDLKGMWIGLAVLNGFYLVVRIYEQVFGWRAGLDSF...DMP', IUPACProtein()), id='2517402628|2517402629|2517402630', name='CAB', description='CAB 2517402628 A3OODRAFT_1495 methane monooxygenase/ammonia monooxygenase, subunit C [Methylocystis rosea SV97T]|2517402629 A3OODRAFT_1496 methane monooxygenase/ammonia monooxygenase, subunit A [Methylocystis rosea SV97T]|2517402630 A3OODRAFT_1497 methane monooxygenase/ammonia monooxygenase, subunit B [Methylocystis rosea SV97T]', dbxrefs=[]),\n",
       " SeqRecord(seq=Seq('MKKFVKLAAIGAAAAVAATLGAVAPASAHGEKSQQAFLRMRTLNWYDVQWSKTT...LTE', IUPACProtein()), id='2517403996|2517403997|2517403998', name='BAC', description='BAC 2517403996 A3OODRAFT_2863 methane monooxygenase/ammonia monooxygenase, subunit B [Methylocystis rosea SV97T]|2517403997 A3OODRAFT_2864 methane monooxygenase/ammonia monooxygenase, subunit A [Methylocystis rosea SV97T]|2517403998 A3OODRAFT_2865 methane monooxygenase/ammonia monooxygenase, subunit C [Methylocystis rosea SV97T]', dbxrefs=[]),\n",
       " SeqRecord(seq=Seq('MSTTAQTISQSTPQAPFNLPWYLRDLPKYLLTFGVMTVIYVGFRMYQGAYAIST...KNI', IUPACProtein()), id='2517404865|2517404866|2517404867', name='CBA', description='CBA 2517404865 A3OODRAFT_3733 methane monooxygenase/ammonia monooxygenase, subunit C [Methylocystis rosea SV97T]|2517404866 A3OODRAFT_3734 methane monooxygenase/ammonia monooxygenase, subunit B [Methylocystis rosea SV97T]|2517404867 A3OODRAFT_3735 Ammonia monooxygenase. [Methylocystis rosea SV97T]', dbxrefs=[])]"
      ]
     },
     "execution_count": 908,
     "metadata": {},
     "output_type": "execute_result"
    }
   ],
   "source": [
    "records"
   ]
  },
  {
   "cell_type": "code",
   "execution_count": 887,
   "metadata": {
    "collapsed": false
   },
   "outputs": [],
   "source": [
    "my_rna = Seq(\"GUCAUGGCCAUUGUAAUGGGCCGCUGAAAGGGUGCCCGAUAGUUG\")"
   ]
  },
  {
   "cell_type": "code",
   "execution_count": 897,
   "metadata": {
    "collapsed": false
   },
   "outputs": [
    {
     "data": {
      "text/plain": [
       "140443830384016"
      ]
     },
     "execution_count": 897,
     "metadata": {},
     "output_type": "execute_result"
    }
   ],
   "source": [
    "\n",
    "record = SeqRecord(Seq(\"MKQHKAMIVALIVICITAVVAALVTRKDLCEVHIRTGQTEVAVF\",\n",
    "                       IUPAC.protein),\n",
    "                   id=\"YP_025292.1\", name=\"HokC\",\n",
    "                   description=\"toxic membrane protein, small\")"
   ]
  },
  {
   "cell_type": "code",
   "execution_count": 891,
   "metadata": {
    "collapsed": true
   },
   "outputs": [],
   "source": [
    "my_rna.id='haha'"
   ]
  },
  {
   "cell_type": "code",
   "execution_count": 893,
   "metadata": {
    "collapsed": false
   },
   "outputs": [
    {
     "data": {
      "text/plain": [
       "'haha'"
      ]
     },
     "execution_count": 893,
     "metadata": {},
     "output_type": "execute_result"
    }
   ],
   "source": [
    "my_rna.id"
   ]
  },
  {
   "cell_type": "code",
   "execution_count": 895,
   "metadata": {
    "collapsed": false
   },
   "outputs": [],
   "source": [
    "my_rna.des='hehe'"
   ]
  },
  {
   "cell_type": "code",
   "execution_count": 896,
   "metadata": {
    "collapsed": false
   },
   "outputs": [
    {
     "data": {
      "text/plain": [
       "'hehe'"
      ]
     },
     "execution_count": 896,
     "metadata": {},
     "output_type": "execute_result"
    }
   ],
   "source": [
    "my_rna.des"
   ]
  },
  {
   "cell_type": "code",
   "execution_count": null,
   "metadata": {
    "collapsed": true
   },
   "outputs": [],
   "source": []
  },
  {
   "cell_type": "code",
   "execution_count": 710,
   "metadata": {
    "collapsed": false
   },
   "outputs": [],
   "source": [
    "# for record in SeqIO.parse(filename,\"fasta\"):\n",
    "#     print(record.description)"
   ]
  },
  {
   "cell_type": "code",
   "execution_count": null,
   "metadata": {
    "collapsed": true
   },
   "outputs": [],
   "source": []
  },
  {
   "cell_type": "code",
   "execution_count": 695,
   "metadata": {
    "collapsed": false
   },
   "outputs": [
    {
     "ename": "SyntaxError",
     "evalue": "invalid syntax (<ipython-input-695-c917f59625ee>, line 2)",
     "output_type": "error",
     "traceback": [
      "\u001b[1;36m  File \u001b[1;32m\"<ipython-input-695-c917f59625ee>\"\u001b[1;36m, line \u001b[1;32m2\u001b[0m\n\u001b[1;33m    s['loc']=\u001b[0m\n\u001b[1;37m             ^\u001b[0m\n\u001b[1;31mSyntaxError\u001b[0m\u001b[1;31m:\u001b[0m invalid syntax\n"
     ]
    }
   ],
   "source": [
    "def locationAndSequence(s):\n",
    "    s['loc']="
   ]
  },
  {
   "cell_type": "code",
   "execution_count": null,
   "metadata": {
    "collapsed": true
   },
   "outputs": [],
   "source": []
  },
  {
   "cell_type": "code",
   "execution_count": null,
   "metadata": {
    "collapsed": true
   },
   "outputs": [],
   "source": []
  },
  {
   "cell_type": "code",
   "execution_count": null,
   "metadata": {
    "collapsed": true
   },
   "outputs": [],
   "source": []
  },
  {
   "cell_type": "code",
   "execution_count": null,
   "metadata": {
    "collapsed": true
   },
   "outputs": [],
   "source": []
  },
  {
   "cell_type": "code",
   "execution_count": 696,
   "metadata": {
    "collapsed": false
   },
   "outputs": [],
   "source": [
    "# for i in chunks:\n",
    "#     print(i)"
   ]
  },
  {
   "cell_type": "code",
   "execution_count": 697,
   "metadata": {
    "collapsed": false
   },
   "outputs": [],
   "source": [
    "pipe = subprocess.Popen(cmd, shell=True, stdout=subprocess.PIPE, stderr=subprocess.PIPE)"
   ]
  },
  {
   "cell_type": "code",
   "execution_count": 698,
   "metadata": {
    "collapsed": false
   },
   "outputs": [
    {
     "data": {
      "text/plain": [
       "('', '/bin/sh: 1: Syntax error: \"(\" unexpected\\n')"
      ]
     },
     "execution_count": 698,
     "metadata": {},
     "output_type": "execute_result"
    }
   ],
   "source": [
    "pipe.communicate()"
   ]
  },
  {
   "cell_type": "code",
   "execution_count": 699,
   "metadata": {
    "collapsed": false
   },
   "outputs": [],
   "source": [
    "#process = subprocess.Popen(['ls','-l'], stdout=subprocess.PIPE)\n",
    "#print(process.stdout.read())"
   ]
  },
  {
   "cell_type": "code",
   "execution_count": null,
   "metadata": {
    "collapsed": true
   },
   "outputs": [],
   "source": []
  },
  {
   "cell_type": "code",
   "execution_count": null,
   "metadata": {
    "collapsed": true
   },
   "outputs": [],
   "source": []
  },
  {
   "cell_type": "code",
   "execution_count": 700,
   "metadata": {
    "collapsed": false
   },
   "outputs": [
    {
     "ename": "TypeError",
     "evalue": "unsupported operand type(s) for +: 'int' and 'str'",
     "output_type": "error",
     "traceback": [
      "\u001b[1;31m---------------------------------------------------------------------------\u001b[0m",
      "\u001b[1;31mTypeError\u001b[0m                                 Traceback (most recent call last)",
      "\u001b[1;32m<ipython-input-700-decd5419919d>\u001b[0m in \u001b[0;36m<module>\u001b[1;34m()\u001b[0m\n\u001b[1;32m----> 1\u001b[1;33m \u001b[0mget_ipython\u001b[0m\u001b[1;33m(\u001b[0m\u001b[1;33m)\u001b[0m\u001b[1;33m.\u001b[0m\u001b[0mrun_cell_magic\u001b[0m\u001b[1;33m(\u001b[0m\u001b[1;34mu'time'\u001b[0m\u001b[1;33m,\u001b[0m \u001b[1;34mu''\u001b[0m\u001b[1;33m,\u001b[0m \u001b[1;34mu'import os\\n#hmmscan --tblout amocab_hmmscan_mros.tab  amoCAB 2517287028.genes.faa > /dev/null\\n#os.system(\"makeblastdb -in \"+input_ref_0+\" -dbtype nucl -title \"+title_db+\" -out \"+outfile_db+\" -parse_seqids\")\\nfnames=\"\"\\nflabels=\"\"\\nfor (l,f) in files:\\n    fnames+=f.name+\" \"\\n    flabels+=l+\" \"\\n#print flabels\\n    #print(l)\\n    #print(f.name)\\n    #parallel -j $1 blastall \"-p blastn -d nt/nt -i \"{}\" -o \"{.}\".xml -e 1e-10 -m 7 -K 100 -b 200\" ::: *.fa\\n    #print(\\'Exists after close:\\', os.path.exists(f.name))\\ncmd=\"parallel -j 8 hmmscan \"+\"--cpu 1\"+\" --tblout {#}.tab \" + \"../amoCAB {} ::: \"+fnames+\" > /dev/null\"\\n\\n#command=\"parallel -j 8 hmmscan \"+\"--cpu 1\"+\" --tblout {}.tab \" + \"../amoCAB {} ::: \"+fnames\\nprint(cmd)'\u001b[0m\u001b[1;33m)\u001b[0m\u001b[1;33m\u001b[0m\u001b[0m\n\u001b[0m",
      "\u001b[1;32m/usr/local/lib/python2.7/dist-packages/IPython/core/interactiveshell.pyc\u001b[0m in \u001b[0;36mrun_cell_magic\u001b[1;34m(self, magic_name, line, cell)\u001b[0m\n\u001b[0;32m   2291\u001b[0m             \u001b[0mmagic_arg_s\u001b[0m \u001b[1;33m=\u001b[0m \u001b[0mself\u001b[0m\u001b[1;33m.\u001b[0m\u001b[0mvar_expand\u001b[0m\u001b[1;33m(\u001b[0m\u001b[0mline\u001b[0m\u001b[1;33m,\u001b[0m \u001b[0mstack_depth\u001b[0m\u001b[1;33m)\u001b[0m\u001b[1;33m\u001b[0m\u001b[0m\n\u001b[0;32m   2292\u001b[0m             \u001b[1;32mwith\u001b[0m \u001b[0mself\u001b[0m\u001b[1;33m.\u001b[0m\u001b[0mbuiltin_trap\u001b[0m\u001b[1;33m:\u001b[0m\u001b[1;33m\u001b[0m\u001b[0m\n\u001b[1;32m-> 2293\u001b[1;33m                 \u001b[0mresult\u001b[0m \u001b[1;33m=\u001b[0m \u001b[0mfn\u001b[0m\u001b[1;33m(\u001b[0m\u001b[0mmagic_arg_s\u001b[0m\u001b[1;33m,\u001b[0m \u001b[0mcell\u001b[0m\u001b[1;33m)\u001b[0m\u001b[1;33m\u001b[0m\u001b[0m\n\u001b[0m\u001b[0;32m   2294\u001b[0m             \u001b[1;32mreturn\u001b[0m \u001b[0mresult\u001b[0m\u001b[1;33m\u001b[0m\u001b[0m\n\u001b[0;32m   2295\u001b[0m \u001b[1;33m\u001b[0m\u001b[0m\n",
      "\u001b[1;32m<decorator-gen-60>\u001b[0m in \u001b[0;36mtime\u001b[1;34m(self, line, cell, local_ns)\u001b[0m\n",
      "\u001b[1;32m/usr/local/lib/python2.7/dist-packages/IPython/core/magic.pyc\u001b[0m in \u001b[0;36m<lambda>\u001b[1;34m(f, *a, **k)\u001b[0m\n\u001b[0;32m    191\u001b[0m     \u001b[1;31m# but it's overkill for just that one bit of state.\u001b[0m\u001b[1;33m\u001b[0m\u001b[1;33m\u001b[0m\u001b[0m\n\u001b[0;32m    192\u001b[0m     \u001b[1;32mdef\u001b[0m \u001b[0mmagic_deco\u001b[0m\u001b[1;33m(\u001b[0m\u001b[0marg\u001b[0m\u001b[1;33m)\u001b[0m\u001b[1;33m:\u001b[0m\u001b[1;33m\u001b[0m\u001b[0m\n\u001b[1;32m--> 193\u001b[1;33m         \u001b[0mcall\u001b[0m \u001b[1;33m=\u001b[0m \u001b[1;32mlambda\u001b[0m \u001b[0mf\u001b[0m\u001b[1;33m,\u001b[0m \u001b[1;33m*\u001b[0m\u001b[0ma\u001b[0m\u001b[1;33m,\u001b[0m \u001b[1;33m**\u001b[0m\u001b[0mk\u001b[0m\u001b[1;33m:\u001b[0m \u001b[0mf\u001b[0m\u001b[1;33m(\u001b[0m\u001b[1;33m*\u001b[0m\u001b[0ma\u001b[0m\u001b[1;33m,\u001b[0m \u001b[1;33m**\u001b[0m\u001b[0mk\u001b[0m\u001b[1;33m)\u001b[0m\u001b[1;33m\u001b[0m\u001b[0m\n\u001b[0m\u001b[0;32m    194\u001b[0m \u001b[1;33m\u001b[0m\u001b[0m\n\u001b[0;32m    195\u001b[0m         \u001b[1;32mif\u001b[0m \u001b[0mcallable\u001b[0m\u001b[1;33m(\u001b[0m\u001b[0marg\u001b[0m\u001b[1;33m)\u001b[0m\u001b[1;33m:\u001b[0m\u001b[1;33m\u001b[0m\u001b[0m\n",
      "\u001b[1;32m/usr/local/lib/python2.7/dist-packages/IPython/core/magics/execution.pyc\u001b[0m in \u001b[0;36mtime\u001b[1;34m(self, line, cell, local_ns)\u001b[0m\n\u001b[0;32m   1165\u001b[0m         \u001b[1;32melse\u001b[0m\u001b[1;33m:\u001b[0m\u001b[1;33m\u001b[0m\u001b[0m\n\u001b[0;32m   1166\u001b[0m             \u001b[0mst\u001b[0m \u001b[1;33m=\u001b[0m \u001b[0mclock2\u001b[0m\u001b[1;33m(\u001b[0m\u001b[1;33m)\u001b[0m\u001b[1;33m\u001b[0m\u001b[0m\n\u001b[1;32m-> 1167\u001b[1;33m             \u001b[1;32mexec\u001b[0m\u001b[1;33m(\u001b[0m\u001b[0mcode\u001b[0m\u001b[1;33m,\u001b[0m \u001b[0mglob\u001b[0m\u001b[1;33m,\u001b[0m \u001b[0mlocal_ns\u001b[0m\u001b[1;33m)\u001b[0m\u001b[1;33m\u001b[0m\u001b[0m\n\u001b[0m\u001b[0;32m   1168\u001b[0m             \u001b[0mend\u001b[0m \u001b[1;33m=\u001b[0m \u001b[0mclock2\u001b[0m\u001b[1;33m(\u001b[0m\u001b[1;33m)\u001b[0m\u001b[1;33m\u001b[0m\u001b[0m\n\u001b[0;32m   1169\u001b[0m             \u001b[0mout\u001b[0m \u001b[1;33m=\u001b[0m \u001b[0mNone\u001b[0m\u001b[1;33m\u001b[0m\u001b[0m\n",
      "\u001b[1;32m<timed exec>\u001b[0m in \u001b[0;36m<module>\u001b[1;34m()\u001b[0m\n",
      "\u001b[1;31mTypeError\u001b[0m: unsupported operand type(s) for +: 'int' and 'str'"
     ]
    }
   ],
   "source": [
    "%%time\n",
    "import os\n",
    "#hmmscan --tblout amocab_hmmscan_mros.tab  amoCAB 2517287028.genes.faa > /dev/null\n",
    "#os.system(\"makeblastdb -in \"+input_ref_0+\" -dbtype nucl -title \"+title_db+\" -out \"+outfile_db+\" -parse_seqids\")\n",
    "fnames=\"\"\n",
    "flabels=\"\"\n",
    "for (l,f) in files:\n",
    "    fnames+=f.name+\" \"\n",
    "    flabels+=l+\" \"\n",
    "#print flabels\n",
    "    #print(l)\n",
    "    #print(f.name)\n",
    "    #parallel -j $1 blastall \"-p blastn -d nt/nt -i \"{}\" -o \"{.}\".xml -e 1e-10 -m 7 -K 100 -b 200\" ::: *.fa\n",
    "    #print('Exists after close:', os.path.exists(f.name))\n",
    "cmd=\"parallel -j 8 hmmscan \"+\"--cpu 1\"+\" --tblout {#}.tab \" + \"../amoCAB {} ::: \"+fnames+\" > /dev/null\"\n",
    "\n",
    "#command=\"parallel -j 8 hmmscan \"+\"--cpu 1\"+\" --tblout {}.tab \" + \"../amoCAB {} ::: \"+fnames\n",
    "print(cmd)"
   ]
  },
  {
   "cell_type": "code",
   "execution_count": null,
   "metadata": {
    "collapsed": true
   },
   "outputs": [],
   "source": []
  },
  {
   "cell_type": "code",
   "execution_count": 701,
   "metadata": {
    "collapsed": false
   },
   "outputs": [
    {
     "data": {
      "text/plain": [
       "2"
      ]
     },
     "execution_count": 701,
     "metadata": {},
     "output_type": "execute_result"
    }
   ],
   "source": [
    "c"
   ]
  },
  {
   "cell_type": "code",
   "execution_count": 702,
   "metadata": {
    "collapsed": false
   },
   "outputs": [
    {
     "name": "stdout",
     "output_type": "stream",
     "text": [
      "parallel -j 8 hmmscan --cpu 1 --tblout {#}.tab ../amoCAB {} ::: /tmp/tmpSqwnnp  > /dev/null\n"
     ]
    }
   ],
   "source": [
    "cmd=\"parallel -j 8 hmmscan \"+\"--cpu 1\"+\" --tblout {#}.tab \" + \"../amoCAB {} ::: \"+fnames+\" > /dev/null\"\n",
    "#flabels\n",
    "print(cmd)"
   ]
  },
  {
   "cell_type": "code",
   "execution_count": null,
   "metadata": {
    "collapsed": false
   },
   "outputs": [],
   "source": []
  },
  {
   "cell_type": "code",
   "execution_count": 703,
   "metadata": {
    "collapsed": false
   },
   "outputs": [
    {
     "data": {
      "text/plain": [
       "'../2517287028.genes.faa'"
      ]
     },
     "execution_count": 703,
     "metadata": {},
     "output_type": "execute_result"
    }
   ],
   "source": [
    "filename"
   ]
  },
  {
   "cell_type": "code",
   "execution_count": 704,
   "metadata": {
    "collapsed": false
   },
   "outputs": [
    {
     "ename": "SyntaxError",
     "evalue": "invalid syntax (<ipython-input-704-02dd9a23c7c6>, line 1)",
     "output_type": "error",
     "traceback": [
      "\u001b[1;36m  File \u001b[1;32m\"<ipython-input-704-02dd9a23c7c6>\"\u001b[1;36m, line \u001b[1;32m1\u001b[0m\n\u001b[1;33m    tmp(/tmprOkRVb.close())\u001b[0m\n\u001b[1;37m        ^\u001b[0m\n\u001b[1;31mSyntaxError\u001b[0m\u001b[1;31m:\u001b[0m invalid syntax\n"
     ]
    }
   ],
   "source": [
    "/tmp/tmprOkRVb.close()"
   ]
  },
  {
   "cell_type": "code",
   "execution_count": 705,
   "metadata": {
    "collapsed": false
   },
   "outputs": [
    {
     "ename": "AttributeError",
     "evalue": "'str' object has no attribute 'name'",
     "output_type": "error",
     "traceback": [
      "\u001b[1;31m---------------------------------------------------------------------------\u001b[0m",
      "\u001b[1;31mAttributeError\u001b[0m                            Traceback (most recent call last)",
      "\u001b[1;32m<ipython-input-705-b5159f940945>\u001b[0m in \u001b[0;36m<module>\u001b[1;34m()\u001b[0m\n\u001b[1;32m----> 1\u001b[1;33m \u001b[0mfilename\u001b[0m\u001b[1;33m.\u001b[0m\u001b[0mname\u001b[0m\u001b[1;33m\u001b[0m\u001b[0m\n\u001b[0m",
      "\u001b[1;31mAttributeError\u001b[0m: 'str' object has no attribute 'name'"
     ]
    }
   ],
   "source": [
    "filename.name"
   ]
  },
  {
   "cell_type": "code",
   "execution_count": 706,
   "metadata": {
    "collapsed": false
   },
   "outputs": [
    {
     "ename": "AttributeError",
     "evalue": "'str' object has no attribute 'seek'",
     "output_type": "error",
     "traceback": [
      "\u001b[1;31m---------------------------------------------------------------------------\u001b[0m",
      "\u001b[1;31mAttributeError\u001b[0m                            Traceback (most recent call last)",
      "\u001b[1;32m<ipython-input-706-78e952b4a357>\u001b[0m in \u001b[0;36m<module>\u001b[1;34m()\u001b[0m\n\u001b[1;32m----> 1\u001b[1;33m \u001b[0mtxt\u001b[0m\u001b[1;33m=\u001b[0m\u001b[0mfilename\u001b[0m\u001b[1;33m.\u001b[0m\u001b[0mseek\u001b[0m\u001b[1;33m(\u001b[0m\u001b[1;36m0\u001b[0m\u001b[1;33m)\u001b[0m\u001b[1;33m\u001b[0m\u001b[0m\n\u001b[0m\u001b[0;32m      2\u001b[0m \u001b[0mtxt\u001b[0m\u001b[1;33m=\u001b[0m\u001b[0mfilename\u001b[0m\u001b[1;33m.\u001b[0m\u001b[0mread\u001b[0m\u001b[1;33m(\u001b[0m\u001b[1;33m)\u001b[0m\u001b[1;33m\u001b[0m\u001b[0m\n\u001b[0;32m      3\u001b[0m \u001b[1;31m#txt\u001b[0m\u001b[1;33m\u001b[0m\u001b[1;33m\u001b[0m\u001b[0m\n",
      "\u001b[1;31mAttributeError\u001b[0m: 'str' object has no attribute 'seek'"
     ]
    }
   ],
   "source": [
    "txt=filename.seek(0)\n",
    "txt=filename.read()\n",
    "#txt"
   ]
  },
  {
   "cell_type": "code",
   "execution_count": 707,
   "metadata": {
    "collapsed": false
   },
   "outputs": [
    {
     "data": {
      "text/plain": [
       "'../2517287028.genes.faa'"
      ]
     },
     "execution_count": 707,
     "metadata": {},
     "output_type": "execute_result"
    }
   ],
   "source": [
    "filename"
   ]
  },
  {
   "cell_type": "code",
   "execution_count": 708,
   "metadata": {
    "collapsed": false
   },
   "outputs": [
    {
     "ename": "NameError",
     "evalue": "name 'txt2' is not defined",
     "output_type": "error",
     "traceback": [
      "\u001b[1;31m---------------------------------------------------------------------------\u001b[0m",
      "\u001b[1;31mNameError\u001b[0m                                 Traceback (most recent call last)",
      "\u001b[1;32m<ipython-input-708-802c5d423ef4>\u001b[0m in \u001b[0;36m<module>\u001b[1;34m()\u001b[0m\n\u001b[1;32m----> 1\u001b[1;33m \u001b[0mtxt2\u001b[0m\u001b[1;33m\u001b[0m\u001b[0m\n\u001b[0m",
      "\u001b[1;31mNameError\u001b[0m: name 'txt2' is not defined"
     ]
    }
   ],
   "source": [
    "txt2"
   ]
  },
  {
   "cell_type": "code",
   "execution_count": 709,
   "metadata": {
    "collapsed": true
   },
   "outputs": [],
   "source": [
    "#Coool"
   ]
  },
  {
   "cell_type": "code",
   "execution_count": 26,
   "metadata": {
    "collapsed": true
   },
   "outputs": [],
   "source": [
    "txt2=filename.read()"
   ]
  },
  {
   "cell_type": "markdown",
   "metadata": {},
   "source": [
    "## In-memory files\n",
    "[https://stackoverflow.com/questions/23028071/open-a-file-in-memory]"
   ]
  },
  {
   "cell_type": "code",
   "execution_count": 11,
   "metadata": {
    "collapsed": false
   },
   "outputs": [
    {
     "name": "stdout",
     "output_type": "stream",
     "text": [
      "First line.\n",
      "Second line.\n",
      "\n"
     ]
    }
   ],
   "source": [
    "#import io##for python3\n",
    "import StringIO\n",
    "\n",
    "output = StringIO.StringIO()\n",
    "output.write('First line.\\n')\n",
    "print >>output, 'Second line.'\n",
    "\n",
    "# Retrieve file contents -- this will be\n",
    "# 'First line.\\nSecond line.\\n'\n",
    "contents = output.getvalue()\n",
    "print(contents)\n",
    "# Close object and discard memory buffer --\n",
    "# .getvalue() will now raise an exception.\n",
    "output.close()\n"
   ]
  },
  {
   "cell_type": "markdown",
   "metadata": {},
   "source": [
    "## Redoing generator with an in-memory implementation"
   ]
  },
  {
   "cell_type": "code",
   "execution_count": 15,
   "metadata": {
    "collapsed": true
   },
   "outputs": [],
   "source": [
    "import StringIO"
   ]
  },
  {
   "cell_type": "code",
   "execution_count": 21,
   "metadata": {
    "collapsed": false
   },
   "outputs": [
    {
     "name": "stdout",
     "output_type": "stream",
     "text": [
      "Wrote 3891 records to <StringIO.StringIO instance at 0x7f5bc2c582d8>\n",
      "CPU times: user 58.6 ms, sys: 128 µs, total: 58.7 ms\n",
      "Wall time: 58.7 ms\n"
     ]
    }
   ],
   "source": [
    "%%time\n",
    "from Bio import SeqIO\n",
    "import StringIO\n",
    "#output = io.StringIO()\n",
    "record_iter = SeqIO.parse(open(\"../2517287028.genes.faa\"),\"fasta\")\n",
    "for i, batch in enumerate(batch_iterator(record_iter, 50000)):\n",
    "    filename = \"group_%i.fastq\" % (i + 1)\n",
    "    filename = StringIO.StringIO()\n",
    "    \n",
    "    count = SeqIO.write(batch, filename, \"fasta\")\n",
    "    print(\"Wrote %i records to %s\" % (count, filename))"
   ]
  },
  {
   "cell_type": "code",
   "execution_count": 24,
   "metadata": {
    "collapsed": false
   },
   "outputs": [
    {
     "data": {
      "text/plain": [
       "['__doc__',\n",
       " '__init__',\n",
       " '__iter__',\n",
       " '__module__',\n",
       " 'buf',\n",
       " 'buflist',\n",
       " 'close',\n",
       " 'closed',\n",
       " 'flush',\n",
       " 'getvalue',\n",
       " 'isatty',\n",
       " 'len',\n",
       " 'next',\n",
       " 'pos',\n",
       " 'read',\n",
       " 'readline',\n",
       " 'readlines',\n",
       " 'seek',\n",
       " 'softspace',\n",
       " 'tell',\n",
       " 'truncate',\n",
       " 'write',\n",
       " 'writelines']"
      ]
     },
     "execution_count": 24,
     "metadata": {},
     "output_type": "execute_result"
    }
   ],
   "source": [
    "dir(filename)"
   ]
  },
  {
   "cell_type": "markdown",
   "metadata": {},
   "source": [
    "## memory map\n",
    "[https://docs.python.org/2/library/mmap.html]"
   ]
  },
  {
   "cell_type": "code",
   "execution_count": null,
   "metadata": {
    "collapsed": true
   },
   "outputs": [],
   "source": [
    "import mmap\n",
    "from Bio import SeqIO\n",
    "#import StringIO\n",
    "\n",
    "record_iter = SeqIO.parse(open(\"../76969.assembled.faa\"),\"fasta\")\n",
    "for i, batch in enumerate(batch_iterator(record_iter, 50000)):\n",
    "    filename = \"group_%i.fastq\" % (i + 1)\n",
    "    with open(filename, \"w\") as handle:\n",
    "        count = SeqIO.write(batch, handle, \"fasta\")\n",
    "    print(\"Wrote %i records to %s\" % (count, filename))"
   ]
  },
  {
   "cell_type": "code",
   "execution_count": null,
   "metadata": {
    "collapsed": true
   },
   "outputs": [],
   "source": []
  }
 ],
 "metadata": {
  "anaconda-cloud": {},
  "kernelspec": {
   "display_name": "Python 2",
   "language": "python",
   "name": "python2"
  },
  "language_info": {
   "codemirror_mode": {
    "name": "ipython",
    "version": 2
   },
   "file_extension": ".py",
   "mimetype": "text/x-python",
   "name": "python",
   "nbconvert_exporter": "python",
   "pygments_lexer": "ipython2",
   "version": "2.7.6"
  }
 },
 "nbformat": 4,
 "nbformat_minor": 0
}
