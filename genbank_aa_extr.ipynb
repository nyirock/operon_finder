{
 "cells": [
  {
   "cell_type": "code",
   "execution_count": 2,
   "metadata": {
    "collapsed": false
   },
   "outputs": [
    {
     "name": "stdout",
     "output_type": "stream",
     "text": [
      "Name AE017199, 1107 features\n",
      "Seq('TCTCGCAGAGTTCTTTTTTGTATTAACAAACCCAAAACCCATAGAATTTAATGA...TTA', IUPACAmbiguousDNA())\n"
     ]
    }
   ],
   "source": [
    "from Bio import SeqIO\n",
    "gb_file = \"sequence.gb\"\n",
    "for gb_record in SeqIO.parse(open(gb_file,\"r\"), \"genbank\") :\n",
    "    # now do something with the record\n",
    "    print(\"Name %s, %i features\" % (gb_record.name, len(gb_record.features)))\n",
    "    print(repr(gb_record.seq))"
   ]
  },
  {
   "cell_type": "markdown",
   "metadata": {},
   "source": [
    "# A nice tutorial at warwick uni\n",
    "[https://www2.warwick.ac.uk/fac/sci/moac/people/students/peter_cock/python/genbank2fasta/]\n",
    "\n",
    "[https://www2.warwick.ac.uk/fac/sci/moac/people/students/peter_cock/python/genbank/]"
   ]
  },
  {
   "cell_type": "code",
   "execution_count": 3,
   "metadata": {
    "collapsed": false
   },
   "outputs": [
    {
     "name": "stdout",
     "output_type": "stream",
     "text": [
      "Dealing with GenBank record AE017199.1\n"
     ]
    }
   ],
   "source": [
    "from Bio import SeqIO\n",
    "gbk_filename = \"sequence.gb\"\n",
    "faa_filename = \"NC_005213_converted.faa\"\n",
    "input_handle  = open(gbk_filename, \"r\")\n",
    "output_handle = open(faa_filename, \"w\")\n",
    "\n",
    "for seq_record in SeqIO.parse(input_handle, \"genbank\") :\n",
    "    print \"Dealing with GenBank record %s\" % seq_record.id\n",
    "    for seq_feature in seq_record.features :\n",
    "        if seq_feature.type==\"CDS\" :\n",
    "            assert len(seq_feature.qualifiers['translation'])==1\n",
    "            output_handle.write(\">%s from %s\\n%s\\n\" % (\n",
    "                   seq_feature.qualifiers['locus_tag'][0],\n",
    "                   seq_record.name,\n",
    "                   seq_feature.qualifiers['translation'][0]))\n",
    "\n",
    "output_handle.close()\n",
    "input_handle.close()"
   ]
  },
  {
   "cell_type": "code",
   "execution_count": null,
   "metadata": {
    "collapsed": true
   },
   "outputs": [],
   "source": []
  },
  {
   "cell_type": "code",
   "execution_count": null,
   "metadata": {
    "collapsed": true
   },
   "outputs": [],
   "source": [
    "#!/usr/bin/python\n",
    "\n",
    "__author__ = \"Andriy Sheremet\"\n",
    "\n",
    "\n",
    "import getopt\n",
    "import sys\n",
    "from Bio import  SeqIO\n",
    "from Bio.SeqUtils import GC\n",
    "import operator\n",
    "\n",
    "\n",
    "pars ={}\n",
    "\n",
    "pars[\"infile\"] = \"\"\n",
    "\n",
    "\n",
    "def usage():\n",
    "    print \"\\nThis is the usage function:\\n\"\n",
    "\n",
    "    \n",
    "\n",
    "def main(argv):\n",
    "    \n",
    "    #default parameters\n",
    "    global pars\n",
    "             \n",
    "    try:                                \n",
    "        opts, args = getopt.getopt(argv, \"i:h\", [\"input=\", \"help\"])\n",
    "    except getopt.GetoptError:          \n",
    "        usage()                         \n",
    "        sys.exit(2)                     \n",
    "    for opt, arg in opts:                \n",
    "        if opt in (\"-h\", \"--help\"):      \n",
    "            usage()\n",
    "            supported_operations()\n",
    "            sys.exit()                  \n",
    "        elif opt in (\"-i\", \"--input\"):\n",
    "            if arg:\n",
    "                pars[\"infile\"] = arg\n",
    "            #print \"Input file\", arg                  \n",
    "\t#print(\"hehe\")\n",
    "\t#print(pars['infile'])\n",
    "    extract_features(pars)\n",
    "\n",
    "    \n",
    "def extract_features(params):\n",
    "\tprint(\"extract_features() is called\")\n",
    "\t\n",
    "\tif params[\"infile\"]:\n",
    "\t\ttry:\n",
    "            #\n",
    "            handle = open(params[\"infile\"], \"rU\")\n",
    "        except:\n",
    "            print \"\\nERROR: Input file doesn't exist\"\n",
    "            usage()\n",
    "            sys.exit(1)\n",
    "    else:\n",
    "        try:\n",
    "            #\n",
    "            handle = sys.stdin\n",
    "        except:\n",
    "            print \"\\nERROR: Input file doesn't exist\"\n",
    "            usage()\n",
    "            sys.exit(1)\n",
    "\n",
    "\t\n",
    "\tfaa_filename = \"_converted.faa\"\n",
    "\tprint(\"hehe\")\n",
    "\t#print(type(faa_filename))\n",
    "\toutput_handle = open(faa_filename, \"w\")\n",
    "\tprint(\"haha\")\n",
    "\tfor seq_record in SeqIO.parse(handle, \"genbank\") :\n",
    "\t\tprint \"Dealing with GenBank record %s\" % seq_record.id\n",
    "\t\tfor seq_feature in seq_record.features :\n",
    "\t\t\tif seq_feature.type==\"CDS\" :\n",
    "\t\t\t\tassert len(seq_feature.qualifiers['translation'])==1\n",
    "\t\t\t\toutput_handle.write(\">%s from %s\\n%s\\n\" % (seq_feature.qualifiers['locus_tag'][0],seq_record.name,seq_feature.qualifiers['translation'][0]))\n",
    "\t\t\t\t\n",
    "\toutput_handle.close()\n",
    "\thandle.close()\n",
    "\t\n",
    "if __name__ == \"__main__\":\n",
    "\tmain(sys.argv[1:])\n"
   ]
  },
  {
   "cell_type": "code",
   "execution_count": null,
   "metadata": {
    "collapsed": true
   },
   "outputs": [],
   "source": []
  }
 ],
 "metadata": {
  "kernelspec": {
   "display_name": "Python [conda root]",
   "language": "python",
   "name": "conda-root-py"
  },
  "language_info": {
   "codemirror_mode": {
    "name": "ipython",
    "version": 2
   },
   "file_extension": ".py",
   "mimetype": "text/x-python",
   "name": "python",
   "nbconvert_exporter": "python",
   "pygments_lexer": "ipython2",
   "version": "2.7.12"
  }
 },
 "nbformat": 4,
 "nbformat_minor": 1
}
