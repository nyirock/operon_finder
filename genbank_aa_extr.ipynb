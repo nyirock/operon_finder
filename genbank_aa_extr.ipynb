{
 "cells": [
  {
   "cell_type": "code",
   "execution_count": 1,
   "metadata": {
    "collapsed": false
   },
   "outputs": [
    {
     "name": "stdout",
     "output_type": "stream",
     "text": [
      "Name AE017199, 1107 features\n",
      "Seq('TCTCGCAGAGTTCTTTTTTGTATTAACAAACCCAAAACCCATAGAATTTAATGA...TTA', IUPACAmbiguousDNA())\n"
     ]
    }
   ],
   "source": [
    "from Bio import SeqIO\n",
    "gb_file = \"sequence.gb\"\n",
    "for gb_record in SeqIO.parse(open(gb_file,\"r\"), \"genbank\") :\n",
    "    # now do something with the record\n",
    "    print(\"Name %s, %i features\" % (gb_record.name, len(gb_record.features)))\n",
    "    print(repr(gb_record.seq))"
   ]
  },
  {
   "cell_type": "markdown",
   "metadata": {},
   "source": [
    "# A nice tutorial at warwick uni\n",
    "[https://www2.warwick.ac.uk/fac/sci/moac/people/students/peter_cock/python/genbank2fasta/]\n",
    "\n",
    "[https://www2.warwick.ac.uk/fac/sci/moac/people/students/peter_cock/python/genbank/]"
   ]
  },
  {
   "cell_type": "code",
   "execution_count": 3,
   "metadata": {
    "collapsed": false
   },
   "outputs": [
    {
     "name": "stdout",
     "output_type": "stream",
     "text": [
      "Dealing with GenBank record AE017199.1\n"
     ]
    }
   ],
   "source": [
    "from Bio import SeqIO\n",
    "gbk_filename = \"sequence.gb\"\n",
    "faa_filename = \"NC_005213_converted.faa\"\n",
    "input_handle  = open(gbk_filename, \"r\")\n",
    "output_handle = open(faa_filename, \"w\")\n",
    "\n",
    "for seq_record in SeqIO.parse(input_handle, \"genbank\") :\n",
    "    print \"Dealing with GenBank record %s\" % seq_record.id\n",
    "    for seq_feature in seq_record.features :\n",
    "        if seq_feature.type==\"CDS\" :\n",
    "            assert len(seq_feature.qualifiers['translation'])==1\n",
    "            output_handle.write(\">%s from %s\\n%s\\n\" % (\n",
    "                   seq_feature.qualifiers['locus_tag'][0],\n",
    "                   seq_record.name,\n",
    "                   seq_feature.qualifiers['translation'][0]))\n",
    "\n",
    "output_handle.close()\n",
    "input_handle.close()"
   ]
  },
  {
   "cell_type": "markdown",
   "metadata": {
    "collapsed": true
   },
   "source": []
  },
  {
   "cell_type": "code",
   "execution_count": 4,
   "metadata": {
    "collapsed": true
   },
   "outputs": [],
   "source": [
    "from Bio import SeqIO"
   ]
  },
  {
   "cell_type": "code",
   "execution_count": 2,
   "metadata": {
    "collapsed": false
   },
   "outputs": [],
   "source": [
    "#dir(SeqIO)"
   ]
  },
  {
   "cell_type": "code",
   "execution_count": 6,
   "metadata": {
    "collapsed": false
   },
   "outputs": [
    {
     "name": "stdout",
     "output_type": "stream",
     "text": [
      "['C:\\\\Users\\\\andriy\\\\Anaconda2\\\\lib\\\\site-packages\\\\Bio\\\\SeqIO']\n"
     ]
    }
   ],
   "source": [
    "print(SeqIO.__path__)"
   ]
  },
  {
   "cell_type": "code",
   "execution_count": null,
   "metadata": {
    "collapsed": true
   },
   "outputs": [],
   "source": []
  },
  {
   "cell_type": "code",
   "execution_count": null,
   "metadata": {
    "collapsed": true
   },
   "outputs": [],
   "source": []
  },
  {
   "cell_type": "code",
   "execution_count": 3,
   "metadata": {
    "collapsed": false
   },
   "outputs": [],
   "source": [
    "#dir(record.features[4])"
   ]
  },
  {
   "cell_type": "code",
   "execution_count": null,
   "metadata": {
    "collapsed": true
   },
   "outputs": [],
   "source": []
  },
  {
   "cell_type": "code",
   "execution_count": 7,
   "metadata": {
    "collapsed": false
   },
   "outputs": [],
   "source": [
    "record=SeqIO.read('NC_005816.gb', 'genbank')"
   ]
  },
  {
   "cell_type": "code",
   "execution_count": 44,
   "metadata": {
    "collapsed": false
   },
   "outputs": [
    {
     "data": {
      "text/plain": [
       "'NC_005816.1'"
      ]
     },
     "execution_count": 44,
     "metadata": {},
     "output_type": "execute_result"
    }
   ],
   "source": [
    "record.id"
   ]
  },
  {
   "cell_type": "code",
   "execution_count": 4,
   "metadata": {
    "collapsed": false
   },
   "outputs": [],
   "source": [
    "# count=0\n",
    "# for item in record.features:\n",
    "#     count+=1\n",
    "    \n",
    "#     if item.type == 'CDS':\n",
    "#         print(count)\n",
    "#         print item"
   ]
  },
  {
   "cell_type": "code",
   "execution_count": null,
   "metadata": {
    "collapsed": true
   },
   "outputs": [],
   "source": []
  },
  {
   "cell_type": "code",
   "execution_count": null,
   "metadata": {
    "collapsed": true
   },
   "outputs": [],
   "source": []
  },
  {
   "cell_type": "code",
   "execution_count": 31,
   "metadata": {
    "collapsed": false
   },
   "outputs": [],
   "source": [
    "f=record.features[3]"
   ]
  },
  {
   "cell_type": "code",
   "execution_count": 32,
   "metadata": {
    "collapsed": false
   },
   "outputs": [
    {
     "data": {
      "text/plain": [
       "Bio.SeqFeature.SeqFeature"
      ]
     },
     "execution_count": 32,
     "metadata": {},
     "output_type": "execute_result"
    }
   ],
   "source": [
    "type(f)"
   ]
  },
  {
   "cell_type": "code",
   "execution_count": 35,
   "metadata": {
    "collapsed": false
   },
   "outputs": [
    {
     "data": {
      "text/plain": [
       "'CDS'"
      ]
     },
     "execution_count": 35,
     "metadata": {},
     "output_type": "execute_result"
    }
   ],
   "source": [
    "f.type"
   ]
  },
  {
   "cell_type": "code",
   "execution_count": 5,
   "metadata": {
    "collapsed": false
   },
   "outputs": [],
   "source": [
    "#dir(f)"
   ]
  },
  {
   "cell_type": "code",
   "execution_count": 46,
   "metadata": {
    "collapsed": false
   },
   "outputs": [
    {
     "data": {
      "text/plain": [
       "list"
      ]
     },
     "execution_count": 46,
     "metadata": {},
     "output_type": "execute_result"
    }
   ],
   "source": [
    "type(f.qualifiers.get('translation'))"
   ]
  },
  {
   "cell_type": "markdown",
   "metadata": {
    "collapsed": true
   },
   "source": [
    "# Chapter 19 of Python for Bioinformatics"
   ]
  },
  {
   "cell_type": "code",
   "execution_count": null,
   "metadata": {
    "collapsed": true
   },
   "outputs": [],
   "source": []
  },
  {
   "cell_type": "code",
   "execution_count": 6,
   "metadata": {
    "collapsed": true
   },
   "outputs": [],
   "source": [
    "from Bio import SeqIO, SeqRecord, Seq\n",
    "from Bio.Alphabet import IUPAC\n",
    "\n",
    "GB_FILE = 'NC_006581.gb'\n",
    "OUT_FILE = 'nadh.fasta'\n",
    "with open(GB_FILE) as gb_fh:\n",
    "    record = SeqIO.read(gb_fh, 'genbank')\n",
    "seqs_for_fasta = []\n",
    "for feature in record.features:\n",
    "    # Each Genbank record may have several features, the program\n",
    "    # will walk over all of them.\n",
    "    qualifier = feature.qualifiers\n",
    "    # Each feature has several parameters\n",
    "    # Pick selected parameters.\n",
    "    if 'NADH' in qualifier.get('product',[''])[0] and \\\n",
    "    'product' in qualifier and 'translation' in qualifier:\n",
    "        id_ = qualifier['db_xref'][0][3:]\n",
    "        desc = qualifier['product'][0]\n",
    "        # nadh_sq is a NADH protein sequence\n",
    "        nadh_sq = Seq.Seq(qualifier['translation'][0], IUPAC.protein)\n",
    "        # 'srec' is a SeqRecord object from nadh_sq sequence.\n",
    "        srec = SeqRecord.SeqRecord(nadh_sq, id=id_, description=desc)\n",
    "        # Add this SeqRecord object into seqsforfasta list.\n",
    "        seqs_for_fasta.append(srec)\n",
    "with open(OUT_FILE, 'w') as outf:\n",
    "    # Write all the sequences as a FASTA file.\n",
    "    SeqIO.write(seqs_for_fasta, outf, 'fasta')"
   ]
  },
  {
   "cell_type": "code",
   "execution_count": null,
   "metadata": {
    "collapsed": true
   },
   "outputs": [],
   "source": []
  },
  {
   "cell_type": "code",
   "execution_count": 37,
   "metadata": {
    "collapsed": false
   },
   "outputs": [],
   "source": [
    "from Bio import SeqIO, SeqRecord, Seq\n",
    "from Bio.Alphabet import IUPAC\n",
    "\n",
    "GB_FILE = 'mrosea_contigs.gb'\n",
    "OUT_FILE = 'mrosea_proteins.fasta'\n",
    "seqs_for_fasta = []\n",
    "with open(GB_FILE) as gb_fh:\n",
    "    for record in SeqIO.parse(gb_fh, 'genbank'):\n",
    "\n",
    "        for feature in record.features:\n",
    "            # Each Genbank record may have several features, the program\n",
    "            # will walk over all of them.\n",
    "            qualifier = feature.qualifiers\n",
    "        #     print(\"<<\")\n",
    "        #     print(qualifier)\n",
    "        #     print(\">>\")\n",
    "            if 'product' in qualifier and 'translation' in qualifier:#we've got a protein\n",
    "                id_ = qualifier['db_xref'][0][3:]\n",
    "                desc = qualifier['product'][0]\n",
    "                sq = Seq.Seq(qualifier['translation'][0], IUPAC.protein)\n",
    "                srec = SeqRecord.SeqRecord(sq, id=id_, description=desc)\n",
    "                seqs_for_fasta.append(srec)\n",
    "\n",
    "with open(OUT_FILE, 'w') as outf:\n",
    "    # Write all the sequences as a FASTA file.\n",
    "    SeqIO.write(seqs_for_fasta, outf, 'fasta')"
   ]
  },
  {
   "cell_type": "code",
   "execution_count": null,
   "metadata": {
    "collapsed": true
   },
   "outputs": [],
   "source": []
  },
  {
   "cell_type": "code",
   "execution_count": null,
   "metadata": {
    "collapsed": true
   },
   "outputs": [],
   "source": []
  },
  {
   "cell_type": "code",
   "execution_count": null,
   "metadata": {
    "collapsed": true
   },
   "outputs": [],
   "source": []
  },
  {
   "cell_type": "code",
   "execution_count": null,
   "metadata": {
    "collapsed": true
   },
   "outputs": [],
   "source": []
  },
  {
   "cell_type": "code",
   "execution_count": null,
   "metadata": {
    "collapsed": true
   },
   "outputs": [],
   "source": []
  }
 ],
 "metadata": {
  "anaconda-cloud": {},
  "kernelspec": {
   "display_name": "Python 2",
   "language": "python",
   "name": "python2"
  },
  "language_info": {
   "codemirror_mode": {
    "name": "ipython",
    "version": 2
   },
   "file_extension": ".py",
   "mimetype": "text/x-python",
   "name": "python",
   "nbconvert_exporter": "python",
   "pygments_lexer": "ipython2",
   "version": "2.7.11"
  }
 },
 "nbformat": 4,
 "nbformat_minor": 1
}
